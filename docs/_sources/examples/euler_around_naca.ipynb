{
 "cells": [
  {
   "cell_type": "markdown",
   "id": "494717cd",
   "metadata": {},
   "source": [
    "## Example 1"
   ]
  },
  {
   "cell_type": "code",
   "execution_count": null,
   "id": "fa492a0d",
   "metadata": {},
   "outputs": [],
   "source": [
    "# Import modules\n",
    "import ngsolve as ngs\n",
    "import netgen.occ as occ\n",
    "from ngsolve.webgui import Draw\n",
    "from dream.mesh import get_2d_naca_occ_profile\n",
    "from dream.compressible import CompressibleFlowSolver, FarField, InviscidWall, flowfields"
   ]
  },
  {
   "cell_type": "code",
   "execution_count": null,
   "id": "bfa88091",
   "metadata": {},
   "outputs": [],
   "source": [
    "# Create Geometry\n",
    "air = occ.WorkPlane().Circle(0, 0, 2).Face()\n",
    "for edge in air.edges:\n",
    "    edge.name = \"farfield\"\n",
    "airfoil = get_2d_naca_occ_profile('2412', 10, 200)\n",
    "airfoil = airfoil.Move(occ.gp_Vec((-0.5, 0, 0)))\n",
    "for edge in airfoil.edges:\n",
    "    edge.name = \"airfoil\"\n",
    "    edge.maxh = 0.05\n",
    "\n",
    "geo = occ.OCCGeometry(air-airfoil, dim=2)\n",
    "mesh = ngs.Mesh(geo.GenerateMesh(maxh=0.3, grading=0.2))\n",
    "mesh.Curve(3)\n",
    "Draw(mesh)"
   ]
  }
 ],
 "metadata": {
  "kernelspec": {
   "display_name": "ngspy",
   "language": "python",
   "name": "python3"
  },
  "language_info": {
   "codemirror_mode": {
    "name": "ipython",
    "version": 3
   },
   "file_extension": ".py",
   "mimetype": "text/x-python",
   "name": "python",
   "nbconvert_exporter": "python",
   "pygments_lexer": "ipython3",
   "version": "3.12.3"
  }
 },
 "nbformat": 4,
 "nbformat_minor": 5
}
