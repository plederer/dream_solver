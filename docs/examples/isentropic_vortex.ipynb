{
 "cells": [
  {
   "cell_type": "markdown",
   "id": "ab1837f8-02a2-4b53-8b4d-ed9318fb81ee",
   "metadata": {},
   "source": [
    "## Isentropic Vortex in 2D\n",
    "\n",
    "This example is taken from **Spiegel et al. (2015)**, namely Section *IV.A.1*. Hence, the exact solution is based on the Gaussian pulse\n",
    "$$\n",
    "\\Omega = \\beta e^{f},\n",
    "$$\n",
    "where $f(x,y) = -\\frac{1}{2\\sigma^2} \\Big( r^2/ R^2 \\Big)$, with $r^2 = (x-x_c)^2 + (y-y_c)^2$ and $(x_c, y_c)$ corresponds to the initial location of the pulse. Using this function, we define the perturbations to the velocity and temperature as\n",
    "$$\n",
    "\\delta u = - \\big( y/R \\big) \\Omega, \\qquad\n",
    "\\delta v =   \\big( x/R \\big) \\Omega, \\qquad\n",
    "\\delta T = - \\big( \\overline{\\gamma}/2 \\big) \\Omega^2,\n",
    "$$\n",
    "with $\\overline{\\gamma} = \\gamma - 1$ and the specific heat ratio is taken as $\\gamma = 1.4$.\n",
    "\n",
    "Afterwards, these perturbations along with an isentropic flow assumption ($\\delta s = 0$, where $s = p/\\rho^\\gamma$), we generate the analytic solution. In primitive variables, this reads\n",
    "$$\n",
    "\\rho = \\big( 1 + \\delta T\\big)^{1/\\overline{\\gamma}},\\qquad\n",
    "u = M_\\infty \\cos \\alpha + \\delta u,\\qquad \n",
    "v = M_\\infty \\sin \\alpha + \\delta v,\\qquad\n",
    "p = \\rho^{\\gamma}/\\gamma,\n",
    "$$\n",
    "where $M_\\infty$ is the mean Mach number and $\\alpha$ is the flow angle, taken with respect to the $x$-axis.\n",
    "\n",
    "Following d'Alembert's solution, the above analytic solution at any given time is simply the shift of the initial condition ($t = t_0$). This can be represented by substituting the initial coordinates $x$ and $y$ with\n",
    "$$\n",
    "x(t) = x - u_\\infty t,\\qquad\n",
    "y(t) = y - v_\\infty t,\n",
    "$$\n",
    "where $(u_\\infty, v_\\infty)$ is the mean velocity, obtained from the Mach number and flow direction via $u_\\infty = M_\\infty \\cos \\alpha$ and $v_\\infty = M_\\infty \\sin \\alpha$.\n",
    "\n",
    "For this specific example, the parameters used are: a mean Mach number of $M_\\infty = 0.5$, a Gaussian amplitude of $\\beta = M_\\infty \\frac{5 \\sqrt{2}}{4 \\pi} e^{1/2}$ with a characteristic width of $R = 1$,  a flow angle of $\\alpha = 45^{\\circ}$ on a grid $\\boldsymbol{x} \\in [-5,+5]^2$ with an initial pulse center situated at $(x_c, y_c) = (0, 0)$. The total duration of this simulation is taken as $t \\in [0,5]$. Note, all variables are non-dimensional, by definition.\n",
    "\n",
    "[1] **Spiegel, Seth C., H. T. Huynh, and James R. DeBonis.**  \n",
    "\"A Survey of the Isentropic Euler Vortex Problem Using High-Order Methods.\"  \n",
    "*22nd AIAA Computational Fluid Dynamics Conference*, 2015.\n"
   ]
  },
  {
   "cell_type": "code",
   "execution_count": 1,
   "id": "a7098365-8928-44fc-a820-e2c122cf4028",
   "metadata": {
    "execution": {
     "iopub.execute_input": "2025-06-11T08:13:46.270054Z",
     "iopub.status.busy": "2025-06-11T08:13:46.269703Z",
     "iopub.status.idle": "2025-06-11T08:13:46.820406Z",
     "shell.execute_reply": "2025-06-11T08:13:46.820146Z"
    }
   },
   "outputs": [],
   "source": [
    "# Import preliminary modules.\n",
    "from dream import *\n",
    "from dream.compressible import Initial, CompressibleFlowSolver, flowfields\n",
    "import ngsolve as ngs "
   ]
  },
  {
   "cell_type": "code",
   "execution_count": 2,
   "id": "ac94caa7-86bb-453f-96b0-40e0b8ef2609",
   "metadata": {
    "execution": {
     "iopub.execute_input": "2025-06-11T08:13:46.821845Z",
     "iopub.status.busy": "2025-06-11T08:13:46.821748Z",
     "iopub.status.idle": "2025-06-11T08:13:46.824076Z",
     "shell.execute_reply": "2025-06-11T08:13:46.823849Z"
    }
   },
   "outputs": [],
   "source": [
    "# Define the grid.\n",
    "from netgen.occ import OCCGeometry, WorkPlane\n",
    "from netgen.meshing import IdentificationType\n",
    "\n",
    "def CreateSimpleGrid(ne, lx, ly):\n",
    "\n",
    "    # Select a common element size.\n",
    "    h0 = min( lx, ly )/float(ne)\n",
    "\n",
    "    # Generate a simple rectangular geometry.\n",
    "    domain = WorkPlane().RectangleC(lx, ly).Face()\n",
    "\n",
    "    # Assign the name of the internal solution in the domain.\n",
    "    domain.name = 'internal'\n",
    "\n",
    "    # For convenience, extract and name each of the edges consistently.\n",
    "    bottom = domain.edges[0]; bottom.name = 'bottom'\n",
    "    right  = domain.edges[1]; right.name  = 'right'\n",
    "    top    = domain.edges[2]; top.name    = 'top'\n",
    "    left   = domain.edges[3]; left.name   = 'left'\n",
    "\n",
    "    # Pair the boundaries in each direction: vertical and horizontal.\n",
    "    bottom.Identify(top, \"ydir\", IdentificationType.PERIODIC)\n",
    "    right.Identify(left, \"xdir\", IdentificationType.PERIODIC)\n",
    "\n",
    "    # Initialize a rectangular 2D geometry.\n",
    "    geo = OCCGeometry(domain, dim=2)\n",
    "\n",
    "    # Discretize the domain.\n",
    "    mesh = ngs.Mesh(geo.GenerateMesh(maxh=h0, quad_dominated=True))\n",
    "\n",
    "    # Return our fancy grid.\n",
    "    return mesh\n"
   ]
  },
  {
   "cell_type": "code",
   "execution_count": 3,
   "id": "611f77b5-5e28-41f2-97f3-de59993c4568",
   "metadata": {
    "execution": {
     "iopub.execute_input": "2025-06-11T08:13:46.825197Z",
     "iopub.status.busy": "2025-06-11T08:13:46.825107Z",
     "iopub.status.idle": "2025-06-11T08:13:46.833961Z",
     "shell.execute_reply": "2025-06-11T08:13:46.833759Z"
    }
   },
   "outputs": [],
   "source": [
    "# Generate the grid.\n",
    "\n",
    "# Number of elements per dimension.\n",
    "ne = 10\n",
    "\n",
    "# Dimension of the rectangular domain.\n",
    "lx = 10.0 \n",
    "ly = 10.0 \n",
    "\n",
    "# Generate a simple grid.\n",
    "mesh = CreateSimpleGrid(ne, lx, ly)\n",
    "\n",
    "# Message output detail from netgen.\n",
    "ngs.ngsglobals.msg_level = 0 \n",
    "ngs.SetNumThreads(4)"
   ]
  },
  {
   "cell_type": "code",
   "execution_count": 4,
   "id": "67aa26d3-f393-4a37-b9a7-3eae3fbf72c9",
   "metadata": {
    "execution": {
     "iopub.execute_input": "2025-06-11T08:13:46.835033Z",
     "iopub.status.busy": "2025-06-11T08:13:46.834891Z",
     "iopub.status.idle": "2025-06-11T08:13:46.838862Z",
     "shell.execute_reply": "2025-06-11T08:13:46.838647Z"
    }
   },
   "outputs": [],
   "source": [
    "# Class containing all the parameters to define an isentropic vortex. \n",
    "class IsentropicVortexParam:\n",
    "    def __init__(self, cfg):\n",
    "       \n",
    "        # Center of the vortex, assumed at the center of the domain. \n",
    "        # Currently, this assumes that the domain is: [0,lx],[0,ly].       \n",
    "        self.x0     = 0.0\n",
    "        self.y0     = 0.0\n",
    "\n",
    "        # Vortex parameters, found in Spiegel et al. (2015). \n",
    "        self.theta  = 45.0 # flow angle [deg]. \n",
    "        self.Tinf   = 1.0  # background temperature.\n",
    "        self.Pinf   = 1.0  # background pressure.\n",
    "        self.Rinf   = 1.0  # background density.\n",
    "        self.Minf   = 0.5  # background Mach.\n",
    "        self.sigma  = 1.0  # Perturbation strength.\n",
    "        self.Rv     = 1.0  # Perturbation width.\n",
    "        \n",
    "        # Scaling for the maximum strength of the perturbation.\n",
    "        self.beta   = self.Minf*ngs.exp(0.5)*5.0*ngs.sqrt(2.0)/(4.0*ngs.pi)\n",
    "\n",
    "        # Convert the angle from degrees to radians.\n",
    "        self.theta *= ngs.pi/180.0\n",
    "\n",
    "        # Deduce the background mean velocity.\n",
    "        self.uinf   = self.Minf*ngs.cos( self.theta )\n",
    "        self.vinf   = self.Minf*ngs.sin( self.theta )\n",
    "\n",
    "        # Store gamma here, so we do not pass it around constantly.\n",
    "        self.gamma  = cfg.equation_of_state.heat_capacity_ratio\n",
    "\n",
    "\n",
    "# Function that defines the analytic solution.\n",
    "def InitialCondition(cfg):\n",
    "  \n",
    "    # Extract the starting time.\n",
    "    t0 = cfg.time.timer.interval[0]\n",
    "\n",
    "    # Return the analytic solution at time: t0.\n",
    "    return AnalyticSolution(cfg, t0)\n",
    "\n",
    "\n",
    "# Function that creates a time-dependant analytic solution.\n",
    "def AnalyticSolution(cfg, t):\n",
    "\n",
    "    # Extract the vortex parameters.\n",
    "    vparam = IsentropicVortexParam(cfg)\n",
    "\n",
    "    # Generate an array of 4x3 vortices. If you need something different, modify it.\n",
    "    # NOTE, in this case, the 4x3 array of vortices assumes:\n",
    "    #  1) flow aligned in (+ve) x-direction.\n",
    "    #  2) simulation is done for only 1 period: tf = lx/uInf.\n",
    "    fn = ngs.CF(())\n",
    "    for i in range(-2,2):\n",
    "        for j in range(-1,2):\n",
    "            fn += GeneratePerturbation(vparam, t, i, j)\n",
    "\n",
    "    # For convenience, extract the perturbations explicitly.\n",
    "    dT = fn[0]; du = fn[1]; dv = fn[2]\n",
    "\n",
    "    # Extract the required parameters to construct the actual variables.\n",
    "    gamma  = vparam.gamma\n",
    "    uinf   = vparam.uinf\n",
    "    vinf   = vparam.vinf\n",
    "\n",
    "    # Abbreviations involving gamma.\n",
    "    gm1    =  gamma - 1.0\n",
    "    ovg    =  1.0/gamma\n",
    "    ovgm1  =  1.0/gm1\n",
    "    govgm1 =  gamma*ovgm1\n",
    "\n",
    "    # Define the primitive variables, by superimposing the perturbations on a background state.\n",
    "    r = (1.0 + dT)**ovgm1\n",
    "    u = uinf + du\n",
    "    v = vinf + dv\n",
    "    p = ovg*(1.0 + dT)**govgm1\n",
    "\n",
    "    # Return the analytic expression of the vortex.\n",
    "    return flowfields( rho=r, u=(u, v), p=p )\n",
    "\n",
    "\n",
    "# Function that generates a single isentropic perturbations in the velocity and temperature.\n",
    "# Here, (ni,nj) are the integers for the multiple of (lx,ly)\n",
    "# distances between the leading/trailing vortices.\n",
    "def GeneratePerturbation(vparam, t, ni, nj):\n",
    "\n",
    "    # For convenience, extract the information of the vortex.\n",
    "    theta = vparam.theta\n",
    "    Tinf  = vparam.Tinf\n",
    "    Pinf  = vparam.Pinf\n",
    "    Rinf  = vparam.Rinf\n",
    "    Minf  = vparam.Minf\n",
    "    sigma = vparam.sigma\n",
    "    Rv    = vparam.Rv\n",
    "    beta  = vparam.beta\n",
    "    gamma = vparam.gamma\n",
    "    x0    = vparam.x0\n",
    "    y0    = vparam.y0\n",
    "    uinf  = vparam.uinf\n",
    "    vinf  = vparam.vinf\n",
    "\n",
    "    # Center of the pulse.\n",
    "    xc = x0 + ni*lx\n",
    "    yc = y0 + nj*ly\n",
    "\n",
    "    # Time-dependent pulse center.\n",
    "    xt = (ngs.x-xc) - uinf*t\n",
    "    yt = (ngs.y-yc) - vinf*t\n",
    "\n",
    "    # Abbreviations involving gamma.\n",
    "    gm1    =  gamma - 1.0\n",
    "    ovg    =  1.0/gamma\n",
    "    ovgm1  =  1.0/gm1\n",
    "    govgm1 =  gamma*ovgm1\n",
    "    ovs2   =  1.0/(sigma*sigma)\n",
    "\n",
    "    # The Gaussian perturbation function.\n",
    "    ovRv   =  1.0/Rv\n",
    "    f      = -0.5*ovs2*( (xt/Rv)**2 + (yt/Rv)**2 )\n",
    "    Omega  =  beta*ngs.exp(f)\n",
    "\n",
    "    # Velocity and temperature perturbations.\n",
    "    du = -ovRv*yt*Omega\n",
    "    dv =  ovRv*xt*Omega\n",
    "    dT = -0.5*gm1*Omega**2\n",
    "\n",
    "    # Return the Perturbations.\n",
    "    return ngs.CF( (dT, du, dv) )"
   ]
  },
  {
   "cell_type": "code",
   "execution_count": 5,
   "id": "08005dcf-f5ce-4720-8f18-a336c7629d0c",
   "metadata": {
    "execution": {
     "iopub.execute_input": "2025-06-11T08:13:46.839858Z",
     "iopub.status.busy": "2025-06-11T08:13:46.839790Z",
     "iopub.status.idle": "2025-06-11T08:13:46.843871Z",
     "shell.execute_reply": "2025-06-11T08:13:46.843648Z"
    }
   },
   "outputs": [],
   "source": [
    "# Solver configuration: Compressible (inviscid) flow.\n",
    "cfg = CompressibleFlowSolver(mesh)\n",
    "\n",
    "cfg.dynamic_viscosity = \"inviscid\"\n",
    "cfg.equation_of_state = \"ideal\"\n",
    "cfg.equation_of_state.heat_capacity_ratio = 1.4\n",
    "cfg.scaling = \"acoustic\"\n",
    "cfg.mach_number = 0.0\n",
    "\n",
    "cfg.riemann_solver = \"lax_friedrich\"\n",
    "cfg.fem = \"conservative\"\n",
    "cfg.fem.order = 0\n",
    "cfg.fem.method = \"hdg\" # NOTE, by default, HDG is used.\n",
    "\n",
    "cfg.time = \"transient\"\n",
    "cfg.fem.scheme = \"implicit_euler\"\n",
    "cfg.time.timer.interval = (0.0, 5.0)\n",
    "cfg.time.timer.step = 0.25\n",
    "\n",
    "# cfg.linear_solver = \"pardiso\"\n",
    "# cfg.nonlinear_solver = \"pardiso\"\n",
    "cfg.nonlinear_solver.method = \"newton\"\n",
    "cfg.nonlinear_solver.method.damping_factor = 1\n",
    "cfg.nonlinear_solver.max_iterations = 10\n",
    "cfg.nonlinear_solver.convergence_criterion = 1e-10\n",
    "\n",
    "cfg.optimizations.static_condensation = True  # NOTE, by default, condensation is turned on.\n",
    "cfg.optimizations.compile.realcompile = False\n",
    "\n",
    "Uic = InitialCondition(cfg)\n",
    "\n",
    "cfg.bcs['left|right'] = \"periodic\"\n",
    "cfg.bcs['top|bottom'] = \"periodic\"\n",
    "cfg.dcs['internal'] = Initial(fields=Uic)"
   ]
  },
  {
   "cell_type": "code",
   "execution_count": 6,
   "id": "e87640b2-6a00-4bd4-a667-51c821de6bfc",
   "metadata": {
    "execution": {
     "iopub.execute_input": "2025-06-11T08:13:46.844919Z",
     "iopub.status.busy": "2025-06-11T08:13:46.844824Z",
     "iopub.status.idle": "2025-06-11T08:13:46.847859Z",
     "shell.execute_reply": "2025-06-11T08:13:46.847668Z"
    }
   },
   "outputs": [],
   "source": [
    "# Decorator for the actual simulation.\n",
    "import numpy as np\n",
    "\n",
    "# Extract time configuration.\n",
    "t0, tf = cfg.time.timer.interval\n",
    "dt = cfg.time.timer.step.Get()\n",
    "nt = int(round((tf - t0) / dt))\n",
    "\n",
    "# Abbreviations.\n",
    "gamma = cfg.equation_of_state.heat_capacity_ratio\n",
    "\n",
    "# Define a decorator for the isentropic vortex routine.\n",
    "def isentropic_vortex_routine(label):\n",
    "    def decorator(func):\n",
    "        def wrapper(*args, draw_solution=False, **kwargs):\n",
    "\n",
    "            # By default, assume this is a DG formulation.\n",
    "            cfg.optimizations.static_condensation = False\n",
    "            \n",
    "            # Insert options here.\n",
    "            func(*args, **kwargs)\n",
    "            cfg.fem.order = 4\n",
    "\n",
    "            # In case an HDG formulation is specified, use static condensation.\n",
    "            if cfg.fem.name == \"hdg\":\n",
    "               cfg.optimizations.static_condensation = True\n",
    "            \n",
    "            # Allocate the necessary data.\n",
    "            cfg.initialize()\n",
    "\n",
    "            # Get a reference to the numerical solution and the analytic solution.\n",
    "            uh = cfg.get_solution_fields('rho_u')\n",
    "            ue = AnalyticSolution(cfg, cfg.time.timer.t)\n",
    "\n",
    "            if draw_solution:\n",
    "                # cfg.io.draw({\"Density\": uh.rho})\n",
    "                # cfg.io.draw({\"Mach\": cfg.get_local_mach_number(uh)})\n",
    "                # cfg.io.draw({\"Exact[Density]\": ue.rho})\n",
    "                isentropic_deviation = (uh.p/ue.p) * (ue.rho/uh.rho)**gamma - 1.0\n",
    "                cfg.io.draw({\"Deviation[Isentropy]\": isentropic_deviation}, min=-0.0001, max=0.0001)\n",
    "                #cfg.io.draw({\"Diff[Density]\": (ue.rho - uh.rho)}, min=-0.1, max=0.1)\n",
    "\n",
    "            # NOTE, uncomment if you want the norm based on magnitude of the momentum.\n",
    "            mag_rhou_e = ue.rho * ngs.sqrt( ngs.InnerProduct(ue.u, ue.u) )\n",
    "            mag_rhou_n = ngs.sqrt( ngs.InnerProduct(uh.rho_u, uh.rho_u) )\n",
    "            # Integration order (for post-processing).\n",
    "            qorder = 10\n",
    "    \n",
    "            # Data for book-keeping information.\n",
    "            data = np.zeros((nt, 3), dtype=float)\n",
    "\n",
    "            with ngs.TaskManager():\n",
    "                # Time integration loop  (actual simulation).\n",
    "                for i, t in enumerate(cfg.time.start_solution_routine(True)):\n",
    "                    \n",
    "                    # Compute the L2-norm of the error.\n",
    "                    err_rho = np.sqrt( ngs.Integrate( (ue.rho-uh.rho)**2, mesh, order=qorder) )\n",
    "                    err_mom = np.sqrt( ngs.Integrate( (mag_rhou_e-mag_rhou_n)**2, mesh, order=qorder) )\n",
    "                    \n",
    "                    # Store data: time and error metrics.\n",
    "                    data[i] = [cfg.time.timer.t.Get(), err_rho, err_mom]\n",
    "            return data\n",
    "        wrapper.label = label \n",
    "        return wrapper\n",
    "    return decorator"
   ]
  },
  {
   "cell_type": "code",
   "execution_count": 7,
   "id": "b049941b-ae76-42b6-8019-881d4c4a57ba",
   "metadata": {
    "execution": {
     "iopub.execute_input": "2025-06-11T08:13:46.848874Z",
     "iopub.status.busy": "2025-06-11T08:13:46.848739Z",
     "iopub.status.idle": "2025-06-11T08:13:46.850816Z",
     "shell.execute_reply": "2025-06-11T08:13:46.850632Z"
    }
   },
   "outputs": [],
   "source": [
    "# Specialized routines.\n",
    "\n",
    "@isentropic_vortex_routine(\"implicit_euler(hdg)\")\n",
    "def implicit_euler_hdg():\n",
    "    cfg.fem.method = \"hdg\"\n",
    "    cfg.fem.scheme = \"implicit_euler\"\n",
    "\n",
    "@isentropic_vortex_routine(\"bdf2(hdg)\")\n",
    "def bdf2_hdg():\n",
    "    cfg.fem.method = \"hdg\"\n",
    "    cfg.fem.scheme = \"bdf2\"\n",
    "\n",
    "@isentropic_vortex_routine(\"sdirk22(hdg)\")\n",
    "def sdirk22_hdg():\n",
    "    cfg.fem.method = \"hdg\"\n",
    "    cfg.fem.scheme = \"sdirk22\"\n",
    "\n",
    "@isentropic_vortex_routine(\"sdirk33(hdg)\")\n",
    "def sdirk33_hdg():\n",
    "    cfg.fem.method = \"hdg\"\n",
    "    cfg.fem.scheme = \"sdirk33\"\n",
    "\n",
    "@isentropic_vortex_routine(\"imex_rk_ars443(dg)\")\n",
    "def imex_rk_ars443_dg():\n",
    "    cfg.fem.method = \"dg\"\n",
    "    cfg.fem.scheme = \"imex_rk_ars443\"\n",
    "\n",
    "@isentropic_vortex_routine(\"ssprk3(dg)\")\n",
    "def ssprk3_dg():\n",
    "    cfg.fem.method = \"dg\"\n",
    "    cfg.fem.scheme = \"ssprk3\"\n",
    "\n",
    "@isentropic_vortex_routine(\"crk4(dg)\")\n",
    "def crk4_dg():\n",
    "    cfg.fem.method = \"dg\"\n",
    "    cfg.fem.scheme = \"crk4\"\n",
    "\n",
    "@isentropic_vortex_routine(\"explicit_euler(dg)\")\n",
    "def explicit_euler_dg():\n",
    "    cfg.fem.method = \"dg\"\n",
    "    cfg.fem.scheme = \"explicit_euler\""
   ]
  },
  {
   "cell_type": "code",
   "execution_count": 8,
   "id": "ea43899b-e15d-45e2-a743-de22694f46eb",
   "metadata": {
    "execution": {
     "iopub.execute_input": "2025-06-11T08:13:46.851800Z",
     "iopub.status.busy": "2025-06-11T08:13:46.851708Z",
     "iopub.status.idle": "2025-06-11T08:13:47.238763Z",
     "shell.execute_reply": "2025-06-11T08:13:47.238242Z"
    }
   },
   "outputs": [],
   "source": [
    "# Figure style and properties.\n",
    "from matplotlib import pyplot as plt\n",
    "\n",
    "# Assign colors to base method names\n",
    "method_colors = {\n",
    "    \"implicit_euler\": \"tab:red\",\n",
    "    \"bdf2\": \"tab:blue\",\n",
    "    \"sdirk22\": \"tab:green\",\n",
    "    \"sdirk33\": \"tab:purple\"\n",
    "}\n",
    "\n",
    "# Helper function that sets up a generic figure.\n",
    "def setup_fig(xlabel, ylabel, title):\n",
    "    fig, ax = plt.subplots(figsize=(15, 6))\n",
    "    ax.set_xlim(t0, tf)\n",
    "    ax.tick_params(axis='both', labelsize=16)\n",
    "    ax.set_xlabel(xlabel, fontsize=14)\n",
    "    ax.set_ylabel(ylabel, fontsize=16)\n",
    "    ax.set_title(title, fontsize=16)\n",
    "    ax.grid(True)\n",
    "    return fig,ax\n",
    "\n",
    "\n",
    "# Helper function that specifies the plot style properties.\n",
    "def get_plot_style(label, method_colors):\n",
    "    if label.endswith(\"(hdg)\"):\n",
    "        base_name = label.replace(\"(hdg)\", \"\").strip()\n",
    "        linestyle = \"-\"\n",
    "        marker = 'o'\n",
    "    elif label.endswith(\"(dg)\"):\n",
    "        base_name = label.replace(\"(dg)\", \"\").strip()\n",
    "        linestyle = \"--\"\n",
    "        marker = '^'\n",
    "    else:\n",
    "        base_name = label.strip()\n",
    "        linestyle = \":\" \n",
    "        marker = '.'\n",
    "\n",
    "    color = method_colors.get(base_name, \"black\")\n",
    "\n",
    "    return {\n",
    "        \"label\": label,\n",
    "        \"linestyle\": linestyle,\n",
    "        \"marker\": marker,\n",
    "        \"markersize\": 8,\n",
    "        \"markevery\": 50,\n",
    "        \"color\": color\n",
    "    }\n"
   ]
  },
  {
   "cell_type": "code",
   "execution_count": 9,
   "id": "08be9963-4c67-48c3-835c-59e056d047f8",
   "metadata": {
    "execution": {
     "iopub.execute_input": "2025-06-11T08:13:47.240905Z",
     "iopub.status.busy": "2025-06-11T08:13:47.240738Z",
     "iopub.status.idle": "2025-06-11T08:14:48.875312Z",
     "shell.execute_reply": "2025-06-11T08:14:48.875054Z"
    }
   },
   "outputs": [
    {
     "name": "stdout",
     "output_type": "stream",
     "text": [
      "Running implicit_euler(hdg)...\n"
     ]
    },
    {
     "name": "stderr",
     "output_type": "stream",
     "text": [
      "dream.solver    (INFO) | residual: 4.873358e-02 | iteration: 0 | t: 0.25\r"
     ]
    },
    {
     "name": "stderr",
     "output_type": "stream",
     "text": [
      "dream.solver    (INFO) | residual: 1.420605e-06 | iteration: 1 | t: 0.25\r"
     ]
    },
    {
     "name": "stderr",
     "output_type": "stream",
     "text": [
      "dream.solver    (INFO) | residual: 3.519771e-14 | iteration: 2 | t: 0.25\r"
     ]
    },
    {
     "name": "stderr",
     "output_type": "stream",
     "text": [
      "dream.solver    (INFO) | residual: 4.708393e-02 | iteration: 0 | t: 0.5\r"
     ]
    },
    {
     "name": "stderr",
     "output_type": "stream",
     "text": [
      "dream.solver    (INFO) | residual: 1.303158e-06 | iteration: 1 | t: 0.5\r"
     ]
    },
    {
     "name": "stderr",
     "output_type": "stream",
     "text": [
      "dream.solver    (INFO) | residual: 2.981243e-14 | iteration: 2 | t: 0.5\r"
     ]
    },
    {
     "name": "stderr",
     "output_type": "stream",
     "text": [
      "dream.solver    (INFO) | residual: 4.552734e-02 | iteration: 0 | t: 0.75\r"
     ]
    },
    {
     "name": "stderr",
     "output_type": "stream",
     "text": [
      "dream.solver    (INFO) | residual: 1.214813e-06 | iteration: 1 | t: 0.75\r"
     ]
    },
    {
     "name": "stderr",
     "output_type": "stream",
     "text": [
      "dream.solver    (INFO) | residual: 2.563279e-14 | iteration: 2 | t: 0.75\r"
     ]
    },
    {
     "name": "stderr",
     "output_type": "stream",
     "text": [
      "dream.solver    (INFO) | residual: 4.404635e-02 | iteration: 0 | t: 1.0\r"
     ]
    },
    {
     "name": "stderr",
     "output_type": "stream",
     "text": [
      "dream.solver    (INFO) | residual: 1.135435e-06 | iteration: 1 | t: 1.0\r"
     ]
    },
    {
     "name": "stderr",
     "output_type": "stream",
     "text": [
      "dream.solver    (INFO) | residual: 2.213930e-14 | iteration: 2 | t: 1.0\r"
     ]
    },
    {
     "name": "stderr",
     "output_type": "stream",
     "text": [
      "dream.solver    (INFO) | residual: 4.264045e-02 | iteration: 0 | t: 1.25\r"
     ]
    },
    {
     "name": "stderr",
     "output_type": "stream",
     "text": [
      "dream.solver    (INFO) | residual: 1.063459e-06 | iteration: 1 | t: 1.25\r"
     ]
    },
    {
     "name": "stderr",
     "output_type": "stream",
     "text": [
      "dream.solver    (INFO) | residual: 1.916323e-14 | iteration: 2 | t: 1.25\r"
     ]
    },
    {
     "name": "stderr",
     "output_type": "stream",
     "text": [
      "dream.solver    (INFO) | residual: 4.131646e-02 | iteration: 0 | t: 1.5\r"
     ]
    },
    {
     "name": "stderr",
     "output_type": "stream",
     "text": [
      "dream.solver    (INFO) | residual: 9.968373e-07 | iteration: 1 | t: 1.5\r"
     ]
    },
    {
     "name": "stderr",
     "output_type": "stream",
     "text": [
      "dream.solver    (INFO) | residual: 1.658711e-14 | iteration: 2 | t: 1.5\r"
     ]
    },
    {
     "name": "stderr",
     "output_type": "stream",
     "text": [
      "dream.solver    (INFO) | residual: 4.007576e-02 | iteration: 0 | t: 1.75\r"
     ]
    },
    {
     "name": "stderr",
     "output_type": "stream",
     "text": [
      "dream.solver    (INFO) | residual: 9.342495e-07 | iteration: 1 | t: 1.75\r"
     ]
    },
    {
     "name": "stderr",
     "output_type": "stream",
     "text": [
      "dream.solver    (INFO) | residual: 1.435227e-14 | iteration: 2 | t: 1.75\r"
     ]
    },
    {
     "name": "stderr",
     "output_type": "stream",
     "text": [
      "dream.solver    (INFO) | residual: 3.891079e-02 | iteration: 0 | t: 2.0\r"
     ]
    },
    {
     "name": "stderr",
     "output_type": "stream",
     "text": [
      "dream.solver    (INFO) | residual: 8.753028e-07 | iteration: 1 | t: 2.0\r"
     ]
    },
    {
     "name": "stderr",
     "output_type": "stream",
     "text": [
      "dream.solver    (INFO) | residual: 1.242500e-14 | iteration: 2 | t: 2.0\r"
     ]
    },
    {
     "name": "stderr",
     "output_type": "stream",
     "text": [
      "dream.solver    (INFO) | residual: 3.780854e-02 | iteration: 0 | t: 2.25\r"
     ]
    },
    {
     "name": "stderr",
     "output_type": "stream",
     "text": [
      "dream.solver    (INFO) | residual: 8.201240e-07 | iteration: 1 | t: 2.25\r"
     ]
    },
    {
     "name": "stderr",
     "output_type": "stream",
     "text": [
      "dream.solver    (INFO) | residual: 1.077224e-14 | iteration: 2 | t: 2.25\r"
     ]
    },
    {
     "name": "stderr",
     "output_type": "stream",
     "text": [
      "dream.solver    (INFO) | residual: 3.675609e-02 | iteration: 0 | t: 2.5\r"
     ]
    },
    {
     "name": "stderr",
     "output_type": "stream",
     "text": [
      "dream.solver    (INFO) | residual: 7.689009e-07 | iteration: 1 | t: 2.5\r"
     ]
    },
    {
     "name": "stderr",
     "output_type": "stream",
     "text": [
      "dream.solver    (INFO) | residual: 9.359754e-15 | iteration: 2 | t: 2.5\r"
     ]
    },
    {
     "name": "stderr",
     "output_type": "stream",
     "text": [
      "dream.solver    (INFO) | residual: 3.574421e-02 | iteration: 0 | t: 2.75\r"
     ]
    },
    {
     "name": "stderr",
     "output_type": "stream",
     "text": [
      "dream.solver    (INFO) | residual: 7.216395e-07 | iteration: 1 | t: 2.75\r"
     ]
    },
    {
     "name": "stderr",
     "output_type": "stream",
     "text": [
      "dream.solver    (INFO) | residual: 8.154288e-15 | iteration: 2 | t: 2.75\r"
     ]
    },
    {
     "name": "stderr",
     "output_type": "stream",
     "text": [
      "dream.solver    (INFO) | residual: 3.476821e-02 | iteration: 0 | t: 3.0\r"
     ]
    },
    {
     "name": "stderr",
     "output_type": "stream",
     "text": [
      "dream.solver    (INFO) | residual: 6.781381e-07 | iteration: 1 | t: 3.0\r"
     ]
    },
    {
     "name": "stderr",
     "output_type": "stream",
     "text": [
      "dream.solver    (INFO) | residual: 7.122816e-15 | iteration: 2 | t: 3.0\r"
     ]
    },
    {
     "name": "stderr",
     "output_type": "stream",
     "text": [
      "dream.solver    (INFO) | residual: 3.382680e-02 | iteration: 0 | t: 3.25\r"
     ]
    },
    {
     "name": "stderr",
     "output_type": "stream",
     "text": [
      "dream.solver    (INFO) | residual: 6.380721e-07 | iteration: 1 | t: 3.25\r"
     ]
    },
    {
     "name": "stderr",
     "output_type": "stream",
     "text": [
      "dream.solver    (INFO) | residual: 6.236397e-15 | iteration: 2 | t: 3.25\r"
     ]
    },
    {
     "name": "stderr",
     "output_type": "stream",
     "text": [
      "dream.solver    (INFO) | residual: 3.292033e-02 | iteration: 0 | t: 3.5\r"
     ]
    },
    {
     "name": "stderr",
     "output_type": "stream",
     "text": [
      "dream.solver    (INFO) | residual: 6.010876e-07 | iteration: 1 | t: 3.5\r"
     ]
    },
    {
     "name": "stderr",
     "output_type": "stream",
     "text": [
      "dream.solver    (INFO) | residual: 5.472003e-15 | iteration: 2 | t: 3.5\r"
     ]
    },
    {
     "name": "stderr",
     "output_type": "stream",
     "text": [
      "dream.solver    (INFO) | residual: 3.204934e-02 | iteration: 0 | t: 3.75\r"
     ]
    },
    {
     "name": "stderr",
     "output_type": "stream",
     "text": [
      "dream.solver    (INFO) | residual: 5.668553e-07 | iteration: 1 | t: 3.75\r"
     ]
    },
    {
     "name": "stderr",
     "output_type": "stream",
     "text": [
      "dream.solver    (INFO) | residual: 4.809937e-15 | iteration: 2 | t: 3.75\r"
     ]
    },
    {
     "name": "stderr",
     "output_type": "stream",
     "text": [
      "dream.solver    (INFO) | residual: 3.121387e-02 | iteration: 0 | t: 4.0\r"
     ]
    },
    {
     "name": "stderr",
     "output_type": "stream",
     "text": [
      "dream.solver    (INFO) | residual: 5.350900e-07 | iteration: 1 | t: 4.0\r"
     ]
    },
    {
     "name": "stderr",
     "output_type": "stream",
     "text": [
      "dream.solver    (INFO) | residual: 4.234798e-15 | iteration: 2 | t: 4.0\r"
     ]
    },
    {
     "name": "stderr",
     "output_type": "stream",
     "text": [
      "dream.solver    (INFO) | residual: 3.041324e-02 | iteration: 0 | t: 4.25\r"
     ]
    },
    {
     "name": "stderr",
     "output_type": "stream",
     "text": [
      "dream.solver    (INFO) | residual: 5.055529e-07 | iteration: 1 | t: 4.25\r"
     ]
    },
    {
     "name": "stderr",
     "output_type": "stream",
     "text": [
      "dream.solver    (INFO) | residual: 3.735100e-15 | iteration: 2 | t: 4.25\r"
     ]
    },
    {
     "name": "stderr",
     "output_type": "stream",
     "text": [
      "dream.solver    (INFO) | residual: 2.964623e-02 | iteration: 0 | t: 4.5\r"
     ]
    },
    {
     "name": "stderr",
     "output_type": "stream",
     "text": [
      "dream.solver    (INFO) | residual: 4.780454e-07 | iteration: 1 | t: 4.5\r"
     ]
    },
    {
     "name": "stderr",
     "output_type": "stream",
     "text": [
      "dream.solver    (INFO) | residual: 3.300059e-15 | iteration: 2 | t: 4.5\r"
     ]
    },
    {
     "name": "stderr",
     "output_type": "stream",
     "text": [
      "dream.solver    (INFO) | residual: 2.891139e-02 | iteration: 0 | t: 4.75\r"
     ]
    },
    {
     "name": "stderr",
     "output_type": "stream",
     "text": [
      "dream.solver    (INFO) | residual: 4.524012e-07 | iteration: 1 | t: 4.75\r"
     ]
    },
    {
     "name": "stderr",
     "output_type": "stream",
     "text": [
      "dream.solver    (INFO) | residual: 2.919997e-15 | iteration: 2 | t: 4.75\r"
     ]
    },
    {
     "name": "stderr",
     "output_type": "stream",
     "text": [
      "dream.solver    (INFO) | residual: 2.820717e-02 | iteration: 0 | t: 5.0\r"
     ]
    },
    {
     "name": "stderr",
     "output_type": "stream",
     "text": [
      "dream.solver    (INFO) | residual: 4.284760e-07 | iteration: 1 | t: 5.0\r"
     ]
    },
    {
     "name": "stderr",
     "output_type": "stream",
     "text": [
      "dream.solver    (INFO) | residual: 2.587653e-15 | iteration: 2 | t: 5.0\r"
     ]
    },
    {
     "data": {
      "application/vnd.jupyter.widget-view+json": {
       "model_id": "ee5dce5c528845ce8f4f7dad73f450c0",
       "version_major": 2,
       "version_minor": 0
      },
      "text/plain": [
       "WebGuiDocuWidget(value={'render_data': 'render_data_3.json', 'preview': 'preview_3.png'})"
      ]
     },
     "metadata": {},
     "output_type": "display_data"
    },
    {
     "name": "stdout",
     "output_type": "stream",
     "text": [
      "Running bdf2(hdg)...\n"
     ]
    },
    {
     "name": "stderr",
     "output_type": "stream",
     "text": [
      "dream.solver    (INFO) | residual: 3.311198e-02 | iteration: 0 | t: 0.25\r"
     ]
    },
    {
     "name": "stderr",
     "output_type": "stream",
     "text": [
      "dream.solver    (INFO) | residual: 2.602291e-07 | iteration: 1 | t: 0.25\r"
     ]
    },
    {
     "name": "stderr",
     "output_type": "stream",
     "text": [
      "dream.solver    (INFO) | residual: 3.465492e-16 | iteration: 2 | t: 0.25\r"
     ]
    },
    {
     "name": "stderr",
     "output_type": "stream",
     "text": [
      "dream.solver    (INFO) | residual: 5.792749e-02 | iteration: 0 | t: 0.5\r"
     ]
    },
    {
     "name": "stderr",
     "output_type": "stream",
     "text": [
      "dream.solver    (INFO) | residual: 7.758953e-07 | iteration: 1 | t: 0.5\r"
     ]
    },
    {
     "name": "stderr",
     "output_type": "stream",
     "text": [
      "dream.solver    (INFO) | residual: 3.164572e-15 | iteration: 2 | t: 0.5\r"
     ]
    },
    {
     "name": "stderr",
     "output_type": "stream",
     "text": [
      "dream.solver    (INFO) | residual: 6.699123e-02 | iteration: 0 | t: 0.75\r"
     ]
    },
    {
     "name": "stderr",
     "output_type": "stream",
     "text": [
      "dream.solver    (INFO) | residual: 1.035544e-06 | iteration: 1 | t: 0.75\r"
     ]
    },
    {
     "name": "stderr",
     "output_type": "stream",
     "text": [
      "dream.solver    (INFO) | residual: 5.617944e-15 | iteration: 2 | t: 0.75\r"
     ]
    },
    {
     "name": "stderr",
     "output_type": "stream",
     "text": [
      "dream.solver    (INFO) | residual: 6.975304e-02 | iteration: 0 | t: 1.0\r"
     ]
    },
    {
     "name": "stderr",
     "output_type": "stream",
     "text": [
      "dream.solver    (INFO) | residual: 1.120781e-06 | iteration: 1 | t: 1.0\r"
     ]
    },
    {
     "name": "stderr",
     "output_type": "stream",
     "text": [
      "dream.solver    (INFO) | residual: 6.572050e-15 | iteration: 2 | t: 1.0\r"
     ]
    },
    {
     "name": "stderr",
     "output_type": "stream",
     "text": [
      "dream.solver    (INFO) | residual: 7.051597e-02 | iteration: 0 | t: 1.25\r"
     ]
    },
    {
     "name": "stderr",
     "output_type": "stream",
     "text": [
      "dream.solver    (INFO) | residual: 1.144006e-06 | iteration: 1 | t: 1.25\r"
     ]
    },
    {
     "name": "stderr",
     "output_type": "stream",
     "text": [
      "dream.solver    (INFO) | residual: 6.840018e-15 | iteration: 2 | t: 1.25\r"
     ]
    },
    {
     "name": "stderr",
     "output_type": "stream",
     "text": [
      "dream.solver    (INFO) | residual: 7.072843e-02 | iteration: 0 | t: 1.5\r"
     ]
    },
    {
     "name": "stderr",
     "output_type": "stream",
     "text": [
      "dream.solver    (INFO) | residual: 1.148942e-06 | iteration: 1 | t: 1.5\r"
     ]
    },
    {
     "name": "stderr",
     "output_type": "stream",
     "text": [
      "dream.solver    (INFO) | residual: 6.884220e-15 | iteration: 2 | t: 1.5\r"
     ]
    },
    {
     "name": "stderr",
     "output_type": "stream",
     "text": [
      "dream.solver    (INFO) | residual: 7.081236e-02 | iteration: 0 | t: 1.75\r"
     ]
    },
    {
     "name": "stderr",
     "output_type": "stream",
     "text": [
      "dream.solver    (INFO) | residual: 1.148397e-06 | iteration: 1 | t: 1.75\r"
     ]
    },
    {
     "name": "stderr",
     "output_type": "stream",
     "text": [
      "dream.solver    (INFO) | residual: 6.858045e-15 | iteration: 2 | t: 1.75\r"
     ]
    },
    {
     "name": "stderr",
     "output_type": "stream",
     "text": [
      "dream.solver    (INFO) | residual: 7.086408e-02 | iteration: 0 | t: 2.0\r"
     ]
    },
    {
     "name": "stderr",
     "output_type": "stream",
     "text": [
      "dream.solver    (INFO) | residual: 1.145950e-06 | iteration: 1 | t: 2.0\r"
     ]
    },
    {
     "name": "stderr",
     "output_type": "stream",
     "text": [
      "dream.solver    (INFO) | residual: 6.816836e-15 | iteration: 2 | t: 2.0\r"
     ]
    },
    {
     "name": "stderr",
     "output_type": "stream",
     "text": [
      "dream.solver    (INFO) | residual: 7.088884e-02 | iteration: 0 | t: 2.25\r"
     ]
    },
    {
     "name": "stderr",
     "output_type": "stream",
     "text": [
      "dream.solver    (INFO) | residual: 1.142997e-06 | iteration: 1 | t: 2.25\r"
     ]
    },
    {
     "name": "stderr",
     "output_type": "stream",
     "text": [
      "dream.solver    (INFO) | residual: 6.783347e-15 | iteration: 2 | t: 2.25\r"
     ]
    },
    {
     "name": "stderr",
     "output_type": "stream",
     "text": [
      "dream.solver    (INFO) | residual: 7.087847e-02 | iteration: 0 | t: 2.5\r"
     ]
    },
    {
     "name": "stderr",
     "output_type": "stream",
     "text": [
      "dream.solver    (INFO) | residual: 1.140316e-06 | iteration: 1 | t: 2.5\r"
     ]
    },
    {
     "name": "stderr",
     "output_type": "stream",
     "text": [
      "dream.solver    (INFO) | residual: 6.760149e-15 | iteration: 2 | t: 2.5\r"
     ]
    },
    {
     "name": "stderr",
     "output_type": "stream",
     "text": [
      "dream.solver    (INFO) | residual: 7.083446e-02 | iteration: 0 | t: 2.75\r"
     ]
    },
    {
     "name": "stderr",
     "output_type": "stream",
     "text": [
      "dream.solver    (INFO) | residual: 1.138270e-06 | iteration: 1 | t: 2.75\r"
     ]
    },
    {
     "name": "stderr",
     "output_type": "stream",
     "text": [
      "dream.solver    (INFO) | residual: 6.743780e-15 | iteration: 2 | t: 2.75\r"
     ]
    },
    {
     "name": "stderr",
     "output_type": "stream",
     "text": [
      "dream.solver    (INFO) | residual: 7.076881e-02 | iteration: 0 | t: 3.0\r"
     ]
    },
    {
     "name": "stderr",
     "output_type": "stream",
     "text": [
      "dream.solver    (INFO) | residual: 1.136859e-06 | iteration: 1 | t: 3.0\r"
     ]
    },
    {
     "name": "stderr",
     "output_type": "stream",
     "text": [
      "dream.solver    (INFO) | residual: 6.730616e-15 | iteration: 2 | t: 3.0\r"
     ]
    },
    {
     "name": "stderr",
     "output_type": "stream",
     "text": [
      "dream.solver    (INFO) | residual: 7.069716e-02 | iteration: 0 | t: 3.25\r"
     ]
    },
    {
     "name": "stderr",
     "output_type": "stream",
     "text": [
      "dream.solver    (INFO) | residual: 1.135849e-06 | iteration: 1 | t: 3.25\r"
     ]
    },
    {
     "name": "stderr",
     "output_type": "stream",
     "text": [
      "dream.solver    (INFO) | residual: 6.715587e-15 | iteration: 2 | t: 3.25\r"
     ]
    },
    {
     "name": "stderr",
     "output_type": "stream",
     "text": [
      "dream.solver    (INFO) | residual: 7.063207e-02 | iteration: 0 | t: 3.5\r"
     ]
    },
    {
     "name": "stderr",
     "output_type": "stream",
     "text": [
      "dream.solver    (INFO) | residual: 1.134959e-06 | iteration: 1 | t: 3.5\r"
     ]
    },
    {
     "name": "stderr",
     "output_type": "stream",
     "text": [
      "dream.solver    (INFO) | residual: 6.699662e-15 | iteration: 2 | t: 3.5\r"
     ]
    },
    {
     "name": "stderr",
     "output_type": "stream",
     "text": [
      "dream.solver    (INFO) | residual: 7.058001e-02 | iteration: 0 | t: 3.75\r"
     ]
    },
    {
     "name": "stderr",
     "output_type": "stream",
     "text": [
      "dream.solver    (INFO) | residual: 1.133996e-06 | iteration: 1 | t: 3.75\r"
     ]
    },
    {
     "name": "stderr",
     "output_type": "stream",
     "text": [
      "dream.solver    (INFO) | residual: 6.686146e-15 | iteration: 2 | t: 3.75\r"
     ]
    },
    {
     "name": "stderr",
     "output_type": "stream",
     "text": [
      "dream.solver    (INFO) | residual: 7.054193e-02 | iteration: 0 | t: 4.0\r"
     ]
    },
    {
     "name": "stderr",
     "output_type": "stream",
     "text": [
      "dream.solver    (INFO) | residual: 1.132886e-06 | iteration: 1 | t: 4.0\r"
     ]
    },
    {
     "name": "stderr",
     "output_type": "stream",
     "text": [
      "dream.solver    (INFO) | residual: 6.671420e-15 | iteration: 2 | t: 4.0\r"
     ]
    },
    {
     "name": "stderr",
     "output_type": "stream",
     "text": [
      "dream.solver    (INFO) | residual: 7.051575e-02 | iteration: 0 | t: 4.25\r"
     ]
    },
    {
     "name": "stderr",
     "output_type": "stream",
     "text": [
      "dream.solver    (INFO) | residual: 1.131638e-06 | iteration: 1 | t: 4.25\r"
     ]
    },
    {
     "name": "stderr",
     "output_type": "stream",
     "text": [
      "dream.solver    (INFO) | residual: 6.655828e-15 | iteration: 2 | t: 4.25\r"
     ]
    },
    {
     "name": "stderr",
     "output_type": "stream",
     "text": [
      "dream.solver    (INFO) | residual: 7.049868e-02 | iteration: 0 | t: 4.5\r"
     ]
    },
    {
     "name": "stderr",
     "output_type": "stream",
     "text": [
      "dream.solver    (INFO) | residual: 1.130315e-06 | iteration: 1 | t: 4.5\r"
     ]
    },
    {
     "name": "stderr",
     "output_type": "stream",
     "text": [
      "dream.solver    (INFO) | residual: 6.642143e-15 | iteration: 2 | t: 4.5\r"
     ]
    },
    {
     "name": "stderr",
     "output_type": "stream",
     "text": [
      "dream.solver    (INFO) | residual: 7.048844e-02 | iteration: 0 | t: 4.75\r"
     ]
    },
    {
     "name": "stderr",
     "output_type": "stream",
     "text": [
      "dream.solver    (INFO) | residual: 1.128989e-06 | iteration: 1 | t: 4.75\r"
     ]
    },
    {
     "name": "stderr",
     "output_type": "stream",
     "text": [
      "dream.solver    (INFO) | residual: 6.628469e-15 | iteration: 2 | t: 4.75\r"
     ]
    },
    {
     "name": "stderr",
     "output_type": "stream",
     "text": [
      "dream.solver    (INFO) | residual: 7.048351e-02 | iteration: 0 | t: 5.0\r"
     ]
    },
    {
     "name": "stderr",
     "output_type": "stream",
     "text": [
      "dream.solver    (INFO) | residual: 1.127718e-06 | iteration: 1 | t: 5.0\r"
     ]
    },
    {
     "name": "stderr",
     "output_type": "stream",
     "text": [
      "dream.solver    (INFO) | residual: 6.615734e-15 | iteration: 2 | t: 5.0\r"
     ]
    },
    {
     "data": {
      "application/vnd.jupyter.widget-view+json": {
       "model_id": "536c48170e2a42e8bffdfe158f9a3582",
       "version_major": 2,
       "version_minor": 0
      },
      "text/plain": [
       "WebGuiDocuWidget(value={'render_data': 'render_data_4.json', 'preview': 'preview_4.png'})"
      ]
     },
     "metadata": {},
     "output_type": "display_data"
    },
    {
     "name": "stdout",
     "output_type": "stream",
     "text": [
      "Running sdirk33(hdg)...\n"
     ]
    },
    {
     "name": "stderr",
     "output_type": "stream",
     "text": [
      "dream.solver    (INFO) | residual: 2.185053e-02 | stage: 1 | iteration: 0 | t: 0.25\r"
     ]
    },
    {
     "name": "stderr",
     "output_type": "stream",
     "text": [
      "dream.solver    (INFO) | residual: 3.907960e-08 | stage: 1 | iteration: 1 | t: 0.25\r"
     ]
    },
    {
     "name": "stderr",
     "output_type": "stream",
     "text": [
      "dream.solver    (INFO) | residual: 2.177744e-18 | stage: 1 | iteration: 2 | t: 0.25\r"
     ]
    },
    {
     "name": "stderr",
     "output_type": "stream",
     "text": [
      "dream.solver    (INFO) | residual: 9.085230e-03 | stage: 2 | iteration: 0 | t: 0.25\r"
     ]
    },
    {
     "name": "stderr",
     "output_type": "stream",
     "text": [
      "dream.solver    (INFO) | residual: 6.465217e-09 | stage: 2 | iteration: 1 | t: 0.25\r"
     ]
    },
    {
     "name": "stderr",
     "output_type": "stream",
     "text": [
      "dream.solver    (INFO) | residual: 6.228732e-20 | stage: 2 | iteration: 2 | t: 0.25\r"
     ]
    },
    {
     "name": "stderr",
     "output_type": "stream",
     "text": [
      "dream.solver    (INFO) | residual: 9.412191e-03 | stage: 3 | iteration: 0 | t: 0.25\r"
     ]
    },
    {
     "name": "stderr",
     "output_type": "stream",
     "text": [
      "dream.solver    (INFO) | residual: 6.992948e-09 | stage: 3 | iteration: 1 | t: 0.25\r"
     ]
    },
    {
     "name": "stderr",
     "output_type": "stream",
     "text": [
      "dream.solver    (INFO) | residual: 7.402598e-20 | stage: 3 | iteration: 2 | t: 0.25\r"
     ]
    },
    {
     "name": "stderr",
     "output_type": "stream",
     "text": [
      "dream.solver    (INFO) | residual: 2.184642e-02 | stage: 1 | iteration: 0 | t: 0.5\r"
     ]
    },
    {
     "name": "stderr",
     "output_type": "stream",
     "text": [
      "dream.solver    (INFO) | residual: 3.742515e-08 | stage: 1 | iteration: 1 | t: 0.5\r"
     ]
    },
    {
     "name": "stderr",
     "output_type": "stream",
     "text": [
      "dream.solver    (INFO) | residual: 2.089933e-18 | stage: 1 | iteration: 2 | t: 0.5\r"
     ]
    },
    {
     "name": "stderr",
     "output_type": "stream",
     "text": [
      "dream.solver    (INFO) | residual: 9.084276e-03 | stage: 2 | iteration: 0 | t: 0.5\r"
     ]
    },
    {
     "name": "stderr",
     "output_type": "stream",
     "text": [
      "dream.solver    (INFO) | residual: 6.463911e-09 | stage: 2 | iteration: 1 | t: 0.5\r"
     ]
    },
    {
     "name": "stderr",
     "output_type": "stream",
     "text": [
      "dream.solver    (INFO) | residual: 6.218662e-20 | stage: 2 | iteration: 2 | t: 0.5\r"
     ]
    },
    {
     "name": "stderr",
     "output_type": "stream",
     "text": [
      "dream.solver    (INFO) | residual: 9.410620e-03 | stage: 3 | iteration: 0 | t: 0.5\r"
     ]
    },
    {
     "name": "stderr",
     "output_type": "stream",
     "text": [
      "dream.solver    (INFO) | residual: 6.991050e-09 | stage: 3 | iteration: 1 | t: 0.5\r"
     ]
    },
    {
     "name": "stderr",
     "output_type": "stream",
     "text": [
      "dream.solver    (INFO) | residual: 7.384355e-20 | stage: 3 | iteration: 2 | t: 0.5\r"
     ]
    },
    {
     "name": "stderr",
     "output_type": "stream",
     "text": [
      "dream.solver    (INFO) | residual: 2.184588e-02 | stage: 1 | iteration: 0 | t: 0.75\r"
     ]
    },
    {
     "name": "stderr",
     "output_type": "stream",
     "text": [
      "dream.solver    (INFO) | residual: 3.741714e-08 | stage: 1 | iteration: 1 | t: 0.75\r"
     ]
    },
    {
     "name": "stderr",
     "output_type": "stream",
     "text": [
      "dream.solver    (INFO) | residual: 2.089554e-18 | stage: 1 | iteration: 2 | t: 0.75\r"
     ]
    },
    {
     "name": "stderr",
     "output_type": "stream",
     "text": [
      "dream.solver    (INFO) | residual: 9.084334e-03 | stage: 2 | iteration: 0 | t: 0.75\r"
     ]
    },
    {
     "name": "stderr",
     "output_type": "stream",
     "text": [
      "dream.solver    (INFO) | residual: 6.462501e-09 | stage: 2 | iteration: 1 | t: 0.75\r"
     ]
    },
    {
     "name": "stderr",
     "output_type": "stream",
     "text": [
      "dream.solver    (INFO) | residual: 6.220125e-20 | stage: 2 | iteration: 2 | t: 0.75\r"
     ]
    },
    {
     "name": "stderr",
     "output_type": "stream",
     "text": [
      "dream.solver    (INFO) | residual: 9.410780e-03 | stage: 3 | iteration: 0 | t: 0.75\r"
     ]
    },
    {
     "name": "stderr",
     "output_type": "stream",
     "text": [
      "dream.solver    (INFO) | residual: 6.990108e-09 | stage: 3 | iteration: 1 | t: 0.75\r"
     ]
    },
    {
     "name": "stderr",
     "output_type": "stream",
     "text": [
      "dream.solver    (INFO) | residual: 7.385083e-20 | stage: 3 | iteration: 2 | t: 0.75\r"
     ]
    },
    {
     "name": "stderr",
     "output_type": "stream",
     "text": [
      "dream.solver    (INFO) | residual: 2.184718e-02 | stage: 1 | iteration: 0 | t: 1.0\r"
     ]
    },
    {
     "name": "stderr",
     "output_type": "stream",
     "text": [
      "dream.solver    (INFO) | residual: 3.740754e-08 | stage: 1 | iteration: 1 | t: 1.0\r"
     ]
    },
    {
     "name": "stderr",
     "output_type": "stream",
     "text": [
      "dream.solver    (INFO) | residual: 2.090003e-18 | stage: 1 | iteration: 2 | t: 1.0\r"
     ]
    },
    {
     "name": "stderr",
     "output_type": "stream",
     "text": [
      "dream.solver    (INFO) | residual: 9.084774e-03 | stage: 2 | iteration: 0 | t: 1.0\r"
     ]
    },
    {
     "name": "stderr",
     "output_type": "stream",
     "text": [
      "dream.solver    (INFO) | residual: 6.460864e-09 | stage: 2 | iteration: 1 | t: 1.0\r"
     ]
    },
    {
     "name": "stderr",
     "output_type": "stream",
     "text": [
      "dream.solver    (INFO) | residual: 6.221181e-20 | stage: 2 | iteration: 2 | t: 1.0\r"
     ]
    },
    {
     "name": "stderr",
     "output_type": "stream",
     "text": [
      "dream.solver    (INFO) | residual: 9.411783e-03 | stage: 3 | iteration: 0 | t: 1.0\r"
     ]
    },
    {
     "name": "stderr",
     "output_type": "stream",
     "text": [
      "dream.solver    (INFO) | residual: 6.988141e-09 | stage: 3 | iteration: 1 | t: 1.0\r"
     ]
    },
    {
     "name": "stderr",
     "output_type": "stream",
     "text": [
      "dream.solver    (INFO) | residual: 7.386667e-20 | stage: 3 | iteration: 2 | t: 1.0\r"
     ]
    },
    {
     "name": "stderr",
     "output_type": "stream",
     "text": [
      "dream.solver    (INFO) | residual: 2.184820e-02 | stage: 1 | iteration: 0 | t: 1.25\r"
     ]
    },
    {
     "name": "stderr",
     "output_type": "stream",
     "text": [
      "dream.solver    (INFO) | residual: 3.739675e-08 | stage: 1 | iteration: 1 | t: 1.25\r"
     ]
    },
    {
     "name": "stderr",
     "output_type": "stream",
     "text": [
      "dream.solver    (INFO) | residual: 2.089937e-18 | stage: 1 | iteration: 2 | t: 1.25\r"
     ]
    },
    {
     "name": "stderr",
     "output_type": "stream",
     "text": [
      "dream.solver    (INFO) | residual: 9.084881e-03 | stage: 2 | iteration: 0 | t: 1.25\r"
     ]
    },
    {
     "name": "stderr",
     "output_type": "stream",
     "text": [
      "dream.solver    (INFO) | residual: 6.458985e-09 | stage: 2 | iteration: 1 | t: 1.25\r"
     ]
    },
    {
     "name": "stderr",
     "output_type": "stream",
     "text": [
      "dream.solver    (INFO) | residual: 6.219726e-20 | stage: 2 | iteration: 2 | t: 1.25\r"
     ]
    },
    {
     "name": "stderr",
     "output_type": "stream",
     "text": [
      "dream.solver    (INFO) | residual: 9.412438e-03 | stage: 3 | iteration: 0 | t: 1.25\r"
     ]
    },
    {
     "name": "stderr",
     "output_type": "stream",
     "text": [
      "dream.solver    (INFO) | residual: 6.985740e-09 | stage: 3 | iteration: 1 | t: 1.25\r"
     ]
    },
    {
     "name": "stderr",
     "output_type": "stream",
     "text": [
      "dream.solver    (INFO) | residual: 7.387277e-20 | stage: 3 | iteration: 2 | t: 1.25\r"
     ]
    },
    {
     "name": "stderr",
     "output_type": "stream",
     "text": [
      "dream.solver    (INFO) | residual: 2.184754e-02 | stage: 1 | iteration: 0 | t: 1.5\r"
     ]
    },
    {
     "name": "stderr",
     "output_type": "stream",
     "text": [
      "dream.solver    (INFO) | residual: 3.738544e-08 | stage: 1 | iteration: 1 | t: 1.5\r"
     ]
    },
    {
     "name": "stderr",
     "output_type": "stream",
     "text": [
      "dream.solver    (INFO) | residual: 2.088507e-18 | stage: 1 | iteration: 2 | t: 1.5\r"
     ]
    },
    {
     "name": "stderr",
     "output_type": "stream",
     "text": [
      "dream.solver    (INFO) | residual: 9.084300e-03 | stage: 2 | iteration: 0 | t: 1.5\r"
     ]
    },
    {
     "name": "stderr",
     "output_type": "stream",
     "text": [
      "dream.solver    (INFO) | residual: 6.457228e-09 | stage: 2 | iteration: 1 | t: 1.5\r"
     ]
    },
    {
     "name": "stderr",
     "output_type": "stream",
     "text": [
      "dream.solver    (INFO) | residual: 6.214531e-20 | stage: 2 | iteration: 2 | t: 1.5\r"
     ]
    },
    {
     "name": "stderr",
     "output_type": "stream",
     "text": [
      "dream.solver    (INFO) | residual: 9.412073e-03 | stage: 3 | iteration: 0 | t: 1.5\r"
     ]
    },
    {
     "name": "stderr",
     "output_type": "stream",
     "text": [
      "dream.solver    (INFO) | residual: 6.983403e-09 | stage: 3 | iteration: 1 | t: 1.5\r"
     ]
    },
    {
     "name": "stderr",
     "output_type": "stream",
     "text": [
      "dream.solver    (INFO) | residual: 7.382873e-20 | stage: 3 | iteration: 2 | t: 1.5\r"
     ]
    },
    {
     "name": "stderr",
     "output_type": "stream",
     "text": [
      "dream.solver    (INFO) | residual: 2.184511e-02 | stage: 1 | iteration: 0 | t: 1.75\r"
     ]
    },
    {
     "name": "stderr",
     "output_type": "stream",
     "text": [
      "dream.solver    (INFO) | residual: 3.737624e-08 | stage: 1 | iteration: 1 | t: 1.75\r"
     ]
    },
    {
     "name": "stderr",
     "output_type": "stream",
     "text": [
      "dream.solver    (INFO) | residual: 2.087146e-18 | stage: 1 | iteration: 2 | t: 1.75\r"
     ]
    },
    {
     "name": "stderr",
     "output_type": "stream",
     "text": [
      "dream.solver    (INFO) | residual: 9.083165e-03 | stage: 2 | iteration: 0 | t: 1.75\r"
     ]
    },
    {
     "name": "stderr",
     "output_type": "stream",
     "text": [
      "dream.solver    (INFO) | residual: 6.455755e-09 | stage: 2 | iteration: 1 | t: 1.75\r"
     ]
    },
    {
     "name": "stderr",
     "output_type": "stream",
     "text": [
      "dream.solver    (INFO) | residual: 6.212500e-20 | stage: 2 | iteration: 2 | t: 1.75\r"
     ]
    },
    {
     "name": "stderr",
     "output_type": "stream",
     "text": [
      "dream.solver    (INFO) | residual: 9.410786e-03 | stage: 3 | iteration: 0 | t: 1.75\r"
     ]
    },
    {
     "name": "stderr",
     "output_type": "stream",
     "text": [
      "dream.solver    (INFO) | residual: 6.981602e-09 | stage: 3 | iteration: 1 | t: 1.75\r"
     ]
    },
    {
     "name": "stderr",
     "output_type": "stream",
     "text": [
      "dream.solver    (INFO) | residual: 7.378134e-20 | stage: 3 | iteration: 2 | t: 1.75\r"
     ]
    },
    {
     "name": "stderr",
     "output_type": "stream",
     "text": [
      "dream.solver    (INFO) | residual: 2.184180e-02 | stage: 1 | iteration: 0 | t: 2.0\r"
     ]
    },
    {
     "name": "stderr",
     "output_type": "stream",
     "text": [
      "dream.solver    (INFO) | residual: 3.736850e-08 | stage: 1 | iteration: 1 | t: 2.0\r"
     ]
    },
    {
     "name": "stderr",
     "output_type": "stream",
     "text": [
      "dream.solver    (INFO) | residual: 2.087261e-18 | stage: 1 | iteration: 2 | t: 2.0\r"
     ]
    },
    {
     "name": "stderr",
     "output_type": "stream",
     "text": [
      "dream.solver    (INFO) | residual: 9.081852e-03 | stage: 2 | iteration: 0 | t: 2.0\r"
     ]
    },
    {
     "name": "stderr",
     "output_type": "stream",
     "text": [
      "dream.solver    (INFO) | residual: 6.454465e-09 | stage: 2 | iteration: 1 | t: 2.0\r"
     ]
    },
    {
     "name": "stderr",
     "output_type": "stream",
     "text": [
      "dream.solver    (INFO) | residual: 6.212690e-20 | stage: 2 | iteration: 2 | t: 2.0\r"
     ]
    },
    {
     "name": "stderr",
     "output_type": "stream",
     "text": [
      "dream.solver    (INFO) | residual: 9.409138e-03 | stage: 3 | iteration: 0 | t: 2.0\r"
     ]
    },
    {
     "name": "stderr",
     "output_type": "stream",
     "text": [
      "dream.solver    (INFO) | residual: 6.980168e-09 | stage: 3 | iteration: 1 | t: 2.0\r"
     ]
    },
    {
     "name": "stderr",
     "output_type": "stream",
     "text": [
      "dream.solver    (INFO) | residual: 7.378170e-20 | stage: 3 | iteration: 2 | t: 2.0\r"
     ]
    },
    {
     "name": "stderr",
     "output_type": "stream",
     "text": [
      "dream.solver    (INFO) | residual: 2.183867e-02 | stage: 1 | iteration: 0 | t: 2.25\r"
     ]
    },
    {
     "name": "stderr",
     "output_type": "stream",
     "text": [
      "dream.solver    (INFO) | residual: 3.736144e-08 | stage: 1 | iteration: 1 | t: 2.25\r"
     ]
    },
    {
     "name": "stderr",
     "output_type": "stream",
     "text": [
      "dream.solver    (INFO) | residual: 2.086935e-18 | stage: 1 | iteration: 2 | t: 2.25\r"
     ]
    },
    {
     "name": "stderr",
     "output_type": "stream",
     "text": [
      "dream.solver    (INFO) | residual: 9.080697e-03 | stage: 2 | iteration: 0 | t: 2.25\r"
     ]
    },
    {
     "name": "stderr",
     "output_type": "stream",
     "text": [
      "dream.solver    (INFO) | residual: 6.453205e-09 | stage: 2 | iteration: 1 | t: 2.25\r"
     ]
    },
    {
     "name": "stderr",
     "output_type": "stream",
     "text": [
      "dream.solver    (INFO) | residual: 6.211049e-20 | stage: 2 | iteration: 2 | t: 2.25\r"
     ]
    },
    {
     "name": "stderr",
     "output_type": "stream",
     "text": [
      "dream.solver    (INFO) | residual: 9.407683e-03 | stage: 3 | iteration: 0 | t: 2.25\r"
     ]
    },
    {
     "name": "stderr",
     "output_type": "stream",
     "text": [
      "dream.solver    (INFO) | residual: 6.978908e-09 | stage: 3 | iteration: 1 | t: 2.25\r"
     ]
    },
    {
     "name": "stderr",
     "output_type": "stream",
     "text": [
      "dream.solver    (INFO) | residual: 7.376266e-20 | stage: 3 | iteration: 2 | t: 2.25\r"
     ]
    },
    {
     "name": "stderr",
     "output_type": "stream",
     "text": [
      "dream.solver    (INFO) | residual: 2.183628e-02 | stage: 1 | iteration: 0 | t: 2.5\r"
     ]
    },
    {
     "name": "stderr",
     "output_type": "stream",
     "text": [
      "dream.solver    (INFO) | residual: 3.735371e-08 | stage: 1 | iteration: 1 | t: 2.5\r"
     ]
    },
    {
     "name": "stderr",
     "output_type": "stream",
     "text": [
      "dream.solver    (INFO) | residual: 2.085894e-18 | stage: 1 | iteration: 2 | t: 2.5\r"
     ]
    },
    {
     "name": "stderr",
     "output_type": "stream",
     "text": [
      "dream.solver    (INFO) | residual: 9.079827e-03 | stage: 2 | iteration: 0 | t: 2.5\r"
     ]
    },
    {
     "name": "stderr",
     "output_type": "stream",
     "text": [
      "dream.solver    (INFO) | residual: 6.451787e-09 | stage: 2 | iteration: 1 | t: 2.5\r"
     ]
    },
    {
     "name": "stderr",
     "output_type": "stream",
     "text": [
      "dream.solver    (INFO) | residual: 6.206994e-20 | stage: 2 | iteration: 2 | t: 2.5\r"
     ]
    },
    {
     "name": "stderr",
     "output_type": "stream",
     "text": [
      "dream.solver    (INFO) | residual: 9.406659e-03 | stage: 3 | iteration: 0 | t: 2.5\r"
     ]
    },
    {
     "name": "stderr",
     "output_type": "stream",
     "text": [
      "dream.solver    (INFO) | residual: 6.977503e-09 | stage: 3 | iteration: 1 | t: 2.5\r"
     ]
    },
    {
     "name": "stderr",
     "output_type": "stream",
     "text": [
      "dream.solver    (INFO) | residual: 7.372720e-20 | stage: 3 | iteration: 2 | t: 2.5\r"
     ]
    },
    {
     "name": "stderr",
     "output_type": "stream",
     "text": [
      "dream.solver    (INFO) | residual: 2.183458e-02 | stage: 1 | iteration: 0 | t: 2.75\r"
     ]
    },
    {
     "name": "stderr",
     "output_type": "stream",
     "text": [
      "dream.solver    (INFO) | residual: 3.734481e-08 | stage: 1 | iteration: 1 | t: 2.75\r"
     ]
    },
    {
     "name": "stderr",
     "output_type": "stream",
     "text": [
      "dream.solver    (INFO) | residual: 2.084036e-18 | stage: 1 | iteration: 2 | t: 2.75\r"
     ]
    },
    {
     "name": "stderr",
     "output_type": "stream",
     "text": [
      "dream.solver    (INFO) | residual: 9.079173e-03 | stage: 2 | iteration: 0 | t: 2.75\r"
     ]
    },
    {
     "name": "stderr",
     "output_type": "stream",
     "text": [
      "dream.solver    (INFO) | residual: 6.450215e-09 | stage: 2 | iteration: 1 | t: 2.75\r"
     ]
    },
    {
     "name": "stderr",
     "output_type": "stream",
     "text": [
      "dream.solver    (INFO) | residual: 6.200723e-20 | stage: 2 | iteration: 2 | t: 2.75\r"
     ]
    },
    {
     "name": "stderr",
     "output_type": "stream",
     "text": [
      "dream.solver    (INFO) | residual: 9.405982e-03 | stage: 3 | iteration: 0 | t: 2.75\r"
     ]
    },
    {
     "name": "stderr",
     "output_type": "stream",
     "text": [
      "dream.solver    (INFO) | residual: 6.975827e-09 | stage: 3 | iteration: 1 | t: 2.75\r"
     ]
    },
    {
     "name": "stderr",
     "output_type": "stream",
     "text": [
      "dream.solver    (INFO) | residual: 7.366267e-20 | stage: 3 | iteration: 2 | t: 2.75\r"
     ]
    },
    {
     "name": "stderr",
     "output_type": "stream",
     "text": [
      "dream.solver    (INFO) | residual: 2.183320e-02 | stage: 1 | iteration: 0 | t: 3.0\r"
     ]
    },
    {
     "name": "stderr",
     "output_type": "stream",
     "text": [
      "dream.solver    (INFO) | residual: 3.733542e-08 | stage: 1 | iteration: 1 | t: 3.0\r"
     ]
    },
    {
     "name": "stderr",
     "output_type": "stream",
     "text": [
      "dream.solver    (INFO) | residual: 2.081229e-18 | stage: 1 | iteration: 2 | t: 3.0\r"
     ]
    },
    {
     "name": "stderr",
     "output_type": "stream",
     "text": [
      "dream.solver    (INFO) | residual: 9.078589e-03 | stage: 2 | iteration: 0 | t: 3.0\r"
     ]
    },
    {
     "name": "stderr",
     "output_type": "stream",
     "text": [
      "dream.solver    (INFO) | residual: 6.448618e-09 | stage: 2 | iteration: 1 | t: 3.0\r"
     ]
    },
    {
     "name": "stderr",
     "output_type": "stream",
     "text": [
      "dream.solver    (INFO) | residual: 6.191046e-20 | stage: 2 | iteration: 2 | t: 3.0\r"
     ]
    },
    {
     "name": "stderr",
     "output_type": "stream",
     "text": [
      "dream.solver    (INFO) | residual: 9.405429e-03 | stage: 3 | iteration: 0 | t: 3.0\r"
     ]
    },
    {
     "name": "stderr",
     "output_type": "stream",
     "text": [
      "dream.solver    (INFO) | residual: 6.974014e-09 | stage: 3 | iteration: 1 | t: 3.0\r"
     ]
    },
    {
     "name": "stderr",
     "output_type": "stream",
     "text": [
      "dream.solver    (INFO) | residual: 7.356007e-20 | stage: 3 | iteration: 2 | t: 3.0\r"
     ]
    },
    {
     "name": "stderr",
     "output_type": "stream",
     "text": [
      "dream.solver    (INFO) | residual: 2.183178e-02 | stage: 1 | iteration: 0 | t: 3.25\r"
     ]
    },
    {
     "name": "stderr",
     "output_type": "stream",
     "text": [
      "dream.solver    (INFO) | residual: 3.732630e-08 | stage: 1 | iteration: 1 | t: 3.25\r"
     ]
    },
    {
     "name": "stderr",
     "output_type": "stream",
     "text": [
      "dream.solver    (INFO) | residual: 2.077727e-18 | stage: 1 | iteration: 2 | t: 3.25\r"
     ]
    },
    {
     "name": "stderr",
     "output_type": "stream",
     "text": [
      "dream.solver    (INFO) | residual: 9.077964e-03 | stage: 2 | iteration: 0 | t: 3.25\r"
     ]
    },
    {
     "name": "stderr",
     "output_type": "stream",
     "text": [
      "dream.solver    (INFO) | residual: 6.447093e-09 | stage: 2 | iteration: 1 | t: 3.25\r"
     ]
    },
    {
     "name": "stderr",
     "output_type": "stream",
     "text": [
      "dream.solver    (INFO) | residual: 6.182686e-20 | stage: 2 | iteration: 2 | t: 3.25\r"
     ]
    },
    {
     "name": "stderr",
     "output_type": "stream",
     "text": [
      "dream.solver    (INFO) | residual: 9.404818e-03 | stage: 3 | iteration: 0 | t: 3.25\r"
     ]
    },
    {
     "name": "stderr",
     "output_type": "stream",
     "text": [
      "dream.solver    (INFO) | residual: 6.972239e-09 | stage: 3 | iteration: 1 | t: 3.25\r"
     ]
    },
    {
     "name": "stderr",
     "output_type": "stream",
     "text": [
      "dream.solver    (INFO) | residual: 7.341626e-20 | stage: 3 | iteration: 2 | t: 3.25\r"
     ]
    },
    {
     "name": "stderr",
     "output_type": "stream",
     "text": [
      "dream.solver    (INFO) | residual: 2.183015e-02 | stage: 1 | iteration: 0 | t: 3.5\r"
     ]
    },
    {
     "name": "stderr",
     "output_type": "stream",
     "text": [
      "dream.solver    (INFO) | residual: 3.731783e-08 | stage: 1 | iteration: 1 | t: 3.5\r"
     ]
    },
    {
     "name": "stderr",
     "output_type": "stream",
     "text": [
      "dream.solver    (INFO) | residual: 2.076232e-18 | stage: 1 | iteration: 2 | t: 3.5\r"
     ]
    },
    {
     "name": "stderr",
     "output_type": "stream",
     "text": [
      "dream.solver    (INFO) | residual: 9.077266e-03 | stage: 2 | iteration: 0 | t: 3.5\r"
     ]
    },
    {
     "name": "stderr",
     "output_type": "stream",
     "text": [
      "dream.solver    (INFO) | residual: 6.445686e-09 | stage: 2 | iteration: 1 | t: 3.5\r"
     ]
    },
    {
     "name": "stderr",
     "output_type": "stream",
     "text": [
      "dream.solver    (INFO) | residual: 6.181160e-20 | stage: 2 | iteration: 2 | t: 3.5\r"
     ]
    },
    {
     "name": "stderr",
     "output_type": "stream",
     "text": [
      "dream.solver    (INFO) | residual: 9.404091e-03 | stage: 3 | iteration: 0 | t: 3.5\r"
     ]
    },
    {
     "name": "stderr",
     "output_type": "stream",
     "text": [
      "dream.solver    (INFO) | residual: 6.970599e-09 | stage: 3 | iteration: 1 | t: 3.5\r"
     ]
    },
    {
     "name": "stderr",
     "output_type": "stream",
     "text": [
      "dream.solver    (INFO) | residual: 7.333664e-20 | stage: 3 | iteration: 2 | t: 3.5\r"
     ]
    },
    {
     "name": "stderr",
     "output_type": "stream",
     "text": [
      "dream.solver    (INFO) | residual: 2.182837e-02 | stage: 1 | iteration: 0 | t: 3.75\r"
     ]
    },
    {
     "name": "stderr",
     "output_type": "stream",
     "text": [
      "dream.solver    (INFO) | residual: 3.731004e-08 | stage: 1 | iteration: 1 | t: 3.75\r"
     ]
    },
    {
     "name": "stderr",
     "output_type": "stream",
     "text": [
      "dream.solver    (INFO) | residual: 2.076101e-18 | stage: 1 | iteration: 2 | t: 3.75\r"
     ]
    },
    {
     "name": "stderr",
     "output_type": "stream",
     "text": [
      "dream.solver    (INFO) | residual: 9.076526e-03 | stage: 2 | iteration: 0 | t: 3.75\r"
     ]
    },
    {
     "name": "stderr",
     "output_type": "stream",
     "text": [
      "dream.solver    (INFO) | residual: 6.444366e-09 | stage: 2 | iteration: 1 | t: 3.75\r"
     ]
    },
    {
     "name": "stderr",
     "output_type": "stream",
     "text": [
      "dream.solver    (INFO) | residual: 6.180329e-20 | stage: 2 | iteration: 2 | t: 3.75\r"
     ]
    },
    {
     "name": "stderr",
     "output_type": "stream",
     "text": [
      "dream.solver    (INFO) | residual: 9.403284e-03 | stage: 3 | iteration: 0 | t: 3.75\r"
     ]
    },
    {
     "name": "stderr",
     "output_type": "stream",
     "text": [
      "dream.solver    (INFO) | residual: 6.969103e-09 | stage: 3 | iteration: 1 | t: 3.75\r"
     ]
    },
    {
     "name": "stderr",
     "output_type": "stream",
     "text": [
      "dream.solver    (INFO) | residual: 7.332105e-20 | stage: 3 | iteration: 2 | t: 3.75\r"
     ]
    },
    {
     "name": "stderr",
     "output_type": "stream",
     "text": [
      "dream.solver    (INFO) | residual: 2.182656e-02 | stage: 1 | iteration: 0 | t: 4.0\r"
     ]
    },
    {
     "name": "stderr",
     "output_type": "stream",
     "text": [
      "dream.solver    (INFO) | residual: 3.730245e-08 | stage: 1 | iteration: 1 | t: 4.0\r"
     ]
    },
    {
     "name": "stderr",
     "output_type": "stream",
     "text": [
      "dream.solver    (INFO) | residual: 2.075490e-18 | stage: 1 | iteration: 2 | t: 4.0\r"
     ]
    },
    {
     "name": "stderr",
     "output_type": "stream",
     "text": [
      "dream.solver    (INFO) | residual: 9.075789e-03 | stage: 2 | iteration: 0 | t: 4.0\r"
     ]
    },
    {
     "name": "stderr",
     "output_type": "stream",
     "text": [
      "dream.solver    (INFO) | residual: 6.443051e-09 | stage: 2 | iteration: 1 | t: 4.0\r"
     ]
    },
    {
     "name": "stderr",
     "output_type": "stream",
     "text": [
      "dream.solver    (INFO) | residual: 6.178558e-20 | stage: 2 | iteration: 2 | t: 4.0\r"
     ]
    },
    {
     "name": "stderr",
     "output_type": "stream",
     "text": [
      "dream.solver    (INFO) | residual: 9.402468e-03 | stage: 3 | iteration: 0 | t: 4.0\r"
     ]
    },
    {
     "name": "stderr",
     "output_type": "stream",
     "text": [
      "dream.solver    (INFO) | residual: 6.967659e-09 | stage: 3 | iteration: 1 | t: 4.0\r"
     ]
    },
    {
     "name": "stderr",
     "output_type": "stream",
     "text": [
      "dream.solver    (INFO) | residual: 7.330207e-20 | stage: 3 | iteration: 2 | t: 4.0\r"
     ]
    },
    {
     "name": "stderr",
     "output_type": "stream",
     "text": [
      "dream.solver    (INFO) | residual: 2.182481e-02 | stage: 1 | iteration: 0 | t: 4.25\r"
     ]
    },
    {
     "name": "stderr",
     "output_type": "stream",
     "text": [
      "dream.solver    (INFO) | residual: 3.729475e-08 | stage: 1 | iteration: 1 | t: 4.25\r"
     ]
    },
    {
     "name": "stderr",
     "output_type": "stream",
     "text": [
      "dream.solver    (INFO) | residual: 2.075153e-18 | stage: 1 | iteration: 2 | t: 4.25\r"
     ]
    },
    {
     "name": "stderr",
     "output_type": "stream",
     "text": [
      "dream.solver    (INFO) | residual: 9.075086e-03 | stage: 2 | iteration: 0 | t: 4.25\r"
     ]
    },
    {
     "name": "stderr",
     "output_type": "stream",
     "text": [
      "dream.solver    (INFO) | residual: 6.441725e-09 | stage: 2 | iteration: 1 | t: 4.25\r"
     ]
    },
    {
     "name": "stderr",
     "output_type": "stream",
     "text": [
      "dream.solver    (INFO) | residual: 6.177894e-20 | stage: 2 | iteration: 2 | t: 4.25\r"
     ]
    },
    {
     "name": "stderr",
     "output_type": "stream",
     "text": [
      "dream.solver    (INFO) | residual: 9.401691e-03 | stage: 3 | iteration: 0 | t: 4.25\r"
     ]
    },
    {
     "name": "stderr",
     "output_type": "stream",
     "text": [
      "dream.solver    (INFO) | residual: 6.966187e-09 | stage: 3 | iteration: 1 | t: 4.25\r"
     ]
    },
    {
     "name": "stderr",
     "output_type": "stream",
     "text": [
      "dream.solver    (INFO) | residual: 7.329629e-20 | stage: 3 | iteration: 2 | t: 4.25\r"
     ]
    },
    {
     "name": "stderr",
     "output_type": "stream",
     "text": [
      "dream.solver    (INFO) | residual: 2.182317e-02 | stage: 1 | iteration: 0 | t: 4.5\r"
     ]
    },
    {
     "name": "stderr",
     "output_type": "stream",
     "text": [
      "dream.solver    (INFO) | residual: 3.728702e-08 | stage: 1 | iteration: 1 | t: 4.5\r"
     ]
    },
    {
     "name": "stderr",
     "output_type": "stream",
     "text": [
      "dream.solver    (INFO) | residual: 2.074844e-18 | stage: 1 | iteration: 2 | t: 4.5\r"
     ]
    },
    {
     "name": "stderr",
     "output_type": "stream",
     "text": [
      "dream.solver    (INFO) | residual: 9.074426e-03 | stage: 2 | iteration: 0 | t: 4.5\r"
     ]
    },
    {
     "name": "stderr",
     "output_type": "stream",
     "text": [
      "dream.solver    (INFO) | residual: 6.440394e-09 | stage: 2 | iteration: 1 | t: 4.5\r"
     ]
    },
    {
     "name": "stderr",
     "output_type": "stream",
     "text": [
      "dream.solver    (INFO) | residual: 6.175999e-20 | stage: 2 | iteration: 2 | t: 4.5\r"
     ]
    },
    {
     "name": "stderr",
     "output_type": "stream",
     "text": [
      "dream.solver    (INFO) | residual: 9.400967e-03 | stage: 3 | iteration: 0 | t: 4.5\r"
     ]
    },
    {
     "name": "stderr",
     "output_type": "stream",
     "text": [
      "dream.solver    (INFO) | residual: 6.964705e-09 | stage: 3 | iteration: 1 | t: 4.5\r"
     ]
    },
    {
     "name": "stderr",
     "output_type": "stream",
     "text": [
      "dream.solver    (INFO) | residual: 7.329094e-20 | stage: 3 | iteration: 2 | t: 4.5\r"
     ]
    },
    {
     "name": "stderr",
     "output_type": "stream",
     "text": [
      "dream.solver    (INFO) | residual: 2.182163e-02 | stage: 1 | iteration: 0 | t: 4.75\r"
     ]
    },
    {
     "name": "stderr",
     "output_type": "stream",
     "text": [
      "dream.solver    (INFO) | residual: 3.727917e-08 | stage: 1 | iteration: 1 | t: 4.75\r"
     ]
    },
    {
     "name": "stderr",
     "output_type": "stream",
     "text": [
      "dream.solver    (INFO) | residual: 2.074214e-18 | stage: 1 | iteration: 2 | t: 4.75\r"
     ]
    },
    {
     "name": "stderr",
     "output_type": "stream",
     "text": [
      "dream.solver    (INFO) | residual: 9.073801e-03 | stage: 2 | iteration: 0 | t: 4.75\r"
     ]
    },
    {
     "name": "stderr",
     "output_type": "stream",
     "text": [
      "dream.solver    (INFO) | residual: 6.439023e-09 | stage: 2 | iteration: 1 | t: 4.75\r"
     ]
    },
    {
     "name": "stderr",
     "output_type": "stream",
     "text": [
      "dream.solver    (INFO) | residual: 6.175598e-20 | stage: 2 | iteration: 2 | t: 4.75\r"
     ]
    },
    {
     "name": "stderr",
     "output_type": "stream",
     "text": [
      "dream.solver    (INFO) | residual: 9.400289e-03 | stage: 3 | iteration: 0 | t: 4.75\r"
     ]
    },
    {
     "name": "stderr",
     "output_type": "stream",
     "text": [
      "dream.solver    (INFO) | residual: 6.963213e-09 | stage: 3 | iteration: 1 | t: 4.75\r"
     ]
    },
    {
     "name": "stderr",
     "output_type": "stream",
     "text": [
      "dream.solver    (INFO) | residual: 7.326632e-20 | stage: 3 | iteration: 2 | t: 4.75\r"
     ]
    },
    {
     "name": "stderr",
     "output_type": "stream",
     "text": [
      "dream.solver    (INFO) | residual: 2.182015e-02 | stage: 1 | iteration: 0 | t: 5.0\r"
     ]
    },
    {
     "name": "stderr",
     "output_type": "stream",
     "text": [
      "dream.solver    (INFO) | residual: 3.727104e-08 | stage: 1 | iteration: 1 | t: 5.0\r"
     ]
    },
    {
     "name": "stderr",
     "output_type": "stream",
     "text": [
      "dream.solver    (INFO) | residual: 2.075212e-18 | stage: 1 | iteration: 2 | t: 5.0\r"
     ]
    },
    {
     "name": "stderr",
     "output_type": "stream",
     "text": [
      "dream.solver    (INFO) | residual: 9.073197e-03 | stage: 2 | iteration: 0 | t: 5.0\r"
     ]
    },
    {
     "name": "stderr",
     "output_type": "stream",
     "text": [
      "dream.solver    (INFO) | residual: 6.437613e-09 | stage: 2 | iteration: 1 | t: 5.0\r"
     ]
    },
    {
     "name": "stderr",
     "output_type": "stream",
     "text": [
      "dream.solver    (INFO) | residual: 6.179779e-20 | stage: 2 | iteration: 2 | t: 5.0\r"
     ]
    },
    {
     "name": "stderr",
     "output_type": "stream",
     "text": [
      "dream.solver    (INFO) | residual: 9.399636e-03 | stage: 3 | iteration: 0 | t: 5.0\r"
     ]
    },
    {
     "name": "stderr",
     "output_type": "stream",
     "text": [
      "dream.solver    (INFO) | residual: 6.961684e-09 | stage: 3 | iteration: 1 | t: 5.0\r"
     ]
    },
    {
     "name": "stderr",
     "output_type": "stream",
     "text": [
      "dream.solver    (INFO) | residual: 7.330148e-20 | stage: 3 | iteration: 2 | t: 5.0\r"
     ]
    },
    {
     "data": {
      "application/vnd.jupyter.widget-view+json": {
       "model_id": "158cfb51eb9442d78b933bfddd4931d7",
       "version_major": 2,
       "version_minor": 0
      },
      "text/plain": [
       "WebGuiDocuWidget(value={'render_data': 'render_data_5.json', 'preview': 'preview_5.png'})"
      ]
     },
     "metadata": {},
     "output_type": "display_data"
    },
    {
     "data": {
      "image/png": "[encoded data removed]",
      "text/plain": [
       "<Figure size 1500x600 with 1 Axes>"
      ]
     },
     "metadata": {},
     "output_type": "display_data"
    },
    {
     "data": {
      "image/png": "[encoded data removed]",
      "text/plain": [
       "<Figure size 1500x600 with 1 Axes>"
      ]
     },
     "metadata": {},
     "output_type": "display_data"
    }
   ],
   "source": [
    "# Run simulation(s).\n",
    "routines = [implicit_euler_hdg, bdf2_hdg, sdirk33_hdg]\n",
    "\n",
    "# Figure 1: logarithmic plot of the relative error in the L2-norm: density.\n",
    "fig1, ax1 = setup_fig(\"Time\", r\"$\\| \\rho_e - \\rho_h \\|$\", r\"Time Evolution of Relative Density L2-norm\")\n",
    "\n",
    "# Figure 2: logarithmic plot of the relative error in the L2-norm: magnitude of momentum.\n",
    "fig2, ax2 = setup_fig(\"Time\", r\"$\\| \\rho u_e - \\rho u_h \\|$\", r\"Time Evolution of Relative Momentum L2-norm\")\n",
    "\n",
    "# Run each simulation.\n",
    "for routine in routines:\n",
    "    print(f\"Running {routine.label}...\")\n",
    "    data = routine(draw_solution=False)\n",
    "    style = get_plot_style(routine.label, method_colors)\n",
    "\n",
    "    ax1.semilogy(data[:, 0], data[:, 1], **style)\n",
    "    ax2.semilogy(data[:, 0], data[:, 2], **style)\n",
    "\n",
    "    uh = cfg.get_solution_fields('rho_u')\n",
    "    ue = AnalyticSolution(cfg, cfg.time.timer.t)\n",
    "    isentropic_deviation = (uh.p/ue.p) * (ue.rho/uh.rho)**gamma - 1.0\n",
    "    cfg.io.draw({\"Deviation[Isentropy]\": isentropic_deviation}, min=-0.0001, max=0.0001)\n",
    "\n",
    "# Final touches.\n",
    "ax1.legend(loc=\"upper left\", frameon=False)\n",
    "ax2.legend(loc=\"upper left\", frameon=False)\n",
    "fig1.tight_layout()\n",
    "fig2.tight_layout()\n",
    "plt.show()"
   ]
  }
 ],
 "metadata": {
  "kernelspec": {
   "display_name": "Python 3",
   "language": "python",
   "name": "python3"
  },
  "language_info": {
   "codemirror_mode": {
    "name": "ipython",
    "version": 3
   },
   "file_extension": ".py",
   "mimetype": "text/x-python",
   "name": "python",
   "nbconvert_exporter": "python",
   "pygments_lexer": "ipython3",
   "version": "3.13.0"
  },
  "widgets": {
   "application/vnd.jupyter.widget-state+json": {
    "state": {
     "158cfb51eb9442d78b933bfddd4931d7": {
      "model_module": "webgui_jupyter_widgets",
      "model_module_version": "0.2.37",
      "model_name": "WebguiModel",
      "state": {
       "_dom_classes": [],
       "_model_module": "webgui_jupyter_widgets",
       "_model_module_version": "0.2.37",
       "_model_name": "WebguiModel",
       "_view_count": null,
       "_view_module": "webgui_jupyter_widgets",
       "_view_module_version": "0.2.37",
       "_view_name": "WebguiDocuView",
       "layout": "IPY_MODEL_19d6559c8ebc4ed1bd50f6b610e697b9",
       "tabbable": null,
       "tooltip": null,
       "value": {
        "preview": "preview_5.png",
        "render_data": "render_data_5.json"
       }
      }
     },
     "19d6559c8ebc4ed1bd50f6b610e697b9": {
      "model_module": "@jupyter-widgets/base",
      "model_module_version": "2.0.0",
      "model_name": "LayoutModel",
      "state": {
       "_model_module": "@jupyter-widgets/base",
       "_model_module_version": "2.0.0",
       "_model_name": "LayoutModel",
       "_view_count": null,
       "_view_module": "@jupyter-widgets/base",
       "_view_module_version": "2.0.0",
       "_view_name": "LayoutView",
       "align_content": null,
       "align_items": null,
       "align_self": null,
       "border_bottom": null,
       "border_left": null,
       "border_right": null,
       "border_top": null,
       "bottom": null,
       "display": null,
       "flex": null,
       "flex_flow": null,
       "grid_area": null,
       "grid_auto_columns": null,
       "grid_auto_flow": null,
       "grid_auto_rows": null,
       "grid_column": null,
       "grid_gap": null,
       "grid_row": null,
       "grid_template_areas": null,
       "grid_template_columns": null,
       "grid_template_rows": null,
       "height": null,
       "justify_content": null,
       "justify_items": null,
       "left": null,
       "margin": null,
       "max_height": null,
       "max_width": null,
       "min_height": null,
       "min_width": null,
       "object_fit": null,
       "object_position": null,
       "order": null,
       "overflow": null,
       "padding": null,
       "right": null,
       "top": null,
       "visibility": null,
       "width": null
      }
     },
     "536c48170e2a42e8bffdfe158f9a3582": {
      "model_module": "webgui_jupyter_widgets",
      "model_module_version": "0.2.37",
      "model_name": "WebguiModel",
      "state": {
       "_dom_classes": [],
       "_model_module": "webgui_jupyter_widgets",
       "_model_module_version": "0.2.37",
       "_model_name": "WebguiModel",
       "_view_count": null,
       "_view_module": "webgui_jupyter_widgets",
       "_view_module_version": "0.2.37",
       "_view_name": "WebguiDocuView",
       "layout": "IPY_MODEL_d8765834e65347ffbaf93f0ddbf01fc2",
       "tabbable": null,
       "tooltip": null,
       "value": {
        "preview": "preview_4.png",
        "render_data": "render_data_4.json"
       }
      }
     },
     "d8765834e65347ffbaf93f0ddbf01fc2": {
      "model_module": "@jupyter-widgets/base",
      "model_module_version": "2.0.0",
      "model_name": "LayoutModel",
      "state": {
       "_model_module": "@jupyter-widgets/base",
       "_model_module_version": "2.0.0",
       "_model_name": "LayoutModel",
       "_view_count": null,
       "_view_module": "@jupyter-widgets/base",
       "_view_module_version": "2.0.0",
       "_view_name": "LayoutView",
       "align_content": null,
       "align_items": null,
       "align_self": null,
       "border_bottom": null,
       "border_left": null,
       "border_right": null,
       "border_top": null,
       "bottom": null,
       "display": null,
       "flex": null,
       "flex_flow": null,
       "grid_area": null,
       "grid_auto_columns": null,
       "grid_auto_flow": null,
       "grid_auto_rows": null,
       "grid_column": null,
       "grid_gap": null,
       "grid_row": null,
       "grid_template_areas": null,
       "grid_template_columns": null,
       "grid_template_rows": null,
       "height": null,
       "justify_content": null,
       "justify_items": null,
       "left": null,
       "margin": null,
       "max_height": null,
       "max_width": null,
       "min_height": null,
       "min_width": null,
       "object_fit": null,
       "object_position": null,
       "order": null,
       "overflow": null,
       "padding": null,
       "right": null,
       "top": null,
       "visibility": null,
       "width": null
      }
     },
     "ed30cb7d89b24e29bc8e8cc193a8f02a": {
      "model_module": "@jupyter-widgets/base",
      "model_module_version": "2.0.0",
      "model_name": "LayoutModel",
      "state": {
       "_model_module": "@jupyter-widgets/base",
       "_model_module_version": "2.0.0",
       "_model_name": "LayoutModel",
       "_view_count": null,
       "_view_module": "@jupyter-widgets/base",
       "_view_module_version": "2.0.0",
       "_view_name": "LayoutView",
       "align_content": null,
       "align_items": null,
       "align_self": null,
       "border_bottom": null,
       "border_left": null,
       "border_right": null,
       "border_top": null,
       "bottom": null,
       "display": null,
       "flex": null,
       "flex_flow": null,
       "grid_area": null,
       "grid_auto_columns": null,
       "grid_auto_flow": null,
       "grid_auto_rows": null,
       "grid_column": null,
       "grid_gap": null,
       "grid_row": null,
       "grid_template_areas": null,
       "grid_template_columns": null,
       "grid_template_rows": null,
       "height": null,
       "justify_content": null,
       "justify_items": null,
       "left": null,
       "margin": null,
       "max_height": null,
       "max_width": null,
       "min_height": null,
       "min_width": null,
       "object_fit": null,
       "object_position": null,
       "order": null,
       "overflow": null,
       "padding": null,
       "right": null,
       "top": null,
       "visibility": null,
       "width": null
      }
     },
     "ee5dce5c528845ce8f4f7dad73f450c0": {
      "model_module": "webgui_jupyter_widgets",
      "model_module_version": "0.2.37",
      "model_name": "WebguiModel",
      "state": {
       "_dom_classes": [],
       "_model_module": "webgui_jupyter_widgets",
       "_model_module_version": "0.2.37",
       "_model_name": "WebguiModel",
       "_view_count": null,
       "_view_module": "webgui_jupyter_widgets",
       "_view_module_version": "0.2.37",
       "_view_name": "WebguiDocuView",
       "layout": "IPY_MODEL_ed30cb7d89b24e29bc8e8cc193a8f02a",
       "tabbable": null,
       "tooltip": null,
       "value": {
        "preview": "preview_3.png",
        "render_data": "render_data_3.json"
       }
      }
     }
    },
    "version_major": 2,
    "version_minor": 0
   }
  }
 },
 "nbformat": 4,
 "nbformat_minor": 5
}
