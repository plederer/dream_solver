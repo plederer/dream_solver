{
 "cells": [
  {
   "cell_type": "markdown",
   "id": "ab1837f8-02a2-4b53-8b4d-ed9318fb81ee",
   "metadata": {},
   "source": [
    "## Isentropic Vortex in 2D\n",
    "\n",
    "This example is taken from **Spiegel et al. (2015)**, namely Section *IV.A.1*. Hence, the exact solution is based on the Gaussian pulse\n",
    "$$\n",
    "\\Omega = \\beta e^{f},\n",
    "$$\n",
    "where $f(x,y) = -\\frac{1}{2\\sigma^2} \\Big( r^2/ R^2 \\Big)$, with $r^2 = (x-x_c)^2 + (y-y_c)^2$ and $(x_c, y_c)$ correspond to the initial location of the pulse. Using this function, we define the perturbations to the velocity and temperature as\n",
    "$$\n",
    "\\delta u = - \\big( y/R \\big) \\Omega, \\qquad\n",
    "\\delta v =   \\big( x/R \\big) \\Omega, \\qquad\n",
    "\\delta T = - \\big( \\overline{\\gamma}/2 \\big) \\Omega^2,\n",
    "$$\n",
    "with $\\overline{\\gamma} = \\gamma - 1$ and the specific heat ratio is taken as $\\gamma = 1.4$.\n",
    "\n",
    "Afterwards, these perturbations along with an isentropic flow assumption ($\\delta s = 0$, where $s = p/\\rho^\\gamma$), we generate the analytic solution. In primitive variables, this reads\n",
    "$$\n",
    "\\rho = \\big( 1 + \\delta T\\big)^{1/\\overline{\\gamma}},\\qquad\n",
    "u = M_\\infty \\cos \\alpha + \\delta u,\\qquad \n",
    "v = M_\\infty \\sin \\alpha + \\delta v,\\qquad\n",
    "p = \\rho^{\\gamma}/\\gamma,\n",
    "$$\n",
    "where $M_\\infty$ is the mean Mach number and $\\alpha$ is the flow angle, taken with respect to the $x$-axis.\n",
    "\n",
    "Following d'Alembert's solution, the above analytic solution at any given time is simply the shift of the initial condition ($t = t_0$). This can be represented by substituting the initial coordinates $x$ and $y$ with\n",
    "$$\n",
    "x(t) = x - u_\\infty t,\\qquad\n",
    "y(t) = y - v_\\infty t,\n",
    "$$\n",
    "where $(u_\\infty, v_\\infty)$ is the mean velocity, obtained from the Mach number and flow direction via $u_\\infty = M_\\infty \\cos \\alpha$ and $v_\\infty = M_\\infty \\sin \\alpha$.\n",
    "\n",
    "For this specific example, the parameters used are: a mean Mach number of $M_\\infty = 0.5$, a Gaussian amplitude of $\\beta = M_\\infty \\frac{5 \\sqrt{2}}{4 \\pi} e^{1/2}$ with a characteristic width of $R = 1$,  a flow angle of $\\alpha = 45^{\\circ}$ on a grid $\\boldsymbol{x} \\in [-5,+5]^2$ with an initial pulse center situated at $(x_c, y_c) = (0, 0)$. The total duration of this simulation is taken as $t \\in [0,5]$. Note, all variables are non-dimensional, by definition.\n",
    "\n",
    "[1] **Spiegel, Seth C., H. T. Huynh, and James R. DeBonis.**  \n",
    "\"A Survey of the Isentropic Euler Vortex Problem Using High-Order Methods.\"  \n",
    "*22nd AIAA Computational Fluid Dynamics Conference*, 2015.\n"
   ]
  },
  {
   "cell_type": "code",
   "execution_count": 1,
   "id": "a7098365-8928-44fc-a820-e2c122cf4028",
   "metadata": {
    "execution": {
     "iopub.execute_input": "2025-06-09T18:25:22.544803Z",
     "iopub.status.busy": "2025-06-09T18:25:22.544244Z",
     "iopub.status.idle": "2025-06-09T18:25:22.966505Z",
     "shell.execute_reply": "2025-06-09T18:25:22.965124Z"
    }
   },
   "outputs": [],
   "source": [
    "# Import preliminary modules.\n",
    "from dream import *\n",
    "from dream.compressible import Initial, CompressibleFlowSolver, flowfields\n",
    "import ngsolve as ngs "
   ]
  },
  {
   "cell_type": "code",
   "execution_count": 2,
   "id": "ac94caa7-86bb-453f-96b0-40e0b8ef2609",
   "metadata": {
    "execution": {
     "iopub.execute_input": "2025-06-09T18:25:22.971738Z",
     "iopub.status.busy": "2025-06-09T18:25:22.971249Z",
     "iopub.status.idle": "2025-06-09T18:25:22.980328Z",
     "shell.execute_reply": "2025-06-09T18:25:22.979052Z"
    }
   },
   "outputs": [],
   "source": [
    "# Define the grid.\n",
    "from netgen.occ import OCCGeometry, WorkPlane\n",
    "from netgen.meshing import IdentificationType\n",
    "\n",
    "def CreateSimpleGrid(ne, lx, ly):\n",
    "\n",
    "    # Select a common element size.\n",
    "    h0 = min( lx, ly )/float(ne)\n",
    "\n",
    "    # Generate a simple rectangular geometry.\n",
    "    domain = WorkPlane().RectangleC(lx, ly).Face()\n",
    "\n",
    "    # Assign the name of the internal solution in the domain.\n",
    "    domain.name = 'internal'\n",
    "\n",
    "    # For convenience, extract and name each of the edges consistently.\n",
    "    bottom = domain.edges[0]; bottom.name = 'bottom'\n",
    "    right  = domain.edges[1]; right.name  = 'right'\n",
    "    top    = domain.edges[2]; top.name    = 'top'\n",
    "    left   = domain.edges[3]; left.name   = 'left'\n",
    "\n",
    "    # Pair the boundaries in each direction: vertical and horizontal.\n",
    "    bottom.Identify(top, \"ydir\", IdentificationType.PERIODIC)\n",
    "    right.Identify(left, \"xdir\", IdentificationType.PERIODIC)\n",
    "\n",
    "    # Initialize a rectangular 2D geometry.\n",
    "    geo = OCCGeometry(domain, dim=2)\n",
    "\n",
    "    # Discretize the domain.\n",
    "    mesh = ngs.Mesh(geo.GenerateMesh(maxh=h0, quad_dominated=True))\n",
    "\n",
    "    # Return our fancy grid.\n",
    "    return mesh\n"
   ]
  },
  {
   "cell_type": "code",
   "execution_count": 3,
   "id": "611f77b5-5e28-41f2-97f3-de59993c4568",
   "metadata": {
    "execution": {
     "iopub.execute_input": "2025-06-09T18:25:22.984812Z",
     "iopub.status.busy": "2025-06-09T18:25:22.984465Z",
     "iopub.status.idle": "2025-06-09T18:25:23.021680Z",
     "shell.execute_reply": "2025-06-09T18:25:23.020355Z"
    }
   },
   "outputs": [],
   "source": [
    "# Generate the grid.\n",
    "\n",
    "# Number of elements per dimension.\n",
    "ne = 10\n",
    "\n",
    "# Dimension of the rectangular domain.\n",
    "lx = 10.0 \n",
    "ly = 10.0 \n",
    "\n",
    "# Generate a simple grid.\n",
    "mesh = CreateSimpleGrid(ne, lx, ly)\n",
    "\n",
    "# Message output detail from netgen.\n",
    "ngs.ngsglobals.msg_level = 0 \n",
    "ngs.SetNumThreads(4)"
   ]
  },
  {
   "cell_type": "code",
   "execution_count": 4,
   "id": "67aa26d3-f393-4a37-b9a7-3eae3fbf72c9",
   "metadata": {
    "execution": {
     "iopub.execute_input": "2025-06-09T18:25:23.026159Z",
     "iopub.status.busy": "2025-06-09T18:25:23.025809Z",
     "iopub.status.idle": "2025-06-09T18:25:23.043221Z",
     "shell.execute_reply": "2025-06-09T18:25:23.041916Z"
    }
   },
   "outputs": [],
   "source": [
    "# Class containing all the parameters to define an isentropic vortex. \n",
    "class IsentropicVortexParam:\n",
    "    def __init__(self, cfg):\n",
    "       \n",
    "        # Center of the vortex, assumed at the center of the domain. \n",
    "        # Currently, this assumes that the domain is: [0,lx],[0,ly].       \n",
    "        self.x0     = 0.0\n",
    "        self.y0     = 0.0\n",
    "\n",
    "        # Vortex parameters, found in Spiegel et al. (2015). \n",
    "        self.theta  = 45.0 # flow angle [deg]. \n",
    "        self.Tinf   = 1.0  # background temperature.\n",
    "        self.Pinf   = 1.0  # background pressure.\n",
    "        self.Rinf   = 1.0  # background density.\n",
    "        self.Minf   = 0.5  # background Mach.\n",
    "        self.sigma  = 1.0  # Perturbation strength.\n",
    "        self.Rv     = 1.0  # Perturbation width.\n",
    "        \n",
    "        # Scaling for the maximum strength of the perturbation.\n",
    "        self.beta   = self.Minf*ngs.exp(0.5)*5.0*ngs.sqrt(2.0)/(4.0*ngs.pi)\n",
    "\n",
    "        # Convert the angle from degrees to radians.\n",
    "        self.theta *= ngs.pi/180.0\n",
    "\n",
    "        # Deduce the background mean velocity.\n",
    "        self.uinf   = self.Minf*ngs.cos( self.theta )\n",
    "        self.vinf   = self.Minf*ngs.sin( self.theta )\n",
    "\n",
    "        # Store gamma here, so we do not pass it around constantly.\n",
    "        self.gamma  = cfg.equation_of_state.heat_capacity_ratio\n",
    "\n",
    "\n",
    "# Function that defines the analytic solution.\n",
    "def InitialCondition(cfg):\n",
    "  \n",
    "    # Extract the starting time.\n",
    "    t0 = cfg.time.timer.interval[0]\n",
    "\n",
    "    # Return the analytic solution at time: t0.\n",
    "    return AnalyticSolution(cfg, t0)\n",
    "\n",
    "\n",
    "# Function that creates a time-dependant analytic solution.\n",
    "def AnalyticSolution(cfg, t):\n",
    "\n",
    "    # Extract the vortex parameters.\n",
    "    vparam = IsentropicVortexParam(cfg)\n",
    "\n",
    "    # Generate an array of 4x3 vortices. If you need something different, modify it.\n",
    "    # NOTE, in this case, the 4x3 array of vortices assumes:\n",
    "    #  1) flow aligned in (+ve) x-direction.\n",
    "    #  2) simulation is done for only 1 period: tf = lx/uInf.\n",
    "    fn = ngs.CF(())\n",
    "    for i in range(-2,2):\n",
    "        for j in range(-1,2):\n",
    "            fn += GeneratePerturbation(vparam, t, i, j)\n",
    "\n",
    "    # For convenience, extract the perturbations explicitly.\n",
    "    dT = fn[0]; du = fn[1]; dv = fn[2]\n",
    "\n",
    "    # Extract the required parameters to construct the actual variables.\n",
    "    gamma  = vparam.gamma\n",
    "    uinf   = vparam.uinf\n",
    "    vinf   = vparam.vinf\n",
    "\n",
    "    # Abbreviations involving gamma.\n",
    "    gm1    =  gamma - 1.0\n",
    "    ovg    =  1.0/gamma\n",
    "    ovgm1  =  1.0/gm1\n",
    "    govgm1 =  gamma*ovgm1\n",
    "\n",
    "    # Define the primitive variables, by superimposing the perturbations on a background state.\n",
    "    r = (1.0 + dT)**ovgm1\n",
    "    u = uinf + du\n",
    "    v = vinf + dv\n",
    "    p = ovg*(1.0 + dT)**govgm1\n",
    "\n",
    "    # Return the analytic expression of the vortex.\n",
    "    return flowfields( rho=r, u=(u, v), p=p )\n",
    "\n",
    "\n",
    "# Function that generates a single isentropic perturbations in the velocity and temperature.\n",
    "# Here, (ni,nj) are the integers for the multiple of (lx,ly)\n",
    "# distances between the leading/trailing vortices.\n",
    "def GeneratePerturbation(vparam, t, ni, nj):\n",
    "\n",
    "    # For convenience, extract the information of the vortex.\n",
    "    theta = vparam.theta\n",
    "    Tinf  = vparam.Tinf\n",
    "    Pinf  = vparam.Pinf\n",
    "    Rinf  = vparam.Rinf\n",
    "    Minf  = vparam.Minf\n",
    "    sigma = vparam.sigma\n",
    "    Rv    = vparam.Rv\n",
    "    beta  = vparam.beta\n",
    "    gamma = vparam.gamma\n",
    "    x0    = vparam.x0\n",
    "    y0    = vparam.y0\n",
    "    uinf  = vparam.uinf\n",
    "    vinf  = vparam.vinf\n",
    "\n",
    "    # Center of the pulse.\n",
    "    xc = x0 + ni*lx\n",
    "    yc = y0 + nj*ly\n",
    "\n",
    "    # Time-dependent pulse center.\n",
    "    xt = (ngs.x-xc) - uinf*t\n",
    "    yt = (ngs.y-yc) - vinf*t\n",
    "\n",
    "    # Abbreviations involving gamma.\n",
    "    gm1    =  gamma - 1.0\n",
    "    ovg    =  1.0/gamma\n",
    "    ovgm1  =  1.0/gm1\n",
    "    govgm1 =  gamma*ovgm1\n",
    "    ovs2   =  1.0/(sigma*sigma)\n",
    "\n",
    "    # The Gaussian perturbation function.\n",
    "    ovRv   =  1.0/Rv\n",
    "    f      = -0.5*ovs2*( (xt/Rv)**2 + (yt/Rv)**2 )\n",
    "    Omega  =  beta*ngs.exp(f)\n",
    "\n",
    "    # Velocity and temperature perturbations.\n",
    "    du = -ovRv*yt*Omega\n",
    "    dv =  ovRv*xt*Omega\n",
    "    dT = -0.5*gm1*Omega**2\n",
    "\n",
    "    # Return the Perturbations.\n",
    "    return ngs.CF( (dT, du, dv) )"
   ]
  },
  {
   "cell_type": "code",
   "execution_count": 5,
   "id": "08005dcf-f5ce-4720-8f18-a336c7629d0c",
   "metadata": {
    "execution": {
     "iopub.execute_input": "2025-06-09T18:25:23.048221Z",
     "iopub.status.busy": "2025-06-09T18:25:23.047861Z",
     "iopub.status.idle": "2025-06-09T18:25:23.060887Z",
     "shell.execute_reply": "2025-06-09T18:25:23.060272Z"
    }
   },
   "outputs": [],
   "source": [
    "# Solver configuration: Compressible (inviscid) flow.\n",
    "cfg = CompressibleFlowSolver(mesh)\n",
    "\n",
    "cfg.dynamic_viscosity = \"inviscid\"\n",
    "cfg.equation_of_state = \"ideal\"\n",
    "cfg.equation_of_state.heat_capacity_ratio = 1.4\n",
    "cfg.scaling = \"acoustic\"\n",
    "cfg.mach_number = 0.0\n",
    "\n",
    "cfg.riemann_solver = \"lax_friedrich\"\n",
    "cfg.fem = \"conservative\"\n",
    "cfg.fem.order = 0\n",
    "cfg.fem.method = \"hdg\" # NOTE, by default, HDG is used.\n",
    "\n",
    "cfg.time = \"transient\"\n",
    "cfg.fem.scheme = \"implicit_euler\"\n",
    "cfg.time.timer.interval = (0.0, 5.0)\n",
    "cfg.time.timer.step = 0.25\n",
    "\n",
    "cfg.linear_solver = \"pardiso\"\n",
    "cfg.nonlinear_solver = \"pardiso\"\n",
    "cfg.nonlinear_solver.method = \"newton\"\n",
    "cfg.nonlinear_solver.method.damping_factor = 1\n",
    "cfg.nonlinear_solver.max_iterations = 10\n",
    "cfg.nonlinear_solver.convergence_criterion = 1e-10\n",
    "\n",
    "cfg.optimizations.static_condensation = True  # NOTE, by default, condensation is turned on.\n",
    "cfg.optimizations.compile.realcompile = False\n",
    "\n",
    "Uic = InitialCondition(cfg)\n",
    "\n",
    "cfg.bcs['left|right'] = \"periodic\"\n",
    "cfg.bcs['top|bottom'] = \"periodic\"\n",
    "cfg.dcs['internal'] = Initial(fields=Uic)"
   ]
  },
  {
   "cell_type": "code",
   "execution_count": 6,
   "id": "e87640b2-6a00-4bd4-a667-51c821de6bfc",
   "metadata": {
    "execution": {
     "iopub.execute_input": "2025-06-09T18:25:23.065150Z",
     "iopub.status.busy": "2025-06-09T18:25:23.064449Z",
     "iopub.status.idle": "2025-06-09T18:25:23.079807Z",
     "shell.execute_reply": "2025-06-09T18:25:23.078613Z"
    }
   },
   "outputs": [],
   "source": [
    "# Decorator for the actual simulation.\n",
    "import numpy as np\n",
    "\n",
    "# Extract time configuration.\n",
    "t0, tf = cfg.time.timer.interval\n",
    "dt = cfg.time.timer.step.Get()\n",
    "nt = int(round((tf - t0) / dt))\n",
    "\n",
    "# Abbreviations.\n",
    "gamma = cfg.equation_of_state.heat_capacity_ratio\n",
    "\n",
    "# Define a decorator for the isentropic vortex routine.\n",
    "def isentropic_vortex_routine(label):\n",
    "    def decorator(func):\n",
    "        def wrapper(*args, draw_solution=False, **kwargs):\n",
    "\n",
    "            # By default, assume this is a DG formulation.\n",
    "            cfg.optimizations.static_condensation = False\n",
    "            \n",
    "            # Insert options here.\n",
    "            func(*args, **kwargs)\n",
    "            cfg.fem.order = 4\n",
    "\n",
    "            # In case an HDG formulation is specified, use static condensation.\n",
    "            if cfg.fem.name == \"hdg\":\n",
    "               cfg.optimizations.static_condensation = True\n",
    "            \n",
    "            # Allocate the necessary data.\n",
    "            cfg.initialize()\n",
    "\n",
    "            # Get a reference to the numerical solution and the analytic solution.\n",
    "            uh = cfg.get_solution_fields('rho_u')\n",
    "            ue = AnalyticSolution(cfg, cfg.time.timer.t)\n",
    "\n",
    "            if draw_solution:\n",
    "                # cfg.io.draw({\"Density\": uh.rho})\n",
    "                # cfg.io.draw({\"Mach\": cfg.get_local_mach_number(uh)})\n",
    "                # cfg.io.draw({\"Exact[Density]\": ue.rho})\n",
    "                isentropic_deviation = (uh.p/ue.p) * (ue.rho/uh.rho)**gamma - 1.0\n",
    "                cfg.io.draw({\"Deviation[Isentropy]\": isentropic_deviation}, min=-0.0001, max=0.0001)\n",
    "                #cfg.io.draw({\"Diff[Density]\": (ue.rho - uh.rho)}, min=-0.1, max=0.1)\n",
    "\n",
    "            # NOTE, uncomment if you want the norm based on magnitude of the momentum.\n",
    "            mag_rhou_e = ue.rho * ngs.sqrt( ngs.InnerProduct(ue.u, ue.u) )\n",
    "            mag_rhou_n = ngs.sqrt( ngs.InnerProduct(uh.rho_u, uh.rho_u) )\n",
    "            # Integration order (for post-processing).\n",
    "            qorder = 10\n",
    "    \n",
    "            # Data for book-keeping information.\n",
    "            data = np.zeros((nt, 3), dtype=float)\n",
    "    \n",
    "            # Time integration loop  (actual simulation).\n",
    "            for i, t in enumerate(cfg.time.start_solution_routine(True)):\n",
    "                \n",
    "                # Compute the L2-norm of the error.\n",
    "                err_rho = np.sqrt( ngs.Integrate( (ue.rho-uh.rho)**2, mesh, order=qorder) )\n",
    "                err_mom = np.sqrt( ngs.Integrate( (mag_rhou_e-mag_rhou_n)**2, mesh, order=qorder) )\n",
    "                \n",
    "                # Store data: time and error metrics.\n",
    "                data[i] = [cfg.time.timer.t.Get(), err_rho, err_mom]\n",
    "            return data\n",
    "        wrapper.label = label \n",
    "        return wrapper\n",
    "    return decorator"
   ]
  },
  {
   "cell_type": "code",
   "execution_count": 7,
   "id": "b049941b-ae76-42b6-8019-881d4c4a57ba",
   "metadata": {
    "execution": {
     "iopub.execute_input": "2025-06-09T18:25:23.085135Z",
     "iopub.status.busy": "2025-06-09T18:25:23.084639Z",
     "iopub.status.idle": "2025-06-09T18:25:23.096271Z",
     "shell.execute_reply": "2025-06-09T18:25:23.095086Z"
    }
   },
   "outputs": [],
   "source": [
    "# Specialized routines.\n",
    "\n",
    "@isentropic_vortex_routine(\"implicit_euler(hdg)\")\n",
    "def implicit_euler_hdg():\n",
    "    cfg.fem.method = \"hdg\"\n",
    "    cfg.fem.scheme = \"implicit_euler\"\n",
    "\n",
    "@isentropic_vortex_routine(\"bdf2(hdg)\")\n",
    "def bdf2_hdg():\n",
    "    cfg.fem.method = \"hdg\"\n",
    "    cfg.fem.scheme = \"bdf2\"\n",
    "\n",
    "@isentropic_vortex_routine(\"sdirk22(hdg)\")\n",
    "def sdirk22_hdg():\n",
    "    cfg.fem.method = \"hdg\"\n",
    "    cfg.fem.scheme = \"sdirk22\"\n",
    "\n",
    "@isentropic_vortex_routine(\"sdirk33(hdg)\")\n",
    "def sdirk33_hdg():\n",
    "    cfg.fem.method = \"hdg\"\n",
    "    cfg.fem.scheme = \"sdirk33\"\n",
    "\n",
    "@isentropic_vortex_routine(\"imex_rk_ars443(dg)\")\n",
    "def imex_rk_ars443_dg():\n",
    "    cfg.fem.method = \"dg\"\n",
    "    cfg.fem.scheme = \"imex_rk_ars443\"\n",
    "\n",
    "@isentropic_vortex_routine(\"ssprk3(dg)\")\n",
    "def ssprk3_dg():\n",
    "    cfg.fem.method = \"dg\"\n",
    "    cfg.fem.scheme = \"ssprk3\"\n",
    "\n",
    "@isentropic_vortex_routine(\"crk4(dg)\")\n",
    "def crk4_dg():\n",
    "    cfg.fem.method = \"dg\"\n",
    "    cfg.fem.scheme = \"crk4\"\n",
    "\n",
    "@isentropic_vortex_routine(\"explicit_euler(dg)\")\n",
    "def explicit_euler_dg():\n",
    "    cfg.fem.method = \"dg\"\n",
    "    cfg.fem.scheme = \"explicit_euler\""
   ]
  },
  {
   "cell_type": "code",
   "execution_count": 8,
   "id": "ea43899b-e15d-45e2-a743-de22694f46eb",
   "metadata": {
    "execution": {
     "iopub.execute_input": "2025-06-09T18:25:23.101371Z",
     "iopub.status.busy": "2025-06-09T18:25:23.100900Z",
     "iopub.status.idle": "2025-06-09T18:25:23.803322Z",
     "shell.execute_reply": "2025-06-09T18:25:23.801933Z"
    }
   },
   "outputs": [],
   "source": [
    "# Figure style and properties.\n",
    "from matplotlib import pyplot as plt\n",
    "\n",
    "# Assign colors to base method names\n",
    "method_colors = {\n",
    "    \"implicit_euler\": \"tab:red\",\n",
    "    \"bdf2\": \"tab:blue\",\n",
    "    \"sdirk22\": \"tab:green\",\n",
    "    \"sdirk33\": \"tab:purple\"\n",
    "}\n",
    "\n",
    "# Helper function that sets up a generic figure.\n",
    "def setup_fig(xlabel, ylabel, title):\n",
    "    fig, ax = plt.subplots(figsize=(15, 6))\n",
    "    ax.set_xlim(t0, tf)\n",
    "    ax.tick_params(axis='both', labelsize=16)\n",
    "    ax.set_xlabel(xlabel, fontsize=14)\n",
    "    ax.set_ylabel(ylabel, fontsize=16)\n",
    "    ax.set_title(title, fontsize=16)\n",
    "    ax.grid(True)\n",
    "    return fig,ax\n",
    "\n",
    "\n",
    "# Helper function that specifies the plot style properties.\n",
    "def get_plot_style(label, method_colors):\n",
    "    if label.endswith(\"(hdg)\"):\n",
    "        base_name = label.replace(\"(hdg)\", \"\").strip()\n",
    "        linestyle = \"-\"\n",
    "        marker = 'o'\n",
    "    elif label.endswith(\"(dg)\"):\n",
    "        base_name = label.replace(\"(dg)\", \"\").strip()\n",
    "        linestyle = \"--\"\n",
    "        marker = '^'\n",
    "    else:\n",
    "        base_name = label.strip()\n",
    "        linestyle = \":\" \n",
    "        marker = '.'\n",
    "\n",
    "    color = method_colors.get(base_name, \"black\")\n",
    "\n",
    "    return {\n",
    "        \"label\": label,\n",
    "        \"linestyle\": linestyle,\n",
    "        \"marker\": marker,\n",
    "        \"markersize\": 8,\n",
    "        \"markevery\": 50,\n",
    "        \"color\": color\n",
    "    }\n"
   ]
  },
  {
   "cell_type": "code",
   "execution_count": 9,
   "id": "08be9963-4c67-48c3-835c-59e056d047f8",
   "metadata": {
    "execution": {
     "iopub.execute_input": "2025-06-09T18:25:23.808249Z",
     "iopub.status.busy": "2025-06-09T18:25:23.807778Z",
     "iopub.status.idle": "2025-06-09T18:25:54.101251Z",
     "shell.execute_reply": "2025-06-09T18:25:54.100882Z"
    }
   },
   "outputs": [
    {
     "name": "stdout",
     "output_type": "stream",
     "text": [
      "Running implicit_euler(hdg)...\n"
     ]
    },
    {
     "data": {
      "application/vnd.jupyter.widget-view+json": {
       "model_id": "c1d67620b9374fb1a9faf9ff8d44b214",
       "version_major": 2,
       "version_minor": 0
      },
      "text/plain": [
       "WebGuiDocuWidget(value={'render_data': 'render_data_6.json', 'preview': 'preview_6.png'})"
      ]
     },
     "metadata": {},
     "output_type": "display_data"
    },
    {
     "name": "stderr",
     "output_type": "stream",
     "text": [
      "dream.solver    (INFO) | residual: 4.873358e-02 | iteration: 0 | t: 0.25\r"
     ]
    },
    {
     "name": "stderr",
     "output_type": "stream",
     "text": [
      "dream.solver    (INFO) | residual: 1.420605e-06 | iteration: 1 | t: 0.25\r"
     ]
    },
    {
     "name": "stderr",
     "output_type": "stream",
     "text": [
      "dream.solver    (INFO) | residual: 3.519771e-14 | iteration: 2 | t: 0.25\r"
     ]
    },
    {
     "name": "stderr",
     "output_type": "stream",
     "text": [
      "dream.solver    (INFO) | residual: 4.708393e-02 | iteration: 0 | t: 0.5\r"
     ]
    },
    {
     "name": "stderr",
     "output_type": "stream",
     "text": [
      "dream.solver    (INFO) | residual: 1.303158e-06 | iteration: 1 | t: 0.5\r"
     ]
    },
    {
     "name": "stderr",
     "output_type": "stream",
     "text": [
      "dream.solver    (INFO) | residual: 2.981243e-14 | iteration: 2 | t: 0.5\r"
     ]
    },
    {
     "name": "stderr",
     "output_type": "stream",
     "text": [
      "dream.solver    (INFO) | residual: 4.552734e-02 | iteration: 0 | t: 0.75\r"
     ]
    },
    {
     "name": "stderr",
     "output_type": "stream",
     "text": [
      "dream.solver    (INFO) | residual: 1.214813e-06 | iteration: 1 | t: 0.75\r"
     ]
    },
    {
     "name": "stderr",
     "output_type": "stream",
     "text": [
      "dream.solver    (INFO) | residual: 2.563279e-14 | iteration: 2 | t: 0.75\r"
     ]
    },
    {
     "name": "stderr",
     "output_type": "stream",
     "text": [
      "dream.solver    (INFO) | residual: 4.404635e-02 | iteration: 0 | t: 1.0\r"
     ]
    },
    {
     "name": "stderr",
     "output_type": "stream",
     "text": [
      "dream.solver    (INFO) | residual: 1.135435e-06 | iteration: 1 | t: 1.0\r"
     ]
    },
    {
     "name": "stderr",
     "output_type": "stream",
     "text": [
      "dream.solver    (INFO) | residual: 2.213930e-14 | iteration: 2 | t: 1.0\r"
     ]
    },
    {
     "name": "stderr",
     "output_type": "stream",
     "text": [
      "dream.solver    (INFO) | residual: 4.264045e-02 | iteration: 0 | t: 1.25\r"
     ]
    },
    {
     "name": "stderr",
     "output_type": "stream",
     "text": [
      "dream.solver    (INFO) | residual: 1.063459e-06 | iteration: 1 | t: 1.25\r"
     ]
    },
    {
     "name": "stderr",
     "output_type": "stream",
     "text": [
      "dream.solver    (INFO) | residual: 1.916323e-14 | iteration: 2 | t: 1.25\r"
     ]
    },
    {
     "name": "stderr",
     "output_type": "stream",
     "text": [
      "dream.solver    (INFO) | residual: 4.131646e-02 | iteration: 0 | t: 1.5\r"
     ]
    },
    {
     "name": "stderr",
     "output_type": "stream",
     "text": [
      "dream.solver    (INFO) | residual: 9.968373e-07 | iteration: 1 | t: 1.5\r"
     ]
    },
    {
     "name": "stderr",
     "output_type": "stream",
     "text": [
      "dream.solver    (INFO) | residual: 1.658711e-14 | iteration: 2 | t: 1.5\r"
     ]
    },
    {
     "name": "stderr",
     "output_type": "stream",
     "text": [
      "dream.solver    (INFO) | residual: 4.007576e-02 | iteration: 0 | t: 1.75\r"
     ]
    },
    {
     "name": "stderr",
     "output_type": "stream",
     "text": [
      "dream.solver    (INFO) | residual: 9.342495e-07 | iteration: 1 | t: 1.75\r"
     ]
    },
    {
     "name": "stderr",
     "output_type": "stream",
     "text": [
      "dream.solver    (INFO) | residual: 1.435227e-14 | iteration: 2 | t: 1.75\r"
     ]
    },
    {
     "name": "stderr",
     "output_type": "stream",
     "text": [
      "dream.solver    (INFO) | residual: 3.891079e-02 | iteration: 0 | t: 2.0\r"
     ]
    },
    {
     "name": "stderr",
     "output_type": "stream",
     "text": [
      "dream.solver    (INFO) | residual: 8.753028e-07 | iteration: 1 | t: 2.0\r"
     ]
    },
    {
     "name": "stderr",
     "output_type": "stream",
     "text": [
      "dream.solver    (INFO) | residual: 1.242500e-14 | iteration: 2 | t: 2.0\r"
     ]
    },
    {
     "name": "stderr",
     "output_type": "stream",
     "text": [
      "dream.solver    (INFO) | residual: 3.780854e-02 | iteration: 0 | t: 2.25\r"
     ]
    },
    {
     "name": "stderr",
     "output_type": "stream",
     "text": [
      "dream.solver    (INFO) | residual: 8.201240e-07 | iteration: 1 | t: 2.25\r"
     ]
    },
    {
     "name": "stderr",
     "output_type": "stream",
     "text": [
      "dream.solver    (INFO) | residual: 1.077224e-14 | iteration: 2 | t: 2.25\r"
     ]
    },
    {
     "name": "stderr",
     "output_type": "stream",
     "text": [
      "dream.solver    (INFO) | residual: 3.675609e-02 | iteration: 0 | t: 2.5\r"
     ]
    },
    {
     "name": "stderr",
     "output_type": "stream",
     "text": [
      "dream.solver    (INFO) | residual: 7.689009e-07 | iteration: 1 | t: 2.5\r"
     ]
    },
    {
     "name": "stderr",
     "output_type": "stream",
     "text": [
      "dream.solver    (INFO) | residual: 9.359753e-15 | iteration: 2 | t: 2.5\r"
     ]
    },
    {
     "name": "stderr",
     "output_type": "stream",
     "text": [
      "dream.solver    (INFO) | residual: 3.574421e-02 | iteration: 0 | t: 2.75\r"
     ]
    },
    {
     "name": "stderr",
     "output_type": "stream",
     "text": [
      "dream.solver    (INFO) | residual: 7.216395e-07 | iteration: 1 | t: 2.75\r"
     ]
    },
    {
     "name": "stderr",
     "output_type": "stream",
     "text": [
      "dream.solver    (INFO) | residual: 8.154288e-15 | iteration: 2 | t: 2.75\r"
     ]
    },
    {
     "name": "stderr",
     "output_type": "stream",
     "text": [
      "dream.solver    (INFO) | residual: 3.476821e-02 | iteration: 0 | t: 3.0\r"
     ]
    },
    {
     "name": "stderr",
     "output_type": "stream",
     "text": [
      "dream.solver    (INFO) | residual: 6.781381e-07 | iteration: 1 | t: 3.0\r"
     ]
    },
    {
     "name": "stderr",
     "output_type": "stream",
     "text": [
      "dream.solver    (INFO) | residual: 7.122816e-15 | iteration: 2 | t: 3.0\r"
     ]
    },
    {
     "name": "stderr",
     "output_type": "stream",
     "text": [
      "dream.solver    (INFO) | residual: 3.382680e-02 | iteration: 0 | t: 3.25\r"
     ]
    },
    {
     "name": "stderr",
     "output_type": "stream",
     "text": [
      "dream.solver    (INFO) | residual: 6.380721e-07 | iteration: 1 | t: 3.25\r"
     ]
    },
    {
     "name": "stderr",
     "output_type": "stream",
     "text": [
      "dream.solver    (INFO) | residual: 6.236397e-15 | iteration: 2 | t: 3.25\r"
     ]
    },
    {
     "name": "stderr",
     "output_type": "stream",
     "text": [
      "dream.solver    (INFO) | residual: 3.292033e-02 | iteration: 0 | t: 3.5\r"
     ]
    },
    {
     "name": "stderr",
     "output_type": "stream",
     "text": [
      "dream.solver    (INFO) | residual: 6.010876e-07 | iteration: 1 | t: 3.5\r"
     ]
    },
    {
     "name": "stderr",
     "output_type": "stream",
     "text": [
      "dream.solver    (INFO) | residual: 5.472003e-15 | iteration: 2 | t: 3.5\r"
     ]
    },
    {
     "name": "stderr",
     "output_type": "stream",
     "text": [
      "dream.solver    (INFO) | residual: 3.204934e-02 | iteration: 0 | t: 3.75\r"
     ]
    },
    {
     "name": "stderr",
     "output_type": "stream",
     "text": [
      "dream.solver    (INFO) | residual: 5.668553e-07 | iteration: 1 | t: 3.75\r"
     ]
    },
    {
     "name": "stderr",
     "output_type": "stream",
     "text": [
      "dream.solver    (INFO) | residual: 4.809937e-15 | iteration: 2 | t: 3.75\r"
     ]
    },
    {
     "name": "stderr",
     "output_type": "stream",
     "text": [
      "dream.solver    (INFO) | residual: 3.121387e-02 | iteration: 0 | t: 4.0\r"
     ]
    },
    {
     "name": "stderr",
     "output_type": "stream",
     "text": [
      "dream.solver    (INFO) | residual: 5.350900e-07 | iteration: 1 | t: 4.0\r"
     ]
    },
    {
     "name": "stderr",
     "output_type": "stream",
     "text": [
      "dream.solver    (INFO) | residual: 4.234798e-15 | iteration: 2 | t: 4.0\r"
     ]
    },
    {
     "name": "stderr",
     "output_type": "stream",
     "text": [
      "dream.solver    (INFO) | residual: 3.041324e-02 | iteration: 0 | t: 4.25\r"
     ]
    },
    {
     "name": "stderr",
     "output_type": "stream",
     "text": [
      "dream.solver    (INFO) | residual: 5.055529e-07 | iteration: 1 | t: 4.25\r"
     ]
    },
    {
     "name": "stderr",
     "output_type": "stream",
     "text": [
      "dream.solver    (INFO) | residual: 3.735100e-15 | iteration: 2 | t: 4.25\r"
     ]
    },
    {
     "name": "stderr",
     "output_type": "stream",
     "text": [
      "dream.solver    (INFO) | residual: 2.964623e-02 | iteration: 0 | t: 4.5\r"
     ]
    },
    {
     "name": "stderr",
     "output_type": "stream",
     "text": [
      "dream.solver    (INFO) | residual: 4.780454e-07 | iteration: 1 | t: 4.5\r"
     ]
    },
    {
     "name": "stderr",
     "output_type": "stream",
     "text": [
      "dream.solver    (INFO) | residual: 3.300059e-15 | iteration: 2 | t: 4.5\r"
     ]
    },
    {
     "name": "stderr",
     "output_type": "stream",
     "text": [
      "dream.solver    (INFO) | residual: 2.891139e-02 | iteration: 0 | t: 4.75\r"
     ]
    },
    {
     "name": "stderr",
     "output_type": "stream",
     "text": [
      "dream.solver    (INFO) | residual: 4.524012e-07 | iteration: 1 | t: 4.75\r"
     ]
    },
    {
     "name": "stderr",
     "output_type": "stream",
     "text": [
      "dream.solver    (INFO) | residual: 2.919997e-15 | iteration: 2 | t: 4.75\r"
     ]
    },
    {
     "name": "stderr",
     "output_type": "stream",
     "text": [
      "dream.solver    (INFO) | residual: 2.820717e-02 | iteration: 0 | t: 5.0\r"
     ]
    },
    {
     "name": "stderr",
     "output_type": "stream",
     "text": [
      "dream.solver    (INFO) | residual: 4.284760e-07 | iteration: 1 | t: 5.0\r"
     ]
    },
    {
     "name": "stderr",
     "output_type": "stream",
     "text": [
      "dream.solver    (INFO) | residual: 2.587653e-15 | iteration: 2 | t: 5.0\r"
     ]
    },
    {
     "data": {
      "image/png": "[encoded data removed]",
      "text/plain": [
       "<Figure size 1500x600 with 1 Axes>"
      ]
     },
     "metadata": {},
     "output_type": "display_data"
    },
    {
     "data": {
      "image/png": "[encoded data removed]",
      "text/plain": [
       "<Figure size 1500x600 with 1 Axes>"
      ]
     },
     "metadata": {},
     "output_type": "display_data"
    }
   ],
   "source": [
    "# Run simulation(s).\n",
    "routines = [implicit_euler_hdg]\n",
    "\n",
    "# Figure 1: logarithmic plot of the relative error in the L2-norm: density.\n",
    "fig1, ax1 = setup_fig(\"Time\", r\"$\\| \\rho_e - rho_h \\|$\", r\"Time Evolution of Relative Density L2-norm\")\n",
    "\n",
    "# Figure 2: logarithmic plot of the relative error in the L2-norm: magnitude of momentum.\n",
    "fig2, ax2 = setup_fig(\"Time\", r\"$\\| \\rho u_e - \\rho u_h \\|$\", r\"Time Evolution of Relative Momentum L2-norm\")\n",
    "\n",
    "# Run each simulation.\n",
    "for routine in routines:\n",
    "    print(f\"Running {routine.label}...\")\n",
    "    data = routine(draw_solution=True)\n",
    "    style = get_plot_style(routine.label, method_colors)\n",
    "\n",
    "    ax1.semilogy(data[:, 0], data[:, 1], **style)\n",
    "    ax2.semilogy(data[:, 0], data[:, 2], **style)\n",
    "\n",
    "\n",
    "# Final touches.\n",
    "ax1.legend(loc=\"upper left\", frameon=False)\n",
    "ax2.legend(loc=\"upper left\", frameon=False)\n",
    "fig1.tight_layout()\n",
    "fig2.tight_layout()\n",
    "plt.show()"
   ]
  }
 ],
 "metadata": {
  "kernelspec": {
   "display_name": "Python 3 (ipykernel)",
   "language": "python",
   "name": "python3"
  },
  "language_info": {
   "codemirror_mode": {
    "name": "ipython",
    "version": 3
   },
   "file_extension": ".py",
   "mimetype": "text/x-python",
   "name": "python",
   "nbconvert_exporter": "python",
   "pygments_lexer": "ipython3",
   "version": "3.12.3"
  },
  "widgets": {
   "application/vnd.jupyter.widget-state+json": {
    "state": {
     "2177d16f380b4337aa789bc823dde871": {
      "model_module": "@jupyter-widgets/base",
      "model_module_version": "2.0.0",
      "model_name": "LayoutModel",
      "state": {
       "_model_module": "@jupyter-widgets/base",
       "_model_module_version": "2.0.0",
       "_model_name": "LayoutModel",
       "_view_count": null,
       "_view_module": "@jupyter-widgets/base",
       "_view_module_version": "2.0.0",
       "_view_name": "LayoutView",
       "align_content": null,
       "align_items": null,
       "align_self": null,
       "border_bottom": null,
       "border_left": null,
       "border_right": null,
       "border_top": null,
       "bottom": null,
       "display": null,
       "flex": null,
       "flex_flow": null,
       "grid_area": null,
       "grid_auto_columns": null,
       "grid_auto_flow": null,
       "grid_auto_rows": null,
       "grid_column": null,
       "grid_gap": null,
       "grid_row": null,
       "grid_template_areas": null,
       "grid_template_columns": null,
       "grid_template_rows": null,
       "height": null,
       "justify_content": null,
       "justify_items": null,
       "left": null,
       "margin": null,
       "max_height": null,
       "max_width": null,
       "min_height": null,
       "min_width": null,
       "object_fit": null,
       "object_position": null,
       "order": null,
       "overflow": null,
       "padding": null,
       "right": null,
       "top": null,
       "visibility": null,
       "width": null
      }
     },
     "c1d67620b9374fb1a9faf9ff8d44b214": {
      "model_module": "webgui_jupyter_widgets",
      "model_module_version": "0.2.31",
      "model_name": "WebguiModel",
      "state": {
       "_dom_classes": [],
       "_model_module": "webgui_jupyter_widgets",
       "_model_module_version": "0.2.31",
       "_model_name": "WebguiModel",
       "_view_count": null,
       "_view_module": "webgui_jupyter_widgets",
       "_view_module_version": "0.2.31",
       "_view_name": "WebguiDocuView",
       "layout": "IPY_MODEL_2177d16f380b4337aa789bc823dde871",
       "tabbable": null,
       "tooltip": null,
       "value": {
        "preview": "preview_6.png",
        "render_data": "render_data_6.json"
       }
      }
     }
    },
    "version_major": 2,
    "version_minor": 0
   }
  }
 },
 "nbformat": 4,
 "nbformat_minor": 5
}
