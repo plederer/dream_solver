{
 "cells": [
  {
   "cell_type": "markdown",
   "id": "494717cd",
   "metadata": {},
   "source": [
    "## Flow around NACA 0012 airfoil"
   ]
  },
  {
   "cell_type": "code",
   "execution_count": 1,
   "id": "fa492a0d",
   "metadata": {
    "execution": {
     "iopub.execute_input": "2025-06-02T21:20:26.331608Z",
     "iopub.status.busy": "2025-06-02T21:20:26.331276Z",
     "iopub.status.idle": "2025-06-02T21:20:26.770127Z",
     "shell.execute_reply": "2025-06-02T21:20:26.769217Z"
    }
   },
   "outputs": [],
   "source": [
    "# Import modules\n",
    "import numpy as np\n",
    "import ngsolve as ngs\n",
    "import netgen.occ as occ\n",
    "from ngsolve.webgui import Draw\n",
    "from dream.mesh import get_2d_naca_occ_profile\n",
    "from dream.compressible import CompressibleFlowSolver, FarField, InviscidWall, Initial\n",
    "from dream.io import PointSensor, BoundarySensor"
   ]
  },
  {
   "cell_type": "code",
   "execution_count": 2,
   "id": "bfa88091",
   "metadata": {
    "execution": {
     "iopub.execute_input": "2025-06-02T21:20:26.774100Z",
     "iopub.status.busy": "2025-06-02T21:20:26.773776Z",
     "iopub.status.idle": "2025-06-02T21:20:31.728432Z",
     "shell.execute_reply": "2025-06-02T21:20:31.727859Z"
    }
   },
   "outputs": [
    {
     "data": {
      "application/vnd.jupyter.widget-view+json": {
       "model_id": "c02f36bebd244649a05da2f3c7b18dba",
       "version_major": 2,
       "version_minor": 0
      },
      "text/plain": [
       "WebGuiDocuWidget(value={'render_data': 'render_data_0.json', 'preview': 'preview_0.png'})"
      ]
     },
     "metadata": {},
     "output_type": "display_data"
    },
    {
     "name": "stdout",
     "output_type": "stream",
     "text": [
      "('farfield', 'airfoil')\n",
      "('air',)\n"
     ]
    }
   ],
   "source": [
    "# Create Geometry\n",
    "AoA = 0\n",
    "LE = (-0.5, 0)\n",
    "\n",
    "air = occ.WorkPlane().Circle(0, 0, 2).Face()\n",
    "for edge in air.edges:\n",
    "    edge.name = \"farfield\"\n",
    "airfoil = get_2d_naca_occ_profile('0012', AoA, LE=LE, n=200)\n",
    "for edge in airfoil.edges:\n",
    "    edge.name = \"airfoil\"\n",
    "    edge.maxh = 0.025\n",
    "\n",
    "air -= airfoil\n",
    "air.faces[0].name = \"air\"\n",
    "\n",
    "geo = occ.OCCGeometry(air, dim=2)\n",
    "mesh = ngs.Mesh(geo.GenerateMesh(maxh=0.5, grading=0.2))\n",
    "mesh.Curve(3)\n",
    "Draw(mesh)\n",
    "\n",
    "print(mesh.GetBoundaries())\n",
    "print(mesh.GetMaterials())"
   ]
  },
  {
   "cell_type": "code",
   "execution_count": 3,
   "id": "977e8184",
   "metadata": {
    "execution": {
     "iopub.execute_input": "2025-06-02T21:20:31.730926Z",
     "iopub.status.busy": "2025-06-02T21:20:31.730583Z",
     "iopub.status.idle": "2025-06-02T21:20:31.735495Z",
     "shell.execute_reply": "2025-06-02T21:20:31.734922Z"
    }
   },
   "outputs": [
    {
     "data": {
      "text/plain": [
       "['time',\n",
       " 'linear_solver',\n",
       " 'nonlinear_solver',\n",
       " 'optimizations',\n",
       " 'io',\n",
       " 'info',\n",
       " 'fem',\n",
       " 'mach_number',\n",
       " 'reynolds_number',\n",
       " 'prandtl_number',\n",
       " 'equation_of_state',\n",
       " 'dynamic_viscosity',\n",
       " 'scaling',\n",
       " 'riemann_solver']"
      ]
     },
     "execution_count": 3,
     "metadata": {},
     "output_type": "execute_result"
    }
   ],
   "source": [
    "cfg = CompressibleFlowSolver(mesh)\n",
    "list(cfg.CONFIG)"
   ]
  },
  {
   "cell_type": "code",
   "execution_count": 4,
   "id": "c17d21a7",
   "metadata": {
    "execution": {
     "iopub.execute_input": "2025-06-02T21:20:31.737873Z",
     "iopub.status.busy": "2025-06-02T21:20:31.737536Z",
     "iopub.status.idle": "2025-06-02T21:20:31.815129Z",
     "shell.execute_reply": "2025-06-02T21:20:31.813847Z"
    }
   },
   "outputs": [],
   "source": [
    "# Set configuration\n",
    "cfg.mach_number = 0.1\n",
    "cfg.equation_of_state = \"ideal\"\n",
    "cfg.dynamic_viscosity = \"inviscid\"\n",
    "cfg.scaling = \"aerodynamic\"\n",
    "cfg.riemann_solver = \"lax_friedrich\"\n",
    "cfg.optimizations.static_condensation = True\n",
    "\n",
    "cfg.time = \"pseudo_time_stepping\"\n",
    "\n",
    "cfg.fem = \"conservative\"\n",
    "cfg.fem.order = 3\n",
    "cfg.fem.method = \"hdg\"\n",
    "cfg.fem.scheme = \"implicit_euler\"\n",
    "\n",
    "# Curve mesh\n",
    "mesh.Curve(cfg.fem.order)\n",
    "\n",
    "# Get farfield state\n",
    "Uinf = cfg.get_farfield_fields(direction=(1, 0))\n",
    "\n",
    "# Set boundary conditions\n",
    "cfg.bcs['farfield'] = FarField(fields=Uinf)\n",
    "cfg.bcs['airfoil'] = InviscidWall()\n",
    "cfg.dcs['air'] = Initial(fields=Uinf)"
   ]
  },
  {
   "cell_type": "code",
   "execution_count": 5,
   "id": "d71a583f",
   "metadata": {
    "execution": {
     "iopub.execute_input": "2025-06-02T21:20:31.818851Z",
     "iopub.status.busy": "2025-06-02T21:20:31.818632Z",
     "iopub.status.idle": "2025-06-02T21:21:06.596563Z",
     "shell.execute_reply": "2025-06-02T21:21:06.595846Z"
    }
   },
   "outputs": [
    {
     "name": "stderr",
     "output_type": "stream",
     "text": [
      "dream.solver    (INFO) | residual: 6.523635e-02 | iteration: 0\r"
     ]
    },
    {
     "name": "stderr",
     "output_type": "stream",
     "text": [
      "dream.solver    (INFO) | residual: 7.850469e+01 | iteration: 1\r"
     ]
    },
    {
     "name": "stderr",
     "output_type": "stream",
     "text": [
      "dream.solver    (INFO) | residual: 5.641368e+01 | iteration: 2\r"
     ]
    },
    {
     "name": "stderr",
     "output_type": "stream",
     "text": [
      "dream.solver    (INFO) | residual: 4.548680e+01 | iteration: 3\r"
     ]
    },
    {
     "name": "stderr",
     "output_type": "stream",
     "text": [
      "dream.solver    (INFO) | residual: 3.885080e+01 | iteration: 4\r"
     ]
    },
    {
     "name": "stderr",
     "output_type": "stream",
     "text": [
      "dream.solver    (INFO) | residual: 3.426461e+01 | iteration: 5\r"
     ]
    },
    {
     "name": "stderr",
     "output_type": "stream",
     "text": [
      "dream.solver    (INFO) | residual: 3.083401e+01 | iteration: 6\r"
     ]
    },
    {
     "name": "stderr",
     "output_type": "stream",
     "text": [
      "dream.solver    (INFO) | residual: 2.814118e+01 | iteration: 7\r"
     ]
    },
    {
     "name": "stderr",
     "output_type": "stream",
     "text": [
      "dream.solver    (INFO) | residual: 2.595721e+01 | iteration: 8\r"
     ]
    },
    {
     "name": "stderr",
     "output_type": "stream",
     "text": [
      "dream.solver    (INFO) | residual: 2.414027e+01 | iteration: 9\r"
     ]
    },
    {
     "name": "stderr",
     "output_type": "stream",
     "text": [
      "dream.time      (INFO) | Successfully updated time step at iteration 10\r"
     ]
    },
    {
     "name": "stderr",
     "output_type": "stream",
     "text": [
      "dream.time      (INFO) | Updated time step 𝚫t = 0.01. Previous time step 𝚫t = 0.001\r"
     ]
    },
    {
     "name": "stderr",
     "output_type": "stream",
     "text": [
      "dream.solver    (INFO) | residual: 5.942236e+01 | iteration: 10\r"
     ]
    },
    {
     "name": "stderr",
     "output_type": "stream",
     "text": [
      "dream.solver    (INFO) | residual: 2.653271e+01 | iteration: 11\r"
     ]
    },
    {
     "name": "stderr",
     "output_type": "stream",
     "text": [
      "dream.solver    (INFO) | residual: 1.733673e+01 | iteration: 12\r"
     ]
    },
    {
     "name": "stderr",
     "output_type": "stream",
     "text": [
      "dream.solver    (INFO) | residual: 1.431706e+01 | iteration: 13\r"
     ]
    },
    {
     "name": "stderr",
     "output_type": "stream",
     "text": [
      "dream.solver    (INFO) | residual: 1.280068e+01 | iteration: 14\r"
     ]
    },
    {
     "name": "stderr",
     "output_type": "stream",
     "text": [
      "dream.solver    (INFO) | residual: 1.124661e+01 | iteration: 15\r"
     ]
    },
    {
     "name": "stderr",
     "output_type": "stream",
     "text": [
      "dream.solver    (INFO) | residual: 9.568576e+00 | iteration: 16\r"
     ]
    },
    {
     "name": "stderr",
     "output_type": "stream",
     "text": [
      "dream.solver    (INFO) | residual: 8.040457e+00 | iteration: 17\r"
     ]
    },
    {
     "name": "stderr",
     "output_type": "stream",
     "text": [
      "dream.solver    (INFO) | residual: 6.787500e+00 | iteration: 18\r"
     ]
    },
    {
     "name": "stderr",
     "output_type": "stream",
     "text": [
      "dream.solver    (INFO) | residual: 5.784951e+00 | iteration: 19\r"
     ]
    },
    {
     "name": "stderr",
     "output_type": "stream",
     "text": [
      "dream.time      (INFO) | Successfully updated time step at iteration 20\r"
     ]
    },
    {
     "name": "stderr",
     "output_type": "stream",
     "text": [
      "dream.time      (INFO) | Updated time step 𝚫t = 0.1. Previous time step 𝚫t = 0.01\r"
     ]
    },
    {
     "name": "stderr",
     "output_type": "stream",
     "text": [
      "dream.solver    (INFO) | residual: 6.862535e+00 | iteration: 20\r"
     ]
    },
    {
     "name": "stderr",
     "output_type": "stream",
     "text": [
      "dream.solver    (INFO) | residual: 1.044617e+00 | iteration: 21\r"
     ]
    },
    {
     "name": "stderr",
     "output_type": "stream",
     "text": [
      "dream.solver    (INFO) | residual: 2.425788e-01 | iteration: 22\r"
     ]
    },
    {
     "name": "stderr",
     "output_type": "stream",
     "text": [
      "dream.solver    (INFO) | residual: 3.163502e-02 | iteration: 23\r"
     ]
    },
    {
     "name": "stderr",
     "output_type": "stream",
     "text": [
      "dream.solver    (INFO) | residual: 1.962906e-03 | iteration: 24\r"
     ]
    },
    {
     "name": "stderr",
     "output_type": "stream",
     "text": [
      "dream.solver    (INFO) | residual: 2.192433e-04 | iteration: 25\r"
     ]
    },
    {
     "name": "stderr",
     "output_type": "stream",
     "text": [
      "dream.solver    (INFO) | residual: 2.055195e-04 | iteration: 26\r"
     ]
    },
    {
     "name": "stderr",
     "output_type": "stream",
     "text": [
      "dream.solver    (INFO) | residual: 1.217710e-04 | iteration: 27\r"
     ]
    },
    {
     "name": "stderr",
     "output_type": "stream",
     "text": [
      "dream.solver    (INFO) | residual: 5.857927e-05 | iteration: 28\r"
     ]
    },
    {
     "name": "stderr",
     "output_type": "stream",
     "text": [
      "dream.solver    (INFO) | residual: 3.126595e-05 | iteration: 29\r"
     ]
    },
    {
     "name": "stderr",
     "output_type": "stream",
     "text": [
      "dream.time      (INFO) | Successfully updated time step at iteration 30\r"
     ]
    },
    {
     "name": "stderr",
     "output_type": "stream",
     "text": [
      "dream.time      (INFO) | Updated time step 𝚫t = 1.0. Previous time step 𝚫t = 0.1\r"
     ]
    },
    {
     "name": "stderr",
     "output_type": "stream",
     "text": [
      "dream.solver    (INFO) | residual: 9.183426e-05 | iteration: 30\r"
     ]
    },
    {
     "name": "stderr",
     "output_type": "stream",
     "text": [
      "dream.solver    (INFO) | residual: 3.418306e-05 | iteration: 31\r"
     ]
    },
    {
     "name": "stderr",
     "output_type": "stream",
     "text": [
      "dream.solver    (INFO) | residual: 1.351178e-05 | iteration: 32\r"
     ]
    },
    {
     "name": "stderr",
     "output_type": "stream",
     "text": [
      "dream.solver    (INFO) | residual: 3.883191e-06 | iteration: 33\r"
     ]
    },
    {
     "name": "stderr",
     "output_type": "stream",
     "text": [
      "dream.solver    (INFO) | residual: 8.605440e-07 | iteration: 34\r"
     ]
    },
    {
     "name": "stderr",
     "output_type": "stream",
     "text": [
      "dream.solver    (INFO) | residual: 1.777698e-07 | iteration: 35\r"
     ]
    },
    {
     "name": "stderr",
     "output_type": "stream",
     "text": [
      "dream.solver    (INFO) | residual: 4.441164e-08 | iteration: 36\r"
     ]
    },
    {
     "name": "stderr",
     "output_type": "stream",
     "text": [
      "dream.solver    (INFO) | residual: 1.411102e-08 | iteration: 37\r"
     ]
    },
    {
     "name": "stderr",
     "output_type": "stream",
     "text": [
      "dream.solver    (INFO) | residual: 4.944222e-09 | iteration: 38\r"
     ]
    },
    {
     "name": "stderr",
     "output_type": "stream",
     "text": [
      "dream.solver    (INFO) | residual: 1.761322e-09 | iteration: 39\r"
     ]
    },
    {
     "name": "stderr",
     "output_type": "stream",
     "text": [
      "dream.time      (INFO) | Successfully updated time step at iteration 40\r"
     ]
    },
    {
     "name": "stderr",
     "output_type": "stream",
     "text": [
      "dream.time      (INFO) | Updated time step 𝚫t = 10.0. Previous time step 𝚫t = 1.0\r"
     ]
    },
    {
     "name": "stderr",
     "output_type": "stream",
     "text": [
      "dream.solver    (INFO) | residual: 1.360839e-09 | iteration: 40\r"
     ]
    },
    {
     "name": "stderr",
     "output_type": "stream",
     "text": [
      "dream.solver    (INFO) | residual: 2.274473e-11 | iteration: 41\r"
     ]
    },
    {
     "name": "stderr",
     "output_type": "stream",
     "text": [
      "dream.solver    (INFO) | residual: 3.805811e-13 | iteration: 42\r"
     ]
    },
    {
     "data": {
      "application/vnd.jupyter.widget-view+json": {
       "model_id": "9a0d66fd20984491b2110bf320e07319",
       "version_major": 2,
       "version_minor": 0
      },
      "text/plain": [
       "WebGuiDocuWidget(value={'render_data': 'render_data_1.json', 'preview': 'preview_1.png'})"
      ]
     },
     "metadata": {},
     "output_type": "display_data"
    }
   ],
   "source": [
    "ngs.SetNumThreads(4)\n",
    "\n",
    "cfg.time.timer.step = 0.001\n",
    "cfg.time.max_time_step = 10\n",
    "cfg.time.increment_at = 10\n",
    "cfg.time.increment_factor = 10\n",
    "\n",
    "cfg.nonlinear_solver.max_iterations = 300\n",
    "cfg.nonlinear_solver.convergence_criterion = 1e-12\n",
    "\n",
    "cfg.initialize()\n",
    "with ngs.TaskManager():\n",
    "    cfg.solve()\n",
    "\n",
    "Uh = cfg.get_solution_fields()\n",
    "cfg.io.draw({\"M\": cfg.get_local_mach_number(Uh)})\n"
   ]
  },
  {
   "cell_type": "code",
   "execution_count": 6,
   "id": "94c9dc93",
   "metadata": {
    "execution": {
     "iopub.execute_input": "2025-06-02T21:21:06.598978Z",
     "iopub.status.busy": "2025-06-02T21:21:06.598771Z",
     "iopub.status.idle": "2025-06-02T21:21:06.608071Z",
     "shell.execute_reply": "2025-06-02T21:21:06.607478Z"
    }
   },
   "outputs": [
    {
     "data": {
      "text/plain": [
       "{'airfoil': array([ 0.02579041, -0.0001848 ])}"
      ]
     },
     "execution_count": 6,
     "metadata": {},
     "output_type": "execute_result"
    }
   ],
   "source": [
    "cp = PointSensor.from_boundary({'c_p': cfg.pressure_coefficient(Uh, Uinf)}, mesh, 'airfoil')\n",
    "cp_ = cp.measure_as_dict()\n",
    "\n",
    "\n",
    "C = BoundarySensor({\"c_l\": cfg.lift_coefficient(Uh, None, Uinf, (0, 1)), \"c_d\": cfg.drag_coefficient(Uh, None, Uinf, (1, 0))}, mesh, 'airfoil')\n",
    "C_ = C.measure_as_dict()\n",
    "C_"
   ]
  },
  {
   "cell_type": "code",
   "execution_count": 7,
   "id": "48175cdf",
   "metadata": {
    "execution": {
     "iopub.execute_input": "2025-06-02T21:21:06.611723Z",
     "iopub.status.busy": "2025-06-02T21:21:06.611208Z",
     "iopub.status.idle": "2025-06-02T21:21:07.938067Z",
     "shell.execute_reply": "2025-06-02T21:21:07.937119Z"
    }
   },
   "outputs": [
    {
     "data": {
      "text/plain": [
       "Text(0.5, 1.0, 'Pressure coefficient over chord length')"
      ]
     },
     "execution_count": 7,
     "metadata": {},
     "output_type": "execute_result"
    },
    {
     "data": {
      "image/png": "[encoded data removed]",
      "text/plain": [
       "<Figure size 640x480 with 1 Axes>"
      ]
     },
     "metadata": {},
     "output_type": "display_data"
    }
   ],
   "source": [
    "import matplotlib.pyplot as plt\n",
    "x_ = np.array(list(cp_.keys()))\n",
    "x_ = np.cos(np.deg2rad(AoA)) * (x_[:, 0] - LE[0]) - np.sin(np.deg2rad(AoA)) * (x_[:, 1] - LE[1])\n",
    "values = np.array(list(cp_.values())).flatten()\n",
    "\n",
    "fig, ax = plt.subplots()\n",
    "ax.plot(x_, values, 'o')\n",
    "ax.set_xlabel(r\"$x$\")\n",
    "ax.set_ylabel(r\"$c_p$\")\n",
    "ax.set_title(\"Pressure coefficient over chord length\")"
   ]
  }
 ],
 "metadata": {
  "kernelspec": {
   "display_name": "ngspy",
   "language": "python",
   "name": "python3"
  },
  "language_info": {
   "codemirror_mode": {
    "name": "ipython",
    "version": 3
   },
   "file_extension": ".py",
   "mimetype": "text/x-python",
   "name": "python",
   "nbconvert_exporter": "python",
   "pygments_lexer": "ipython3",
   "version": "3.12.3"
  },
  "widgets": {
   "application/vnd.jupyter.widget-state+json": {
    "state": {
     "9a0d66fd20984491b2110bf320e07319": {
      "model_module": "webgui_jupyter_widgets",
      "model_module_version": "0.2.31",
      "model_name": "WebguiModel",
      "state": {
       "_dom_classes": [],
       "_model_module": "webgui_jupyter_widgets",
       "_model_module_version": "0.2.31",
       "_model_name": "WebguiModel",
       "_view_count": null,
       "_view_module": "webgui_jupyter_widgets",
       "_view_module_version": "0.2.31",
       "_view_name": "WebguiDocuView",
       "layout": "IPY_MODEL_fff0022a575648aab0f4067c4e284fac",
       "tabbable": null,
       "tooltip": null,
       "value": {
        "preview": "preview_1.png",
        "render_data": "render_data_1.json"
       }
      }
     },
     "c02f36bebd244649a05da2f3c7b18dba": {
      "model_module": "webgui_jupyter_widgets",
      "model_module_version": "0.2.31",
      "model_name": "WebguiModel",
      "state": {
       "_dom_classes": [],
       "_model_module": "webgui_jupyter_widgets",
       "_model_module_version": "0.2.31",
       "_model_name": "WebguiModel",
       "_view_count": null,
       "_view_module": "webgui_jupyter_widgets",
       "_view_module_version": "0.2.31",
       "_view_name": "WebguiDocuView",
       "layout": "IPY_MODEL_d071aa8f201f4d5f97b0b002338577de",
       "tabbable": null,
       "tooltip": null,
       "value": {
        "preview": "preview_0.png",
        "render_data": "render_data_0.json"
       }
      }
     },
     "d071aa8f201f4d5f97b0b002338577de": {
      "model_module": "@jupyter-widgets/base",
      "model_module_version": "2.0.0",
      "model_name": "LayoutModel",
      "state": {
       "_model_module": "@jupyter-widgets/base",
       "_model_module_version": "2.0.0",
       "_model_name": "LayoutModel",
       "_view_count": null,
       "_view_module": "@jupyter-widgets/base",
       "_view_module_version": "2.0.0",
       "_view_name": "LayoutView",
       "align_content": null,
       "align_items": null,
       "align_self": null,
       "border_bottom": null,
       "border_left": null,
       "border_right": null,
       "border_top": null,
       "bottom": null,
       "display": null,
       "flex": null,
       "flex_flow": null,
       "grid_area": null,
       "grid_auto_columns": null,
       "grid_auto_flow": null,
       "grid_auto_rows": null,
       "grid_column": null,
       "grid_gap": null,
       "grid_row": null,
       "grid_template_areas": null,
       "grid_template_columns": null,
       "grid_template_rows": null,
       "height": null,
       "justify_content": null,
       "justify_items": null,
       "left": null,
       "margin": null,
       "max_height": null,
       "max_width": null,
       "min_height": null,
       "min_width": null,
       "object_fit": null,
       "object_position": null,
       "order": null,
       "overflow": null,
       "padding": null,
       "right": null,
       "top": null,
       "visibility": null,
       "width": null
      }
     },
     "fff0022a575648aab0f4067c4e284fac": {
      "model_module": "@jupyter-widgets/base",
      "model_module_version": "2.0.0",
      "model_name": "LayoutModel",
      "state": {
       "_model_module": "@jupyter-widgets/base",
       "_model_module_version": "2.0.0",
       "_model_name": "LayoutModel",
       "_view_count": null,
       "_view_module": "@jupyter-widgets/base",
       "_view_module_version": "2.0.0",
       "_view_name": "LayoutView",
       "align_content": null,
       "align_items": null,
       "align_self": null,
       "border_bottom": null,
       "border_left": null,
       "border_right": null,
       "border_top": null,
       "bottom": null,
       "display": null,
       "flex": null,
       "flex_flow": null,
       "grid_area": null,
       "grid_auto_columns": null,
       "grid_auto_flow": null,
       "grid_auto_rows": null,
       "grid_column": null,
       "grid_gap": null,
       "grid_row": null,
       "grid_template_areas": null,
       "grid_template_columns": null,
       "grid_template_rows": null,
       "height": null,
       "justify_content": null,
       "justify_items": null,
       "left": null,
       "margin": null,
       "max_height": null,
       "max_width": null,
       "min_height": null,
       "min_width": null,
       "object_fit": null,
       "object_position": null,
       "order": null,
       "overflow": null,
       "padding": null,
       "right": null,
       "top": null,
       "visibility": null,
       "width": null
      }
     }
    },
    "version_major": 2,
    "version_minor": 0
   }
  }
 },
 "nbformat": 4,
 "nbformat_minor": 5
}
