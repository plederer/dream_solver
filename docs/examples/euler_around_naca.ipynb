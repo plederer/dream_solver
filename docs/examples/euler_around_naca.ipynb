{
 "cells": [
  {
   "cell_type": "markdown",
   "id": "494717cd",
   "metadata": {},
   "source": [
    "## Example 1"
   ]
  },
  {
   "cell_type": "code",
   "execution_count": 1,
   "id": "fa492a0d",
   "metadata": {
    "execution": {
     "iopub.execute_input": "2025-05-20T14:03:38.892342Z",
     "iopub.status.busy": "2025-05-20T14:03:38.891958Z",
     "iopub.status.idle": "2025-05-20T14:03:39.513663Z",
     "shell.execute_reply": "2025-05-20T14:03:39.513356Z"
    }
   },
   "outputs": [],
   "source": [
    "# Import modules\n",
    "import numpy as np\n",
    "import ngsolve as ngs\n",
    "import netgen.occ as occ\n",
    "from ngsolve.webgui import Draw\n",
    "from dream.mesh import get_2d_naca_occ_profile\n",
    "from dream.compressible import CompressibleFlowSolver, FarField, InviscidWall, Initial\n",
    "from dream.io import PointSensor, BoundarySensor"
   ]
  },
  {
   "cell_type": "code",
   "execution_count": 2,
   "id": "bfa88091",
   "metadata": {
    "execution": {
     "iopub.execute_input": "2025-05-20T14:03:39.515388Z",
     "iopub.status.busy": "2025-05-20T14:03:39.515246Z",
     "iopub.status.idle": "2025-05-20T14:03:40.620469Z",
     "shell.execute_reply": "2025-05-20T14:03:40.620188Z"
    }
   },
   "outputs": [
    {
     "data": {
      "application/vnd.jupyter.widget-view+json": {
       "model_id": "36a6d3be83654b00a2c5c572689b8d76",
       "version_major": 2,
       "version_minor": 0
      },
      "text/plain": [
       "WebGuiDocuWidget(value={'render_data': 'render_data_0.json', 'preview': 'preview_0.png'})"
      ]
     },
     "metadata": {},
     "output_type": "display_data"
    },
    {
     "name": "stdout",
     "output_type": "stream",
     "text": [
      "('farfield', 'airfoil')\n",
      "('air',)\n"
     ]
    }
   ],
   "source": [
    "# Create Geometry\n",
    "AoA = 0\n",
    "LE = (-0.5, 0)\n",
    "\n",
    "air = occ.WorkPlane().Circle(0, 0, 2).Face()\n",
    "for edge in air.edges:\n",
    "    edge.name = \"farfield\"\n",
    "airfoil = get_2d_naca_occ_profile('0012', AoA, LE=LE, n=200)\n",
    "for edge in airfoil.edges:\n",
    "    edge.name = \"airfoil\"\n",
    "    edge.maxh = 0.025\n",
    "\n",
    "air -= airfoil\n",
    "air.faces[0].name = \"air\"\n",
    "\n",
    "geo = occ.OCCGeometry(air, dim=2)\n",
    "mesh = ngs.Mesh(geo.GenerateMesh(maxh=0.5, grading=0.2))\n",
    "mesh.Curve(3)\n",
    "Draw(mesh)\n",
    "\n",
    "print(mesh.GetBoundaries())\n",
    "print(mesh.GetMaterials())"
   ]
  },
  {
   "cell_type": "code",
   "execution_count": 3,
   "id": "977e8184",
   "metadata": {
    "execution": {
     "iopub.execute_input": "2025-05-20T14:03:40.621746Z",
     "iopub.status.busy": "2025-05-20T14:03:40.621618Z",
     "iopub.status.idle": "2025-05-20T14:03:40.624839Z",
     "shell.execute_reply": "2025-05-20T14:03:40.624540Z"
    }
   },
   "outputs": [
    {
     "data": {
      "text/plain": [
       "['time',\n",
       " 'linear_solver',\n",
       " 'nonlinear_solver',\n",
       " 'optimizations',\n",
       " 'io',\n",
       " 'info',\n",
       " 'fem',\n",
       " 'mach_number',\n",
       " 'reynolds_number',\n",
       " 'prandtl_number',\n",
       " 'equation_of_state',\n",
       " 'dynamic_viscosity',\n",
       " 'scaling',\n",
       " 'riemann_solver']"
      ]
     },
     "execution_count": 3,
     "metadata": {},
     "output_type": "execute_result"
    }
   ],
   "source": [
    "cfg = CompressibleFlowSolver(mesh)\n",
    "list(cfg.CONFIG)"
   ]
  },
  {
   "cell_type": "code",
   "execution_count": 4,
   "id": "c17d21a7",
   "metadata": {
    "execution": {
     "iopub.execute_input": "2025-05-20T14:03:40.625896Z",
     "iopub.status.busy": "2025-05-20T14:03:40.625816Z",
     "iopub.status.idle": "2025-05-20T14:03:40.649094Z",
     "shell.execute_reply": "2025-05-20T14:03:40.648873Z"
    }
   },
   "outputs": [],
   "source": [
    "# Set configuration\n",
    "cfg.mach_number = 0.1\n",
    "cfg.equation_of_state = \"ideal\"\n",
    "cfg.dynamic_viscosity = \"inviscid\"\n",
    "cfg.scaling = \"aerodynamic\"\n",
    "cfg.riemann_solver = \"lax_friedrich\"\n",
    "cfg.optimizations.static_condensation = True\n",
    "\n",
    "cfg.time = \"pseudo_time_stepping\"\n",
    "\n",
    "cfg.fem = \"conservative\"\n",
    "cfg.fem.order = 3\n",
    "cfg.fem.method = \"hdg\"\n",
    "cfg.fem.scheme = \"implicit_euler\"\n",
    "\n",
    "# Curve mesh\n",
    "mesh.Curve(cfg.fem.order)\n",
    "\n",
    "# Get farfield state\n",
    "Uinf = cfg.get_farfield_fields(direction=(1, 0))\n",
    "\n",
    "# Set boundary conditions\n",
    "cfg.bcs['farfield'] = FarField(fields=Uinf)\n",
    "cfg.bcs['airfoil'] = InviscidWall()\n",
    "cfg.dcs['air'] = Initial(fields=Uinf)"
   ]
  },
  {
   "cell_type": "code",
   "execution_count": 5,
   "id": "d71a583f",
   "metadata": {
    "execution": {
     "iopub.execute_input": "2025-05-20T14:03:40.650209Z",
     "iopub.status.busy": "2025-05-20T14:03:40.650126Z",
     "iopub.status.idle": "2025-05-20T14:03:58.652511Z",
     "shell.execute_reply": "2025-05-20T14:03:58.652225Z"
    }
   },
   "outputs": [
    {
     "name": "stderr",
     "output_type": "stream",
     "text": [
      "dream.solver    (INFO) | residual: 6.527468e-02 | iteration: 0\n"
     ]
    },
    {
     "name": "stderr",
     "output_type": "stream",
     "text": [
      "dream.solver    (INFO) | residual: 1.369797e+02 | iteration: 1\n"
     ]
    },
    {
     "name": "stderr",
     "output_type": "stream",
     "text": [
      "dream.solver    (INFO) | residual: 9.413612e+01 | iteration: 2\n"
     ]
    },
    {
     "name": "stderr",
     "output_type": "stream",
     "text": [
      "dream.solver    (INFO) | residual: 7.416178e+01 | iteration: 3\n"
     ]
    },
    {
     "name": "stderr",
     "output_type": "stream",
     "text": [
      "dream.solver    (INFO) | residual: 6.257375e+01 | iteration: 4\n"
     ]
    },
    {
     "name": "stderr",
     "output_type": "stream",
     "text": [
      "dream.solver    (INFO) | residual: 5.474328e+01 | iteration: 5\n"
     ]
    },
    {
     "name": "stderr",
     "output_type": "stream",
     "text": [
      "dream.solver    (INFO) | residual: 4.890540e+01 | iteration: 6\n"
     ]
    },
    {
     "name": "stderr",
     "output_type": "stream",
     "text": [
      "dream.solver    (INFO) | residual: 4.434764e+01 | iteration: 7\n"
     ]
    },
    {
     "name": "stderr",
     "output_type": "stream",
     "text": [
      "dream.solver    (INFO) | residual: 4.066006e+01 | iteration: 8\n"
     ]
    },
    {
     "name": "stderr",
     "output_type": "stream",
     "text": [
      "dream.solver    (INFO) | residual: 3.756120e+01 | iteration: 9\n"
     ]
    },
    {
     "name": "stderr",
     "output_type": "stream",
     "text": [
      "dream.time      (INFO) | Successfully updated time step at iteration 10\n"
     ]
    },
    {
     "name": "stderr",
     "output_type": "stream",
     "text": [
      "dream.time      (INFO) | Updated time step 𝚫t = 0.01. Previous time step 𝚫t = 0.001\n"
     ]
    },
    {
     "name": "stderr",
     "output_type": "stream",
     "text": [
      "dream.solver    (INFO) | residual: 1.185736e+02 | iteration: 10\n"
     ]
    },
    {
     "name": "stderr",
     "output_type": "stream",
     "text": [
      "dream.solver    (INFO) | residual: 4.900885e+01 | iteration: 11\n"
     ]
    },
    {
     "name": "stderr",
     "output_type": "stream",
     "text": [
      "dream.solver    (INFO) | residual: 3.115978e+01 | iteration: 12\n"
     ]
    },
    {
     "name": "stderr",
     "output_type": "stream",
     "text": [
      "dream.solver    (INFO) | residual: 2.536746e+01 | iteration: 13\n"
     ]
    },
    {
     "name": "stderr",
     "output_type": "stream",
     "text": [
      "dream.solver    (INFO) | residual: 2.237988e+01 | iteration: 14\n"
     ]
    },
    {
     "name": "stderr",
     "output_type": "stream",
     "text": [
      "dream.solver    (INFO) | residual: 1.938417e+01 | iteration: 15\n"
     ]
    },
    {
     "name": "stderr",
     "output_type": "stream",
     "text": [
      "dream.solver    (INFO) | residual: 1.622656e+01 | iteration: 16\n"
     ]
    },
    {
     "name": "stderr",
     "output_type": "stream",
     "text": [
      "dream.solver    (INFO) | residual: 1.338744e+01 | iteration: 17\n"
     ]
    },
    {
     "name": "stderr",
     "output_type": "stream",
     "text": [
      "dream.solver    (INFO) | residual: 1.108755e+01 | iteration: 18\n"
     ]
    },
    {
     "name": "stderr",
     "output_type": "stream",
     "text": [
      "dream.solver    (INFO) | residual: 9.278745e+00 | iteration: 19\n"
     ]
    },
    {
     "name": "stderr",
     "output_type": "stream",
     "text": [
      "dream.time      (INFO) | Successfully updated time step at iteration 20\n"
     ]
    },
    {
     "name": "stderr",
     "output_type": "stream",
     "text": [
      "dream.time      (INFO) | Updated time step 𝚫t = 0.1. Previous time step 𝚫t = 0.01\n"
     ]
    },
    {
     "name": "stderr",
     "output_type": "stream",
     "text": [
      "dream.solver    (INFO) | residual: 1.518437e+01 | iteration: 20\n"
     ]
    },
    {
     "name": "stderr",
     "output_type": "stream",
     "text": [
      "dream.solver    (INFO) | residual: 2.161493e+00 | iteration: 21\n"
     ]
    },
    {
     "name": "stderr",
     "output_type": "stream",
     "text": [
      "dream.solver    (INFO) | residual: 4.321877e-01 | iteration: 22\n"
     ]
    },
    {
     "name": "stderr",
     "output_type": "stream",
     "text": [
      "dream.solver    (INFO) | residual: 5.217739e-02 | iteration: 23\n"
     ]
    },
    {
     "name": "stderr",
     "output_type": "stream",
     "text": [
      "dream.solver    (INFO) | residual: 3.017118e-03 | iteration: 24\n"
     ]
    },
    {
     "name": "stderr",
     "output_type": "stream",
     "text": [
      "dream.solver    (INFO) | residual: 3.427553e-04 | iteration: 25\n"
     ]
    },
    {
     "name": "stderr",
     "output_type": "stream",
     "text": [
      "dream.solver    (INFO) | residual: 3.500241e-04 | iteration: 26\n"
     ]
    },
    {
     "name": "stderr",
     "output_type": "stream",
     "text": [
      "dream.solver    (INFO) | residual: 2.036373e-04 | iteration: 27\n"
     ]
    },
    {
     "name": "stderr",
     "output_type": "stream",
     "text": [
      "dream.solver    (INFO) | residual: 9.644757e-05 | iteration: 28\n"
     ]
    },
    {
     "name": "stderr",
     "output_type": "stream",
     "text": [
      "dream.solver    (INFO) | residual: 5.137576e-05 | iteration: 29\n"
     ]
    },
    {
     "name": "stderr",
     "output_type": "stream",
     "text": [
      "dream.time      (INFO) | Successfully updated time step at iteration 30\n"
     ]
    },
    {
     "name": "stderr",
     "output_type": "stream",
     "text": [
      "dream.time      (INFO) | Updated time step 𝚫t = 1.0. Previous time step 𝚫t = 0.1\n"
     ]
    },
    {
     "name": "stderr",
     "output_type": "stream",
     "text": [
      "dream.solver    (INFO) | residual: 1.554975e-04 | iteration: 30\n"
     ]
    },
    {
     "name": "stderr",
     "output_type": "stream",
     "text": [
      "dream.solver    (INFO) | residual: 5.558946e-05 | iteration: 31\n"
     ]
    },
    {
     "name": "stderr",
     "output_type": "stream",
     "text": [
      "dream.solver    (INFO) | residual: 2.116324e-05 | iteration: 32\n"
     ]
    },
    {
     "name": "stderr",
     "output_type": "stream",
     "text": [
      "dream.solver    (INFO) | residual: 6.122476e-06 | iteration: 33\n"
     ]
    },
    {
     "name": "stderr",
     "output_type": "stream",
     "text": [
      "dream.solver    (INFO) | residual: 1.388903e-06 | iteration: 34\n"
     ]
    },
    {
     "name": "stderr",
     "output_type": "stream",
     "text": [
      "dream.solver    (INFO) | residual: 2.915707e-07 | iteration: 35\n"
     ]
    },
    {
     "name": "stderr",
     "output_type": "stream",
     "text": [
      "dream.solver    (INFO) | residual: 7.297719e-08 | iteration: 36\n"
     ]
    },
    {
     "name": "stderr",
     "output_type": "stream",
     "text": [
      "dream.solver    (INFO) | residual: 2.308508e-08 | iteration: 37\n"
     ]
    },
    {
     "name": "stderr",
     "output_type": "stream",
     "text": [
      "dream.solver    (INFO) | residual: 8.065518e-09 | iteration: 38\n"
     ]
    },
    {
     "name": "stderr",
     "output_type": "stream",
     "text": [
      "dream.solver    (INFO) | residual: 2.872964e-09 | iteration: 39\n"
     ]
    },
    {
     "name": "stderr",
     "output_type": "stream",
     "text": [
      "dream.time      (INFO) | Successfully updated time step at iteration 40\n"
     ]
    },
    {
     "name": "stderr",
     "output_type": "stream",
     "text": [
      "dream.time      (INFO) | Updated time step 𝚫t = 10.0. Previous time step 𝚫t = 1.0\n"
     ]
    },
    {
     "name": "stderr",
     "output_type": "stream",
     "text": [
      "dream.solver    (INFO) | residual: 2.227451e-09 | iteration: 40\n"
     ]
    },
    {
     "name": "stderr",
     "output_type": "stream",
     "text": [
      "dream.solver    (INFO) | residual: 3.742295e-11 | iteration: 41\n"
     ]
    },
    {
     "name": "stderr",
     "output_type": "stream",
     "text": [
      "dream.solver    (INFO) | residual: 6.293430e-13 | iteration: 42\n"
     ]
    },
    {
     "data": {
      "application/vnd.jupyter.widget-view+json": {
       "model_id": "107c55d0bff1420f81e25d9071d43224",
       "version_major": 2,
       "version_minor": 0
      },
      "text/plain": [
       "WebGuiDocuWidget(value={'render_data': 'render_data_1.json', 'preview': 'preview_1.png'})"
      ]
     },
     "metadata": {},
     "output_type": "display_data"
    }
   ],
   "source": [
    "ngs.SetNumThreads(4)\n",
    "\n",
    "cfg.time.timer.step = 0.001\n",
    "cfg.time.max_time_step = 10\n",
    "cfg.time.increment_at = 10\n",
    "cfg.time.increment_factor = 10\n",
    "\n",
    "cfg.nonlinear_solver.max_iterations = 300\n",
    "cfg.nonlinear_solver.convergence_criterion = 1e-12\n",
    "\n",
    "cfg.initialize()\n",
    "with ngs.TaskManager():\n",
    "    cfg.solve()\n",
    "\n",
    "Uh = cfg.get_solution_fields()\n",
    "cfg.io.draw({\"M\": cfg.get_local_mach_number(Uh)})\n"
   ]
  },
  {
   "cell_type": "code",
   "execution_count": 6,
   "id": "94c9dc93",
   "metadata": {
    "execution": {
     "iopub.execute_input": "2025-05-20T14:03:58.653956Z",
     "iopub.status.busy": "2025-05-20T14:03:58.653873Z",
     "iopub.status.idle": "2025-05-20T14:03:58.658305Z",
     "shell.execute_reply": "2025-05-20T14:03:58.658096Z"
    }
   },
   "outputs": [
    {
     "data": {
      "text/plain": [
       "{'airfoil': array([-0.02608199, -0.00024716])}"
      ]
     },
     "execution_count": 6,
     "metadata": {},
     "output_type": "execute_result"
    }
   ],
   "source": [
    "cp = PointSensor.from_boundary({'c_p': cfg.pressure_coefficient(Uh, Uinf)}, mesh, 'airfoil')\n",
    "cp_ = cp.measure_as_dict()\n",
    "\n",
    "\n",
    "C = BoundarySensor({\"c_l\": cfg.lift_coefficient(Uh, None, Uinf, (0, 1)), \"c_d\": cfg.drag_coefficient(Uh, None, Uinf, (1, 0))}, mesh, 'airfoil')\n",
    "C_ = C.measure_as_dict()\n",
    "C_"
   ]
  },
  {
   "cell_type": "code",
   "execution_count": 7,
   "id": "48175cdf",
   "metadata": {
    "execution": {
     "iopub.execute_input": "2025-05-20T14:03:58.659409Z",
     "iopub.status.busy": "2025-05-20T14:03:58.659340Z",
     "iopub.status.idle": "2025-05-20T14:03:59.121602Z",
     "shell.execute_reply": "2025-05-20T14:03:59.121356Z"
    }
   },
   "outputs": [
    {
     "data": {
      "text/plain": [
       "Text(0.5, 1.0, 'Pressure coefficient over chord length')"
      ]
     },
     "execution_count": 7,
     "metadata": {},
     "output_type": "execute_result"
    },
    {
     "data": {
      "image/png": "[encoded data removed]",
      "text/plain": [
       "<Figure size 640x480 with 1 Axes>"
      ]
     },
     "metadata": {},
     "output_type": "display_data"
    }
   ],
   "source": [
    "import matplotlib.pyplot as plt\n",
    "x_ = np.array(list(cp_.keys()))\n",
    "x_ = np.cos(np.deg2rad(AoA)) * (x_[:, 0] - LE[0]) - np.sin(np.deg2rad(AoA)) * (x_[:, 1] - LE[1])\n",
    "values = np.array(list(cp_.values())).flatten()\n",
    "\n",
    "fig, ax = plt.subplots()\n",
    "ax.plot(x_, values, 'o')\n",
    "ax.set_xlabel(r\"$x$\")\n",
    "ax.set_ylabel(r\"$c_p$\")\n",
    "ax.set_title(\"Pressure coefficient over chord length\")"
   ]
  }
 ],
 "metadata": {
  "kernelspec": {
   "display_name": "Python 3",
   "language": "python",
   "name": "python3"
  },
  "language_info": {
   "codemirror_mode": {
    "name": "ipython",
    "version": 3
   },
   "file_extension": ".py",
   "mimetype": "text/x-python",
   "name": "python",
   "nbconvert_exporter": "python",
   "pygments_lexer": "ipython3",
   "version": "3.13.0"
  },
  "widgets": {
   "application/vnd.jupyter.widget-state+json": {
    "state": {
     "107c55d0bff1420f81e25d9071d43224": {
      "model_module": "webgui_jupyter_widgets",
      "model_module_version": "0.2.37",
      "model_name": "WebguiModel",
      "state": {
       "_dom_classes": [],
       "_model_module": "webgui_jupyter_widgets",
       "_model_module_version": "0.2.37",
       "_model_name": "WebguiModel",
       "_view_count": null,
       "_view_module": "webgui_jupyter_widgets",
       "_view_module_version": "0.2.37",
       "_view_name": "WebguiDocuView",
       "layout": "IPY_MODEL_3ddc139a406b49c2a718e96622610ce9",
       "tabbable": null,
       "tooltip": null,
       "value": {
        "preview": "preview_1.png",
        "render_data": "render_data_1.json"
       }
      }
     },
     "36a6d3be83654b00a2c5c572689b8d76": {
      "model_module": "webgui_jupyter_widgets",
      "model_module_version": "0.2.37",
      "model_name": "WebguiModel",
      "state": {
       "_dom_classes": [],
       "_model_module": "webgui_jupyter_widgets",
       "_model_module_version": "0.2.37",
       "_model_name": "WebguiModel",
       "_view_count": null,
       "_view_module": "webgui_jupyter_widgets",
       "_view_module_version": "0.2.37",
       "_view_name": "WebguiDocuView",
       "layout": "IPY_MODEL_5d2841256ed84860a1ff153aa624ac7d",
       "tabbable": null,
       "tooltip": null,
       "value": {
        "preview": "preview_0.png",
        "render_data": "render_data_0.json"
       }
      }
     },
     "3ddc139a406b49c2a718e96622610ce9": {
      "model_module": "@jupyter-widgets/base",
      "model_module_version": "2.0.0",
      "model_name": "LayoutModel",
      "state": {
       "_model_module": "@jupyter-widgets/base",
       "_model_module_version": "2.0.0",
       "_model_name": "LayoutModel",
       "_view_count": null,
       "_view_module": "@jupyter-widgets/base",
       "_view_module_version": "2.0.0",
       "_view_name": "LayoutView",
       "align_content": null,
       "align_items": null,
       "align_self": null,
       "border_bottom": null,
       "border_left": null,
       "border_right": null,
       "border_top": null,
       "bottom": null,
       "display": null,
       "flex": null,
       "flex_flow": null,
       "grid_area": null,
       "grid_auto_columns": null,
       "grid_auto_flow": null,
       "grid_auto_rows": null,
       "grid_column": null,
       "grid_gap": null,
       "grid_row": null,
       "grid_template_areas": null,
       "grid_template_columns": null,
       "grid_template_rows": null,
       "height": null,
       "justify_content": null,
       "justify_items": null,
       "left": null,
       "margin": null,
       "max_height": null,
       "max_width": null,
       "min_height": null,
       "min_width": null,
       "object_fit": null,
       "object_position": null,
       "order": null,
       "overflow": null,
       "padding": null,
       "right": null,
       "top": null,
       "visibility": null,
       "width": null
      }
     },
     "5d2841256ed84860a1ff153aa624ac7d": {
      "model_module": "@jupyter-widgets/base",
      "model_module_version": "2.0.0",
      "model_name": "LayoutModel",
      "state": {
       "_model_module": "@jupyter-widgets/base",
       "_model_module_version": "2.0.0",
       "_model_name": "LayoutModel",
       "_view_count": null,
       "_view_module": "@jupyter-widgets/base",
       "_view_module_version": "2.0.0",
       "_view_name": "LayoutView",
       "align_content": null,
       "align_items": null,
       "align_self": null,
       "border_bottom": null,
       "border_left": null,
       "border_right": null,
       "border_top": null,
       "bottom": null,
       "display": null,
       "flex": null,
       "flex_flow": null,
       "grid_area": null,
       "grid_auto_columns": null,
       "grid_auto_flow": null,
       "grid_auto_rows": null,
       "grid_column": null,
       "grid_gap": null,
       "grid_row": null,
       "grid_template_areas": null,
       "grid_template_columns": null,
       "grid_template_rows": null,
       "height": null,
       "justify_content": null,
       "justify_items": null,
       "left": null,
       "margin": null,
       "max_height": null,
       "max_width": null,
       "min_height": null,
       "min_width": null,
       "object_fit": null,
       "object_position": null,
       "order": null,
       "overflow": null,
       "padding": null,
       "right": null,
       "top": null,
       "visibility": null,
       "width": null
      }
     }
    },
    "version_major": 2,
    "version_minor": 0
   }
  }
 },
 "nbformat": 4,
 "nbformat_minor": 5
}
