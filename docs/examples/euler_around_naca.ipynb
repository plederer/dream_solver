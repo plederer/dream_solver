{
 "cells": [
  {
   "cell_type": "markdown",
   "id": "494717cd",
   "metadata": {},
   "source": [
    "## Flow around NACA 0012 airfoil"
   ]
  },
  {
   "cell_type": "code",
   "execution_count": 1,
   "id": "fa492a0d",
   "metadata": {
    "execution": {
     "iopub.execute_input": "2025-06-10T16:07:19.461337Z",
     "iopub.status.busy": "2025-06-10T16:07:19.461073Z",
     "iopub.status.idle": "2025-06-10T16:07:20.329944Z",
     "shell.execute_reply": "2025-06-10T16:07:20.329603Z"
    }
   },
   "outputs": [],
   "source": [
    "# Import modules\n",
    "import numpy as np\n",
    "import ngsolve as ngs\n",
    "import netgen.occ as occ\n",
    "from ngsolve.webgui import Draw\n",
    "from dream.mesh import get_2d_naca_occ_profile\n",
    "from dream.compressible import CompressibleFlowSolver, FarField, InviscidWall, Initial\n",
    "from dream.io import PointSensor, BoundarySensor"
   ]
  },
  {
   "cell_type": "code",
   "execution_count": 2,
   "id": "bfa88091",
   "metadata": {
    "execution": {
     "iopub.execute_input": "2025-06-10T16:07:20.331856Z",
     "iopub.status.busy": "2025-06-10T16:07:20.331704Z",
     "iopub.status.idle": "2025-06-10T16:07:21.905071Z",
     "shell.execute_reply": "2025-06-10T16:07:21.904779Z"
    }
   },
   "outputs": [
    {
     "data": {
      "application/vnd.jupyter.widget-view+json": {
       "model_id": "9a5bb2273b344328952335d7473696fc",
       "version_major": 2,
       "version_minor": 0
      },
      "text/plain": [
       "WebGuiDocuWidget(value={'render_data': 'render_data_0.json', 'preview': 'preview_0.png'})"
      ]
     },
     "metadata": {},
     "output_type": "display_data"
    },
    {
     "name": "stdout",
     "output_type": "stream",
     "text": [
      "('farfield', 'airfoil')\n",
      "('air',)\n"
     ]
    }
   ],
   "source": [
    "# Create Geometry\n",
    "AoA = 0\n",
    "LE = (-0.5, 0)\n",
    "\n",
    "air = occ.WorkPlane().Circle(0, 0, 2).Face()\n",
    "for edge in air.edges:\n",
    "    edge.name = \"farfield\"\n",
    "airfoil = get_2d_naca_occ_profile('0012', AoA, LE=LE, n=200)\n",
    "for edge in airfoil.edges:\n",
    "    edge.name = \"airfoil\"\n",
    "    edge.maxh = 0.025\n",
    "\n",
    "air -= airfoil\n",
    "air.faces[0].name = \"air\"\n",
    "\n",
    "geo = occ.OCCGeometry(air, dim=2)\n",
    "mesh = ngs.Mesh(geo.GenerateMesh(maxh=0.5, grading=0.2))\n",
    "mesh.Curve(3)\n",
    "Draw(mesh)\n",
    "\n",
    "print(mesh.GetBoundaries())\n",
    "print(mesh.GetMaterials())"
   ]
  },
  {
   "cell_type": "code",
   "execution_count": 3,
   "id": "977e8184",
   "metadata": {
    "execution": {
     "iopub.execute_input": "2025-06-10T16:07:21.906450Z",
     "iopub.status.busy": "2025-06-10T16:07:21.906338Z",
     "iopub.status.idle": "2025-06-10T16:07:21.909331Z",
     "shell.execute_reply": "2025-06-10T16:07:21.909094Z"
    }
   },
   "outputs": [
    {
     "data": {
      "text/plain": [
       "['time',\n",
       " 'linear_solver',\n",
       " 'nonlinear_solver',\n",
       " 'optimizations',\n",
       " 'io',\n",
       " 'info',\n",
       " 'fem',\n",
       " 'mach_number',\n",
       " 'reynolds_number',\n",
       " 'prandtl_number',\n",
       " 'equation_of_state',\n",
       " 'dynamic_viscosity',\n",
       " 'scaling',\n",
       " 'riemann_solver']"
      ]
     },
     "execution_count": 3,
     "metadata": {},
     "output_type": "execute_result"
    }
   ],
   "source": [
    "cfg = CompressibleFlowSolver(mesh)\n",
    "list(cfg.CONFIG)"
   ]
  },
  {
   "cell_type": "code",
   "execution_count": 4,
   "id": "c17d21a7",
   "metadata": {
    "execution": {
     "iopub.execute_input": "2025-06-10T16:07:21.910400Z",
     "iopub.status.busy": "2025-06-10T16:07:21.910314Z",
     "iopub.status.idle": "2025-06-10T16:07:21.932349Z",
     "shell.execute_reply": "2025-06-10T16:07:21.932135Z"
    }
   },
   "outputs": [],
   "source": [
    "# Set configuration\n",
    "cfg.mach_number = 0.1\n",
    "cfg.equation_of_state = \"ideal\"\n",
    "cfg.dynamic_viscosity = \"inviscid\"\n",
    "cfg.scaling = \"aerodynamic\"\n",
    "cfg.riemann_solver = \"lax_friedrich\"\n",
    "cfg.optimizations.static_condensation = True\n",
    "\n",
    "cfg.time = \"pseudo_time_stepping\"\n",
    "\n",
    "cfg.fem = \"conservative\"\n",
    "cfg.fem.order = 3\n",
    "cfg.fem.method = \"hdg\"\n",
    "cfg.fem.scheme = \"implicit_euler\"\n",
    "\n",
    "# Curve mesh\n",
    "mesh.Curve(cfg.fem.order)\n",
    "\n",
    "# Get farfield state\n",
    "Uinf = cfg.get_farfield_fields(direction=(1, 0))\n",
    "\n",
    "# Set boundary conditions\n",
    "cfg.bcs['farfield'] = FarField(fields=Uinf)\n",
    "cfg.bcs['airfoil'] = InviscidWall()\n",
    "cfg.dcs['air'] = Initial(fields=Uinf)"
   ]
  },
  {
   "cell_type": "code",
   "execution_count": 5,
   "id": "d71a583f",
   "metadata": {
    "execution": {
     "iopub.execute_input": "2025-06-10T16:07:21.933412Z",
     "iopub.status.busy": "2025-06-10T16:07:21.933326Z",
     "iopub.status.idle": "2025-06-10T16:07:35.248509Z",
     "shell.execute_reply": "2025-06-10T16:07:35.248199Z"
    }
   },
   "outputs": [
    {
     "name": "stderr",
     "output_type": "stream",
     "text": [
      "dream.solver    (INFO) | residual: 6.527468e-02 | iteration: 0\r"
     ]
    },
    {
     "name": "stderr",
     "output_type": "stream",
     "text": [
      "dream.solver    (INFO) | residual: 7.839761e+01 | iteration: 1\r"
     ]
    },
    {
     "name": "stderr",
     "output_type": "stream",
     "text": [
      "dream.solver    (INFO) | residual: 5.631235e+01 | iteration: 2\r"
     ]
    },
    {
     "name": "stderr",
     "output_type": "stream",
     "text": [
      "dream.solver    (INFO) | residual: 4.544957e+01 | iteration: 3\r"
     ]
    },
    {
     "name": "stderr",
     "output_type": "stream",
     "text": [
      "dream.solver    (INFO) | residual: 3.881689e+01 | iteration: 4\r"
     ]
    },
    {
     "name": "stderr",
     "output_type": "stream",
     "text": [
      "dream.solver    (INFO) | residual: 3.421251e+01 | iteration: 5\r"
     ]
    },
    {
     "name": "stderr",
     "output_type": "stream",
     "text": [
      "dream.solver    (INFO) | residual: 3.076680e+01 | iteration: 6\r"
     ]
    },
    {
     "name": "stderr",
     "output_type": "stream",
     "text": [
      "dream.solver    (INFO) | residual: 2.806296e+01 | iteration: 7\r"
     ]
    },
    {
     "name": "stderr",
     "output_type": "stream",
     "text": [
      "dream.solver    (INFO) | residual: 2.587430e+01 | iteration: 8\r"
     ]
    },
    {
     "name": "stderr",
     "output_type": "stream",
     "text": [
      "dream.solver    (INFO) | residual: 2.405747e+01 | iteration: 9\r"
     ]
    },
    {
     "name": "stderr",
     "output_type": "stream",
     "text": [
      "dream.time      (INFO) | Successfully updated time step at iteration 10\r"
     ]
    },
    {
     "name": "stderr",
     "output_type": "stream",
     "text": [
      "dream.time      (INFO) | Updated time step 𝚫t = 0.01. Previous time step 𝚫t = 0.001\r"
     ]
    },
    {
     "name": "stderr",
     "output_type": "stream",
     "text": [
      "dream.solver    (INFO) | residual: 5.967689e+01 | iteration: 10\r"
     ]
    },
    {
     "name": "stderr",
     "output_type": "stream",
     "text": [
      "dream.solver    (INFO) | residual: 2.663775e+01 | iteration: 11\r"
     ]
    },
    {
     "name": "stderr",
     "output_type": "stream",
     "text": [
      "dream.solver    (INFO) | residual: 1.736999e+01 | iteration: 12\r"
     ]
    },
    {
     "name": "stderr",
     "output_type": "stream",
     "text": [
      "dream.solver    (INFO) | residual: 1.431716e+01 | iteration: 13\r"
     ]
    },
    {
     "name": "stderr",
     "output_type": "stream",
     "text": [
      "dream.solver    (INFO) | residual: 1.279643e+01 | iteration: 14\r"
     ]
    },
    {
     "name": "stderr",
     "output_type": "stream",
     "text": [
      "dream.solver    (INFO) | residual: 1.125095e+01 | iteration: 15\r"
     ]
    },
    {
     "name": "stderr",
     "output_type": "stream",
     "text": [
      "dream.solver    (INFO) | residual: 9.579745e+00 | iteration: 16\r"
     ]
    },
    {
     "name": "stderr",
     "output_type": "stream",
     "text": [
      "dream.solver    (INFO) | residual: 8.052944e+00 | iteration: 17\r"
     ]
    },
    {
     "name": "stderr",
     "output_type": "stream",
     "text": [
      "dream.solver    (INFO) | residual: 6.798253e+00 | iteration: 18\r"
     ]
    },
    {
     "name": "stderr",
     "output_type": "stream",
     "text": [
      "dream.solver    (INFO) | residual: 5.792916e+00 | iteration: 19\r"
     ]
    },
    {
     "name": "stderr",
     "output_type": "stream",
     "text": [
      "dream.time      (INFO) | Successfully updated time step at iteration 20\r"
     ]
    },
    {
     "name": "stderr",
     "output_type": "stream",
     "text": [
      "dream.time      (INFO) | Updated time step 𝚫t = 0.1. Previous time step 𝚫t = 0.01\r"
     ]
    },
    {
     "name": "stderr",
     "output_type": "stream",
     "text": [
      "dream.solver    (INFO) | residual: 6.850929e+00 | iteration: 20\r"
     ]
    },
    {
     "name": "stderr",
     "output_type": "stream",
     "text": [
      "dream.solver    (INFO) | residual: 1.043457e+00 | iteration: 21\r"
     ]
    },
    {
     "name": "stderr",
     "output_type": "stream",
     "text": [
      "dream.solver    (INFO) | residual: 2.424872e-01 | iteration: 22\r"
     ]
    },
    {
     "name": "stderr",
     "output_type": "stream",
     "text": [
      "dream.solver    (INFO) | residual: 3.175556e-02 | iteration: 23\r"
     ]
    },
    {
     "name": "stderr",
     "output_type": "stream",
     "text": [
      "dream.solver    (INFO) | residual: 1.972560e-03 | iteration: 24\r"
     ]
    },
    {
     "name": "stderr",
     "output_type": "stream",
     "text": [
      "dream.solver    (INFO) | residual: 2.199922e-04 | iteration: 25\r"
     ]
    },
    {
     "name": "stderr",
     "output_type": "stream",
     "text": [
      "dream.solver    (INFO) | residual: 2.053095e-04 | iteration: 26\r"
     ]
    },
    {
     "name": "stderr",
     "output_type": "stream",
     "text": [
      "dream.solver    (INFO) | residual: 1.210387e-04 | iteration: 27\r"
     ]
    },
    {
     "name": "stderr",
     "output_type": "stream",
     "text": [
      "dream.solver    (INFO) | residual: 5.794002e-05 | iteration: 28\r"
     ]
    },
    {
     "name": "stderr",
     "output_type": "stream",
     "text": [
      "dream.solver    (INFO) | residual: 3.079327e-05 | iteration: 29\r"
     ]
    },
    {
     "name": "stderr",
     "output_type": "stream",
     "text": [
      "dream.time      (INFO) | Successfully updated time step at iteration 30\r"
     ]
    },
    {
     "name": "stderr",
     "output_type": "stream",
     "text": [
      "dream.time      (INFO) | Updated time step 𝚫t = 1.0. Previous time step 𝚫t = 0.1\r"
     ]
    },
    {
     "name": "stderr",
     "output_type": "stream",
     "text": [
      "dream.solver    (INFO) | residual: 9.051674e-05 | iteration: 30\r"
     ]
    },
    {
     "name": "stderr",
     "output_type": "stream",
     "text": [
      "dream.solver    (INFO) | residual: 3.412856e-05 | iteration: 31\r"
     ]
    },
    {
     "name": "stderr",
     "output_type": "stream",
     "text": [
      "dream.solver    (INFO) | residual: 1.348471e-05 | iteration: 32\r"
     ]
    },
    {
     "name": "stderr",
     "output_type": "stream",
     "text": [
      "dream.solver    (INFO) | residual: 3.857035e-06 | iteration: 33\r"
     ]
    },
    {
     "name": "stderr",
     "output_type": "stream",
     "text": [
      "dream.solver    (INFO) | residual: 8.472965e-07 | iteration: 34\r"
     ]
    },
    {
     "name": "stderr",
     "output_type": "stream",
     "text": [
      "dream.solver    (INFO) | residual: 1.724996e-07 | iteration: 35\r"
     ]
    },
    {
     "name": "stderr",
     "output_type": "stream",
     "text": [
      "dream.solver    (INFO) | residual: 4.240286e-08 | iteration: 36\r"
     ]
    },
    {
     "name": "stderr",
     "output_type": "stream",
     "text": [
      "dream.solver    (INFO) | residual: 1.333781e-08 | iteration: 37\r"
     ]
    },
    {
     "name": "stderr",
     "output_type": "stream",
     "text": [
      "dream.solver    (INFO) | residual: 4.647338e-09 | iteration: 38\r"
     ]
    },
    {
     "name": "stderr",
     "output_type": "stream",
     "text": [
      "dream.solver    (INFO) | residual: 1.648746e-09 | iteration: 39\r"
     ]
    },
    {
     "name": "stderr",
     "output_type": "stream",
     "text": [
      "dream.time      (INFO) | Successfully updated time step at iteration 40\r"
     ]
    },
    {
     "name": "stderr",
     "output_type": "stream",
     "text": [
      "dream.time      (INFO) | Updated time step 𝚫t = 10.0. Previous time step 𝚫t = 1.0\r"
     ]
    },
    {
     "name": "stderr",
     "output_type": "stream",
     "text": [
      "dream.solver    (INFO) | residual: 1.266990e-09 | iteration: 40\r"
     ]
    },
    {
     "name": "stderr",
     "output_type": "stream",
     "text": [
      "dream.solver    (INFO) | residual: 2.103461e-11 | iteration: 41\r"
     ]
    },
    {
     "name": "stderr",
     "output_type": "stream",
     "text": [
      "dream.solver    (INFO) | residual: 3.496854e-13 | iteration: 42\r"
     ]
    },
    {
     "data": {
      "application/vnd.jupyter.widget-view+json": {
       "model_id": "a3ca2138dbc44c70adfbcee8447267a2",
       "version_major": 2,
       "version_minor": 0
      },
      "text/plain": [
       "WebGuiDocuWidget(value={'render_data': 'render_data_1.json', 'preview': 'preview_1.png'})"
      ]
     },
     "metadata": {},
     "output_type": "display_data"
    }
   ],
   "source": [
    "ngs.SetNumThreads(4)\n",
    "\n",
    "cfg.time.timer.step = 0.001\n",
    "cfg.time.max_time_step = 10\n",
    "cfg.time.increment_at = 10\n",
    "cfg.time.increment_factor = 10\n",
    "\n",
    "cfg.nonlinear_solver.max_iterations = 300\n",
    "cfg.nonlinear_solver.convergence_criterion = 1e-12\n",
    "\n",
    "cfg.initialize()\n",
    "with ngs.TaskManager():\n",
    "    cfg.solve()\n",
    "\n",
    "Uh = cfg.get_solution_fields()\n",
    "cfg.io.draw({\"M\": cfg.get_local_mach_number(Uh)})\n"
   ]
  },
  {
   "cell_type": "code",
   "execution_count": 6,
   "id": "94c9dc93",
   "metadata": {
    "execution": {
     "iopub.execute_input": "2025-06-10T16:07:35.249890Z",
     "iopub.status.busy": "2025-06-10T16:07:35.249727Z",
     "iopub.status.idle": "2025-06-10T16:07:35.254189Z",
     "shell.execute_reply": "2025-06-10T16:07:35.253971Z"
    }
   },
   "outputs": [
    {
     "data": {
      "text/plain": [
       "{'airfoil': array([-0.02551023, -0.00028041])}"
      ]
     },
     "execution_count": 6,
     "metadata": {},
     "output_type": "execute_result"
    }
   ],
   "source": [
    "cp = PointSensor.from_boundary({'c_p': cfg.pressure_coefficient(Uh, Uinf)}, mesh, 'airfoil')\n",
    "cp_ = cp.measure_as_dict()\n",
    "\n",
    "\n",
    "C = BoundarySensor({\"c_l\": cfg.lift_coefficient(Uh, None, Uinf, (0, 1)), \"c_d\": cfg.drag_coefficient(Uh, None, Uinf, (1, 0))}, mesh, 'airfoil')\n",
    "C_ = C.measure_as_dict()\n",
    "C_"
   ]
  },
  {
   "cell_type": "code",
   "execution_count": 7,
   "id": "48175cdf",
   "metadata": {
    "execution": {
     "iopub.execute_input": "2025-06-10T16:07:35.255305Z",
     "iopub.status.busy": "2025-06-10T16:07:35.255193Z",
     "iopub.status.idle": "2025-06-10T16:07:35.769262Z",
     "shell.execute_reply": "2025-06-10T16:07:35.769014Z"
    }
   },
   "outputs": [
    {
     "data": {
      "text/plain": [
       "Text(0.5, 1.0, 'Pressure coefficient over chord length')"
      ]
     },
     "execution_count": 7,
     "metadata": {},
     "output_type": "execute_result"
    },
    {
     "data": {
      "image/png": "[encoded data removed]",
      "text/plain": [
       "<Figure size 640x480 with 1 Axes>"
      ]
     },
     "metadata": {},
     "output_type": "display_data"
    }
   ],
   "source": [
    "import matplotlib.pyplot as plt\n",
    "x_ = np.array(list(cp_.keys()))\n",
    "x_ = np.cos(np.deg2rad(AoA)) * (x_[:, 0] - LE[0]) - np.sin(np.deg2rad(AoA)) * (x_[:, 1] - LE[1])\n",
    "values = np.array(list(cp_.values())).flatten()\n",
    "\n",
    "fig, ax = plt.subplots()\n",
    "ax.plot(x_, values, 'o')\n",
    "ax.set_xlabel(r\"$x$\")\n",
    "ax.set_ylabel(r\"$c_p$\")\n",
    "ax.set_title(\"Pressure coefficient over chord length\")"
   ]
  }
 ],
 "metadata": {
  "kernelspec": {
   "display_name": "ngspy",
   "language": "python",
   "name": "python3"
  },
  "language_info": {
   "codemirror_mode": {
    "name": "ipython",
    "version": 3
   },
   "file_extension": ".py",
   "mimetype": "text/x-python",
   "name": "python",
   "nbconvert_exporter": "python",
   "pygments_lexer": "ipython3",
   "version": "3.13.0"
  },
  "widgets": {
   "application/vnd.jupyter.widget-state+json": {
    "state": {
     "4effe9c3797949c083e9a730ea5201c6": {
      "model_module": "@jupyter-widgets/base",
      "model_module_version": "2.0.0",
      "model_name": "LayoutModel",
      "state": {
       "_model_module": "@jupyter-widgets/base",
       "_model_module_version": "2.0.0",
       "_model_name": "LayoutModel",
       "_view_count": null,
       "_view_module": "@jupyter-widgets/base",
       "_view_module_version": "2.0.0",
       "_view_name": "LayoutView",
       "align_content": null,
       "align_items": null,
       "align_self": null,
       "border_bottom": null,
       "border_left": null,
       "border_right": null,
       "border_top": null,
       "bottom": null,
       "display": null,
       "flex": null,
       "flex_flow": null,
       "grid_area": null,
       "grid_auto_columns": null,
       "grid_auto_flow": null,
       "grid_auto_rows": null,
       "grid_column": null,
       "grid_gap": null,
       "grid_row": null,
       "grid_template_areas": null,
       "grid_template_columns": null,
       "grid_template_rows": null,
       "height": null,
       "justify_content": null,
       "justify_items": null,
       "left": null,
       "margin": null,
       "max_height": null,
       "max_width": null,
       "min_height": null,
       "min_width": null,
       "object_fit": null,
       "object_position": null,
       "order": null,
       "overflow": null,
       "padding": null,
       "right": null,
       "top": null,
       "visibility": null,
       "width": null
      }
     },
     "9a5bb2273b344328952335d7473696fc": {
      "model_module": "webgui_jupyter_widgets",
      "model_module_version": "0.2.37",
      "model_name": "WebguiModel",
      "state": {
       "_dom_classes": [],
       "_model_module": "webgui_jupyter_widgets",
       "_model_module_version": "0.2.37",
       "_model_name": "WebguiModel",
       "_view_count": null,
       "_view_module": "webgui_jupyter_widgets",
       "_view_module_version": "0.2.37",
       "_view_name": "WebguiDocuView",
       "layout": "IPY_MODEL_b2c6d7026de944658ce47e337c813467",
       "tabbable": null,
       "tooltip": null,
       "value": {
        "preview": "preview_0.png",
        "render_data": "render_data_0.json"
       }
      }
     },
     "a3ca2138dbc44c70adfbcee8447267a2": {
      "model_module": "webgui_jupyter_widgets",
      "model_module_version": "0.2.37",
      "model_name": "WebguiModel",
      "state": {
       "_dom_classes": [],
       "_model_module": "webgui_jupyter_widgets",
       "_model_module_version": "0.2.37",
       "_model_name": "WebguiModel",
       "_view_count": null,
       "_view_module": "webgui_jupyter_widgets",
       "_view_module_version": "0.2.37",
       "_view_name": "WebguiDocuView",
       "layout": "IPY_MODEL_4effe9c3797949c083e9a730ea5201c6",
       "tabbable": null,
       "tooltip": null,
       "value": {
        "preview": "preview_1.png",
        "render_data": "render_data_1.json"
       }
      }
     },
     "b2c6d7026de944658ce47e337c813467": {
      "model_module": "@jupyter-widgets/base",
      "model_module_version": "2.0.0",
      "model_name": "LayoutModel",
      "state": {
       "_model_module": "@jupyter-widgets/base",
       "_model_module_version": "2.0.0",
       "_model_name": "LayoutModel",
       "_view_count": null,
       "_view_module": "@jupyter-widgets/base",
       "_view_module_version": "2.0.0",
       "_view_name": "LayoutView",
       "align_content": null,
       "align_items": null,
       "align_self": null,
       "border_bottom": null,
       "border_left": null,
       "border_right": null,
       "border_top": null,
       "bottom": null,
       "display": null,
       "flex": null,
       "flex_flow": null,
       "grid_area": null,
       "grid_auto_columns": null,
       "grid_auto_flow": null,
       "grid_auto_rows": null,
       "grid_column": null,
       "grid_gap": null,
       "grid_row": null,
       "grid_template_areas": null,
       "grid_template_columns": null,
       "grid_template_rows": null,
       "height": null,
       "justify_content": null,
       "justify_items": null,
       "left": null,
       "margin": null,
       "max_height": null,
       "max_width": null,
       "min_height": null,
       "min_width": null,
       "object_fit": null,
       "object_position": null,
       "order": null,
       "overflow": null,
       "padding": null,
       "right": null,
       "top": null,
       "visibility": null,
       "width": null
      }
     }
    },
    "version_major": 2,
    "version_minor": 0
   }
  }
 },
 "nbformat": 4,
 "nbformat_minor": 5
}
