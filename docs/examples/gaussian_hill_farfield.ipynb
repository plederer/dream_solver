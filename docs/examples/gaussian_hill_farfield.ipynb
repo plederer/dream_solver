{
 "cells": [
  {
   "cell_type": "markdown",
   "id": "4b0f3ee1-9a38-427d-9e01-f3fa1937a3ce",
   "metadata": {},
   "source": [
    "## Rotation of a Gaussian hill\n",
    "\n",
    "This example is taken from **Section 13.2** in **Kuzmin and Turek (2004)**. The (non-dimensional) equation we are solving is a linear convection-diffusion equation in 2D, given as\n",
    "$$\n",
    "\\partial_t u + \\boldsymbol{b} \\cdot \\nabla u - \\kappa \\Delta u = 0, \\qquad \\forall\\, \\boldsymbol{x} \\in \\Omega = [-1,+1]^2, \\quad t \\in [t_0, t_f],\n",
    "$$\n",
    "where $t_0 = \\pi/2$, $t_f = 5\\pi/2$, with a diffusion constant of $\\kappa = 0.001$ and a spatially-dependent wind velocity profile: $\\boldsymbol{b} = (-y, x)^T$. \n",
    "\n",
    "The exact solution to this benchmark is a time-dependent Gaussian of the form\n",
    "$$\n",
    "u(x,y,t) = \\frac{1}{4 \\pi \\kappa t} e^{-r^2/(4 \\kappa t)},\n",
    "$$\n",
    "where $r^2 = (x - \\widehat{x})^2 + (y - \\widehat{y})^2$ and the center of the pulse is time-dependent, as such\n",
    "$$\n",
    "x(t) = x_0 \\cos(t) - y_0 \\sin(t), \\qquad y(t) = -x_0 \\sin(t) + y_0 \\cos(t),\n",
    "$$\n",
    "with $(x_0, y_0) = (0, 0.5)$ denoting the initial position of the pulse at $t = t_0$.\n",
    "\n",
    "\n",
    "[1] **Kuzmin, Dmitri, and Stefan Turek.**  \n",
    "\"High-resolution FEM-TVD schemes based on a fully multidimensional flux limiter.\"  \n",
    "*Journal of Computational Physics*, 198.1 (2004): 131-158."
   ]
  },
  {
   "cell_type": "code",
   "execution_count": 1,
   "id": "6f766d80-d53f-4ddd-935a-f7391b126f0c",
   "metadata": {
    "execution": {
     "iopub.execute_input": "2025-06-09T18:23:49.064916Z",
     "iopub.status.busy": "2025-06-09T18:23:49.064542Z",
     "iopub.status.idle": "2025-06-09T18:23:49.467202Z",
     "shell.execute_reply": "2025-06-09T18:23:49.465835Z"
    },
    "jupyter": {
     "source_hidden": true
    }
   },
   "outputs": [],
   "source": [
    "# Import preliminary modules.\n",
    "from dream import *\n",
    "from dream.scalar_transport import Initial, transportfields, ScalarTransportSolver, FarField\n",
    "import ngsolve as ngs \n",
    "\n",
    "from netgen.occ import OCCGeometry, WorkPlane\n",
    "from netgen.meshing import IdentificationType\n",
    "from ngsolve.meshes import MakeStructured2DMesh"
   ]
  },
  {
   "cell_type": "code",
   "execution_count": 2,
   "id": "c757e0db-e0f8-4390-ad5d-85f57c972196",
   "metadata": {
    "execution": {
     "iopub.execute_input": "2025-06-09T18:23:49.472587Z",
     "iopub.status.busy": "2025-06-09T18:23:49.472059Z",
     "iopub.status.idle": "2025-06-09T18:23:49.480360Z",
     "shell.execute_reply": "2025-06-09T18:23:49.479126Z"
    },
    "jupyter": {
     "source_hidden": true
    }
   },
   "outputs": [],
   "source": [
    "# Define the grid.\n",
    "\n",
    "def CreateSimpleGrid(ne, lx, ly):\n",
    "\n",
    "    # Select a common element size.\n",
    "    h0 = min( lx, ly )/float(ne)\n",
    "\n",
    "    # Generate a simple rectangular geometry.\n",
    "    domain = WorkPlane().RectangleC(lx, ly).Face()\n",
    "\n",
    "    # Assign the name of the internal solution in the domain.\n",
    "    domain.name = 'internal'\n",
    "\n",
    "    # For convenience, extract and name each of the edges consistently.\n",
    "    bottom = domain.edges[0]; bottom.name = 'bottom'\n",
    "    right  = domain.edges[1]; right.name  = 'right'\n",
    "    top    = domain.edges[2]; top.name    = 'top'\n",
    "    left   = domain.edges[3]; left.name   = 'left'\n",
    "\n",
    "    # Initialize a rectangular 2D geometry.\n",
    "    geo = OCCGeometry(domain, dim=2)\n",
    "\n",
    "    # Discretize the domain.\n",
    "    mesh = ngs.Mesh(geo.GenerateMesh(maxh=h0, quad_dominated=True))\n",
    "\n",
    "    # Return our fancy grid.\n",
    "    return mesh\n"
   ]
  },
  {
   "cell_type": "code",
   "execution_count": 3,
   "id": "2f72132b-4f25-4281-b117-c0ade38a4976",
   "metadata": {
    "execution": {
     "iopub.execute_input": "2025-06-09T18:23:49.484752Z",
     "iopub.status.busy": "2025-06-09T18:23:49.484370Z",
     "iopub.status.idle": "2025-06-09T18:23:49.592274Z",
     "shell.execute_reply": "2025-06-09T18:23:49.591007Z"
    },
    "jupyter": {
     "source_hidden": true
    }
   },
   "outputs": [],
   "source": [
    "# Generate the grid.\n",
    "\n",
    "# Number of elements per dimension.\n",
    "nElem1D = 20\n",
    "\n",
    "# Dimension of the rectangular domain.\n",
    "xLength = 2.0 \n",
    "yLength = 2.0 \n",
    "\n",
    "# Generate a simple grid.\n",
    "mesh = CreateSimpleGrid(nElem1D, xLength, yLength)\n",
    "\n",
    "# Message output detail from netgen.\n",
    "ngs.ngsglobals.msg_level = 0 \n",
    "ngs.SetNumThreads(4)\n",
    "#Draw(mesh)"
   ]
  },
  {
   "cell_type": "code",
   "execution_count": 4,
   "id": "36ccf35b-d0de-43eb-95a4-ef7830ae261b",
   "metadata": {
    "execution": {
     "iopub.execute_input": "2025-06-09T18:23:49.596723Z",
     "iopub.status.busy": "2025-06-09T18:23:49.596335Z",
     "iopub.status.idle": "2025-06-09T18:23:49.603690Z",
     "shell.execute_reply": "2025-06-09T18:23:49.602458Z"
    },
    "jupyter": {
     "source_hidden": true
    }
   },
   "outputs": [],
   "source": [
    "# Define analytic solution.\n",
    "def get_analytic_solution(t, k): \n",
    "   \n",
    "    # Initial pulse location.\n",
    "    x0 = 0.0 \n",
    "    y0 = 0.5 \n",
    "   \n",
    "    # Pulse center trajectory.\n",
    "    xc =  x0*ngs.cos(t) - y0*ngs.sin(t)\n",
    "    yc = -x0*ngs.sin(t) + y0*ngs.cos(t)\n",
    "    \n",
    "    # Radial distance (time-dependent).\n",
    "    r2 = (ngs.x-xc)**2 + (ngs.y-yc)**2\n",
    "    # Variance of this pulse.\n",
    "    s2 = get_variance_pulse(t, k)\n",
    "\n",
    "    # Return the analytic solution.\n",
    "    return ( 1.0/(s2*ngs.pi) ) * ngs.exp( -r2/(4.0*k*t) )\n",
    "\n",
    "def get_variance_pulse(t, k): \n",
    "    return 4.0*k*t\n",
    "    \n"
   ]
  },
  {
   "cell_type": "code",
   "execution_count": 5,
   "id": "ac71e4cf-b255-495a-a96a-834b5cbfaba4",
   "metadata": {
    "execution": {
     "iopub.execute_input": "2025-06-09T18:23:49.607692Z",
     "iopub.status.busy": "2025-06-09T18:23:49.607299Z",
     "iopub.status.idle": "2025-06-09T18:23:49.618856Z",
     "shell.execute_reply": "2025-06-09T18:23:49.618047Z"
    },
    "jupyter": {
     "source_hidden": true
    }
   },
   "outputs": [],
   "source": [
    "# Solver configuration: Scalar transport equation.\n",
    "cfg = ScalarTransportSolver(mesh)\n",
    "\n",
    "cfg.convection_velocity = (-ngs.y, ngs.x)\n",
    "cfg.diffusion_coefficient = 1.0e-03\n",
    "cfg.is_inviscid = False\n",
    "\n",
    "cfg.riemann_solver = \"lax_friedrich\"\n",
    "cfg.fem = \"dg\" # NOTE, by default, DG is used.\n",
    "cfg.fem.order = 0\n",
    "cfg.fem.interior_penalty_coefficient = 2.0\n",
    "\n",
    "\n",
    "cfg.time = \"transient\"\n",
    "cfg.fem.scheme = \"implicit_euler\"\n",
    "cfg.time.timer.interval = (ngs.pi/2, 5*ngs.pi/2)\n",
    "cfg.time.timer.step = 0.01\n",
    "\n",
    "cfg.linear_solver = \"pardiso\"\n",
    "cfg.optimizations.static_condensation = False  # NOTE, by default, condensation is turned off.\n",
    "cfg.optimizations.compile.realcompile = False\n",
    "\n",
    "U0 = transportfields()\n",
    "U0.phi = get_analytic_solution(cfg.time.timer.interval[0], cfg.diffusion_coefficient)\n",
    "\n",
    "Ubc = transportfields()\n",
    "Ubc.phi = 0.0\n",
    "\n",
    "cfg.bcs['left|top|bottom|right'] = FarField(fields=Ubc)\n",
    "cfg.dcs['internal'] = Initial(fields=U0)"
   ]
  },
  {
   "cell_type": "code",
   "execution_count": 6,
   "id": "ec21e23d-6f59-4a4d-9396-4e0d6cd77512",
   "metadata": {
    "execution": {
     "iopub.execute_input": "2025-06-09T18:23:49.623028Z",
     "iopub.status.busy": "2025-06-09T18:23:49.622645Z",
     "iopub.status.idle": "2025-06-09T18:23:49.635871Z",
     "shell.execute_reply": "2025-06-09T18:23:49.634601Z"
    }
   },
   "outputs": [],
   "source": [
    "# Decorator for the actual simulation.\n",
    "import numpy as np\n",
    "\n",
    "# Extract time configuration.\n",
    "t0, tf = cfg.time.timer.interval\n",
    "dt = cfg.time.timer.step.Get()\n",
    "nt = int(round((tf - t0) / dt))\n",
    "\n",
    "# Define a decorator for the Gaussian hill routine.\n",
    "def gaussian_hill_routine(label):\n",
    "    def decorator(func):\n",
    "        def wrapper(*args, draw_solution=False, **kwargs):\n",
    "\n",
    "            # By default, assume this is a DG formulation.\n",
    "            cfg.optimizations.static_condensation = False\n",
    "            \n",
    "            # Insert options here.\n",
    "            func(*args, **kwargs)\n",
    "            cfg.fem.order = 4\n",
    "            cfg.fem.interior_penalty_coefficient = 2.0\n",
    "\n",
    "            # In case an HDG formulation is specified, use static condensation.\n",
    "            if cfg.fem.name == \"hdg\":\n",
    "               cfg.optimizations.static_condensation = True\n",
    "            \n",
    "            # Allocate the necessary data.\n",
    "            cfg.initialize()\n",
    "\n",
    "            # Get a reference to the numerical solution and the analytic solution.\n",
    "            uh = cfg.fem.get_fields(\"phi\").phi\n",
    "            ue = get_analytic_solution(cfg.time.timer.t, cfg.diffusion_coefficient)\n",
    "\n",
    "            if draw_solution:\n",
    "                # cfg.io.draw({\"phi\": Uh.phi})\n",
    "                # cfg.io.draw({\"Exact[phi]\": Uex.phi},  min=0.0, max=10.0)\n",
    "                cfg.io.draw({\"Diff[phi]\": (ue - uh)}, min=-0.01, max=0.01)\n",
    "    \n",
    "            # Integration order (for post-processing).\n",
    "            qorder = 10\n",
    "    \n",
    "            # Data for book-keeping information.\n",
    "            data = np.zeros((nt, 3), dtype=float)\n",
    "    \n",
    "            # Time integration loop  (actual simulation).\n",
    "            for i, t in enumerate(cfg.time.start_solution_routine(True)):\n",
    "                \n",
    "                # Get the variance, based on the analytic solution.\n",
    "                s2e = get_variance_pulse(cfg.time.timer.t.Get(), cfg.diffusion_coefficient.Get())\n",
    "            \n",
    "                # Compute centroid\n",
    "                xh = ngs.Integrate(ngs.x * uh, mesh, order=qorder)\n",
    "                yh = ngs.Integrate(ngs.y * uh, mesh, order=qorder)\n",
    "            \n",
    "                # Compute variance.\n",
    "                r2h = (ngs.x - xh)**2 + (ngs.y - yh)**2\n",
    "                s2h = ngs.Integrate(r2h * uh, mesh, order=(qorder+2) )\n",
    "\n",
    "                # Compute the normalized variance error.\n",
    "                var_dif = s2h/s2e - 1.0\n",
    "                \n",
    "                # Compute the L2-norm of the error.\n",
    "                err = np.sqrt( ngs.Integrate( (ue-uh)**2, mesh, order=qorder) )\n",
    "                \n",
    "                # Store data: time and error metrics.\n",
    "                data[i] = [cfg.time.timer.t.Get(), var_dif, err]\n",
    "            return data\n",
    "        wrapper.label = label \n",
    "        return wrapper\n",
    "    return decorator"
   ]
  },
  {
   "cell_type": "code",
   "execution_count": 7,
   "id": "f92a0b38-87ca-4087-ab8f-33726b0a1e65",
   "metadata": {
    "execution": {
     "iopub.execute_input": "2025-06-09T18:23:49.639843Z",
     "iopub.status.busy": "2025-06-09T18:23:49.639345Z",
     "iopub.status.idle": "2025-06-09T18:23:49.649519Z",
     "shell.execute_reply": "2025-06-09T18:23:49.648308Z"
    },
    "jupyter": {
     "source_hidden": true
    }
   },
   "outputs": [],
   "source": [
    "# Specialized routines.\n",
    "\n",
    "@gaussian_hill_routine(\"implicit_euler(hdg)\")\n",
    "def implicit_euler_hdg():\n",
    "    cfg.fem = \"hdg\"\n",
    "    cfg.fem.scheme = \"implicit_euler\"\n",
    "\n",
    "@gaussian_hill_routine(\"implicit_euler(dg)\")\n",
    "def implicit_euler_dg():\n",
    "    cfg.fem = \"dg\"\n",
    "    cfg.fem.scheme = \"implicit_euler\"\n",
    "\n",
    "@gaussian_hill_routine(\"bdf2(hdg)\")\n",
    "def bdf2_hdg():\n",
    "    cfg.fem = \"hdg\"\n",
    "    cfg.fem.scheme = \"bdf2\"\n",
    "@gaussian_hill_routine(\"bdf2(dg)\")\n",
    "def bdf2_dg():\n",
    "    cfg.fem = \"dg\"\n",
    "    cfg.fem.scheme = \"bdf2\"\n",
    "\n",
    "@gaussian_hill_routine(\"sdirk22(hdg)\")\n",
    "def sdirk22_hdg():\n",
    "    cfg.fem = \"hdg\"\n",
    "    cfg.fem.scheme = \"sdirk22\"\n",
    "@gaussian_hill_routine(\"sdirk22(dg)\")\n",
    "def sdirk22_dg():\n",
    "    cfg.fem = \"dg\"\n",
    "    cfg.fem.scheme = \"sdirk22\"\n",
    "\n",
    "@gaussian_hill_routine(\"sdirk33(hdg)\")\n",
    "def sdirk33_hdg():\n",
    "    cfg.fem = \"hdg\"\n",
    "    cfg.fem.scheme = \"sdirk33\"\n",
    "@gaussian_hill_routine(\"sdirk33(dg)\")\n",
    "def sdirk33_dg():\n",
    "    cfg.fem = \"dg\"\n",
    "    cfg.fem.scheme = \"sdirk33\"\n",
    "\n",
    "@gaussian_hill_routine(\"imex_rk_ars443(dg)\")\n",
    "def imex_rk_ars443_dg():\n",
    "    cfg.fem = \"dg\"\n",
    "    cfg.fem.scheme = \"imex_rk_ars443\"\n",
    "\n",
    "@gaussian_hill_routine(\"ssprk3(dg)\")\n",
    "def ssprk3_dg():\n",
    "    cfg.fem = \"dg\"\n",
    "    cfg.fem.scheme = \"ssprk3\"\n",
    "\n",
    "@gaussian_hill_routine(\"crk4(dg)\")\n",
    "def crk4_dg():\n",
    "    cfg.fem = \"dg\"\n",
    "    cfg.fem.scheme = \"crk4\"\n",
    "\n",
    "@gaussian_hill_routine(\"explicit_euler(dg)\")\n",
    "def explicit_euler_dg():\n",
    "    cfg.fem = \"dg\"\n",
    "    cfg.fem.scheme = \"explicit_euler\""
   ]
  },
  {
   "cell_type": "code",
   "execution_count": 8,
   "id": "4b8b80c5-d2e6-4a5a-9180-1cfceedf0ac4",
   "metadata": {
    "execution": {
     "iopub.execute_input": "2025-06-09T18:23:49.653944Z",
     "iopub.status.busy": "2025-06-09T18:23:49.653491Z",
     "iopub.status.idle": "2025-06-09T18:23:50.376124Z",
     "shell.execute_reply": "2025-06-09T18:23:50.374684Z"
    },
    "jupyter": {
     "source_hidden": true
    }
   },
   "outputs": [],
   "source": [
    "# Figure style and properties.\n",
    "from matplotlib import pyplot as plt\n",
    "from matplotlib.ticker import MultipleLocator, FuncFormatter\n",
    "from fractions import Fraction\n",
    "\n",
    "\n",
    "# Assign colors to base method names\n",
    "method_colors = {\n",
    "    \"implicit_euler\": \"tab:red\",\n",
    "    \"bdf2\": \"tab:blue\",\n",
    "    \"sdirk22\": \"tab:green\",\n",
    "    \"sdirk33\": \"tab:purple\"\n",
    "}\n",
    "\n",
    "# Helper function that sets up a generic figure.\n",
    "def setup_fig(xlabel, ylabel, title):\n",
    "    fig, ax = plt.subplots(figsize=(15, 6))\n",
    "    ax.set_xlim(t0, tf)\n",
    "    ax.tick_params(axis='both', labelsize=16)\n",
    "    ax.set_xlabel(xlabel, fontsize=14)\n",
    "    ax.set_ylabel(ylabel, fontsize=16)\n",
    "    ax.set_title(title, fontsize=16)\n",
    "    ax.grid(True)\n",
    "    ax.xaxis.set_major_locator(MultipleLocator(base=np.pi/2))\n",
    "    ax.xaxis.set_major_formatter(FuncFormatter(pi_formatter))\n",
    "    return fig,ax\n",
    "\n",
    "# Helper for formatting ticks as multiples of pi.\n",
    "def pi_formatter(x, pos):\n",
    "    frac = Fraction(x / np.pi).limit_denominator(8)\n",
    "    if frac.numerator == 0:\n",
    "        return \"$0$\"\n",
    "    elif frac.denominator == 1:\n",
    "        return rf\"${frac.numerator}\\pi$\"\n",
    "    else:\n",
    "        return rf\"${frac.numerator}\\pi/{frac.denominator}$\"\n",
    "\n",
    "# Helper function that specifies the plot style properties.\n",
    "def get_plot_style(label, method_colors):\n",
    "    if label.endswith(\"(hdg)\"):\n",
    "        base_name = label.replace(\"(hdg)\", \"\").strip()\n",
    "        linestyle = \"-\"\n",
    "        marker = 'o'\n",
    "    elif label.endswith(\"(dg)\"):\n",
    "        base_name = label.replace(\"(dg)\", \"\").strip()\n",
    "        linestyle = \"--\"\n",
    "        marker = '^'\n",
    "    else:\n",
    "        base_name = label.strip()\n",
    "        linestyle = \":\" \n",
    "        marker = '.'\n",
    "\n",
    "    color = method_colors.get(base_name, \"black\")\n",
    "\n",
    "    return {\n",
    "        \"label\": label,\n",
    "        \"linestyle\": linestyle,\n",
    "        \"marker\": marker,\n",
    "        \"markersize\": 8,\n",
    "        \"markevery\": 50,\n",
    "        \"color\": color\n",
    "    }\n"
   ]
  },
  {
   "cell_type": "code",
   "execution_count": 9,
   "id": "16480785-d89c-47cc-8209-8156d4b0cdb0",
   "metadata": {
    "execution": {
     "iopub.execute_input": "2025-06-09T18:23:50.381170Z",
     "iopub.status.busy": "2025-06-09T18:23:50.380656Z",
     "iopub.status.idle": "2025-06-09T18:25:16.808273Z",
     "shell.execute_reply": "2025-06-09T18:25:16.807633Z"
    }
   },
   "outputs": [
    {
     "name": "stdout",
     "output_type": "stream",
     "text": [
      "Running implicit_euler(hdg)...\n"
     ]
    },
    {
     "data": {
      "application/vnd.jupyter.widget-view+json": {
       "model_id": "61c064714dec457aa432fb2384b79e00",
       "version_major": 2,
       "version_minor": 0
      },
      "text/plain": [
       "WebGuiDocuWidget(value={'render_data': 'render_data_2.json', 'preview': 'preview_2.png'})"
      ]
     },
     "metadata": {},
     "output_type": "display_data"
    },
    {
     "name": "stderr",
     "output_type": "stream",
     "text": [
      "dream.scalar_transport.time.implicit (INFO) | time: 1.580000e+00\r"
     ]
    },
    {
     "name": "stderr",
     "output_type": "stream",
     "text": [
      "dream.scalar_transport.time.implicit (INFO) | time: 1.590000e+00\r"
     ]
    },
    {
     "name": "stderr",
     "output_type": "stream",
     "text": [
      "dream.scalar_transport.time.implicit (INFO) | time: 1.600000e+00\r"
     ]
    },
    {
     "name": "stderr",
     "output_type": "stream",
     "text": [
      "dream.scalar_transport.time.implicit (INFO) | time: 1.610000e+00\r"
     ]
    },
    {
     "name": "stderr",
     "output_type": "stream",
     "text": [
      "dream.scalar_transport.time.implicit (INFO) | time: 1.620000e+00\r"
     ]
    },
    {
     "name": "stderr",
     "output_type": "stream",
     "text": [
      "dream.scalar_transport.time.implicit (INFO) | time: 1.630000e+00\r"
     ]
    },
    {
     "name": "stderr",
     "output_type": "stream",
     "text": [
      "dream.scalar_transport.time.implicit (INFO) | time: 1.640000e+00\r"
     ]
    },
    {
     "name": "stderr",
     "output_type": "stream",
     "text": [
      "dream.scalar_transport.time.implicit (INFO) | time: 1.650000e+00\r"
     ]
    },
    {
     "name": "stderr",
     "output_type": "stream",
     "text": [
      "dream.scalar_transport.time.implicit (INFO) | time: 1.660000e+00\r"
     ]
    },
    {
     "name": "stderr",
     "output_type": "stream",
     "text": [
      "dream.scalar_transport.time.implicit (INFO) | time: 1.670000e+00\r"
     ]
    },
    {
     "name": "stderr",
     "output_type": "stream",
     "text": [
      "dream.scalar_transport.time.implicit (INFO) | time: 1.680000e+00\r"
     ]
    },
    {
     "name": "stderr",
     "output_type": "stream",
     "text": [
      "dream.scalar_transport.time.implicit (INFO) | time: 1.690000e+00\r"
     ]
    },
    {
     "name": "stderr",
     "output_type": "stream",
     "text": [
      "dream.scalar_transport.time.implicit (INFO) | time: 1.700000e+00\r"
     ]
    },
    {
     "name": "stderr",
     "output_type": "stream",
     "text": [
      "dream.scalar_transport.time.implicit (INFO) | time: 1.710000e+00\r"
     ]
    },
    {
     "name": "stderr",
     "output_type": "stream",
     "text": [
      "dream.scalar_transport.time.implicit (INFO) | time: 1.720000e+00\r"
     ]
    },
    {
     "name": "stderr",
     "output_type": "stream",
     "text": [
      "dream.scalar_transport.time.implicit (INFO) | time: 1.730000e+00\r"
     ]
    },
    {
     "name": "stderr",
     "output_type": "stream",
     "text": [
      "dream.scalar_transport.time.implicit (INFO) | time: 1.740000e+00\r"
     ]
    },
    {
     "name": "stderr",
     "output_type": "stream",
     "text": [
      "dream.scalar_transport.time.implicit (INFO) | time: 1.750000e+00\r"
     ]
    },
    {
     "name": "stderr",
     "output_type": "stream",
     "text": [
      "dream.scalar_transport.time.implicit (INFO) | time: 1.760000e+00\r"
     ]
    },
    {
     "name": "stderr",
     "output_type": "stream",
     "text": [
      "dream.scalar_transport.time.implicit (INFO) | time: 1.770000e+00\r"
     ]
    },
    {
     "name": "stderr",
     "output_type": "stream",
     "text": [
      "dream.scalar_transport.time.implicit (INFO) | time: 1.780000e+00\r"
     ]
    },
    {
     "name": "stderr",
     "output_type": "stream",
     "text": [
      "dream.scalar_transport.time.implicit (INFO) | time: 1.790000e+00\r"
     ]
    },
    {
     "name": "stderr",
     "output_type": "stream",
     "text": [
      "dream.scalar_transport.time.implicit (INFO) | time: 1.800000e+00\r"
     ]
    },
    {
     "name": "stderr",
     "output_type": "stream",
     "text": [
      "dream.scalar_transport.time.implicit (INFO) | time: 1.810000e+00\r"
     ]
    },
    {
     "name": "stderr",
     "output_type": "stream",
     "text": [
      "dream.scalar_transport.time.implicit (INFO) | time: 1.820000e+00\r"
     ]
    },
    {
     "name": "stderr",
     "output_type": "stream",
     "text": [
      "dream.scalar_transport.time.implicit (INFO) | time: 1.830000e+00\r"
     ]
    },
    {
     "name": "stderr",
     "output_type": "stream",
     "text": [
      "dream.scalar_transport.time.implicit (INFO) | time: 1.840000e+00\r"
     ]
    },
    {
     "name": "stderr",
     "output_type": "stream",
     "text": [
      "dream.scalar_transport.time.implicit (INFO) | time: 1.850000e+00\r"
     ]
    },
    {
     "name": "stderr",
     "output_type": "stream",
     "text": [
      "dream.scalar_transport.time.implicit (INFO) | time: 1.860000e+00\r"
     ]
    },
    {
     "name": "stderr",
     "output_type": "stream",
     "text": [
      "dream.scalar_transport.time.implicit (INFO) | time: 1.870000e+00\r"
     ]
    },
    {
     "name": "stderr",
     "output_type": "stream",
     "text": [
      "dream.scalar_transport.time.implicit (INFO) | time: 1.880000e+00\r"
     ]
    },
    {
     "name": "stderr",
     "output_type": "stream",
     "text": [
      "dream.scalar_transport.time.implicit (INFO) | time: 1.890000e+00\r"
     ]
    },
    {
     "name": "stderr",
     "output_type": "stream",
     "text": [
      "dream.scalar_transport.time.implicit (INFO) | time: 1.900000e+00\r"
     ]
    },
    {
     "name": "stderr",
     "output_type": "stream",
     "text": [
      "dream.scalar_transport.time.implicit (INFO) | time: 1.910000e+00\r"
     ]
    },
    {
     "name": "stderr",
     "output_type": "stream",
     "text": [
      "dream.scalar_transport.time.implicit (INFO) | time: 1.920000e+00\r"
     ]
    },
    {
     "name": "stderr",
     "output_type": "stream",
     "text": [
      "dream.scalar_transport.time.implicit (INFO) | time: 1.930000e+00\r"
     ]
    },
    {
     "name": "stderr",
     "output_type": "stream",
     "text": [
      "dream.scalar_transport.time.implicit (INFO) | time: 1.940000e+00\r"
     ]
    },
    {
     "name": "stderr",
     "output_type": "stream",
     "text": [
      "dream.scalar_transport.time.implicit (INFO) | time: 1.950000e+00\r"
     ]
    },
    {
     "name": "stderr",
     "output_type": "stream",
     "text": [
      "dream.scalar_transport.time.implicit (INFO) | time: 1.960000e+00\r"
     ]
    },
    {
     "name": "stderr",
     "output_type": "stream",
     "text": [
      "dream.scalar_transport.time.implicit (INFO) | time: 1.970000e+00\r"
     ]
    },
    {
     "name": "stderr",
     "output_type": "stream",
     "text": [
      "dream.scalar_transport.time.implicit (INFO) | time: 1.980000e+00\r"
     ]
    },
    {
     "name": "stderr",
     "output_type": "stream",
     "text": [
      "dream.scalar_transport.time.implicit (INFO) | time: 1.990000e+00\r"
     ]
    },
    {
     "name": "stderr",
     "output_type": "stream",
     "text": [
      "dream.scalar_transport.time.implicit (INFO) | time: 2.000000e+00\r"
     ]
    },
    {
     "name": "stderr",
     "output_type": "stream",
     "text": [
      "dream.scalar_transport.time.implicit (INFO) | time: 2.010000e+00\r"
     ]
    },
    {
     "name": "stderr",
     "output_type": "stream",
     "text": [
      "dream.scalar_transport.time.implicit (INFO) | time: 2.020000e+00\r"
     ]
    },
    {
     "name": "stderr",
     "output_type": "stream",
     "text": [
      "dream.scalar_transport.time.implicit (INFO) | time: 2.030000e+00\r"
     ]
    },
    {
     "name": "stderr",
     "output_type": "stream",
     "text": [
      "dream.scalar_transport.time.implicit (INFO) | time: 2.040000e+00\r"
     ]
    },
    {
     "name": "stderr",
     "output_type": "stream",
     "text": [
      "dream.scalar_transport.time.implicit (INFO) | time: 2.050000e+00\r"
     ]
    },
    {
     "name": "stderr",
     "output_type": "stream",
     "text": [
      "dream.scalar_transport.time.implicit (INFO) | time: 2.060000e+00\r"
     ]
    },
    {
     "name": "stderr",
     "output_type": "stream",
     "text": [
      "dream.scalar_transport.time.implicit (INFO) | time: 2.070000e+00\r"
     ]
    },
    {
     "name": "stderr",
     "output_type": "stream",
     "text": [
      "dream.scalar_transport.time.implicit (INFO) | time: 2.080000e+00\r"
     ]
    },
    {
     "name": "stderr",
     "output_type": "stream",
     "text": [
      "dream.scalar_transport.time.implicit (INFO) | time: 2.090000e+00\r"
     ]
    },
    {
     "name": "stderr",
     "output_type": "stream",
     "text": [
      "dream.scalar_transport.time.implicit (INFO) | time: 2.100000e+00\r"
     ]
    },
    {
     "name": "stderr",
     "output_type": "stream",
     "text": [
      "dream.scalar_transport.time.implicit (INFO) | time: 2.110000e+00\r"
     ]
    },
    {
     "name": "stderr",
     "output_type": "stream",
     "text": [
      "dream.scalar_transport.time.implicit (INFO) | time: 2.120000e+00\r"
     ]
    },
    {
     "name": "stderr",
     "output_type": "stream",
     "text": [
      "dream.scalar_transport.time.implicit (INFO) | time: 2.130000e+00\r"
     ]
    },
    {
     "name": "stderr",
     "output_type": "stream",
     "text": [
      "dream.scalar_transport.time.implicit (INFO) | time: 2.140000e+00\r"
     ]
    },
    {
     "name": "stderr",
     "output_type": "stream",
     "text": [
      "dream.scalar_transport.time.implicit (INFO) | time: 2.150000e+00\r"
     ]
    },
    {
     "name": "stderr",
     "output_type": "stream",
     "text": [
      "dream.scalar_transport.time.implicit (INFO) | time: 2.160000e+00\r"
     ]
    },
    {
     "name": "stderr",
     "output_type": "stream",
     "text": [
      "dream.scalar_transport.time.implicit (INFO) | time: 2.170000e+00\r"
     ]
    },
    {
     "name": "stderr",
     "output_type": "stream",
     "text": [
      "dream.scalar_transport.time.implicit (INFO) | time: 2.180000e+00\r"
     ]
    },
    {
     "name": "stderr",
     "output_type": "stream",
     "text": [
      "dream.scalar_transport.time.implicit (INFO) | time: 2.190000e+00\r"
     ]
    },
    {
     "name": "stderr",
     "output_type": "stream",
     "text": [
      "dream.scalar_transport.time.implicit (INFO) | time: 2.200000e+00\r"
     ]
    },
    {
     "name": "stderr",
     "output_type": "stream",
     "text": [
      "dream.scalar_transport.time.implicit (INFO) | time: 2.210000e+00\r"
     ]
    },
    {
     "name": "stderr",
     "output_type": "stream",
     "text": [
      "dream.scalar_transport.time.implicit (INFO) | time: 2.220000e+00\r"
     ]
    },
    {
     "name": "stderr",
     "output_type": "stream",
     "text": [
      "dream.scalar_transport.time.implicit (INFO) | time: 2.230000e+00\r"
     ]
    },
    {
     "name": "stderr",
     "output_type": "stream",
     "text": [
      "dream.scalar_transport.time.implicit (INFO) | time: 2.240000e+00\r"
     ]
    },
    {
     "name": "stderr",
     "output_type": "stream",
     "text": [
      "dream.scalar_transport.time.implicit (INFO) | time: 2.250000e+00\r"
     ]
    },
    {
     "name": "stderr",
     "output_type": "stream",
     "text": [
      "dream.scalar_transport.time.implicit (INFO) | time: 2.260000e+00\r"
     ]
    },
    {
     "name": "stderr",
     "output_type": "stream",
     "text": [
      "dream.scalar_transport.time.implicit (INFO) | time: 2.270000e+00\r"
     ]
    },
    {
     "name": "stderr",
     "output_type": "stream",
     "text": [
      "dream.scalar_transport.time.implicit (INFO) | time: 2.280000e+00\r"
     ]
    },
    {
     "name": "stderr",
     "output_type": "stream",
     "text": [
      "dream.scalar_transport.time.implicit (INFO) | time: 2.290000e+00\r"
     ]
    },
    {
     "name": "stderr",
     "output_type": "stream",
     "text": [
      "dream.scalar_transport.time.implicit (INFO) | time: 2.300000e+00\r"
     ]
    },
    {
     "name": "stderr",
     "output_type": "stream",
     "text": [
      "dream.scalar_transport.time.implicit (INFO) | time: 2.310000e+00\r"
     ]
    },
    {
     "name": "stderr",
     "output_type": "stream",
     "text": [
      "dream.scalar_transport.time.implicit (INFO) | time: 2.320000e+00\r"
     ]
    },
    {
     "name": "stderr",
     "output_type": "stream",
     "text": [
      "dream.scalar_transport.time.implicit (INFO) | time: 2.330000e+00\r"
     ]
    },
    {
     "name": "stderr",
     "output_type": "stream",
     "text": [
      "dream.scalar_transport.time.implicit (INFO) | time: 2.340000e+00\r"
     ]
    },
    {
     "name": "stderr",
     "output_type": "stream",
     "text": [
      "dream.scalar_transport.time.implicit (INFO) | time: 2.350000e+00\r"
     ]
    },
    {
     "name": "stderr",
     "output_type": "stream",
     "text": [
      "dream.scalar_transport.time.implicit (INFO) | time: 2.360000e+00\r"
     ]
    },
    {
     "name": "stderr",
     "output_type": "stream",
     "text": [
      "dream.scalar_transport.time.implicit (INFO) | time: 2.370000e+00\r"
     ]
    },
    {
     "name": "stderr",
     "output_type": "stream",
     "text": [
      "dream.scalar_transport.time.implicit (INFO) | time: 2.380000e+00\r"
     ]
    },
    {
     "name": "stderr",
     "output_type": "stream",
     "text": [
      "dream.scalar_transport.time.implicit (INFO) | time: 2.390000e+00\r"
     ]
    },
    {
     "name": "stderr",
     "output_type": "stream",
     "text": [
      "dream.scalar_transport.time.implicit (INFO) | time: 2.400000e+00\r"
     ]
    },
    {
     "name": "stderr",
     "output_type": "stream",
     "text": [
      "dream.scalar_transport.time.implicit (INFO) | time: 2.410000e+00\r"
     ]
    },
    {
     "name": "stderr",
     "output_type": "stream",
     "text": [
      "dream.scalar_transport.time.implicit (INFO) | time: 2.420000e+00\r"
     ]
    },
    {
     "name": "stderr",
     "output_type": "stream",
     "text": [
      "dream.scalar_transport.time.implicit (INFO) | time: 2.430000e+00\r"
     ]
    },
    {
     "name": "stderr",
     "output_type": "stream",
     "text": [
      "dream.scalar_transport.time.implicit (INFO) | time: 2.440000e+00\r"
     ]
    },
    {
     "name": "stderr",
     "output_type": "stream",
     "text": [
      "dream.scalar_transport.time.implicit (INFO) | time: 2.450000e+00\r"
     ]
    },
    {
     "name": "stderr",
     "output_type": "stream",
     "text": [
      "dream.scalar_transport.time.implicit (INFO) | time: 2.460000e+00\r"
     ]
    },
    {
     "name": "stderr",
     "output_type": "stream",
     "text": [
      "dream.scalar_transport.time.implicit (INFO) | time: 2.470000e+00\r"
     ]
    },
    {
     "name": "stderr",
     "output_type": "stream",
     "text": [
      "dream.scalar_transport.time.implicit (INFO) | time: 2.480000e+00\r"
     ]
    },
    {
     "name": "stderr",
     "output_type": "stream",
     "text": [
      "dream.scalar_transport.time.implicit (INFO) | time: 2.490000e+00\r"
     ]
    },
    {
     "name": "stderr",
     "output_type": "stream",
     "text": [
      "dream.scalar_transport.time.implicit (INFO) | time: 2.500000e+00\r"
     ]
    },
    {
     "name": "stderr",
     "output_type": "stream",
     "text": [
      "dream.scalar_transport.time.implicit (INFO) | time: 2.510000e+00\r"
     ]
    },
    {
     "name": "stderr",
     "output_type": "stream",
     "text": [
      "dream.scalar_transport.time.implicit (INFO) | time: 2.520000e+00\r"
     ]
    },
    {
     "name": "stderr",
     "output_type": "stream",
     "text": [
      "dream.scalar_transport.time.implicit (INFO) | time: 2.530000e+00\r"
     ]
    },
    {
     "name": "stderr",
     "output_type": "stream",
     "text": [
      "dream.scalar_transport.time.implicit (INFO) | time: 2.540000e+00\r"
     ]
    },
    {
     "name": "stderr",
     "output_type": "stream",
     "text": [
      "dream.scalar_transport.time.implicit (INFO) | time: 2.550000e+00\r"
     ]
    },
    {
     "name": "stderr",
     "output_type": "stream",
     "text": [
      "dream.scalar_transport.time.implicit (INFO) | time: 2.560000e+00\r"
     ]
    },
    {
     "name": "stderr",
     "output_type": "stream",
     "text": [
      "dream.scalar_transport.time.implicit (INFO) | time: 2.570000e+00\r"
     ]
    },
    {
     "name": "stderr",
     "output_type": "stream",
     "text": [
      "dream.scalar_transport.time.implicit (INFO) | time: 2.580000e+00\r"
     ]
    },
    {
     "name": "stderr",
     "output_type": "stream",
     "text": [
      "dream.scalar_transport.time.implicit (INFO) | time: 2.590000e+00\r"
     ]
    },
    {
     "name": "stderr",
     "output_type": "stream",
     "text": [
      "dream.scalar_transport.time.implicit (INFO) | time: 2.600000e+00\r"
     ]
    },
    {
     "name": "stderr",
     "output_type": "stream",
     "text": [
      "dream.scalar_transport.time.implicit (INFO) | time: 2.610000e+00\r"
     ]
    },
    {
     "name": "stderr",
     "output_type": "stream",
     "text": [
      "dream.scalar_transport.time.implicit (INFO) | time: 2.620000e+00\r"
     ]
    },
    {
     "name": "stderr",
     "output_type": "stream",
     "text": [
      "dream.scalar_transport.time.implicit (INFO) | time: 2.630000e+00\r"
     ]
    },
    {
     "name": "stderr",
     "output_type": "stream",
     "text": [
      "dream.scalar_transport.time.implicit (INFO) | time: 2.640000e+00\r"
     ]
    },
    {
     "name": "stderr",
     "output_type": "stream",
     "text": [
      "dream.scalar_transport.time.implicit (INFO) | time: 2.650000e+00\r"
     ]
    },
    {
     "name": "stderr",
     "output_type": "stream",
     "text": [
      "dream.scalar_transport.time.implicit (INFO) | time: 2.660000e+00\r"
     ]
    },
    {
     "name": "stderr",
     "output_type": "stream",
     "text": [
      "dream.scalar_transport.time.implicit (INFO) | time: 2.670000e+00\r"
     ]
    },
    {
     "name": "stderr",
     "output_type": "stream",
     "text": [
      "dream.scalar_transport.time.implicit (INFO) | time: 2.680000e+00\r"
     ]
    },
    {
     "name": "stderr",
     "output_type": "stream",
     "text": [
      "dream.scalar_transport.time.implicit (INFO) | time: 2.690000e+00\r"
     ]
    },
    {
     "name": "stderr",
     "output_type": "stream",
     "text": [
      "dream.scalar_transport.time.implicit (INFO) | time: 2.700000e+00\r"
     ]
    },
    {
     "name": "stderr",
     "output_type": "stream",
     "text": [
      "dream.scalar_transport.time.implicit (INFO) | time: 2.710000e+00\r"
     ]
    },
    {
     "name": "stderr",
     "output_type": "stream",
     "text": [
      "dream.scalar_transport.time.implicit (INFO) | time: 2.720000e+00\r"
     ]
    },
    {
     "name": "stderr",
     "output_type": "stream",
     "text": [
      "dream.scalar_transport.time.implicit (INFO) | time: 2.730000e+00\r"
     ]
    },
    {
     "name": "stderr",
     "output_type": "stream",
     "text": [
      "dream.scalar_transport.time.implicit (INFO) | time: 2.740000e+00\r"
     ]
    },
    {
     "name": "stderr",
     "output_type": "stream",
     "text": [
      "dream.scalar_transport.time.implicit (INFO) | time: 2.750000e+00\r"
     ]
    },
    {
     "name": "stderr",
     "output_type": "stream",
     "text": [
      "dream.scalar_transport.time.implicit (INFO) | time: 2.760000e+00\r"
     ]
    },
    {
     "name": "stderr",
     "output_type": "stream",
     "text": [
      "dream.scalar_transport.time.implicit (INFO) | time: 2.770000e+00\r"
     ]
    },
    {
     "name": "stderr",
     "output_type": "stream",
     "text": [
      "dream.scalar_transport.time.implicit (INFO) | time: 2.780000e+00\r"
     ]
    },
    {
     "name": "stderr",
     "output_type": "stream",
     "text": [
      "dream.scalar_transport.time.implicit (INFO) | time: 2.790000e+00\r"
     ]
    },
    {
     "name": "stderr",
     "output_type": "stream",
     "text": [
      "dream.scalar_transport.time.implicit (INFO) | time: 2.800000e+00\r"
     ]
    },
    {
     "name": "stderr",
     "output_type": "stream",
     "text": [
      "dream.scalar_transport.time.implicit (INFO) | time: 2.810000e+00\r"
     ]
    },
    {
     "name": "stderr",
     "output_type": "stream",
     "text": [
      "dream.scalar_transport.time.implicit (INFO) | time: 2.820000e+00\r"
     ]
    },
    {
     "name": "stderr",
     "output_type": "stream",
     "text": [
      "dream.scalar_transport.time.implicit (INFO) | time: 2.830000e+00\r"
     ]
    },
    {
     "name": "stderr",
     "output_type": "stream",
     "text": [
      "dream.scalar_transport.time.implicit (INFO) | time: 2.840000e+00\r"
     ]
    },
    {
     "name": "stderr",
     "output_type": "stream",
     "text": [
      "dream.scalar_transport.time.implicit (INFO) | time: 2.850000e+00\r"
     ]
    },
    {
     "name": "stderr",
     "output_type": "stream",
     "text": [
      "dream.scalar_transport.time.implicit (INFO) | time: 2.860000e+00\r"
     ]
    },
    {
     "name": "stderr",
     "output_type": "stream",
     "text": [
      "dream.scalar_transport.time.implicit (INFO) | time: 2.870000e+00\r"
     ]
    },
    {
     "name": "stderr",
     "output_type": "stream",
     "text": [
      "dream.scalar_transport.time.implicit (INFO) | time: 2.880000e+00\r"
     ]
    },
    {
     "name": "stderr",
     "output_type": "stream",
     "text": [
      "dream.scalar_transport.time.implicit (INFO) | time: 2.890000e+00\r"
     ]
    },
    {
     "name": "stderr",
     "output_type": "stream",
     "text": [
      "dream.scalar_transport.time.implicit (INFO) | time: 2.900000e+00\r"
     ]
    },
    {
     "name": "stderr",
     "output_type": "stream",
     "text": [
      "dream.scalar_transport.time.implicit (INFO) | time: 2.910000e+00\r"
     ]
    },
    {
     "name": "stderr",
     "output_type": "stream",
     "text": [
      "dream.scalar_transport.time.implicit (INFO) | time: 2.920000e+00\r"
     ]
    },
    {
     "name": "stderr",
     "output_type": "stream",
     "text": [
      "dream.scalar_transport.time.implicit (INFO) | time: 2.930000e+00\r"
     ]
    },
    {
     "name": "stderr",
     "output_type": "stream",
     "text": [
      "dream.scalar_transport.time.implicit (INFO) | time: 2.940000e+00\r"
     ]
    },
    {
     "name": "stderr",
     "output_type": "stream",
     "text": [
      "dream.scalar_transport.time.implicit (INFO) | time: 2.950000e+00\r"
     ]
    },
    {
     "name": "stderr",
     "output_type": "stream",
     "text": [
      "dream.scalar_transport.time.implicit (INFO) | time: 2.960000e+00\r"
     ]
    },
    {
     "name": "stderr",
     "output_type": "stream",
     "text": [
      "dream.scalar_transport.time.implicit (INFO) | time: 2.970000e+00\r"
     ]
    },
    {
     "name": "stderr",
     "output_type": "stream",
     "text": [
      "dream.scalar_transport.time.implicit (INFO) | time: 2.980000e+00\r"
     ]
    },
    {
     "name": "stderr",
     "output_type": "stream",
     "text": [
      "dream.scalar_transport.time.implicit (INFO) | time: 2.990000e+00\r"
     ]
    },
    {
     "name": "stderr",
     "output_type": "stream",
     "text": [
      "dream.scalar_transport.time.implicit (INFO) | time: 3.000000e+00\r"
     ]
    },
    {
     "name": "stderr",
     "output_type": "stream",
     "text": [
      "dream.scalar_transport.time.implicit (INFO) | time: 3.010000e+00\r"
     ]
    },
    {
     "name": "stderr",
     "output_type": "stream",
     "text": [
      "dream.scalar_transport.time.implicit (INFO) | time: 3.020000e+00\r"
     ]
    },
    {
     "name": "stderr",
     "output_type": "stream",
     "text": [
      "dream.scalar_transport.time.implicit (INFO) | time: 3.030000e+00\r"
     ]
    },
    {
     "name": "stderr",
     "output_type": "stream",
     "text": [
      "dream.scalar_transport.time.implicit (INFO) | time: 3.040000e+00\r"
     ]
    },
    {
     "name": "stderr",
     "output_type": "stream",
     "text": [
      "dream.scalar_transport.time.implicit (INFO) | time: 3.050000e+00\r"
     ]
    },
    {
     "name": "stderr",
     "output_type": "stream",
     "text": [
      "dream.scalar_transport.time.implicit (INFO) | time: 3.060000e+00\r"
     ]
    },
    {
     "name": "stderr",
     "output_type": "stream",
     "text": [
      "dream.scalar_transport.time.implicit (INFO) | time: 3.070000e+00\r"
     ]
    },
    {
     "name": "stderr",
     "output_type": "stream",
     "text": [
      "dream.scalar_transport.time.implicit (INFO) | time: 3.080000e+00\r"
     ]
    },
    {
     "name": "stderr",
     "output_type": "stream",
     "text": [
      "dream.scalar_transport.time.implicit (INFO) | time: 3.090000e+00\r"
     ]
    },
    {
     "name": "stderr",
     "output_type": "stream",
     "text": [
      "dream.scalar_transport.time.implicit (INFO) | time: 3.100000e+00\r"
     ]
    },
    {
     "name": "stderr",
     "output_type": "stream",
     "text": [
      "dream.scalar_transport.time.implicit (INFO) | time: 3.110000e+00\r"
     ]
    },
    {
     "name": "stderr",
     "output_type": "stream",
     "text": [
      "dream.scalar_transport.time.implicit (INFO) | time: 3.120000e+00\r"
     ]
    },
    {
     "name": "stderr",
     "output_type": "stream",
     "text": [
      "dream.scalar_transport.time.implicit (INFO) | time: 3.130000e+00\r"
     ]
    },
    {
     "name": "stderr",
     "output_type": "stream",
     "text": [
      "dream.scalar_transport.time.implicit (INFO) | time: 3.140000e+00\r"
     ]
    },
    {
     "name": "stderr",
     "output_type": "stream",
     "text": [
      "dream.scalar_transport.time.implicit (INFO) | time: 3.150000e+00\r"
     ]
    },
    {
     "name": "stderr",
     "output_type": "stream",
     "text": [
      "dream.scalar_transport.time.implicit (INFO) | time: 3.160000e+00\r"
     ]
    },
    {
     "name": "stderr",
     "output_type": "stream",
     "text": [
      "dream.scalar_transport.time.implicit (INFO) | time: 3.170000e+00\r"
     ]
    },
    {
     "name": "stderr",
     "output_type": "stream",
     "text": [
      "dream.scalar_transport.time.implicit (INFO) | time: 3.180000e+00\r"
     ]
    },
    {
     "name": "stderr",
     "output_type": "stream",
     "text": [
      "dream.scalar_transport.time.implicit (INFO) | time: 3.190000e+00\r"
     ]
    },
    {
     "name": "stderr",
     "output_type": "stream",
     "text": [
      "dream.scalar_transport.time.implicit (INFO) | time: 3.200000e+00\r"
     ]
    },
    {
     "name": "stderr",
     "output_type": "stream",
     "text": [
      "dream.scalar_transport.time.implicit (INFO) | time: 3.210000e+00\r"
     ]
    },
    {
     "name": "stderr",
     "output_type": "stream",
     "text": [
      "dream.scalar_transport.time.implicit (INFO) | time: 3.220000e+00\r"
     ]
    },
    {
     "name": "stderr",
     "output_type": "stream",
     "text": [
      "dream.scalar_transport.time.implicit (INFO) | time: 3.230000e+00\r"
     ]
    },
    {
     "name": "stderr",
     "output_type": "stream",
     "text": [
      "dream.scalar_transport.time.implicit (INFO) | time: 3.240000e+00\r"
     ]
    },
    {
     "name": "stderr",
     "output_type": "stream",
     "text": [
      "dream.scalar_transport.time.implicit (INFO) | time: 3.250000e+00\r"
     ]
    },
    {
     "name": "stderr",
     "output_type": "stream",
     "text": [
      "dream.scalar_transport.time.implicit (INFO) | time: 3.260000e+00\r"
     ]
    },
    {
     "name": "stderr",
     "output_type": "stream",
     "text": [
      "dream.scalar_transport.time.implicit (INFO) | time: 3.270000e+00\r"
     ]
    },
    {
     "name": "stderr",
     "output_type": "stream",
     "text": [
      "dream.scalar_transport.time.implicit (INFO) | time: 3.280000e+00\r"
     ]
    },
    {
     "name": "stderr",
     "output_type": "stream",
     "text": [
      "dream.scalar_transport.time.implicit (INFO) | time: 3.290000e+00\r"
     ]
    },
    {
     "name": "stderr",
     "output_type": "stream",
     "text": [
      "dream.scalar_transport.time.implicit (INFO) | time: 3.300000e+00\r"
     ]
    },
    {
     "name": "stderr",
     "output_type": "stream",
     "text": [
      "dream.scalar_transport.time.implicit (INFO) | time: 3.310000e+00\r"
     ]
    },
    {
     "name": "stderr",
     "output_type": "stream",
     "text": [
      "dream.scalar_transport.time.implicit (INFO) | time: 3.320000e+00\r"
     ]
    },
    {
     "name": "stderr",
     "output_type": "stream",
     "text": [
      "dream.scalar_transport.time.implicit (INFO) | time: 3.330000e+00\r"
     ]
    },
    {
     "name": "stderr",
     "output_type": "stream",
     "text": [
      "dream.scalar_transport.time.implicit (INFO) | time: 3.340000e+00\r"
     ]
    },
    {
     "name": "stderr",
     "output_type": "stream",
     "text": [
      "dream.scalar_transport.time.implicit (INFO) | time: 3.350000e+00\r"
     ]
    },
    {
     "name": "stderr",
     "output_type": "stream",
     "text": [
      "dream.scalar_transport.time.implicit (INFO) | time: 3.360000e+00\r"
     ]
    },
    {
     "name": "stderr",
     "output_type": "stream",
     "text": [
      "dream.scalar_transport.time.implicit (INFO) | time: 3.370000e+00\r"
     ]
    },
    {
     "name": "stderr",
     "output_type": "stream",
     "text": [
      "dream.scalar_transport.time.implicit (INFO) | time: 3.380000e+00\r"
     ]
    },
    {
     "name": "stderr",
     "output_type": "stream",
     "text": [
      "dream.scalar_transport.time.implicit (INFO) | time: 3.390000e+00\r"
     ]
    },
    {
     "name": "stderr",
     "output_type": "stream",
     "text": [
      "dream.scalar_transport.time.implicit (INFO) | time: 3.400000e+00\r"
     ]
    },
    {
     "name": "stderr",
     "output_type": "stream",
     "text": [
      "dream.scalar_transport.time.implicit (INFO) | time: 3.410000e+00\r"
     ]
    },
    {
     "name": "stderr",
     "output_type": "stream",
     "text": [
      "dream.scalar_transport.time.implicit (INFO) | time: 3.420000e+00\r"
     ]
    },
    {
     "name": "stderr",
     "output_type": "stream",
     "text": [
      "dream.scalar_transport.time.implicit (INFO) | time: 3.430000e+00\r"
     ]
    },
    {
     "name": "stderr",
     "output_type": "stream",
     "text": [
      "dream.scalar_transport.time.implicit (INFO) | time: 3.440000e+00\r"
     ]
    },
    {
     "name": "stderr",
     "output_type": "stream",
     "text": [
      "dream.scalar_transport.time.implicit (INFO) | time: 3.450000e+00\r"
     ]
    },
    {
     "name": "stderr",
     "output_type": "stream",
     "text": [
      "dream.scalar_transport.time.implicit (INFO) | time: 3.460000e+00\r"
     ]
    },
    {
     "name": "stderr",
     "output_type": "stream",
     "text": [
      "dream.scalar_transport.time.implicit (INFO) | time: 3.470000e+00\r"
     ]
    },
    {
     "name": "stderr",
     "output_type": "stream",
     "text": [
      "dream.scalar_transport.time.implicit (INFO) | time: 3.480000e+00\r"
     ]
    },
    {
     "name": "stderr",
     "output_type": "stream",
     "text": [
      "dream.scalar_transport.time.implicit (INFO) | time: 3.490000e+00\r"
     ]
    },
    {
     "name": "stderr",
     "output_type": "stream",
     "text": [
      "dream.scalar_transport.time.implicit (INFO) | time: 3.500000e+00\r"
     ]
    },
    {
     "name": "stderr",
     "output_type": "stream",
     "text": [
      "dream.scalar_transport.time.implicit (INFO) | time: 3.510000e+00\r"
     ]
    },
    {
     "name": "stderr",
     "output_type": "stream",
     "text": [
      "dream.scalar_transport.time.implicit (INFO) | time: 3.520000e+00\r"
     ]
    },
    {
     "name": "stderr",
     "output_type": "stream",
     "text": [
      "dream.scalar_transport.time.implicit (INFO) | time: 3.530000e+00\r"
     ]
    },
    {
     "name": "stderr",
     "output_type": "stream",
     "text": [
      "dream.scalar_transport.time.implicit (INFO) | time: 3.540000e+00\r"
     ]
    },
    {
     "name": "stderr",
     "output_type": "stream",
     "text": [
      "dream.scalar_transport.time.implicit (INFO) | time: 3.550000e+00\r"
     ]
    },
    {
     "name": "stderr",
     "output_type": "stream",
     "text": [
      "dream.scalar_transport.time.implicit (INFO) | time: 3.560000e+00\r"
     ]
    },
    {
     "name": "stderr",
     "output_type": "stream",
     "text": [
      "dream.scalar_transport.time.implicit (INFO) | time: 3.570000e+00\r"
     ]
    },
    {
     "name": "stderr",
     "output_type": "stream",
     "text": [
      "dream.scalar_transport.time.implicit (INFO) | time: 3.580000e+00\r"
     ]
    },
    {
     "name": "stderr",
     "output_type": "stream",
     "text": [
      "dream.scalar_transport.time.implicit (INFO) | time: 3.590000e+00\r"
     ]
    },
    {
     "name": "stderr",
     "output_type": "stream",
     "text": [
      "dream.scalar_transport.time.implicit (INFO) | time: 3.600000e+00\r"
     ]
    },
    {
     "name": "stderr",
     "output_type": "stream",
     "text": [
      "dream.scalar_transport.time.implicit (INFO) | time: 3.610000e+00\r"
     ]
    },
    {
     "name": "stderr",
     "output_type": "stream",
     "text": [
      "dream.scalar_transport.time.implicit (INFO) | time: 3.620000e+00\r"
     ]
    },
    {
     "name": "stderr",
     "output_type": "stream",
     "text": [
      "dream.scalar_transport.time.implicit (INFO) | time: 3.630000e+00\r"
     ]
    },
    {
     "name": "stderr",
     "output_type": "stream",
     "text": [
      "dream.scalar_transport.time.implicit (INFO) | time: 3.640000e+00\r"
     ]
    },
    {
     "name": "stderr",
     "output_type": "stream",
     "text": [
      "dream.scalar_transport.time.implicit (INFO) | time: 3.650000e+00\r"
     ]
    },
    {
     "name": "stderr",
     "output_type": "stream",
     "text": [
      "dream.scalar_transport.time.implicit (INFO) | time: 3.660000e+00\r"
     ]
    },
    {
     "name": "stderr",
     "output_type": "stream",
     "text": [
      "dream.scalar_transport.time.implicit (INFO) | time: 3.670000e+00\r"
     ]
    },
    {
     "name": "stderr",
     "output_type": "stream",
     "text": [
      "dream.scalar_transport.time.implicit (INFO) | time: 3.680000e+00\r"
     ]
    },
    {
     "name": "stderr",
     "output_type": "stream",
     "text": [
      "dream.scalar_transport.time.implicit (INFO) | time: 3.690000e+00\r"
     ]
    },
    {
     "name": "stderr",
     "output_type": "stream",
     "text": [
      "dream.scalar_transport.time.implicit (INFO) | time: 3.700000e+00\r"
     ]
    },
    {
     "name": "stderr",
     "output_type": "stream",
     "text": [
      "dream.scalar_transport.time.implicit (INFO) | time: 3.710000e+00\r"
     ]
    },
    {
     "name": "stderr",
     "output_type": "stream",
     "text": [
      "dream.scalar_transport.time.implicit (INFO) | time: 3.720000e+00\r"
     ]
    },
    {
     "name": "stderr",
     "output_type": "stream",
     "text": [
      "dream.scalar_transport.time.implicit (INFO) | time: 3.730000e+00\r"
     ]
    },
    {
     "name": "stderr",
     "output_type": "stream",
     "text": [
      "dream.scalar_transport.time.implicit (INFO) | time: 3.740000e+00\r"
     ]
    },
    {
     "name": "stderr",
     "output_type": "stream",
     "text": [
      "dream.scalar_transport.time.implicit (INFO) | time: 3.750000e+00\r"
     ]
    },
    {
     "name": "stderr",
     "output_type": "stream",
     "text": [
      "dream.scalar_transport.time.implicit (INFO) | time: 3.760000e+00\r"
     ]
    },
    {
     "name": "stderr",
     "output_type": "stream",
     "text": [
      "dream.scalar_transport.time.implicit (INFO) | time: 3.770000e+00\r"
     ]
    },
    {
     "name": "stderr",
     "output_type": "stream",
     "text": [
      "dream.scalar_transport.time.implicit (INFO) | time: 3.780000e+00\r"
     ]
    },
    {
     "name": "stderr",
     "output_type": "stream",
     "text": [
      "dream.scalar_transport.time.implicit (INFO) | time: 3.790000e+00\r"
     ]
    },
    {
     "name": "stderr",
     "output_type": "stream",
     "text": [
      "dream.scalar_transport.time.implicit (INFO) | time: 3.800000e+00\r"
     ]
    },
    {
     "name": "stderr",
     "output_type": "stream",
     "text": [
      "dream.scalar_transport.time.implicit (INFO) | time: 3.810000e+00\r"
     ]
    },
    {
     "name": "stderr",
     "output_type": "stream",
     "text": [
      "dream.scalar_transport.time.implicit (INFO) | time: 3.820000e+00\r"
     ]
    },
    {
     "name": "stderr",
     "output_type": "stream",
     "text": [
      "dream.scalar_transport.time.implicit (INFO) | time: 3.830000e+00\r"
     ]
    },
    {
     "name": "stderr",
     "output_type": "stream",
     "text": [
      "dream.scalar_transport.time.implicit (INFO) | time: 3.840000e+00\r"
     ]
    },
    {
     "name": "stderr",
     "output_type": "stream",
     "text": [
      "dream.scalar_transport.time.implicit (INFO) | time: 3.850000e+00\r"
     ]
    },
    {
     "name": "stderr",
     "output_type": "stream",
     "text": [
      "dream.scalar_transport.time.implicit (INFO) | time: 3.860000e+00\r"
     ]
    },
    {
     "name": "stderr",
     "output_type": "stream",
     "text": [
      "dream.scalar_transport.time.implicit (INFO) | time: 3.870000e+00\r"
     ]
    },
    {
     "name": "stderr",
     "output_type": "stream",
     "text": [
      "dream.scalar_transport.time.implicit (INFO) | time: 3.880000e+00\r"
     ]
    },
    {
     "name": "stderr",
     "output_type": "stream",
     "text": [
      "dream.scalar_transport.time.implicit (INFO) | time: 3.890000e+00\r"
     ]
    },
    {
     "name": "stderr",
     "output_type": "stream",
     "text": [
      "dream.scalar_transport.time.implicit (INFO) | time: 3.900000e+00\r"
     ]
    },
    {
     "name": "stderr",
     "output_type": "stream",
     "text": [
      "dream.scalar_transport.time.implicit (INFO) | time: 3.910000e+00\r"
     ]
    },
    {
     "name": "stderr",
     "output_type": "stream",
     "text": [
      "dream.scalar_transport.time.implicit (INFO) | time: 3.920000e+00\r"
     ]
    },
    {
     "name": "stderr",
     "output_type": "stream",
     "text": [
      "dream.scalar_transport.time.implicit (INFO) | time: 3.930000e+00\r"
     ]
    },
    {
     "name": "stderr",
     "output_type": "stream",
     "text": [
      "dream.scalar_transport.time.implicit (INFO) | time: 3.940000e+00\r"
     ]
    },
    {
     "name": "stderr",
     "output_type": "stream",
     "text": [
      "dream.scalar_transport.time.implicit (INFO) | time: 3.950000e+00\r"
     ]
    },
    {
     "name": "stderr",
     "output_type": "stream",
     "text": [
      "dream.scalar_transport.time.implicit (INFO) | time: 3.960000e+00\r"
     ]
    },
    {
     "name": "stderr",
     "output_type": "stream",
     "text": [
      "dream.scalar_transport.time.implicit (INFO) | time: 3.970000e+00\r"
     ]
    },
    {
     "name": "stderr",
     "output_type": "stream",
     "text": [
      "dream.scalar_transport.time.implicit (INFO) | time: 3.980000e+00\r"
     ]
    },
    {
     "name": "stderr",
     "output_type": "stream",
     "text": [
      "dream.scalar_transport.time.implicit (INFO) | time: 3.990000e+00\r"
     ]
    },
    {
     "name": "stderr",
     "output_type": "stream",
     "text": [
      "dream.scalar_transport.time.implicit (INFO) | time: 4.000000e+00\r"
     ]
    },
    {
     "name": "stderr",
     "output_type": "stream",
     "text": [
      "dream.scalar_transport.time.implicit (INFO) | time: 4.010000e+00\r"
     ]
    },
    {
     "name": "stderr",
     "output_type": "stream",
     "text": [
      "dream.scalar_transport.time.implicit (INFO) | time: 4.020000e+00\r"
     ]
    },
    {
     "name": "stderr",
     "output_type": "stream",
     "text": [
      "dream.scalar_transport.time.implicit (INFO) | time: 4.030000e+00\r"
     ]
    },
    {
     "name": "stderr",
     "output_type": "stream",
     "text": [
      "dream.scalar_transport.time.implicit (INFO) | time: 4.040000e+00\r"
     ]
    },
    {
     "name": "stderr",
     "output_type": "stream",
     "text": [
      "dream.scalar_transport.time.implicit (INFO) | time: 4.050000e+00\r"
     ]
    },
    {
     "name": "stderr",
     "output_type": "stream",
     "text": [
      "dream.scalar_transport.time.implicit (INFO) | time: 4.060000e+00\r"
     ]
    },
    {
     "name": "stderr",
     "output_type": "stream",
     "text": [
      "dream.scalar_transport.time.implicit (INFO) | time: 4.070000e+00\r"
     ]
    },
    {
     "name": "stderr",
     "output_type": "stream",
     "text": [
      "dream.scalar_transport.time.implicit (INFO) | time: 4.080000e+00\r"
     ]
    },
    {
     "name": "stderr",
     "output_type": "stream",
     "text": [
      "dream.scalar_transport.time.implicit (INFO) | time: 4.090000e+00\r"
     ]
    },
    {
     "name": "stderr",
     "output_type": "stream",
     "text": [
      "dream.scalar_transport.time.implicit (INFO) | time: 4.100000e+00\r"
     ]
    },
    {
     "name": "stderr",
     "output_type": "stream",
     "text": [
      "dream.scalar_transport.time.implicit (INFO) | time: 4.110000e+00\r"
     ]
    },
    {
     "name": "stderr",
     "output_type": "stream",
     "text": [
      "dream.scalar_transport.time.implicit (INFO) | time: 4.120000e+00\r"
     ]
    },
    {
     "name": "stderr",
     "output_type": "stream",
     "text": [
      "dream.scalar_transport.time.implicit (INFO) | time: 4.130000e+00\r"
     ]
    },
    {
     "name": "stderr",
     "output_type": "stream",
     "text": [
      "dream.scalar_transport.time.implicit (INFO) | time: 4.140000e+00\r"
     ]
    },
    {
     "name": "stderr",
     "output_type": "stream",
     "text": [
      "dream.scalar_transport.time.implicit (INFO) | time: 4.150000e+00\r"
     ]
    },
    {
     "name": "stderr",
     "output_type": "stream",
     "text": [
      "dream.scalar_transport.time.implicit (INFO) | time: 4.160000e+00\r"
     ]
    },
    {
     "name": "stderr",
     "output_type": "stream",
     "text": [
      "dream.scalar_transport.time.implicit (INFO) | time: 4.170000e+00\r"
     ]
    },
    {
     "name": "stderr",
     "output_type": "stream",
     "text": [
      "dream.scalar_transport.time.implicit (INFO) | time: 4.180000e+00\r"
     ]
    },
    {
     "name": "stderr",
     "output_type": "stream",
     "text": [
      "dream.scalar_transport.time.implicit (INFO) | time: 4.190000e+00\r"
     ]
    },
    {
     "name": "stderr",
     "output_type": "stream",
     "text": [
      "dream.scalar_transport.time.implicit (INFO) | time: 4.200000e+00\r"
     ]
    },
    {
     "name": "stderr",
     "output_type": "stream",
     "text": [
      "dream.scalar_transport.time.implicit (INFO) | time: 4.210000e+00\r"
     ]
    },
    {
     "name": "stderr",
     "output_type": "stream",
     "text": [
      "dream.scalar_transport.time.implicit (INFO) | time: 4.220000e+00\r"
     ]
    },
    {
     "name": "stderr",
     "output_type": "stream",
     "text": [
      "dream.scalar_transport.time.implicit (INFO) | time: 4.230000e+00\r"
     ]
    },
    {
     "name": "stderr",
     "output_type": "stream",
     "text": [
      "dream.scalar_transport.time.implicit (INFO) | time: 4.240000e+00\r"
     ]
    },
    {
     "name": "stderr",
     "output_type": "stream",
     "text": [
      "dream.scalar_transport.time.implicit (INFO) | time: 4.250000e+00\r"
     ]
    },
    {
     "name": "stderr",
     "output_type": "stream",
     "text": [
      "dream.scalar_transport.time.implicit (INFO) | time: 4.260000e+00\r"
     ]
    },
    {
     "name": "stderr",
     "output_type": "stream",
     "text": [
      "dream.scalar_transport.time.implicit (INFO) | time: 4.270000e+00\r"
     ]
    },
    {
     "name": "stderr",
     "output_type": "stream",
     "text": [
      "dream.scalar_transport.time.implicit (INFO) | time: 4.280000e+00\r"
     ]
    },
    {
     "name": "stderr",
     "output_type": "stream",
     "text": [
      "dream.scalar_transport.time.implicit (INFO) | time: 4.290000e+00\r"
     ]
    },
    {
     "name": "stderr",
     "output_type": "stream",
     "text": [
      "dream.scalar_transport.time.implicit (INFO) | time: 4.300000e+00\r"
     ]
    },
    {
     "name": "stderr",
     "output_type": "stream",
     "text": [
      "dream.scalar_transport.time.implicit (INFO) | time: 4.310000e+00\r"
     ]
    },
    {
     "name": "stderr",
     "output_type": "stream",
     "text": [
      "dream.scalar_transport.time.implicit (INFO) | time: 4.320000e+00\r"
     ]
    },
    {
     "name": "stderr",
     "output_type": "stream",
     "text": [
      "dream.scalar_transport.time.implicit (INFO) | time: 4.330000e+00\r"
     ]
    },
    {
     "name": "stderr",
     "output_type": "stream",
     "text": [
      "dream.scalar_transport.time.implicit (INFO) | time: 4.340000e+00\r"
     ]
    },
    {
     "name": "stderr",
     "output_type": "stream",
     "text": [
      "dream.scalar_transport.time.implicit (INFO) | time: 4.350000e+00\r"
     ]
    },
    {
     "name": "stderr",
     "output_type": "stream",
     "text": [
      "dream.scalar_transport.time.implicit (INFO) | time: 4.360000e+00\r"
     ]
    },
    {
     "name": "stderr",
     "output_type": "stream",
     "text": [
      "dream.scalar_transport.time.implicit (INFO) | time: 4.370000e+00\r"
     ]
    },
    {
     "name": "stderr",
     "output_type": "stream",
     "text": [
      "dream.scalar_transport.time.implicit (INFO) | time: 4.380000e+00\r"
     ]
    },
    {
     "name": "stderr",
     "output_type": "stream",
     "text": [
      "dream.scalar_transport.time.implicit (INFO) | time: 4.390000e+00\r"
     ]
    },
    {
     "name": "stderr",
     "output_type": "stream",
     "text": [
      "dream.scalar_transport.time.implicit (INFO) | time: 4.400000e+00\r"
     ]
    },
    {
     "name": "stderr",
     "output_type": "stream",
     "text": [
      "dream.scalar_transport.time.implicit (INFO) | time: 4.410000e+00\r"
     ]
    },
    {
     "name": "stderr",
     "output_type": "stream",
     "text": [
      "dream.scalar_transport.time.implicit (INFO) | time: 4.420000e+00\r"
     ]
    },
    {
     "name": "stderr",
     "output_type": "stream",
     "text": [
      "dream.scalar_transport.time.implicit (INFO) | time: 4.430000e+00\r"
     ]
    },
    {
     "name": "stderr",
     "output_type": "stream",
     "text": [
      "dream.scalar_transport.time.implicit (INFO) | time: 4.440000e+00\r"
     ]
    },
    {
     "name": "stderr",
     "output_type": "stream",
     "text": [
      "dream.scalar_transport.time.implicit (INFO) | time: 4.450000e+00\r"
     ]
    },
    {
     "name": "stderr",
     "output_type": "stream",
     "text": [
      "dream.scalar_transport.time.implicit (INFO) | time: 4.460000e+00\r"
     ]
    },
    {
     "name": "stderr",
     "output_type": "stream",
     "text": [
      "dream.scalar_transport.time.implicit (INFO) | time: 4.470000e+00\r"
     ]
    },
    {
     "name": "stderr",
     "output_type": "stream",
     "text": [
      "dream.scalar_transport.time.implicit (INFO) | time: 4.480000e+00\r"
     ]
    },
    {
     "name": "stderr",
     "output_type": "stream",
     "text": [
      "dream.scalar_transport.time.implicit (INFO) | time: 4.490000e+00\r"
     ]
    },
    {
     "name": "stderr",
     "output_type": "stream",
     "text": [
      "dream.scalar_transport.time.implicit (INFO) | time: 4.500000e+00\r"
     ]
    },
    {
     "name": "stderr",
     "output_type": "stream",
     "text": [
      "dream.scalar_transport.time.implicit (INFO) | time: 4.510000e+00\r"
     ]
    },
    {
     "name": "stderr",
     "output_type": "stream",
     "text": [
      "dream.scalar_transport.time.implicit (INFO) | time: 4.520000e+00\r"
     ]
    },
    {
     "name": "stderr",
     "output_type": "stream",
     "text": [
      "dream.scalar_transport.time.implicit (INFO) | time: 4.530000e+00\r"
     ]
    },
    {
     "name": "stderr",
     "output_type": "stream",
     "text": [
      "dream.scalar_transport.time.implicit (INFO) | time: 4.540000e+00\r"
     ]
    },
    {
     "name": "stderr",
     "output_type": "stream",
     "text": [
      "dream.scalar_transport.time.implicit (INFO) | time: 4.550000e+00\r"
     ]
    },
    {
     "name": "stderr",
     "output_type": "stream",
     "text": [
      "dream.scalar_transport.time.implicit (INFO) | time: 4.560000e+00\r"
     ]
    },
    {
     "name": "stderr",
     "output_type": "stream",
     "text": [
      "dream.scalar_transport.time.implicit (INFO) | time: 4.570000e+00\r"
     ]
    },
    {
     "name": "stderr",
     "output_type": "stream",
     "text": [
      "dream.scalar_transport.time.implicit (INFO) | time: 4.580000e+00\r"
     ]
    },
    {
     "name": "stderr",
     "output_type": "stream",
     "text": [
      "dream.scalar_transport.time.implicit (INFO) | time: 4.590000e+00\r"
     ]
    },
    {
     "name": "stderr",
     "output_type": "stream",
     "text": [
      "dream.scalar_transport.time.implicit (INFO) | time: 4.600000e+00\r"
     ]
    },
    {
     "name": "stderr",
     "output_type": "stream",
     "text": [
      "dream.scalar_transport.time.implicit (INFO) | time: 4.610000e+00\r"
     ]
    },
    {
     "name": "stderr",
     "output_type": "stream",
     "text": [
      "dream.scalar_transport.time.implicit (INFO) | time: 4.620000e+00\r"
     ]
    },
    {
     "name": "stderr",
     "output_type": "stream",
     "text": [
      "dream.scalar_transport.time.implicit (INFO) | time: 4.630000e+00\r"
     ]
    },
    {
     "name": "stderr",
     "output_type": "stream",
     "text": [
      "dream.scalar_transport.time.implicit (INFO) | time: 4.640000e+00\r"
     ]
    },
    {
     "name": "stderr",
     "output_type": "stream",
     "text": [
      "dream.scalar_transport.time.implicit (INFO) | time: 4.650000e+00\r"
     ]
    },
    {
     "name": "stderr",
     "output_type": "stream",
     "text": [
      "dream.scalar_transport.time.implicit (INFO) | time: 4.660000e+00\r"
     ]
    },
    {
     "name": "stderr",
     "output_type": "stream",
     "text": [
      "dream.scalar_transport.time.implicit (INFO) | time: 4.670000e+00\r"
     ]
    },
    {
     "name": "stderr",
     "output_type": "stream",
     "text": [
      "dream.scalar_transport.time.implicit (INFO) | time: 4.680000e+00\r"
     ]
    },
    {
     "name": "stderr",
     "output_type": "stream",
     "text": [
      "dream.scalar_transport.time.implicit (INFO) | time: 4.690000e+00\r"
     ]
    },
    {
     "name": "stderr",
     "output_type": "stream",
     "text": [
      "dream.scalar_transport.time.implicit (INFO) | time: 4.700000e+00\r"
     ]
    },
    {
     "name": "stderr",
     "output_type": "stream",
     "text": [
      "dream.scalar_transport.time.implicit (INFO) | time: 4.710000e+00\r"
     ]
    },
    {
     "name": "stderr",
     "output_type": "stream",
     "text": [
      "dream.scalar_transport.time.implicit (INFO) | time: 4.720000e+00\r"
     ]
    },
    {
     "name": "stderr",
     "output_type": "stream",
     "text": [
      "dream.scalar_transport.time.implicit (INFO) | time: 4.730000e+00\r"
     ]
    },
    {
     "name": "stderr",
     "output_type": "stream",
     "text": [
      "dream.scalar_transport.time.implicit (INFO) | time: 4.740000e+00\r"
     ]
    },
    {
     "name": "stderr",
     "output_type": "stream",
     "text": [
      "dream.scalar_transport.time.implicit (INFO) | time: 4.750000e+00\r"
     ]
    },
    {
     "name": "stderr",
     "output_type": "stream",
     "text": [
      "dream.scalar_transport.time.implicit (INFO) | time: 4.760000e+00\r"
     ]
    },
    {
     "name": "stderr",
     "output_type": "stream",
     "text": [
      "dream.scalar_transport.time.implicit (INFO) | time: 4.770000e+00\r"
     ]
    },
    {
     "name": "stderr",
     "output_type": "stream",
     "text": [
      "dream.scalar_transport.time.implicit (INFO) | time: 4.780000e+00\r"
     ]
    },
    {
     "name": "stderr",
     "output_type": "stream",
     "text": [
      "dream.scalar_transport.time.implicit (INFO) | time: 4.790000e+00\r"
     ]
    },
    {
     "name": "stderr",
     "output_type": "stream",
     "text": [
      "dream.scalar_transport.time.implicit (INFO) | time: 4.800000e+00\r"
     ]
    },
    {
     "name": "stderr",
     "output_type": "stream",
     "text": [
      "dream.scalar_transport.time.implicit (INFO) | time: 4.810000e+00\r"
     ]
    },
    {
     "name": "stderr",
     "output_type": "stream",
     "text": [
      "dream.scalar_transport.time.implicit (INFO) | time: 4.820000e+00\r"
     ]
    },
    {
     "name": "stderr",
     "output_type": "stream",
     "text": [
      "dream.scalar_transport.time.implicit (INFO) | time: 4.830000e+00\r"
     ]
    },
    {
     "name": "stderr",
     "output_type": "stream",
     "text": [
      "dream.scalar_transport.time.implicit (INFO) | time: 4.840000e+00\r"
     ]
    },
    {
     "name": "stderr",
     "output_type": "stream",
     "text": [
      "dream.scalar_transport.time.implicit (INFO) | time: 4.850000e+00\r"
     ]
    },
    {
     "name": "stderr",
     "output_type": "stream",
     "text": [
      "dream.scalar_transport.time.implicit (INFO) | time: 4.860000e+00\r"
     ]
    },
    {
     "name": "stderr",
     "output_type": "stream",
     "text": [
      "dream.scalar_transport.time.implicit (INFO) | time: 4.870000e+00\r"
     ]
    },
    {
     "name": "stderr",
     "output_type": "stream",
     "text": [
      "dream.scalar_transport.time.implicit (INFO) | time: 4.880000e+00\r"
     ]
    },
    {
     "name": "stderr",
     "output_type": "stream",
     "text": [
      "dream.scalar_transport.time.implicit (INFO) | time: 4.890000e+00\r"
     ]
    },
    {
     "name": "stderr",
     "output_type": "stream",
     "text": [
      "dream.scalar_transport.time.implicit (INFO) | time: 4.900000e+00\r"
     ]
    },
    {
     "name": "stderr",
     "output_type": "stream",
     "text": [
      "dream.scalar_transport.time.implicit (INFO) | time: 4.910000e+00\r"
     ]
    },
    {
     "name": "stderr",
     "output_type": "stream",
     "text": [
      "dream.scalar_transport.time.implicit (INFO) | time: 4.920000e+00\r"
     ]
    },
    {
     "name": "stderr",
     "output_type": "stream",
     "text": [
      "dream.scalar_transport.time.implicit (INFO) | time: 4.930000e+00\r"
     ]
    },
    {
     "name": "stderr",
     "output_type": "stream",
     "text": [
      "dream.scalar_transport.time.implicit (INFO) | time: 4.940000e+00\r"
     ]
    },
    {
     "name": "stderr",
     "output_type": "stream",
     "text": [
      "dream.scalar_transport.time.implicit (INFO) | time: 4.950000e+00\r"
     ]
    },
    {
     "name": "stderr",
     "output_type": "stream",
     "text": [
      "dream.scalar_transport.time.implicit (INFO) | time: 4.960000e+00\r"
     ]
    },
    {
     "name": "stderr",
     "output_type": "stream",
     "text": [
      "dream.scalar_transport.time.implicit (INFO) | time: 4.970000e+00\r"
     ]
    },
    {
     "name": "stderr",
     "output_type": "stream",
     "text": [
      "dream.scalar_transport.time.implicit (INFO) | time: 4.980000e+00\r"
     ]
    },
    {
     "name": "stderr",
     "output_type": "stream",
     "text": [
      "dream.scalar_transport.time.implicit (INFO) | time: 4.990000e+00\r"
     ]
    },
    {
     "name": "stderr",
     "output_type": "stream",
     "text": [
      "dream.scalar_transport.time.implicit (INFO) | time: 5.000000e+00\r"
     ]
    },
    {
     "name": "stderr",
     "output_type": "stream",
     "text": [
      "dream.scalar_transport.time.implicit (INFO) | time: 5.010000e+00\r"
     ]
    },
    {
     "name": "stderr",
     "output_type": "stream",
     "text": [
      "dream.scalar_transport.time.implicit (INFO) | time: 5.020000e+00\r"
     ]
    },
    {
     "name": "stderr",
     "output_type": "stream",
     "text": [
      "dream.scalar_transport.time.implicit (INFO) | time: 5.030000e+00\r"
     ]
    },
    {
     "name": "stderr",
     "output_type": "stream",
     "text": [
      "dream.scalar_transport.time.implicit (INFO) | time: 5.040000e+00\r"
     ]
    },
    {
     "name": "stderr",
     "output_type": "stream",
     "text": [
      "dream.scalar_transport.time.implicit (INFO) | time: 5.050000e+00\r"
     ]
    },
    {
     "name": "stderr",
     "output_type": "stream",
     "text": [
      "dream.scalar_transport.time.implicit (INFO) | time: 5.060000e+00\r"
     ]
    },
    {
     "name": "stderr",
     "output_type": "stream",
     "text": [
      "dream.scalar_transport.time.implicit (INFO) | time: 5.070000e+00\r"
     ]
    },
    {
     "name": "stderr",
     "output_type": "stream",
     "text": [
      "dream.scalar_transport.time.implicit (INFO) | time: 5.080000e+00\r"
     ]
    },
    {
     "name": "stderr",
     "output_type": "stream",
     "text": [
      "dream.scalar_transport.time.implicit (INFO) | time: 5.090000e+00\r"
     ]
    },
    {
     "name": "stderr",
     "output_type": "stream",
     "text": [
      "dream.scalar_transport.time.implicit (INFO) | time: 5.100000e+00\r"
     ]
    },
    {
     "name": "stderr",
     "output_type": "stream",
     "text": [
      "dream.scalar_transport.time.implicit (INFO) | time: 5.110000e+00\r"
     ]
    },
    {
     "name": "stderr",
     "output_type": "stream",
     "text": [
      "dream.scalar_transport.time.implicit (INFO) | time: 5.120000e+00\r"
     ]
    },
    {
     "name": "stderr",
     "output_type": "stream",
     "text": [
      "dream.scalar_transport.time.implicit (INFO) | time: 5.130000e+00\r"
     ]
    },
    {
     "name": "stderr",
     "output_type": "stream",
     "text": [
      "dream.scalar_transport.time.implicit (INFO) | time: 5.140000e+00\r"
     ]
    },
    {
     "name": "stderr",
     "output_type": "stream",
     "text": [
      "dream.scalar_transport.time.implicit (INFO) | time: 5.150000e+00\r"
     ]
    },
    {
     "name": "stderr",
     "output_type": "stream",
     "text": [
      "dream.scalar_transport.time.implicit (INFO) | time: 5.160000e+00\r"
     ]
    },
    {
     "name": "stderr",
     "output_type": "stream",
     "text": [
      "dream.scalar_transport.time.implicit (INFO) | time: 5.170000e+00\r"
     ]
    },
    {
     "name": "stderr",
     "output_type": "stream",
     "text": [
      "dream.scalar_transport.time.implicit (INFO) | time: 5.180000e+00\r"
     ]
    },
    {
     "name": "stderr",
     "output_type": "stream",
     "text": [
      "dream.scalar_transport.time.implicit (INFO) | time: 5.190000e+00\r"
     ]
    },
    {
     "name": "stderr",
     "output_type": "stream",
     "text": [
      "dream.scalar_transport.time.implicit (INFO) | time: 5.200000e+00\r"
     ]
    },
    {
     "name": "stderr",
     "output_type": "stream",
     "text": [
      "dream.scalar_transport.time.implicit (INFO) | time: 5.210000e+00\r"
     ]
    },
    {
     "name": "stderr",
     "output_type": "stream",
     "text": [
      "dream.scalar_transport.time.implicit (INFO) | time: 5.220000e+00\r"
     ]
    },
    {
     "name": "stderr",
     "output_type": "stream",
     "text": [
      "dream.scalar_transport.time.implicit (INFO) | time: 5.230000e+00\r"
     ]
    },
    {
     "name": "stderr",
     "output_type": "stream",
     "text": [
      "dream.scalar_transport.time.implicit (INFO) | time: 5.240000e+00\r"
     ]
    },
    {
     "name": "stderr",
     "output_type": "stream",
     "text": [
      "dream.scalar_transport.time.implicit (INFO) | time: 5.250000e+00\r"
     ]
    },
    {
     "name": "stderr",
     "output_type": "stream",
     "text": [
      "dream.scalar_transport.time.implicit (INFO) | time: 5.260000e+00\r"
     ]
    },
    {
     "name": "stderr",
     "output_type": "stream",
     "text": [
      "dream.scalar_transport.time.implicit (INFO) | time: 5.270000e+00\r"
     ]
    },
    {
     "name": "stderr",
     "output_type": "stream",
     "text": [
      "dream.scalar_transport.time.implicit (INFO) | time: 5.280000e+00\r"
     ]
    },
    {
     "name": "stderr",
     "output_type": "stream",
     "text": [
      "dream.scalar_transport.time.implicit (INFO) | time: 5.290000e+00\r"
     ]
    },
    {
     "name": "stderr",
     "output_type": "stream",
     "text": [
      "dream.scalar_transport.time.implicit (INFO) | time: 5.300000e+00\r"
     ]
    },
    {
     "name": "stderr",
     "output_type": "stream",
     "text": [
      "dream.scalar_transport.time.implicit (INFO) | time: 5.310000e+00\r"
     ]
    },
    {
     "name": "stderr",
     "output_type": "stream",
     "text": [
      "dream.scalar_transport.time.implicit (INFO) | time: 5.320000e+00\r"
     ]
    },
    {
     "name": "stderr",
     "output_type": "stream",
     "text": [
      "dream.scalar_transport.time.implicit (INFO) | time: 5.330000e+00\r"
     ]
    },
    {
     "name": "stderr",
     "output_type": "stream",
     "text": [
      "dream.scalar_transport.time.implicit (INFO) | time: 5.340000e+00\r"
     ]
    },
    {
     "name": "stderr",
     "output_type": "stream",
     "text": [
      "dream.scalar_transport.time.implicit (INFO) | time: 5.350000e+00\r"
     ]
    },
    {
     "name": "stderr",
     "output_type": "stream",
     "text": [
      "dream.scalar_transport.time.implicit (INFO) | time: 5.360000e+00\r"
     ]
    },
    {
     "name": "stderr",
     "output_type": "stream",
     "text": [
      "dream.scalar_transport.time.implicit (INFO) | time: 5.370000e+00\r"
     ]
    },
    {
     "name": "stderr",
     "output_type": "stream",
     "text": [
      "dream.scalar_transport.time.implicit (INFO) | time: 5.380000e+00\r"
     ]
    },
    {
     "name": "stderr",
     "output_type": "stream",
     "text": [
      "dream.scalar_transport.time.implicit (INFO) | time: 5.390000e+00\r"
     ]
    },
    {
     "name": "stderr",
     "output_type": "stream",
     "text": [
      "dream.scalar_transport.time.implicit (INFO) | time: 5.400000e+00\r"
     ]
    },
    {
     "name": "stderr",
     "output_type": "stream",
     "text": [
      "dream.scalar_transport.time.implicit (INFO) | time: 5.410000e+00\r"
     ]
    },
    {
     "name": "stderr",
     "output_type": "stream",
     "text": [
      "dream.scalar_transport.time.implicit (INFO) | time: 5.420000e+00\r"
     ]
    },
    {
     "name": "stderr",
     "output_type": "stream",
     "text": [
      "dream.scalar_transport.time.implicit (INFO) | time: 5.430000e+00\r"
     ]
    },
    {
     "name": "stderr",
     "output_type": "stream",
     "text": [
      "dream.scalar_transport.time.implicit (INFO) | time: 5.440000e+00\r"
     ]
    },
    {
     "name": "stderr",
     "output_type": "stream",
     "text": [
      "dream.scalar_transport.time.implicit (INFO) | time: 5.450000e+00\r"
     ]
    },
    {
     "name": "stderr",
     "output_type": "stream",
     "text": [
      "dream.scalar_transport.time.implicit (INFO) | time: 5.460000e+00\r"
     ]
    },
    {
     "name": "stderr",
     "output_type": "stream",
     "text": [
      "dream.scalar_transport.time.implicit (INFO) | time: 5.470000e+00\r"
     ]
    },
    {
     "name": "stderr",
     "output_type": "stream",
     "text": [
      "dream.scalar_transport.time.implicit (INFO) | time: 5.480000e+00\r"
     ]
    },
    {
     "name": "stderr",
     "output_type": "stream",
     "text": [
      "dream.scalar_transport.time.implicit (INFO) | time: 5.490000e+00\r"
     ]
    },
    {
     "name": "stderr",
     "output_type": "stream",
     "text": [
      "dream.scalar_transport.time.implicit (INFO) | time: 5.500000e+00\r"
     ]
    },
    {
     "name": "stderr",
     "output_type": "stream",
     "text": [
      "dream.scalar_transport.time.implicit (INFO) | time: 5.510000e+00\r"
     ]
    },
    {
     "name": "stderr",
     "output_type": "stream",
     "text": [
      "dream.scalar_transport.time.implicit (INFO) | time: 5.520000e+00\r"
     ]
    },
    {
     "name": "stderr",
     "output_type": "stream",
     "text": [
      "dream.scalar_transport.time.implicit (INFO) | time: 5.530000e+00\r"
     ]
    },
    {
     "name": "stderr",
     "output_type": "stream",
     "text": [
      "dream.scalar_transport.time.implicit (INFO) | time: 5.540000e+00\r"
     ]
    },
    {
     "name": "stderr",
     "output_type": "stream",
     "text": [
      "dream.scalar_transport.time.implicit (INFO) | time: 5.550000e+00\r"
     ]
    },
    {
     "name": "stderr",
     "output_type": "stream",
     "text": [
      "dream.scalar_transport.time.implicit (INFO) | time: 5.560000e+00\r"
     ]
    },
    {
     "name": "stderr",
     "output_type": "stream",
     "text": [
      "dream.scalar_transport.time.implicit (INFO) | time: 5.570000e+00\r"
     ]
    },
    {
     "name": "stderr",
     "output_type": "stream",
     "text": [
      "dream.scalar_transport.time.implicit (INFO) | time: 5.580000e+00\r"
     ]
    },
    {
     "name": "stderr",
     "output_type": "stream",
     "text": [
      "dream.scalar_transport.time.implicit (INFO) | time: 5.590000e+00\r"
     ]
    },
    {
     "name": "stderr",
     "output_type": "stream",
     "text": [
      "dream.scalar_transport.time.implicit (INFO) | time: 5.600000e+00\r"
     ]
    },
    {
     "name": "stderr",
     "output_type": "stream",
     "text": [
      "dream.scalar_transport.time.implicit (INFO) | time: 5.610000e+00\r"
     ]
    },
    {
     "name": "stderr",
     "output_type": "stream",
     "text": [
      "dream.scalar_transport.time.implicit (INFO) | time: 5.620000e+00\r"
     ]
    },
    {
     "name": "stderr",
     "output_type": "stream",
     "text": [
      "dream.scalar_transport.time.implicit (INFO) | time: 5.630000e+00\r"
     ]
    },
    {
     "name": "stderr",
     "output_type": "stream",
     "text": [
      "dream.scalar_transport.time.implicit (INFO) | time: 5.640000e+00\r"
     ]
    },
    {
     "name": "stderr",
     "output_type": "stream",
     "text": [
      "dream.scalar_transport.time.implicit (INFO) | time: 5.650000e+00\r"
     ]
    },
    {
     "name": "stderr",
     "output_type": "stream",
     "text": [
      "dream.scalar_transport.time.implicit (INFO) | time: 5.660000e+00\r"
     ]
    },
    {
     "name": "stderr",
     "output_type": "stream",
     "text": [
      "dream.scalar_transport.time.implicit (INFO) | time: 5.670000e+00\r"
     ]
    },
    {
     "name": "stderr",
     "output_type": "stream",
     "text": [
      "dream.scalar_transport.time.implicit (INFO) | time: 5.680000e+00\r"
     ]
    },
    {
     "name": "stderr",
     "output_type": "stream",
     "text": [
      "dream.scalar_transport.time.implicit (INFO) | time: 5.690000e+00\r"
     ]
    },
    {
     "name": "stderr",
     "output_type": "stream",
     "text": [
      "dream.scalar_transport.time.implicit (INFO) | time: 5.700000e+00\r"
     ]
    },
    {
     "name": "stderr",
     "output_type": "stream",
     "text": [
      "dream.scalar_transport.time.implicit (INFO) | time: 5.710000e+00\r"
     ]
    },
    {
     "name": "stderr",
     "output_type": "stream",
     "text": [
      "dream.scalar_transport.time.implicit (INFO) | time: 5.720000e+00\r"
     ]
    },
    {
     "name": "stderr",
     "output_type": "stream",
     "text": [
      "dream.scalar_transport.time.implicit (INFO) | time: 5.730000e+00\r"
     ]
    },
    {
     "name": "stderr",
     "output_type": "stream",
     "text": [
      "dream.scalar_transport.time.implicit (INFO) | time: 5.740000e+00\r"
     ]
    },
    {
     "name": "stderr",
     "output_type": "stream",
     "text": [
      "dream.scalar_transport.time.implicit (INFO) | time: 5.750000e+00\r"
     ]
    },
    {
     "name": "stderr",
     "output_type": "stream",
     "text": [
      "dream.scalar_transport.time.implicit (INFO) | time: 5.760000e+00\r"
     ]
    },
    {
     "name": "stderr",
     "output_type": "stream",
     "text": [
      "dream.scalar_transport.time.implicit (INFO) | time: 5.770000e+00\r"
     ]
    },
    {
     "name": "stderr",
     "output_type": "stream",
     "text": [
      "dream.scalar_transport.time.implicit (INFO) | time: 5.780000e+00\r"
     ]
    },
    {
     "name": "stderr",
     "output_type": "stream",
     "text": [
      "dream.scalar_transport.time.implicit (INFO) | time: 5.790000e+00\r"
     ]
    },
    {
     "name": "stderr",
     "output_type": "stream",
     "text": [
      "dream.scalar_transport.time.implicit (INFO) | time: 5.800000e+00\r"
     ]
    },
    {
     "name": "stderr",
     "output_type": "stream",
     "text": [
      "dream.scalar_transport.time.implicit (INFO) | time: 5.810000e+00\r"
     ]
    },
    {
     "name": "stderr",
     "output_type": "stream",
     "text": [
      "dream.scalar_transport.time.implicit (INFO) | time: 5.820000e+00\r"
     ]
    },
    {
     "name": "stderr",
     "output_type": "stream",
     "text": [
      "dream.scalar_transport.time.implicit (INFO) | time: 5.830000e+00\r"
     ]
    },
    {
     "name": "stderr",
     "output_type": "stream",
     "text": [
      "dream.scalar_transport.time.implicit (INFO) | time: 5.840000e+00\r"
     ]
    },
    {
     "name": "stderr",
     "output_type": "stream",
     "text": [
      "dream.scalar_transport.time.implicit (INFO) | time: 5.850000e+00\r"
     ]
    },
    {
     "name": "stderr",
     "output_type": "stream",
     "text": [
      "dream.scalar_transport.time.implicit (INFO) | time: 5.860000e+00\r"
     ]
    },
    {
     "name": "stderr",
     "output_type": "stream",
     "text": [
      "dream.scalar_transport.time.implicit (INFO) | time: 5.870000e+00\r"
     ]
    },
    {
     "name": "stderr",
     "output_type": "stream",
     "text": [
      "dream.scalar_transport.time.implicit (INFO) | time: 5.880000e+00\r"
     ]
    },
    {
     "name": "stderr",
     "output_type": "stream",
     "text": [
      "dream.scalar_transport.time.implicit (INFO) | time: 5.890000e+00\r"
     ]
    },
    {
     "name": "stderr",
     "output_type": "stream",
     "text": [
      "dream.scalar_transport.time.implicit (INFO) | time: 5.900000e+00\r"
     ]
    },
    {
     "name": "stderr",
     "output_type": "stream",
     "text": [
      "dream.scalar_transport.time.implicit (INFO) | time: 5.910000e+00\r"
     ]
    },
    {
     "name": "stderr",
     "output_type": "stream",
     "text": [
      "dream.scalar_transport.time.implicit (INFO) | time: 5.920000e+00\r"
     ]
    },
    {
     "name": "stderr",
     "output_type": "stream",
     "text": [
      "dream.scalar_transport.time.implicit (INFO) | time: 5.930000e+00\r"
     ]
    },
    {
     "name": "stderr",
     "output_type": "stream",
     "text": [
      "dream.scalar_transport.time.implicit (INFO) | time: 5.940000e+00\r"
     ]
    },
    {
     "name": "stderr",
     "output_type": "stream",
     "text": [
      "dream.scalar_transport.time.implicit (INFO) | time: 5.950000e+00\r"
     ]
    },
    {
     "name": "stderr",
     "output_type": "stream",
     "text": [
      "dream.scalar_transport.time.implicit (INFO) | time: 5.960000e+00\r"
     ]
    },
    {
     "name": "stderr",
     "output_type": "stream",
     "text": [
      "dream.scalar_transport.time.implicit (INFO) | time: 5.970000e+00\r"
     ]
    },
    {
     "name": "stderr",
     "output_type": "stream",
     "text": [
      "dream.scalar_transport.time.implicit (INFO) | time: 5.980000e+00\r"
     ]
    },
    {
     "name": "stderr",
     "output_type": "stream",
     "text": [
      "dream.scalar_transport.time.implicit (INFO) | time: 5.990000e+00\r"
     ]
    },
    {
     "name": "stderr",
     "output_type": "stream",
     "text": [
      "dream.scalar_transport.time.implicit (INFO) | time: 6.000000e+00\r"
     ]
    },
    {
     "name": "stderr",
     "output_type": "stream",
     "text": [
      "dream.scalar_transport.time.implicit (INFO) | time: 6.010000e+00\r"
     ]
    },
    {
     "name": "stderr",
     "output_type": "stream",
     "text": [
      "dream.scalar_transport.time.implicit (INFO) | time: 6.020000e+00\r"
     ]
    },
    {
     "name": "stderr",
     "output_type": "stream",
     "text": [
      "dream.scalar_transport.time.implicit (INFO) | time: 6.030000e+00\r"
     ]
    },
    {
     "name": "stderr",
     "output_type": "stream",
     "text": [
      "dream.scalar_transport.time.implicit (INFO) | time: 6.040000e+00\r"
     ]
    },
    {
     "name": "stderr",
     "output_type": "stream",
     "text": [
      "dream.scalar_transport.time.implicit (INFO) | time: 6.050000e+00\r"
     ]
    },
    {
     "name": "stderr",
     "output_type": "stream",
     "text": [
      "dream.scalar_transport.time.implicit (INFO) | time: 6.060000e+00\r"
     ]
    },
    {
     "name": "stderr",
     "output_type": "stream",
     "text": [
      "dream.scalar_transport.time.implicit (INFO) | time: 6.070000e+00\r"
     ]
    },
    {
     "name": "stderr",
     "output_type": "stream",
     "text": [
      "dream.scalar_transport.time.implicit (INFO) | time: 6.080000e+00\r"
     ]
    },
    {
     "name": "stderr",
     "output_type": "stream",
     "text": [
      "dream.scalar_transport.time.implicit (INFO) | time: 6.090000e+00\r"
     ]
    },
    {
     "name": "stderr",
     "output_type": "stream",
     "text": [
      "dream.scalar_transport.time.implicit (INFO) | time: 6.100000e+00\r"
     ]
    },
    {
     "name": "stderr",
     "output_type": "stream",
     "text": [
      "dream.scalar_transport.time.implicit (INFO) | time: 6.110000e+00\r"
     ]
    },
    {
     "name": "stderr",
     "output_type": "stream",
     "text": [
      "dream.scalar_transport.time.implicit (INFO) | time: 6.120000e+00\r"
     ]
    },
    {
     "name": "stderr",
     "output_type": "stream",
     "text": [
      "dream.scalar_transport.time.implicit (INFO) | time: 6.130000e+00\r"
     ]
    },
    {
     "name": "stderr",
     "output_type": "stream",
     "text": [
      "dream.scalar_transport.time.implicit (INFO) | time: 6.140000e+00\r"
     ]
    },
    {
     "name": "stderr",
     "output_type": "stream",
     "text": [
      "dream.scalar_transport.time.implicit (INFO) | time: 6.150000e+00\r"
     ]
    },
    {
     "name": "stderr",
     "output_type": "stream",
     "text": [
      "dream.scalar_transport.time.implicit (INFO) | time: 6.160000e+00\r"
     ]
    },
    {
     "name": "stderr",
     "output_type": "stream",
     "text": [
      "dream.scalar_transport.time.implicit (INFO) | time: 6.170000e+00\r"
     ]
    },
    {
     "name": "stderr",
     "output_type": "stream",
     "text": [
      "dream.scalar_transport.time.implicit (INFO) | time: 6.180000e+00\r"
     ]
    },
    {
     "name": "stderr",
     "output_type": "stream",
     "text": [
      "dream.scalar_transport.time.implicit (INFO) | time: 6.190000e+00\r"
     ]
    },
    {
     "name": "stderr",
     "output_type": "stream",
     "text": [
      "dream.scalar_transport.time.implicit (INFO) | time: 6.200000e+00\r"
     ]
    },
    {
     "name": "stderr",
     "output_type": "stream",
     "text": [
      "dream.scalar_transport.time.implicit (INFO) | time: 6.210000e+00\r"
     ]
    },
    {
     "name": "stderr",
     "output_type": "stream",
     "text": [
      "dream.scalar_transport.time.implicit (INFO) | time: 6.220000e+00\r"
     ]
    },
    {
     "name": "stderr",
     "output_type": "stream",
     "text": [
      "dream.scalar_transport.time.implicit (INFO) | time: 6.230000e+00\r"
     ]
    },
    {
     "name": "stderr",
     "output_type": "stream",
     "text": [
      "dream.scalar_transport.time.implicit (INFO) | time: 6.240000e+00\r"
     ]
    },
    {
     "name": "stderr",
     "output_type": "stream",
     "text": [
      "dream.scalar_transport.time.implicit (INFO) | time: 6.250000e+00\r"
     ]
    },
    {
     "name": "stderr",
     "output_type": "stream",
     "text": [
      "dream.scalar_transport.time.implicit (INFO) | time: 6.260000e+00\r"
     ]
    },
    {
     "name": "stderr",
     "output_type": "stream",
     "text": [
      "dream.scalar_transport.time.implicit (INFO) | time: 6.270000e+00\r"
     ]
    },
    {
     "name": "stderr",
     "output_type": "stream",
     "text": [
      "dream.scalar_transport.time.implicit (INFO) | time: 6.280000e+00\r"
     ]
    },
    {
     "name": "stderr",
     "output_type": "stream",
     "text": [
      "dream.scalar_transport.time.implicit (INFO) | time: 6.290000e+00\r"
     ]
    },
    {
     "name": "stderr",
     "output_type": "stream",
     "text": [
      "dream.scalar_transport.time.implicit (INFO) | time: 6.300000e+00\r"
     ]
    },
    {
     "name": "stderr",
     "output_type": "stream",
     "text": [
      "dream.scalar_transport.time.implicit (INFO) | time: 6.310000e+00\r"
     ]
    },
    {
     "name": "stderr",
     "output_type": "stream",
     "text": [
      "dream.scalar_transport.time.implicit (INFO) | time: 6.320000e+00\r"
     ]
    },
    {
     "name": "stderr",
     "output_type": "stream",
     "text": [
      "dream.scalar_transport.time.implicit (INFO) | time: 6.330000e+00\r"
     ]
    },
    {
     "name": "stderr",
     "output_type": "stream",
     "text": [
      "dream.scalar_transport.time.implicit (INFO) | time: 6.340000e+00\r"
     ]
    },
    {
     "name": "stderr",
     "output_type": "stream",
     "text": [
      "dream.scalar_transport.time.implicit (INFO) | time: 6.350000e+00\r"
     ]
    },
    {
     "name": "stderr",
     "output_type": "stream",
     "text": [
      "dream.scalar_transport.time.implicit (INFO) | time: 6.360000e+00\r"
     ]
    },
    {
     "name": "stderr",
     "output_type": "stream",
     "text": [
      "dream.scalar_transport.time.implicit (INFO) | time: 6.370000e+00\r"
     ]
    },
    {
     "name": "stderr",
     "output_type": "stream",
     "text": [
      "dream.scalar_transport.time.implicit (INFO) | time: 6.380000e+00\r"
     ]
    },
    {
     "name": "stderr",
     "output_type": "stream",
     "text": [
      "dream.scalar_transport.time.implicit (INFO) | time: 6.390000e+00\r"
     ]
    },
    {
     "name": "stderr",
     "output_type": "stream",
     "text": [
      "dream.scalar_transport.time.implicit (INFO) | time: 6.400000e+00\r"
     ]
    },
    {
     "name": "stderr",
     "output_type": "stream",
     "text": [
      "dream.scalar_transport.time.implicit (INFO) | time: 6.410000e+00\r"
     ]
    },
    {
     "name": "stderr",
     "output_type": "stream",
     "text": [
      "dream.scalar_transport.time.implicit (INFO) | time: 6.420000e+00\r"
     ]
    },
    {
     "name": "stderr",
     "output_type": "stream",
     "text": [
      "dream.scalar_transport.time.implicit (INFO) | time: 6.430000e+00\r"
     ]
    },
    {
     "name": "stderr",
     "output_type": "stream",
     "text": [
      "dream.scalar_transport.time.implicit (INFO) | time: 6.440000e+00\r"
     ]
    },
    {
     "name": "stderr",
     "output_type": "stream",
     "text": [
      "dream.scalar_transport.time.implicit (INFO) | time: 6.450000e+00\r"
     ]
    },
    {
     "name": "stderr",
     "output_type": "stream",
     "text": [
      "dream.scalar_transport.time.implicit (INFO) | time: 6.460000e+00\r"
     ]
    },
    {
     "name": "stderr",
     "output_type": "stream",
     "text": [
      "dream.scalar_transport.time.implicit (INFO) | time: 6.470000e+00\r"
     ]
    },
    {
     "name": "stderr",
     "output_type": "stream",
     "text": [
      "dream.scalar_transport.time.implicit (INFO) | time: 6.480000e+00\r"
     ]
    },
    {
     "name": "stderr",
     "output_type": "stream",
     "text": [
      "dream.scalar_transport.time.implicit (INFO) | time: 6.490000e+00\r"
     ]
    },
    {
     "name": "stderr",
     "output_type": "stream",
     "text": [
      "dream.scalar_transport.time.implicit (INFO) | time: 6.500000e+00\r"
     ]
    },
    {
     "name": "stderr",
     "output_type": "stream",
     "text": [
      "dream.scalar_transport.time.implicit (INFO) | time: 6.510000e+00\r"
     ]
    },
    {
     "name": "stderr",
     "output_type": "stream",
     "text": [
      "dream.scalar_transport.time.implicit (INFO) | time: 6.520000e+00\r"
     ]
    },
    {
     "name": "stderr",
     "output_type": "stream",
     "text": [
      "dream.scalar_transport.time.implicit (INFO) | time: 6.530000e+00\r"
     ]
    },
    {
     "name": "stderr",
     "output_type": "stream",
     "text": [
      "dream.scalar_transport.time.implicit (INFO) | time: 6.540000e+00\r"
     ]
    },
    {
     "name": "stderr",
     "output_type": "stream",
     "text": [
      "dream.scalar_transport.time.implicit (INFO) | time: 6.550000e+00\r"
     ]
    },
    {
     "name": "stderr",
     "output_type": "stream",
     "text": [
      "dream.scalar_transport.time.implicit (INFO) | time: 6.560000e+00\r"
     ]
    },
    {
     "name": "stderr",
     "output_type": "stream",
     "text": [
      "dream.scalar_transport.time.implicit (INFO) | time: 6.570000e+00\r"
     ]
    },
    {
     "name": "stderr",
     "output_type": "stream",
     "text": [
      "dream.scalar_transport.time.implicit (INFO) | time: 6.580000e+00\r"
     ]
    },
    {
     "name": "stderr",
     "output_type": "stream",
     "text": [
      "dream.scalar_transport.time.implicit (INFO) | time: 6.590000e+00\r"
     ]
    },
    {
     "name": "stderr",
     "output_type": "stream",
     "text": [
      "dream.scalar_transport.time.implicit (INFO) | time: 6.600000e+00\r"
     ]
    },
    {
     "name": "stderr",
     "output_type": "stream",
     "text": [
      "dream.scalar_transport.time.implicit (INFO) | time: 6.610000e+00\r"
     ]
    },
    {
     "name": "stderr",
     "output_type": "stream",
     "text": [
      "dream.scalar_transport.time.implicit (INFO) | time: 6.620000e+00\r"
     ]
    },
    {
     "name": "stderr",
     "output_type": "stream",
     "text": [
      "dream.scalar_transport.time.implicit (INFO) | time: 6.630000e+00\r"
     ]
    },
    {
     "name": "stderr",
     "output_type": "stream",
     "text": [
      "dream.scalar_transport.time.implicit (INFO) | time: 6.640000e+00\r"
     ]
    },
    {
     "name": "stderr",
     "output_type": "stream",
     "text": [
      "dream.scalar_transport.time.implicit (INFO) | time: 6.650000e+00\r"
     ]
    },
    {
     "name": "stderr",
     "output_type": "stream",
     "text": [
      "dream.scalar_transport.time.implicit (INFO) | time: 6.660000e+00\r"
     ]
    },
    {
     "name": "stderr",
     "output_type": "stream",
     "text": [
      "dream.scalar_transport.time.implicit (INFO) | time: 6.670000e+00\r"
     ]
    },
    {
     "name": "stderr",
     "output_type": "stream",
     "text": [
      "dream.scalar_transport.time.implicit (INFO) | time: 6.680000e+00\r"
     ]
    },
    {
     "name": "stderr",
     "output_type": "stream",
     "text": [
      "dream.scalar_transport.time.implicit (INFO) | time: 6.690000e+00\r"
     ]
    },
    {
     "name": "stderr",
     "output_type": "stream",
     "text": [
      "dream.scalar_transport.time.implicit (INFO) | time: 6.700000e+00\r"
     ]
    },
    {
     "name": "stderr",
     "output_type": "stream",
     "text": [
      "dream.scalar_transport.time.implicit (INFO) | time: 6.710000e+00\r"
     ]
    },
    {
     "name": "stderr",
     "output_type": "stream",
     "text": [
      "dream.scalar_transport.time.implicit (INFO) | time: 6.720000e+00\r"
     ]
    },
    {
     "name": "stderr",
     "output_type": "stream",
     "text": [
      "dream.scalar_transport.time.implicit (INFO) | time: 6.730000e+00\r"
     ]
    },
    {
     "name": "stderr",
     "output_type": "stream",
     "text": [
      "dream.scalar_transport.time.implicit (INFO) | time: 6.740000e+00\r"
     ]
    },
    {
     "name": "stderr",
     "output_type": "stream",
     "text": [
      "dream.scalar_transport.time.implicit (INFO) | time: 6.750000e+00\r"
     ]
    },
    {
     "name": "stderr",
     "output_type": "stream",
     "text": [
      "dream.scalar_transport.time.implicit (INFO) | time: 6.760000e+00\r"
     ]
    },
    {
     "name": "stderr",
     "output_type": "stream",
     "text": [
      "dream.scalar_transport.time.implicit (INFO) | time: 6.770000e+00\r"
     ]
    },
    {
     "name": "stderr",
     "output_type": "stream",
     "text": [
      "dream.scalar_transport.time.implicit (INFO) | time: 6.780000e+00\r"
     ]
    },
    {
     "name": "stderr",
     "output_type": "stream",
     "text": [
      "dream.scalar_transport.time.implicit (INFO) | time: 6.790000e+00\r"
     ]
    },
    {
     "name": "stderr",
     "output_type": "stream",
     "text": [
      "dream.scalar_transport.time.implicit (INFO) | time: 6.800000e+00\r"
     ]
    },
    {
     "name": "stderr",
     "output_type": "stream",
     "text": [
      "dream.scalar_transport.time.implicit (INFO) | time: 6.810000e+00\r"
     ]
    },
    {
     "name": "stderr",
     "output_type": "stream",
     "text": [
      "dream.scalar_transport.time.implicit (INFO) | time: 6.820000e+00\r"
     ]
    },
    {
     "name": "stderr",
     "output_type": "stream",
     "text": [
      "dream.scalar_transport.time.implicit (INFO) | time: 6.830000e+00\r"
     ]
    },
    {
     "name": "stderr",
     "output_type": "stream",
     "text": [
      "dream.scalar_transport.time.implicit (INFO) | time: 6.840000e+00\r"
     ]
    },
    {
     "name": "stderr",
     "output_type": "stream",
     "text": [
      "dream.scalar_transport.time.implicit (INFO) | time: 6.850000e+00\r"
     ]
    },
    {
     "name": "stderr",
     "output_type": "stream",
     "text": [
      "dream.scalar_transport.time.implicit (INFO) | time: 6.860000e+00\r"
     ]
    },
    {
     "name": "stderr",
     "output_type": "stream",
     "text": [
      "dream.scalar_transport.time.implicit (INFO) | time: 6.870000e+00\r"
     ]
    },
    {
     "name": "stderr",
     "output_type": "stream",
     "text": [
      "dream.scalar_transport.time.implicit (INFO) | time: 6.880000e+00\r"
     ]
    },
    {
     "name": "stderr",
     "output_type": "stream",
     "text": [
      "dream.scalar_transport.time.implicit (INFO) | time: 6.890000e+00\r"
     ]
    },
    {
     "name": "stderr",
     "output_type": "stream",
     "text": [
      "dream.scalar_transport.time.implicit (INFO) | time: 6.900000e+00\r"
     ]
    },
    {
     "name": "stderr",
     "output_type": "stream",
     "text": [
      "dream.scalar_transport.time.implicit (INFO) | time: 6.910000e+00\r"
     ]
    },
    {
     "name": "stderr",
     "output_type": "stream",
     "text": [
      "dream.scalar_transport.time.implicit (INFO) | time: 6.920000e+00\r"
     ]
    },
    {
     "name": "stderr",
     "output_type": "stream",
     "text": [
      "dream.scalar_transport.time.implicit (INFO) | time: 6.930000e+00\r"
     ]
    },
    {
     "name": "stderr",
     "output_type": "stream",
     "text": [
      "dream.scalar_transport.time.implicit (INFO) | time: 6.940000e+00\r"
     ]
    },
    {
     "name": "stderr",
     "output_type": "stream",
     "text": [
      "dream.scalar_transport.time.implicit (INFO) | time: 6.950000e+00\r"
     ]
    },
    {
     "name": "stderr",
     "output_type": "stream",
     "text": [
      "dream.scalar_transport.time.implicit (INFO) | time: 6.960000e+00\r"
     ]
    },
    {
     "name": "stderr",
     "output_type": "stream",
     "text": [
      "dream.scalar_transport.time.implicit (INFO) | time: 6.970000e+00\r"
     ]
    },
    {
     "name": "stderr",
     "output_type": "stream",
     "text": [
      "dream.scalar_transport.time.implicit (INFO) | time: 6.980000e+00\r"
     ]
    },
    {
     "name": "stderr",
     "output_type": "stream",
     "text": [
      "dream.scalar_transport.time.implicit (INFO) | time: 6.990000e+00\r"
     ]
    },
    {
     "name": "stderr",
     "output_type": "stream",
     "text": [
      "dream.scalar_transport.time.implicit (INFO) | time: 7.000000e+00\r"
     ]
    },
    {
     "name": "stderr",
     "output_type": "stream",
     "text": [
      "dream.scalar_transport.time.implicit (INFO) | time: 7.010000e+00\r"
     ]
    },
    {
     "name": "stderr",
     "output_type": "stream",
     "text": [
      "dream.scalar_transport.time.implicit (INFO) | time: 7.020000e+00\r"
     ]
    },
    {
     "name": "stderr",
     "output_type": "stream",
     "text": [
      "dream.scalar_transport.time.implicit (INFO) | time: 7.030000e+00\r"
     ]
    },
    {
     "name": "stderr",
     "output_type": "stream",
     "text": [
      "dream.scalar_transport.time.implicit (INFO) | time: 7.040000e+00\r"
     ]
    },
    {
     "name": "stderr",
     "output_type": "stream",
     "text": [
      "dream.scalar_transport.time.implicit (INFO) | time: 7.050000e+00\r"
     ]
    },
    {
     "name": "stderr",
     "output_type": "stream",
     "text": [
      "dream.scalar_transport.time.implicit (INFO) | time: 7.060000e+00\r"
     ]
    },
    {
     "name": "stderr",
     "output_type": "stream",
     "text": [
      "dream.scalar_transport.time.implicit (INFO) | time: 7.070000e+00\r"
     ]
    },
    {
     "name": "stderr",
     "output_type": "stream",
     "text": [
      "dream.scalar_transport.time.implicit (INFO) | time: 7.080000e+00\r"
     ]
    },
    {
     "name": "stderr",
     "output_type": "stream",
     "text": [
      "dream.scalar_transport.time.implicit (INFO) | time: 7.090000e+00\r"
     ]
    },
    {
     "name": "stderr",
     "output_type": "stream",
     "text": [
      "dream.scalar_transport.time.implicit (INFO) | time: 7.100000e+00\r"
     ]
    },
    {
     "name": "stderr",
     "output_type": "stream",
     "text": [
      "dream.scalar_transport.time.implicit (INFO) | time: 7.110000e+00\r"
     ]
    },
    {
     "name": "stderr",
     "output_type": "stream",
     "text": [
      "dream.scalar_transport.time.implicit (INFO) | time: 7.120000e+00\r"
     ]
    },
    {
     "name": "stderr",
     "output_type": "stream",
     "text": [
      "dream.scalar_transport.time.implicit (INFO) | time: 7.130000e+00\r"
     ]
    },
    {
     "name": "stderr",
     "output_type": "stream",
     "text": [
      "dream.scalar_transport.time.implicit (INFO) | time: 7.140000e+00\r"
     ]
    },
    {
     "name": "stderr",
     "output_type": "stream",
     "text": [
      "dream.scalar_transport.time.implicit (INFO) | time: 7.150000e+00\r"
     ]
    },
    {
     "name": "stderr",
     "output_type": "stream",
     "text": [
      "dream.scalar_transport.time.implicit (INFO) | time: 7.160000e+00\r"
     ]
    },
    {
     "name": "stderr",
     "output_type": "stream",
     "text": [
      "dream.scalar_transport.time.implicit (INFO) | time: 7.170000e+00\r"
     ]
    },
    {
     "name": "stderr",
     "output_type": "stream",
     "text": [
      "dream.scalar_transport.time.implicit (INFO) | time: 7.180000e+00\r"
     ]
    },
    {
     "name": "stderr",
     "output_type": "stream",
     "text": [
      "dream.scalar_transport.time.implicit (INFO) | time: 7.190000e+00\r"
     ]
    },
    {
     "name": "stderr",
     "output_type": "stream",
     "text": [
      "dream.scalar_transport.time.implicit (INFO) | time: 7.200000e+00\r"
     ]
    },
    {
     "name": "stderr",
     "output_type": "stream",
     "text": [
      "dream.scalar_transport.time.implicit (INFO) | time: 7.210000e+00\r"
     ]
    },
    {
     "name": "stderr",
     "output_type": "stream",
     "text": [
      "dream.scalar_transport.time.implicit (INFO) | time: 7.220000e+00\r"
     ]
    },
    {
     "name": "stderr",
     "output_type": "stream",
     "text": [
      "dream.scalar_transport.time.implicit (INFO) | time: 7.230000e+00\r"
     ]
    },
    {
     "name": "stderr",
     "output_type": "stream",
     "text": [
      "dream.scalar_transport.time.implicit (INFO) | time: 7.240000e+00\r"
     ]
    },
    {
     "name": "stderr",
     "output_type": "stream",
     "text": [
      "dream.scalar_transport.time.implicit (INFO) | time: 7.250000e+00\r"
     ]
    },
    {
     "name": "stderr",
     "output_type": "stream",
     "text": [
      "dream.scalar_transport.time.implicit (INFO) | time: 7.260000e+00\r"
     ]
    },
    {
     "name": "stderr",
     "output_type": "stream",
     "text": [
      "dream.scalar_transport.time.implicit (INFO) | time: 7.270000e+00\r"
     ]
    },
    {
     "name": "stderr",
     "output_type": "stream",
     "text": [
      "dream.scalar_transport.time.implicit (INFO) | time: 7.280000e+00\r"
     ]
    },
    {
     "name": "stderr",
     "output_type": "stream",
     "text": [
      "dream.scalar_transport.time.implicit (INFO) | time: 7.290000e+00\r"
     ]
    },
    {
     "name": "stderr",
     "output_type": "stream",
     "text": [
      "dream.scalar_transport.time.implicit (INFO) | time: 7.300000e+00\r"
     ]
    },
    {
     "name": "stderr",
     "output_type": "stream",
     "text": [
      "dream.scalar_transport.time.implicit (INFO) | time: 7.310000e+00\r"
     ]
    },
    {
     "name": "stderr",
     "output_type": "stream",
     "text": [
      "dream.scalar_transport.time.implicit (INFO) | time: 7.320000e+00\r"
     ]
    },
    {
     "name": "stderr",
     "output_type": "stream",
     "text": [
      "dream.scalar_transport.time.implicit (INFO) | time: 7.330000e+00\r"
     ]
    },
    {
     "name": "stderr",
     "output_type": "stream",
     "text": [
      "dream.scalar_transport.time.implicit (INFO) | time: 7.340000e+00\r"
     ]
    },
    {
     "name": "stderr",
     "output_type": "stream",
     "text": [
      "dream.scalar_transport.time.implicit (INFO) | time: 7.350000e+00\r"
     ]
    },
    {
     "name": "stderr",
     "output_type": "stream",
     "text": [
      "dream.scalar_transport.time.implicit (INFO) | time: 7.360000e+00\r"
     ]
    },
    {
     "name": "stderr",
     "output_type": "stream",
     "text": [
      "dream.scalar_transport.time.implicit (INFO) | time: 7.370000e+00\r"
     ]
    },
    {
     "name": "stderr",
     "output_type": "stream",
     "text": [
      "dream.scalar_transport.time.implicit (INFO) | time: 7.380000e+00\r"
     ]
    },
    {
     "name": "stderr",
     "output_type": "stream",
     "text": [
      "dream.scalar_transport.time.implicit (INFO) | time: 7.390000e+00\r"
     ]
    },
    {
     "name": "stderr",
     "output_type": "stream",
     "text": [
      "dream.scalar_transport.time.implicit (INFO) | time: 7.400000e+00\r"
     ]
    },
    {
     "name": "stderr",
     "output_type": "stream",
     "text": [
      "dream.scalar_transport.time.implicit (INFO) | time: 7.410000e+00\r"
     ]
    },
    {
     "name": "stderr",
     "output_type": "stream",
     "text": [
      "dream.scalar_transport.time.implicit (INFO) | time: 7.420000e+00\r"
     ]
    },
    {
     "name": "stderr",
     "output_type": "stream",
     "text": [
      "dream.scalar_transport.time.implicit (INFO) | time: 7.430000e+00\r"
     ]
    },
    {
     "name": "stderr",
     "output_type": "stream",
     "text": [
      "dream.scalar_transport.time.implicit (INFO) | time: 7.440000e+00\r"
     ]
    },
    {
     "name": "stderr",
     "output_type": "stream",
     "text": [
      "dream.scalar_transport.time.implicit (INFO) | time: 7.450000e+00\r"
     ]
    },
    {
     "name": "stderr",
     "output_type": "stream",
     "text": [
      "dream.scalar_transport.time.implicit (INFO) | time: 7.460000e+00\r"
     ]
    },
    {
     "name": "stderr",
     "output_type": "stream",
     "text": [
      "dream.scalar_transport.time.implicit (INFO) | time: 7.470000e+00\r"
     ]
    },
    {
     "name": "stderr",
     "output_type": "stream",
     "text": [
      "dream.scalar_transport.time.implicit (INFO) | time: 7.480000e+00\r"
     ]
    },
    {
     "name": "stderr",
     "output_type": "stream",
     "text": [
      "dream.scalar_transport.time.implicit (INFO) | time: 7.490000e+00\r"
     ]
    },
    {
     "name": "stderr",
     "output_type": "stream",
     "text": [
      "dream.scalar_transport.time.implicit (INFO) | time: 7.500000e+00\r"
     ]
    },
    {
     "name": "stderr",
     "output_type": "stream",
     "text": [
      "dream.scalar_transport.time.implicit (INFO) | time: 7.510000e+00\r"
     ]
    },
    {
     "name": "stderr",
     "output_type": "stream",
     "text": [
      "dream.scalar_transport.time.implicit (INFO) | time: 7.520000e+00\r"
     ]
    },
    {
     "name": "stderr",
     "output_type": "stream",
     "text": [
      "dream.scalar_transport.time.implicit (INFO) | time: 7.530000e+00\r"
     ]
    },
    {
     "name": "stderr",
     "output_type": "stream",
     "text": [
      "dream.scalar_transport.time.implicit (INFO) | time: 7.540000e+00\r"
     ]
    },
    {
     "name": "stderr",
     "output_type": "stream",
     "text": [
      "dream.scalar_transport.time.implicit (INFO) | time: 7.550000e+00\r"
     ]
    },
    {
     "name": "stderr",
     "output_type": "stream",
     "text": [
      "dream.scalar_transport.time.implicit (INFO) | time: 7.560000e+00\r"
     ]
    },
    {
     "name": "stderr",
     "output_type": "stream",
     "text": [
      "dream.scalar_transport.time.implicit (INFO) | time: 7.570000e+00\r"
     ]
    },
    {
     "name": "stderr",
     "output_type": "stream",
     "text": [
      "dream.scalar_transport.time.implicit (INFO) | time: 7.580000e+00\r"
     ]
    },
    {
     "name": "stderr",
     "output_type": "stream",
     "text": [
      "dream.scalar_transport.time.implicit (INFO) | time: 7.590000e+00\r"
     ]
    },
    {
     "name": "stderr",
     "output_type": "stream",
     "text": [
      "dream.scalar_transport.time.implicit (INFO) | time: 7.600000e+00\r"
     ]
    },
    {
     "name": "stderr",
     "output_type": "stream",
     "text": [
      "dream.scalar_transport.time.implicit (INFO) | time: 7.610000e+00\r"
     ]
    },
    {
     "name": "stderr",
     "output_type": "stream",
     "text": [
      "dream.scalar_transport.time.implicit (INFO) | time: 7.620000e+00\r"
     ]
    },
    {
     "name": "stderr",
     "output_type": "stream",
     "text": [
      "dream.scalar_transport.time.implicit (INFO) | time: 7.630000e+00\r"
     ]
    },
    {
     "name": "stderr",
     "output_type": "stream",
     "text": [
      "dream.scalar_transport.time.implicit (INFO) | time: 7.640000e+00\r"
     ]
    },
    {
     "name": "stderr",
     "output_type": "stream",
     "text": [
      "dream.scalar_transport.time.implicit (INFO) | time: 7.650000e+00\r"
     ]
    },
    {
     "name": "stderr",
     "output_type": "stream",
     "text": [
      "dream.scalar_transport.time.implicit (INFO) | time: 7.660000e+00\r"
     ]
    },
    {
     "name": "stderr",
     "output_type": "stream",
     "text": [
      "dream.scalar_transport.time.implicit (INFO) | time: 7.670000e+00\r"
     ]
    },
    {
     "name": "stderr",
     "output_type": "stream",
     "text": [
      "dream.scalar_transport.time.implicit (INFO) | time: 7.680000e+00\r"
     ]
    },
    {
     "name": "stderr",
     "output_type": "stream",
     "text": [
      "dream.scalar_transport.time.implicit (INFO) | time: 7.690000e+00\r"
     ]
    },
    {
     "name": "stderr",
     "output_type": "stream",
     "text": [
      "dream.scalar_transport.time.implicit (INFO) | time: 7.700000e+00\r"
     ]
    },
    {
     "name": "stderr",
     "output_type": "stream",
     "text": [
      "dream.scalar_transport.time.implicit (INFO) | time: 7.710000e+00\r"
     ]
    },
    {
     "name": "stderr",
     "output_type": "stream",
     "text": [
      "dream.scalar_transport.time.implicit (INFO) | time: 7.720000e+00\r"
     ]
    },
    {
     "name": "stderr",
     "output_type": "stream",
     "text": [
      "dream.scalar_transport.time.implicit (INFO) | time: 7.730000e+00\r"
     ]
    },
    {
     "name": "stderr",
     "output_type": "stream",
     "text": [
      "dream.scalar_transport.time.implicit (INFO) | time: 7.740000e+00\r"
     ]
    },
    {
     "name": "stderr",
     "output_type": "stream",
     "text": [
      "dream.scalar_transport.time.implicit (INFO) | time: 7.750000e+00\r"
     ]
    },
    {
     "name": "stderr",
     "output_type": "stream",
     "text": [
      "dream.scalar_transport.time.implicit (INFO) | time: 7.760000e+00\r"
     ]
    },
    {
     "name": "stderr",
     "output_type": "stream",
     "text": [
      "dream.scalar_transport.time.implicit (INFO) | time: 7.770000e+00\r"
     ]
    },
    {
     "name": "stderr",
     "output_type": "stream",
     "text": [
      "dream.scalar_transport.time.implicit (INFO) | time: 7.780000e+00\r"
     ]
    },
    {
     "name": "stderr",
     "output_type": "stream",
     "text": [
      "dream.scalar_transport.time.implicit (INFO) | time: 7.790000e+00\r"
     ]
    },
    {
     "name": "stderr",
     "output_type": "stream",
     "text": [
      "dream.scalar_transport.time.implicit (INFO) | time: 7.800000e+00\r"
     ]
    },
    {
     "name": "stderr",
     "output_type": "stream",
     "text": [
      "dream.scalar_transport.time.implicit (INFO) | time: 7.810000e+00\r"
     ]
    },
    {
     "name": "stderr",
     "output_type": "stream",
     "text": [
      "dream.scalar_transport.time.implicit (INFO) | time: 7.820000e+00\r"
     ]
    },
    {
     "name": "stderr",
     "output_type": "stream",
     "text": [
      "dream.scalar_transport.time.implicit (INFO) | time: 7.830000e+00\r"
     ]
    },
    {
     "name": "stderr",
     "output_type": "stream",
     "text": [
      "dream.scalar_transport.time.implicit (INFO) | time: 7.840000e+00\r"
     ]
    },
    {
     "name": "stderr",
     "output_type": "stream",
     "text": [
      "dream.scalar_transport.time.implicit (INFO) | time: 7.850000e+00\r"
     ]
    },
    {
     "name": "stdout",
     "output_type": "stream",
     "text": [
      "Running bdf2(hdg)...\n"
     ]
    },
    {
     "data": {
      "application/vnd.jupyter.widget-view+json": {
       "model_id": "3f23a4d62af942eea51ba8f4432b1641",
       "version_major": 2,
       "version_minor": 0
      },
      "text/plain": [
       "WebGuiDocuWidget(value={'render_data': 'render_data_3.json', 'preview': 'preview_3.png'})"
      ]
     },
     "metadata": {},
     "output_type": "display_data"
    },
    {
     "name": "stderr",
     "output_type": "stream",
     "text": [
      "dream.scalar_transport.time.implicit (INFO) | time: 1.580000e+00\r"
     ]
    },
    {
     "name": "stderr",
     "output_type": "stream",
     "text": [
      "dream.scalar_transport.time.implicit (INFO) | time: 1.590000e+00\r"
     ]
    },
    {
     "name": "stderr",
     "output_type": "stream",
     "text": [
      "dream.scalar_transport.time.implicit (INFO) | time: 1.600000e+00\r"
     ]
    },
    {
     "name": "stderr",
     "output_type": "stream",
     "text": [
      "dream.scalar_transport.time.implicit (INFO) | time: 1.610000e+00\r"
     ]
    },
    {
     "name": "stderr",
     "output_type": "stream",
     "text": [
      "dream.scalar_transport.time.implicit (INFO) | time: 1.620000e+00\r"
     ]
    },
    {
     "name": "stderr",
     "output_type": "stream",
     "text": [
      "dream.scalar_transport.time.implicit (INFO) | time: 1.630000e+00\r"
     ]
    },
    {
     "name": "stderr",
     "output_type": "stream",
     "text": [
      "dream.scalar_transport.time.implicit (INFO) | time: 1.640000e+00\r"
     ]
    },
    {
     "name": "stderr",
     "output_type": "stream",
     "text": [
      "dream.scalar_transport.time.implicit (INFO) | time: 1.650000e+00\r"
     ]
    },
    {
     "name": "stderr",
     "output_type": "stream",
     "text": [
      "dream.scalar_transport.time.implicit (INFO) | time: 1.660000e+00\r"
     ]
    },
    {
     "name": "stderr",
     "output_type": "stream",
     "text": [
      "dream.scalar_transport.time.implicit (INFO) | time: 1.670000e+00\r"
     ]
    },
    {
     "name": "stderr",
     "output_type": "stream",
     "text": [
      "dream.scalar_transport.time.implicit (INFO) | time: 1.680000e+00\r"
     ]
    },
    {
     "name": "stderr",
     "output_type": "stream",
     "text": [
      "dream.scalar_transport.time.implicit (INFO) | time: 1.690000e+00\r"
     ]
    },
    {
     "name": "stderr",
     "output_type": "stream",
     "text": [
      "dream.scalar_transport.time.implicit (INFO) | time: 1.700000e+00\r"
     ]
    },
    {
     "name": "stderr",
     "output_type": "stream",
     "text": [
      "dream.scalar_transport.time.implicit (INFO) | time: 1.710000e+00\r"
     ]
    },
    {
     "name": "stderr",
     "output_type": "stream",
     "text": [
      "dream.scalar_transport.time.implicit (INFO) | time: 1.720000e+00\r"
     ]
    },
    {
     "name": "stderr",
     "output_type": "stream",
     "text": [
      "dream.scalar_transport.time.implicit (INFO) | time: 1.730000e+00\r"
     ]
    },
    {
     "name": "stderr",
     "output_type": "stream",
     "text": [
      "dream.scalar_transport.time.implicit (INFO) | time: 1.740000e+00\r"
     ]
    },
    {
     "name": "stderr",
     "output_type": "stream",
     "text": [
      "dream.scalar_transport.time.implicit (INFO) | time: 1.750000e+00\r"
     ]
    },
    {
     "name": "stderr",
     "output_type": "stream",
     "text": [
      "dream.scalar_transport.time.implicit (INFO) | time: 1.760000e+00\r"
     ]
    },
    {
     "name": "stderr",
     "output_type": "stream",
     "text": [
      "dream.scalar_transport.time.implicit (INFO) | time: 1.770000e+00\r"
     ]
    },
    {
     "name": "stderr",
     "output_type": "stream",
     "text": [
      "dream.scalar_transport.time.implicit (INFO) | time: 1.780000e+00\r"
     ]
    },
    {
     "name": "stderr",
     "output_type": "stream",
     "text": [
      "dream.scalar_transport.time.implicit (INFO) | time: 1.790000e+00\r"
     ]
    },
    {
     "name": "stderr",
     "output_type": "stream",
     "text": [
      "dream.scalar_transport.time.implicit (INFO) | time: 1.800000e+00\r"
     ]
    },
    {
     "name": "stderr",
     "output_type": "stream",
     "text": [
      "dream.scalar_transport.time.implicit (INFO) | time: 1.810000e+00\r"
     ]
    },
    {
     "name": "stderr",
     "output_type": "stream",
     "text": [
      "dream.scalar_transport.time.implicit (INFO) | time: 1.820000e+00\r"
     ]
    },
    {
     "name": "stderr",
     "output_type": "stream",
     "text": [
      "dream.scalar_transport.time.implicit (INFO) | time: 1.830000e+00\r"
     ]
    },
    {
     "name": "stderr",
     "output_type": "stream",
     "text": [
      "dream.scalar_transport.time.implicit (INFO) | time: 1.840000e+00\r"
     ]
    },
    {
     "name": "stderr",
     "output_type": "stream",
     "text": [
      "dream.scalar_transport.time.implicit (INFO) | time: 1.850000e+00\r"
     ]
    },
    {
     "name": "stderr",
     "output_type": "stream",
     "text": [
      "dream.scalar_transport.time.implicit (INFO) | time: 1.860000e+00\r"
     ]
    },
    {
     "name": "stderr",
     "output_type": "stream",
     "text": [
      "dream.scalar_transport.time.implicit (INFO) | time: 1.870000e+00\r"
     ]
    },
    {
     "name": "stderr",
     "output_type": "stream",
     "text": [
      "dream.scalar_transport.time.implicit (INFO) | time: 1.880000e+00\r"
     ]
    },
    {
     "name": "stderr",
     "output_type": "stream",
     "text": [
      "dream.scalar_transport.time.implicit (INFO) | time: 1.890000e+00\r"
     ]
    },
    {
     "name": "stderr",
     "output_type": "stream",
     "text": [
      "dream.scalar_transport.time.implicit (INFO) | time: 1.900000e+00\r"
     ]
    },
    {
     "name": "stderr",
     "output_type": "stream",
     "text": [
      "dream.scalar_transport.time.implicit (INFO) | time: 1.910000e+00\r"
     ]
    },
    {
     "name": "stderr",
     "output_type": "stream",
     "text": [
      "dream.scalar_transport.time.implicit (INFO) | time: 1.920000e+00\r"
     ]
    },
    {
     "name": "stderr",
     "output_type": "stream",
     "text": [
      "dream.scalar_transport.time.implicit (INFO) | time: 1.930000e+00\r"
     ]
    },
    {
     "name": "stderr",
     "output_type": "stream",
     "text": [
      "dream.scalar_transport.time.implicit (INFO) | time: 1.940000e+00\r"
     ]
    },
    {
     "name": "stderr",
     "output_type": "stream",
     "text": [
      "dream.scalar_transport.time.implicit (INFO) | time: 1.950000e+00\r"
     ]
    },
    {
     "name": "stderr",
     "output_type": "stream",
     "text": [
      "dream.scalar_transport.time.implicit (INFO) | time: 1.960000e+00\r"
     ]
    },
    {
     "name": "stderr",
     "output_type": "stream",
     "text": [
      "dream.scalar_transport.time.implicit (INFO) | time: 1.970000e+00\r"
     ]
    },
    {
     "name": "stderr",
     "output_type": "stream",
     "text": [
      "dream.scalar_transport.time.implicit (INFO) | time: 1.980000e+00\r"
     ]
    },
    {
     "name": "stderr",
     "output_type": "stream",
     "text": [
      "dream.scalar_transport.time.implicit (INFO) | time: 1.990000e+00\r"
     ]
    },
    {
     "name": "stderr",
     "output_type": "stream",
     "text": [
      "dream.scalar_transport.time.implicit (INFO) | time: 2.000000e+00\r"
     ]
    },
    {
     "name": "stderr",
     "output_type": "stream",
     "text": [
      "dream.scalar_transport.time.implicit (INFO) | time: 2.010000e+00\r"
     ]
    },
    {
     "name": "stderr",
     "output_type": "stream",
     "text": [
      "dream.scalar_transport.time.implicit (INFO) | time: 2.020000e+00\r"
     ]
    },
    {
     "name": "stderr",
     "output_type": "stream",
     "text": [
      "dream.scalar_transport.time.implicit (INFO) | time: 2.030000e+00\r"
     ]
    },
    {
     "name": "stderr",
     "output_type": "stream",
     "text": [
      "dream.scalar_transport.time.implicit (INFO) | time: 2.040000e+00\r"
     ]
    },
    {
     "name": "stderr",
     "output_type": "stream",
     "text": [
      "dream.scalar_transport.time.implicit (INFO) | time: 2.050000e+00\r"
     ]
    },
    {
     "name": "stderr",
     "output_type": "stream",
     "text": [
      "dream.scalar_transport.time.implicit (INFO) | time: 2.060000e+00\r"
     ]
    },
    {
     "name": "stderr",
     "output_type": "stream",
     "text": [
      "dream.scalar_transport.time.implicit (INFO) | time: 2.070000e+00\r"
     ]
    },
    {
     "name": "stderr",
     "output_type": "stream",
     "text": [
      "dream.scalar_transport.time.implicit (INFO) | time: 2.080000e+00\r"
     ]
    },
    {
     "name": "stderr",
     "output_type": "stream",
     "text": [
      "dream.scalar_transport.time.implicit (INFO) | time: 2.090000e+00\r"
     ]
    },
    {
     "name": "stderr",
     "output_type": "stream",
     "text": [
      "dream.scalar_transport.time.implicit (INFO) | time: 2.100000e+00\r"
     ]
    },
    {
     "name": "stderr",
     "output_type": "stream",
     "text": [
      "dream.scalar_transport.time.implicit (INFO) | time: 2.110000e+00\r"
     ]
    },
    {
     "name": "stderr",
     "output_type": "stream",
     "text": [
      "dream.scalar_transport.time.implicit (INFO) | time: 2.120000e+00\r"
     ]
    },
    {
     "name": "stderr",
     "output_type": "stream",
     "text": [
      "dream.scalar_transport.time.implicit (INFO) | time: 2.130000e+00\r"
     ]
    },
    {
     "name": "stderr",
     "output_type": "stream",
     "text": [
      "dream.scalar_transport.time.implicit (INFO) | time: 2.140000e+00\r"
     ]
    },
    {
     "name": "stderr",
     "output_type": "stream",
     "text": [
      "dream.scalar_transport.time.implicit (INFO) | time: 2.150000e+00\r"
     ]
    },
    {
     "name": "stderr",
     "output_type": "stream",
     "text": [
      "dream.scalar_transport.time.implicit (INFO) | time: 2.160000e+00\r"
     ]
    },
    {
     "name": "stderr",
     "output_type": "stream",
     "text": [
      "dream.scalar_transport.time.implicit (INFO) | time: 2.170000e+00\r"
     ]
    },
    {
     "name": "stderr",
     "output_type": "stream",
     "text": [
      "dream.scalar_transport.time.implicit (INFO) | time: 2.180000e+00\r"
     ]
    },
    {
     "name": "stderr",
     "output_type": "stream",
     "text": [
      "dream.scalar_transport.time.implicit (INFO) | time: 2.190000e+00\r"
     ]
    },
    {
     "name": "stderr",
     "output_type": "stream",
     "text": [
      "dream.scalar_transport.time.implicit (INFO) | time: 2.200000e+00\r"
     ]
    },
    {
     "name": "stderr",
     "output_type": "stream",
     "text": [
      "dream.scalar_transport.time.implicit (INFO) | time: 2.210000e+00\r"
     ]
    },
    {
     "name": "stderr",
     "output_type": "stream",
     "text": [
      "dream.scalar_transport.time.implicit (INFO) | time: 2.220000e+00\r"
     ]
    },
    {
     "name": "stderr",
     "output_type": "stream",
     "text": [
      "dream.scalar_transport.time.implicit (INFO) | time: 2.230000e+00\r"
     ]
    },
    {
     "name": "stderr",
     "output_type": "stream",
     "text": [
      "dream.scalar_transport.time.implicit (INFO) | time: 2.240000e+00\r"
     ]
    },
    {
     "name": "stderr",
     "output_type": "stream",
     "text": [
      "dream.scalar_transport.time.implicit (INFO) | time: 2.250000e+00\r"
     ]
    },
    {
     "name": "stderr",
     "output_type": "stream",
     "text": [
      "dream.scalar_transport.time.implicit (INFO) | time: 2.260000e+00\r"
     ]
    },
    {
     "name": "stderr",
     "output_type": "stream",
     "text": [
      "dream.scalar_transport.time.implicit (INFO) | time: 2.270000e+00\r"
     ]
    },
    {
     "name": "stderr",
     "output_type": "stream",
     "text": [
      "dream.scalar_transport.time.implicit (INFO) | time: 2.280000e+00\r"
     ]
    },
    {
     "name": "stderr",
     "output_type": "stream",
     "text": [
      "dream.scalar_transport.time.implicit (INFO) | time: 2.290000e+00\r"
     ]
    },
    {
     "name": "stderr",
     "output_type": "stream",
     "text": [
      "dream.scalar_transport.time.implicit (INFO) | time: 2.300000e+00\r"
     ]
    },
    {
     "name": "stderr",
     "output_type": "stream",
     "text": [
      "dream.scalar_transport.time.implicit (INFO) | time: 2.310000e+00\r"
     ]
    },
    {
     "name": "stderr",
     "output_type": "stream",
     "text": [
      "dream.scalar_transport.time.implicit (INFO) | time: 2.320000e+00\r"
     ]
    },
    {
     "name": "stderr",
     "output_type": "stream",
     "text": [
      "dream.scalar_transport.time.implicit (INFO) | time: 2.330000e+00\r"
     ]
    },
    {
     "name": "stderr",
     "output_type": "stream",
     "text": [
      "dream.scalar_transport.time.implicit (INFO) | time: 2.340000e+00\r"
     ]
    },
    {
     "name": "stderr",
     "output_type": "stream",
     "text": [
      "dream.scalar_transport.time.implicit (INFO) | time: 2.350000e+00\r"
     ]
    },
    {
     "name": "stderr",
     "output_type": "stream",
     "text": [
      "dream.scalar_transport.time.implicit (INFO) | time: 2.360000e+00\r"
     ]
    },
    {
     "name": "stderr",
     "output_type": "stream",
     "text": [
      "dream.scalar_transport.time.implicit (INFO) | time: 2.370000e+00\r"
     ]
    },
    {
     "name": "stderr",
     "output_type": "stream",
     "text": [
      "dream.scalar_transport.time.implicit (INFO) | time: 2.380000e+00\r"
     ]
    },
    {
     "name": "stderr",
     "output_type": "stream",
     "text": [
      "dream.scalar_transport.time.implicit (INFO) | time: 2.390000e+00\r"
     ]
    },
    {
     "name": "stderr",
     "output_type": "stream",
     "text": [
      "dream.scalar_transport.time.implicit (INFO) | time: 2.400000e+00\r"
     ]
    },
    {
     "name": "stderr",
     "output_type": "stream",
     "text": [
      "dream.scalar_transport.time.implicit (INFO) | time: 2.410000e+00\r"
     ]
    },
    {
     "name": "stderr",
     "output_type": "stream",
     "text": [
      "dream.scalar_transport.time.implicit (INFO) | time: 2.420000e+00\r"
     ]
    },
    {
     "name": "stderr",
     "output_type": "stream",
     "text": [
      "dream.scalar_transport.time.implicit (INFO) | time: 2.430000e+00\r"
     ]
    },
    {
     "name": "stderr",
     "output_type": "stream",
     "text": [
      "dream.scalar_transport.time.implicit (INFO) | time: 2.440000e+00\r"
     ]
    },
    {
     "name": "stderr",
     "output_type": "stream",
     "text": [
      "dream.scalar_transport.time.implicit (INFO) | time: 2.450000e+00\r"
     ]
    },
    {
     "name": "stderr",
     "output_type": "stream",
     "text": [
      "dream.scalar_transport.time.implicit (INFO) | time: 2.460000e+00\r"
     ]
    },
    {
     "name": "stderr",
     "output_type": "stream",
     "text": [
      "dream.scalar_transport.time.implicit (INFO) | time: 2.470000e+00\r"
     ]
    },
    {
     "name": "stderr",
     "output_type": "stream",
     "text": [
      "dream.scalar_transport.time.implicit (INFO) | time: 2.480000e+00\r"
     ]
    },
    {
     "name": "stderr",
     "output_type": "stream",
     "text": [
      "dream.scalar_transport.time.implicit (INFO) | time: 2.490000e+00\r"
     ]
    },
    {
     "name": "stderr",
     "output_type": "stream",
     "text": [
      "dream.scalar_transport.time.implicit (INFO) | time: 2.500000e+00\r"
     ]
    },
    {
     "name": "stderr",
     "output_type": "stream",
     "text": [
      "dream.scalar_transport.time.implicit (INFO) | time: 2.510000e+00\r"
     ]
    },
    {
     "name": "stderr",
     "output_type": "stream",
     "text": [
      "dream.scalar_transport.time.implicit (INFO) | time: 2.520000e+00\r"
     ]
    },
    {
     "name": "stderr",
     "output_type": "stream",
     "text": [
      "dream.scalar_transport.time.implicit (INFO) | time: 2.530000e+00\r"
     ]
    },
    {
     "name": "stderr",
     "output_type": "stream",
     "text": [
      "dream.scalar_transport.time.implicit (INFO) | time: 2.540000e+00\r"
     ]
    },
    {
     "name": "stderr",
     "output_type": "stream",
     "text": [
      "dream.scalar_transport.time.implicit (INFO) | time: 2.550000e+00\r"
     ]
    },
    {
     "name": "stderr",
     "output_type": "stream",
     "text": [
      "dream.scalar_transport.time.implicit (INFO) | time: 2.560000e+00\r"
     ]
    },
    {
     "name": "stderr",
     "output_type": "stream",
     "text": [
      "dream.scalar_transport.time.implicit (INFO) | time: 2.570000e+00\r"
     ]
    },
    {
     "name": "stderr",
     "output_type": "stream",
     "text": [
      "dream.scalar_transport.time.implicit (INFO) | time: 2.580000e+00\r"
     ]
    },
    {
     "name": "stderr",
     "output_type": "stream",
     "text": [
      "dream.scalar_transport.time.implicit (INFO) | time: 2.590000e+00\r"
     ]
    },
    {
     "name": "stderr",
     "output_type": "stream",
     "text": [
      "dream.scalar_transport.time.implicit (INFO) | time: 2.600000e+00\r"
     ]
    },
    {
     "name": "stderr",
     "output_type": "stream",
     "text": [
      "dream.scalar_transport.time.implicit (INFO) | time: 2.610000e+00\r"
     ]
    },
    {
     "name": "stderr",
     "output_type": "stream",
     "text": [
      "dream.scalar_transport.time.implicit (INFO) | time: 2.620000e+00\r"
     ]
    },
    {
     "name": "stderr",
     "output_type": "stream",
     "text": [
      "dream.scalar_transport.time.implicit (INFO) | time: 2.630000e+00\r"
     ]
    },
    {
     "name": "stderr",
     "output_type": "stream",
     "text": [
      "dream.scalar_transport.time.implicit (INFO) | time: 2.640000e+00\r"
     ]
    },
    {
     "name": "stderr",
     "output_type": "stream",
     "text": [
      "dream.scalar_transport.time.implicit (INFO) | time: 2.650000e+00\r"
     ]
    },
    {
     "name": "stderr",
     "output_type": "stream",
     "text": [
      "dream.scalar_transport.time.implicit (INFO) | time: 2.660000e+00\r"
     ]
    },
    {
     "name": "stderr",
     "output_type": "stream",
     "text": [
      "dream.scalar_transport.time.implicit (INFO) | time: 2.670000e+00\r"
     ]
    },
    {
     "name": "stderr",
     "output_type": "stream",
     "text": [
      "dream.scalar_transport.time.implicit (INFO) | time: 2.680000e+00\r"
     ]
    },
    {
     "name": "stderr",
     "output_type": "stream",
     "text": [
      "dream.scalar_transport.time.implicit (INFO) | time: 2.690000e+00\r"
     ]
    },
    {
     "name": "stderr",
     "output_type": "stream",
     "text": [
      "dream.scalar_transport.time.implicit (INFO) | time: 2.700000e+00\r"
     ]
    },
    {
     "name": "stderr",
     "output_type": "stream",
     "text": [
      "dream.scalar_transport.time.implicit (INFO) | time: 2.710000e+00\r"
     ]
    },
    {
     "name": "stderr",
     "output_type": "stream",
     "text": [
      "dream.scalar_transport.time.implicit (INFO) | time: 2.720000e+00\r"
     ]
    },
    {
     "name": "stderr",
     "output_type": "stream",
     "text": [
      "dream.scalar_transport.time.implicit (INFO) | time: 2.730000e+00\r"
     ]
    },
    {
     "name": "stderr",
     "output_type": "stream",
     "text": [
      "dream.scalar_transport.time.implicit (INFO) | time: 2.740000e+00\r"
     ]
    },
    {
     "name": "stderr",
     "output_type": "stream",
     "text": [
      "dream.scalar_transport.time.implicit (INFO) | time: 2.750000e+00\r"
     ]
    },
    {
     "name": "stderr",
     "output_type": "stream",
     "text": [
      "dream.scalar_transport.time.implicit (INFO) | time: 2.760000e+00\r"
     ]
    },
    {
     "name": "stderr",
     "output_type": "stream",
     "text": [
      "dream.scalar_transport.time.implicit (INFO) | time: 2.770000e+00\r"
     ]
    },
    {
     "name": "stderr",
     "output_type": "stream",
     "text": [
      "dream.scalar_transport.time.implicit (INFO) | time: 2.780000e+00\r"
     ]
    },
    {
     "name": "stderr",
     "output_type": "stream",
     "text": [
      "dream.scalar_transport.time.implicit (INFO) | time: 2.790000e+00\r"
     ]
    },
    {
     "name": "stderr",
     "output_type": "stream",
     "text": [
      "dream.scalar_transport.time.implicit (INFO) | time: 2.800000e+00\r"
     ]
    },
    {
     "name": "stderr",
     "output_type": "stream",
     "text": [
      "dream.scalar_transport.time.implicit (INFO) | time: 2.810000e+00\r"
     ]
    },
    {
     "name": "stderr",
     "output_type": "stream",
     "text": [
      "dream.scalar_transport.time.implicit (INFO) | time: 2.820000e+00\r"
     ]
    },
    {
     "name": "stderr",
     "output_type": "stream",
     "text": [
      "dream.scalar_transport.time.implicit (INFO) | time: 2.830000e+00\r"
     ]
    },
    {
     "name": "stderr",
     "output_type": "stream",
     "text": [
      "dream.scalar_transport.time.implicit (INFO) | time: 2.840000e+00\r"
     ]
    },
    {
     "name": "stderr",
     "output_type": "stream",
     "text": [
      "dream.scalar_transport.time.implicit (INFO) | time: 2.850000e+00\r"
     ]
    },
    {
     "name": "stderr",
     "output_type": "stream",
     "text": [
      "dream.scalar_transport.time.implicit (INFO) | time: 2.860000e+00\r"
     ]
    },
    {
     "name": "stderr",
     "output_type": "stream",
     "text": [
      "dream.scalar_transport.time.implicit (INFO) | time: 2.870000e+00\r"
     ]
    },
    {
     "name": "stderr",
     "output_type": "stream",
     "text": [
      "dream.scalar_transport.time.implicit (INFO) | time: 2.880000e+00\r"
     ]
    },
    {
     "name": "stderr",
     "output_type": "stream",
     "text": [
      "dream.scalar_transport.time.implicit (INFO) | time: 2.890000e+00\r"
     ]
    },
    {
     "name": "stderr",
     "output_type": "stream",
     "text": [
      "dream.scalar_transport.time.implicit (INFO) | time: 2.900000e+00\r"
     ]
    },
    {
     "name": "stderr",
     "output_type": "stream",
     "text": [
      "dream.scalar_transport.time.implicit (INFO) | time: 2.910000e+00\r"
     ]
    },
    {
     "name": "stderr",
     "output_type": "stream",
     "text": [
      "dream.scalar_transport.time.implicit (INFO) | time: 2.920000e+00\r"
     ]
    },
    {
     "name": "stderr",
     "output_type": "stream",
     "text": [
      "dream.scalar_transport.time.implicit (INFO) | time: 2.930000e+00\r"
     ]
    },
    {
     "name": "stderr",
     "output_type": "stream",
     "text": [
      "dream.scalar_transport.time.implicit (INFO) | time: 2.940000e+00\r"
     ]
    },
    {
     "name": "stderr",
     "output_type": "stream",
     "text": [
      "dream.scalar_transport.time.implicit (INFO) | time: 2.950000e+00\r"
     ]
    },
    {
     "name": "stderr",
     "output_type": "stream",
     "text": [
      "dream.scalar_transport.time.implicit (INFO) | time: 2.960000e+00\r"
     ]
    },
    {
     "name": "stderr",
     "output_type": "stream",
     "text": [
      "dream.scalar_transport.time.implicit (INFO) | time: 2.970000e+00\r"
     ]
    },
    {
     "name": "stderr",
     "output_type": "stream",
     "text": [
      "dream.scalar_transport.time.implicit (INFO) | time: 2.980000e+00\r"
     ]
    },
    {
     "name": "stderr",
     "output_type": "stream",
     "text": [
      "dream.scalar_transport.time.implicit (INFO) | time: 2.990000e+00\r"
     ]
    },
    {
     "name": "stderr",
     "output_type": "stream",
     "text": [
      "dream.scalar_transport.time.implicit (INFO) | time: 3.000000e+00\r"
     ]
    },
    {
     "name": "stderr",
     "output_type": "stream",
     "text": [
      "dream.scalar_transport.time.implicit (INFO) | time: 3.010000e+00\r"
     ]
    },
    {
     "name": "stderr",
     "output_type": "stream",
     "text": [
      "dream.scalar_transport.time.implicit (INFO) | time: 3.020000e+00\r"
     ]
    },
    {
     "name": "stderr",
     "output_type": "stream",
     "text": [
      "dream.scalar_transport.time.implicit (INFO) | time: 3.030000e+00\r"
     ]
    },
    {
     "name": "stderr",
     "output_type": "stream",
     "text": [
      "dream.scalar_transport.time.implicit (INFO) | time: 3.040000e+00\r"
     ]
    },
    {
     "name": "stderr",
     "output_type": "stream",
     "text": [
      "dream.scalar_transport.time.implicit (INFO) | time: 3.050000e+00\r"
     ]
    },
    {
     "name": "stderr",
     "output_type": "stream",
     "text": [
      "dream.scalar_transport.time.implicit (INFO) | time: 3.060000e+00\r"
     ]
    },
    {
     "name": "stderr",
     "output_type": "stream",
     "text": [
      "dream.scalar_transport.time.implicit (INFO) | time: 3.070000e+00\r"
     ]
    },
    {
     "name": "stderr",
     "output_type": "stream",
     "text": [
      "dream.scalar_transport.time.implicit (INFO) | time: 3.080000e+00\r"
     ]
    },
    {
     "name": "stderr",
     "output_type": "stream",
     "text": [
      "dream.scalar_transport.time.implicit (INFO) | time: 3.090000e+00\r"
     ]
    },
    {
     "name": "stderr",
     "output_type": "stream",
     "text": [
      "dream.scalar_transport.time.implicit (INFO) | time: 3.100000e+00\r"
     ]
    },
    {
     "name": "stderr",
     "output_type": "stream",
     "text": [
      "dream.scalar_transport.time.implicit (INFO) | time: 3.110000e+00\r"
     ]
    },
    {
     "name": "stderr",
     "output_type": "stream",
     "text": [
      "dream.scalar_transport.time.implicit (INFO) | time: 3.120000e+00\r"
     ]
    },
    {
     "name": "stderr",
     "output_type": "stream",
     "text": [
      "dream.scalar_transport.time.implicit (INFO) | time: 3.130000e+00\r"
     ]
    },
    {
     "name": "stderr",
     "output_type": "stream",
     "text": [
      "dream.scalar_transport.time.implicit (INFO) | time: 3.140000e+00\r"
     ]
    },
    {
     "name": "stderr",
     "output_type": "stream",
     "text": [
      "dream.scalar_transport.time.implicit (INFO) | time: 3.150000e+00\r"
     ]
    },
    {
     "name": "stderr",
     "output_type": "stream",
     "text": [
      "dream.scalar_transport.time.implicit (INFO) | time: 3.160000e+00\r"
     ]
    },
    {
     "name": "stderr",
     "output_type": "stream",
     "text": [
      "dream.scalar_transport.time.implicit (INFO) | time: 3.170000e+00\r"
     ]
    },
    {
     "name": "stderr",
     "output_type": "stream",
     "text": [
      "dream.scalar_transport.time.implicit (INFO) | time: 3.180000e+00\r"
     ]
    },
    {
     "name": "stderr",
     "output_type": "stream",
     "text": [
      "dream.scalar_transport.time.implicit (INFO) | time: 3.190000e+00\r"
     ]
    },
    {
     "name": "stderr",
     "output_type": "stream",
     "text": [
      "dream.scalar_transport.time.implicit (INFO) | time: 3.200000e+00\r"
     ]
    },
    {
     "name": "stderr",
     "output_type": "stream",
     "text": [
      "dream.scalar_transport.time.implicit (INFO) | time: 3.210000e+00\r"
     ]
    },
    {
     "name": "stderr",
     "output_type": "stream",
     "text": [
      "dream.scalar_transport.time.implicit (INFO) | time: 3.220000e+00\r"
     ]
    },
    {
     "name": "stderr",
     "output_type": "stream",
     "text": [
      "dream.scalar_transport.time.implicit (INFO) | time: 3.230000e+00\r"
     ]
    },
    {
     "name": "stderr",
     "output_type": "stream",
     "text": [
      "dream.scalar_transport.time.implicit (INFO) | time: 3.240000e+00\r"
     ]
    },
    {
     "name": "stderr",
     "output_type": "stream",
     "text": [
      "dream.scalar_transport.time.implicit (INFO) | time: 3.250000e+00\r"
     ]
    },
    {
     "name": "stderr",
     "output_type": "stream",
     "text": [
      "dream.scalar_transport.time.implicit (INFO) | time: 3.260000e+00\r"
     ]
    },
    {
     "name": "stderr",
     "output_type": "stream",
     "text": [
      "dream.scalar_transport.time.implicit (INFO) | time: 3.270000e+00\r"
     ]
    },
    {
     "name": "stderr",
     "output_type": "stream",
     "text": [
      "dream.scalar_transport.time.implicit (INFO) | time: 3.280000e+00\r"
     ]
    },
    {
     "name": "stderr",
     "output_type": "stream",
     "text": [
      "dream.scalar_transport.time.implicit (INFO) | time: 3.290000e+00\r"
     ]
    },
    {
     "name": "stderr",
     "output_type": "stream",
     "text": [
      "dream.scalar_transport.time.implicit (INFO) | time: 3.300000e+00\r"
     ]
    },
    {
     "name": "stderr",
     "output_type": "stream",
     "text": [
      "dream.scalar_transport.time.implicit (INFO) | time: 3.310000e+00\r"
     ]
    },
    {
     "name": "stderr",
     "output_type": "stream",
     "text": [
      "dream.scalar_transport.time.implicit (INFO) | time: 3.320000e+00\r"
     ]
    },
    {
     "name": "stderr",
     "output_type": "stream",
     "text": [
      "dream.scalar_transport.time.implicit (INFO) | time: 3.330000e+00\r"
     ]
    },
    {
     "name": "stderr",
     "output_type": "stream",
     "text": [
      "dream.scalar_transport.time.implicit (INFO) | time: 3.340000e+00\r"
     ]
    },
    {
     "name": "stderr",
     "output_type": "stream",
     "text": [
      "dream.scalar_transport.time.implicit (INFO) | time: 3.350000e+00\r"
     ]
    },
    {
     "name": "stderr",
     "output_type": "stream",
     "text": [
      "dream.scalar_transport.time.implicit (INFO) | time: 3.360000e+00\r"
     ]
    },
    {
     "name": "stderr",
     "output_type": "stream",
     "text": [
      "dream.scalar_transport.time.implicit (INFO) | time: 3.370000e+00\r"
     ]
    },
    {
     "name": "stderr",
     "output_type": "stream",
     "text": [
      "dream.scalar_transport.time.implicit (INFO) | time: 3.380000e+00\r"
     ]
    },
    {
     "name": "stderr",
     "output_type": "stream",
     "text": [
      "dream.scalar_transport.time.implicit (INFO) | time: 3.390000e+00\r"
     ]
    },
    {
     "name": "stderr",
     "output_type": "stream",
     "text": [
      "dream.scalar_transport.time.implicit (INFO) | time: 3.400000e+00\r"
     ]
    },
    {
     "name": "stderr",
     "output_type": "stream",
     "text": [
      "dream.scalar_transport.time.implicit (INFO) | time: 3.410000e+00\r"
     ]
    },
    {
     "name": "stderr",
     "output_type": "stream",
     "text": [
      "dream.scalar_transport.time.implicit (INFO) | time: 3.420000e+00\r"
     ]
    },
    {
     "name": "stderr",
     "output_type": "stream",
     "text": [
      "dream.scalar_transport.time.implicit (INFO) | time: 3.430000e+00\r"
     ]
    },
    {
     "name": "stderr",
     "output_type": "stream",
     "text": [
      "dream.scalar_transport.time.implicit (INFO) | time: 3.440000e+00\r"
     ]
    },
    {
     "name": "stderr",
     "output_type": "stream",
     "text": [
      "dream.scalar_transport.time.implicit (INFO) | time: 3.450000e+00\r"
     ]
    },
    {
     "name": "stderr",
     "output_type": "stream",
     "text": [
      "dream.scalar_transport.time.implicit (INFO) | time: 3.460000e+00\r"
     ]
    },
    {
     "name": "stderr",
     "output_type": "stream",
     "text": [
      "dream.scalar_transport.time.implicit (INFO) | time: 3.470000e+00\r"
     ]
    },
    {
     "name": "stderr",
     "output_type": "stream",
     "text": [
      "dream.scalar_transport.time.implicit (INFO) | time: 3.480000e+00\r"
     ]
    },
    {
     "name": "stderr",
     "output_type": "stream",
     "text": [
      "dream.scalar_transport.time.implicit (INFO) | time: 3.490000e+00\r"
     ]
    },
    {
     "name": "stderr",
     "output_type": "stream",
     "text": [
      "dream.scalar_transport.time.implicit (INFO) | time: 3.500000e+00\r"
     ]
    },
    {
     "name": "stderr",
     "output_type": "stream",
     "text": [
      "dream.scalar_transport.time.implicit (INFO) | time: 3.510000e+00\r"
     ]
    },
    {
     "name": "stderr",
     "output_type": "stream",
     "text": [
      "dream.scalar_transport.time.implicit (INFO) | time: 3.520000e+00\r"
     ]
    },
    {
     "name": "stderr",
     "output_type": "stream",
     "text": [
      "dream.scalar_transport.time.implicit (INFO) | time: 3.530000e+00\r"
     ]
    },
    {
     "name": "stderr",
     "output_type": "stream",
     "text": [
      "dream.scalar_transport.time.implicit (INFO) | time: 3.540000e+00\r"
     ]
    },
    {
     "name": "stderr",
     "output_type": "stream",
     "text": [
      "dream.scalar_transport.time.implicit (INFO) | time: 3.550000e+00\r"
     ]
    },
    {
     "name": "stderr",
     "output_type": "stream",
     "text": [
      "dream.scalar_transport.time.implicit (INFO) | time: 3.560000e+00\r"
     ]
    },
    {
     "name": "stderr",
     "output_type": "stream",
     "text": [
      "dream.scalar_transport.time.implicit (INFO) | time: 3.570000e+00\r"
     ]
    },
    {
     "name": "stderr",
     "output_type": "stream",
     "text": [
      "dream.scalar_transport.time.implicit (INFO) | time: 3.580000e+00\r"
     ]
    },
    {
     "name": "stderr",
     "output_type": "stream",
     "text": [
      "dream.scalar_transport.time.implicit (INFO) | time: 3.590000e+00\r"
     ]
    },
    {
     "name": "stderr",
     "output_type": "stream",
     "text": [
      "dream.scalar_transport.time.implicit (INFO) | time: 3.600000e+00\r"
     ]
    },
    {
     "name": "stderr",
     "output_type": "stream",
     "text": [
      "dream.scalar_transport.time.implicit (INFO) | time: 3.610000e+00\r"
     ]
    },
    {
     "name": "stderr",
     "output_type": "stream",
     "text": [
      "dream.scalar_transport.time.implicit (INFO) | time: 3.620000e+00\r"
     ]
    },
    {
     "name": "stderr",
     "output_type": "stream",
     "text": [
      "dream.scalar_transport.time.implicit (INFO) | time: 3.630000e+00\r"
     ]
    },
    {
     "name": "stderr",
     "output_type": "stream",
     "text": [
      "dream.scalar_transport.time.implicit (INFO) | time: 3.640000e+00\r"
     ]
    },
    {
     "name": "stderr",
     "output_type": "stream",
     "text": [
      "dream.scalar_transport.time.implicit (INFO) | time: 3.650000e+00\r"
     ]
    },
    {
     "name": "stderr",
     "output_type": "stream",
     "text": [
      "dream.scalar_transport.time.implicit (INFO) | time: 3.660000e+00\r"
     ]
    },
    {
     "name": "stderr",
     "output_type": "stream",
     "text": [
      "dream.scalar_transport.time.implicit (INFO) | time: 3.670000e+00\r"
     ]
    },
    {
     "name": "stderr",
     "output_type": "stream",
     "text": [
      "dream.scalar_transport.time.implicit (INFO) | time: 3.680000e+00\r"
     ]
    },
    {
     "name": "stderr",
     "output_type": "stream",
     "text": [
      "dream.scalar_transport.time.implicit (INFO) | time: 3.690000e+00\r"
     ]
    },
    {
     "name": "stderr",
     "output_type": "stream",
     "text": [
      "dream.scalar_transport.time.implicit (INFO) | time: 3.700000e+00\r"
     ]
    },
    {
     "name": "stderr",
     "output_type": "stream",
     "text": [
      "dream.scalar_transport.time.implicit (INFO) | time: 3.710000e+00\r"
     ]
    },
    {
     "name": "stderr",
     "output_type": "stream",
     "text": [
      "dream.scalar_transport.time.implicit (INFO) | time: 3.720000e+00\r"
     ]
    },
    {
     "name": "stderr",
     "output_type": "stream",
     "text": [
      "dream.scalar_transport.time.implicit (INFO) | time: 3.730000e+00\r"
     ]
    },
    {
     "name": "stderr",
     "output_type": "stream",
     "text": [
      "dream.scalar_transport.time.implicit (INFO) | time: 3.740000e+00\r"
     ]
    },
    {
     "name": "stderr",
     "output_type": "stream",
     "text": [
      "dream.scalar_transport.time.implicit (INFO) | time: 3.750000e+00\r"
     ]
    },
    {
     "name": "stderr",
     "output_type": "stream",
     "text": [
      "dream.scalar_transport.time.implicit (INFO) | time: 3.760000e+00\r"
     ]
    },
    {
     "name": "stderr",
     "output_type": "stream",
     "text": [
      "dream.scalar_transport.time.implicit (INFO) | time: 3.770000e+00\r"
     ]
    },
    {
     "name": "stderr",
     "output_type": "stream",
     "text": [
      "dream.scalar_transport.time.implicit (INFO) | time: 3.780000e+00\r"
     ]
    },
    {
     "name": "stderr",
     "output_type": "stream",
     "text": [
      "dream.scalar_transport.time.implicit (INFO) | time: 3.790000e+00\r"
     ]
    },
    {
     "name": "stderr",
     "output_type": "stream",
     "text": [
      "dream.scalar_transport.time.implicit (INFO) | time: 3.800000e+00\r"
     ]
    },
    {
     "name": "stderr",
     "output_type": "stream",
     "text": [
      "dream.scalar_transport.time.implicit (INFO) | time: 3.810000e+00\r"
     ]
    },
    {
     "name": "stderr",
     "output_type": "stream",
     "text": [
      "dream.scalar_transport.time.implicit (INFO) | time: 3.820000e+00\r"
     ]
    },
    {
     "name": "stderr",
     "output_type": "stream",
     "text": [
      "dream.scalar_transport.time.implicit (INFO) | time: 3.830000e+00\r"
     ]
    },
    {
     "name": "stderr",
     "output_type": "stream",
     "text": [
      "dream.scalar_transport.time.implicit (INFO) | time: 3.840000e+00\r"
     ]
    },
    {
     "name": "stderr",
     "output_type": "stream",
     "text": [
      "dream.scalar_transport.time.implicit (INFO) | time: 3.850000e+00\r"
     ]
    },
    {
     "name": "stderr",
     "output_type": "stream",
     "text": [
      "dream.scalar_transport.time.implicit (INFO) | time: 3.860000e+00\r"
     ]
    },
    {
     "name": "stderr",
     "output_type": "stream",
     "text": [
      "dream.scalar_transport.time.implicit (INFO) | time: 3.870000e+00\r"
     ]
    },
    {
     "name": "stderr",
     "output_type": "stream",
     "text": [
      "dream.scalar_transport.time.implicit (INFO) | time: 3.880000e+00\r"
     ]
    },
    {
     "name": "stderr",
     "output_type": "stream",
     "text": [
      "dream.scalar_transport.time.implicit (INFO) | time: 3.890000e+00\r"
     ]
    },
    {
     "name": "stderr",
     "output_type": "stream",
     "text": [
      "dream.scalar_transport.time.implicit (INFO) | time: 3.900000e+00\r"
     ]
    },
    {
     "name": "stderr",
     "output_type": "stream",
     "text": [
      "dream.scalar_transport.time.implicit (INFO) | time: 3.910000e+00\r"
     ]
    },
    {
     "name": "stderr",
     "output_type": "stream",
     "text": [
      "dream.scalar_transport.time.implicit (INFO) | time: 3.920000e+00\r"
     ]
    },
    {
     "name": "stderr",
     "output_type": "stream",
     "text": [
      "dream.scalar_transport.time.implicit (INFO) | time: 3.930000e+00\r"
     ]
    },
    {
     "name": "stderr",
     "output_type": "stream",
     "text": [
      "dream.scalar_transport.time.implicit (INFO) | time: 3.940000e+00\r"
     ]
    },
    {
     "name": "stderr",
     "output_type": "stream",
     "text": [
      "dream.scalar_transport.time.implicit (INFO) | time: 3.950000e+00\r"
     ]
    },
    {
     "name": "stderr",
     "output_type": "stream",
     "text": [
      "dream.scalar_transport.time.implicit (INFO) | time: 3.960000e+00\r"
     ]
    },
    {
     "name": "stderr",
     "output_type": "stream",
     "text": [
      "dream.scalar_transport.time.implicit (INFO) | time: 3.970000e+00\r"
     ]
    },
    {
     "name": "stderr",
     "output_type": "stream",
     "text": [
      "dream.scalar_transport.time.implicit (INFO) | time: 3.980000e+00\r"
     ]
    },
    {
     "name": "stderr",
     "output_type": "stream",
     "text": [
      "dream.scalar_transport.time.implicit (INFO) | time: 3.990000e+00\r"
     ]
    },
    {
     "name": "stderr",
     "output_type": "stream",
     "text": [
      "dream.scalar_transport.time.implicit (INFO) | time: 4.000000e+00\r"
     ]
    },
    {
     "name": "stderr",
     "output_type": "stream",
     "text": [
      "dream.scalar_transport.time.implicit (INFO) | time: 4.010000e+00\r"
     ]
    },
    {
     "name": "stderr",
     "output_type": "stream",
     "text": [
      "dream.scalar_transport.time.implicit (INFO) | time: 4.020000e+00\r"
     ]
    },
    {
     "name": "stderr",
     "output_type": "stream",
     "text": [
      "dream.scalar_transport.time.implicit (INFO) | time: 4.030000e+00\r"
     ]
    },
    {
     "name": "stderr",
     "output_type": "stream",
     "text": [
      "dream.scalar_transport.time.implicit (INFO) | time: 4.040000e+00\r"
     ]
    },
    {
     "name": "stderr",
     "output_type": "stream",
     "text": [
      "dream.scalar_transport.time.implicit (INFO) | time: 4.050000e+00\r"
     ]
    },
    {
     "name": "stderr",
     "output_type": "stream",
     "text": [
      "dream.scalar_transport.time.implicit (INFO) | time: 4.060000e+00\r"
     ]
    },
    {
     "name": "stderr",
     "output_type": "stream",
     "text": [
      "dream.scalar_transport.time.implicit (INFO) | time: 4.070000e+00\r"
     ]
    },
    {
     "name": "stderr",
     "output_type": "stream",
     "text": [
      "dream.scalar_transport.time.implicit (INFO) | time: 4.080000e+00\r"
     ]
    },
    {
     "name": "stderr",
     "output_type": "stream",
     "text": [
      "dream.scalar_transport.time.implicit (INFO) | time: 4.090000e+00\r"
     ]
    },
    {
     "name": "stderr",
     "output_type": "stream",
     "text": [
      "dream.scalar_transport.time.implicit (INFO) | time: 4.100000e+00\r"
     ]
    },
    {
     "name": "stderr",
     "output_type": "stream",
     "text": [
      "dream.scalar_transport.time.implicit (INFO) | time: 4.110000e+00\r"
     ]
    },
    {
     "name": "stderr",
     "output_type": "stream",
     "text": [
      "dream.scalar_transport.time.implicit (INFO) | time: 4.120000e+00\r"
     ]
    },
    {
     "name": "stderr",
     "output_type": "stream",
     "text": [
      "dream.scalar_transport.time.implicit (INFO) | time: 4.130000e+00\r"
     ]
    },
    {
     "name": "stderr",
     "output_type": "stream",
     "text": [
      "dream.scalar_transport.time.implicit (INFO) | time: 4.140000e+00\r"
     ]
    },
    {
     "name": "stderr",
     "output_type": "stream",
     "text": [
      "dream.scalar_transport.time.implicit (INFO) | time: 4.150000e+00\r"
     ]
    },
    {
     "name": "stderr",
     "output_type": "stream",
     "text": [
      "dream.scalar_transport.time.implicit (INFO) | time: 4.160000e+00\r"
     ]
    },
    {
     "name": "stderr",
     "output_type": "stream",
     "text": [
      "dream.scalar_transport.time.implicit (INFO) | time: 4.170000e+00\r"
     ]
    },
    {
     "name": "stderr",
     "output_type": "stream",
     "text": [
      "dream.scalar_transport.time.implicit (INFO) | time: 4.180000e+00\r"
     ]
    },
    {
     "name": "stderr",
     "output_type": "stream",
     "text": [
      "dream.scalar_transport.time.implicit (INFO) | time: 4.190000e+00\r"
     ]
    },
    {
     "name": "stderr",
     "output_type": "stream",
     "text": [
      "dream.scalar_transport.time.implicit (INFO) | time: 4.200000e+00\r"
     ]
    },
    {
     "name": "stderr",
     "output_type": "stream",
     "text": [
      "dream.scalar_transport.time.implicit (INFO) | time: 4.210000e+00\r"
     ]
    },
    {
     "name": "stderr",
     "output_type": "stream",
     "text": [
      "dream.scalar_transport.time.implicit (INFO) | time: 4.220000e+00\r"
     ]
    },
    {
     "name": "stderr",
     "output_type": "stream",
     "text": [
      "dream.scalar_transport.time.implicit (INFO) | time: 4.230000e+00\r"
     ]
    },
    {
     "name": "stderr",
     "output_type": "stream",
     "text": [
      "dream.scalar_transport.time.implicit (INFO) | time: 4.240000e+00\r"
     ]
    },
    {
     "name": "stderr",
     "output_type": "stream",
     "text": [
      "dream.scalar_transport.time.implicit (INFO) | time: 4.250000e+00\r"
     ]
    },
    {
     "name": "stderr",
     "output_type": "stream",
     "text": [
      "dream.scalar_transport.time.implicit (INFO) | time: 4.260000e+00\r"
     ]
    },
    {
     "name": "stderr",
     "output_type": "stream",
     "text": [
      "dream.scalar_transport.time.implicit (INFO) | time: 4.270000e+00\r"
     ]
    },
    {
     "name": "stderr",
     "output_type": "stream",
     "text": [
      "dream.scalar_transport.time.implicit (INFO) | time: 4.280000e+00\r"
     ]
    },
    {
     "name": "stderr",
     "output_type": "stream",
     "text": [
      "dream.scalar_transport.time.implicit (INFO) | time: 4.290000e+00\r"
     ]
    },
    {
     "name": "stderr",
     "output_type": "stream",
     "text": [
      "dream.scalar_transport.time.implicit (INFO) | time: 4.300000e+00\r"
     ]
    },
    {
     "name": "stderr",
     "output_type": "stream",
     "text": [
      "dream.scalar_transport.time.implicit (INFO) | time: 4.310000e+00\r"
     ]
    },
    {
     "name": "stderr",
     "output_type": "stream",
     "text": [
      "dream.scalar_transport.time.implicit (INFO) | time: 4.320000e+00\r"
     ]
    },
    {
     "name": "stderr",
     "output_type": "stream",
     "text": [
      "dream.scalar_transport.time.implicit (INFO) | time: 4.330000e+00\r"
     ]
    },
    {
     "name": "stderr",
     "output_type": "stream",
     "text": [
      "dream.scalar_transport.time.implicit (INFO) | time: 4.340000e+00\r"
     ]
    },
    {
     "name": "stderr",
     "output_type": "stream",
     "text": [
      "dream.scalar_transport.time.implicit (INFO) | time: 4.350000e+00\r"
     ]
    },
    {
     "name": "stderr",
     "output_type": "stream",
     "text": [
      "dream.scalar_transport.time.implicit (INFO) | time: 4.360000e+00\r"
     ]
    },
    {
     "name": "stderr",
     "output_type": "stream",
     "text": [
      "dream.scalar_transport.time.implicit (INFO) | time: 4.370000e+00\r"
     ]
    },
    {
     "name": "stderr",
     "output_type": "stream",
     "text": [
      "dream.scalar_transport.time.implicit (INFO) | time: 4.380000e+00\r"
     ]
    },
    {
     "name": "stderr",
     "output_type": "stream",
     "text": [
      "dream.scalar_transport.time.implicit (INFO) | time: 4.390000e+00\r"
     ]
    },
    {
     "name": "stderr",
     "output_type": "stream",
     "text": [
      "dream.scalar_transport.time.implicit (INFO) | time: 4.400000e+00\r"
     ]
    },
    {
     "name": "stderr",
     "output_type": "stream",
     "text": [
      "dream.scalar_transport.time.implicit (INFO) | time: 4.410000e+00\r"
     ]
    },
    {
     "name": "stderr",
     "output_type": "stream",
     "text": [
      "dream.scalar_transport.time.implicit (INFO) | time: 4.420000e+00\r"
     ]
    },
    {
     "name": "stderr",
     "output_type": "stream",
     "text": [
      "dream.scalar_transport.time.implicit (INFO) | time: 4.430000e+00\r"
     ]
    },
    {
     "name": "stderr",
     "output_type": "stream",
     "text": [
      "dream.scalar_transport.time.implicit (INFO) | time: 4.440000e+00\r"
     ]
    },
    {
     "name": "stderr",
     "output_type": "stream",
     "text": [
      "dream.scalar_transport.time.implicit (INFO) | time: 4.450000e+00\r"
     ]
    },
    {
     "name": "stderr",
     "output_type": "stream",
     "text": [
      "dream.scalar_transport.time.implicit (INFO) | time: 4.460000e+00\r"
     ]
    },
    {
     "name": "stderr",
     "output_type": "stream",
     "text": [
      "dream.scalar_transport.time.implicit (INFO) | time: 4.470000e+00\r"
     ]
    },
    {
     "name": "stderr",
     "output_type": "stream",
     "text": [
      "dream.scalar_transport.time.implicit (INFO) | time: 4.480000e+00\r"
     ]
    },
    {
     "name": "stderr",
     "output_type": "stream",
     "text": [
      "dream.scalar_transport.time.implicit (INFO) | time: 4.490000e+00\r"
     ]
    },
    {
     "name": "stderr",
     "output_type": "stream",
     "text": [
      "dream.scalar_transport.time.implicit (INFO) | time: 4.500000e+00\r"
     ]
    },
    {
     "name": "stderr",
     "output_type": "stream",
     "text": [
      "dream.scalar_transport.time.implicit (INFO) | time: 4.510000e+00\r"
     ]
    },
    {
     "name": "stderr",
     "output_type": "stream",
     "text": [
      "dream.scalar_transport.time.implicit (INFO) | time: 4.520000e+00\r"
     ]
    },
    {
     "name": "stderr",
     "output_type": "stream",
     "text": [
      "dream.scalar_transport.time.implicit (INFO) | time: 4.530000e+00\r"
     ]
    },
    {
     "name": "stderr",
     "output_type": "stream",
     "text": [
      "dream.scalar_transport.time.implicit (INFO) | time: 4.540000e+00\r"
     ]
    },
    {
     "name": "stderr",
     "output_type": "stream",
     "text": [
      "dream.scalar_transport.time.implicit (INFO) | time: 4.550000e+00\r"
     ]
    },
    {
     "name": "stderr",
     "output_type": "stream",
     "text": [
      "dream.scalar_transport.time.implicit (INFO) | time: 4.560000e+00\r"
     ]
    },
    {
     "name": "stderr",
     "output_type": "stream",
     "text": [
      "dream.scalar_transport.time.implicit (INFO) | time: 4.570000e+00\r"
     ]
    },
    {
     "name": "stderr",
     "output_type": "stream",
     "text": [
      "dream.scalar_transport.time.implicit (INFO) | time: 4.580000e+00\r"
     ]
    },
    {
     "name": "stderr",
     "output_type": "stream",
     "text": [
      "dream.scalar_transport.time.implicit (INFO) | time: 4.590000e+00\r"
     ]
    },
    {
     "name": "stderr",
     "output_type": "stream",
     "text": [
      "dream.scalar_transport.time.implicit (INFO) | time: 4.600000e+00\r"
     ]
    },
    {
     "name": "stderr",
     "output_type": "stream",
     "text": [
      "dream.scalar_transport.time.implicit (INFO) | time: 4.610000e+00\r"
     ]
    },
    {
     "name": "stderr",
     "output_type": "stream",
     "text": [
      "dream.scalar_transport.time.implicit (INFO) | time: 4.620000e+00\r"
     ]
    },
    {
     "name": "stderr",
     "output_type": "stream",
     "text": [
      "dream.scalar_transport.time.implicit (INFO) | time: 4.630000e+00\r"
     ]
    },
    {
     "name": "stderr",
     "output_type": "stream",
     "text": [
      "dream.scalar_transport.time.implicit (INFO) | time: 4.640000e+00\r"
     ]
    },
    {
     "name": "stderr",
     "output_type": "stream",
     "text": [
      "dream.scalar_transport.time.implicit (INFO) | time: 4.650000e+00\r"
     ]
    },
    {
     "name": "stderr",
     "output_type": "stream",
     "text": [
      "dream.scalar_transport.time.implicit (INFO) | time: 4.660000e+00\r"
     ]
    },
    {
     "name": "stderr",
     "output_type": "stream",
     "text": [
      "dream.scalar_transport.time.implicit (INFO) | time: 4.670000e+00\r"
     ]
    },
    {
     "name": "stderr",
     "output_type": "stream",
     "text": [
      "dream.scalar_transport.time.implicit (INFO) | time: 4.680000e+00\r"
     ]
    },
    {
     "name": "stderr",
     "output_type": "stream",
     "text": [
      "dream.scalar_transport.time.implicit (INFO) | time: 4.690000e+00\r"
     ]
    },
    {
     "name": "stderr",
     "output_type": "stream",
     "text": [
      "dream.scalar_transport.time.implicit (INFO) | time: 4.700000e+00\r"
     ]
    },
    {
     "name": "stderr",
     "output_type": "stream",
     "text": [
      "dream.scalar_transport.time.implicit (INFO) | time: 4.710000e+00\r"
     ]
    },
    {
     "name": "stderr",
     "output_type": "stream",
     "text": [
      "dream.scalar_transport.time.implicit (INFO) | time: 4.720000e+00\r"
     ]
    },
    {
     "name": "stderr",
     "output_type": "stream",
     "text": [
      "dream.scalar_transport.time.implicit (INFO) | time: 4.730000e+00\r"
     ]
    },
    {
     "name": "stderr",
     "output_type": "stream",
     "text": [
      "dream.scalar_transport.time.implicit (INFO) | time: 4.740000e+00\r"
     ]
    },
    {
     "name": "stderr",
     "output_type": "stream",
     "text": [
      "dream.scalar_transport.time.implicit (INFO) | time: 4.750000e+00\r"
     ]
    },
    {
     "name": "stderr",
     "output_type": "stream",
     "text": [
      "dream.scalar_transport.time.implicit (INFO) | time: 4.760000e+00\r"
     ]
    },
    {
     "name": "stderr",
     "output_type": "stream",
     "text": [
      "dream.scalar_transport.time.implicit (INFO) | time: 4.770000e+00\r"
     ]
    },
    {
     "name": "stderr",
     "output_type": "stream",
     "text": [
      "dream.scalar_transport.time.implicit (INFO) | time: 4.780000e+00\r"
     ]
    },
    {
     "name": "stderr",
     "output_type": "stream",
     "text": [
      "dream.scalar_transport.time.implicit (INFO) | time: 4.790000e+00\r"
     ]
    },
    {
     "name": "stderr",
     "output_type": "stream",
     "text": [
      "dream.scalar_transport.time.implicit (INFO) | time: 4.800000e+00\r"
     ]
    },
    {
     "name": "stderr",
     "output_type": "stream",
     "text": [
      "dream.scalar_transport.time.implicit (INFO) | time: 4.810000e+00\r"
     ]
    },
    {
     "name": "stderr",
     "output_type": "stream",
     "text": [
      "dream.scalar_transport.time.implicit (INFO) | time: 4.820000e+00\r"
     ]
    },
    {
     "name": "stderr",
     "output_type": "stream",
     "text": [
      "dream.scalar_transport.time.implicit (INFO) | time: 4.830000e+00\r"
     ]
    },
    {
     "name": "stderr",
     "output_type": "stream",
     "text": [
      "dream.scalar_transport.time.implicit (INFO) | time: 4.840000e+00\r"
     ]
    },
    {
     "name": "stderr",
     "output_type": "stream",
     "text": [
      "dream.scalar_transport.time.implicit (INFO) | time: 4.850000e+00\r"
     ]
    },
    {
     "name": "stderr",
     "output_type": "stream",
     "text": [
      "dream.scalar_transport.time.implicit (INFO) | time: 4.860000e+00\r"
     ]
    },
    {
     "name": "stderr",
     "output_type": "stream",
     "text": [
      "dream.scalar_transport.time.implicit (INFO) | time: 4.870000e+00\r"
     ]
    },
    {
     "name": "stderr",
     "output_type": "stream",
     "text": [
      "dream.scalar_transport.time.implicit (INFO) | time: 4.880000e+00\r"
     ]
    },
    {
     "name": "stderr",
     "output_type": "stream",
     "text": [
      "dream.scalar_transport.time.implicit (INFO) | time: 4.890000e+00\r"
     ]
    },
    {
     "name": "stderr",
     "output_type": "stream",
     "text": [
      "dream.scalar_transport.time.implicit (INFO) | time: 4.900000e+00\r"
     ]
    },
    {
     "name": "stderr",
     "output_type": "stream",
     "text": [
      "dream.scalar_transport.time.implicit (INFO) | time: 4.910000e+00\r"
     ]
    },
    {
     "name": "stderr",
     "output_type": "stream",
     "text": [
      "dream.scalar_transport.time.implicit (INFO) | time: 4.920000e+00\r"
     ]
    },
    {
     "name": "stderr",
     "output_type": "stream",
     "text": [
      "dream.scalar_transport.time.implicit (INFO) | time: 4.930000e+00\r"
     ]
    },
    {
     "name": "stderr",
     "output_type": "stream",
     "text": [
      "dream.scalar_transport.time.implicit (INFO) | time: 4.940000e+00\r"
     ]
    },
    {
     "name": "stderr",
     "output_type": "stream",
     "text": [
      "dream.scalar_transport.time.implicit (INFO) | time: 4.950000e+00\r"
     ]
    },
    {
     "name": "stderr",
     "output_type": "stream",
     "text": [
      "dream.scalar_transport.time.implicit (INFO) | time: 4.960000e+00\r"
     ]
    },
    {
     "name": "stderr",
     "output_type": "stream",
     "text": [
      "dream.scalar_transport.time.implicit (INFO) | time: 4.970000e+00\r"
     ]
    },
    {
     "name": "stderr",
     "output_type": "stream",
     "text": [
      "dream.scalar_transport.time.implicit (INFO) | time: 4.980000e+00\r"
     ]
    },
    {
     "name": "stderr",
     "output_type": "stream",
     "text": [
      "dream.scalar_transport.time.implicit (INFO) | time: 4.990000e+00\r"
     ]
    },
    {
     "name": "stderr",
     "output_type": "stream",
     "text": [
      "dream.scalar_transport.time.implicit (INFO) | time: 5.000000e+00\r"
     ]
    },
    {
     "name": "stderr",
     "output_type": "stream",
     "text": [
      "dream.scalar_transport.time.implicit (INFO) | time: 5.010000e+00\r"
     ]
    },
    {
     "name": "stderr",
     "output_type": "stream",
     "text": [
      "dream.scalar_transport.time.implicit (INFO) | time: 5.020000e+00\r"
     ]
    },
    {
     "name": "stderr",
     "output_type": "stream",
     "text": [
      "dream.scalar_transport.time.implicit (INFO) | time: 5.030000e+00\r"
     ]
    },
    {
     "name": "stderr",
     "output_type": "stream",
     "text": [
      "dream.scalar_transport.time.implicit (INFO) | time: 5.040000e+00\r"
     ]
    },
    {
     "name": "stderr",
     "output_type": "stream",
     "text": [
      "dream.scalar_transport.time.implicit (INFO) | time: 5.050000e+00\r"
     ]
    },
    {
     "name": "stderr",
     "output_type": "stream",
     "text": [
      "dream.scalar_transport.time.implicit (INFO) | time: 5.060000e+00\r"
     ]
    },
    {
     "name": "stderr",
     "output_type": "stream",
     "text": [
      "dream.scalar_transport.time.implicit (INFO) | time: 5.070000e+00\r"
     ]
    },
    {
     "name": "stderr",
     "output_type": "stream",
     "text": [
      "dream.scalar_transport.time.implicit (INFO) | time: 5.080000e+00\r"
     ]
    },
    {
     "name": "stderr",
     "output_type": "stream",
     "text": [
      "dream.scalar_transport.time.implicit (INFO) | time: 5.090000e+00\r"
     ]
    },
    {
     "name": "stderr",
     "output_type": "stream",
     "text": [
      "dream.scalar_transport.time.implicit (INFO) | time: 5.100000e+00\r"
     ]
    },
    {
     "name": "stderr",
     "output_type": "stream",
     "text": [
      "dream.scalar_transport.time.implicit (INFO) | time: 5.110000e+00\r"
     ]
    },
    {
     "name": "stderr",
     "output_type": "stream",
     "text": [
      "dream.scalar_transport.time.implicit (INFO) | time: 5.120000e+00\r"
     ]
    },
    {
     "name": "stderr",
     "output_type": "stream",
     "text": [
      "dream.scalar_transport.time.implicit (INFO) | time: 5.130000e+00\r"
     ]
    },
    {
     "name": "stderr",
     "output_type": "stream",
     "text": [
      "dream.scalar_transport.time.implicit (INFO) | time: 5.140000e+00\r"
     ]
    },
    {
     "name": "stderr",
     "output_type": "stream",
     "text": [
      "dream.scalar_transport.time.implicit (INFO) | time: 5.150000e+00\r"
     ]
    },
    {
     "name": "stderr",
     "output_type": "stream",
     "text": [
      "dream.scalar_transport.time.implicit (INFO) | time: 5.160000e+00\r"
     ]
    },
    {
     "name": "stderr",
     "output_type": "stream",
     "text": [
      "dream.scalar_transport.time.implicit (INFO) | time: 5.170000e+00\r"
     ]
    },
    {
     "name": "stderr",
     "output_type": "stream",
     "text": [
      "dream.scalar_transport.time.implicit (INFO) | time: 5.180000e+00\r"
     ]
    },
    {
     "name": "stderr",
     "output_type": "stream",
     "text": [
      "dream.scalar_transport.time.implicit (INFO) | time: 5.190000e+00\r"
     ]
    },
    {
     "name": "stderr",
     "output_type": "stream",
     "text": [
      "dream.scalar_transport.time.implicit (INFO) | time: 5.200000e+00\r"
     ]
    },
    {
     "name": "stderr",
     "output_type": "stream",
     "text": [
      "dream.scalar_transport.time.implicit (INFO) | time: 5.210000e+00\r"
     ]
    },
    {
     "name": "stderr",
     "output_type": "stream",
     "text": [
      "dream.scalar_transport.time.implicit (INFO) | time: 5.220000e+00\r"
     ]
    },
    {
     "name": "stderr",
     "output_type": "stream",
     "text": [
      "dream.scalar_transport.time.implicit (INFO) | time: 5.230000e+00\r"
     ]
    },
    {
     "name": "stderr",
     "output_type": "stream",
     "text": [
      "dream.scalar_transport.time.implicit (INFO) | time: 5.240000e+00\r"
     ]
    },
    {
     "name": "stderr",
     "output_type": "stream",
     "text": [
      "dream.scalar_transport.time.implicit (INFO) | time: 5.250000e+00\r"
     ]
    },
    {
     "name": "stderr",
     "output_type": "stream",
     "text": [
      "dream.scalar_transport.time.implicit (INFO) | time: 5.260000e+00\r"
     ]
    },
    {
     "name": "stderr",
     "output_type": "stream",
     "text": [
      "dream.scalar_transport.time.implicit (INFO) | time: 5.270000e+00\r"
     ]
    },
    {
     "name": "stderr",
     "output_type": "stream",
     "text": [
      "dream.scalar_transport.time.implicit (INFO) | time: 5.280000e+00\r"
     ]
    },
    {
     "name": "stderr",
     "output_type": "stream",
     "text": [
      "dream.scalar_transport.time.implicit (INFO) | time: 5.290000e+00\r"
     ]
    },
    {
     "name": "stderr",
     "output_type": "stream",
     "text": [
      "dream.scalar_transport.time.implicit (INFO) | time: 5.300000e+00\r"
     ]
    },
    {
     "name": "stderr",
     "output_type": "stream",
     "text": [
      "dream.scalar_transport.time.implicit (INFO) | time: 5.310000e+00\r"
     ]
    },
    {
     "name": "stderr",
     "output_type": "stream",
     "text": [
      "dream.scalar_transport.time.implicit (INFO) | time: 5.320000e+00\r"
     ]
    },
    {
     "name": "stderr",
     "output_type": "stream",
     "text": [
      "dream.scalar_transport.time.implicit (INFO) | time: 5.330000e+00\r"
     ]
    },
    {
     "name": "stderr",
     "output_type": "stream",
     "text": [
      "dream.scalar_transport.time.implicit (INFO) | time: 5.340000e+00\r"
     ]
    },
    {
     "name": "stderr",
     "output_type": "stream",
     "text": [
      "dream.scalar_transport.time.implicit (INFO) | time: 5.350000e+00\r"
     ]
    },
    {
     "name": "stderr",
     "output_type": "stream",
     "text": [
      "dream.scalar_transport.time.implicit (INFO) | time: 5.360000e+00\r"
     ]
    },
    {
     "name": "stderr",
     "output_type": "stream",
     "text": [
      "dream.scalar_transport.time.implicit (INFO) | time: 5.370000e+00\r"
     ]
    },
    {
     "name": "stderr",
     "output_type": "stream",
     "text": [
      "dream.scalar_transport.time.implicit (INFO) | time: 5.380000e+00\r"
     ]
    },
    {
     "name": "stderr",
     "output_type": "stream",
     "text": [
      "dream.scalar_transport.time.implicit (INFO) | time: 5.390000e+00\r"
     ]
    },
    {
     "name": "stderr",
     "output_type": "stream",
     "text": [
      "dream.scalar_transport.time.implicit (INFO) | time: 5.400000e+00\r"
     ]
    },
    {
     "name": "stderr",
     "output_type": "stream",
     "text": [
      "dream.scalar_transport.time.implicit (INFO) | time: 5.410000e+00\r"
     ]
    },
    {
     "name": "stderr",
     "output_type": "stream",
     "text": [
      "dream.scalar_transport.time.implicit (INFO) | time: 5.420000e+00\r"
     ]
    },
    {
     "name": "stderr",
     "output_type": "stream",
     "text": [
      "dream.scalar_transport.time.implicit (INFO) | time: 5.430000e+00\r"
     ]
    },
    {
     "name": "stderr",
     "output_type": "stream",
     "text": [
      "dream.scalar_transport.time.implicit (INFO) | time: 5.440000e+00\r"
     ]
    },
    {
     "name": "stderr",
     "output_type": "stream",
     "text": [
      "dream.scalar_transport.time.implicit (INFO) | time: 5.450000e+00\r"
     ]
    },
    {
     "name": "stderr",
     "output_type": "stream",
     "text": [
      "dream.scalar_transport.time.implicit (INFO) | time: 5.460000e+00\r"
     ]
    },
    {
     "name": "stderr",
     "output_type": "stream",
     "text": [
      "dream.scalar_transport.time.implicit (INFO) | time: 5.470000e+00\r"
     ]
    },
    {
     "name": "stderr",
     "output_type": "stream",
     "text": [
      "dream.scalar_transport.time.implicit (INFO) | time: 5.480000e+00\r"
     ]
    },
    {
     "name": "stderr",
     "output_type": "stream",
     "text": [
      "dream.scalar_transport.time.implicit (INFO) | time: 5.490000e+00\r"
     ]
    },
    {
     "name": "stderr",
     "output_type": "stream",
     "text": [
      "dream.scalar_transport.time.implicit (INFO) | time: 5.500000e+00\r"
     ]
    },
    {
     "name": "stderr",
     "output_type": "stream",
     "text": [
      "dream.scalar_transport.time.implicit (INFO) | time: 5.510000e+00\r"
     ]
    },
    {
     "name": "stderr",
     "output_type": "stream",
     "text": [
      "dream.scalar_transport.time.implicit (INFO) | time: 5.520000e+00\r"
     ]
    },
    {
     "name": "stderr",
     "output_type": "stream",
     "text": [
      "dream.scalar_transport.time.implicit (INFO) | time: 5.530000e+00\r"
     ]
    },
    {
     "name": "stderr",
     "output_type": "stream",
     "text": [
      "dream.scalar_transport.time.implicit (INFO) | time: 5.540000e+00\r"
     ]
    },
    {
     "name": "stderr",
     "output_type": "stream",
     "text": [
      "dream.scalar_transport.time.implicit (INFO) | time: 5.550000e+00\r"
     ]
    },
    {
     "name": "stderr",
     "output_type": "stream",
     "text": [
      "dream.scalar_transport.time.implicit (INFO) | time: 5.560000e+00\r"
     ]
    },
    {
     "name": "stderr",
     "output_type": "stream",
     "text": [
      "dream.scalar_transport.time.implicit (INFO) | time: 5.570000e+00\r"
     ]
    },
    {
     "name": "stderr",
     "output_type": "stream",
     "text": [
      "dream.scalar_transport.time.implicit (INFO) | time: 5.580000e+00\r"
     ]
    },
    {
     "name": "stderr",
     "output_type": "stream",
     "text": [
      "dream.scalar_transport.time.implicit (INFO) | time: 5.590000e+00\r"
     ]
    },
    {
     "name": "stderr",
     "output_type": "stream",
     "text": [
      "dream.scalar_transport.time.implicit (INFO) | time: 5.600000e+00\r"
     ]
    },
    {
     "name": "stderr",
     "output_type": "stream",
     "text": [
      "dream.scalar_transport.time.implicit (INFO) | time: 5.610000e+00\r"
     ]
    },
    {
     "name": "stderr",
     "output_type": "stream",
     "text": [
      "dream.scalar_transport.time.implicit (INFO) | time: 5.620000e+00\r"
     ]
    },
    {
     "name": "stderr",
     "output_type": "stream",
     "text": [
      "dream.scalar_transport.time.implicit (INFO) | time: 5.630000e+00\r"
     ]
    },
    {
     "name": "stderr",
     "output_type": "stream",
     "text": [
      "dream.scalar_transport.time.implicit (INFO) | time: 5.640000e+00\r"
     ]
    },
    {
     "name": "stderr",
     "output_type": "stream",
     "text": [
      "dream.scalar_transport.time.implicit (INFO) | time: 5.650000e+00\r"
     ]
    },
    {
     "name": "stderr",
     "output_type": "stream",
     "text": [
      "dream.scalar_transport.time.implicit (INFO) | time: 5.660000e+00\r"
     ]
    },
    {
     "name": "stderr",
     "output_type": "stream",
     "text": [
      "dream.scalar_transport.time.implicit (INFO) | time: 5.670000e+00\r"
     ]
    },
    {
     "name": "stderr",
     "output_type": "stream",
     "text": [
      "dream.scalar_transport.time.implicit (INFO) | time: 5.680000e+00\r"
     ]
    },
    {
     "name": "stderr",
     "output_type": "stream",
     "text": [
      "dream.scalar_transport.time.implicit (INFO) | time: 5.690000e+00\r"
     ]
    },
    {
     "name": "stderr",
     "output_type": "stream",
     "text": [
      "dream.scalar_transport.time.implicit (INFO) | time: 5.700000e+00\r"
     ]
    },
    {
     "name": "stderr",
     "output_type": "stream",
     "text": [
      "dream.scalar_transport.time.implicit (INFO) | time: 5.710000e+00\r"
     ]
    },
    {
     "name": "stderr",
     "output_type": "stream",
     "text": [
      "dream.scalar_transport.time.implicit (INFO) | time: 5.720000e+00\r"
     ]
    },
    {
     "name": "stderr",
     "output_type": "stream",
     "text": [
      "dream.scalar_transport.time.implicit (INFO) | time: 5.730000e+00\r"
     ]
    },
    {
     "name": "stderr",
     "output_type": "stream",
     "text": [
      "dream.scalar_transport.time.implicit (INFO) | time: 5.740000e+00\r"
     ]
    },
    {
     "name": "stderr",
     "output_type": "stream",
     "text": [
      "dream.scalar_transport.time.implicit (INFO) | time: 5.750000e+00\r"
     ]
    },
    {
     "name": "stderr",
     "output_type": "stream",
     "text": [
      "dream.scalar_transport.time.implicit (INFO) | time: 5.760000e+00\r"
     ]
    },
    {
     "name": "stderr",
     "output_type": "stream",
     "text": [
      "dream.scalar_transport.time.implicit (INFO) | time: 5.770000e+00\r"
     ]
    },
    {
     "name": "stderr",
     "output_type": "stream",
     "text": [
      "dream.scalar_transport.time.implicit (INFO) | time: 5.780000e+00\r"
     ]
    },
    {
     "name": "stderr",
     "output_type": "stream",
     "text": [
      "dream.scalar_transport.time.implicit (INFO) | time: 5.790000e+00\r"
     ]
    },
    {
     "name": "stderr",
     "output_type": "stream",
     "text": [
      "dream.scalar_transport.time.implicit (INFO) | time: 5.800000e+00\r"
     ]
    },
    {
     "name": "stderr",
     "output_type": "stream",
     "text": [
      "dream.scalar_transport.time.implicit (INFO) | time: 5.810000e+00\r"
     ]
    },
    {
     "name": "stderr",
     "output_type": "stream",
     "text": [
      "dream.scalar_transport.time.implicit (INFO) | time: 5.820000e+00\r"
     ]
    },
    {
     "name": "stderr",
     "output_type": "stream",
     "text": [
      "dream.scalar_transport.time.implicit (INFO) | time: 5.830000e+00\r"
     ]
    },
    {
     "name": "stderr",
     "output_type": "stream",
     "text": [
      "dream.scalar_transport.time.implicit (INFO) | time: 5.840000e+00\r"
     ]
    },
    {
     "name": "stderr",
     "output_type": "stream",
     "text": [
      "dream.scalar_transport.time.implicit (INFO) | time: 5.850000e+00\r"
     ]
    },
    {
     "name": "stderr",
     "output_type": "stream",
     "text": [
      "dream.scalar_transport.time.implicit (INFO) | time: 5.860000e+00\r"
     ]
    },
    {
     "name": "stderr",
     "output_type": "stream",
     "text": [
      "dream.scalar_transport.time.implicit (INFO) | time: 5.870000e+00\r"
     ]
    },
    {
     "name": "stderr",
     "output_type": "stream",
     "text": [
      "dream.scalar_transport.time.implicit (INFO) | time: 5.880000e+00\r"
     ]
    },
    {
     "name": "stderr",
     "output_type": "stream",
     "text": [
      "dream.scalar_transport.time.implicit (INFO) | time: 5.890000e+00\r"
     ]
    },
    {
     "name": "stderr",
     "output_type": "stream",
     "text": [
      "dream.scalar_transport.time.implicit (INFO) | time: 5.900000e+00\r"
     ]
    },
    {
     "name": "stderr",
     "output_type": "stream",
     "text": [
      "dream.scalar_transport.time.implicit (INFO) | time: 5.910000e+00\r"
     ]
    },
    {
     "name": "stderr",
     "output_type": "stream",
     "text": [
      "dream.scalar_transport.time.implicit (INFO) | time: 5.920000e+00\r"
     ]
    },
    {
     "name": "stderr",
     "output_type": "stream",
     "text": [
      "dream.scalar_transport.time.implicit (INFO) | time: 5.930000e+00\r"
     ]
    },
    {
     "name": "stderr",
     "output_type": "stream",
     "text": [
      "dream.scalar_transport.time.implicit (INFO) | time: 5.940000e+00\r"
     ]
    },
    {
     "name": "stderr",
     "output_type": "stream",
     "text": [
      "dream.scalar_transport.time.implicit (INFO) | time: 5.950000e+00\r"
     ]
    },
    {
     "name": "stderr",
     "output_type": "stream",
     "text": [
      "dream.scalar_transport.time.implicit (INFO) | time: 5.960000e+00\r"
     ]
    },
    {
     "name": "stderr",
     "output_type": "stream",
     "text": [
      "dream.scalar_transport.time.implicit (INFO) | time: 5.970000e+00\r"
     ]
    },
    {
     "name": "stderr",
     "output_type": "stream",
     "text": [
      "dream.scalar_transport.time.implicit (INFO) | time: 5.980000e+00\r"
     ]
    },
    {
     "name": "stderr",
     "output_type": "stream",
     "text": [
      "dream.scalar_transport.time.implicit (INFO) | time: 5.990000e+00\r"
     ]
    },
    {
     "name": "stderr",
     "output_type": "stream",
     "text": [
      "dream.scalar_transport.time.implicit (INFO) | time: 6.000000e+00\r"
     ]
    },
    {
     "name": "stderr",
     "output_type": "stream",
     "text": [
      "dream.scalar_transport.time.implicit (INFO) | time: 6.010000e+00\r"
     ]
    },
    {
     "name": "stderr",
     "output_type": "stream",
     "text": [
      "dream.scalar_transport.time.implicit (INFO) | time: 6.020000e+00\r"
     ]
    },
    {
     "name": "stderr",
     "output_type": "stream",
     "text": [
      "dream.scalar_transport.time.implicit (INFO) | time: 6.030000e+00\r"
     ]
    },
    {
     "name": "stderr",
     "output_type": "stream",
     "text": [
      "dream.scalar_transport.time.implicit (INFO) | time: 6.040000e+00\r"
     ]
    },
    {
     "name": "stderr",
     "output_type": "stream",
     "text": [
      "dream.scalar_transport.time.implicit (INFO) | time: 6.050000e+00\r"
     ]
    },
    {
     "name": "stderr",
     "output_type": "stream",
     "text": [
      "dream.scalar_transport.time.implicit (INFO) | time: 6.060000e+00\r"
     ]
    },
    {
     "name": "stderr",
     "output_type": "stream",
     "text": [
      "dream.scalar_transport.time.implicit (INFO) | time: 6.070000e+00\r"
     ]
    },
    {
     "name": "stderr",
     "output_type": "stream",
     "text": [
      "dream.scalar_transport.time.implicit (INFO) | time: 6.080000e+00\r"
     ]
    },
    {
     "name": "stderr",
     "output_type": "stream",
     "text": [
      "dream.scalar_transport.time.implicit (INFO) | time: 6.090000e+00\r"
     ]
    },
    {
     "name": "stderr",
     "output_type": "stream",
     "text": [
      "dream.scalar_transport.time.implicit (INFO) | time: 6.100000e+00\r"
     ]
    },
    {
     "name": "stderr",
     "output_type": "stream",
     "text": [
      "dream.scalar_transport.time.implicit (INFO) | time: 6.110000e+00\r"
     ]
    },
    {
     "name": "stderr",
     "output_type": "stream",
     "text": [
      "dream.scalar_transport.time.implicit (INFO) | time: 6.120000e+00\r"
     ]
    },
    {
     "name": "stderr",
     "output_type": "stream",
     "text": [
      "dream.scalar_transport.time.implicit (INFO) | time: 6.130000e+00\r"
     ]
    },
    {
     "name": "stderr",
     "output_type": "stream",
     "text": [
      "dream.scalar_transport.time.implicit (INFO) | time: 6.140000e+00\r"
     ]
    },
    {
     "name": "stderr",
     "output_type": "stream",
     "text": [
      "dream.scalar_transport.time.implicit (INFO) | time: 6.150000e+00\r"
     ]
    },
    {
     "name": "stderr",
     "output_type": "stream",
     "text": [
      "dream.scalar_transport.time.implicit (INFO) | time: 6.160000e+00\r"
     ]
    },
    {
     "name": "stderr",
     "output_type": "stream",
     "text": [
      "dream.scalar_transport.time.implicit (INFO) | time: 6.170000e+00\r"
     ]
    },
    {
     "name": "stderr",
     "output_type": "stream",
     "text": [
      "dream.scalar_transport.time.implicit (INFO) | time: 6.180000e+00\r"
     ]
    },
    {
     "name": "stderr",
     "output_type": "stream",
     "text": [
      "dream.scalar_transport.time.implicit (INFO) | time: 6.190000e+00\r"
     ]
    },
    {
     "name": "stderr",
     "output_type": "stream",
     "text": [
      "dream.scalar_transport.time.implicit (INFO) | time: 6.200000e+00\r"
     ]
    },
    {
     "name": "stderr",
     "output_type": "stream",
     "text": [
      "dream.scalar_transport.time.implicit (INFO) | time: 6.210000e+00\r"
     ]
    },
    {
     "name": "stderr",
     "output_type": "stream",
     "text": [
      "dream.scalar_transport.time.implicit (INFO) | time: 6.220000e+00\r"
     ]
    },
    {
     "name": "stderr",
     "output_type": "stream",
     "text": [
      "dream.scalar_transport.time.implicit (INFO) | time: 6.230000e+00\r"
     ]
    },
    {
     "name": "stderr",
     "output_type": "stream",
     "text": [
      "dream.scalar_transport.time.implicit (INFO) | time: 6.240000e+00\r"
     ]
    },
    {
     "name": "stderr",
     "output_type": "stream",
     "text": [
      "dream.scalar_transport.time.implicit (INFO) | time: 6.250000e+00\r"
     ]
    },
    {
     "name": "stderr",
     "output_type": "stream",
     "text": [
      "dream.scalar_transport.time.implicit (INFO) | time: 6.260000e+00\r"
     ]
    },
    {
     "name": "stderr",
     "output_type": "stream",
     "text": [
      "dream.scalar_transport.time.implicit (INFO) | time: 6.270000e+00\r"
     ]
    },
    {
     "name": "stderr",
     "output_type": "stream",
     "text": [
      "dream.scalar_transport.time.implicit (INFO) | time: 6.280000e+00\r"
     ]
    },
    {
     "name": "stderr",
     "output_type": "stream",
     "text": [
      "dream.scalar_transport.time.implicit (INFO) | time: 6.290000e+00\r"
     ]
    },
    {
     "name": "stderr",
     "output_type": "stream",
     "text": [
      "dream.scalar_transport.time.implicit (INFO) | time: 6.300000e+00\r"
     ]
    },
    {
     "name": "stderr",
     "output_type": "stream",
     "text": [
      "dream.scalar_transport.time.implicit (INFO) | time: 6.310000e+00\r"
     ]
    },
    {
     "name": "stderr",
     "output_type": "stream",
     "text": [
      "dream.scalar_transport.time.implicit (INFO) | time: 6.320000e+00\r"
     ]
    },
    {
     "name": "stderr",
     "output_type": "stream",
     "text": [
      "dream.scalar_transport.time.implicit (INFO) | time: 6.330000e+00\r"
     ]
    },
    {
     "name": "stderr",
     "output_type": "stream",
     "text": [
      "dream.scalar_transport.time.implicit (INFO) | time: 6.340000e+00\r"
     ]
    },
    {
     "name": "stderr",
     "output_type": "stream",
     "text": [
      "dream.scalar_transport.time.implicit (INFO) | time: 6.350000e+00\r"
     ]
    },
    {
     "name": "stderr",
     "output_type": "stream",
     "text": [
      "dream.scalar_transport.time.implicit (INFO) | time: 6.360000e+00\r"
     ]
    },
    {
     "name": "stderr",
     "output_type": "stream",
     "text": [
      "dream.scalar_transport.time.implicit (INFO) | time: 6.370000e+00\r"
     ]
    },
    {
     "name": "stderr",
     "output_type": "stream",
     "text": [
      "dream.scalar_transport.time.implicit (INFO) | time: 6.380000e+00\r"
     ]
    },
    {
     "name": "stderr",
     "output_type": "stream",
     "text": [
      "dream.scalar_transport.time.implicit (INFO) | time: 6.390000e+00\r"
     ]
    },
    {
     "name": "stderr",
     "output_type": "stream",
     "text": [
      "dream.scalar_transport.time.implicit (INFO) | time: 6.400000e+00\r"
     ]
    },
    {
     "name": "stderr",
     "output_type": "stream",
     "text": [
      "dream.scalar_transport.time.implicit (INFO) | time: 6.410000e+00\r"
     ]
    },
    {
     "name": "stderr",
     "output_type": "stream",
     "text": [
      "dream.scalar_transport.time.implicit (INFO) | time: 6.420000e+00\r"
     ]
    },
    {
     "name": "stderr",
     "output_type": "stream",
     "text": [
      "dream.scalar_transport.time.implicit (INFO) | time: 6.430000e+00\r"
     ]
    },
    {
     "name": "stderr",
     "output_type": "stream",
     "text": [
      "dream.scalar_transport.time.implicit (INFO) | time: 6.440000e+00\r"
     ]
    },
    {
     "name": "stderr",
     "output_type": "stream",
     "text": [
      "dream.scalar_transport.time.implicit (INFO) | time: 6.450000e+00\r"
     ]
    },
    {
     "name": "stderr",
     "output_type": "stream",
     "text": [
      "dream.scalar_transport.time.implicit (INFO) | time: 6.460000e+00\r"
     ]
    },
    {
     "name": "stderr",
     "output_type": "stream",
     "text": [
      "dream.scalar_transport.time.implicit (INFO) | time: 6.470000e+00\r"
     ]
    },
    {
     "name": "stderr",
     "output_type": "stream",
     "text": [
      "dream.scalar_transport.time.implicit (INFO) | time: 6.480000e+00\r"
     ]
    },
    {
     "name": "stderr",
     "output_type": "stream",
     "text": [
      "dream.scalar_transport.time.implicit (INFO) | time: 6.490000e+00\r"
     ]
    },
    {
     "name": "stderr",
     "output_type": "stream",
     "text": [
      "dream.scalar_transport.time.implicit (INFO) | time: 6.500000e+00\r"
     ]
    },
    {
     "name": "stderr",
     "output_type": "stream",
     "text": [
      "dream.scalar_transport.time.implicit (INFO) | time: 6.510000e+00\r"
     ]
    },
    {
     "name": "stderr",
     "output_type": "stream",
     "text": [
      "dream.scalar_transport.time.implicit (INFO) | time: 6.520000e+00\r"
     ]
    },
    {
     "name": "stderr",
     "output_type": "stream",
     "text": [
      "dream.scalar_transport.time.implicit (INFO) | time: 6.530000e+00\r"
     ]
    },
    {
     "name": "stderr",
     "output_type": "stream",
     "text": [
      "dream.scalar_transport.time.implicit (INFO) | time: 6.540000e+00\r"
     ]
    },
    {
     "name": "stderr",
     "output_type": "stream",
     "text": [
      "dream.scalar_transport.time.implicit (INFO) | time: 6.550000e+00\r"
     ]
    },
    {
     "name": "stderr",
     "output_type": "stream",
     "text": [
      "dream.scalar_transport.time.implicit (INFO) | time: 6.560000e+00\r"
     ]
    },
    {
     "name": "stderr",
     "output_type": "stream",
     "text": [
      "dream.scalar_transport.time.implicit (INFO) | time: 6.570000e+00\r"
     ]
    },
    {
     "name": "stderr",
     "output_type": "stream",
     "text": [
      "dream.scalar_transport.time.implicit (INFO) | time: 6.580000e+00\r"
     ]
    },
    {
     "name": "stderr",
     "output_type": "stream",
     "text": [
      "dream.scalar_transport.time.implicit (INFO) | time: 6.590000e+00\r"
     ]
    },
    {
     "name": "stderr",
     "output_type": "stream",
     "text": [
      "dream.scalar_transport.time.implicit (INFO) | time: 6.600000e+00\r"
     ]
    },
    {
     "name": "stderr",
     "output_type": "stream",
     "text": [
      "dream.scalar_transport.time.implicit (INFO) | time: 6.610000e+00\r"
     ]
    },
    {
     "name": "stderr",
     "output_type": "stream",
     "text": [
      "dream.scalar_transport.time.implicit (INFO) | time: 6.620000e+00\r"
     ]
    },
    {
     "name": "stderr",
     "output_type": "stream",
     "text": [
      "dream.scalar_transport.time.implicit (INFO) | time: 6.630000e+00\r"
     ]
    },
    {
     "name": "stderr",
     "output_type": "stream",
     "text": [
      "dream.scalar_transport.time.implicit (INFO) | time: 6.640000e+00\r"
     ]
    },
    {
     "name": "stderr",
     "output_type": "stream",
     "text": [
      "dream.scalar_transport.time.implicit (INFO) | time: 6.650000e+00\r"
     ]
    },
    {
     "name": "stderr",
     "output_type": "stream",
     "text": [
      "dream.scalar_transport.time.implicit (INFO) | time: 6.660000e+00\r"
     ]
    },
    {
     "name": "stderr",
     "output_type": "stream",
     "text": [
      "dream.scalar_transport.time.implicit (INFO) | time: 6.670000e+00\r"
     ]
    },
    {
     "name": "stderr",
     "output_type": "stream",
     "text": [
      "dream.scalar_transport.time.implicit (INFO) | time: 6.680000e+00\r"
     ]
    },
    {
     "name": "stderr",
     "output_type": "stream",
     "text": [
      "dream.scalar_transport.time.implicit (INFO) | time: 6.690000e+00\r"
     ]
    },
    {
     "name": "stderr",
     "output_type": "stream",
     "text": [
      "dream.scalar_transport.time.implicit (INFO) | time: 6.700000e+00\r"
     ]
    },
    {
     "name": "stderr",
     "output_type": "stream",
     "text": [
      "dream.scalar_transport.time.implicit (INFO) | time: 6.710000e+00\r"
     ]
    },
    {
     "name": "stderr",
     "output_type": "stream",
     "text": [
      "dream.scalar_transport.time.implicit (INFO) | time: 6.720000e+00\r"
     ]
    },
    {
     "name": "stderr",
     "output_type": "stream",
     "text": [
      "dream.scalar_transport.time.implicit (INFO) | time: 6.730000e+00\r"
     ]
    },
    {
     "name": "stderr",
     "output_type": "stream",
     "text": [
      "dream.scalar_transport.time.implicit (INFO) | time: 6.740000e+00\r"
     ]
    },
    {
     "name": "stderr",
     "output_type": "stream",
     "text": [
      "dream.scalar_transport.time.implicit (INFO) | time: 6.750000e+00\r"
     ]
    },
    {
     "name": "stderr",
     "output_type": "stream",
     "text": [
      "dream.scalar_transport.time.implicit (INFO) | time: 6.760000e+00\r"
     ]
    },
    {
     "name": "stderr",
     "output_type": "stream",
     "text": [
      "dream.scalar_transport.time.implicit (INFO) | time: 6.770000e+00\r"
     ]
    },
    {
     "name": "stderr",
     "output_type": "stream",
     "text": [
      "dream.scalar_transport.time.implicit (INFO) | time: 6.780000e+00\r"
     ]
    },
    {
     "name": "stderr",
     "output_type": "stream",
     "text": [
      "dream.scalar_transport.time.implicit (INFO) | time: 6.790000e+00\r"
     ]
    },
    {
     "name": "stderr",
     "output_type": "stream",
     "text": [
      "dream.scalar_transport.time.implicit (INFO) | time: 6.800000e+00\r"
     ]
    },
    {
     "name": "stderr",
     "output_type": "stream",
     "text": [
      "dream.scalar_transport.time.implicit (INFO) | time: 6.810000e+00\r"
     ]
    },
    {
     "name": "stderr",
     "output_type": "stream",
     "text": [
      "dream.scalar_transport.time.implicit (INFO) | time: 6.820000e+00\r"
     ]
    },
    {
     "name": "stderr",
     "output_type": "stream",
     "text": [
      "dream.scalar_transport.time.implicit (INFO) | time: 6.830000e+00\r"
     ]
    },
    {
     "name": "stderr",
     "output_type": "stream",
     "text": [
      "dream.scalar_transport.time.implicit (INFO) | time: 6.840000e+00\r"
     ]
    },
    {
     "name": "stderr",
     "output_type": "stream",
     "text": [
      "dream.scalar_transport.time.implicit (INFO) | time: 6.850000e+00\r"
     ]
    },
    {
     "name": "stderr",
     "output_type": "stream",
     "text": [
      "dream.scalar_transport.time.implicit (INFO) | time: 6.860000e+00\r"
     ]
    },
    {
     "name": "stderr",
     "output_type": "stream",
     "text": [
      "dream.scalar_transport.time.implicit (INFO) | time: 6.870000e+00\r"
     ]
    },
    {
     "name": "stderr",
     "output_type": "stream",
     "text": [
      "dream.scalar_transport.time.implicit (INFO) | time: 6.880000e+00\r"
     ]
    },
    {
     "name": "stderr",
     "output_type": "stream",
     "text": [
      "dream.scalar_transport.time.implicit (INFO) | time: 6.890000e+00\r"
     ]
    },
    {
     "name": "stderr",
     "output_type": "stream",
     "text": [
      "dream.scalar_transport.time.implicit (INFO) | time: 6.900000e+00\r"
     ]
    },
    {
     "name": "stderr",
     "output_type": "stream",
     "text": [
      "dream.scalar_transport.time.implicit (INFO) | time: 6.910000e+00\r"
     ]
    },
    {
     "name": "stderr",
     "output_type": "stream",
     "text": [
      "dream.scalar_transport.time.implicit (INFO) | time: 6.920000e+00\r"
     ]
    },
    {
     "name": "stderr",
     "output_type": "stream",
     "text": [
      "dream.scalar_transport.time.implicit (INFO) | time: 6.930000e+00\r"
     ]
    },
    {
     "name": "stderr",
     "output_type": "stream",
     "text": [
      "dream.scalar_transport.time.implicit (INFO) | time: 6.940000e+00\r"
     ]
    },
    {
     "name": "stderr",
     "output_type": "stream",
     "text": [
      "dream.scalar_transport.time.implicit (INFO) | time: 6.950000e+00\r"
     ]
    },
    {
     "name": "stderr",
     "output_type": "stream",
     "text": [
      "dream.scalar_transport.time.implicit (INFO) | time: 6.960000e+00\r"
     ]
    },
    {
     "name": "stderr",
     "output_type": "stream",
     "text": [
      "dream.scalar_transport.time.implicit (INFO) | time: 6.970000e+00\r"
     ]
    },
    {
     "name": "stderr",
     "output_type": "stream",
     "text": [
      "dream.scalar_transport.time.implicit (INFO) | time: 6.980000e+00\r"
     ]
    },
    {
     "name": "stderr",
     "output_type": "stream",
     "text": [
      "dream.scalar_transport.time.implicit (INFO) | time: 6.990000e+00\r"
     ]
    },
    {
     "name": "stderr",
     "output_type": "stream",
     "text": [
      "dream.scalar_transport.time.implicit (INFO) | time: 7.000000e+00\r"
     ]
    },
    {
     "name": "stderr",
     "output_type": "stream",
     "text": [
      "dream.scalar_transport.time.implicit (INFO) | time: 7.010000e+00\r"
     ]
    },
    {
     "name": "stderr",
     "output_type": "stream",
     "text": [
      "dream.scalar_transport.time.implicit (INFO) | time: 7.020000e+00\r"
     ]
    },
    {
     "name": "stderr",
     "output_type": "stream",
     "text": [
      "dream.scalar_transport.time.implicit (INFO) | time: 7.030000e+00\r"
     ]
    },
    {
     "name": "stderr",
     "output_type": "stream",
     "text": [
      "dream.scalar_transport.time.implicit (INFO) | time: 7.040000e+00\r"
     ]
    },
    {
     "name": "stderr",
     "output_type": "stream",
     "text": [
      "dream.scalar_transport.time.implicit (INFO) | time: 7.050000e+00\r"
     ]
    },
    {
     "name": "stderr",
     "output_type": "stream",
     "text": [
      "dream.scalar_transport.time.implicit (INFO) | time: 7.060000e+00\r"
     ]
    },
    {
     "name": "stderr",
     "output_type": "stream",
     "text": [
      "dream.scalar_transport.time.implicit (INFO) | time: 7.070000e+00\r"
     ]
    },
    {
     "name": "stderr",
     "output_type": "stream",
     "text": [
      "dream.scalar_transport.time.implicit (INFO) | time: 7.080000e+00\r"
     ]
    },
    {
     "name": "stderr",
     "output_type": "stream",
     "text": [
      "dream.scalar_transport.time.implicit (INFO) | time: 7.090000e+00\r"
     ]
    },
    {
     "name": "stderr",
     "output_type": "stream",
     "text": [
      "dream.scalar_transport.time.implicit (INFO) | time: 7.100000e+00\r"
     ]
    },
    {
     "name": "stderr",
     "output_type": "stream",
     "text": [
      "dream.scalar_transport.time.implicit (INFO) | time: 7.110000e+00\r"
     ]
    },
    {
     "name": "stderr",
     "output_type": "stream",
     "text": [
      "dream.scalar_transport.time.implicit (INFO) | time: 7.120000e+00\r"
     ]
    },
    {
     "name": "stderr",
     "output_type": "stream",
     "text": [
      "dream.scalar_transport.time.implicit (INFO) | time: 7.130000e+00\r"
     ]
    },
    {
     "name": "stderr",
     "output_type": "stream",
     "text": [
      "dream.scalar_transport.time.implicit (INFO) | time: 7.140000e+00\r"
     ]
    },
    {
     "name": "stderr",
     "output_type": "stream",
     "text": [
      "dream.scalar_transport.time.implicit (INFO) | time: 7.150000e+00\r"
     ]
    },
    {
     "name": "stderr",
     "output_type": "stream",
     "text": [
      "dream.scalar_transport.time.implicit (INFO) | time: 7.160000e+00\r"
     ]
    },
    {
     "name": "stderr",
     "output_type": "stream",
     "text": [
      "dream.scalar_transport.time.implicit (INFO) | time: 7.170000e+00\r"
     ]
    },
    {
     "name": "stderr",
     "output_type": "stream",
     "text": [
      "dream.scalar_transport.time.implicit (INFO) | time: 7.180000e+00\r"
     ]
    },
    {
     "name": "stderr",
     "output_type": "stream",
     "text": [
      "dream.scalar_transport.time.implicit (INFO) | time: 7.190000e+00\r"
     ]
    },
    {
     "name": "stderr",
     "output_type": "stream",
     "text": [
      "dream.scalar_transport.time.implicit (INFO) | time: 7.200000e+00\r"
     ]
    },
    {
     "name": "stderr",
     "output_type": "stream",
     "text": [
      "dream.scalar_transport.time.implicit (INFO) | time: 7.210000e+00\r"
     ]
    },
    {
     "name": "stderr",
     "output_type": "stream",
     "text": [
      "dream.scalar_transport.time.implicit (INFO) | time: 7.220000e+00\r"
     ]
    },
    {
     "name": "stderr",
     "output_type": "stream",
     "text": [
      "dream.scalar_transport.time.implicit (INFO) | time: 7.230000e+00\r"
     ]
    },
    {
     "name": "stderr",
     "output_type": "stream",
     "text": [
      "dream.scalar_transport.time.implicit (INFO) | time: 7.240000e+00\r"
     ]
    },
    {
     "name": "stderr",
     "output_type": "stream",
     "text": [
      "dream.scalar_transport.time.implicit (INFO) | time: 7.250000e+00\r"
     ]
    },
    {
     "name": "stderr",
     "output_type": "stream",
     "text": [
      "dream.scalar_transport.time.implicit (INFO) | time: 7.260000e+00\r"
     ]
    },
    {
     "name": "stderr",
     "output_type": "stream",
     "text": [
      "dream.scalar_transport.time.implicit (INFO) | time: 7.270000e+00\r"
     ]
    },
    {
     "name": "stderr",
     "output_type": "stream",
     "text": [
      "dream.scalar_transport.time.implicit (INFO) | time: 7.280000e+00\r"
     ]
    },
    {
     "name": "stderr",
     "output_type": "stream",
     "text": [
      "dream.scalar_transport.time.implicit (INFO) | time: 7.290000e+00\r"
     ]
    },
    {
     "name": "stderr",
     "output_type": "stream",
     "text": [
      "dream.scalar_transport.time.implicit (INFO) | time: 7.300000e+00\r"
     ]
    },
    {
     "name": "stderr",
     "output_type": "stream",
     "text": [
      "dream.scalar_transport.time.implicit (INFO) | time: 7.310000e+00\r"
     ]
    },
    {
     "name": "stderr",
     "output_type": "stream",
     "text": [
      "dream.scalar_transport.time.implicit (INFO) | time: 7.320000e+00\r"
     ]
    },
    {
     "name": "stderr",
     "output_type": "stream",
     "text": [
      "dream.scalar_transport.time.implicit (INFO) | time: 7.330000e+00\r"
     ]
    },
    {
     "name": "stderr",
     "output_type": "stream",
     "text": [
      "dream.scalar_transport.time.implicit (INFO) | time: 7.340000e+00\r"
     ]
    },
    {
     "name": "stderr",
     "output_type": "stream",
     "text": [
      "dream.scalar_transport.time.implicit (INFO) | time: 7.350000e+00\r"
     ]
    },
    {
     "name": "stderr",
     "output_type": "stream",
     "text": [
      "dream.scalar_transport.time.implicit (INFO) | time: 7.360000e+00\r"
     ]
    },
    {
     "name": "stderr",
     "output_type": "stream",
     "text": [
      "dream.scalar_transport.time.implicit (INFO) | time: 7.370000e+00\r"
     ]
    },
    {
     "name": "stderr",
     "output_type": "stream",
     "text": [
      "dream.scalar_transport.time.implicit (INFO) | time: 7.380000e+00\r"
     ]
    },
    {
     "name": "stderr",
     "output_type": "stream",
     "text": [
      "dream.scalar_transport.time.implicit (INFO) | time: 7.390000e+00\r"
     ]
    },
    {
     "name": "stderr",
     "output_type": "stream",
     "text": [
      "dream.scalar_transport.time.implicit (INFO) | time: 7.400000e+00\r"
     ]
    },
    {
     "name": "stderr",
     "output_type": "stream",
     "text": [
      "dream.scalar_transport.time.implicit (INFO) | time: 7.410000e+00\r"
     ]
    },
    {
     "name": "stderr",
     "output_type": "stream",
     "text": [
      "dream.scalar_transport.time.implicit (INFO) | time: 7.420000e+00\r"
     ]
    },
    {
     "name": "stderr",
     "output_type": "stream",
     "text": [
      "dream.scalar_transport.time.implicit (INFO) | time: 7.430000e+00\r"
     ]
    },
    {
     "name": "stderr",
     "output_type": "stream",
     "text": [
      "dream.scalar_transport.time.implicit (INFO) | time: 7.440000e+00\r"
     ]
    },
    {
     "name": "stderr",
     "output_type": "stream",
     "text": [
      "dream.scalar_transport.time.implicit (INFO) | time: 7.450000e+00\r"
     ]
    },
    {
     "name": "stderr",
     "output_type": "stream",
     "text": [
      "dream.scalar_transport.time.implicit (INFO) | time: 7.460000e+00\r"
     ]
    },
    {
     "name": "stderr",
     "output_type": "stream",
     "text": [
      "dream.scalar_transport.time.implicit (INFO) | time: 7.470000e+00\r"
     ]
    },
    {
     "name": "stderr",
     "output_type": "stream",
     "text": [
      "dream.scalar_transport.time.implicit (INFO) | time: 7.480000e+00\r"
     ]
    },
    {
     "name": "stderr",
     "output_type": "stream",
     "text": [
      "dream.scalar_transport.time.implicit (INFO) | time: 7.490000e+00\r"
     ]
    },
    {
     "name": "stderr",
     "output_type": "stream",
     "text": [
      "dream.scalar_transport.time.implicit (INFO) | time: 7.500000e+00\r"
     ]
    },
    {
     "name": "stderr",
     "output_type": "stream",
     "text": [
      "dream.scalar_transport.time.implicit (INFO) | time: 7.510000e+00\r"
     ]
    },
    {
     "name": "stderr",
     "output_type": "stream",
     "text": [
      "dream.scalar_transport.time.implicit (INFO) | time: 7.520000e+00\r"
     ]
    },
    {
     "name": "stderr",
     "output_type": "stream",
     "text": [
      "dream.scalar_transport.time.implicit (INFO) | time: 7.530000e+00\r"
     ]
    },
    {
     "name": "stderr",
     "output_type": "stream",
     "text": [
      "dream.scalar_transport.time.implicit (INFO) | time: 7.540000e+00\r"
     ]
    },
    {
     "name": "stderr",
     "output_type": "stream",
     "text": [
      "dream.scalar_transport.time.implicit (INFO) | time: 7.550000e+00\r"
     ]
    },
    {
     "name": "stderr",
     "output_type": "stream",
     "text": [
      "dream.scalar_transport.time.implicit (INFO) | time: 7.560000e+00\r"
     ]
    },
    {
     "name": "stderr",
     "output_type": "stream",
     "text": [
      "dream.scalar_transport.time.implicit (INFO) | time: 7.570000e+00\r"
     ]
    },
    {
     "name": "stderr",
     "output_type": "stream",
     "text": [
      "dream.scalar_transport.time.implicit (INFO) | time: 7.580000e+00\r"
     ]
    },
    {
     "name": "stderr",
     "output_type": "stream",
     "text": [
      "dream.scalar_transport.time.implicit (INFO) | time: 7.590000e+00\r"
     ]
    },
    {
     "name": "stderr",
     "output_type": "stream",
     "text": [
      "dream.scalar_transport.time.implicit (INFO) | time: 7.600000e+00\r"
     ]
    },
    {
     "name": "stderr",
     "output_type": "stream",
     "text": [
      "dream.scalar_transport.time.implicit (INFO) | time: 7.610000e+00\r"
     ]
    },
    {
     "name": "stderr",
     "output_type": "stream",
     "text": [
      "dream.scalar_transport.time.implicit (INFO) | time: 7.620000e+00\r"
     ]
    },
    {
     "name": "stderr",
     "output_type": "stream",
     "text": [
      "dream.scalar_transport.time.implicit (INFO) | time: 7.630000e+00\r"
     ]
    },
    {
     "name": "stderr",
     "output_type": "stream",
     "text": [
      "dream.scalar_transport.time.implicit (INFO) | time: 7.640000e+00\r"
     ]
    },
    {
     "name": "stderr",
     "output_type": "stream",
     "text": [
      "dream.scalar_transport.time.implicit (INFO) | time: 7.650000e+00\r"
     ]
    },
    {
     "name": "stderr",
     "output_type": "stream",
     "text": [
      "dream.scalar_transport.time.implicit (INFO) | time: 7.660000e+00\r"
     ]
    },
    {
     "name": "stderr",
     "output_type": "stream",
     "text": [
      "dream.scalar_transport.time.implicit (INFO) | time: 7.670000e+00\r"
     ]
    },
    {
     "name": "stderr",
     "output_type": "stream",
     "text": [
      "dream.scalar_transport.time.implicit (INFO) | time: 7.680000e+00\r"
     ]
    },
    {
     "name": "stderr",
     "output_type": "stream",
     "text": [
      "dream.scalar_transport.time.implicit (INFO) | time: 7.690000e+00\r"
     ]
    },
    {
     "name": "stderr",
     "output_type": "stream",
     "text": [
      "dream.scalar_transport.time.implicit (INFO) | time: 7.700000e+00\r"
     ]
    },
    {
     "name": "stderr",
     "output_type": "stream",
     "text": [
      "dream.scalar_transport.time.implicit (INFO) | time: 7.710000e+00\r"
     ]
    },
    {
     "name": "stderr",
     "output_type": "stream",
     "text": [
      "dream.scalar_transport.time.implicit (INFO) | time: 7.720000e+00\r"
     ]
    },
    {
     "name": "stderr",
     "output_type": "stream",
     "text": [
      "dream.scalar_transport.time.implicit (INFO) | time: 7.730000e+00\r"
     ]
    },
    {
     "name": "stderr",
     "output_type": "stream",
     "text": [
      "dream.scalar_transport.time.implicit (INFO) | time: 7.740000e+00\r"
     ]
    },
    {
     "name": "stderr",
     "output_type": "stream",
     "text": [
      "dream.scalar_transport.time.implicit (INFO) | time: 7.750000e+00\r"
     ]
    },
    {
     "name": "stderr",
     "output_type": "stream",
     "text": [
      "dream.scalar_transport.time.implicit (INFO) | time: 7.760000e+00\r"
     ]
    },
    {
     "name": "stderr",
     "output_type": "stream",
     "text": [
      "dream.scalar_transport.time.implicit (INFO) | time: 7.770000e+00\r"
     ]
    },
    {
     "name": "stderr",
     "output_type": "stream",
     "text": [
      "dream.scalar_transport.time.implicit (INFO) | time: 7.780000e+00\r"
     ]
    },
    {
     "name": "stderr",
     "output_type": "stream",
     "text": [
      "dream.scalar_transport.time.implicit (INFO) | time: 7.790000e+00\r"
     ]
    },
    {
     "name": "stderr",
     "output_type": "stream",
     "text": [
      "dream.scalar_transport.time.implicit (INFO) | time: 7.800000e+00\r"
     ]
    },
    {
     "name": "stderr",
     "output_type": "stream",
     "text": [
      "dream.scalar_transport.time.implicit (INFO) | time: 7.810000e+00\r"
     ]
    },
    {
     "name": "stderr",
     "output_type": "stream",
     "text": [
      "dream.scalar_transport.time.implicit (INFO) | time: 7.820000e+00\r"
     ]
    },
    {
     "name": "stderr",
     "output_type": "stream",
     "text": [
      "dream.scalar_transport.time.implicit (INFO) | time: 7.830000e+00\r"
     ]
    },
    {
     "name": "stderr",
     "output_type": "stream",
     "text": [
      "dream.scalar_transport.time.implicit (INFO) | time: 7.840000e+00\r"
     ]
    },
    {
     "name": "stderr",
     "output_type": "stream",
     "text": [
      "dream.scalar_transport.time.implicit (INFO) | time: 7.850000e+00\r"
     ]
    },
    {
     "name": "stdout",
     "output_type": "stream",
     "text": [
      "Running sdirk22(hdg)...\n"
     ]
    },
    {
     "data": {
      "application/vnd.jupyter.widget-view+json": {
       "model_id": "0aac6d2bb6994837ab44353a68ad8971",
       "version_major": 2,
       "version_minor": 0
      },
      "text/plain": [
       "WebGuiDocuWidget(value={'render_data': 'render_data_4.json', 'preview': 'preview_4.png'})"
      ]
     },
     "metadata": {},
     "output_type": "display_data"
    },
    {
     "name": "stderr",
     "output_type": "stream",
     "text": [
      "dream.scalar_transport.time.implicit (INFO) | time: 1.580000e+00\r"
     ]
    },
    {
     "name": "stderr",
     "output_type": "stream",
     "text": [
      "dream.scalar_transport.time.implicit (INFO) | time: 1.590000e+00\r"
     ]
    },
    {
     "name": "stderr",
     "output_type": "stream",
     "text": [
      "dream.scalar_transport.time.implicit (INFO) | time: 1.600000e+00\r"
     ]
    },
    {
     "name": "stderr",
     "output_type": "stream",
     "text": [
      "dream.scalar_transport.time.implicit (INFO) | time: 1.610000e+00\r"
     ]
    },
    {
     "name": "stderr",
     "output_type": "stream",
     "text": [
      "dream.scalar_transport.time.implicit (INFO) | time: 1.620000e+00\r"
     ]
    },
    {
     "name": "stderr",
     "output_type": "stream",
     "text": [
      "dream.scalar_transport.time.implicit (INFO) | time: 1.630000e+00\r"
     ]
    },
    {
     "name": "stderr",
     "output_type": "stream",
     "text": [
      "dream.scalar_transport.time.implicit (INFO) | time: 1.640000e+00\r"
     ]
    },
    {
     "name": "stderr",
     "output_type": "stream",
     "text": [
      "dream.scalar_transport.time.implicit (INFO) | time: 1.650000e+00\r"
     ]
    },
    {
     "name": "stderr",
     "output_type": "stream",
     "text": [
      "dream.scalar_transport.time.implicit (INFO) | time: 1.660000e+00\r"
     ]
    },
    {
     "name": "stderr",
     "output_type": "stream",
     "text": [
      "dream.scalar_transport.time.implicit (INFO) | time: 1.670000e+00\r"
     ]
    },
    {
     "name": "stderr",
     "output_type": "stream",
     "text": [
      "dream.scalar_transport.time.implicit (INFO) | time: 1.680000e+00\r"
     ]
    },
    {
     "name": "stderr",
     "output_type": "stream",
     "text": [
      "dream.scalar_transport.time.implicit (INFO) | time: 1.690000e+00\r"
     ]
    },
    {
     "name": "stderr",
     "output_type": "stream",
     "text": [
      "dream.scalar_transport.time.implicit (INFO) | time: 1.700000e+00\r"
     ]
    },
    {
     "name": "stderr",
     "output_type": "stream",
     "text": [
      "dream.scalar_transport.time.implicit (INFO) | time: 1.710000e+00\r"
     ]
    },
    {
     "name": "stderr",
     "output_type": "stream",
     "text": [
      "dream.scalar_transport.time.implicit (INFO) | time: 1.720000e+00\r"
     ]
    },
    {
     "name": "stderr",
     "output_type": "stream",
     "text": [
      "dream.scalar_transport.time.implicit (INFO) | time: 1.730000e+00\r"
     ]
    },
    {
     "name": "stderr",
     "output_type": "stream",
     "text": [
      "dream.scalar_transport.time.implicit (INFO) | time: 1.740000e+00\r"
     ]
    },
    {
     "name": "stderr",
     "output_type": "stream",
     "text": [
      "dream.scalar_transport.time.implicit (INFO) | time: 1.750000e+00\r"
     ]
    },
    {
     "name": "stderr",
     "output_type": "stream",
     "text": [
      "dream.scalar_transport.time.implicit (INFO) | time: 1.760000e+00\r"
     ]
    },
    {
     "name": "stderr",
     "output_type": "stream",
     "text": [
      "dream.scalar_transport.time.implicit (INFO) | time: 1.770000e+00\r"
     ]
    },
    {
     "name": "stderr",
     "output_type": "stream",
     "text": [
      "dream.scalar_transport.time.implicit (INFO) | time: 1.780000e+00\r"
     ]
    },
    {
     "name": "stderr",
     "output_type": "stream",
     "text": [
      "dream.scalar_transport.time.implicit (INFO) | time: 1.790000e+00\r"
     ]
    },
    {
     "name": "stderr",
     "output_type": "stream",
     "text": [
      "dream.scalar_transport.time.implicit (INFO) | time: 1.800000e+00\r"
     ]
    },
    {
     "name": "stderr",
     "output_type": "stream",
     "text": [
      "dream.scalar_transport.time.implicit (INFO) | time: 1.810000e+00\r"
     ]
    },
    {
     "name": "stderr",
     "output_type": "stream",
     "text": [
      "dream.scalar_transport.time.implicit (INFO) | time: 1.820000e+00\r"
     ]
    },
    {
     "name": "stderr",
     "output_type": "stream",
     "text": [
      "dream.scalar_transport.time.implicit (INFO) | time: 1.830000e+00\r"
     ]
    },
    {
     "name": "stderr",
     "output_type": "stream",
     "text": [
      "dream.scalar_transport.time.implicit (INFO) | time: 1.840000e+00\r"
     ]
    },
    {
     "name": "stderr",
     "output_type": "stream",
     "text": [
      "dream.scalar_transport.time.implicit (INFO) | time: 1.850000e+00\r"
     ]
    },
    {
     "name": "stderr",
     "output_type": "stream",
     "text": [
      "dream.scalar_transport.time.implicit (INFO) | time: 1.860000e+00\r"
     ]
    },
    {
     "name": "stderr",
     "output_type": "stream",
     "text": [
      "dream.scalar_transport.time.implicit (INFO) | time: 1.870000e+00\r"
     ]
    },
    {
     "name": "stderr",
     "output_type": "stream",
     "text": [
      "dream.scalar_transport.time.implicit (INFO) | time: 1.880000e+00\r"
     ]
    },
    {
     "name": "stderr",
     "output_type": "stream",
     "text": [
      "dream.scalar_transport.time.implicit (INFO) | time: 1.890000e+00\r"
     ]
    },
    {
     "name": "stderr",
     "output_type": "stream",
     "text": [
      "dream.scalar_transport.time.implicit (INFO) | time: 1.900000e+00\r"
     ]
    },
    {
     "name": "stderr",
     "output_type": "stream",
     "text": [
      "dream.scalar_transport.time.implicit (INFO) | time: 1.910000e+00\r"
     ]
    },
    {
     "name": "stderr",
     "output_type": "stream",
     "text": [
      "dream.scalar_transport.time.implicit (INFO) | time: 1.920000e+00\r"
     ]
    },
    {
     "name": "stderr",
     "output_type": "stream",
     "text": [
      "dream.scalar_transport.time.implicit (INFO) | time: 1.930000e+00\r"
     ]
    },
    {
     "name": "stderr",
     "output_type": "stream",
     "text": [
      "dream.scalar_transport.time.implicit (INFO) | time: 1.940000e+00\r"
     ]
    },
    {
     "name": "stderr",
     "output_type": "stream",
     "text": [
      "dream.scalar_transport.time.implicit (INFO) | time: 1.950000e+00\r"
     ]
    },
    {
     "name": "stderr",
     "output_type": "stream",
     "text": [
      "dream.scalar_transport.time.implicit (INFO) | time: 1.960000e+00\r"
     ]
    },
    {
     "name": "stderr",
     "output_type": "stream",
     "text": [
      "dream.scalar_transport.time.implicit (INFO) | time: 1.970000e+00\r"
     ]
    },
    {
     "name": "stderr",
     "output_type": "stream",
     "text": [
      "dream.scalar_transport.time.implicit (INFO) | time: 1.980000e+00\r"
     ]
    },
    {
     "name": "stderr",
     "output_type": "stream",
     "text": [
      "dream.scalar_transport.time.implicit (INFO) | time: 1.990000e+00\r"
     ]
    },
    {
     "name": "stderr",
     "output_type": "stream",
     "text": [
      "dream.scalar_transport.time.implicit (INFO) | time: 2.000000e+00\r"
     ]
    },
    {
     "name": "stderr",
     "output_type": "stream",
     "text": [
      "dream.scalar_transport.time.implicit (INFO) | time: 2.010000e+00\r"
     ]
    },
    {
     "name": "stderr",
     "output_type": "stream",
     "text": [
      "dream.scalar_transport.time.implicit (INFO) | time: 2.020000e+00\r"
     ]
    },
    {
     "name": "stderr",
     "output_type": "stream",
     "text": [
      "dream.scalar_transport.time.implicit (INFO) | time: 2.030000e+00\r"
     ]
    },
    {
     "name": "stderr",
     "output_type": "stream",
     "text": [
      "dream.scalar_transport.time.implicit (INFO) | time: 2.040000e+00\r"
     ]
    },
    {
     "name": "stderr",
     "output_type": "stream",
     "text": [
      "dream.scalar_transport.time.implicit (INFO) | time: 2.050000e+00\r"
     ]
    },
    {
     "name": "stderr",
     "output_type": "stream",
     "text": [
      "dream.scalar_transport.time.implicit (INFO) | time: 2.060000e+00\r"
     ]
    },
    {
     "name": "stderr",
     "output_type": "stream",
     "text": [
      "dream.scalar_transport.time.implicit (INFO) | time: 2.070000e+00\r"
     ]
    },
    {
     "name": "stderr",
     "output_type": "stream",
     "text": [
      "dream.scalar_transport.time.implicit (INFO) | time: 2.080000e+00\r"
     ]
    },
    {
     "name": "stderr",
     "output_type": "stream",
     "text": [
      "dream.scalar_transport.time.implicit (INFO) | time: 2.090000e+00\r"
     ]
    },
    {
     "name": "stderr",
     "output_type": "stream",
     "text": [
      "dream.scalar_transport.time.implicit (INFO) | time: 2.100000e+00\r"
     ]
    },
    {
     "name": "stderr",
     "output_type": "stream",
     "text": [
      "dream.scalar_transport.time.implicit (INFO) | time: 2.110000e+00\r"
     ]
    },
    {
     "name": "stderr",
     "output_type": "stream",
     "text": [
      "dream.scalar_transport.time.implicit (INFO) | time: 2.120000e+00\r"
     ]
    },
    {
     "name": "stderr",
     "output_type": "stream",
     "text": [
      "dream.scalar_transport.time.implicit (INFO) | time: 2.130000e+00\r"
     ]
    },
    {
     "name": "stderr",
     "output_type": "stream",
     "text": [
      "dream.scalar_transport.time.implicit (INFO) | time: 2.140000e+00\r"
     ]
    },
    {
     "name": "stderr",
     "output_type": "stream",
     "text": [
      "dream.scalar_transport.time.implicit (INFO) | time: 2.150000e+00\r"
     ]
    },
    {
     "name": "stderr",
     "output_type": "stream",
     "text": [
      "dream.scalar_transport.time.implicit (INFO) | time: 2.160000e+00\r"
     ]
    },
    {
     "name": "stderr",
     "output_type": "stream",
     "text": [
      "dream.scalar_transport.time.implicit (INFO) | time: 2.170000e+00\r"
     ]
    },
    {
     "name": "stderr",
     "output_type": "stream",
     "text": [
      "dream.scalar_transport.time.implicit (INFO) | time: 2.180000e+00\r"
     ]
    },
    {
     "name": "stderr",
     "output_type": "stream",
     "text": [
      "dream.scalar_transport.time.implicit (INFO) | time: 2.190000e+00\r"
     ]
    },
    {
     "name": "stderr",
     "output_type": "stream",
     "text": [
      "dream.scalar_transport.time.implicit (INFO) | time: 2.200000e+00\r"
     ]
    },
    {
     "name": "stderr",
     "output_type": "stream",
     "text": [
      "dream.scalar_transport.time.implicit (INFO) | time: 2.210000e+00\r"
     ]
    },
    {
     "name": "stderr",
     "output_type": "stream",
     "text": [
      "dream.scalar_transport.time.implicit (INFO) | time: 2.220000e+00\r"
     ]
    },
    {
     "name": "stderr",
     "output_type": "stream",
     "text": [
      "dream.scalar_transport.time.implicit (INFO) | time: 2.230000e+00\r"
     ]
    },
    {
     "name": "stderr",
     "output_type": "stream",
     "text": [
      "dream.scalar_transport.time.implicit (INFO) | time: 2.240000e+00\r"
     ]
    },
    {
     "name": "stderr",
     "output_type": "stream",
     "text": [
      "dream.scalar_transport.time.implicit (INFO) | time: 2.250000e+00\r"
     ]
    },
    {
     "name": "stderr",
     "output_type": "stream",
     "text": [
      "dream.scalar_transport.time.implicit (INFO) | time: 2.260000e+00\r"
     ]
    },
    {
     "name": "stderr",
     "output_type": "stream",
     "text": [
      "dream.scalar_transport.time.implicit (INFO) | time: 2.270000e+00\r"
     ]
    },
    {
     "name": "stderr",
     "output_type": "stream",
     "text": [
      "dream.scalar_transport.time.implicit (INFO) | time: 2.280000e+00\r"
     ]
    },
    {
     "name": "stderr",
     "output_type": "stream",
     "text": [
      "dream.scalar_transport.time.implicit (INFO) | time: 2.290000e+00\r"
     ]
    },
    {
     "name": "stderr",
     "output_type": "stream",
     "text": [
      "dream.scalar_transport.time.implicit (INFO) | time: 2.300000e+00\r"
     ]
    },
    {
     "name": "stderr",
     "output_type": "stream",
     "text": [
      "dream.scalar_transport.time.implicit (INFO) | time: 2.310000e+00\r"
     ]
    },
    {
     "name": "stderr",
     "output_type": "stream",
     "text": [
      "dream.scalar_transport.time.implicit (INFO) | time: 2.320000e+00\r"
     ]
    },
    {
     "name": "stderr",
     "output_type": "stream",
     "text": [
      "dream.scalar_transport.time.implicit (INFO) | time: 2.330000e+00\r"
     ]
    },
    {
     "name": "stderr",
     "output_type": "stream",
     "text": [
      "dream.scalar_transport.time.implicit (INFO) | time: 2.340000e+00\r"
     ]
    },
    {
     "name": "stderr",
     "output_type": "stream",
     "text": [
      "dream.scalar_transport.time.implicit (INFO) | time: 2.350000e+00\r"
     ]
    },
    {
     "name": "stderr",
     "output_type": "stream",
     "text": [
      "dream.scalar_transport.time.implicit (INFO) | time: 2.360000e+00\r"
     ]
    },
    {
     "name": "stderr",
     "output_type": "stream",
     "text": [
      "dream.scalar_transport.time.implicit (INFO) | time: 2.370000e+00\r"
     ]
    },
    {
     "name": "stderr",
     "output_type": "stream",
     "text": [
      "dream.scalar_transport.time.implicit (INFO) | time: 2.380000e+00\r"
     ]
    },
    {
     "name": "stderr",
     "output_type": "stream",
     "text": [
      "dream.scalar_transport.time.implicit (INFO) | time: 2.390000e+00\r"
     ]
    },
    {
     "name": "stderr",
     "output_type": "stream",
     "text": [
      "dream.scalar_transport.time.implicit (INFO) | time: 2.400000e+00\r"
     ]
    },
    {
     "name": "stderr",
     "output_type": "stream",
     "text": [
      "dream.scalar_transport.time.implicit (INFO) | time: 2.410000e+00\r"
     ]
    },
    {
     "name": "stderr",
     "output_type": "stream",
     "text": [
      "dream.scalar_transport.time.implicit (INFO) | time: 2.420000e+00\r"
     ]
    },
    {
     "name": "stderr",
     "output_type": "stream",
     "text": [
      "dream.scalar_transport.time.implicit (INFO) | time: 2.430000e+00\r"
     ]
    },
    {
     "name": "stderr",
     "output_type": "stream",
     "text": [
      "dream.scalar_transport.time.implicit (INFO) | time: 2.440000e+00\r"
     ]
    },
    {
     "name": "stderr",
     "output_type": "stream",
     "text": [
      "dream.scalar_transport.time.implicit (INFO) | time: 2.450000e+00\r"
     ]
    },
    {
     "name": "stderr",
     "output_type": "stream",
     "text": [
      "dream.scalar_transport.time.implicit (INFO) | time: 2.460000e+00\r"
     ]
    },
    {
     "name": "stderr",
     "output_type": "stream",
     "text": [
      "dream.scalar_transport.time.implicit (INFO) | time: 2.470000e+00\r"
     ]
    },
    {
     "name": "stderr",
     "output_type": "stream",
     "text": [
      "dream.scalar_transport.time.implicit (INFO) | time: 2.480000e+00\r"
     ]
    },
    {
     "name": "stderr",
     "output_type": "stream",
     "text": [
      "dream.scalar_transport.time.implicit (INFO) | time: 2.490000e+00\r"
     ]
    },
    {
     "name": "stderr",
     "output_type": "stream",
     "text": [
      "dream.scalar_transport.time.implicit (INFO) | time: 2.500000e+00\r"
     ]
    },
    {
     "name": "stderr",
     "output_type": "stream",
     "text": [
      "dream.scalar_transport.time.implicit (INFO) | time: 2.510000e+00\r"
     ]
    },
    {
     "name": "stderr",
     "output_type": "stream",
     "text": [
      "dream.scalar_transport.time.implicit (INFO) | time: 2.520000e+00\r"
     ]
    },
    {
     "name": "stderr",
     "output_type": "stream",
     "text": [
      "dream.scalar_transport.time.implicit (INFO) | time: 2.530000e+00\r"
     ]
    },
    {
     "name": "stderr",
     "output_type": "stream",
     "text": [
      "dream.scalar_transport.time.implicit (INFO) | time: 2.540000e+00\r"
     ]
    },
    {
     "name": "stderr",
     "output_type": "stream",
     "text": [
      "dream.scalar_transport.time.implicit (INFO) | time: 2.550000e+00\r"
     ]
    },
    {
     "name": "stderr",
     "output_type": "stream",
     "text": [
      "dream.scalar_transport.time.implicit (INFO) | time: 2.560000e+00\r"
     ]
    },
    {
     "name": "stderr",
     "output_type": "stream",
     "text": [
      "dream.scalar_transport.time.implicit (INFO) | time: 2.570000e+00\r"
     ]
    },
    {
     "name": "stderr",
     "output_type": "stream",
     "text": [
      "dream.scalar_transport.time.implicit (INFO) | time: 2.580000e+00\r"
     ]
    },
    {
     "name": "stderr",
     "output_type": "stream",
     "text": [
      "dream.scalar_transport.time.implicit (INFO) | time: 2.590000e+00\r"
     ]
    },
    {
     "name": "stderr",
     "output_type": "stream",
     "text": [
      "dream.scalar_transport.time.implicit (INFO) | time: 2.600000e+00\r"
     ]
    },
    {
     "name": "stderr",
     "output_type": "stream",
     "text": [
      "dream.scalar_transport.time.implicit (INFO) | time: 2.610000e+00\r"
     ]
    },
    {
     "name": "stderr",
     "output_type": "stream",
     "text": [
      "dream.scalar_transport.time.implicit (INFO) | time: 2.620000e+00\r"
     ]
    },
    {
     "name": "stderr",
     "output_type": "stream",
     "text": [
      "dream.scalar_transport.time.implicit (INFO) | time: 2.630000e+00\r"
     ]
    },
    {
     "name": "stderr",
     "output_type": "stream",
     "text": [
      "dream.scalar_transport.time.implicit (INFO) | time: 2.640000e+00\r"
     ]
    },
    {
     "name": "stderr",
     "output_type": "stream",
     "text": [
      "dream.scalar_transport.time.implicit (INFO) | time: 2.650000e+00\r"
     ]
    },
    {
     "name": "stderr",
     "output_type": "stream",
     "text": [
      "dream.scalar_transport.time.implicit (INFO) | time: 2.660000e+00\r"
     ]
    },
    {
     "name": "stderr",
     "output_type": "stream",
     "text": [
      "dream.scalar_transport.time.implicit (INFO) | time: 2.670000e+00\r"
     ]
    },
    {
     "name": "stderr",
     "output_type": "stream",
     "text": [
      "dream.scalar_transport.time.implicit (INFO) | time: 2.680000e+00\r"
     ]
    },
    {
     "name": "stderr",
     "output_type": "stream",
     "text": [
      "dream.scalar_transport.time.implicit (INFO) | time: 2.690000e+00\r"
     ]
    },
    {
     "name": "stderr",
     "output_type": "stream",
     "text": [
      "dream.scalar_transport.time.implicit (INFO) | time: 2.700000e+00\r"
     ]
    },
    {
     "name": "stderr",
     "output_type": "stream",
     "text": [
      "dream.scalar_transport.time.implicit (INFO) | time: 2.710000e+00\r"
     ]
    },
    {
     "name": "stderr",
     "output_type": "stream",
     "text": [
      "dream.scalar_transport.time.implicit (INFO) | time: 2.720000e+00\r"
     ]
    },
    {
     "name": "stderr",
     "output_type": "stream",
     "text": [
      "dream.scalar_transport.time.implicit (INFO) | time: 2.730000e+00\r"
     ]
    },
    {
     "name": "stderr",
     "output_type": "stream",
     "text": [
      "dream.scalar_transport.time.implicit (INFO) | time: 2.740000e+00\r"
     ]
    },
    {
     "name": "stderr",
     "output_type": "stream",
     "text": [
      "dream.scalar_transport.time.implicit (INFO) | time: 2.750000e+00\r"
     ]
    },
    {
     "name": "stderr",
     "output_type": "stream",
     "text": [
      "dream.scalar_transport.time.implicit (INFO) | time: 2.760000e+00\r"
     ]
    },
    {
     "name": "stderr",
     "output_type": "stream",
     "text": [
      "dream.scalar_transport.time.implicit (INFO) | time: 2.770000e+00\r"
     ]
    },
    {
     "name": "stderr",
     "output_type": "stream",
     "text": [
      "dream.scalar_transport.time.implicit (INFO) | time: 2.780000e+00\r"
     ]
    },
    {
     "name": "stderr",
     "output_type": "stream",
     "text": [
      "dream.scalar_transport.time.implicit (INFO) | time: 2.790000e+00\r"
     ]
    },
    {
     "name": "stderr",
     "output_type": "stream",
     "text": [
      "dream.scalar_transport.time.implicit (INFO) | time: 2.800000e+00\r"
     ]
    },
    {
     "name": "stderr",
     "output_type": "stream",
     "text": [
      "dream.scalar_transport.time.implicit (INFO) | time: 2.810000e+00\r"
     ]
    },
    {
     "name": "stderr",
     "output_type": "stream",
     "text": [
      "dream.scalar_transport.time.implicit (INFO) | time: 2.820000e+00\r"
     ]
    },
    {
     "name": "stderr",
     "output_type": "stream",
     "text": [
      "dream.scalar_transport.time.implicit (INFO) | time: 2.830000e+00\r"
     ]
    },
    {
     "name": "stderr",
     "output_type": "stream",
     "text": [
      "dream.scalar_transport.time.implicit (INFO) | time: 2.840000e+00\r"
     ]
    },
    {
     "name": "stderr",
     "output_type": "stream",
     "text": [
      "dream.scalar_transport.time.implicit (INFO) | time: 2.850000e+00\r"
     ]
    },
    {
     "name": "stderr",
     "output_type": "stream",
     "text": [
      "dream.scalar_transport.time.implicit (INFO) | time: 2.860000e+00\r"
     ]
    },
    {
     "name": "stderr",
     "output_type": "stream",
     "text": [
      "dream.scalar_transport.time.implicit (INFO) | time: 2.870000e+00\r"
     ]
    },
    {
     "name": "stderr",
     "output_type": "stream",
     "text": [
      "dream.scalar_transport.time.implicit (INFO) | time: 2.880000e+00\r"
     ]
    },
    {
     "name": "stderr",
     "output_type": "stream",
     "text": [
      "dream.scalar_transport.time.implicit (INFO) | time: 2.890000e+00\r"
     ]
    },
    {
     "name": "stderr",
     "output_type": "stream",
     "text": [
      "dream.scalar_transport.time.implicit (INFO) | time: 2.900000e+00\r"
     ]
    },
    {
     "name": "stderr",
     "output_type": "stream",
     "text": [
      "dream.scalar_transport.time.implicit (INFO) | time: 2.910000e+00\r"
     ]
    },
    {
     "name": "stderr",
     "output_type": "stream",
     "text": [
      "dream.scalar_transport.time.implicit (INFO) | time: 2.920000e+00\r"
     ]
    },
    {
     "name": "stderr",
     "output_type": "stream",
     "text": [
      "dream.scalar_transport.time.implicit (INFO) | time: 2.930000e+00\r"
     ]
    },
    {
     "name": "stderr",
     "output_type": "stream",
     "text": [
      "dream.scalar_transport.time.implicit (INFO) | time: 2.940000e+00\r"
     ]
    },
    {
     "name": "stderr",
     "output_type": "stream",
     "text": [
      "dream.scalar_transport.time.implicit (INFO) | time: 2.950000e+00\r"
     ]
    },
    {
     "name": "stderr",
     "output_type": "stream",
     "text": [
      "dream.scalar_transport.time.implicit (INFO) | time: 2.960000e+00\r"
     ]
    },
    {
     "name": "stderr",
     "output_type": "stream",
     "text": [
      "dream.scalar_transport.time.implicit (INFO) | time: 2.970000e+00\r"
     ]
    },
    {
     "name": "stderr",
     "output_type": "stream",
     "text": [
      "dream.scalar_transport.time.implicit (INFO) | time: 2.980000e+00\r"
     ]
    },
    {
     "name": "stderr",
     "output_type": "stream",
     "text": [
      "dream.scalar_transport.time.implicit (INFO) | time: 2.990000e+00\r"
     ]
    },
    {
     "name": "stderr",
     "output_type": "stream",
     "text": [
      "dream.scalar_transport.time.implicit (INFO) | time: 3.000000e+00\r"
     ]
    },
    {
     "name": "stderr",
     "output_type": "stream",
     "text": [
      "dream.scalar_transport.time.implicit (INFO) | time: 3.010000e+00\r"
     ]
    },
    {
     "name": "stderr",
     "output_type": "stream",
     "text": [
      "dream.scalar_transport.time.implicit (INFO) | time: 3.020000e+00\r"
     ]
    },
    {
     "name": "stderr",
     "output_type": "stream",
     "text": [
      "dream.scalar_transport.time.implicit (INFO) | time: 3.030000e+00\r"
     ]
    },
    {
     "name": "stderr",
     "output_type": "stream",
     "text": [
      "dream.scalar_transport.time.implicit (INFO) | time: 3.040000e+00\r"
     ]
    },
    {
     "name": "stderr",
     "output_type": "stream",
     "text": [
      "dream.scalar_transport.time.implicit (INFO) | time: 3.050000e+00\r"
     ]
    },
    {
     "name": "stderr",
     "output_type": "stream",
     "text": [
      "dream.scalar_transport.time.implicit (INFO) | time: 3.060000e+00\r"
     ]
    },
    {
     "name": "stderr",
     "output_type": "stream",
     "text": [
      "dream.scalar_transport.time.implicit (INFO) | time: 3.070000e+00\r"
     ]
    },
    {
     "name": "stderr",
     "output_type": "stream",
     "text": [
      "dream.scalar_transport.time.implicit (INFO) | time: 3.080000e+00\r"
     ]
    },
    {
     "name": "stderr",
     "output_type": "stream",
     "text": [
      "dream.scalar_transport.time.implicit (INFO) | time: 3.090000e+00\r"
     ]
    },
    {
     "name": "stderr",
     "output_type": "stream",
     "text": [
      "dream.scalar_transport.time.implicit (INFO) | time: 3.100000e+00\r"
     ]
    },
    {
     "name": "stderr",
     "output_type": "stream",
     "text": [
      "dream.scalar_transport.time.implicit (INFO) | time: 3.110000e+00\r"
     ]
    },
    {
     "name": "stderr",
     "output_type": "stream",
     "text": [
      "dream.scalar_transport.time.implicit (INFO) | time: 3.120000e+00\r"
     ]
    },
    {
     "name": "stderr",
     "output_type": "stream",
     "text": [
      "dream.scalar_transport.time.implicit (INFO) | time: 3.130000e+00\r"
     ]
    },
    {
     "name": "stderr",
     "output_type": "stream",
     "text": [
      "dream.scalar_transport.time.implicit (INFO) | time: 3.140000e+00\r"
     ]
    },
    {
     "name": "stderr",
     "output_type": "stream",
     "text": [
      "dream.scalar_transport.time.implicit (INFO) | time: 3.150000e+00\r"
     ]
    },
    {
     "name": "stderr",
     "output_type": "stream",
     "text": [
      "dream.scalar_transport.time.implicit (INFO) | time: 3.160000e+00\r"
     ]
    },
    {
     "name": "stderr",
     "output_type": "stream",
     "text": [
      "dream.scalar_transport.time.implicit (INFO) | time: 3.170000e+00\r"
     ]
    },
    {
     "name": "stderr",
     "output_type": "stream",
     "text": [
      "dream.scalar_transport.time.implicit (INFO) | time: 3.180000e+00\r"
     ]
    },
    {
     "name": "stderr",
     "output_type": "stream",
     "text": [
      "dream.scalar_transport.time.implicit (INFO) | time: 3.190000e+00\r"
     ]
    },
    {
     "name": "stderr",
     "output_type": "stream",
     "text": [
      "dream.scalar_transport.time.implicit (INFO) | time: 3.200000e+00\r"
     ]
    },
    {
     "name": "stderr",
     "output_type": "stream",
     "text": [
      "dream.scalar_transport.time.implicit (INFO) | time: 3.210000e+00\r"
     ]
    },
    {
     "name": "stderr",
     "output_type": "stream",
     "text": [
      "dream.scalar_transport.time.implicit (INFO) | time: 3.220000e+00\r"
     ]
    },
    {
     "name": "stderr",
     "output_type": "stream",
     "text": [
      "dream.scalar_transport.time.implicit (INFO) | time: 3.230000e+00\r"
     ]
    },
    {
     "name": "stderr",
     "output_type": "stream",
     "text": [
      "dream.scalar_transport.time.implicit (INFO) | time: 3.240000e+00\r"
     ]
    },
    {
     "name": "stderr",
     "output_type": "stream",
     "text": [
      "dream.scalar_transport.time.implicit (INFO) | time: 3.250000e+00\r"
     ]
    },
    {
     "name": "stderr",
     "output_type": "stream",
     "text": [
      "dream.scalar_transport.time.implicit (INFO) | time: 3.260000e+00\r"
     ]
    },
    {
     "name": "stderr",
     "output_type": "stream",
     "text": [
      "dream.scalar_transport.time.implicit (INFO) | time: 3.270000e+00\r"
     ]
    },
    {
     "name": "stderr",
     "output_type": "stream",
     "text": [
      "dream.scalar_transport.time.implicit (INFO) | time: 3.280000e+00\r"
     ]
    },
    {
     "name": "stderr",
     "output_type": "stream",
     "text": [
      "dream.scalar_transport.time.implicit (INFO) | time: 3.290000e+00\r"
     ]
    },
    {
     "name": "stderr",
     "output_type": "stream",
     "text": [
      "dream.scalar_transport.time.implicit (INFO) | time: 3.300000e+00\r"
     ]
    },
    {
     "name": "stderr",
     "output_type": "stream",
     "text": [
      "dream.scalar_transport.time.implicit (INFO) | time: 3.310000e+00\r"
     ]
    },
    {
     "name": "stderr",
     "output_type": "stream",
     "text": [
      "dream.scalar_transport.time.implicit (INFO) | time: 3.320000e+00\r"
     ]
    },
    {
     "name": "stderr",
     "output_type": "stream",
     "text": [
      "dream.scalar_transport.time.implicit (INFO) | time: 3.330000e+00\r"
     ]
    },
    {
     "name": "stderr",
     "output_type": "stream",
     "text": [
      "dream.scalar_transport.time.implicit (INFO) | time: 3.340000e+00\r"
     ]
    },
    {
     "name": "stderr",
     "output_type": "stream",
     "text": [
      "dream.scalar_transport.time.implicit (INFO) | time: 3.350000e+00\r"
     ]
    },
    {
     "name": "stderr",
     "output_type": "stream",
     "text": [
      "dream.scalar_transport.time.implicit (INFO) | time: 3.360000e+00\r"
     ]
    },
    {
     "name": "stderr",
     "output_type": "stream",
     "text": [
      "dream.scalar_transport.time.implicit (INFO) | time: 3.370000e+00\r"
     ]
    },
    {
     "name": "stderr",
     "output_type": "stream",
     "text": [
      "dream.scalar_transport.time.implicit (INFO) | time: 3.380000e+00\r"
     ]
    },
    {
     "name": "stderr",
     "output_type": "stream",
     "text": [
      "dream.scalar_transport.time.implicit (INFO) | time: 3.390000e+00\r"
     ]
    },
    {
     "name": "stderr",
     "output_type": "stream",
     "text": [
      "dream.scalar_transport.time.implicit (INFO) | time: 3.400000e+00\r"
     ]
    },
    {
     "name": "stderr",
     "output_type": "stream",
     "text": [
      "dream.scalar_transport.time.implicit (INFO) | time: 3.410000e+00\r"
     ]
    },
    {
     "name": "stderr",
     "output_type": "stream",
     "text": [
      "dream.scalar_transport.time.implicit (INFO) | time: 3.420000e+00\r"
     ]
    },
    {
     "name": "stderr",
     "output_type": "stream",
     "text": [
      "dream.scalar_transport.time.implicit (INFO) | time: 3.430000e+00\r"
     ]
    },
    {
     "name": "stderr",
     "output_type": "stream",
     "text": [
      "dream.scalar_transport.time.implicit (INFO) | time: 3.440000e+00\r"
     ]
    },
    {
     "name": "stderr",
     "output_type": "stream",
     "text": [
      "dream.scalar_transport.time.implicit (INFO) | time: 3.450000e+00\r"
     ]
    },
    {
     "name": "stderr",
     "output_type": "stream",
     "text": [
      "dream.scalar_transport.time.implicit (INFO) | time: 3.460000e+00\r"
     ]
    },
    {
     "name": "stderr",
     "output_type": "stream",
     "text": [
      "dream.scalar_transport.time.implicit (INFO) | time: 3.470000e+00\r"
     ]
    },
    {
     "name": "stderr",
     "output_type": "stream",
     "text": [
      "dream.scalar_transport.time.implicit (INFO) | time: 3.480000e+00\r"
     ]
    },
    {
     "name": "stderr",
     "output_type": "stream",
     "text": [
      "dream.scalar_transport.time.implicit (INFO) | time: 3.490000e+00\r"
     ]
    },
    {
     "name": "stderr",
     "output_type": "stream",
     "text": [
      "dream.scalar_transport.time.implicit (INFO) | time: 3.500000e+00\r"
     ]
    },
    {
     "name": "stderr",
     "output_type": "stream",
     "text": [
      "dream.scalar_transport.time.implicit (INFO) | time: 3.510000e+00\r"
     ]
    },
    {
     "name": "stderr",
     "output_type": "stream",
     "text": [
      "dream.scalar_transport.time.implicit (INFO) | time: 3.520000e+00\r"
     ]
    },
    {
     "name": "stderr",
     "output_type": "stream",
     "text": [
      "dream.scalar_transport.time.implicit (INFO) | time: 3.530000e+00\r"
     ]
    },
    {
     "name": "stderr",
     "output_type": "stream",
     "text": [
      "dream.scalar_transport.time.implicit (INFO) | time: 3.540000e+00\r"
     ]
    },
    {
     "name": "stderr",
     "output_type": "stream",
     "text": [
      "dream.scalar_transport.time.implicit (INFO) | time: 3.550000e+00\r"
     ]
    },
    {
     "name": "stderr",
     "output_type": "stream",
     "text": [
      "dream.scalar_transport.time.implicit (INFO) | time: 3.560000e+00\r"
     ]
    },
    {
     "name": "stderr",
     "output_type": "stream",
     "text": [
      "dream.scalar_transport.time.implicit (INFO) | time: 3.570000e+00\r"
     ]
    },
    {
     "name": "stderr",
     "output_type": "stream",
     "text": [
      "dream.scalar_transport.time.implicit (INFO) | time: 3.580000e+00\r"
     ]
    },
    {
     "name": "stderr",
     "output_type": "stream",
     "text": [
      "dream.scalar_transport.time.implicit (INFO) | time: 3.590000e+00\r"
     ]
    },
    {
     "name": "stderr",
     "output_type": "stream",
     "text": [
      "dream.scalar_transport.time.implicit (INFO) | time: 3.600000e+00\r"
     ]
    },
    {
     "name": "stderr",
     "output_type": "stream",
     "text": [
      "dream.scalar_transport.time.implicit (INFO) | time: 3.610000e+00\r"
     ]
    },
    {
     "name": "stderr",
     "output_type": "stream",
     "text": [
      "dream.scalar_transport.time.implicit (INFO) | time: 3.620000e+00\r"
     ]
    },
    {
     "name": "stderr",
     "output_type": "stream",
     "text": [
      "dream.scalar_transport.time.implicit (INFO) | time: 3.630000e+00\r"
     ]
    },
    {
     "name": "stderr",
     "output_type": "stream",
     "text": [
      "dream.scalar_transport.time.implicit (INFO) | time: 3.640000e+00\r"
     ]
    },
    {
     "name": "stderr",
     "output_type": "stream",
     "text": [
      "dream.scalar_transport.time.implicit (INFO) | time: 3.650000e+00\r"
     ]
    },
    {
     "name": "stderr",
     "output_type": "stream",
     "text": [
      "dream.scalar_transport.time.implicit (INFO) | time: 3.660000e+00\r"
     ]
    },
    {
     "name": "stderr",
     "output_type": "stream",
     "text": [
      "dream.scalar_transport.time.implicit (INFO) | time: 3.670000e+00\r"
     ]
    },
    {
     "name": "stderr",
     "output_type": "stream",
     "text": [
      "dream.scalar_transport.time.implicit (INFO) | time: 3.680000e+00\r"
     ]
    },
    {
     "name": "stderr",
     "output_type": "stream",
     "text": [
      "dream.scalar_transport.time.implicit (INFO) | time: 3.690000e+00\r"
     ]
    },
    {
     "name": "stderr",
     "output_type": "stream",
     "text": [
      "dream.scalar_transport.time.implicit (INFO) | time: 3.700000e+00\r"
     ]
    },
    {
     "name": "stderr",
     "output_type": "stream",
     "text": [
      "dream.scalar_transport.time.implicit (INFO) | time: 3.710000e+00\r"
     ]
    },
    {
     "name": "stderr",
     "output_type": "stream",
     "text": [
      "dream.scalar_transport.time.implicit (INFO) | time: 3.720000e+00\r"
     ]
    },
    {
     "name": "stderr",
     "output_type": "stream",
     "text": [
      "dream.scalar_transport.time.implicit (INFO) | time: 3.730000e+00\r"
     ]
    },
    {
     "name": "stderr",
     "output_type": "stream",
     "text": [
      "dream.scalar_transport.time.implicit (INFO) | time: 3.740000e+00\r"
     ]
    },
    {
     "name": "stderr",
     "output_type": "stream",
     "text": [
      "dream.scalar_transport.time.implicit (INFO) | time: 3.750000e+00\r"
     ]
    },
    {
     "name": "stderr",
     "output_type": "stream",
     "text": [
      "dream.scalar_transport.time.implicit (INFO) | time: 3.760000e+00\r"
     ]
    },
    {
     "name": "stderr",
     "output_type": "stream",
     "text": [
      "dream.scalar_transport.time.implicit (INFO) | time: 3.770000e+00\r"
     ]
    },
    {
     "name": "stderr",
     "output_type": "stream",
     "text": [
      "dream.scalar_transport.time.implicit (INFO) | time: 3.780000e+00\r"
     ]
    },
    {
     "name": "stderr",
     "output_type": "stream",
     "text": [
      "dream.scalar_transport.time.implicit (INFO) | time: 3.790000e+00\r"
     ]
    },
    {
     "name": "stderr",
     "output_type": "stream",
     "text": [
      "dream.scalar_transport.time.implicit (INFO) | time: 3.800000e+00\r"
     ]
    },
    {
     "name": "stderr",
     "output_type": "stream",
     "text": [
      "dream.scalar_transport.time.implicit (INFO) | time: 3.810000e+00\r"
     ]
    },
    {
     "name": "stderr",
     "output_type": "stream",
     "text": [
      "dream.scalar_transport.time.implicit (INFO) | time: 3.820000e+00\r"
     ]
    },
    {
     "name": "stderr",
     "output_type": "stream",
     "text": [
      "dream.scalar_transport.time.implicit (INFO) | time: 3.830000e+00\r"
     ]
    },
    {
     "name": "stderr",
     "output_type": "stream",
     "text": [
      "dream.scalar_transport.time.implicit (INFO) | time: 3.840000e+00\r"
     ]
    },
    {
     "name": "stderr",
     "output_type": "stream",
     "text": [
      "dream.scalar_transport.time.implicit (INFO) | time: 3.850000e+00\r"
     ]
    },
    {
     "name": "stderr",
     "output_type": "stream",
     "text": [
      "dream.scalar_transport.time.implicit (INFO) | time: 3.860000e+00\r"
     ]
    },
    {
     "name": "stderr",
     "output_type": "stream",
     "text": [
      "dream.scalar_transport.time.implicit (INFO) | time: 3.870000e+00\r"
     ]
    },
    {
     "name": "stderr",
     "output_type": "stream",
     "text": [
      "dream.scalar_transport.time.implicit (INFO) | time: 3.880000e+00\r"
     ]
    },
    {
     "name": "stderr",
     "output_type": "stream",
     "text": [
      "dream.scalar_transport.time.implicit (INFO) | time: 3.890000e+00\r"
     ]
    },
    {
     "name": "stderr",
     "output_type": "stream",
     "text": [
      "dream.scalar_transport.time.implicit (INFO) | time: 3.900000e+00\r"
     ]
    },
    {
     "name": "stderr",
     "output_type": "stream",
     "text": [
      "dream.scalar_transport.time.implicit (INFO) | time: 3.910000e+00\r"
     ]
    },
    {
     "name": "stderr",
     "output_type": "stream",
     "text": [
      "dream.scalar_transport.time.implicit (INFO) | time: 3.920000e+00\r"
     ]
    },
    {
     "name": "stderr",
     "output_type": "stream",
     "text": [
      "dream.scalar_transport.time.implicit (INFO) | time: 3.930000e+00\r"
     ]
    },
    {
     "name": "stderr",
     "output_type": "stream",
     "text": [
      "dream.scalar_transport.time.implicit (INFO) | time: 3.940000e+00\r"
     ]
    },
    {
     "name": "stderr",
     "output_type": "stream",
     "text": [
      "dream.scalar_transport.time.implicit (INFO) | time: 3.950000e+00\r"
     ]
    },
    {
     "name": "stderr",
     "output_type": "stream",
     "text": [
      "dream.scalar_transport.time.implicit (INFO) | time: 3.960000e+00\r"
     ]
    },
    {
     "name": "stderr",
     "output_type": "stream",
     "text": [
      "dream.scalar_transport.time.implicit (INFO) | time: 3.970000e+00\r"
     ]
    },
    {
     "name": "stderr",
     "output_type": "stream",
     "text": [
      "dream.scalar_transport.time.implicit (INFO) | time: 3.980000e+00\r"
     ]
    },
    {
     "name": "stderr",
     "output_type": "stream",
     "text": [
      "dream.scalar_transport.time.implicit (INFO) | time: 3.990000e+00\r"
     ]
    },
    {
     "name": "stderr",
     "output_type": "stream",
     "text": [
      "dream.scalar_transport.time.implicit (INFO) | time: 4.000000e+00\r"
     ]
    },
    {
     "name": "stderr",
     "output_type": "stream",
     "text": [
      "dream.scalar_transport.time.implicit (INFO) | time: 4.010000e+00\r"
     ]
    },
    {
     "name": "stderr",
     "output_type": "stream",
     "text": [
      "dream.scalar_transport.time.implicit (INFO) | time: 4.020000e+00\r"
     ]
    },
    {
     "name": "stderr",
     "output_type": "stream",
     "text": [
      "dream.scalar_transport.time.implicit (INFO) | time: 4.030000e+00\r"
     ]
    },
    {
     "name": "stderr",
     "output_type": "stream",
     "text": [
      "dream.scalar_transport.time.implicit (INFO) | time: 4.040000e+00\r"
     ]
    },
    {
     "name": "stderr",
     "output_type": "stream",
     "text": [
      "dream.scalar_transport.time.implicit (INFO) | time: 4.050000e+00\r"
     ]
    },
    {
     "name": "stderr",
     "output_type": "stream",
     "text": [
      "dream.scalar_transport.time.implicit (INFO) | time: 4.060000e+00\r"
     ]
    },
    {
     "name": "stderr",
     "output_type": "stream",
     "text": [
      "dream.scalar_transport.time.implicit (INFO) | time: 4.070000e+00\r"
     ]
    },
    {
     "name": "stderr",
     "output_type": "stream",
     "text": [
      "dream.scalar_transport.time.implicit (INFO) | time: 4.080000e+00\r"
     ]
    },
    {
     "name": "stderr",
     "output_type": "stream",
     "text": [
      "dream.scalar_transport.time.implicit (INFO) | time: 4.090000e+00\r"
     ]
    },
    {
     "name": "stderr",
     "output_type": "stream",
     "text": [
      "dream.scalar_transport.time.implicit (INFO) | time: 4.100000e+00\r"
     ]
    },
    {
     "name": "stderr",
     "output_type": "stream",
     "text": [
      "dream.scalar_transport.time.implicit (INFO) | time: 4.110000e+00\r"
     ]
    },
    {
     "name": "stderr",
     "output_type": "stream",
     "text": [
      "dream.scalar_transport.time.implicit (INFO) | time: 4.120000e+00\r"
     ]
    },
    {
     "name": "stderr",
     "output_type": "stream",
     "text": [
      "dream.scalar_transport.time.implicit (INFO) | time: 4.130000e+00\r"
     ]
    },
    {
     "name": "stderr",
     "output_type": "stream",
     "text": [
      "dream.scalar_transport.time.implicit (INFO) | time: 4.140000e+00\r"
     ]
    },
    {
     "name": "stderr",
     "output_type": "stream",
     "text": [
      "dream.scalar_transport.time.implicit (INFO) | time: 4.150000e+00\r"
     ]
    },
    {
     "name": "stderr",
     "output_type": "stream",
     "text": [
      "dream.scalar_transport.time.implicit (INFO) | time: 4.160000e+00\r"
     ]
    },
    {
     "name": "stderr",
     "output_type": "stream",
     "text": [
      "dream.scalar_transport.time.implicit (INFO) | time: 4.170000e+00\r"
     ]
    },
    {
     "name": "stderr",
     "output_type": "stream",
     "text": [
      "dream.scalar_transport.time.implicit (INFO) | time: 4.180000e+00\r"
     ]
    },
    {
     "name": "stderr",
     "output_type": "stream",
     "text": [
      "dream.scalar_transport.time.implicit (INFO) | time: 4.190000e+00\r"
     ]
    },
    {
     "name": "stderr",
     "output_type": "stream",
     "text": [
      "dream.scalar_transport.time.implicit (INFO) | time: 4.200000e+00\r"
     ]
    },
    {
     "name": "stderr",
     "output_type": "stream",
     "text": [
      "dream.scalar_transport.time.implicit (INFO) | time: 4.210000e+00\r"
     ]
    },
    {
     "name": "stderr",
     "output_type": "stream",
     "text": [
      "dream.scalar_transport.time.implicit (INFO) | time: 4.220000e+00\r"
     ]
    },
    {
     "name": "stderr",
     "output_type": "stream",
     "text": [
      "dream.scalar_transport.time.implicit (INFO) | time: 4.230000e+00\r"
     ]
    },
    {
     "name": "stderr",
     "output_type": "stream",
     "text": [
      "dream.scalar_transport.time.implicit (INFO) | time: 4.240000e+00\r"
     ]
    },
    {
     "name": "stderr",
     "output_type": "stream",
     "text": [
      "dream.scalar_transport.time.implicit (INFO) | time: 4.250000e+00\r"
     ]
    },
    {
     "name": "stderr",
     "output_type": "stream",
     "text": [
      "dream.scalar_transport.time.implicit (INFO) | time: 4.260000e+00\r"
     ]
    },
    {
     "name": "stderr",
     "output_type": "stream",
     "text": [
      "dream.scalar_transport.time.implicit (INFO) | time: 4.270000e+00\r"
     ]
    },
    {
     "name": "stderr",
     "output_type": "stream",
     "text": [
      "dream.scalar_transport.time.implicit (INFO) | time: 4.280000e+00\r"
     ]
    },
    {
     "name": "stderr",
     "output_type": "stream",
     "text": [
      "dream.scalar_transport.time.implicit (INFO) | time: 4.290000e+00\r"
     ]
    },
    {
     "name": "stderr",
     "output_type": "stream",
     "text": [
      "dream.scalar_transport.time.implicit (INFO) | time: 4.300000e+00\r"
     ]
    },
    {
     "name": "stderr",
     "output_type": "stream",
     "text": [
      "dream.scalar_transport.time.implicit (INFO) | time: 4.310000e+00\r"
     ]
    },
    {
     "name": "stderr",
     "output_type": "stream",
     "text": [
      "dream.scalar_transport.time.implicit (INFO) | time: 4.320000e+00\r"
     ]
    },
    {
     "name": "stderr",
     "output_type": "stream",
     "text": [
      "dream.scalar_transport.time.implicit (INFO) | time: 4.330000e+00\r"
     ]
    },
    {
     "name": "stderr",
     "output_type": "stream",
     "text": [
      "dream.scalar_transport.time.implicit (INFO) | time: 4.340000e+00\r"
     ]
    },
    {
     "name": "stderr",
     "output_type": "stream",
     "text": [
      "dream.scalar_transport.time.implicit (INFO) | time: 4.350000e+00\r"
     ]
    },
    {
     "name": "stderr",
     "output_type": "stream",
     "text": [
      "dream.scalar_transport.time.implicit (INFO) | time: 4.360000e+00\r"
     ]
    },
    {
     "name": "stderr",
     "output_type": "stream",
     "text": [
      "dream.scalar_transport.time.implicit (INFO) | time: 4.370000e+00\r"
     ]
    },
    {
     "name": "stderr",
     "output_type": "stream",
     "text": [
      "dream.scalar_transport.time.implicit (INFO) | time: 4.380000e+00\r"
     ]
    },
    {
     "name": "stderr",
     "output_type": "stream",
     "text": [
      "dream.scalar_transport.time.implicit (INFO) | time: 4.390000e+00\r"
     ]
    },
    {
     "name": "stderr",
     "output_type": "stream",
     "text": [
      "dream.scalar_transport.time.implicit (INFO) | time: 4.400000e+00\r"
     ]
    },
    {
     "name": "stderr",
     "output_type": "stream",
     "text": [
      "dream.scalar_transport.time.implicit (INFO) | time: 4.410000e+00\r"
     ]
    },
    {
     "name": "stderr",
     "output_type": "stream",
     "text": [
      "dream.scalar_transport.time.implicit (INFO) | time: 4.420000e+00\r"
     ]
    },
    {
     "name": "stderr",
     "output_type": "stream",
     "text": [
      "dream.scalar_transport.time.implicit (INFO) | time: 4.430000e+00\r"
     ]
    },
    {
     "name": "stderr",
     "output_type": "stream",
     "text": [
      "dream.scalar_transport.time.implicit (INFO) | time: 4.440000e+00\r"
     ]
    },
    {
     "name": "stderr",
     "output_type": "stream",
     "text": [
      "dream.scalar_transport.time.implicit (INFO) | time: 4.450000e+00\r"
     ]
    },
    {
     "name": "stderr",
     "output_type": "stream",
     "text": [
      "dream.scalar_transport.time.implicit (INFO) | time: 4.460000e+00\r"
     ]
    },
    {
     "name": "stderr",
     "output_type": "stream",
     "text": [
      "dream.scalar_transport.time.implicit (INFO) | time: 4.470000e+00\r"
     ]
    },
    {
     "name": "stderr",
     "output_type": "stream",
     "text": [
      "dream.scalar_transport.time.implicit (INFO) | time: 4.480000e+00\r"
     ]
    },
    {
     "name": "stderr",
     "output_type": "stream",
     "text": [
      "dream.scalar_transport.time.implicit (INFO) | time: 4.490000e+00\r"
     ]
    },
    {
     "name": "stderr",
     "output_type": "stream",
     "text": [
      "dream.scalar_transport.time.implicit (INFO) | time: 4.500000e+00\r"
     ]
    },
    {
     "name": "stderr",
     "output_type": "stream",
     "text": [
      "dream.scalar_transport.time.implicit (INFO) | time: 4.510000e+00\r"
     ]
    },
    {
     "name": "stderr",
     "output_type": "stream",
     "text": [
      "dream.scalar_transport.time.implicit (INFO) | time: 4.520000e+00\r"
     ]
    },
    {
     "name": "stderr",
     "output_type": "stream",
     "text": [
      "dream.scalar_transport.time.implicit (INFO) | time: 4.530000e+00\r"
     ]
    },
    {
     "name": "stderr",
     "output_type": "stream",
     "text": [
      "dream.scalar_transport.time.implicit (INFO) | time: 4.540000e+00\r"
     ]
    },
    {
     "name": "stderr",
     "output_type": "stream",
     "text": [
      "dream.scalar_transport.time.implicit (INFO) | time: 4.550000e+00\r"
     ]
    },
    {
     "name": "stderr",
     "output_type": "stream",
     "text": [
      "dream.scalar_transport.time.implicit (INFO) | time: 4.560000e+00\r"
     ]
    },
    {
     "name": "stderr",
     "output_type": "stream",
     "text": [
      "dream.scalar_transport.time.implicit (INFO) | time: 4.570000e+00\r"
     ]
    },
    {
     "name": "stderr",
     "output_type": "stream",
     "text": [
      "dream.scalar_transport.time.implicit (INFO) | time: 4.580000e+00\r"
     ]
    },
    {
     "name": "stderr",
     "output_type": "stream",
     "text": [
      "dream.scalar_transport.time.implicit (INFO) | time: 4.590000e+00\r"
     ]
    },
    {
     "name": "stderr",
     "output_type": "stream",
     "text": [
      "dream.scalar_transport.time.implicit (INFO) | time: 4.600000e+00\r"
     ]
    },
    {
     "name": "stderr",
     "output_type": "stream",
     "text": [
      "dream.scalar_transport.time.implicit (INFO) | time: 4.610000e+00\r"
     ]
    },
    {
     "name": "stderr",
     "output_type": "stream",
     "text": [
      "dream.scalar_transport.time.implicit (INFO) | time: 4.620000e+00\r"
     ]
    },
    {
     "name": "stderr",
     "output_type": "stream",
     "text": [
      "dream.scalar_transport.time.implicit (INFO) | time: 4.630000e+00\r"
     ]
    },
    {
     "name": "stderr",
     "output_type": "stream",
     "text": [
      "dream.scalar_transport.time.implicit (INFO) | time: 4.640000e+00\r"
     ]
    },
    {
     "name": "stderr",
     "output_type": "stream",
     "text": [
      "dream.scalar_transport.time.implicit (INFO) | time: 4.650000e+00\r"
     ]
    },
    {
     "name": "stderr",
     "output_type": "stream",
     "text": [
      "dream.scalar_transport.time.implicit (INFO) | time: 4.660000e+00\r"
     ]
    },
    {
     "name": "stderr",
     "output_type": "stream",
     "text": [
      "dream.scalar_transport.time.implicit (INFO) | time: 4.670000e+00\r"
     ]
    },
    {
     "name": "stderr",
     "output_type": "stream",
     "text": [
      "dream.scalar_transport.time.implicit (INFO) | time: 4.680000e+00\r"
     ]
    },
    {
     "name": "stderr",
     "output_type": "stream",
     "text": [
      "dream.scalar_transport.time.implicit (INFO) | time: 4.690000e+00\r"
     ]
    },
    {
     "name": "stderr",
     "output_type": "stream",
     "text": [
      "dream.scalar_transport.time.implicit (INFO) | time: 4.700000e+00\r"
     ]
    },
    {
     "name": "stderr",
     "output_type": "stream",
     "text": [
      "dream.scalar_transport.time.implicit (INFO) | time: 4.710000e+00\r"
     ]
    },
    {
     "name": "stderr",
     "output_type": "stream",
     "text": [
      "dream.scalar_transport.time.implicit (INFO) | time: 4.720000e+00\r"
     ]
    },
    {
     "name": "stderr",
     "output_type": "stream",
     "text": [
      "dream.scalar_transport.time.implicit (INFO) | time: 4.730000e+00\r"
     ]
    },
    {
     "name": "stderr",
     "output_type": "stream",
     "text": [
      "dream.scalar_transport.time.implicit (INFO) | time: 4.740000e+00\r"
     ]
    },
    {
     "name": "stderr",
     "output_type": "stream",
     "text": [
      "dream.scalar_transport.time.implicit (INFO) | time: 4.750000e+00\r"
     ]
    },
    {
     "name": "stderr",
     "output_type": "stream",
     "text": [
      "dream.scalar_transport.time.implicit (INFO) | time: 4.760000e+00\r"
     ]
    },
    {
     "name": "stderr",
     "output_type": "stream",
     "text": [
      "dream.scalar_transport.time.implicit (INFO) | time: 4.770000e+00\r"
     ]
    },
    {
     "name": "stderr",
     "output_type": "stream",
     "text": [
      "dream.scalar_transport.time.implicit (INFO) | time: 4.780000e+00\r"
     ]
    },
    {
     "name": "stderr",
     "output_type": "stream",
     "text": [
      "dream.scalar_transport.time.implicit (INFO) | time: 4.790000e+00\r"
     ]
    },
    {
     "name": "stderr",
     "output_type": "stream",
     "text": [
      "dream.scalar_transport.time.implicit (INFO) | time: 4.800000e+00\r"
     ]
    },
    {
     "name": "stderr",
     "output_type": "stream",
     "text": [
      "dream.scalar_transport.time.implicit (INFO) | time: 4.810000e+00\r"
     ]
    },
    {
     "name": "stderr",
     "output_type": "stream",
     "text": [
      "dream.scalar_transport.time.implicit (INFO) | time: 4.820000e+00\r"
     ]
    },
    {
     "name": "stderr",
     "output_type": "stream",
     "text": [
      "dream.scalar_transport.time.implicit (INFO) | time: 4.830000e+00\r"
     ]
    },
    {
     "name": "stderr",
     "output_type": "stream",
     "text": [
      "dream.scalar_transport.time.implicit (INFO) | time: 4.840000e+00\r"
     ]
    },
    {
     "name": "stderr",
     "output_type": "stream",
     "text": [
      "dream.scalar_transport.time.implicit (INFO) | time: 4.850000e+00\r"
     ]
    },
    {
     "name": "stderr",
     "output_type": "stream",
     "text": [
      "dream.scalar_transport.time.implicit (INFO) | time: 4.860000e+00\r"
     ]
    },
    {
     "name": "stderr",
     "output_type": "stream",
     "text": [
      "dream.scalar_transport.time.implicit (INFO) | time: 4.870000e+00\r"
     ]
    },
    {
     "name": "stderr",
     "output_type": "stream",
     "text": [
      "dream.scalar_transport.time.implicit (INFO) | time: 4.880000e+00\r"
     ]
    },
    {
     "name": "stderr",
     "output_type": "stream",
     "text": [
      "dream.scalar_transport.time.implicit (INFO) | time: 4.890000e+00\r"
     ]
    },
    {
     "name": "stderr",
     "output_type": "stream",
     "text": [
      "dream.scalar_transport.time.implicit (INFO) | time: 4.900000e+00\r"
     ]
    },
    {
     "name": "stderr",
     "output_type": "stream",
     "text": [
      "dream.scalar_transport.time.implicit (INFO) | time: 4.910000e+00\r"
     ]
    },
    {
     "name": "stderr",
     "output_type": "stream",
     "text": [
      "dream.scalar_transport.time.implicit (INFO) | time: 4.920000e+00\r"
     ]
    },
    {
     "name": "stderr",
     "output_type": "stream",
     "text": [
      "dream.scalar_transport.time.implicit (INFO) | time: 4.930000e+00\r"
     ]
    },
    {
     "name": "stderr",
     "output_type": "stream",
     "text": [
      "dream.scalar_transport.time.implicit (INFO) | time: 4.940000e+00\r"
     ]
    },
    {
     "name": "stderr",
     "output_type": "stream",
     "text": [
      "dream.scalar_transport.time.implicit (INFO) | time: 4.950000e+00\r"
     ]
    },
    {
     "name": "stderr",
     "output_type": "stream",
     "text": [
      "dream.scalar_transport.time.implicit (INFO) | time: 4.960000e+00\r"
     ]
    },
    {
     "name": "stderr",
     "output_type": "stream",
     "text": [
      "dream.scalar_transport.time.implicit (INFO) | time: 4.970000e+00\r"
     ]
    },
    {
     "name": "stderr",
     "output_type": "stream",
     "text": [
      "dream.scalar_transport.time.implicit (INFO) | time: 4.980000e+00\r"
     ]
    },
    {
     "name": "stderr",
     "output_type": "stream",
     "text": [
      "dream.scalar_transport.time.implicit (INFO) | time: 4.990000e+00\r"
     ]
    },
    {
     "name": "stderr",
     "output_type": "stream",
     "text": [
      "dream.scalar_transport.time.implicit (INFO) | time: 5.000000e+00\r"
     ]
    },
    {
     "name": "stderr",
     "output_type": "stream",
     "text": [
      "dream.scalar_transport.time.implicit (INFO) | time: 5.010000e+00\r"
     ]
    },
    {
     "name": "stderr",
     "output_type": "stream",
     "text": [
      "dream.scalar_transport.time.implicit (INFO) | time: 5.020000e+00\r"
     ]
    },
    {
     "name": "stderr",
     "output_type": "stream",
     "text": [
      "dream.scalar_transport.time.implicit (INFO) | time: 5.030000e+00\r"
     ]
    },
    {
     "name": "stderr",
     "output_type": "stream",
     "text": [
      "dream.scalar_transport.time.implicit (INFO) | time: 5.040000e+00\r"
     ]
    },
    {
     "name": "stderr",
     "output_type": "stream",
     "text": [
      "dream.scalar_transport.time.implicit (INFO) | time: 5.050000e+00\r"
     ]
    },
    {
     "name": "stderr",
     "output_type": "stream",
     "text": [
      "dream.scalar_transport.time.implicit (INFO) | time: 5.060000e+00\r"
     ]
    },
    {
     "name": "stderr",
     "output_type": "stream",
     "text": [
      "dream.scalar_transport.time.implicit (INFO) | time: 5.070000e+00\r"
     ]
    },
    {
     "name": "stderr",
     "output_type": "stream",
     "text": [
      "dream.scalar_transport.time.implicit (INFO) | time: 5.080000e+00\r"
     ]
    },
    {
     "name": "stderr",
     "output_type": "stream",
     "text": [
      "dream.scalar_transport.time.implicit (INFO) | time: 5.090000e+00\r"
     ]
    },
    {
     "name": "stderr",
     "output_type": "stream",
     "text": [
      "dream.scalar_transport.time.implicit (INFO) | time: 5.100000e+00\r"
     ]
    },
    {
     "name": "stderr",
     "output_type": "stream",
     "text": [
      "dream.scalar_transport.time.implicit (INFO) | time: 5.110000e+00\r"
     ]
    },
    {
     "name": "stderr",
     "output_type": "stream",
     "text": [
      "dream.scalar_transport.time.implicit (INFO) | time: 5.120000e+00\r"
     ]
    },
    {
     "name": "stderr",
     "output_type": "stream",
     "text": [
      "dream.scalar_transport.time.implicit (INFO) | time: 5.130000e+00\r"
     ]
    },
    {
     "name": "stderr",
     "output_type": "stream",
     "text": [
      "dream.scalar_transport.time.implicit (INFO) | time: 5.140000e+00\r"
     ]
    },
    {
     "name": "stderr",
     "output_type": "stream",
     "text": [
      "dream.scalar_transport.time.implicit (INFO) | time: 5.150000e+00\r"
     ]
    },
    {
     "name": "stderr",
     "output_type": "stream",
     "text": [
      "dream.scalar_transport.time.implicit (INFO) | time: 5.160000e+00\r"
     ]
    },
    {
     "name": "stderr",
     "output_type": "stream",
     "text": [
      "dream.scalar_transport.time.implicit (INFO) | time: 5.170000e+00\r"
     ]
    },
    {
     "name": "stderr",
     "output_type": "stream",
     "text": [
      "dream.scalar_transport.time.implicit (INFO) | time: 5.180000e+00\r"
     ]
    },
    {
     "name": "stderr",
     "output_type": "stream",
     "text": [
      "dream.scalar_transport.time.implicit (INFO) | time: 5.190000e+00\r"
     ]
    },
    {
     "name": "stderr",
     "output_type": "stream",
     "text": [
      "dream.scalar_transport.time.implicit (INFO) | time: 5.200000e+00\r"
     ]
    },
    {
     "name": "stderr",
     "output_type": "stream",
     "text": [
      "dream.scalar_transport.time.implicit (INFO) | time: 5.210000e+00\r"
     ]
    },
    {
     "name": "stderr",
     "output_type": "stream",
     "text": [
      "dream.scalar_transport.time.implicit (INFO) | time: 5.220000e+00\r"
     ]
    },
    {
     "name": "stderr",
     "output_type": "stream",
     "text": [
      "dream.scalar_transport.time.implicit (INFO) | time: 5.230000e+00\r"
     ]
    },
    {
     "name": "stderr",
     "output_type": "stream",
     "text": [
      "dream.scalar_transport.time.implicit (INFO) | time: 5.240000e+00\r"
     ]
    },
    {
     "name": "stderr",
     "output_type": "stream",
     "text": [
      "dream.scalar_transport.time.implicit (INFO) | time: 5.250000e+00\r"
     ]
    },
    {
     "name": "stderr",
     "output_type": "stream",
     "text": [
      "dream.scalar_transport.time.implicit (INFO) | time: 5.260000e+00\r"
     ]
    },
    {
     "name": "stderr",
     "output_type": "stream",
     "text": [
      "dream.scalar_transport.time.implicit (INFO) | time: 5.270000e+00\r"
     ]
    },
    {
     "name": "stderr",
     "output_type": "stream",
     "text": [
      "dream.scalar_transport.time.implicit (INFO) | time: 5.280000e+00\r"
     ]
    },
    {
     "name": "stderr",
     "output_type": "stream",
     "text": [
      "dream.scalar_transport.time.implicit (INFO) | time: 5.290000e+00\r"
     ]
    },
    {
     "name": "stderr",
     "output_type": "stream",
     "text": [
      "dream.scalar_transport.time.implicit (INFO) | time: 5.300000e+00\r"
     ]
    },
    {
     "name": "stderr",
     "output_type": "stream",
     "text": [
      "dream.scalar_transport.time.implicit (INFO) | time: 5.310000e+00\r"
     ]
    },
    {
     "name": "stderr",
     "output_type": "stream",
     "text": [
      "dream.scalar_transport.time.implicit (INFO) | time: 5.320000e+00\r"
     ]
    },
    {
     "name": "stderr",
     "output_type": "stream",
     "text": [
      "dream.scalar_transport.time.implicit (INFO) | time: 5.330000e+00\r"
     ]
    },
    {
     "name": "stderr",
     "output_type": "stream",
     "text": [
      "dream.scalar_transport.time.implicit (INFO) | time: 5.340000e+00\r"
     ]
    },
    {
     "name": "stderr",
     "output_type": "stream",
     "text": [
      "dream.scalar_transport.time.implicit (INFO) | time: 5.350000e+00\r"
     ]
    },
    {
     "name": "stderr",
     "output_type": "stream",
     "text": [
      "dream.scalar_transport.time.implicit (INFO) | time: 5.360000e+00\r"
     ]
    },
    {
     "name": "stderr",
     "output_type": "stream",
     "text": [
      "dream.scalar_transport.time.implicit (INFO) | time: 5.370000e+00\r"
     ]
    },
    {
     "name": "stderr",
     "output_type": "stream",
     "text": [
      "dream.scalar_transport.time.implicit (INFO) | time: 5.380000e+00\r"
     ]
    },
    {
     "name": "stderr",
     "output_type": "stream",
     "text": [
      "dream.scalar_transport.time.implicit (INFO) | time: 5.390000e+00\r"
     ]
    },
    {
     "name": "stderr",
     "output_type": "stream",
     "text": [
      "dream.scalar_transport.time.implicit (INFO) | time: 5.400000e+00\r"
     ]
    },
    {
     "name": "stderr",
     "output_type": "stream",
     "text": [
      "dream.scalar_transport.time.implicit (INFO) | time: 5.410000e+00\r"
     ]
    },
    {
     "name": "stderr",
     "output_type": "stream",
     "text": [
      "dream.scalar_transport.time.implicit (INFO) | time: 5.420000e+00\r"
     ]
    },
    {
     "name": "stderr",
     "output_type": "stream",
     "text": [
      "dream.scalar_transport.time.implicit (INFO) | time: 5.430000e+00\r"
     ]
    },
    {
     "name": "stderr",
     "output_type": "stream",
     "text": [
      "dream.scalar_transport.time.implicit (INFO) | time: 5.440000e+00\r"
     ]
    },
    {
     "name": "stderr",
     "output_type": "stream",
     "text": [
      "dream.scalar_transport.time.implicit (INFO) | time: 5.450000e+00\r"
     ]
    },
    {
     "name": "stderr",
     "output_type": "stream",
     "text": [
      "dream.scalar_transport.time.implicit (INFO) | time: 5.460000e+00\r"
     ]
    },
    {
     "name": "stderr",
     "output_type": "stream",
     "text": [
      "dream.scalar_transport.time.implicit (INFO) | time: 5.470000e+00\r"
     ]
    },
    {
     "name": "stderr",
     "output_type": "stream",
     "text": [
      "dream.scalar_transport.time.implicit (INFO) | time: 5.480000e+00\r"
     ]
    },
    {
     "name": "stderr",
     "output_type": "stream",
     "text": [
      "dream.scalar_transport.time.implicit (INFO) | time: 5.490000e+00\r"
     ]
    },
    {
     "name": "stderr",
     "output_type": "stream",
     "text": [
      "dream.scalar_transport.time.implicit (INFO) | time: 5.500000e+00\r"
     ]
    },
    {
     "name": "stderr",
     "output_type": "stream",
     "text": [
      "dream.scalar_transport.time.implicit (INFO) | time: 5.510000e+00\r"
     ]
    },
    {
     "name": "stderr",
     "output_type": "stream",
     "text": [
      "dream.scalar_transport.time.implicit (INFO) | time: 5.520000e+00\r"
     ]
    },
    {
     "name": "stderr",
     "output_type": "stream",
     "text": [
      "dream.scalar_transport.time.implicit (INFO) | time: 5.530000e+00\r"
     ]
    },
    {
     "name": "stderr",
     "output_type": "stream",
     "text": [
      "dream.scalar_transport.time.implicit (INFO) | time: 5.540000e+00\r"
     ]
    },
    {
     "name": "stderr",
     "output_type": "stream",
     "text": [
      "dream.scalar_transport.time.implicit (INFO) | time: 5.550000e+00\r"
     ]
    },
    {
     "name": "stderr",
     "output_type": "stream",
     "text": [
      "dream.scalar_transport.time.implicit (INFO) | time: 5.560000e+00\r"
     ]
    },
    {
     "name": "stderr",
     "output_type": "stream",
     "text": [
      "dream.scalar_transport.time.implicit (INFO) | time: 5.570000e+00\r"
     ]
    },
    {
     "name": "stderr",
     "output_type": "stream",
     "text": [
      "dream.scalar_transport.time.implicit (INFO) | time: 5.580000e+00\r"
     ]
    },
    {
     "name": "stderr",
     "output_type": "stream",
     "text": [
      "dream.scalar_transport.time.implicit (INFO) | time: 5.590000e+00\r"
     ]
    },
    {
     "name": "stderr",
     "output_type": "stream",
     "text": [
      "dream.scalar_transport.time.implicit (INFO) | time: 5.600000e+00\r"
     ]
    },
    {
     "name": "stderr",
     "output_type": "stream",
     "text": [
      "dream.scalar_transport.time.implicit (INFO) | time: 5.610000e+00\r"
     ]
    },
    {
     "name": "stderr",
     "output_type": "stream",
     "text": [
      "dream.scalar_transport.time.implicit (INFO) | time: 5.620000e+00\r"
     ]
    },
    {
     "name": "stderr",
     "output_type": "stream",
     "text": [
      "dream.scalar_transport.time.implicit (INFO) | time: 5.630000e+00\r"
     ]
    },
    {
     "name": "stderr",
     "output_type": "stream",
     "text": [
      "dream.scalar_transport.time.implicit (INFO) | time: 5.640000e+00\r"
     ]
    },
    {
     "name": "stderr",
     "output_type": "stream",
     "text": [
      "dream.scalar_transport.time.implicit (INFO) | time: 5.650000e+00\r"
     ]
    },
    {
     "name": "stderr",
     "output_type": "stream",
     "text": [
      "dream.scalar_transport.time.implicit (INFO) | time: 5.660000e+00\r"
     ]
    },
    {
     "name": "stderr",
     "output_type": "stream",
     "text": [
      "dream.scalar_transport.time.implicit (INFO) | time: 5.670000e+00\r"
     ]
    },
    {
     "name": "stderr",
     "output_type": "stream",
     "text": [
      "dream.scalar_transport.time.implicit (INFO) | time: 5.680000e+00\r"
     ]
    },
    {
     "name": "stderr",
     "output_type": "stream",
     "text": [
      "dream.scalar_transport.time.implicit (INFO) | time: 5.690000e+00\r"
     ]
    },
    {
     "name": "stderr",
     "output_type": "stream",
     "text": [
      "dream.scalar_transport.time.implicit (INFO) | time: 5.700000e+00\r"
     ]
    },
    {
     "name": "stderr",
     "output_type": "stream",
     "text": [
      "dream.scalar_transport.time.implicit (INFO) | time: 5.710000e+00\r"
     ]
    },
    {
     "name": "stderr",
     "output_type": "stream",
     "text": [
      "dream.scalar_transport.time.implicit (INFO) | time: 5.720000e+00\r"
     ]
    },
    {
     "name": "stderr",
     "output_type": "stream",
     "text": [
      "dream.scalar_transport.time.implicit (INFO) | time: 5.730000e+00\r"
     ]
    },
    {
     "name": "stderr",
     "output_type": "stream",
     "text": [
      "dream.scalar_transport.time.implicit (INFO) | time: 5.740000e+00\r"
     ]
    },
    {
     "name": "stderr",
     "output_type": "stream",
     "text": [
      "dream.scalar_transport.time.implicit (INFO) | time: 5.750000e+00\r"
     ]
    },
    {
     "name": "stderr",
     "output_type": "stream",
     "text": [
      "dream.scalar_transport.time.implicit (INFO) | time: 5.760000e+00\r"
     ]
    },
    {
     "name": "stderr",
     "output_type": "stream",
     "text": [
      "dream.scalar_transport.time.implicit (INFO) | time: 5.770000e+00\r"
     ]
    },
    {
     "name": "stderr",
     "output_type": "stream",
     "text": [
      "dream.scalar_transport.time.implicit (INFO) | time: 5.780000e+00\r"
     ]
    },
    {
     "name": "stderr",
     "output_type": "stream",
     "text": [
      "dream.scalar_transport.time.implicit (INFO) | time: 5.790000e+00\r"
     ]
    },
    {
     "name": "stderr",
     "output_type": "stream",
     "text": [
      "dream.scalar_transport.time.implicit (INFO) | time: 5.800000e+00\r"
     ]
    },
    {
     "name": "stderr",
     "output_type": "stream",
     "text": [
      "dream.scalar_transport.time.implicit (INFO) | time: 5.810000e+00\r"
     ]
    },
    {
     "name": "stderr",
     "output_type": "stream",
     "text": [
      "dream.scalar_transport.time.implicit (INFO) | time: 5.820000e+00\r"
     ]
    },
    {
     "name": "stderr",
     "output_type": "stream",
     "text": [
      "dream.scalar_transport.time.implicit (INFO) | time: 5.830000e+00\r"
     ]
    },
    {
     "name": "stderr",
     "output_type": "stream",
     "text": [
      "dream.scalar_transport.time.implicit (INFO) | time: 5.840000e+00\r"
     ]
    },
    {
     "name": "stderr",
     "output_type": "stream",
     "text": [
      "dream.scalar_transport.time.implicit (INFO) | time: 5.850000e+00\r"
     ]
    },
    {
     "name": "stderr",
     "output_type": "stream",
     "text": [
      "dream.scalar_transport.time.implicit (INFO) | time: 5.860000e+00\r"
     ]
    },
    {
     "name": "stderr",
     "output_type": "stream",
     "text": [
      "dream.scalar_transport.time.implicit (INFO) | time: 5.870000e+00\r"
     ]
    },
    {
     "name": "stderr",
     "output_type": "stream",
     "text": [
      "dream.scalar_transport.time.implicit (INFO) | time: 5.880000e+00\r"
     ]
    },
    {
     "name": "stderr",
     "output_type": "stream",
     "text": [
      "dream.scalar_transport.time.implicit (INFO) | time: 5.890000e+00\r"
     ]
    },
    {
     "name": "stderr",
     "output_type": "stream",
     "text": [
      "dream.scalar_transport.time.implicit (INFO) | time: 5.900000e+00\r"
     ]
    },
    {
     "name": "stderr",
     "output_type": "stream",
     "text": [
      "dream.scalar_transport.time.implicit (INFO) | time: 5.910000e+00\r"
     ]
    },
    {
     "name": "stderr",
     "output_type": "stream",
     "text": [
      "dream.scalar_transport.time.implicit (INFO) | time: 5.920000e+00\r"
     ]
    },
    {
     "name": "stderr",
     "output_type": "stream",
     "text": [
      "dream.scalar_transport.time.implicit (INFO) | time: 5.930000e+00\r"
     ]
    },
    {
     "name": "stderr",
     "output_type": "stream",
     "text": [
      "dream.scalar_transport.time.implicit (INFO) | time: 5.940000e+00\r"
     ]
    },
    {
     "name": "stderr",
     "output_type": "stream",
     "text": [
      "dream.scalar_transport.time.implicit (INFO) | time: 5.950000e+00\r"
     ]
    },
    {
     "name": "stderr",
     "output_type": "stream",
     "text": [
      "dream.scalar_transport.time.implicit (INFO) | time: 5.960000e+00\r"
     ]
    },
    {
     "name": "stderr",
     "output_type": "stream",
     "text": [
      "dream.scalar_transport.time.implicit (INFO) | time: 5.970000e+00\r"
     ]
    },
    {
     "name": "stderr",
     "output_type": "stream",
     "text": [
      "dream.scalar_transport.time.implicit (INFO) | time: 5.980000e+00\r"
     ]
    },
    {
     "name": "stderr",
     "output_type": "stream",
     "text": [
      "dream.scalar_transport.time.implicit (INFO) | time: 5.990000e+00\r"
     ]
    },
    {
     "name": "stderr",
     "output_type": "stream",
     "text": [
      "dream.scalar_transport.time.implicit (INFO) | time: 6.000000e+00\r"
     ]
    },
    {
     "name": "stderr",
     "output_type": "stream",
     "text": [
      "dream.scalar_transport.time.implicit (INFO) | time: 6.010000e+00\r"
     ]
    },
    {
     "name": "stderr",
     "output_type": "stream",
     "text": [
      "dream.scalar_transport.time.implicit (INFO) | time: 6.020000e+00\r"
     ]
    },
    {
     "name": "stderr",
     "output_type": "stream",
     "text": [
      "dream.scalar_transport.time.implicit (INFO) | time: 6.030000e+00\r"
     ]
    },
    {
     "name": "stderr",
     "output_type": "stream",
     "text": [
      "dream.scalar_transport.time.implicit (INFO) | time: 6.040000e+00\r"
     ]
    },
    {
     "name": "stderr",
     "output_type": "stream",
     "text": [
      "dream.scalar_transport.time.implicit (INFO) | time: 6.050000e+00\r"
     ]
    },
    {
     "name": "stderr",
     "output_type": "stream",
     "text": [
      "dream.scalar_transport.time.implicit (INFO) | time: 6.060000e+00\r"
     ]
    },
    {
     "name": "stderr",
     "output_type": "stream",
     "text": [
      "dream.scalar_transport.time.implicit (INFO) | time: 6.070000e+00\r"
     ]
    },
    {
     "name": "stderr",
     "output_type": "stream",
     "text": [
      "dream.scalar_transport.time.implicit (INFO) | time: 6.080000e+00\r"
     ]
    },
    {
     "name": "stderr",
     "output_type": "stream",
     "text": [
      "dream.scalar_transport.time.implicit (INFO) | time: 6.090000e+00\r"
     ]
    },
    {
     "name": "stderr",
     "output_type": "stream",
     "text": [
      "dream.scalar_transport.time.implicit (INFO) | time: 6.100000e+00\r"
     ]
    },
    {
     "name": "stderr",
     "output_type": "stream",
     "text": [
      "dream.scalar_transport.time.implicit (INFO) | time: 6.110000e+00\r"
     ]
    },
    {
     "name": "stderr",
     "output_type": "stream",
     "text": [
      "dream.scalar_transport.time.implicit (INFO) | time: 6.120000e+00\r"
     ]
    },
    {
     "name": "stderr",
     "output_type": "stream",
     "text": [
      "dream.scalar_transport.time.implicit (INFO) | time: 6.130000e+00\r"
     ]
    },
    {
     "name": "stderr",
     "output_type": "stream",
     "text": [
      "dream.scalar_transport.time.implicit (INFO) | time: 6.140000e+00\r"
     ]
    },
    {
     "name": "stderr",
     "output_type": "stream",
     "text": [
      "dream.scalar_transport.time.implicit (INFO) | time: 6.150000e+00\r"
     ]
    },
    {
     "name": "stderr",
     "output_type": "stream",
     "text": [
      "dream.scalar_transport.time.implicit (INFO) | time: 6.160000e+00\r"
     ]
    },
    {
     "name": "stderr",
     "output_type": "stream",
     "text": [
      "dream.scalar_transport.time.implicit (INFO) | time: 6.170000e+00\r"
     ]
    },
    {
     "name": "stderr",
     "output_type": "stream",
     "text": [
      "dream.scalar_transport.time.implicit (INFO) | time: 6.180000e+00\r"
     ]
    },
    {
     "name": "stderr",
     "output_type": "stream",
     "text": [
      "dream.scalar_transport.time.implicit (INFO) | time: 6.190000e+00\r"
     ]
    },
    {
     "name": "stderr",
     "output_type": "stream",
     "text": [
      "dream.scalar_transport.time.implicit (INFO) | time: 6.200000e+00\r"
     ]
    },
    {
     "name": "stderr",
     "output_type": "stream",
     "text": [
      "dream.scalar_transport.time.implicit (INFO) | time: 6.210000e+00\r"
     ]
    },
    {
     "name": "stderr",
     "output_type": "stream",
     "text": [
      "dream.scalar_transport.time.implicit (INFO) | time: 6.220000e+00\r"
     ]
    },
    {
     "name": "stderr",
     "output_type": "stream",
     "text": [
      "dream.scalar_transport.time.implicit (INFO) | time: 6.230000e+00\r"
     ]
    },
    {
     "name": "stderr",
     "output_type": "stream",
     "text": [
      "dream.scalar_transport.time.implicit (INFO) | time: 6.240000e+00\r"
     ]
    },
    {
     "name": "stderr",
     "output_type": "stream",
     "text": [
      "dream.scalar_transport.time.implicit (INFO) | time: 6.250000e+00\r"
     ]
    },
    {
     "name": "stderr",
     "output_type": "stream",
     "text": [
      "dream.scalar_transport.time.implicit (INFO) | time: 6.260000e+00\r"
     ]
    },
    {
     "name": "stderr",
     "output_type": "stream",
     "text": [
      "dream.scalar_transport.time.implicit (INFO) | time: 6.270000e+00\r"
     ]
    },
    {
     "name": "stderr",
     "output_type": "stream",
     "text": [
      "dream.scalar_transport.time.implicit (INFO) | time: 6.280000e+00\r"
     ]
    },
    {
     "name": "stderr",
     "output_type": "stream",
     "text": [
      "dream.scalar_transport.time.implicit (INFO) | time: 6.290000e+00\r"
     ]
    },
    {
     "name": "stderr",
     "output_type": "stream",
     "text": [
      "dream.scalar_transport.time.implicit (INFO) | time: 6.300000e+00\r"
     ]
    },
    {
     "name": "stderr",
     "output_type": "stream",
     "text": [
      "dream.scalar_transport.time.implicit (INFO) | time: 6.310000e+00\r"
     ]
    },
    {
     "name": "stderr",
     "output_type": "stream",
     "text": [
      "dream.scalar_transport.time.implicit (INFO) | time: 6.320000e+00\r"
     ]
    },
    {
     "name": "stderr",
     "output_type": "stream",
     "text": [
      "dream.scalar_transport.time.implicit (INFO) | time: 6.330000e+00\r"
     ]
    },
    {
     "name": "stderr",
     "output_type": "stream",
     "text": [
      "dream.scalar_transport.time.implicit (INFO) | time: 6.340000e+00\r"
     ]
    },
    {
     "name": "stderr",
     "output_type": "stream",
     "text": [
      "dream.scalar_transport.time.implicit (INFO) | time: 6.350000e+00\r"
     ]
    },
    {
     "name": "stderr",
     "output_type": "stream",
     "text": [
      "dream.scalar_transport.time.implicit (INFO) | time: 6.360000e+00\r"
     ]
    },
    {
     "name": "stderr",
     "output_type": "stream",
     "text": [
      "dream.scalar_transport.time.implicit (INFO) | time: 6.370000e+00\r"
     ]
    },
    {
     "name": "stderr",
     "output_type": "stream",
     "text": [
      "dream.scalar_transport.time.implicit (INFO) | time: 6.380000e+00\r"
     ]
    },
    {
     "name": "stderr",
     "output_type": "stream",
     "text": [
      "dream.scalar_transport.time.implicit (INFO) | time: 6.390000e+00\r"
     ]
    },
    {
     "name": "stderr",
     "output_type": "stream",
     "text": [
      "dream.scalar_transport.time.implicit (INFO) | time: 6.400000e+00\r"
     ]
    },
    {
     "name": "stderr",
     "output_type": "stream",
     "text": [
      "dream.scalar_transport.time.implicit (INFO) | time: 6.410000e+00\r"
     ]
    },
    {
     "name": "stderr",
     "output_type": "stream",
     "text": [
      "dream.scalar_transport.time.implicit (INFO) | time: 6.420000e+00\r"
     ]
    },
    {
     "name": "stderr",
     "output_type": "stream",
     "text": [
      "dream.scalar_transport.time.implicit (INFO) | time: 6.430000e+00\r"
     ]
    },
    {
     "name": "stderr",
     "output_type": "stream",
     "text": [
      "dream.scalar_transport.time.implicit (INFO) | time: 6.440000e+00\r"
     ]
    },
    {
     "name": "stderr",
     "output_type": "stream",
     "text": [
      "dream.scalar_transport.time.implicit (INFO) | time: 6.450000e+00\r"
     ]
    },
    {
     "name": "stderr",
     "output_type": "stream",
     "text": [
      "dream.scalar_transport.time.implicit (INFO) | time: 6.460000e+00\r"
     ]
    },
    {
     "name": "stderr",
     "output_type": "stream",
     "text": [
      "dream.scalar_transport.time.implicit (INFO) | time: 6.470000e+00\r"
     ]
    },
    {
     "name": "stderr",
     "output_type": "stream",
     "text": [
      "dream.scalar_transport.time.implicit (INFO) | time: 6.480000e+00\r"
     ]
    },
    {
     "name": "stderr",
     "output_type": "stream",
     "text": [
      "dream.scalar_transport.time.implicit (INFO) | time: 6.490000e+00\r"
     ]
    },
    {
     "name": "stderr",
     "output_type": "stream",
     "text": [
      "dream.scalar_transport.time.implicit (INFO) | time: 6.500000e+00\r"
     ]
    },
    {
     "name": "stderr",
     "output_type": "stream",
     "text": [
      "dream.scalar_transport.time.implicit (INFO) | time: 6.510000e+00\r"
     ]
    },
    {
     "name": "stderr",
     "output_type": "stream",
     "text": [
      "dream.scalar_transport.time.implicit (INFO) | time: 6.520000e+00\r"
     ]
    },
    {
     "name": "stderr",
     "output_type": "stream",
     "text": [
      "dream.scalar_transport.time.implicit (INFO) | time: 6.530000e+00\r"
     ]
    },
    {
     "name": "stderr",
     "output_type": "stream",
     "text": [
      "dream.scalar_transport.time.implicit (INFO) | time: 6.540000e+00\r"
     ]
    },
    {
     "name": "stderr",
     "output_type": "stream",
     "text": [
      "dream.scalar_transport.time.implicit (INFO) | time: 6.550000e+00\r"
     ]
    },
    {
     "name": "stderr",
     "output_type": "stream",
     "text": [
      "dream.scalar_transport.time.implicit (INFO) | time: 6.560000e+00\r"
     ]
    },
    {
     "name": "stderr",
     "output_type": "stream",
     "text": [
      "dream.scalar_transport.time.implicit (INFO) | time: 6.570000e+00\r"
     ]
    },
    {
     "name": "stderr",
     "output_type": "stream",
     "text": [
      "dream.scalar_transport.time.implicit (INFO) | time: 6.580000e+00\r"
     ]
    },
    {
     "name": "stderr",
     "output_type": "stream",
     "text": [
      "dream.scalar_transport.time.implicit (INFO) | time: 6.590000e+00\r"
     ]
    },
    {
     "name": "stderr",
     "output_type": "stream",
     "text": [
      "dream.scalar_transport.time.implicit (INFO) | time: 6.600000e+00\r"
     ]
    },
    {
     "name": "stderr",
     "output_type": "stream",
     "text": [
      "dream.scalar_transport.time.implicit (INFO) | time: 6.610000e+00\r"
     ]
    },
    {
     "name": "stderr",
     "output_type": "stream",
     "text": [
      "dream.scalar_transport.time.implicit (INFO) | time: 6.620000e+00\r"
     ]
    },
    {
     "name": "stderr",
     "output_type": "stream",
     "text": [
      "dream.scalar_transport.time.implicit (INFO) | time: 6.630000e+00\r"
     ]
    },
    {
     "name": "stderr",
     "output_type": "stream",
     "text": [
      "dream.scalar_transport.time.implicit (INFO) | time: 6.640000e+00\r"
     ]
    },
    {
     "name": "stderr",
     "output_type": "stream",
     "text": [
      "dream.scalar_transport.time.implicit (INFO) | time: 6.650000e+00\r"
     ]
    },
    {
     "name": "stderr",
     "output_type": "stream",
     "text": [
      "dream.scalar_transport.time.implicit (INFO) | time: 6.660000e+00\r"
     ]
    },
    {
     "name": "stderr",
     "output_type": "stream",
     "text": [
      "dream.scalar_transport.time.implicit (INFO) | time: 6.670000e+00\r"
     ]
    },
    {
     "name": "stderr",
     "output_type": "stream",
     "text": [
      "dream.scalar_transport.time.implicit (INFO) | time: 6.680000e+00\r"
     ]
    },
    {
     "name": "stderr",
     "output_type": "stream",
     "text": [
      "dream.scalar_transport.time.implicit (INFO) | time: 6.690000e+00\r"
     ]
    },
    {
     "name": "stderr",
     "output_type": "stream",
     "text": [
      "dream.scalar_transport.time.implicit (INFO) | time: 6.700000e+00\r"
     ]
    },
    {
     "name": "stderr",
     "output_type": "stream",
     "text": [
      "dream.scalar_transport.time.implicit (INFO) | time: 6.710000e+00\r"
     ]
    },
    {
     "name": "stderr",
     "output_type": "stream",
     "text": [
      "dream.scalar_transport.time.implicit (INFO) | time: 6.720000e+00\r"
     ]
    },
    {
     "name": "stderr",
     "output_type": "stream",
     "text": [
      "dream.scalar_transport.time.implicit (INFO) | time: 6.730000e+00\r"
     ]
    },
    {
     "name": "stderr",
     "output_type": "stream",
     "text": [
      "dream.scalar_transport.time.implicit (INFO) | time: 6.740000e+00\r"
     ]
    },
    {
     "name": "stderr",
     "output_type": "stream",
     "text": [
      "dream.scalar_transport.time.implicit (INFO) | time: 6.750000e+00\r"
     ]
    },
    {
     "name": "stderr",
     "output_type": "stream",
     "text": [
      "dream.scalar_transport.time.implicit (INFO) | time: 6.760000e+00\r"
     ]
    },
    {
     "name": "stderr",
     "output_type": "stream",
     "text": [
      "dream.scalar_transport.time.implicit (INFO) | time: 6.770000e+00\r"
     ]
    },
    {
     "name": "stderr",
     "output_type": "stream",
     "text": [
      "dream.scalar_transport.time.implicit (INFO) | time: 6.780000e+00\r"
     ]
    },
    {
     "name": "stderr",
     "output_type": "stream",
     "text": [
      "dream.scalar_transport.time.implicit (INFO) | time: 6.790000e+00\r"
     ]
    },
    {
     "name": "stderr",
     "output_type": "stream",
     "text": [
      "dream.scalar_transport.time.implicit (INFO) | time: 6.800000e+00\r"
     ]
    },
    {
     "name": "stderr",
     "output_type": "stream",
     "text": [
      "dream.scalar_transport.time.implicit (INFO) | time: 6.810000e+00\r"
     ]
    },
    {
     "name": "stderr",
     "output_type": "stream",
     "text": [
      "dream.scalar_transport.time.implicit (INFO) | time: 6.820000e+00\r"
     ]
    },
    {
     "name": "stderr",
     "output_type": "stream",
     "text": [
      "dream.scalar_transport.time.implicit (INFO) | time: 6.830000e+00\r"
     ]
    },
    {
     "name": "stderr",
     "output_type": "stream",
     "text": [
      "dream.scalar_transport.time.implicit (INFO) | time: 6.840000e+00\r"
     ]
    },
    {
     "name": "stderr",
     "output_type": "stream",
     "text": [
      "dream.scalar_transport.time.implicit (INFO) | time: 6.850000e+00\r"
     ]
    },
    {
     "name": "stderr",
     "output_type": "stream",
     "text": [
      "dream.scalar_transport.time.implicit (INFO) | time: 6.860000e+00\r"
     ]
    },
    {
     "name": "stderr",
     "output_type": "stream",
     "text": [
      "dream.scalar_transport.time.implicit (INFO) | time: 6.870000e+00\r"
     ]
    },
    {
     "name": "stderr",
     "output_type": "stream",
     "text": [
      "dream.scalar_transport.time.implicit (INFO) | time: 6.880000e+00\r"
     ]
    },
    {
     "name": "stderr",
     "output_type": "stream",
     "text": [
      "dream.scalar_transport.time.implicit (INFO) | time: 6.890000e+00\r"
     ]
    },
    {
     "name": "stderr",
     "output_type": "stream",
     "text": [
      "dream.scalar_transport.time.implicit (INFO) | time: 6.900000e+00\r"
     ]
    },
    {
     "name": "stderr",
     "output_type": "stream",
     "text": [
      "dream.scalar_transport.time.implicit (INFO) | time: 6.910000e+00\r"
     ]
    },
    {
     "name": "stderr",
     "output_type": "stream",
     "text": [
      "dream.scalar_transport.time.implicit (INFO) | time: 6.920000e+00\r"
     ]
    },
    {
     "name": "stderr",
     "output_type": "stream",
     "text": [
      "dream.scalar_transport.time.implicit (INFO) | time: 6.930000e+00\r"
     ]
    },
    {
     "name": "stderr",
     "output_type": "stream",
     "text": [
      "dream.scalar_transport.time.implicit (INFO) | time: 6.940000e+00\r"
     ]
    },
    {
     "name": "stderr",
     "output_type": "stream",
     "text": [
      "dream.scalar_transport.time.implicit (INFO) | time: 6.950000e+00\r"
     ]
    },
    {
     "name": "stderr",
     "output_type": "stream",
     "text": [
      "dream.scalar_transport.time.implicit (INFO) | time: 6.960000e+00\r"
     ]
    },
    {
     "name": "stderr",
     "output_type": "stream",
     "text": [
      "dream.scalar_transport.time.implicit (INFO) | time: 6.970000e+00\r"
     ]
    },
    {
     "name": "stderr",
     "output_type": "stream",
     "text": [
      "dream.scalar_transport.time.implicit (INFO) | time: 6.980000e+00\r"
     ]
    },
    {
     "name": "stderr",
     "output_type": "stream",
     "text": [
      "dream.scalar_transport.time.implicit (INFO) | time: 6.990000e+00\r"
     ]
    },
    {
     "name": "stderr",
     "output_type": "stream",
     "text": [
      "dream.scalar_transport.time.implicit (INFO) | time: 7.000000e+00\r"
     ]
    },
    {
     "name": "stderr",
     "output_type": "stream",
     "text": [
      "dream.scalar_transport.time.implicit (INFO) | time: 7.010000e+00\r"
     ]
    },
    {
     "name": "stderr",
     "output_type": "stream",
     "text": [
      "dream.scalar_transport.time.implicit (INFO) | time: 7.020000e+00\r"
     ]
    },
    {
     "name": "stderr",
     "output_type": "stream",
     "text": [
      "dream.scalar_transport.time.implicit (INFO) | time: 7.030000e+00\r"
     ]
    },
    {
     "name": "stderr",
     "output_type": "stream",
     "text": [
      "dream.scalar_transport.time.implicit (INFO) | time: 7.040000e+00\r"
     ]
    },
    {
     "name": "stderr",
     "output_type": "stream",
     "text": [
      "dream.scalar_transport.time.implicit (INFO) | time: 7.050000e+00\r"
     ]
    },
    {
     "name": "stderr",
     "output_type": "stream",
     "text": [
      "dream.scalar_transport.time.implicit (INFO) | time: 7.060000e+00\r"
     ]
    },
    {
     "name": "stderr",
     "output_type": "stream",
     "text": [
      "dream.scalar_transport.time.implicit (INFO) | time: 7.070000e+00\r"
     ]
    },
    {
     "name": "stderr",
     "output_type": "stream",
     "text": [
      "dream.scalar_transport.time.implicit (INFO) | time: 7.080000e+00\r"
     ]
    },
    {
     "name": "stderr",
     "output_type": "stream",
     "text": [
      "dream.scalar_transport.time.implicit (INFO) | time: 7.090000e+00\r"
     ]
    },
    {
     "name": "stderr",
     "output_type": "stream",
     "text": [
      "dream.scalar_transport.time.implicit (INFO) | time: 7.100000e+00\r"
     ]
    },
    {
     "name": "stderr",
     "output_type": "stream",
     "text": [
      "dream.scalar_transport.time.implicit (INFO) | time: 7.110000e+00\r"
     ]
    },
    {
     "name": "stderr",
     "output_type": "stream",
     "text": [
      "dream.scalar_transport.time.implicit (INFO) | time: 7.120000e+00\r"
     ]
    },
    {
     "name": "stderr",
     "output_type": "stream",
     "text": [
      "dream.scalar_transport.time.implicit (INFO) | time: 7.130000e+00\r"
     ]
    },
    {
     "name": "stderr",
     "output_type": "stream",
     "text": [
      "dream.scalar_transport.time.implicit (INFO) | time: 7.140000e+00\r"
     ]
    },
    {
     "name": "stderr",
     "output_type": "stream",
     "text": [
      "dream.scalar_transport.time.implicit (INFO) | time: 7.150000e+00\r"
     ]
    },
    {
     "name": "stderr",
     "output_type": "stream",
     "text": [
      "dream.scalar_transport.time.implicit (INFO) | time: 7.160000e+00\r"
     ]
    },
    {
     "name": "stderr",
     "output_type": "stream",
     "text": [
      "dream.scalar_transport.time.implicit (INFO) | time: 7.170000e+00\r"
     ]
    },
    {
     "name": "stderr",
     "output_type": "stream",
     "text": [
      "dream.scalar_transport.time.implicit (INFO) | time: 7.180000e+00\r"
     ]
    },
    {
     "name": "stderr",
     "output_type": "stream",
     "text": [
      "dream.scalar_transport.time.implicit (INFO) | time: 7.190000e+00\r"
     ]
    },
    {
     "name": "stderr",
     "output_type": "stream",
     "text": [
      "dream.scalar_transport.time.implicit (INFO) | time: 7.200000e+00\r"
     ]
    },
    {
     "name": "stderr",
     "output_type": "stream",
     "text": [
      "dream.scalar_transport.time.implicit (INFO) | time: 7.210000e+00\r"
     ]
    },
    {
     "name": "stderr",
     "output_type": "stream",
     "text": [
      "dream.scalar_transport.time.implicit (INFO) | time: 7.220000e+00\r"
     ]
    },
    {
     "name": "stderr",
     "output_type": "stream",
     "text": [
      "dream.scalar_transport.time.implicit (INFO) | time: 7.230000e+00\r"
     ]
    },
    {
     "name": "stderr",
     "output_type": "stream",
     "text": [
      "dream.scalar_transport.time.implicit (INFO) | time: 7.240000e+00\r"
     ]
    },
    {
     "name": "stderr",
     "output_type": "stream",
     "text": [
      "dream.scalar_transport.time.implicit (INFO) | time: 7.250000e+00\r"
     ]
    },
    {
     "name": "stderr",
     "output_type": "stream",
     "text": [
      "dream.scalar_transport.time.implicit (INFO) | time: 7.260000e+00\r"
     ]
    },
    {
     "name": "stderr",
     "output_type": "stream",
     "text": [
      "dream.scalar_transport.time.implicit (INFO) | time: 7.270000e+00\r"
     ]
    },
    {
     "name": "stderr",
     "output_type": "stream",
     "text": [
      "dream.scalar_transport.time.implicit (INFO) | time: 7.280000e+00\r"
     ]
    },
    {
     "name": "stderr",
     "output_type": "stream",
     "text": [
      "dream.scalar_transport.time.implicit (INFO) | time: 7.290000e+00\r"
     ]
    },
    {
     "name": "stderr",
     "output_type": "stream",
     "text": [
      "dream.scalar_transport.time.implicit (INFO) | time: 7.300000e+00\r"
     ]
    },
    {
     "name": "stderr",
     "output_type": "stream",
     "text": [
      "dream.scalar_transport.time.implicit (INFO) | time: 7.310000e+00\r"
     ]
    },
    {
     "name": "stderr",
     "output_type": "stream",
     "text": [
      "dream.scalar_transport.time.implicit (INFO) | time: 7.320000e+00\r"
     ]
    },
    {
     "name": "stderr",
     "output_type": "stream",
     "text": [
      "dream.scalar_transport.time.implicit (INFO) | time: 7.330000e+00\r"
     ]
    },
    {
     "name": "stderr",
     "output_type": "stream",
     "text": [
      "dream.scalar_transport.time.implicit (INFO) | time: 7.340000e+00\r"
     ]
    },
    {
     "name": "stderr",
     "output_type": "stream",
     "text": [
      "dream.scalar_transport.time.implicit (INFO) | time: 7.350000e+00\r"
     ]
    },
    {
     "name": "stderr",
     "output_type": "stream",
     "text": [
      "dream.scalar_transport.time.implicit (INFO) | time: 7.360000e+00\r"
     ]
    },
    {
     "name": "stderr",
     "output_type": "stream",
     "text": [
      "dream.scalar_transport.time.implicit (INFO) | time: 7.370000e+00\r"
     ]
    },
    {
     "name": "stderr",
     "output_type": "stream",
     "text": [
      "dream.scalar_transport.time.implicit (INFO) | time: 7.380000e+00\r"
     ]
    },
    {
     "name": "stderr",
     "output_type": "stream",
     "text": [
      "dream.scalar_transport.time.implicit (INFO) | time: 7.390000e+00\r"
     ]
    },
    {
     "name": "stderr",
     "output_type": "stream",
     "text": [
      "dream.scalar_transport.time.implicit (INFO) | time: 7.400000e+00\r"
     ]
    },
    {
     "name": "stderr",
     "output_type": "stream",
     "text": [
      "dream.scalar_transport.time.implicit (INFO) | time: 7.410000e+00\r"
     ]
    },
    {
     "name": "stderr",
     "output_type": "stream",
     "text": [
      "dream.scalar_transport.time.implicit (INFO) | time: 7.420000e+00\r"
     ]
    },
    {
     "name": "stderr",
     "output_type": "stream",
     "text": [
      "dream.scalar_transport.time.implicit (INFO) | time: 7.430000e+00\r"
     ]
    },
    {
     "name": "stderr",
     "output_type": "stream",
     "text": [
      "dream.scalar_transport.time.implicit (INFO) | time: 7.440000e+00\r"
     ]
    },
    {
     "name": "stderr",
     "output_type": "stream",
     "text": [
      "dream.scalar_transport.time.implicit (INFO) | time: 7.450000e+00\r"
     ]
    },
    {
     "name": "stderr",
     "output_type": "stream",
     "text": [
      "dream.scalar_transport.time.implicit (INFO) | time: 7.460000e+00\r"
     ]
    },
    {
     "name": "stderr",
     "output_type": "stream",
     "text": [
      "dream.scalar_transport.time.implicit (INFO) | time: 7.470000e+00\r"
     ]
    },
    {
     "name": "stderr",
     "output_type": "stream",
     "text": [
      "dream.scalar_transport.time.implicit (INFO) | time: 7.480000e+00\r"
     ]
    },
    {
     "name": "stderr",
     "output_type": "stream",
     "text": [
      "dream.scalar_transport.time.implicit (INFO) | time: 7.490000e+00\r"
     ]
    },
    {
     "name": "stderr",
     "output_type": "stream",
     "text": [
      "dream.scalar_transport.time.implicit (INFO) | time: 7.500000e+00\r"
     ]
    },
    {
     "name": "stderr",
     "output_type": "stream",
     "text": [
      "dream.scalar_transport.time.implicit (INFO) | time: 7.510000e+00\r"
     ]
    },
    {
     "name": "stderr",
     "output_type": "stream",
     "text": [
      "dream.scalar_transport.time.implicit (INFO) | time: 7.520000e+00\r"
     ]
    },
    {
     "name": "stderr",
     "output_type": "stream",
     "text": [
      "dream.scalar_transport.time.implicit (INFO) | time: 7.530000e+00\r"
     ]
    },
    {
     "name": "stderr",
     "output_type": "stream",
     "text": [
      "dream.scalar_transport.time.implicit (INFO) | time: 7.540000e+00\r"
     ]
    },
    {
     "name": "stderr",
     "output_type": "stream",
     "text": [
      "dream.scalar_transport.time.implicit (INFO) | time: 7.550000e+00\r"
     ]
    },
    {
     "name": "stderr",
     "output_type": "stream",
     "text": [
      "dream.scalar_transport.time.implicit (INFO) | time: 7.560000e+00\r"
     ]
    },
    {
     "name": "stderr",
     "output_type": "stream",
     "text": [
      "dream.scalar_transport.time.implicit (INFO) | time: 7.570000e+00\r"
     ]
    },
    {
     "name": "stderr",
     "output_type": "stream",
     "text": [
      "dream.scalar_transport.time.implicit (INFO) | time: 7.580000e+00\r"
     ]
    },
    {
     "name": "stderr",
     "output_type": "stream",
     "text": [
      "dream.scalar_transport.time.implicit (INFO) | time: 7.590000e+00\r"
     ]
    },
    {
     "name": "stderr",
     "output_type": "stream",
     "text": [
      "dream.scalar_transport.time.implicit (INFO) | time: 7.600000e+00\r"
     ]
    },
    {
     "name": "stderr",
     "output_type": "stream",
     "text": [
      "dream.scalar_transport.time.implicit (INFO) | time: 7.610000e+00\r"
     ]
    },
    {
     "name": "stderr",
     "output_type": "stream",
     "text": [
      "dream.scalar_transport.time.implicit (INFO) | time: 7.620000e+00\r"
     ]
    },
    {
     "name": "stderr",
     "output_type": "stream",
     "text": [
      "dream.scalar_transport.time.implicit (INFO) | time: 7.630000e+00\r"
     ]
    },
    {
     "name": "stderr",
     "output_type": "stream",
     "text": [
      "dream.scalar_transport.time.implicit (INFO) | time: 7.640000e+00\r"
     ]
    },
    {
     "name": "stderr",
     "output_type": "stream",
     "text": [
      "dream.scalar_transport.time.implicit (INFO) | time: 7.650000e+00\r"
     ]
    },
    {
     "name": "stderr",
     "output_type": "stream",
     "text": [
      "dream.scalar_transport.time.implicit (INFO) | time: 7.660000e+00\r"
     ]
    },
    {
     "name": "stderr",
     "output_type": "stream",
     "text": [
      "dream.scalar_transport.time.implicit (INFO) | time: 7.670000e+00\r"
     ]
    },
    {
     "name": "stderr",
     "output_type": "stream",
     "text": [
      "dream.scalar_transport.time.implicit (INFO) | time: 7.680000e+00\r"
     ]
    },
    {
     "name": "stderr",
     "output_type": "stream",
     "text": [
      "dream.scalar_transport.time.implicit (INFO) | time: 7.690000e+00\r"
     ]
    },
    {
     "name": "stderr",
     "output_type": "stream",
     "text": [
      "dream.scalar_transport.time.implicit (INFO) | time: 7.700000e+00\r"
     ]
    },
    {
     "name": "stderr",
     "output_type": "stream",
     "text": [
      "dream.scalar_transport.time.implicit (INFO) | time: 7.710000e+00\r"
     ]
    },
    {
     "name": "stderr",
     "output_type": "stream",
     "text": [
      "dream.scalar_transport.time.implicit (INFO) | time: 7.720000e+00\r"
     ]
    },
    {
     "name": "stderr",
     "output_type": "stream",
     "text": [
      "dream.scalar_transport.time.implicit (INFO) | time: 7.730000e+00\r"
     ]
    },
    {
     "name": "stderr",
     "output_type": "stream",
     "text": [
      "dream.scalar_transport.time.implicit (INFO) | time: 7.740000e+00\r"
     ]
    },
    {
     "name": "stderr",
     "output_type": "stream",
     "text": [
      "dream.scalar_transport.time.implicit (INFO) | time: 7.750000e+00\r"
     ]
    },
    {
     "name": "stderr",
     "output_type": "stream",
     "text": [
      "dream.scalar_transport.time.implicit (INFO) | time: 7.760000e+00\r"
     ]
    },
    {
     "name": "stderr",
     "output_type": "stream",
     "text": [
      "dream.scalar_transport.time.implicit (INFO) | time: 7.770000e+00\r"
     ]
    },
    {
     "name": "stderr",
     "output_type": "stream",
     "text": [
      "dream.scalar_transport.time.implicit (INFO) | time: 7.780000e+00\r"
     ]
    },
    {
     "name": "stderr",
     "output_type": "stream",
     "text": [
      "dream.scalar_transport.time.implicit (INFO) | time: 7.790000e+00\r"
     ]
    },
    {
     "name": "stderr",
     "output_type": "stream",
     "text": [
      "dream.scalar_transport.time.implicit (INFO) | time: 7.800000e+00\r"
     ]
    },
    {
     "name": "stderr",
     "output_type": "stream",
     "text": [
      "dream.scalar_transport.time.implicit (INFO) | time: 7.810000e+00\r"
     ]
    },
    {
     "name": "stderr",
     "output_type": "stream",
     "text": [
      "dream.scalar_transport.time.implicit (INFO) | time: 7.820000e+00\r"
     ]
    },
    {
     "name": "stderr",
     "output_type": "stream",
     "text": [
      "dream.scalar_transport.time.implicit (INFO) | time: 7.830000e+00\r"
     ]
    },
    {
     "name": "stderr",
     "output_type": "stream",
     "text": [
      "dream.scalar_transport.time.implicit (INFO) | time: 7.840000e+00\r"
     ]
    },
    {
     "name": "stderr",
     "output_type": "stream",
     "text": [
      "dream.scalar_transport.time.implicit (INFO) | time: 7.850000e+00\r"
     ]
    },
    {
     "name": "stdout",
     "output_type": "stream",
     "text": [
      "Running sdirk33(hdg)...\n"
     ]
    },
    {
     "data": {
      "application/vnd.jupyter.widget-view+json": {
       "model_id": "4aff0d20b27b418dadd4abbad6b8354d",
       "version_major": 2,
       "version_minor": 0
      },
      "text/plain": [
       "WebGuiDocuWidget(value={'render_data': 'render_data_5.json', 'preview': 'preview_5.png'})"
      ]
     },
     "metadata": {},
     "output_type": "display_data"
    },
    {
     "name": "stderr",
     "output_type": "stream",
     "text": [
      "dream.scalar_transport.time.implicit (INFO) | time: 1.580000e+00\r"
     ]
    },
    {
     "name": "stderr",
     "output_type": "stream",
     "text": [
      "dream.scalar_transport.time.implicit (INFO) | time: 1.590000e+00\r"
     ]
    },
    {
     "name": "stderr",
     "output_type": "stream",
     "text": [
      "dream.scalar_transport.time.implicit (INFO) | time: 1.600000e+00\r"
     ]
    },
    {
     "name": "stderr",
     "output_type": "stream",
     "text": [
      "dream.scalar_transport.time.implicit (INFO) | time: 1.610000e+00\r"
     ]
    },
    {
     "name": "stderr",
     "output_type": "stream",
     "text": [
      "dream.scalar_transport.time.implicit (INFO) | time: 1.620000e+00\r"
     ]
    },
    {
     "name": "stderr",
     "output_type": "stream",
     "text": [
      "dream.scalar_transport.time.implicit (INFO) | time: 1.630000e+00\r"
     ]
    },
    {
     "name": "stderr",
     "output_type": "stream",
     "text": [
      "dream.scalar_transport.time.implicit (INFO) | time: 1.640000e+00\r"
     ]
    },
    {
     "name": "stderr",
     "output_type": "stream",
     "text": [
      "dream.scalar_transport.time.implicit (INFO) | time: 1.650000e+00\r"
     ]
    },
    {
     "name": "stderr",
     "output_type": "stream",
     "text": [
      "dream.scalar_transport.time.implicit (INFO) | time: 1.660000e+00\r"
     ]
    },
    {
     "name": "stderr",
     "output_type": "stream",
     "text": [
      "dream.scalar_transport.time.implicit (INFO) | time: 1.670000e+00\r"
     ]
    },
    {
     "name": "stderr",
     "output_type": "stream",
     "text": [
      "dream.scalar_transport.time.implicit (INFO) | time: 1.680000e+00\r"
     ]
    },
    {
     "name": "stderr",
     "output_type": "stream",
     "text": [
      "dream.scalar_transport.time.implicit (INFO) | time: 1.690000e+00\r"
     ]
    },
    {
     "name": "stderr",
     "output_type": "stream",
     "text": [
      "dream.scalar_transport.time.implicit (INFO) | time: 1.700000e+00\r"
     ]
    },
    {
     "name": "stderr",
     "output_type": "stream",
     "text": [
      "dream.scalar_transport.time.implicit (INFO) | time: 1.710000e+00\r"
     ]
    },
    {
     "name": "stderr",
     "output_type": "stream",
     "text": [
      "dream.scalar_transport.time.implicit (INFO) | time: 1.720000e+00\r"
     ]
    },
    {
     "name": "stderr",
     "output_type": "stream",
     "text": [
      "dream.scalar_transport.time.implicit (INFO) | time: 1.730000e+00\r"
     ]
    },
    {
     "name": "stderr",
     "output_type": "stream",
     "text": [
      "dream.scalar_transport.time.implicit (INFO) | time: 1.740000e+00\r"
     ]
    },
    {
     "name": "stderr",
     "output_type": "stream",
     "text": [
      "dream.scalar_transport.time.implicit (INFO) | time: 1.750000e+00\r"
     ]
    },
    {
     "name": "stderr",
     "output_type": "stream",
     "text": [
      "dream.scalar_transport.time.implicit (INFO) | time: 1.760000e+00\r"
     ]
    },
    {
     "name": "stderr",
     "output_type": "stream",
     "text": [
      "dream.scalar_transport.time.implicit (INFO) | time: 1.770000e+00\r"
     ]
    },
    {
     "name": "stderr",
     "output_type": "stream",
     "text": [
      "dream.scalar_transport.time.implicit (INFO) | time: 1.780000e+00\r"
     ]
    },
    {
     "name": "stderr",
     "output_type": "stream",
     "text": [
      "dream.scalar_transport.time.implicit (INFO) | time: 1.790000e+00\r"
     ]
    },
    {
     "name": "stderr",
     "output_type": "stream",
     "text": [
      "dream.scalar_transport.time.implicit (INFO) | time: 1.800000e+00\r"
     ]
    },
    {
     "name": "stderr",
     "output_type": "stream",
     "text": [
      "dream.scalar_transport.time.implicit (INFO) | time: 1.810000e+00\r"
     ]
    },
    {
     "name": "stderr",
     "output_type": "stream",
     "text": [
      "dream.scalar_transport.time.implicit (INFO) | time: 1.820000e+00\r"
     ]
    },
    {
     "name": "stderr",
     "output_type": "stream",
     "text": [
      "dream.scalar_transport.time.implicit (INFO) | time: 1.830000e+00\r"
     ]
    },
    {
     "name": "stderr",
     "output_type": "stream",
     "text": [
      "dream.scalar_transport.time.implicit (INFO) | time: 1.840000e+00\r"
     ]
    },
    {
     "name": "stderr",
     "output_type": "stream",
     "text": [
      "dream.scalar_transport.time.implicit (INFO) | time: 1.850000e+00\r"
     ]
    },
    {
     "name": "stderr",
     "output_type": "stream",
     "text": [
      "dream.scalar_transport.time.implicit (INFO) | time: 1.860000e+00\r"
     ]
    },
    {
     "name": "stderr",
     "output_type": "stream",
     "text": [
      "dream.scalar_transport.time.implicit (INFO) | time: 1.870000e+00\r"
     ]
    },
    {
     "name": "stderr",
     "output_type": "stream",
     "text": [
      "dream.scalar_transport.time.implicit (INFO) | time: 1.880000e+00\r"
     ]
    },
    {
     "name": "stderr",
     "output_type": "stream",
     "text": [
      "dream.scalar_transport.time.implicit (INFO) | time: 1.890000e+00\r"
     ]
    },
    {
     "name": "stderr",
     "output_type": "stream",
     "text": [
      "dream.scalar_transport.time.implicit (INFO) | time: 1.900000e+00\r"
     ]
    },
    {
     "name": "stderr",
     "output_type": "stream",
     "text": [
      "dream.scalar_transport.time.implicit (INFO) | time: 1.910000e+00\r"
     ]
    },
    {
     "name": "stderr",
     "output_type": "stream",
     "text": [
      "dream.scalar_transport.time.implicit (INFO) | time: 1.920000e+00\r"
     ]
    },
    {
     "name": "stderr",
     "output_type": "stream",
     "text": [
      "dream.scalar_transport.time.implicit (INFO) | time: 1.930000e+00\r"
     ]
    },
    {
     "name": "stderr",
     "output_type": "stream",
     "text": [
      "dream.scalar_transport.time.implicit (INFO) | time: 1.940000e+00\r"
     ]
    },
    {
     "name": "stderr",
     "output_type": "stream",
     "text": [
      "dream.scalar_transport.time.implicit (INFO) | time: 1.950000e+00\r"
     ]
    },
    {
     "name": "stderr",
     "output_type": "stream",
     "text": [
      "dream.scalar_transport.time.implicit (INFO) | time: 1.960000e+00\r"
     ]
    },
    {
     "name": "stderr",
     "output_type": "stream",
     "text": [
      "dream.scalar_transport.time.implicit (INFO) | time: 1.970000e+00\r"
     ]
    },
    {
     "name": "stderr",
     "output_type": "stream",
     "text": [
      "dream.scalar_transport.time.implicit (INFO) | time: 1.980000e+00\r"
     ]
    },
    {
     "name": "stderr",
     "output_type": "stream",
     "text": [
      "dream.scalar_transport.time.implicit (INFO) | time: 1.990000e+00\r"
     ]
    },
    {
     "name": "stderr",
     "output_type": "stream",
     "text": [
      "dream.scalar_transport.time.implicit (INFO) | time: 2.000000e+00\r"
     ]
    },
    {
     "name": "stderr",
     "output_type": "stream",
     "text": [
      "dream.scalar_transport.time.implicit (INFO) | time: 2.010000e+00\r"
     ]
    },
    {
     "name": "stderr",
     "output_type": "stream",
     "text": [
      "dream.scalar_transport.time.implicit (INFO) | time: 2.020000e+00\r"
     ]
    },
    {
     "name": "stderr",
     "output_type": "stream",
     "text": [
      "dream.scalar_transport.time.implicit (INFO) | time: 2.030000e+00\r"
     ]
    },
    {
     "name": "stderr",
     "output_type": "stream",
     "text": [
      "dream.scalar_transport.time.implicit (INFO) | time: 2.040000e+00\r"
     ]
    },
    {
     "name": "stderr",
     "output_type": "stream",
     "text": [
      "dream.scalar_transport.time.implicit (INFO) | time: 2.050000e+00\r"
     ]
    },
    {
     "name": "stderr",
     "output_type": "stream",
     "text": [
      "dream.scalar_transport.time.implicit (INFO) | time: 2.060000e+00\r"
     ]
    },
    {
     "name": "stderr",
     "output_type": "stream",
     "text": [
      "dream.scalar_transport.time.implicit (INFO) | time: 2.070000e+00\r"
     ]
    },
    {
     "name": "stderr",
     "output_type": "stream",
     "text": [
      "dream.scalar_transport.time.implicit (INFO) | time: 2.080000e+00\r"
     ]
    },
    {
     "name": "stderr",
     "output_type": "stream",
     "text": [
      "dream.scalar_transport.time.implicit (INFO) | time: 2.090000e+00\r"
     ]
    },
    {
     "name": "stderr",
     "output_type": "stream",
     "text": [
      "dream.scalar_transport.time.implicit (INFO) | time: 2.100000e+00\r"
     ]
    },
    {
     "name": "stderr",
     "output_type": "stream",
     "text": [
      "dream.scalar_transport.time.implicit (INFO) | time: 2.110000e+00\r"
     ]
    },
    {
     "name": "stderr",
     "output_type": "stream",
     "text": [
      "dream.scalar_transport.time.implicit (INFO) | time: 2.120000e+00\r"
     ]
    },
    {
     "name": "stderr",
     "output_type": "stream",
     "text": [
      "dream.scalar_transport.time.implicit (INFO) | time: 2.130000e+00\r"
     ]
    },
    {
     "name": "stderr",
     "output_type": "stream",
     "text": [
      "dream.scalar_transport.time.implicit (INFO) | time: 2.140000e+00\r"
     ]
    },
    {
     "name": "stderr",
     "output_type": "stream",
     "text": [
      "dream.scalar_transport.time.implicit (INFO) | time: 2.150000e+00\r"
     ]
    },
    {
     "name": "stderr",
     "output_type": "stream",
     "text": [
      "dream.scalar_transport.time.implicit (INFO) | time: 2.160000e+00\r"
     ]
    },
    {
     "name": "stderr",
     "output_type": "stream",
     "text": [
      "dream.scalar_transport.time.implicit (INFO) | time: 2.170000e+00\r"
     ]
    },
    {
     "name": "stderr",
     "output_type": "stream",
     "text": [
      "dream.scalar_transport.time.implicit (INFO) | time: 2.180000e+00\r"
     ]
    },
    {
     "name": "stderr",
     "output_type": "stream",
     "text": [
      "dream.scalar_transport.time.implicit (INFO) | time: 2.190000e+00\r"
     ]
    },
    {
     "name": "stderr",
     "output_type": "stream",
     "text": [
      "dream.scalar_transport.time.implicit (INFO) | time: 2.200000e+00\r"
     ]
    },
    {
     "name": "stderr",
     "output_type": "stream",
     "text": [
      "dream.scalar_transport.time.implicit (INFO) | time: 2.210000e+00\r"
     ]
    },
    {
     "name": "stderr",
     "output_type": "stream",
     "text": [
      "dream.scalar_transport.time.implicit (INFO) | time: 2.220000e+00\r"
     ]
    },
    {
     "name": "stderr",
     "output_type": "stream",
     "text": [
      "dream.scalar_transport.time.implicit (INFO) | time: 2.230000e+00\r"
     ]
    },
    {
     "name": "stderr",
     "output_type": "stream",
     "text": [
      "dream.scalar_transport.time.implicit (INFO) | time: 2.240000e+00\r"
     ]
    },
    {
     "name": "stderr",
     "output_type": "stream",
     "text": [
      "dream.scalar_transport.time.implicit (INFO) | time: 2.250000e+00\r"
     ]
    },
    {
     "name": "stderr",
     "output_type": "stream",
     "text": [
      "dream.scalar_transport.time.implicit (INFO) | time: 2.260000e+00\r"
     ]
    },
    {
     "name": "stderr",
     "output_type": "stream",
     "text": [
      "dream.scalar_transport.time.implicit (INFO) | time: 2.270000e+00\r"
     ]
    },
    {
     "name": "stderr",
     "output_type": "stream",
     "text": [
      "dream.scalar_transport.time.implicit (INFO) | time: 2.280000e+00\r"
     ]
    },
    {
     "name": "stderr",
     "output_type": "stream",
     "text": [
      "dream.scalar_transport.time.implicit (INFO) | time: 2.290000e+00\r"
     ]
    },
    {
     "name": "stderr",
     "output_type": "stream",
     "text": [
      "dream.scalar_transport.time.implicit (INFO) | time: 2.300000e+00\r"
     ]
    },
    {
     "name": "stderr",
     "output_type": "stream",
     "text": [
      "dream.scalar_transport.time.implicit (INFO) | time: 2.310000e+00\r"
     ]
    },
    {
     "name": "stderr",
     "output_type": "stream",
     "text": [
      "dream.scalar_transport.time.implicit (INFO) | time: 2.320000e+00\r"
     ]
    },
    {
     "name": "stderr",
     "output_type": "stream",
     "text": [
      "dream.scalar_transport.time.implicit (INFO) | time: 2.330000e+00\r"
     ]
    },
    {
     "name": "stderr",
     "output_type": "stream",
     "text": [
      "dream.scalar_transport.time.implicit (INFO) | time: 2.340000e+00\r"
     ]
    },
    {
     "name": "stderr",
     "output_type": "stream",
     "text": [
      "dream.scalar_transport.time.implicit (INFO) | time: 2.350000e+00\r"
     ]
    },
    {
     "name": "stderr",
     "output_type": "stream",
     "text": [
      "dream.scalar_transport.time.implicit (INFO) | time: 2.360000e+00\r"
     ]
    },
    {
     "name": "stderr",
     "output_type": "stream",
     "text": [
      "dream.scalar_transport.time.implicit (INFO) | time: 2.370000e+00\r"
     ]
    },
    {
     "name": "stderr",
     "output_type": "stream",
     "text": [
      "dream.scalar_transport.time.implicit (INFO) | time: 2.380000e+00\r"
     ]
    },
    {
     "name": "stderr",
     "output_type": "stream",
     "text": [
      "dream.scalar_transport.time.implicit (INFO) | time: 2.390000e+00\r"
     ]
    },
    {
     "name": "stderr",
     "output_type": "stream",
     "text": [
      "dream.scalar_transport.time.implicit (INFO) | time: 2.400000e+00\r"
     ]
    },
    {
     "name": "stderr",
     "output_type": "stream",
     "text": [
      "dream.scalar_transport.time.implicit (INFO) | time: 2.410000e+00\r"
     ]
    },
    {
     "name": "stderr",
     "output_type": "stream",
     "text": [
      "dream.scalar_transport.time.implicit (INFO) | time: 2.420000e+00\r"
     ]
    },
    {
     "name": "stderr",
     "output_type": "stream",
     "text": [
      "dream.scalar_transport.time.implicit (INFO) | time: 2.430000e+00\r"
     ]
    },
    {
     "name": "stderr",
     "output_type": "stream",
     "text": [
      "dream.scalar_transport.time.implicit (INFO) | time: 2.440000e+00\r"
     ]
    },
    {
     "name": "stderr",
     "output_type": "stream",
     "text": [
      "dream.scalar_transport.time.implicit (INFO) | time: 2.450000e+00\r"
     ]
    },
    {
     "name": "stderr",
     "output_type": "stream",
     "text": [
      "dream.scalar_transport.time.implicit (INFO) | time: 2.460000e+00\r"
     ]
    },
    {
     "name": "stderr",
     "output_type": "stream",
     "text": [
      "dream.scalar_transport.time.implicit (INFO) | time: 2.470000e+00\r"
     ]
    },
    {
     "name": "stderr",
     "output_type": "stream",
     "text": [
      "dream.scalar_transport.time.implicit (INFO) | time: 2.480000e+00\r"
     ]
    },
    {
     "name": "stderr",
     "output_type": "stream",
     "text": [
      "dream.scalar_transport.time.implicit (INFO) | time: 2.490000e+00\r"
     ]
    },
    {
     "name": "stderr",
     "output_type": "stream",
     "text": [
      "dream.scalar_transport.time.implicit (INFO) | time: 2.500000e+00\r"
     ]
    },
    {
     "name": "stderr",
     "output_type": "stream",
     "text": [
      "dream.scalar_transport.time.implicit (INFO) | time: 2.510000e+00\r"
     ]
    },
    {
     "name": "stderr",
     "output_type": "stream",
     "text": [
      "dream.scalar_transport.time.implicit (INFO) | time: 2.520000e+00\r"
     ]
    },
    {
     "name": "stderr",
     "output_type": "stream",
     "text": [
      "dream.scalar_transport.time.implicit (INFO) | time: 2.530000e+00\r"
     ]
    },
    {
     "name": "stderr",
     "output_type": "stream",
     "text": [
      "dream.scalar_transport.time.implicit (INFO) | time: 2.540000e+00\r"
     ]
    },
    {
     "name": "stderr",
     "output_type": "stream",
     "text": [
      "dream.scalar_transport.time.implicit (INFO) | time: 2.550000e+00\r"
     ]
    },
    {
     "name": "stderr",
     "output_type": "stream",
     "text": [
      "dream.scalar_transport.time.implicit (INFO) | time: 2.560000e+00\r"
     ]
    },
    {
     "name": "stderr",
     "output_type": "stream",
     "text": [
      "dream.scalar_transport.time.implicit (INFO) | time: 2.570000e+00\r"
     ]
    },
    {
     "name": "stderr",
     "output_type": "stream",
     "text": [
      "dream.scalar_transport.time.implicit (INFO) | time: 2.580000e+00\r"
     ]
    },
    {
     "name": "stderr",
     "output_type": "stream",
     "text": [
      "dream.scalar_transport.time.implicit (INFO) | time: 2.590000e+00\r"
     ]
    },
    {
     "name": "stderr",
     "output_type": "stream",
     "text": [
      "dream.scalar_transport.time.implicit (INFO) | time: 2.600000e+00\r"
     ]
    },
    {
     "name": "stderr",
     "output_type": "stream",
     "text": [
      "dream.scalar_transport.time.implicit (INFO) | time: 2.610000e+00\r"
     ]
    },
    {
     "name": "stderr",
     "output_type": "stream",
     "text": [
      "dream.scalar_transport.time.implicit (INFO) | time: 2.620000e+00\r"
     ]
    },
    {
     "name": "stderr",
     "output_type": "stream",
     "text": [
      "dream.scalar_transport.time.implicit (INFO) | time: 2.630000e+00\r"
     ]
    },
    {
     "name": "stderr",
     "output_type": "stream",
     "text": [
      "dream.scalar_transport.time.implicit (INFO) | time: 2.640000e+00\r"
     ]
    },
    {
     "name": "stderr",
     "output_type": "stream",
     "text": [
      "dream.scalar_transport.time.implicit (INFO) | time: 2.650000e+00\r"
     ]
    },
    {
     "name": "stderr",
     "output_type": "stream",
     "text": [
      "dream.scalar_transport.time.implicit (INFO) | time: 2.660000e+00\r"
     ]
    },
    {
     "name": "stderr",
     "output_type": "stream",
     "text": [
      "dream.scalar_transport.time.implicit (INFO) | time: 2.670000e+00\r"
     ]
    },
    {
     "name": "stderr",
     "output_type": "stream",
     "text": [
      "dream.scalar_transport.time.implicit (INFO) | time: 2.680000e+00\r"
     ]
    },
    {
     "name": "stderr",
     "output_type": "stream",
     "text": [
      "dream.scalar_transport.time.implicit (INFO) | time: 2.690000e+00\r"
     ]
    },
    {
     "name": "stderr",
     "output_type": "stream",
     "text": [
      "dream.scalar_transport.time.implicit (INFO) | time: 2.700000e+00\r"
     ]
    },
    {
     "name": "stderr",
     "output_type": "stream",
     "text": [
      "dream.scalar_transport.time.implicit (INFO) | time: 2.710000e+00\r"
     ]
    },
    {
     "name": "stderr",
     "output_type": "stream",
     "text": [
      "dream.scalar_transport.time.implicit (INFO) | time: 2.720000e+00\r"
     ]
    },
    {
     "name": "stderr",
     "output_type": "stream",
     "text": [
      "dream.scalar_transport.time.implicit (INFO) | time: 2.730000e+00\r"
     ]
    },
    {
     "name": "stderr",
     "output_type": "stream",
     "text": [
      "dream.scalar_transport.time.implicit (INFO) | time: 2.740000e+00\r"
     ]
    },
    {
     "name": "stderr",
     "output_type": "stream",
     "text": [
      "dream.scalar_transport.time.implicit (INFO) | time: 2.750000e+00\r"
     ]
    },
    {
     "name": "stderr",
     "output_type": "stream",
     "text": [
      "dream.scalar_transport.time.implicit (INFO) | time: 2.760000e+00\r"
     ]
    },
    {
     "name": "stderr",
     "output_type": "stream",
     "text": [
      "dream.scalar_transport.time.implicit (INFO) | time: 2.770000e+00\r"
     ]
    },
    {
     "name": "stderr",
     "output_type": "stream",
     "text": [
      "dream.scalar_transport.time.implicit (INFO) | time: 2.780000e+00\r"
     ]
    },
    {
     "name": "stderr",
     "output_type": "stream",
     "text": [
      "dream.scalar_transport.time.implicit (INFO) | time: 2.790000e+00\r"
     ]
    },
    {
     "name": "stderr",
     "output_type": "stream",
     "text": [
      "dream.scalar_transport.time.implicit (INFO) | time: 2.800000e+00\r"
     ]
    },
    {
     "name": "stderr",
     "output_type": "stream",
     "text": [
      "dream.scalar_transport.time.implicit (INFO) | time: 2.810000e+00\r"
     ]
    },
    {
     "name": "stderr",
     "output_type": "stream",
     "text": [
      "dream.scalar_transport.time.implicit (INFO) | time: 2.820000e+00\r"
     ]
    },
    {
     "name": "stderr",
     "output_type": "stream",
     "text": [
      "dream.scalar_transport.time.implicit (INFO) | time: 2.830000e+00\r"
     ]
    },
    {
     "name": "stderr",
     "output_type": "stream",
     "text": [
      "dream.scalar_transport.time.implicit (INFO) | time: 2.840000e+00\r"
     ]
    },
    {
     "name": "stderr",
     "output_type": "stream",
     "text": [
      "dream.scalar_transport.time.implicit (INFO) | time: 2.850000e+00\r"
     ]
    },
    {
     "name": "stderr",
     "output_type": "stream",
     "text": [
      "dream.scalar_transport.time.implicit (INFO) | time: 2.860000e+00\r"
     ]
    },
    {
     "name": "stderr",
     "output_type": "stream",
     "text": [
      "dream.scalar_transport.time.implicit (INFO) | time: 2.870000e+00\r"
     ]
    },
    {
     "name": "stderr",
     "output_type": "stream",
     "text": [
      "dream.scalar_transport.time.implicit (INFO) | time: 2.880000e+00\r"
     ]
    },
    {
     "name": "stderr",
     "output_type": "stream",
     "text": [
      "dream.scalar_transport.time.implicit (INFO) | time: 2.890000e+00\r"
     ]
    },
    {
     "name": "stderr",
     "output_type": "stream",
     "text": [
      "dream.scalar_transport.time.implicit (INFO) | time: 2.900000e+00\r"
     ]
    },
    {
     "name": "stderr",
     "output_type": "stream",
     "text": [
      "dream.scalar_transport.time.implicit (INFO) | time: 2.910000e+00\r"
     ]
    },
    {
     "name": "stderr",
     "output_type": "stream",
     "text": [
      "dream.scalar_transport.time.implicit (INFO) | time: 2.920000e+00\r"
     ]
    },
    {
     "name": "stderr",
     "output_type": "stream",
     "text": [
      "dream.scalar_transport.time.implicit (INFO) | time: 2.930000e+00\r"
     ]
    },
    {
     "name": "stderr",
     "output_type": "stream",
     "text": [
      "dream.scalar_transport.time.implicit (INFO) | time: 2.940000e+00\r"
     ]
    },
    {
     "name": "stderr",
     "output_type": "stream",
     "text": [
      "dream.scalar_transport.time.implicit (INFO) | time: 2.950000e+00\r"
     ]
    },
    {
     "name": "stderr",
     "output_type": "stream",
     "text": [
      "dream.scalar_transport.time.implicit (INFO) | time: 2.960000e+00\r"
     ]
    },
    {
     "name": "stderr",
     "output_type": "stream",
     "text": [
      "dream.scalar_transport.time.implicit (INFO) | time: 2.970000e+00\r"
     ]
    },
    {
     "name": "stderr",
     "output_type": "stream",
     "text": [
      "dream.scalar_transport.time.implicit (INFO) | time: 2.980000e+00\r"
     ]
    },
    {
     "name": "stderr",
     "output_type": "stream",
     "text": [
      "dream.scalar_transport.time.implicit (INFO) | time: 2.990000e+00\r"
     ]
    },
    {
     "name": "stderr",
     "output_type": "stream",
     "text": [
      "dream.scalar_transport.time.implicit (INFO) | time: 3.000000e+00\r"
     ]
    },
    {
     "name": "stderr",
     "output_type": "stream",
     "text": [
      "dream.scalar_transport.time.implicit (INFO) | time: 3.010000e+00\r"
     ]
    },
    {
     "name": "stderr",
     "output_type": "stream",
     "text": [
      "dream.scalar_transport.time.implicit (INFO) | time: 3.020000e+00\r"
     ]
    },
    {
     "name": "stderr",
     "output_type": "stream",
     "text": [
      "dream.scalar_transport.time.implicit (INFO) | time: 3.030000e+00\r"
     ]
    },
    {
     "name": "stderr",
     "output_type": "stream",
     "text": [
      "dream.scalar_transport.time.implicit (INFO) | time: 3.040000e+00\r"
     ]
    },
    {
     "name": "stderr",
     "output_type": "stream",
     "text": [
      "dream.scalar_transport.time.implicit (INFO) | time: 3.050000e+00\r"
     ]
    },
    {
     "name": "stderr",
     "output_type": "stream",
     "text": [
      "dream.scalar_transport.time.implicit (INFO) | time: 3.060000e+00\r"
     ]
    },
    {
     "name": "stderr",
     "output_type": "stream",
     "text": [
      "dream.scalar_transport.time.implicit (INFO) | time: 3.070000e+00\r"
     ]
    },
    {
     "name": "stderr",
     "output_type": "stream",
     "text": [
      "dream.scalar_transport.time.implicit (INFO) | time: 3.080000e+00\r"
     ]
    },
    {
     "name": "stderr",
     "output_type": "stream",
     "text": [
      "dream.scalar_transport.time.implicit (INFO) | time: 3.090000e+00\r"
     ]
    },
    {
     "name": "stderr",
     "output_type": "stream",
     "text": [
      "dream.scalar_transport.time.implicit (INFO) | time: 3.100000e+00\r"
     ]
    },
    {
     "name": "stderr",
     "output_type": "stream",
     "text": [
      "dream.scalar_transport.time.implicit (INFO) | time: 3.110000e+00\r"
     ]
    },
    {
     "name": "stderr",
     "output_type": "stream",
     "text": [
      "dream.scalar_transport.time.implicit (INFO) | time: 3.120000e+00\r"
     ]
    },
    {
     "name": "stderr",
     "output_type": "stream",
     "text": [
      "dream.scalar_transport.time.implicit (INFO) | time: 3.130000e+00\r"
     ]
    },
    {
     "name": "stderr",
     "output_type": "stream",
     "text": [
      "dream.scalar_transport.time.implicit (INFO) | time: 3.140000e+00\r"
     ]
    },
    {
     "name": "stderr",
     "output_type": "stream",
     "text": [
      "dream.scalar_transport.time.implicit (INFO) | time: 3.150000e+00\r"
     ]
    },
    {
     "name": "stderr",
     "output_type": "stream",
     "text": [
      "dream.scalar_transport.time.implicit (INFO) | time: 3.160000e+00\r"
     ]
    },
    {
     "name": "stderr",
     "output_type": "stream",
     "text": [
      "dream.scalar_transport.time.implicit (INFO) | time: 3.170000e+00\r"
     ]
    },
    {
     "name": "stderr",
     "output_type": "stream",
     "text": [
      "dream.scalar_transport.time.implicit (INFO) | time: 3.180000e+00\r"
     ]
    },
    {
     "name": "stderr",
     "output_type": "stream",
     "text": [
      "dream.scalar_transport.time.implicit (INFO) | time: 3.190000e+00\r"
     ]
    },
    {
     "name": "stderr",
     "output_type": "stream",
     "text": [
      "dream.scalar_transport.time.implicit (INFO) | time: 3.200000e+00\r"
     ]
    },
    {
     "name": "stderr",
     "output_type": "stream",
     "text": [
      "dream.scalar_transport.time.implicit (INFO) | time: 3.210000e+00\r"
     ]
    },
    {
     "name": "stderr",
     "output_type": "stream",
     "text": [
      "dream.scalar_transport.time.implicit (INFO) | time: 3.220000e+00\r"
     ]
    },
    {
     "name": "stderr",
     "output_type": "stream",
     "text": [
      "dream.scalar_transport.time.implicit (INFO) | time: 3.230000e+00\r"
     ]
    },
    {
     "name": "stderr",
     "output_type": "stream",
     "text": [
      "dream.scalar_transport.time.implicit (INFO) | time: 3.240000e+00\r"
     ]
    },
    {
     "name": "stderr",
     "output_type": "stream",
     "text": [
      "dream.scalar_transport.time.implicit (INFO) | time: 3.250000e+00\r"
     ]
    },
    {
     "name": "stderr",
     "output_type": "stream",
     "text": [
      "dream.scalar_transport.time.implicit (INFO) | time: 3.260000e+00\r"
     ]
    },
    {
     "name": "stderr",
     "output_type": "stream",
     "text": [
      "dream.scalar_transport.time.implicit (INFO) | time: 3.270000e+00\r"
     ]
    },
    {
     "name": "stderr",
     "output_type": "stream",
     "text": [
      "dream.scalar_transport.time.implicit (INFO) | time: 3.280000e+00\r"
     ]
    },
    {
     "name": "stderr",
     "output_type": "stream",
     "text": [
      "dream.scalar_transport.time.implicit (INFO) | time: 3.290000e+00\r"
     ]
    },
    {
     "name": "stderr",
     "output_type": "stream",
     "text": [
      "dream.scalar_transport.time.implicit (INFO) | time: 3.300000e+00\r"
     ]
    },
    {
     "name": "stderr",
     "output_type": "stream",
     "text": [
      "dream.scalar_transport.time.implicit (INFO) | time: 3.310000e+00\r"
     ]
    },
    {
     "name": "stderr",
     "output_type": "stream",
     "text": [
      "dream.scalar_transport.time.implicit (INFO) | time: 3.320000e+00\r"
     ]
    },
    {
     "name": "stderr",
     "output_type": "stream",
     "text": [
      "dream.scalar_transport.time.implicit (INFO) | time: 3.330000e+00\r"
     ]
    },
    {
     "name": "stderr",
     "output_type": "stream",
     "text": [
      "dream.scalar_transport.time.implicit (INFO) | time: 3.340000e+00\r"
     ]
    },
    {
     "name": "stderr",
     "output_type": "stream",
     "text": [
      "dream.scalar_transport.time.implicit (INFO) | time: 3.350000e+00\r"
     ]
    },
    {
     "name": "stderr",
     "output_type": "stream",
     "text": [
      "dream.scalar_transport.time.implicit (INFO) | time: 3.360000e+00\r"
     ]
    },
    {
     "name": "stderr",
     "output_type": "stream",
     "text": [
      "dream.scalar_transport.time.implicit (INFO) | time: 3.370000e+00\r"
     ]
    },
    {
     "name": "stderr",
     "output_type": "stream",
     "text": [
      "dream.scalar_transport.time.implicit (INFO) | time: 3.380000e+00\r"
     ]
    },
    {
     "name": "stderr",
     "output_type": "stream",
     "text": [
      "dream.scalar_transport.time.implicit (INFO) | time: 3.390000e+00\r"
     ]
    },
    {
     "name": "stderr",
     "output_type": "stream",
     "text": [
      "dream.scalar_transport.time.implicit (INFO) | time: 3.400000e+00\r"
     ]
    },
    {
     "name": "stderr",
     "output_type": "stream",
     "text": [
      "dream.scalar_transport.time.implicit (INFO) | time: 3.410000e+00\r"
     ]
    },
    {
     "name": "stderr",
     "output_type": "stream",
     "text": [
      "dream.scalar_transport.time.implicit (INFO) | time: 3.420000e+00\r"
     ]
    },
    {
     "name": "stderr",
     "output_type": "stream",
     "text": [
      "dream.scalar_transport.time.implicit (INFO) | time: 3.430000e+00\r"
     ]
    },
    {
     "name": "stderr",
     "output_type": "stream",
     "text": [
      "dream.scalar_transport.time.implicit (INFO) | time: 3.440000e+00\r"
     ]
    },
    {
     "name": "stderr",
     "output_type": "stream",
     "text": [
      "dream.scalar_transport.time.implicit (INFO) | time: 3.450000e+00\r"
     ]
    },
    {
     "name": "stderr",
     "output_type": "stream",
     "text": [
      "dream.scalar_transport.time.implicit (INFO) | time: 3.460000e+00\r"
     ]
    },
    {
     "name": "stderr",
     "output_type": "stream",
     "text": [
      "dream.scalar_transport.time.implicit (INFO) | time: 3.470000e+00\r"
     ]
    },
    {
     "name": "stderr",
     "output_type": "stream",
     "text": [
      "dream.scalar_transport.time.implicit (INFO) | time: 3.480000e+00\r"
     ]
    },
    {
     "name": "stderr",
     "output_type": "stream",
     "text": [
      "dream.scalar_transport.time.implicit (INFO) | time: 3.490000e+00\r"
     ]
    },
    {
     "name": "stderr",
     "output_type": "stream",
     "text": [
      "dream.scalar_transport.time.implicit (INFO) | time: 3.500000e+00\r"
     ]
    },
    {
     "name": "stderr",
     "output_type": "stream",
     "text": [
      "dream.scalar_transport.time.implicit (INFO) | time: 3.510000e+00\r"
     ]
    },
    {
     "name": "stderr",
     "output_type": "stream",
     "text": [
      "dream.scalar_transport.time.implicit (INFO) | time: 3.520000e+00\r"
     ]
    },
    {
     "name": "stderr",
     "output_type": "stream",
     "text": [
      "dream.scalar_transport.time.implicit (INFO) | time: 3.530000e+00\r"
     ]
    },
    {
     "name": "stderr",
     "output_type": "stream",
     "text": [
      "dream.scalar_transport.time.implicit (INFO) | time: 3.540000e+00\r"
     ]
    },
    {
     "name": "stderr",
     "output_type": "stream",
     "text": [
      "dream.scalar_transport.time.implicit (INFO) | time: 3.550000e+00\r"
     ]
    },
    {
     "name": "stderr",
     "output_type": "stream",
     "text": [
      "dream.scalar_transport.time.implicit (INFO) | time: 3.560000e+00\r"
     ]
    },
    {
     "name": "stderr",
     "output_type": "stream",
     "text": [
      "dream.scalar_transport.time.implicit (INFO) | time: 3.570000e+00\r"
     ]
    },
    {
     "name": "stderr",
     "output_type": "stream",
     "text": [
      "dream.scalar_transport.time.implicit (INFO) | time: 3.580000e+00\r"
     ]
    },
    {
     "name": "stderr",
     "output_type": "stream",
     "text": [
      "dream.scalar_transport.time.implicit (INFO) | time: 3.590000e+00\r"
     ]
    },
    {
     "name": "stderr",
     "output_type": "stream",
     "text": [
      "dream.scalar_transport.time.implicit (INFO) | time: 3.600000e+00\r"
     ]
    },
    {
     "name": "stderr",
     "output_type": "stream",
     "text": [
      "dream.scalar_transport.time.implicit (INFO) | time: 3.610000e+00\r"
     ]
    },
    {
     "name": "stderr",
     "output_type": "stream",
     "text": [
      "dream.scalar_transport.time.implicit (INFO) | time: 3.620000e+00\r"
     ]
    },
    {
     "name": "stderr",
     "output_type": "stream",
     "text": [
      "dream.scalar_transport.time.implicit (INFO) | time: 3.630000e+00\r"
     ]
    },
    {
     "name": "stderr",
     "output_type": "stream",
     "text": [
      "dream.scalar_transport.time.implicit (INFO) | time: 3.640000e+00\r"
     ]
    },
    {
     "name": "stderr",
     "output_type": "stream",
     "text": [
      "dream.scalar_transport.time.implicit (INFO) | time: 3.650000e+00\r"
     ]
    },
    {
     "name": "stderr",
     "output_type": "stream",
     "text": [
      "dream.scalar_transport.time.implicit (INFO) | time: 3.660000e+00\r"
     ]
    },
    {
     "name": "stderr",
     "output_type": "stream",
     "text": [
      "dream.scalar_transport.time.implicit (INFO) | time: 3.670000e+00\r"
     ]
    },
    {
     "name": "stderr",
     "output_type": "stream",
     "text": [
      "dream.scalar_transport.time.implicit (INFO) | time: 3.680000e+00\r"
     ]
    },
    {
     "name": "stderr",
     "output_type": "stream",
     "text": [
      "dream.scalar_transport.time.implicit (INFO) | time: 3.690000e+00\r"
     ]
    },
    {
     "name": "stderr",
     "output_type": "stream",
     "text": [
      "dream.scalar_transport.time.implicit (INFO) | time: 3.700000e+00\r"
     ]
    },
    {
     "name": "stderr",
     "output_type": "stream",
     "text": [
      "dream.scalar_transport.time.implicit (INFO) | time: 3.710000e+00\r"
     ]
    },
    {
     "name": "stderr",
     "output_type": "stream",
     "text": [
      "dream.scalar_transport.time.implicit (INFO) | time: 3.720000e+00\r"
     ]
    },
    {
     "name": "stderr",
     "output_type": "stream",
     "text": [
      "dream.scalar_transport.time.implicit (INFO) | time: 3.730000e+00\r"
     ]
    },
    {
     "name": "stderr",
     "output_type": "stream",
     "text": [
      "dream.scalar_transport.time.implicit (INFO) | time: 3.740000e+00\r"
     ]
    },
    {
     "name": "stderr",
     "output_type": "stream",
     "text": [
      "dream.scalar_transport.time.implicit (INFO) | time: 3.750000e+00\r"
     ]
    },
    {
     "name": "stderr",
     "output_type": "stream",
     "text": [
      "dream.scalar_transport.time.implicit (INFO) | time: 3.760000e+00\r"
     ]
    },
    {
     "name": "stderr",
     "output_type": "stream",
     "text": [
      "dream.scalar_transport.time.implicit (INFO) | time: 3.770000e+00\r"
     ]
    },
    {
     "name": "stderr",
     "output_type": "stream",
     "text": [
      "dream.scalar_transport.time.implicit (INFO) | time: 3.780000e+00\r"
     ]
    },
    {
     "name": "stderr",
     "output_type": "stream",
     "text": [
      "dream.scalar_transport.time.implicit (INFO) | time: 3.790000e+00\r"
     ]
    },
    {
     "name": "stderr",
     "output_type": "stream",
     "text": [
      "dream.scalar_transport.time.implicit (INFO) | time: 3.800000e+00\r"
     ]
    },
    {
     "name": "stderr",
     "output_type": "stream",
     "text": [
      "dream.scalar_transport.time.implicit (INFO) | time: 3.810000e+00\r"
     ]
    },
    {
     "name": "stderr",
     "output_type": "stream",
     "text": [
      "dream.scalar_transport.time.implicit (INFO) | time: 3.820000e+00\r"
     ]
    },
    {
     "name": "stderr",
     "output_type": "stream",
     "text": [
      "dream.scalar_transport.time.implicit (INFO) | time: 3.830000e+00\r"
     ]
    },
    {
     "name": "stderr",
     "output_type": "stream",
     "text": [
      "dream.scalar_transport.time.implicit (INFO) | time: 3.840000e+00\r"
     ]
    },
    {
     "name": "stderr",
     "output_type": "stream",
     "text": [
      "dream.scalar_transport.time.implicit (INFO) | time: 3.850000e+00\r"
     ]
    },
    {
     "name": "stderr",
     "output_type": "stream",
     "text": [
      "dream.scalar_transport.time.implicit (INFO) | time: 3.860000e+00\r"
     ]
    },
    {
     "name": "stderr",
     "output_type": "stream",
     "text": [
      "dream.scalar_transport.time.implicit (INFO) | time: 3.870000e+00\r"
     ]
    },
    {
     "name": "stderr",
     "output_type": "stream",
     "text": [
      "dream.scalar_transport.time.implicit (INFO) | time: 3.880000e+00\r"
     ]
    },
    {
     "name": "stderr",
     "output_type": "stream",
     "text": [
      "dream.scalar_transport.time.implicit (INFO) | time: 3.890000e+00\r"
     ]
    },
    {
     "name": "stderr",
     "output_type": "stream",
     "text": [
      "dream.scalar_transport.time.implicit (INFO) | time: 3.900000e+00\r"
     ]
    },
    {
     "name": "stderr",
     "output_type": "stream",
     "text": [
      "dream.scalar_transport.time.implicit (INFO) | time: 3.910000e+00\r"
     ]
    },
    {
     "name": "stderr",
     "output_type": "stream",
     "text": [
      "dream.scalar_transport.time.implicit (INFO) | time: 3.920000e+00\r"
     ]
    },
    {
     "name": "stderr",
     "output_type": "stream",
     "text": [
      "dream.scalar_transport.time.implicit (INFO) | time: 3.930000e+00\r"
     ]
    },
    {
     "name": "stderr",
     "output_type": "stream",
     "text": [
      "dream.scalar_transport.time.implicit (INFO) | time: 3.940000e+00\r"
     ]
    },
    {
     "name": "stderr",
     "output_type": "stream",
     "text": [
      "dream.scalar_transport.time.implicit (INFO) | time: 3.950000e+00\r"
     ]
    },
    {
     "name": "stderr",
     "output_type": "stream",
     "text": [
      "dream.scalar_transport.time.implicit (INFO) | time: 3.960000e+00\r"
     ]
    },
    {
     "name": "stderr",
     "output_type": "stream",
     "text": [
      "dream.scalar_transport.time.implicit (INFO) | time: 3.970000e+00\r"
     ]
    },
    {
     "name": "stderr",
     "output_type": "stream",
     "text": [
      "dream.scalar_transport.time.implicit (INFO) | time: 3.980000e+00\r"
     ]
    },
    {
     "name": "stderr",
     "output_type": "stream",
     "text": [
      "dream.scalar_transport.time.implicit (INFO) | time: 3.990000e+00\r"
     ]
    },
    {
     "name": "stderr",
     "output_type": "stream",
     "text": [
      "dream.scalar_transport.time.implicit (INFO) | time: 4.000000e+00\r"
     ]
    },
    {
     "name": "stderr",
     "output_type": "stream",
     "text": [
      "dream.scalar_transport.time.implicit (INFO) | time: 4.010000e+00\r"
     ]
    },
    {
     "name": "stderr",
     "output_type": "stream",
     "text": [
      "dream.scalar_transport.time.implicit (INFO) | time: 4.020000e+00\r"
     ]
    },
    {
     "name": "stderr",
     "output_type": "stream",
     "text": [
      "dream.scalar_transport.time.implicit (INFO) | time: 4.030000e+00\r"
     ]
    },
    {
     "name": "stderr",
     "output_type": "stream",
     "text": [
      "dream.scalar_transport.time.implicit (INFO) | time: 4.040000e+00\r"
     ]
    },
    {
     "name": "stderr",
     "output_type": "stream",
     "text": [
      "dream.scalar_transport.time.implicit (INFO) | time: 4.050000e+00\r"
     ]
    },
    {
     "name": "stderr",
     "output_type": "stream",
     "text": [
      "dream.scalar_transport.time.implicit (INFO) | time: 4.060000e+00\r"
     ]
    },
    {
     "name": "stderr",
     "output_type": "stream",
     "text": [
      "dream.scalar_transport.time.implicit (INFO) | time: 4.070000e+00\r"
     ]
    },
    {
     "name": "stderr",
     "output_type": "stream",
     "text": [
      "dream.scalar_transport.time.implicit (INFO) | time: 4.080000e+00\r"
     ]
    },
    {
     "name": "stderr",
     "output_type": "stream",
     "text": [
      "dream.scalar_transport.time.implicit (INFO) | time: 4.090000e+00\r"
     ]
    },
    {
     "name": "stderr",
     "output_type": "stream",
     "text": [
      "dream.scalar_transport.time.implicit (INFO) | time: 4.100000e+00\r"
     ]
    },
    {
     "name": "stderr",
     "output_type": "stream",
     "text": [
      "dream.scalar_transport.time.implicit (INFO) | time: 4.110000e+00\r"
     ]
    },
    {
     "name": "stderr",
     "output_type": "stream",
     "text": [
      "dream.scalar_transport.time.implicit (INFO) | time: 4.120000e+00\r"
     ]
    },
    {
     "name": "stderr",
     "output_type": "stream",
     "text": [
      "dream.scalar_transport.time.implicit (INFO) | time: 4.130000e+00\r"
     ]
    },
    {
     "name": "stderr",
     "output_type": "stream",
     "text": [
      "dream.scalar_transport.time.implicit (INFO) | time: 4.140000e+00\r"
     ]
    },
    {
     "name": "stderr",
     "output_type": "stream",
     "text": [
      "dream.scalar_transport.time.implicit (INFO) | time: 4.150000e+00\r"
     ]
    },
    {
     "name": "stderr",
     "output_type": "stream",
     "text": [
      "dream.scalar_transport.time.implicit (INFO) | time: 4.160000e+00\r"
     ]
    },
    {
     "name": "stderr",
     "output_type": "stream",
     "text": [
      "dream.scalar_transport.time.implicit (INFO) | time: 4.170000e+00\r"
     ]
    },
    {
     "name": "stderr",
     "output_type": "stream",
     "text": [
      "dream.scalar_transport.time.implicit (INFO) | time: 4.180000e+00\r"
     ]
    },
    {
     "name": "stderr",
     "output_type": "stream",
     "text": [
      "dream.scalar_transport.time.implicit (INFO) | time: 4.190000e+00\r"
     ]
    },
    {
     "name": "stderr",
     "output_type": "stream",
     "text": [
      "dream.scalar_transport.time.implicit (INFO) | time: 4.200000e+00\r"
     ]
    },
    {
     "name": "stderr",
     "output_type": "stream",
     "text": [
      "dream.scalar_transport.time.implicit (INFO) | time: 4.210000e+00\r"
     ]
    },
    {
     "name": "stderr",
     "output_type": "stream",
     "text": [
      "dream.scalar_transport.time.implicit (INFO) | time: 4.220000e+00\r"
     ]
    },
    {
     "name": "stderr",
     "output_type": "stream",
     "text": [
      "dream.scalar_transport.time.implicit (INFO) | time: 4.230000e+00\r"
     ]
    },
    {
     "name": "stderr",
     "output_type": "stream",
     "text": [
      "dream.scalar_transport.time.implicit (INFO) | time: 4.240000e+00\r"
     ]
    },
    {
     "name": "stderr",
     "output_type": "stream",
     "text": [
      "dream.scalar_transport.time.implicit (INFO) | time: 4.250000e+00\r"
     ]
    },
    {
     "name": "stderr",
     "output_type": "stream",
     "text": [
      "dream.scalar_transport.time.implicit (INFO) | time: 4.260000e+00\r"
     ]
    },
    {
     "name": "stderr",
     "output_type": "stream",
     "text": [
      "dream.scalar_transport.time.implicit (INFO) | time: 4.270000e+00\r"
     ]
    },
    {
     "name": "stderr",
     "output_type": "stream",
     "text": [
      "dream.scalar_transport.time.implicit (INFO) | time: 4.280000e+00\r"
     ]
    },
    {
     "name": "stderr",
     "output_type": "stream",
     "text": [
      "dream.scalar_transport.time.implicit (INFO) | time: 4.290000e+00\r"
     ]
    },
    {
     "name": "stderr",
     "output_type": "stream",
     "text": [
      "dream.scalar_transport.time.implicit (INFO) | time: 4.300000e+00\r"
     ]
    },
    {
     "name": "stderr",
     "output_type": "stream",
     "text": [
      "dream.scalar_transport.time.implicit (INFO) | time: 4.310000e+00\r"
     ]
    },
    {
     "name": "stderr",
     "output_type": "stream",
     "text": [
      "dream.scalar_transport.time.implicit (INFO) | time: 4.320000e+00\r"
     ]
    },
    {
     "name": "stderr",
     "output_type": "stream",
     "text": [
      "dream.scalar_transport.time.implicit (INFO) | time: 4.330000e+00\r"
     ]
    },
    {
     "name": "stderr",
     "output_type": "stream",
     "text": [
      "dream.scalar_transport.time.implicit (INFO) | time: 4.340000e+00\r"
     ]
    },
    {
     "name": "stderr",
     "output_type": "stream",
     "text": [
      "dream.scalar_transport.time.implicit (INFO) | time: 4.350000e+00\r"
     ]
    },
    {
     "name": "stderr",
     "output_type": "stream",
     "text": [
      "dream.scalar_transport.time.implicit (INFO) | time: 4.360000e+00\r"
     ]
    },
    {
     "name": "stderr",
     "output_type": "stream",
     "text": [
      "dream.scalar_transport.time.implicit (INFO) | time: 4.370000e+00\r"
     ]
    },
    {
     "name": "stderr",
     "output_type": "stream",
     "text": [
      "dream.scalar_transport.time.implicit (INFO) | time: 4.380000e+00\r"
     ]
    },
    {
     "name": "stderr",
     "output_type": "stream",
     "text": [
      "dream.scalar_transport.time.implicit (INFO) | time: 4.390000e+00\r"
     ]
    },
    {
     "name": "stderr",
     "output_type": "stream",
     "text": [
      "dream.scalar_transport.time.implicit (INFO) | time: 4.400000e+00\r"
     ]
    },
    {
     "name": "stderr",
     "output_type": "stream",
     "text": [
      "dream.scalar_transport.time.implicit (INFO) | time: 4.410000e+00\r"
     ]
    },
    {
     "name": "stderr",
     "output_type": "stream",
     "text": [
      "dream.scalar_transport.time.implicit (INFO) | time: 4.420000e+00\r"
     ]
    },
    {
     "name": "stderr",
     "output_type": "stream",
     "text": [
      "dream.scalar_transport.time.implicit (INFO) | time: 4.430000e+00\r"
     ]
    },
    {
     "name": "stderr",
     "output_type": "stream",
     "text": [
      "dream.scalar_transport.time.implicit (INFO) | time: 4.440000e+00\r"
     ]
    },
    {
     "name": "stderr",
     "output_type": "stream",
     "text": [
      "dream.scalar_transport.time.implicit (INFO) | time: 4.450000e+00\r"
     ]
    },
    {
     "name": "stderr",
     "output_type": "stream",
     "text": [
      "dream.scalar_transport.time.implicit (INFO) | time: 4.460000e+00\r"
     ]
    },
    {
     "name": "stderr",
     "output_type": "stream",
     "text": [
      "dream.scalar_transport.time.implicit (INFO) | time: 4.470000e+00\r"
     ]
    },
    {
     "name": "stderr",
     "output_type": "stream",
     "text": [
      "dream.scalar_transport.time.implicit (INFO) | time: 4.480000e+00\r"
     ]
    },
    {
     "name": "stderr",
     "output_type": "stream",
     "text": [
      "dream.scalar_transport.time.implicit (INFO) | time: 4.490000e+00\r"
     ]
    },
    {
     "name": "stderr",
     "output_type": "stream",
     "text": [
      "dream.scalar_transport.time.implicit (INFO) | time: 4.500000e+00\r"
     ]
    },
    {
     "name": "stderr",
     "output_type": "stream",
     "text": [
      "dream.scalar_transport.time.implicit (INFO) | time: 4.510000e+00\r"
     ]
    },
    {
     "name": "stderr",
     "output_type": "stream",
     "text": [
      "dream.scalar_transport.time.implicit (INFO) | time: 4.520000e+00\r"
     ]
    },
    {
     "name": "stderr",
     "output_type": "stream",
     "text": [
      "dream.scalar_transport.time.implicit (INFO) | time: 4.530000e+00\r"
     ]
    },
    {
     "name": "stderr",
     "output_type": "stream",
     "text": [
      "dream.scalar_transport.time.implicit (INFO) | time: 4.540000e+00\r"
     ]
    },
    {
     "name": "stderr",
     "output_type": "stream",
     "text": [
      "dream.scalar_transport.time.implicit (INFO) | time: 4.550000e+00\r"
     ]
    },
    {
     "name": "stderr",
     "output_type": "stream",
     "text": [
      "dream.scalar_transport.time.implicit (INFO) | time: 4.560000e+00\r"
     ]
    },
    {
     "name": "stderr",
     "output_type": "stream",
     "text": [
      "dream.scalar_transport.time.implicit (INFO) | time: 4.570000e+00\r"
     ]
    },
    {
     "name": "stderr",
     "output_type": "stream",
     "text": [
      "dream.scalar_transport.time.implicit (INFO) | time: 4.580000e+00\r"
     ]
    },
    {
     "name": "stderr",
     "output_type": "stream",
     "text": [
      "dream.scalar_transport.time.implicit (INFO) | time: 4.590000e+00\r"
     ]
    },
    {
     "name": "stderr",
     "output_type": "stream",
     "text": [
      "dream.scalar_transport.time.implicit (INFO) | time: 4.600000e+00\r"
     ]
    },
    {
     "name": "stderr",
     "output_type": "stream",
     "text": [
      "dream.scalar_transport.time.implicit (INFO) | time: 4.610000e+00\r"
     ]
    },
    {
     "name": "stderr",
     "output_type": "stream",
     "text": [
      "dream.scalar_transport.time.implicit (INFO) | time: 4.620000e+00\r"
     ]
    },
    {
     "name": "stderr",
     "output_type": "stream",
     "text": [
      "dream.scalar_transport.time.implicit (INFO) | time: 4.630000e+00\r"
     ]
    },
    {
     "name": "stderr",
     "output_type": "stream",
     "text": [
      "dream.scalar_transport.time.implicit (INFO) | time: 4.640000e+00\r"
     ]
    },
    {
     "name": "stderr",
     "output_type": "stream",
     "text": [
      "dream.scalar_transport.time.implicit (INFO) | time: 4.650000e+00\r"
     ]
    },
    {
     "name": "stderr",
     "output_type": "stream",
     "text": [
      "dream.scalar_transport.time.implicit (INFO) | time: 4.660000e+00\r"
     ]
    },
    {
     "name": "stderr",
     "output_type": "stream",
     "text": [
      "dream.scalar_transport.time.implicit (INFO) | time: 4.670000e+00\r"
     ]
    },
    {
     "name": "stderr",
     "output_type": "stream",
     "text": [
      "dream.scalar_transport.time.implicit (INFO) | time: 4.680000e+00\r"
     ]
    },
    {
     "name": "stderr",
     "output_type": "stream",
     "text": [
      "dream.scalar_transport.time.implicit (INFO) | time: 4.690000e+00\r"
     ]
    },
    {
     "name": "stderr",
     "output_type": "stream",
     "text": [
      "dream.scalar_transport.time.implicit (INFO) | time: 4.700000e+00\r"
     ]
    },
    {
     "name": "stderr",
     "output_type": "stream",
     "text": [
      "dream.scalar_transport.time.implicit (INFO) | time: 4.710000e+00\r"
     ]
    },
    {
     "name": "stderr",
     "output_type": "stream",
     "text": [
      "dream.scalar_transport.time.implicit (INFO) | time: 4.720000e+00\r"
     ]
    },
    {
     "name": "stderr",
     "output_type": "stream",
     "text": [
      "dream.scalar_transport.time.implicit (INFO) | time: 4.730000e+00\r"
     ]
    },
    {
     "name": "stderr",
     "output_type": "stream",
     "text": [
      "dream.scalar_transport.time.implicit (INFO) | time: 4.740000e+00\r"
     ]
    },
    {
     "name": "stderr",
     "output_type": "stream",
     "text": [
      "dream.scalar_transport.time.implicit (INFO) | time: 4.750000e+00\r"
     ]
    },
    {
     "name": "stderr",
     "output_type": "stream",
     "text": [
      "dream.scalar_transport.time.implicit (INFO) | time: 4.760000e+00\r"
     ]
    },
    {
     "name": "stderr",
     "output_type": "stream",
     "text": [
      "dream.scalar_transport.time.implicit (INFO) | time: 4.770000e+00\r"
     ]
    },
    {
     "name": "stderr",
     "output_type": "stream",
     "text": [
      "dream.scalar_transport.time.implicit (INFO) | time: 4.780000e+00\r"
     ]
    },
    {
     "name": "stderr",
     "output_type": "stream",
     "text": [
      "dream.scalar_transport.time.implicit (INFO) | time: 4.790000e+00\r"
     ]
    },
    {
     "name": "stderr",
     "output_type": "stream",
     "text": [
      "dream.scalar_transport.time.implicit (INFO) | time: 4.800000e+00\r"
     ]
    },
    {
     "name": "stderr",
     "output_type": "stream",
     "text": [
      "dream.scalar_transport.time.implicit (INFO) | time: 4.810000e+00\r"
     ]
    },
    {
     "name": "stderr",
     "output_type": "stream",
     "text": [
      "dream.scalar_transport.time.implicit (INFO) | time: 4.820000e+00\r"
     ]
    },
    {
     "name": "stderr",
     "output_type": "stream",
     "text": [
      "dream.scalar_transport.time.implicit (INFO) | time: 4.830000e+00\r"
     ]
    },
    {
     "name": "stderr",
     "output_type": "stream",
     "text": [
      "dream.scalar_transport.time.implicit (INFO) | time: 4.840000e+00\r"
     ]
    },
    {
     "name": "stderr",
     "output_type": "stream",
     "text": [
      "dream.scalar_transport.time.implicit (INFO) | time: 4.850000e+00\r"
     ]
    },
    {
     "name": "stderr",
     "output_type": "stream",
     "text": [
      "dream.scalar_transport.time.implicit (INFO) | time: 4.860000e+00\r"
     ]
    },
    {
     "name": "stderr",
     "output_type": "stream",
     "text": [
      "dream.scalar_transport.time.implicit (INFO) | time: 4.870000e+00\r"
     ]
    },
    {
     "name": "stderr",
     "output_type": "stream",
     "text": [
      "dream.scalar_transport.time.implicit (INFO) | time: 4.880000e+00\r"
     ]
    },
    {
     "name": "stderr",
     "output_type": "stream",
     "text": [
      "dream.scalar_transport.time.implicit (INFO) | time: 4.890000e+00\r"
     ]
    },
    {
     "name": "stderr",
     "output_type": "stream",
     "text": [
      "dream.scalar_transport.time.implicit (INFO) | time: 4.900000e+00\r"
     ]
    },
    {
     "name": "stderr",
     "output_type": "stream",
     "text": [
      "dream.scalar_transport.time.implicit (INFO) | time: 4.910000e+00\r"
     ]
    },
    {
     "name": "stderr",
     "output_type": "stream",
     "text": [
      "dream.scalar_transport.time.implicit (INFO) | time: 4.920000e+00\r"
     ]
    },
    {
     "name": "stderr",
     "output_type": "stream",
     "text": [
      "dream.scalar_transport.time.implicit (INFO) | time: 4.930000e+00\r"
     ]
    },
    {
     "name": "stderr",
     "output_type": "stream",
     "text": [
      "dream.scalar_transport.time.implicit (INFO) | time: 4.940000e+00\r"
     ]
    },
    {
     "name": "stderr",
     "output_type": "stream",
     "text": [
      "dream.scalar_transport.time.implicit (INFO) | time: 4.950000e+00\r"
     ]
    },
    {
     "name": "stderr",
     "output_type": "stream",
     "text": [
      "dream.scalar_transport.time.implicit (INFO) | time: 4.960000e+00\r"
     ]
    },
    {
     "name": "stderr",
     "output_type": "stream",
     "text": [
      "dream.scalar_transport.time.implicit (INFO) | time: 4.970000e+00\r"
     ]
    },
    {
     "name": "stderr",
     "output_type": "stream",
     "text": [
      "dream.scalar_transport.time.implicit (INFO) | time: 4.980000e+00\r"
     ]
    },
    {
     "name": "stderr",
     "output_type": "stream",
     "text": [
      "dream.scalar_transport.time.implicit (INFO) | time: 4.990000e+00\r"
     ]
    },
    {
     "name": "stderr",
     "output_type": "stream",
     "text": [
      "dream.scalar_transport.time.implicit (INFO) | time: 5.000000e+00\r"
     ]
    },
    {
     "name": "stderr",
     "output_type": "stream",
     "text": [
      "dream.scalar_transport.time.implicit (INFO) | time: 5.010000e+00\r"
     ]
    },
    {
     "name": "stderr",
     "output_type": "stream",
     "text": [
      "dream.scalar_transport.time.implicit (INFO) | time: 5.020000e+00\r"
     ]
    },
    {
     "name": "stderr",
     "output_type": "stream",
     "text": [
      "dream.scalar_transport.time.implicit (INFO) | time: 5.030000e+00\r"
     ]
    },
    {
     "name": "stderr",
     "output_type": "stream",
     "text": [
      "dream.scalar_transport.time.implicit (INFO) | time: 5.040000e+00\r"
     ]
    },
    {
     "name": "stderr",
     "output_type": "stream",
     "text": [
      "dream.scalar_transport.time.implicit (INFO) | time: 5.050000e+00\r"
     ]
    },
    {
     "name": "stderr",
     "output_type": "stream",
     "text": [
      "dream.scalar_transport.time.implicit (INFO) | time: 5.060000e+00\r"
     ]
    },
    {
     "name": "stderr",
     "output_type": "stream",
     "text": [
      "dream.scalar_transport.time.implicit (INFO) | time: 5.070000e+00\r"
     ]
    },
    {
     "name": "stderr",
     "output_type": "stream",
     "text": [
      "dream.scalar_transport.time.implicit (INFO) | time: 5.080000e+00\r"
     ]
    },
    {
     "name": "stderr",
     "output_type": "stream",
     "text": [
      "dream.scalar_transport.time.implicit (INFO) | time: 5.090000e+00\r"
     ]
    },
    {
     "name": "stderr",
     "output_type": "stream",
     "text": [
      "dream.scalar_transport.time.implicit (INFO) | time: 5.100000e+00\r"
     ]
    },
    {
     "name": "stderr",
     "output_type": "stream",
     "text": [
      "dream.scalar_transport.time.implicit (INFO) | time: 5.110000e+00\r"
     ]
    },
    {
     "name": "stderr",
     "output_type": "stream",
     "text": [
      "dream.scalar_transport.time.implicit (INFO) | time: 5.120000e+00\r"
     ]
    },
    {
     "name": "stderr",
     "output_type": "stream",
     "text": [
      "dream.scalar_transport.time.implicit (INFO) | time: 5.130000e+00\r"
     ]
    },
    {
     "name": "stderr",
     "output_type": "stream",
     "text": [
      "dream.scalar_transport.time.implicit (INFO) | time: 5.140000e+00\r"
     ]
    },
    {
     "name": "stderr",
     "output_type": "stream",
     "text": [
      "dream.scalar_transport.time.implicit (INFO) | time: 5.150000e+00\r"
     ]
    },
    {
     "name": "stderr",
     "output_type": "stream",
     "text": [
      "dream.scalar_transport.time.implicit (INFO) | time: 5.160000e+00\r"
     ]
    },
    {
     "name": "stderr",
     "output_type": "stream",
     "text": [
      "dream.scalar_transport.time.implicit (INFO) | time: 5.170000e+00\r"
     ]
    },
    {
     "name": "stderr",
     "output_type": "stream",
     "text": [
      "dream.scalar_transport.time.implicit (INFO) | time: 5.180000e+00\r"
     ]
    },
    {
     "name": "stderr",
     "output_type": "stream",
     "text": [
      "dream.scalar_transport.time.implicit (INFO) | time: 5.190000e+00\r"
     ]
    },
    {
     "name": "stderr",
     "output_type": "stream",
     "text": [
      "dream.scalar_transport.time.implicit (INFO) | time: 5.200000e+00\r"
     ]
    },
    {
     "name": "stderr",
     "output_type": "stream",
     "text": [
      "dream.scalar_transport.time.implicit (INFO) | time: 5.210000e+00\r"
     ]
    },
    {
     "name": "stderr",
     "output_type": "stream",
     "text": [
      "dream.scalar_transport.time.implicit (INFO) | time: 5.220000e+00\r"
     ]
    },
    {
     "name": "stderr",
     "output_type": "stream",
     "text": [
      "dream.scalar_transport.time.implicit (INFO) | time: 5.230000e+00\r"
     ]
    },
    {
     "name": "stderr",
     "output_type": "stream",
     "text": [
      "dream.scalar_transport.time.implicit (INFO) | time: 5.240000e+00\r"
     ]
    },
    {
     "name": "stderr",
     "output_type": "stream",
     "text": [
      "dream.scalar_transport.time.implicit (INFO) | time: 5.250000e+00\r"
     ]
    },
    {
     "name": "stderr",
     "output_type": "stream",
     "text": [
      "dream.scalar_transport.time.implicit (INFO) | time: 5.260000e+00\r"
     ]
    },
    {
     "name": "stderr",
     "output_type": "stream",
     "text": [
      "dream.scalar_transport.time.implicit (INFO) | time: 5.270000e+00\r"
     ]
    },
    {
     "name": "stderr",
     "output_type": "stream",
     "text": [
      "dream.scalar_transport.time.implicit (INFO) | time: 5.280000e+00\r"
     ]
    },
    {
     "name": "stderr",
     "output_type": "stream",
     "text": [
      "dream.scalar_transport.time.implicit (INFO) | time: 5.290000e+00\r"
     ]
    },
    {
     "name": "stderr",
     "output_type": "stream",
     "text": [
      "dream.scalar_transport.time.implicit (INFO) | time: 5.300000e+00\r"
     ]
    },
    {
     "name": "stderr",
     "output_type": "stream",
     "text": [
      "dream.scalar_transport.time.implicit (INFO) | time: 5.310000e+00\r"
     ]
    },
    {
     "name": "stderr",
     "output_type": "stream",
     "text": [
      "dream.scalar_transport.time.implicit (INFO) | time: 5.320000e+00\r"
     ]
    },
    {
     "name": "stderr",
     "output_type": "stream",
     "text": [
      "dream.scalar_transport.time.implicit (INFO) | time: 5.330000e+00\r"
     ]
    },
    {
     "name": "stderr",
     "output_type": "stream",
     "text": [
      "dream.scalar_transport.time.implicit (INFO) | time: 5.340000e+00\r"
     ]
    },
    {
     "name": "stderr",
     "output_type": "stream",
     "text": [
      "dream.scalar_transport.time.implicit (INFO) | time: 5.350000e+00\r"
     ]
    },
    {
     "name": "stderr",
     "output_type": "stream",
     "text": [
      "dream.scalar_transport.time.implicit (INFO) | time: 5.360000e+00\r"
     ]
    },
    {
     "name": "stderr",
     "output_type": "stream",
     "text": [
      "dream.scalar_transport.time.implicit (INFO) | time: 5.370000e+00\r"
     ]
    },
    {
     "name": "stderr",
     "output_type": "stream",
     "text": [
      "dream.scalar_transport.time.implicit (INFO) | time: 5.380000e+00\r"
     ]
    },
    {
     "name": "stderr",
     "output_type": "stream",
     "text": [
      "dream.scalar_transport.time.implicit (INFO) | time: 5.390000e+00\r"
     ]
    },
    {
     "name": "stderr",
     "output_type": "stream",
     "text": [
      "dream.scalar_transport.time.implicit (INFO) | time: 5.400000e+00\r"
     ]
    },
    {
     "name": "stderr",
     "output_type": "stream",
     "text": [
      "dream.scalar_transport.time.implicit (INFO) | time: 5.410000e+00\r"
     ]
    },
    {
     "name": "stderr",
     "output_type": "stream",
     "text": [
      "dream.scalar_transport.time.implicit (INFO) | time: 5.420000e+00\r"
     ]
    },
    {
     "name": "stderr",
     "output_type": "stream",
     "text": [
      "dream.scalar_transport.time.implicit (INFO) | time: 5.430000e+00\r"
     ]
    },
    {
     "name": "stderr",
     "output_type": "stream",
     "text": [
      "dream.scalar_transport.time.implicit (INFO) | time: 5.440000e+00\r"
     ]
    },
    {
     "name": "stderr",
     "output_type": "stream",
     "text": [
      "dream.scalar_transport.time.implicit (INFO) | time: 5.450000e+00\r"
     ]
    },
    {
     "name": "stderr",
     "output_type": "stream",
     "text": [
      "dream.scalar_transport.time.implicit (INFO) | time: 5.460000e+00\r"
     ]
    },
    {
     "name": "stderr",
     "output_type": "stream",
     "text": [
      "dream.scalar_transport.time.implicit (INFO) | time: 5.470000e+00\r"
     ]
    },
    {
     "name": "stderr",
     "output_type": "stream",
     "text": [
      "dream.scalar_transport.time.implicit (INFO) | time: 5.480000e+00\r"
     ]
    },
    {
     "name": "stderr",
     "output_type": "stream",
     "text": [
      "dream.scalar_transport.time.implicit (INFO) | time: 5.490000e+00\r"
     ]
    },
    {
     "name": "stderr",
     "output_type": "stream",
     "text": [
      "dream.scalar_transport.time.implicit (INFO) | time: 5.500000e+00\r"
     ]
    },
    {
     "name": "stderr",
     "output_type": "stream",
     "text": [
      "dream.scalar_transport.time.implicit (INFO) | time: 5.510000e+00\r"
     ]
    },
    {
     "name": "stderr",
     "output_type": "stream",
     "text": [
      "dream.scalar_transport.time.implicit (INFO) | time: 5.520000e+00\r"
     ]
    },
    {
     "name": "stderr",
     "output_type": "stream",
     "text": [
      "dream.scalar_transport.time.implicit (INFO) | time: 5.530000e+00\r"
     ]
    },
    {
     "name": "stderr",
     "output_type": "stream",
     "text": [
      "dream.scalar_transport.time.implicit (INFO) | time: 5.540000e+00\r"
     ]
    },
    {
     "name": "stderr",
     "output_type": "stream",
     "text": [
      "dream.scalar_transport.time.implicit (INFO) | time: 5.550000e+00\r"
     ]
    },
    {
     "name": "stderr",
     "output_type": "stream",
     "text": [
      "dream.scalar_transport.time.implicit (INFO) | time: 5.560000e+00\r"
     ]
    },
    {
     "name": "stderr",
     "output_type": "stream",
     "text": [
      "dream.scalar_transport.time.implicit (INFO) | time: 5.570000e+00\r"
     ]
    },
    {
     "name": "stderr",
     "output_type": "stream",
     "text": [
      "dream.scalar_transport.time.implicit (INFO) | time: 5.580000e+00\r"
     ]
    },
    {
     "name": "stderr",
     "output_type": "stream",
     "text": [
      "dream.scalar_transport.time.implicit (INFO) | time: 5.590000e+00\r"
     ]
    },
    {
     "name": "stderr",
     "output_type": "stream",
     "text": [
      "dream.scalar_transport.time.implicit (INFO) | time: 5.600000e+00\r"
     ]
    },
    {
     "name": "stderr",
     "output_type": "stream",
     "text": [
      "dream.scalar_transport.time.implicit (INFO) | time: 5.610000e+00\r"
     ]
    },
    {
     "name": "stderr",
     "output_type": "stream",
     "text": [
      "dream.scalar_transport.time.implicit (INFO) | time: 5.620000e+00\r"
     ]
    },
    {
     "name": "stderr",
     "output_type": "stream",
     "text": [
      "dream.scalar_transport.time.implicit (INFO) | time: 5.630000e+00\r"
     ]
    },
    {
     "name": "stderr",
     "output_type": "stream",
     "text": [
      "dream.scalar_transport.time.implicit (INFO) | time: 5.640000e+00\r"
     ]
    },
    {
     "name": "stderr",
     "output_type": "stream",
     "text": [
      "dream.scalar_transport.time.implicit (INFO) | time: 5.650000e+00\r"
     ]
    },
    {
     "name": "stderr",
     "output_type": "stream",
     "text": [
      "dream.scalar_transport.time.implicit (INFO) | time: 5.660000e+00\r"
     ]
    },
    {
     "name": "stderr",
     "output_type": "stream",
     "text": [
      "dream.scalar_transport.time.implicit (INFO) | time: 5.670000e+00\r"
     ]
    },
    {
     "name": "stderr",
     "output_type": "stream",
     "text": [
      "dream.scalar_transport.time.implicit (INFO) | time: 5.680000e+00\r"
     ]
    },
    {
     "name": "stderr",
     "output_type": "stream",
     "text": [
      "dream.scalar_transport.time.implicit (INFO) | time: 5.690000e+00\r"
     ]
    },
    {
     "name": "stderr",
     "output_type": "stream",
     "text": [
      "dream.scalar_transport.time.implicit (INFO) | time: 5.700000e+00\r"
     ]
    },
    {
     "name": "stderr",
     "output_type": "stream",
     "text": [
      "dream.scalar_transport.time.implicit (INFO) | time: 5.710000e+00\r"
     ]
    },
    {
     "name": "stderr",
     "output_type": "stream",
     "text": [
      "dream.scalar_transport.time.implicit (INFO) | time: 5.720000e+00\r"
     ]
    },
    {
     "name": "stderr",
     "output_type": "stream",
     "text": [
      "dream.scalar_transport.time.implicit (INFO) | time: 5.730000e+00\r"
     ]
    },
    {
     "name": "stderr",
     "output_type": "stream",
     "text": [
      "dream.scalar_transport.time.implicit (INFO) | time: 5.740000e+00\r"
     ]
    },
    {
     "name": "stderr",
     "output_type": "stream",
     "text": [
      "dream.scalar_transport.time.implicit (INFO) | time: 5.750000e+00\r"
     ]
    },
    {
     "name": "stderr",
     "output_type": "stream",
     "text": [
      "dream.scalar_transport.time.implicit (INFO) | time: 5.760000e+00\r"
     ]
    },
    {
     "name": "stderr",
     "output_type": "stream",
     "text": [
      "dream.scalar_transport.time.implicit (INFO) | time: 5.770000e+00\r"
     ]
    },
    {
     "name": "stderr",
     "output_type": "stream",
     "text": [
      "dream.scalar_transport.time.implicit (INFO) | time: 5.780000e+00\r"
     ]
    },
    {
     "name": "stderr",
     "output_type": "stream",
     "text": [
      "dream.scalar_transport.time.implicit (INFO) | time: 5.790000e+00\r"
     ]
    },
    {
     "name": "stderr",
     "output_type": "stream",
     "text": [
      "dream.scalar_transport.time.implicit (INFO) | time: 5.800000e+00\r"
     ]
    },
    {
     "name": "stderr",
     "output_type": "stream",
     "text": [
      "dream.scalar_transport.time.implicit (INFO) | time: 5.810000e+00\r"
     ]
    },
    {
     "name": "stderr",
     "output_type": "stream",
     "text": [
      "dream.scalar_transport.time.implicit (INFO) | time: 5.820000e+00\r"
     ]
    },
    {
     "name": "stderr",
     "output_type": "stream",
     "text": [
      "dream.scalar_transport.time.implicit (INFO) | time: 5.830000e+00\r"
     ]
    },
    {
     "name": "stderr",
     "output_type": "stream",
     "text": [
      "dream.scalar_transport.time.implicit (INFO) | time: 5.840000e+00\r"
     ]
    },
    {
     "name": "stderr",
     "output_type": "stream",
     "text": [
      "dream.scalar_transport.time.implicit (INFO) | time: 5.850000e+00\r"
     ]
    },
    {
     "name": "stderr",
     "output_type": "stream",
     "text": [
      "dream.scalar_transport.time.implicit (INFO) | time: 5.860000e+00\r"
     ]
    },
    {
     "name": "stderr",
     "output_type": "stream",
     "text": [
      "dream.scalar_transport.time.implicit (INFO) | time: 5.870000e+00\r"
     ]
    },
    {
     "name": "stderr",
     "output_type": "stream",
     "text": [
      "dream.scalar_transport.time.implicit (INFO) | time: 5.880000e+00\r"
     ]
    },
    {
     "name": "stderr",
     "output_type": "stream",
     "text": [
      "dream.scalar_transport.time.implicit (INFO) | time: 5.890000e+00\r"
     ]
    },
    {
     "name": "stderr",
     "output_type": "stream",
     "text": [
      "dream.scalar_transport.time.implicit (INFO) | time: 5.900000e+00\r"
     ]
    },
    {
     "name": "stderr",
     "output_type": "stream",
     "text": [
      "dream.scalar_transport.time.implicit (INFO) | time: 5.910000e+00\r"
     ]
    },
    {
     "name": "stderr",
     "output_type": "stream",
     "text": [
      "dream.scalar_transport.time.implicit (INFO) | time: 5.920000e+00\r"
     ]
    },
    {
     "name": "stderr",
     "output_type": "stream",
     "text": [
      "dream.scalar_transport.time.implicit (INFO) | time: 5.930000e+00\r"
     ]
    },
    {
     "name": "stderr",
     "output_type": "stream",
     "text": [
      "dream.scalar_transport.time.implicit (INFO) | time: 5.940000e+00\r"
     ]
    },
    {
     "name": "stderr",
     "output_type": "stream",
     "text": [
      "dream.scalar_transport.time.implicit (INFO) | time: 5.950000e+00\r"
     ]
    },
    {
     "name": "stderr",
     "output_type": "stream",
     "text": [
      "dream.scalar_transport.time.implicit (INFO) | time: 5.960000e+00\r"
     ]
    },
    {
     "name": "stderr",
     "output_type": "stream",
     "text": [
      "dream.scalar_transport.time.implicit (INFO) | time: 5.970000e+00\r"
     ]
    },
    {
     "name": "stderr",
     "output_type": "stream",
     "text": [
      "dream.scalar_transport.time.implicit (INFO) | time: 5.980000e+00\r"
     ]
    },
    {
     "name": "stderr",
     "output_type": "stream",
     "text": [
      "dream.scalar_transport.time.implicit (INFO) | time: 5.990000e+00\r"
     ]
    },
    {
     "name": "stderr",
     "output_type": "stream",
     "text": [
      "dream.scalar_transport.time.implicit (INFO) | time: 6.000000e+00\r"
     ]
    },
    {
     "name": "stderr",
     "output_type": "stream",
     "text": [
      "dream.scalar_transport.time.implicit (INFO) | time: 6.010000e+00\r"
     ]
    },
    {
     "name": "stderr",
     "output_type": "stream",
     "text": [
      "dream.scalar_transport.time.implicit (INFO) | time: 6.020000e+00\r"
     ]
    },
    {
     "name": "stderr",
     "output_type": "stream",
     "text": [
      "dream.scalar_transport.time.implicit (INFO) | time: 6.030000e+00\r"
     ]
    },
    {
     "name": "stderr",
     "output_type": "stream",
     "text": [
      "dream.scalar_transport.time.implicit (INFO) | time: 6.040000e+00\r"
     ]
    },
    {
     "name": "stderr",
     "output_type": "stream",
     "text": [
      "dream.scalar_transport.time.implicit (INFO) | time: 6.050000e+00\r"
     ]
    },
    {
     "name": "stderr",
     "output_type": "stream",
     "text": [
      "dream.scalar_transport.time.implicit (INFO) | time: 6.060000e+00\r"
     ]
    },
    {
     "name": "stderr",
     "output_type": "stream",
     "text": [
      "dream.scalar_transport.time.implicit (INFO) | time: 6.070000e+00\r"
     ]
    },
    {
     "name": "stderr",
     "output_type": "stream",
     "text": [
      "dream.scalar_transport.time.implicit (INFO) | time: 6.080000e+00\r"
     ]
    },
    {
     "name": "stderr",
     "output_type": "stream",
     "text": [
      "dream.scalar_transport.time.implicit (INFO) | time: 6.090000e+00\r"
     ]
    },
    {
     "name": "stderr",
     "output_type": "stream",
     "text": [
      "dream.scalar_transport.time.implicit (INFO) | time: 6.100000e+00\r"
     ]
    },
    {
     "name": "stderr",
     "output_type": "stream",
     "text": [
      "dream.scalar_transport.time.implicit (INFO) | time: 6.110000e+00\r"
     ]
    },
    {
     "name": "stderr",
     "output_type": "stream",
     "text": [
      "dream.scalar_transport.time.implicit (INFO) | time: 6.120000e+00\r"
     ]
    },
    {
     "name": "stderr",
     "output_type": "stream",
     "text": [
      "dream.scalar_transport.time.implicit (INFO) | time: 6.130000e+00\r"
     ]
    },
    {
     "name": "stderr",
     "output_type": "stream",
     "text": [
      "dream.scalar_transport.time.implicit (INFO) | time: 6.140000e+00\r"
     ]
    },
    {
     "name": "stderr",
     "output_type": "stream",
     "text": [
      "dream.scalar_transport.time.implicit (INFO) | time: 6.150000e+00\r"
     ]
    },
    {
     "name": "stderr",
     "output_type": "stream",
     "text": [
      "dream.scalar_transport.time.implicit (INFO) | time: 6.160000e+00\r"
     ]
    },
    {
     "name": "stderr",
     "output_type": "stream",
     "text": [
      "dream.scalar_transport.time.implicit (INFO) | time: 6.170000e+00\r"
     ]
    },
    {
     "name": "stderr",
     "output_type": "stream",
     "text": [
      "dream.scalar_transport.time.implicit (INFO) | time: 6.180000e+00\r"
     ]
    },
    {
     "name": "stderr",
     "output_type": "stream",
     "text": [
      "dream.scalar_transport.time.implicit (INFO) | time: 6.190000e+00\r"
     ]
    },
    {
     "name": "stderr",
     "output_type": "stream",
     "text": [
      "dream.scalar_transport.time.implicit (INFO) | time: 6.200000e+00\r"
     ]
    },
    {
     "name": "stderr",
     "output_type": "stream",
     "text": [
      "dream.scalar_transport.time.implicit (INFO) | time: 6.210000e+00\r"
     ]
    },
    {
     "name": "stderr",
     "output_type": "stream",
     "text": [
      "dream.scalar_transport.time.implicit (INFO) | time: 6.220000e+00\r"
     ]
    },
    {
     "name": "stderr",
     "output_type": "stream",
     "text": [
      "dream.scalar_transport.time.implicit (INFO) | time: 6.230000e+00\r"
     ]
    },
    {
     "name": "stderr",
     "output_type": "stream",
     "text": [
      "dream.scalar_transport.time.implicit (INFO) | time: 6.240000e+00\r"
     ]
    },
    {
     "name": "stderr",
     "output_type": "stream",
     "text": [
      "dream.scalar_transport.time.implicit (INFO) | time: 6.250000e+00\r"
     ]
    },
    {
     "name": "stderr",
     "output_type": "stream",
     "text": [
      "dream.scalar_transport.time.implicit (INFO) | time: 6.260000e+00\r"
     ]
    },
    {
     "name": "stderr",
     "output_type": "stream",
     "text": [
      "dream.scalar_transport.time.implicit (INFO) | time: 6.270000e+00\r"
     ]
    },
    {
     "name": "stderr",
     "output_type": "stream",
     "text": [
      "dream.scalar_transport.time.implicit (INFO) | time: 6.280000e+00\r"
     ]
    },
    {
     "name": "stderr",
     "output_type": "stream",
     "text": [
      "dream.scalar_transport.time.implicit (INFO) | time: 6.290000e+00\r"
     ]
    },
    {
     "name": "stderr",
     "output_type": "stream",
     "text": [
      "dream.scalar_transport.time.implicit (INFO) | time: 6.300000e+00\r"
     ]
    },
    {
     "name": "stderr",
     "output_type": "stream",
     "text": [
      "dream.scalar_transport.time.implicit (INFO) | time: 6.310000e+00\r"
     ]
    },
    {
     "name": "stderr",
     "output_type": "stream",
     "text": [
      "dream.scalar_transport.time.implicit (INFO) | time: 6.320000e+00\r"
     ]
    },
    {
     "name": "stderr",
     "output_type": "stream",
     "text": [
      "dream.scalar_transport.time.implicit (INFO) | time: 6.330000e+00\r"
     ]
    },
    {
     "name": "stderr",
     "output_type": "stream",
     "text": [
      "dream.scalar_transport.time.implicit (INFO) | time: 6.340000e+00\r"
     ]
    },
    {
     "name": "stderr",
     "output_type": "stream",
     "text": [
      "dream.scalar_transport.time.implicit (INFO) | time: 6.350000e+00\r"
     ]
    },
    {
     "name": "stderr",
     "output_type": "stream",
     "text": [
      "dream.scalar_transport.time.implicit (INFO) | time: 6.360000e+00\r"
     ]
    },
    {
     "name": "stderr",
     "output_type": "stream",
     "text": [
      "dream.scalar_transport.time.implicit (INFO) | time: 6.370000e+00\r"
     ]
    },
    {
     "name": "stderr",
     "output_type": "stream",
     "text": [
      "dream.scalar_transport.time.implicit (INFO) | time: 6.380000e+00\r"
     ]
    },
    {
     "name": "stderr",
     "output_type": "stream",
     "text": [
      "dream.scalar_transport.time.implicit (INFO) | time: 6.390000e+00\r"
     ]
    },
    {
     "name": "stderr",
     "output_type": "stream",
     "text": [
      "dream.scalar_transport.time.implicit (INFO) | time: 6.400000e+00\r"
     ]
    },
    {
     "name": "stderr",
     "output_type": "stream",
     "text": [
      "dream.scalar_transport.time.implicit (INFO) | time: 6.410000e+00\r"
     ]
    },
    {
     "name": "stderr",
     "output_type": "stream",
     "text": [
      "dream.scalar_transport.time.implicit (INFO) | time: 6.420000e+00\r"
     ]
    },
    {
     "name": "stderr",
     "output_type": "stream",
     "text": [
      "dream.scalar_transport.time.implicit (INFO) | time: 6.430000e+00\r"
     ]
    },
    {
     "name": "stderr",
     "output_type": "stream",
     "text": [
      "dream.scalar_transport.time.implicit (INFO) | time: 6.440000e+00\r"
     ]
    },
    {
     "name": "stderr",
     "output_type": "stream",
     "text": [
      "dream.scalar_transport.time.implicit (INFO) | time: 6.450000e+00\r"
     ]
    },
    {
     "name": "stderr",
     "output_type": "stream",
     "text": [
      "dream.scalar_transport.time.implicit (INFO) | time: 6.460000e+00\r"
     ]
    },
    {
     "name": "stderr",
     "output_type": "stream",
     "text": [
      "dream.scalar_transport.time.implicit (INFO) | time: 6.470000e+00\r"
     ]
    },
    {
     "name": "stderr",
     "output_type": "stream",
     "text": [
      "dream.scalar_transport.time.implicit (INFO) | time: 6.480000e+00\r"
     ]
    },
    {
     "name": "stderr",
     "output_type": "stream",
     "text": [
      "dream.scalar_transport.time.implicit (INFO) | time: 6.490000e+00\r"
     ]
    },
    {
     "name": "stderr",
     "output_type": "stream",
     "text": [
      "dream.scalar_transport.time.implicit (INFO) | time: 6.500000e+00\r"
     ]
    },
    {
     "name": "stderr",
     "output_type": "stream",
     "text": [
      "dream.scalar_transport.time.implicit (INFO) | time: 6.510000e+00\r"
     ]
    },
    {
     "name": "stderr",
     "output_type": "stream",
     "text": [
      "dream.scalar_transport.time.implicit (INFO) | time: 6.520000e+00\r"
     ]
    },
    {
     "name": "stderr",
     "output_type": "stream",
     "text": [
      "dream.scalar_transport.time.implicit (INFO) | time: 6.530000e+00\r"
     ]
    },
    {
     "name": "stderr",
     "output_type": "stream",
     "text": [
      "dream.scalar_transport.time.implicit (INFO) | time: 6.540000e+00\r"
     ]
    },
    {
     "name": "stderr",
     "output_type": "stream",
     "text": [
      "dream.scalar_transport.time.implicit (INFO) | time: 6.550000e+00\r"
     ]
    },
    {
     "name": "stderr",
     "output_type": "stream",
     "text": [
      "dream.scalar_transport.time.implicit (INFO) | time: 6.560000e+00\r"
     ]
    },
    {
     "name": "stderr",
     "output_type": "stream",
     "text": [
      "dream.scalar_transport.time.implicit (INFO) | time: 6.570000e+00\r"
     ]
    },
    {
     "name": "stderr",
     "output_type": "stream",
     "text": [
      "dream.scalar_transport.time.implicit (INFO) | time: 6.580000e+00\r"
     ]
    },
    {
     "name": "stderr",
     "output_type": "stream",
     "text": [
      "dream.scalar_transport.time.implicit (INFO) | time: 6.590000e+00\r"
     ]
    },
    {
     "name": "stderr",
     "output_type": "stream",
     "text": [
      "dream.scalar_transport.time.implicit (INFO) | time: 6.600000e+00\r"
     ]
    },
    {
     "name": "stderr",
     "output_type": "stream",
     "text": [
      "dream.scalar_transport.time.implicit (INFO) | time: 6.610000e+00\r"
     ]
    },
    {
     "name": "stderr",
     "output_type": "stream",
     "text": [
      "dream.scalar_transport.time.implicit (INFO) | time: 6.620000e+00\r"
     ]
    },
    {
     "name": "stderr",
     "output_type": "stream",
     "text": [
      "dream.scalar_transport.time.implicit (INFO) | time: 6.630000e+00\r"
     ]
    },
    {
     "name": "stderr",
     "output_type": "stream",
     "text": [
      "dream.scalar_transport.time.implicit (INFO) | time: 6.640000e+00\r"
     ]
    },
    {
     "name": "stderr",
     "output_type": "stream",
     "text": [
      "dream.scalar_transport.time.implicit (INFO) | time: 6.650000e+00\r"
     ]
    },
    {
     "name": "stderr",
     "output_type": "stream",
     "text": [
      "dream.scalar_transport.time.implicit (INFO) | time: 6.660000e+00\r"
     ]
    },
    {
     "name": "stderr",
     "output_type": "stream",
     "text": [
      "dream.scalar_transport.time.implicit (INFO) | time: 6.670000e+00\r"
     ]
    },
    {
     "name": "stderr",
     "output_type": "stream",
     "text": [
      "dream.scalar_transport.time.implicit (INFO) | time: 6.680000e+00\r"
     ]
    },
    {
     "name": "stderr",
     "output_type": "stream",
     "text": [
      "dream.scalar_transport.time.implicit (INFO) | time: 6.690000e+00\r"
     ]
    },
    {
     "name": "stderr",
     "output_type": "stream",
     "text": [
      "dream.scalar_transport.time.implicit (INFO) | time: 6.700000e+00\r"
     ]
    },
    {
     "name": "stderr",
     "output_type": "stream",
     "text": [
      "dream.scalar_transport.time.implicit (INFO) | time: 6.710000e+00\r"
     ]
    },
    {
     "name": "stderr",
     "output_type": "stream",
     "text": [
      "dream.scalar_transport.time.implicit (INFO) | time: 6.720000e+00\r"
     ]
    },
    {
     "name": "stderr",
     "output_type": "stream",
     "text": [
      "dream.scalar_transport.time.implicit (INFO) | time: 6.730000e+00\r"
     ]
    },
    {
     "name": "stderr",
     "output_type": "stream",
     "text": [
      "dream.scalar_transport.time.implicit (INFO) | time: 6.740000e+00\r"
     ]
    },
    {
     "name": "stderr",
     "output_type": "stream",
     "text": [
      "dream.scalar_transport.time.implicit (INFO) | time: 6.750000e+00\r"
     ]
    },
    {
     "name": "stderr",
     "output_type": "stream",
     "text": [
      "dream.scalar_transport.time.implicit (INFO) | time: 6.760000e+00\r"
     ]
    },
    {
     "name": "stderr",
     "output_type": "stream",
     "text": [
      "dream.scalar_transport.time.implicit (INFO) | time: 6.770000e+00\r"
     ]
    },
    {
     "name": "stderr",
     "output_type": "stream",
     "text": [
      "dream.scalar_transport.time.implicit (INFO) | time: 6.780000e+00\r"
     ]
    },
    {
     "name": "stderr",
     "output_type": "stream",
     "text": [
      "dream.scalar_transport.time.implicit (INFO) | time: 6.790000e+00\r"
     ]
    },
    {
     "name": "stderr",
     "output_type": "stream",
     "text": [
      "dream.scalar_transport.time.implicit (INFO) | time: 6.800000e+00\r"
     ]
    },
    {
     "name": "stderr",
     "output_type": "stream",
     "text": [
      "dream.scalar_transport.time.implicit (INFO) | time: 6.810000e+00\r"
     ]
    },
    {
     "name": "stderr",
     "output_type": "stream",
     "text": [
      "dream.scalar_transport.time.implicit (INFO) | time: 6.820000e+00\r"
     ]
    },
    {
     "name": "stderr",
     "output_type": "stream",
     "text": [
      "dream.scalar_transport.time.implicit (INFO) | time: 6.830000e+00\r"
     ]
    },
    {
     "name": "stderr",
     "output_type": "stream",
     "text": [
      "dream.scalar_transport.time.implicit (INFO) | time: 6.840000e+00\r"
     ]
    },
    {
     "name": "stderr",
     "output_type": "stream",
     "text": [
      "dream.scalar_transport.time.implicit (INFO) | time: 6.850000e+00\r"
     ]
    },
    {
     "name": "stderr",
     "output_type": "stream",
     "text": [
      "dream.scalar_transport.time.implicit (INFO) | time: 6.860000e+00\r"
     ]
    },
    {
     "name": "stderr",
     "output_type": "stream",
     "text": [
      "dream.scalar_transport.time.implicit (INFO) | time: 6.870000e+00\r"
     ]
    },
    {
     "name": "stderr",
     "output_type": "stream",
     "text": [
      "dream.scalar_transport.time.implicit (INFO) | time: 6.880000e+00\r"
     ]
    },
    {
     "name": "stderr",
     "output_type": "stream",
     "text": [
      "dream.scalar_transport.time.implicit (INFO) | time: 6.890000e+00\r"
     ]
    },
    {
     "name": "stderr",
     "output_type": "stream",
     "text": [
      "dream.scalar_transport.time.implicit (INFO) | time: 6.900000e+00\r"
     ]
    },
    {
     "name": "stderr",
     "output_type": "stream",
     "text": [
      "dream.scalar_transport.time.implicit (INFO) | time: 6.910000e+00\r"
     ]
    },
    {
     "name": "stderr",
     "output_type": "stream",
     "text": [
      "dream.scalar_transport.time.implicit (INFO) | time: 6.920000e+00\r"
     ]
    },
    {
     "name": "stderr",
     "output_type": "stream",
     "text": [
      "dream.scalar_transport.time.implicit (INFO) | time: 6.930000e+00\r"
     ]
    },
    {
     "name": "stderr",
     "output_type": "stream",
     "text": [
      "dream.scalar_transport.time.implicit (INFO) | time: 6.940000e+00\r"
     ]
    },
    {
     "name": "stderr",
     "output_type": "stream",
     "text": [
      "dream.scalar_transport.time.implicit (INFO) | time: 6.950000e+00\r"
     ]
    },
    {
     "name": "stderr",
     "output_type": "stream",
     "text": [
      "dream.scalar_transport.time.implicit (INFO) | time: 6.960000e+00\r"
     ]
    },
    {
     "name": "stderr",
     "output_type": "stream",
     "text": [
      "dream.scalar_transport.time.implicit (INFO) | time: 6.970000e+00\r"
     ]
    },
    {
     "name": "stderr",
     "output_type": "stream",
     "text": [
      "dream.scalar_transport.time.implicit (INFO) | time: 6.980000e+00\r"
     ]
    },
    {
     "name": "stderr",
     "output_type": "stream",
     "text": [
      "dream.scalar_transport.time.implicit (INFO) | time: 6.990000e+00\r"
     ]
    },
    {
     "name": "stderr",
     "output_type": "stream",
     "text": [
      "dream.scalar_transport.time.implicit (INFO) | time: 7.000000e+00\r"
     ]
    },
    {
     "name": "stderr",
     "output_type": "stream",
     "text": [
      "dream.scalar_transport.time.implicit (INFO) | time: 7.010000e+00\r"
     ]
    },
    {
     "name": "stderr",
     "output_type": "stream",
     "text": [
      "dream.scalar_transport.time.implicit (INFO) | time: 7.020000e+00\r"
     ]
    },
    {
     "name": "stderr",
     "output_type": "stream",
     "text": [
      "dream.scalar_transport.time.implicit (INFO) | time: 7.030000e+00\r"
     ]
    },
    {
     "name": "stderr",
     "output_type": "stream",
     "text": [
      "dream.scalar_transport.time.implicit (INFO) | time: 7.040000e+00\r"
     ]
    },
    {
     "name": "stderr",
     "output_type": "stream",
     "text": [
      "dream.scalar_transport.time.implicit (INFO) | time: 7.050000e+00\r"
     ]
    },
    {
     "name": "stderr",
     "output_type": "stream",
     "text": [
      "dream.scalar_transport.time.implicit (INFO) | time: 7.060000e+00\r"
     ]
    },
    {
     "name": "stderr",
     "output_type": "stream",
     "text": [
      "dream.scalar_transport.time.implicit (INFO) | time: 7.070000e+00\r"
     ]
    },
    {
     "name": "stderr",
     "output_type": "stream",
     "text": [
      "dream.scalar_transport.time.implicit (INFO) | time: 7.080000e+00\r"
     ]
    },
    {
     "name": "stderr",
     "output_type": "stream",
     "text": [
      "dream.scalar_transport.time.implicit (INFO) | time: 7.090000e+00\r"
     ]
    },
    {
     "name": "stderr",
     "output_type": "stream",
     "text": [
      "dream.scalar_transport.time.implicit (INFO) | time: 7.100000e+00\r"
     ]
    },
    {
     "name": "stderr",
     "output_type": "stream",
     "text": [
      "dream.scalar_transport.time.implicit (INFO) | time: 7.110000e+00\r"
     ]
    },
    {
     "name": "stderr",
     "output_type": "stream",
     "text": [
      "dream.scalar_transport.time.implicit (INFO) | time: 7.120000e+00\r"
     ]
    },
    {
     "name": "stderr",
     "output_type": "stream",
     "text": [
      "dream.scalar_transport.time.implicit (INFO) | time: 7.130000e+00\r"
     ]
    },
    {
     "name": "stderr",
     "output_type": "stream",
     "text": [
      "dream.scalar_transport.time.implicit (INFO) | time: 7.140000e+00\r"
     ]
    },
    {
     "name": "stderr",
     "output_type": "stream",
     "text": [
      "dream.scalar_transport.time.implicit (INFO) | time: 7.150000e+00\r"
     ]
    },
    {
     "name": "stderr",
     "output_type": "stream",
     "text": [
      "dream.scalar_transport.time.implicit (INFO) | time: 7.160000e+00\r"
     ]
    },
    {
     "name": "stderr",
     "output_type": "stream",
     "text": [
      "dream.scalar_transport.time.implicit (INFO) | time: 7.170000e+00\r"
     ]
    },
    {
     "name": "stderr",
     "output_type": "stream",
     "text": [
      "dream.scalar_transport.time.implicit (INFO) | time: 7.180000e+00\r"
     ]
    },
    {
     "name": "stderr",
     "output_type": "stream",
     "text": [
      "dream.scalar_transport.time.implicit (INFO) | time: 7.190000e+00\r"
     ]
    },
    {
     "name": "stderr",
     "output_type": "stream",
     "text": [
      "dream.scalar_transport.time.implicit (INFO) | time: 7.200000e+00\r"
     ]
    },
    {
     "name": "stderr",
     "output_type": "stream",
     "text": [
      "dream.scalar_transport.time.implicit (INFO) | time: 7.210000e+00\r"
     ]
    },
    {
     "name": "stderr",
     "output_type": "stream",
     "text": [
      "dream.scalar_transport.time.implicit (INFO) | time: 7.220000e+00\r"
     ]
    },
    {
     "name": "stderr",
     "output_type": "stream",
     "text": [
      "dream.scalar_transport.time.implicit (INFO) | time: 7.230000e+00\r"
     ]
    },
    {
     "name": "stderr",
     "output_type": "stream",
     "text": [
      "dream.scalar_transport.time.implicit (INFO) | time: 7.240000e+00\r"
     ]
    },
    {
     "name": "stderr",
     "output_type": "stream",
     "text": [
      "dream.scalar_transport.time.implicit (INFO) | time: 7.250000e+00\r"
     ]
    },
    {
     "name": "stderr",
     "output_type": "stream",
     "text": [
      "dream.scalar_transport.time.implicit (INFO) | time: 7.260000e+00\r"
     ]
    },
    {
     "name": "stderr",
     "output_type": "stream",
     "text": [
      "dream.scalar_transport.time.implicit (INFO) | time: 7.270000e+00\r"
     ]
    },
    {
     "name": "stderr",
     "output_type": "stream",
     "text": [
      "dream.scalar_transport.time.implicit (INFO) | time: 7.280000e+00\r"
     ]
    },
    {
     "name": "stderr",
     "output_type": "stream",
     "text": [
      "dream.scalar_transport.time.implicit (INFO) | time: 7.290000e+00\r"
     ]
    },
    {
     "name": "stderr",
     "output_type": "stream",
     "text": [
      "dream.scalar_transport.time.implicit (INFO) | time: 7.300000e+00\r"
     ]
    },
    {
     "name": "stderr",
     "output_type": "stream",
     "text": [
      "dream.scalar_transport.time.implicit (INFO) | time: 7.310000e+00\r"
     ]
    },
    {
     "name": "stderr",
     "output_type": "stream",
     "text": [
      "dream.scalar_transport.time.implicit (INFO) | time: 7.320000e+00\r"
     ]
    },
    {
     "name": "stderr",
     "output_type": "stream",
     "text": [
      "dream.scalar_transport.time.implicit (INFO) | time: 7.330000e+00\r"
     ]
    },
    {
     "name": "stderr",
     "output_type": "stream",
     "text": [
      "dream.scalar_transport.time.implicit (INFO) | time: 7.340000e+00\r"
     ]
    },
    {
     "name": "stderr",
     "output_type": "stream",
     "text": [
      "dream.scalar_transport.time.implicit (INFO) | time: 7.350000e+00\r"
     ]
    },
    {
     "name": "stderr",
     "output_type": "stream",
     "text": [
      "dream.scalar_transport.time.implicit (INFO) | time: 7.360000e+00\r"
     ]
    },
    {
     "name": "stderr",
     "output_type": "stream",
     "text": [
      "dream.scalar_transport.time.implicit (INFO) | time: 7.370000e+00\r"
     ]
    },
    {
     "name": "stderr",
     "output_type": "stream",
     "text": [
      "dream.scalar_transport.time.implicit (INFO) | time: 7.380000e+00\r"
     ]
    },
    {
     "name": "stderr",
     "output_type": "stream",
     "text": [
      "dream.scalar_transport.time.implicit (INFO) | time: 7.390000e+00\r"
     ]
    },
    {
     "name": "stderr",
     "output_type": "stream",
     "text": [
      "dream.scalar_transport.time.implicit (INFO) | time: 7.400000e+00\r"
     ]
    },
    {
     "name": "stderr",
     "output_type": "stream",
     "text": [
      "dream.scalar_transport.time.implicit (INFO) | time: 7.410000e+00\r"
     ]
    },
    {
     "name": "stderr",
     "output_type": "stream",
     "text": [
      "dream.scalar_transport.time.implicit (INFO) | time: 7.420000e+00\r"
     ]
    },
    {
     "name": "stderr",
     "output_type": "stream",
     "text": [
      "dream.scalar_transport.time.implicit (INFO) | time: 7.430000e+00\r"
     ]
    },
    {
     "name": "stderr",
     "output_type": "stream",
     "text": [
      "dream.scalar_transport.time.implicit (INFO) | time: 7.440000e+00\r"
     ]
    },
    {
     "name": "stderr",
     "output_type": "stream",
     "text": [
      "dream.scalar_transport.time.implicit (INFO) | time: 7.450000e+00\r"
     ]
    },
    {
     "name": "stderr",
     "output_type": "stream",
     "text": [
      "dream.scalar_transport.time.implicit (INFO) | time: 7.460000e+00\r"
     ]
    },
    {
     "name": "stderr",
     "output_type": "stream",
     "text": [
      "dream.scalar_transport.time.implicit (INFO) | time: 7.470000e+00\r"
     ]
    },
    {
     "name": "stderr",
     "output_type": "stream",
     "text": [
      "dream.scalar_transport.time.implicit (INFO) | time: 7.480000e+00\r"
     ]
    },
    {
     "name": "stderr",
     "output_type": "stream",
     "text": [
      "dream.scalar_transport.time.implicit (INFO) | time: 7.490000e+00\r"
     ]
    },
    {
     "name": "stderr",
     "output_type": "stream",
     "text": [
      "dream.scalar_transport.time.implicit (INFO) | time: 7.500000e+00\r"
     ]
    },
    {
     "name": "stderr",
     "output_type": "stream",
     "text": [
      "dream.scalar_transport.time.implicit (INFO) | time: 7.510000e+00\r"
     ]
    },
    {
     "name": "stderr",
     "output_type": "stream",
     "text": [
      "dream.scalar_transport.time.implicit (INFO) | time: 7.520000e+00\r"
     ]
    },
    {
     "name": "stderr",
     "output_type": "stream",
     "text": [
      "dream.scalar_transport.time.implicit (INFO) | time: 7.530000e+00\r"
     ]
    },
    {
     "name": "stderr",
     "output_type": "stream",
     "text": [
      "dream.scalar_transport.time.implicit (INFO) | time: 7.540000e+00\r"
     ]
    },
    {
     "name": "stderr",
     "output_type": "stream",
     "text": [
      "dream.scalar_transport.time.implicit (INFO) | time: 7.550000e+00\r"
     ]
    },
    {
     "name": "stderr",
     "output_type": "stream",
     "text": [
      "dream.scalar_transport.time.implicit (INFO) | time: 7.560000e+00\r"
     ]
    },
    {
     "name": "stderr",
     "output_type": "stream",
     "text": [
      "dream.scalar_transport.time.implicit (INFO) | time: 7.570000e+00\r"
     ]
    },
    {
     "name": "stderr",
     "output_type": "stream",
     "text": [
      "dream.scalar_transport.time.implicit (INFO) | time: 7.580000e+00\r"
     ]
    },
    {
     "name": "stderr",
     "output_type": "stream",
     "text": [
      "dream.scalar_transport.time.implicit (INFO) | time: 7.590000e+00\r"
     ]
    },
    {
     "name": "stderr",
     "output_type": "stream",
     "text": [
      "dream.scalar_transport.time.implicit (INFO) | time: 7.600000e+00\r"
     ]
    },
    {
     "name": "stderr",
     "output_type": "stream",
     "text": [
      "dream.scalar_transport.time.implicit (INFO) | time: 7.610000e+00\r"
     ]
    },
    {
     "name": "stderr",
     "output_type": "stream",
     "text": [
      "dream.scalar_transport.time.implicit (INFO) | time: 7.620000e+00\r"
     ]
    },
    {
     "name": "stderr",
     "output_type": "stream",
     "text": [
      "dream.scalar_transport.time.implicit (INFO) | time: 7.630000e+00\r"
     ]
    },
    {
     "name": "stderr",
     "output_type": "stream",
     "text": [
      "dream.scalar_transport.time.implicit (INFO) | time: 7.640000e+00\r"
     ]
    },
    {
     "name": "stderr",
     "output_type": "stream",
     "text": [
      "dream.scalar_transport.time.implicit (INFO) | time: 7.650000e+00\r"
     ]
    },
    {
     "name": "stderr",
     "output_type": "stream",
     "text": [
      "dream.scalar_transport.time.implicit (INFO) | time: 7.660000e+00\r"
     ]
    },
    {
     "name": "stderr",
     "output_type": "stream",
     "text": [
      "dream.scalar_transport.time.implicit (INFO) | time: 7.670000e+00\r"
     ]
    },
    {
     "name": "stderr",
     "output_type": "stream",
     "text": [
      "dream.scalar_transport.time.implicit (INFO) | time: 7.680000e+00\r"
     ]
    },
    {
     "name": "stderr",
     "output_type": "stream",
     "text": [
      "dream.scalar_transport.time.implicit (INFO) | time: 7.690000e+00\r"
     ]
    },
    {
     "name": "stderr",
     "output_type": "stream",
     "text": [
      "dream.scalar_transport.time.implicit (INFO) | time: 7.700000e+00\r"
     ]
    },
    {
     "name": "stderr",
     "output_type": "stream",
     "text": [
      "dream.scalar_transport.time.implicit (INFO) | time: 7.710000e+00\r"
     ]
    },
    {
     "name": "stderr",
     "output_type": "stream",
     "text": [
      "dream.scalar_transport.time.implicit (INFO) | time: 7.720000e+00\r"
     ]
    },
    {
     "name": "stderr",
     "output_type": "stream",
     "text": [
      "dream.scalar_transport.time.implicit (INFO) | time: 7.730000e+00\r"
     ]
    },
    {
     "name": "stderr",
     "output_type": "stream",
     "text": [
      "dream.scalar_transport.time.implicit (INFO) | time: 7.740000e+00\r"
     ]
    },
    {
     "name": "stderr",
     "output_type": "stream",
     "text": [
      "dream.scalar_transport.time.implicit (INFO) | time: 7.750000e+00\r"
     ]
    },
    {
     "name": "stderr",
     "output_type": "stream",
     "text": [
      "dream.scalar_transport.time.implicit (INFO) | time: 7.760000e+00\r"
     ]
    },
    {
     "name": "stderr",
     "output_type": "stream",
     "text": [
      "dream.scalar_transport.time.implicit (INFO) | time: 7.770000e+00\r"
     ]
    },
    {
     "name": "stderr",
     "output_type": "stream",
     "text": [
      "dream.scalar_transport.time.implicit (INFO) | time: 7.780000e+00\r"
     ]
    },
    {
     "name": "stderr",
     "output_type": "stream",
     "text": [
      "dream.scalar_transport.time.implicit (INFO) | time: 7.790000e+00\r"
     ]
    },
    {
     "name": "stderr",
     "output_type": "stream",
     "text": [
      "dream.scalar_transport.time.implicit (INFO) | time: 7.800000e+00\r"
     ]
    },
    {
     "name": "stderr",
     "output_type": "stream",
     "text": [
      "dream.scalar_transport.time.implicit (INFO) | time: 7.810000e+00\r"
     ]
    },
    {
     "name": "stderr",
     "output_type": "stream",
     "text": [
      "dream.scalar_transport.time.implicit (INFO) | time: 7.820000e+00\r"
     ]
    },
    {
     "name": "stderr",
     "output_type": "stream",
     "text": [
      "dream.scalar_transport.time.implicit (INFO) | time: 7.830000e+00\r"
     ]
    },
    {
     "name": "stderr",
     "output_type": "stream",
     "text": [
      "dream.scalar_transport.time.implicit (INFO) | time: 7.840000e+00\r"
     ]
    },
    {
     "name": "stderr",
     "output_type": "stream",
     "text": [
      "dream.scalar_transport.time.implicit (INFO) | time: 7.850000e+00\r"
     ]
    },
    {
     "name": "stderr",
     "output_type": "stream",
     "text": [
      "dream.scalar_transport.time.imex (INFO) | time: 1.580000e+00\r"
     ]
    },
    {
     "name": "stderr",
     "output_type": "stream",
     "text": [
      "dream.scalar_transport.time.imex (INFO) | time: 1.590000e+00\r"
     ]
    },
    {
     "name": "stderr",
     "output_type": "stream",
     "text": [
      "dream.scalar_transport.time.imex (INFO) | time: 1.600000e+00\r"
     ]
    },
    {
     "name": "stderr",
     "output_type": "stream",
     "text": [
      "dream.scalar_transport.time.imex (INFO) | time: 1.610000e+00\r"
     ]
    },
    {
     "name": "stderr",
     "output_type": "stream",
     "text": [
      "dream.scalar_transport.time.imex (INFO) | time: 1.620000e+00\r"
     ]
    },
    {
     "name": "stderr",
     "output_type": "stream",
     "text": [
      "dream.scalar_transport.time.imex (INFO) | time: 1.630000e+00\r"
     ]
    },
    {
     "name": "stderr",
     "output_type": "stream",
     "text": [
      "dream.scalar_transport.time.imex (INFO) | time: 1.640000e+00\r"
     ]
    },
    {
     "name": "stderr",
     "output_type": "stream",
     "text": [
      "dream.scalar_transport.time.imex (INFO) | time: 1.650000e+00\r"
     ]
    },
    {
     "name": "stderr",
     "output_type": "stream",
     "text": [
      "dream.scalar_transport.time.imex (INFO) | time: 1.660000e+00\r"
     ]
    },
    {
     "name": "stderr",
     "output_type": "stream",
     "text": [
      "dream.scalar_transport.time.imex (INFO) | time: 1.670000e+00\r"
     ]
    },
    {
     "name": "stderr",
     "output_type": "stream",
     "text": [
      "dream.scalar_transport.time.imex (INFO) | time: 1.680000e+00\r"
     ]
    },
    {
     "name": "stderr",
     "output_type": "stream",
     "text": [
      "dream.scalar_transport.time.imex (INFO) | time: 1.690000e+00\r"
     ]
    },
    {
     "name": "stderr",
     "output_type": "stream",
     "text": [
      "dream.scalar_transport.time.imex (INFO) | time: 1.700000e+00\r"
     ]
    },
    {
     "name": "stderr",
     "output_type": "stream",
     "text": [
      "dream.scalar_transport.time.imex (INFO) | time: 1.710000e+00\r"
     ]
    },
    {
     "name": "stderr",
     "output_type": "stream",
     "text": [
      "dream.scalar_transport.time.imex (INFO) | time: 1.720000e+00\r"
     ]
    },
    {
     "name": "stderr",
     "output_type": "stream",
     "text": [
      "dream.scalar_transport.time.imex (INFO) | time: 1.730000e+00\r"
     ]
    },
    {
     "name": "stderr",
     "output_type": "stream",
     "text": [
      "dream.scalar_transport.time.imex (INFO) | time: 1.740000e+00\r"
     ]
    },
    {
     "name": "stderr",
     "output_type": "stream",
     "text": [
      "dream.scalar_transport.time.imex (INFO) | time: 1.750000e+00\r"
     ]
    },
    {
     "name": "stderr",
     "output_type": "stream",
     "text": [
      "dream.scalar_transport.time.imex (INFO) | time: 1.760000e+00\r"
     ]
    },
    {
     "name": "stderr",
     "output_type": "stream",
     "text": [
      "dream.scalar_transport.time.imex (INFO) | time: 1.770000e+00\r"
     ]
    },
    {
     "name": "stderr",
     "output_type": "stream",
     "text": [
      "dream.scalar_transport.time.imex (INFO) | time: 1.780000e+00\r"
     ]
    },
    {
     "name": "stderr",
     "output_type": "stream",
     "text": [
      "dream.scalar_transport.time.imex (INFO) | time: 1.790000e+00\r"
     ]
    },
    {
     "name": "stderr",
     "output_type": "stream",
     "text": [
      "dream.scalar_transport.time.imex (INFO) | time: 1.800000e+00\r"
     ]
    },
    {
     "name": "stderr",
     "output_type": "stream",
     "text": [
      "dream.scalar_transport.time.imex (INFO) | time: 1.810000e+00\r"
     ]
    },
    {
     "name": "stderr",
     "output_type": "stream",
     "text": [
      "dream.scalar_transport.time.imex (INFO) | time: 1.820000e+00\r"
     ]
    },
    {
     "name": "stderr",
     "output_type": "stream",
     "text": [
      "dream.scalar_transport.time.imex (INFO) | time: 1.830000e+00\r"
     ]
    },
    {
     "name": "stderr",
     "output_type": "stream",
     "text": [
      "dream.scalar_transport.time.imex (INFO) | time: 1.840000e+00\r"
     ]
    },
    {
     "name": "stderr",
     "output_type": "stream",
     "text": [
      "dream.scalar_transport.time.imex (INFO) | time: 1.850000e+00\r"
     ]
    },
    {
     "name": "stderr",
     "output_type": "stream",
     "text": [
      "dream.scalar_transport.time.imex (INFO) | time: 1.860000e+00\r"
     ]
    },
    {
     "name": "stderr",
     "output_type": "stream",
     "text": [
      "dream.scalar_transport.time.imex (INFO) | time: 1.870000e+00\r"
     ]
    },
    {
     "name": "stderr",
     "output_type": "stream",
     "text": [
      "dream.scalar_transport.time.imex (INFO) | time: 1.880000e+00\r"
     ]
    },
    {
     "name": "stderr",
     "output_type": "stream",
     "text": [
      "dream.scalar_transport.time.imex (INFO) | time: 1.890000e+00\r"
     ]
    },
    {
     "name": "stderr",
     "output_type": "stream",
     "text": [
      "dream.scalar_transport.time.imex (INFO) | time: 1.900000e+00\r"
     ]
    },
    {
     "name": "stderr",
     "output_type": "stream",
     "text": [
      "dream.scalar_transport.time.imex (INFO) | time: 1.910000e+00\r"
     ]
    },
    {
     "name": "stderr",
     "output_type": "stream",
     "text": [
      "dream.scalar_transport.time.imex (INFO) | time: 1.920000e+00\r"
     ]
    },
    {
     "name": "stderr",
     "output_type": "stream",
     "text": [
      "dream.scalar_transport.time.imex (INFO) | time: 1.930000e+00\r"
     ]
    },
    {
     "name": "stderr",
     "output_type": "stream",
     "text": [
      "dream.scalar_transport.time.imex (INFO) | time: 1.940000e+00\r"
     ]
    },
    {
     "name": "stderr",
     "output_type": "stream",
     "text": [
      "dream.scalar_transport.time.imex (INFO) | time: 1.950000e+00\r"
     ]
    },
    {
     "name": "stderr",
     "output_type": "stream",
     "text": [
      "dream.scalar_transport.time.imex (INFO) | time: 1.960000e+00\r"
     ]
    },
    {
     "name": "stderr",
     "output_type": "stream",
     "text": [
      "dream.scalar_transport.time.imex (INFO) | time: 1.970000e+00\r"
     ]
    },
    {
     "name": "stderr",
     "output_type": "stream",
     "text": [
      "dream.scalar_transport.time.imex (INFO) | time: 1.980000e+00\r"
     ]
    },
    {
     "name": "stderr",
     "output_type": "stream",
     "text": [
      "dream.scalar_transport.time.imex (INFO) | time: 1.990000e+00\r"
     ]
    },
    {
     "name": "stderr",
     "output_type": "stream",
     "text": [
      "dream.scalar_transport.time.imex (INFO) | time: 2.000000e+00\r"
     ]
    },
    {
     "name": "stderr",
     "output_type": "stream",
     "text": [
      "dream.scalar_transport.time.imex (INFO) | time: 2.010000e+00\r"
     ]
    },
    {
     "name": "stderr",
     "output_type": "stream",
     "text": [
      "dream.scalar_transport.time.imex (INFO) | time: 2.020000e+00\r"
     ]
    },
    {
     "name": "stderr",
     "output_type": "stream",
     "text": [
      "dream.scalar_transport.time.imex (INFO) | time: 2.030000e+00\r"
     ]
    },
    {
     "name": "stderr",
     "output_type": "stream",
     "text": [
      "dream.scalar_transport.time.imex (INFO) | time: 2.040000e+00\r"
     ]
    },
    {
     "name": "stderr",
     "output_type": "stream",
     "text": [
      "dream.scalar_transport.time.imex (INFO) | time: 2.050000e+00\r"
     ]
    },
    {
     "name": "stderr",
     "output_type": "stream",
     "text": [
      "dream.scalar_transport.time.imex (INFO) | time: 2.060000e+00\r"
     ]
    },
    {
     "name": "stderr",
     "output_type": "stream",
     "text": [
      "dream.scalar_transport.time.imex (INFO) | time: 2.070000e+00\r"
     ]
    },
    {
     "name": "stderr",
     "output_type": "stream",
     "text": [
      "dream.scalar_transport.time.imex (INFO) | time: 2.080000e+00\r"
     ]
    },
    {
     "name": "stderr",
     "output_type": "stream",
     "text": [
      "dream.scalar_transport.time.imex (INFO) | time: 2.090000e+00\r"
     ]
    },
    {
     "name": "stderr",
     "output_type": "stream",
     "text": [
      "dream.scalar_transport.time.imex (INFO) | time: 2.100000e+00\r"
     ]
    },
    {
     "name": "stderr",
     "output_type": "stream",
     "text": [
      "dream.scalar_transport.time.imex (INFO) | time: 2.110000e+00\r"
     ]
    },
    {
     "name": "stderr",
     "output_type": "stream",
     "text": [
      "dream.scalar_transport.time.imex (INFO) | time: 2.120000e+00\r"
     ]
    },
    {
     "name": "stderr",
     "output_type": "stream",
     "text": [
      "dream.scalar_transport.time.imex (INFO) | time: 2.130000e+00\r"
     ]
    },
    {
     "name": "stderr",
     "output_type": "stream",
     "text": [
      "dream.scalar_transport.time.imex (INFO) | time: 2.140000e+00\r"
     ]
    },
    {
     "name": "stderr",
     "output_type": "stream",
     "text": [
      "dream.scalar_transport.time.imex (INFO) | time: 2.150000e+00\r"
     ]
    },
    {
     "name": "stderr",
     "output_type": "stream",
     "text": [
      "dream.scalar_transport.time.imex (INFO) | time: 2.160000e+00\r"
     ]
    },
    {
     "name": "stderr",
     "output_type": "stream",
     "text": [
      "dream.scalar_transport.time.imex (INFO) | time: 2.170000e+00\r"
     ]
    },
    {
     "name": "stderr",
     "output_type": "stream",
     "text": [
      "dream.scalar_transport.time.imex (INFO) | time: 2.180000e+00\r"
     ]
    },
    {
     "name": "stderr",
     "output_type": "stream",
     "text": [
      "dream.scalar_transport.time.imex (INFO) | time: 2.190000e+00\r"
     ]
    },
    {
     "name": "stderr",
     "output_type": "stream",
     "text": [
      "dream.scalar_transport.time.imex (INFO) | time: 2.200000e+00\r"
     ]
    },
    {
     "name": "stderr",
     "output_type": "stream",
     "text": [
      "dream.scalar_transport.time.imex (INFO) | time: 2.210000e+00\r"
     ]
    },
    {
     "name": "stderr",
     "output_type": "stream",
     "text": [
      "dream.scalar_transport.time.imex (INFO) | time: 2.220000e+00\r"
     ]
    },
    {
     "name": "stderr",
     "output_type": "stream",
     "text": [
      "dream.scalar_transport.time.imex (INFO) | time: 2.230000e+00\r"
     ]
    },
    {
     "name": "stderr",
     "output_type": "stream",
     "text": [
      "dream.scalar_transport.time.imex (INFO) | time: 2.240000e+00\r"
     ]
    },
    {
     "name": "stderr",
     "output_type": "stream",
     "text": [
      "dream.scalar_transport.time.imex (INFO) | time: 2.250000e+00\r"
     ]
    },
    {
     "name": "stderr",
     "output_type": "stream",
     "text": [
      "dream.scalar_transport.time.imex (INFO) | time: 2.260000e+00\r"
     ]
    },
    {
     "name": "stderr",
     "output_type": "stream",
     "text": [
      "dream.scalar_transport.time.imex (INFO) | time: 2.270000e+00\r"
     ]
    },
    {
     "name": "stderr",
     "output_type": "stream",
     "text": [
      "dream.scalar_transport.time.imex (INFO) | time: 2.280000e+00\r"
     ]
    },
    {
     "name": "stderr",
     "output_type": "stream",
     "text": [
      "dream.scalar_transport.time.imex (INFO) | time: 2.290000e+00\r"
     ]
    },
    {
     "name": "stderr",
     "output_type": "stream",
     "text": [
      "dream.scalar_transport.time.imex (INFO) | time: 2.300000e+00\r"
     ]
    },
    {
     "name": "stderr",
     "output_type": "stream",
     "text": [
      "dream.scalar_transport.time.imex (INFO) | time: 2.310000e+00\r"
     ]
    },
    {
     "name": "stderr",
     "output_type": "stream",
     "text": [
      "dream.scalar_transport.time.imex (INFO) | time: 2.320000e+00\r"
     ]
    },
    {
     "name": "stderr",
     "output_type": "stream",
     "text": [
      "dream.scalar_transport.time.imex (INFO) | time: 2.330000e+00\r"
     ]
    },
    {
     "name": "stderr",
     "output_type": "stream",
     "text": [
      "dream.scalar_transport.time.imex (INFO) | time: 2.340000e+00\r"
     ]
    },
    {
     "name": "stderr",
     "output_type": "stream",
     "text": [
      "dream.scalar_transport.time.imex (INFO) | time: 2.350000e+00\r"
     ]
    },
    {
     "name": "stderr",
     "output_type": "stream",
     "text": [
      "dream.scalar_transport.time.imex (INFO) | time: 2.360000e+00\r"
     ]
    },
    {
     "name": "stderr",
     "output_type": "stream",
     "text": [
      "dream.scalar_transport.time.imex (INFO) | time: 2.370000e+00\r"
     ]
    },
    {
     "name": "stderr",
     "output_type": "stream",
     "text": [
      "dream.scalar_transport.time.imex (INFO) | time: 2.380000e+00\r"
     ]
    },
    {
     "name": "stderr",
     "output_type": "stream",
     "text": [
      "dream.scalar_transport.time.imex (INFO) | time: 2.390000e+00\r"
     ]
    },
    {
     "name": "stderr",
     "output_type": "stream",
     "text": [
      "dream.scalar_transport.time.imex (INFO) | time: 2.400000e+00\r"
     ]
    },
    {
     "name": "stderr",
     "output_type": "stream",
     "text": [
      "dream.scalar_transport.time.imex (INFO) | time: 2.410000e+00\r"
     ]
    },
    {
     "name": "stderr",
     "output_type": "stream",
     "text": [
      "dream.scalar_transport.time.imex (INFO) | time: 2.420000e+00\r"
     ]
    },
    {
     "name": "stderr",
     "output_type": "stream",
     "text": [
      "dream.scalar_transport.time.imex (INFO) | time: 2.430000e+00\r"
     ]
    },
    {
     "name": "stderr",
     "output_type": "stream",
     "text": [
      "dream.scalar_transport.time.imex (INFO) | time: 2.440000e+00\r"
     ]
    },
    {
     "name": "stderr",
     "output_type": "stream",
     "text": [
      "dream.scalar_transport.time.imex (INFO) | time: 2.450000e+00\r"
     ]
    },
    {
     "name": "stderr",
     "output_type": "stream",
     "text": [
      "dream.scalar_transport.time.imex (INFO) | time: 2.460000e+00\r"
     ]
    },
    {
     "name": "stderr",
     "output_type": "stream",
     "text": [
      "dream.scalar_transport.time.imex (INFO) | time: 2.470000e+00\r"
     ]
    },
    {
     "name": "stderr",
     "output_type": "stream",
     "text": [
      "dream.scalar_transport.time.imex (INFO) | time: 2.480000e+00\r"
     ]
    },
    {
     "name": "stderr",
     "output_type": "stream",
     "text": [
      "dream.scalar_transport.time.imex (INFO) | time: 2.490000e+00\r"
     ]
    },
    {
     "name": "stderr",
     "output_type": "stream",
     "text": [
      "dream.scalar_transport.time.imex (INFO) | time: 2.500000e+00\r"
     ]
    },
    {
     "name": "stderr",
     "output_type": "stream",
     "text": [
      "dream.scalar_transport.time.imex (INFO) | time: 2.510000e+00\r"
     ]
    },
    {
     "name": "stderr",
     "output_type": "stream",
     "text": [
      "dream.scalar_transport.time.imex (INFO) | time: 2.520000e+00\r"
     ]
    },
    {
     "name": "stderr",
     "output_type": "stream",
     "text": [
      "dream.scalar_transport.time.imex (INFO) | time: 2.530000e+00\r"
     ]
    },
    {
     "name": "stderr",
     "output_type": "stream",
     "text": [
      "dream.scalar_transport.time.imex (INFO) | time: 2.540000e+00\r"
     ]
    },
    {
     "name": "stderr",
     "output_type": "stream",
     "text": [
      "dream.scalar_transport.time.imex (INFO) | time: 2.550000e+00\r"
     ]
    },
    {
     "name": "stderr",
     "output_type": "stream",
     "text": [
      "dream.scalar_transport.time.imex (INFO) | time: 2.560000e+00\r"
     ]
    },
    {
     "name": "stderr",
     "output_type": "stream",
     "text": [
      "dream.scalar_transport.time.imex (INFO) | time: 2.570000e+00\r"
     ]
    },
    {
     "name": "stderr",
     "output_type": "stream",
     "text": [
      "dream.scalar_transport.time.imex (INFO) | time: 2.580000e+00\r"
     ]
    },
    {
     "name": "stderr",
     "output_type": "stream",
     "text": [
      "dream.scalar_transport.time.imex (INFO) | time: 2.590000e+00\r"
     ]
    },
    {
     "name": "stderr",
     "output_type": "stream",
     "text": [
      "dream.scalar_transport.time.imex (INFO) | time: 2.600000e+00\r"
     ]
    },
    {
     "name": "stderr",
     "output_type": "stream",
     "text": [
      "dream.scalar_transport.time.imex (INFO) | time: 2.610000e+00\r"
     ]
    },
    {
     "name": "stderr",
     "output_type": "stream",
     "text": [
      "dream.scalar_transport.time.imex (INFO) | time: 2.620000e+00\r"
     ]
    },
    {
     "name": "stderr",
     "output_type": "stream",
     "text": [
      "dream.scalar_transport.time.imex (INFO) | time: 2.630000e+00\r"
     ]
    },
    {
     "name": "stderr",
     "output_type": "stream",
     "text": [
      "dream.scalar_transport.time.imex (INFO) | time: 2.640000e+00\r"
     ]
    },
    {
     "name": "stderr",
     "output_type": "stream",
     "text": [
      "dream.scalar_transport.time.imex (INFO) | time: 2.650000e+00\r"
     ]
    },
    {
     "name": "stderr",
     "output_type": "stream",
     "text": [
      "dream.scalar_transport.time.imex (INFO) | time: 2.660000e+00\r"
     ]
    },
    {
     "name": "stderr",
     "output_type": "stream",
     "text": [
      "dream.scalar_transport.time.imex (INFO) | time: 2.670000e+00\r"
     ]
    },
    {
     "name": "stderr",
     "output_type": "stream",
     "text": [
      "dream.scalar_transport.time.imex (INFO) | time: 2.680000e+00\r"
     ]
    },
    {
     "name": "stderr",
     "output_type": "stream",
     "text": [
      "dream.scalar_transport.time.imex (INFO) | time: 2.690000e+00\r"
     ]
    },
    {
     "name": "stderr",
     "output_type": "stream",
     "text": [
      "dream.scalar_transport.time.imex (INFO) | time: 2.700000e+00\r"
     ]
    },
    {
     "name": "stderr",
     "output_type": "stream",
     "text": [
      "dream.scalar_transport.time.imex (INFO) | time: 2.710000e+00\r"
     ]
    },
    {
     "name": "stderr",
     "output_type": "stream",
     "text": [
      "dream.scalar_transport.time.imex (INFO) | time: 2.720000e+00\r"
     ]
    },
    {
     "name": "stderr",
     "output_type": "stream",
     "text": [
      "dream.scalar_transport.time.imex (INFO) | time: 2.730000e+00\r"
     ]
    },
    {
     "name": "stderr",
     "output_type": "stream",
     "text": [
      "dream.scalar_transport.time.imex (INFO) | time: 2.740000e+00\r"
     ]
    },
    {
     "name": "stderr",
     "output_type": "stream",
     "text": [
      "dream.scalar_transport.time.imex (INFO) | time: 2.750000e+00\r"
     ]
    },
    {
     "name": "stderr",
     "output_type": "stream",
     "text": [
      "dream.scalar_transport.time.imex (INFO) | time: 2.760000e+00\r"
     ]
    },
    {
     "name": "stderr",
     "output_type": "stream",
     "text": [
      "dream.scalar_transport.time.imex (INFO) | time: 2.770000e+00\r"
     ]
    },
    {
     "name": "stderr",
     "output_type": "stream",
     "text": [
      "dream.scalar_transport.time.imex (INFO) | time: 2.780000e+00\r"
     ]
    },
    {
     "name": "stderr",
     "output_type": "stream",
     "text": [
      "dream.scalar_transport.time.imex (INFO) | time: 2.790000e+00\r"
     ]
    },
    {
     "name": "stderr",
     "output_type": "stream",
     "text": [
      "dream.scalar_transport.time.imex (INFO) | time: 2.800000e+00\r"
     ]
    },
    {
     "name": "stderr",
     "output_type": "stream",
     "text": [
      "dream.scalar_transport.time.imex (INFO) | time: 2.810000e+00\r"
     ]
    },
    {
     "name": "stderr",
     "output_type": "stream",
     "text": [
      "dream.scalar_transport.time.imex (INFO) | time: 2.820000e+00\r"
     ]
    },
    {
     "name": "stderr",
     "output_type": "stream",
     "text": [
      "dream.scalar_transport.time.imex (INFO) | time: 2.830000e+00\r"
     ]
    },
    {
     "name": "stderr",
     "output_type": "stream",
     "text": [
      "dream.scalar_transport.time.imex (INFO) | time: 2.840000e+00\r"
     ]
    },
    {
     "name": "stderr",
     "output_type": "stream",
     "text": [
      "dream.scalar_transport.time.imex (INFO) | time: 2.850000e+00\r"
     ]
    },
    {
     "name": "stderr",
     "output_type": "stream",
     "text": [
      "dream.scalar_transport.time.imex (INFO) | time: 2.860000e+00\r"
     ]
    },
    {
     "name": "stderr",
     "output_type": "stream",
     "text": [
      "dream.scalar_transport.time.imex (INFO) | time: 2.870000e+00\r"
     ]
    },
    {
     "name": "stderr",
     "output_type": "stream",
     "text": [
      "dream.scalar_transport.time.imex (INFO) | time: 2.880000e+00\r"
     ]
    },
    {
     "name": "stderr",
     "output_type": "stream",
     "text": [
      "dream.scalar_transport.time.imex (INFO) | time: 2.890000e+00\r"
     ]
    },
    {
     "name": "stderr",
     "output_type": "stream",
     "text": [
      "dream.scalar_transport.time.imex (INFO) | time: 2.900000e+00\r"
     ]
    },
    {
     "name": "stderr",
     "output_type": "stream",
     "text": [
      "dream.scalar_transport.time.imex (INFO) | time: 2.910000e+00\r"
     ]
    },
    {
     "name": "stderr",
     "output_type": "stream",
     "text": [
      "dream.scalar_transport.time.imex (INFO) | time: 2.920000e+00\r"
     ]
    },
    {
     "name": "stderr",
     "output_type": "stream",
     "text": [
      "dream.scalar_transport.time.imex (INFO) | time: 2.930000e+00\r"
     ]
    },
    {
     "name": "stderr",
     "output_type": "stream",
     "text": [
      "dream.scalar_transport.time.imex (INFO) | time: 2.940000e+00\r"
     ]
    },
    {
     "name": "stderr",
     "output_type": "stream",
     "text": [
      "dream.scalar_transport.time.imex (INFO) | time: 2.950000e+00\r"
     ]
    },
    {
     "name": "stderr",
     "output_type": "stream",
     "text": [
      "dream.scalar_transport.time.imex (INFO) | time: 2.960000e+00\r"
     ]
    },
    {
     "name": "stderr",
     "output_type": "stream",
     "text": [
      "dream.scalar_transport.time.imex (INFO) | time: 2.970000e+00\r"
     ]
    },
    {
     "name": "stderr",
     "output_type": "stream",
     "text": [
      "dream.scalar_transport.time.imex (INFO) | time: 2.980000e+00\r"
     ]
    },
    {
     "name": "stderr",
     "output_type": "stream",
     "text": [
      "dream.scalar_transport.time.imex (INFO) | time: 2.990000e+00\r"
     ]
    },
    {
     "name": "stderr",
     "output_type": "stream",
     "text": [
      "dream.scalar_transport.time.imex (INFO) | time: 3.000000e+00\r"
     ]
    },
    {
     "name": "stderr",
     "output_type": "stream",
     "text": [
      "dream.scalar_transport.time.imex (INFO) | time: 3.010000e+00\r"
     ]
    },
    {
     "name": "stderr",
     "output_type": "stream",
     "text": [
      "dream.scalar_transport.time.imex (INFO) | time: 3.020000e+00\r"
     ]
    },
    {
     "name": "stderr",
     "output_type": "stream",
     "text": [
      "dream.scalar_transport.time.imex (INFO) | time: 3.030000e+00\r"
     ]
    },
    {
     "name": "stderr",
     "output_type": "stream",
     "text": [
      "dream.scalar_transport.time.imex (INFO) | time: 3.040000e+00\r"
     ]
    },
    {
     "name": "stderr",
     "output_type": "stream",
     "text": [
      "dream.scalar_transport.time.imex (INFO) | time: 3.050000e+00\r"
     ]
    },
    {
     "name": "stderr",
     "output_type": "stream",
     "text": [
      "dream.scalar_transport.time.imex (INFO) | time: 3.060000e+00\r"
     ]
    },
    {
     "name": "stderr",
     "output_type": "stream",
     "text": [
      "dream.scalar_transport.time.imex (INFO) | time: 3.070000e+00\r"
     ]
    },
    {
     "name": "stderr",
     "output_type": "stream",
     "text": [
      "dream.scalar_transport.time.imex (INFO) | time: 3.080000e+00\r"
     ]
    },
    {
     "name": "stderr",
     "output_type": "stream",
     "text": [
      "dream.scalar_transport.time.imex (INFO) | time: 3.090000e+00\r"
     ]
    },
    {
     "name": "stderr",
     "output_type": "stream",
     "text": [
      "dream.scalar_transport.time.imex (INFO) | time: 3.100000e+00\r"
     ]
    },
    {
     "name": "stderr",
     "output_type": "stream",
     "text": [
      "dream.scalar_transport.time.imex (INFO) | time: 3.110000e+00\r"
     ]
    },
    {
     "name": "stderr",
     "output_type": "stream",
     "text": [
      "dream.scalar_transport.time.imex (INFO) | time: 3.120000e+00\r"
     ]
    },
    {
     "name": "stderr",
     "output_type": "stream",
     "text": [
      "dream.scalar_transport.time.imex (INFO) | time: 3.130000e+00\r"
     ]
    },
    {
     "name": "stderr",
     "output_type": "stream",
     "text": [
      "dream.scalar_transport.time.imex (INFO) | time: 3.140000e+00\r"
     ]
    },
    {
     "name": "stderr",
     "output_type": "stream",
     "text": [
      "dream.scalar_transport.time.imex (INFO) | time: 3.150000e+00\r"
     ]
    },
    {
     "name": "stderr",
     "output_type": "stream",
     "text": [
      "dream.scalar_transport.time.imex (INFO) | time: 3.160000e+00\r"
     ]
    },
    {
     "name": "stderr",
     "output_type": "stream",
     "text": [
      "dream.scalar_transport.time.imex (INFO) | time: 3.170000e+00\r"
     ]
    },
    {
     "name": "stderr",
     "output_type": "stream",
     "text": [
      "dream.scalar_transport.time.imex (INFO) | time: 3.180000e+00\r"
     ]
    },
    {
     "name": "stderr",
     "output_type": "stream",
     "text": [
      "dream.scalar_transport.time.imex (INFO) | time: 3.190000e+00\r"
     ]
    },
    {
     "name": "stderr",
     "output_type": "stream",
     "text": [
      "dream.scalar_transport.time.imex (INFO) | time: 3.200000e+00\r"
     ]
    },
    {
     "name": "stderr",
     "output_type": "stream",
     "text": [
      "dream.scalar_transport.time.imex (INFO) | time: 3.210000e+00\r"
     ]
    },
    {
     "name": "stderr",
     "output_type": "stream",
     "text": [
      "dream.scalar_transport.time.imex (INFO) | time: 3.220000e+00\r"
     ]
    },
    {
     "name": "stderr",
     "output_type": "stream",
     "text": [
      "dream.scalar_transport.time.imex (INFO) | time: 3.230000e+00\r"
     ]
    },
    {
     "name": "stderr",
     "output_type": "stream",
     "text": [
      "dream.scalar_transport.time.imex (INFO) | time: 3.240000e+00\r"
     ]
    },
    {
     "name": "stderr",
     "output_type": "stream",
     "text": [
      "dream.scalar_transport.time.imex (INFO) | time: 3.250000e+00\r"
     ]
    },
    {
     "name": "stderr",
     "output_type": "stream",
     "text": [
      "dream.scalar_transport.time.imex (INFO) | time: 3.260000e+00\r"
     ]
    },
    {
     "name": "stderr",
     "output_type": "stream",
     "text": [
      "dream.scalar_transport.time.imex (INFO) | time: 3.270000e+00\r"
     ]
    },
    {
     "name": "stderr",
     "output_type": "stream",
     "text": [
      "dream.scalar_transport.time.imex (INFO) | time: 3.280000e+00\r"
     ]
    },
    {
     "name": "stderr",
     "output_type": "stream",
     "text": [
      "dream.scalar_transport.time.imex (INFO) | time: 3.290000e+00\r"
     ]
    },
    {
     "name": "stderr",
     "output_type": "stream",
     "text": [
      "dream.scalar_transport.time.imex (INFO) | time: 3.300000e+00\r"
     ]
    },
    {
     "name": "stderr",
     "output_type": "stream",
     "text": [
      "dream.scalar_transport.time.imex (INFO) | time: 3.310000e+00\r"
     ]
    },
    {
     "name": "stderr",
     "output_type": "stream",
     "text": [
      "dream.scalar_transport.time.imex (INFO) | time: 3.320000e+00\r"
     ]
    },
    {
     "name": "stderr",
     "output_type": "stream",
     "text": [
      "dream.scalar_transport.time.imex (INFO) | time: 3.330000e+00\r"
     ]
    },
    {
     "name": "stderr",
     "output_type": "stream",
     "text": [
      "dream.scalar_transport.time.imex (INFO) | time: 3.340000e+00\r"
     ]
    },
    {
     "name": "stderr",
     "output_type": "stream",
     "text": [
      "dream.scalar_transport.time.imex (INFO) | time: 3.350000e+00\r"
     ]
    },
    {
     "name": "stderr",
     "output_type": "stream",
     "text": [
      "dream.scalar_transport.time.imex (INFO) | time: 3.360000e+00\r"
     ]
    },
    {
     "name": "stderr",
     "output_type": "stream",
     "text": [
      "dream.scalar_transport.time.imex (INFO) | time: 3.370000e+00\r"
     ]
    },
    {
     "name": "stderr",
     "output_type": "stream",
     "text": [
      "dream.scalar_transport.time.imex (INFO) | time: 3.380000e+00\r"
     ]
    },
    {
     "name": "stderr",
     "output_type": "stream",
     "text": [
      "dream.scalar_transport.time.imex (INFO) | time: 3.390000e+00\r"
     ]
    },
    {
     "name": "stderr",
     "output_type": "stream",
     "text": [
      "dream.scalar_transport.time.imex (INFO) | time: 3.400000e+00\r"
     ]
    },
    {
     "name": "stderr",
     "output_type": "stream",
     "text": [
      "dream.scalar_transport.time.imex (INFO) | time: 3.410000e+00\r"
     ]
    },
    {
     "name": "stderr",
     "output_type": "stream",
     "text": [
      "dream.scalar_transport.time.imex (INFO) | time: 3.420000e+00\r"
     ]
    },
    {
     "name": "stderr",
     "output_type": "stream",
     "text": [
      "dream.scalar_transport.time.imex (INFO) | time: 3.430000e+00\r"
     ]
    },
    {
     "name": "stderr",
     "output_type": "stream",
     "text": [
      "dream.scalar_transport.time.imex (INFO) | time: 3.440000e+00\r"
     ]
    },
    {
     "name": "stderr",
     "output_type": "stream",
     "text": [
      "dream.scalar_transport.time.imex (INFO) | time: 3.450000e+00\r"
     ]
    },
    {
     "name": "stderr",
     "output_type": "stream",
     "text": [
      "dream.scalar_transport.time.imex (INFO) | time: 3.460000e+00\r"
     ]
    },
    {
     "name": "stderr",
     "output_type": "stream",
     "text": [
      "dream.scalar_transport.time.imex (INFO) | time: 3.470000e+00\r"
     ]
    },
    {
     "name": "stderr",
     "output_type": "stream",
     "text": [
      "dream.scalar_transport.time.imex (INFO) | time: 3.480000e+00\r"
     ]
    },
    {
     "name": "stderr",
     "output_type": "stream",
     "text": [
      "dream.scalar_transport.time.imex (INFO) | time: 3.490000e+00\r"
     ]
    },
    {
     "name": "stderr",
     "output_type": "stream",
     "text": [
      "dream.scalar_transport.time.imex (INFO) | time: 3.500000e+00\r"
     ]
    },
    {
     "name": "stderr",
     "output_type": "stream",
     "text": [
      "dream.scalar_transport.time.imex (INFO) | time: 3.510000e+00\r"
     ]
    },
    {
     "name": "stderr",
     "output_type": "stream",
     "text": [
      "dream.scalar_transport.time.imex (INFO) | time: 3.520000e+00\r"
     ]
    },
    {
     "name": "stderr",
     "output_type": "stream",
     "text": [
      "dream.scalar_transport.time.imex (INFO) | time: 3.530000e+00\r"
     ]
    },
    {
     "name": "stderr",
     "output_type": "stream",
     "text": [
      "dream.scalar_transport.time.imex (INFO) | time: 3.540000e+00\r"
     ]
    },
    {
     "name": "stderr",
     "output_type": "stream",
     "text": [
      "dream.scalar_transport.time.imex (INFO) | time: 3.550000e+00\r"
     ]
    },
    {
     "name": "stderr",
     "output_type": "stream",
     "text": [
      "dream.scalar_transport.time.imex (INFO) | time: 3.560000e+00\r"
     ]
    },
    {
     "name": "stderr",
     "output_type": "stream",
     "text": [
      "dream.scalar_transport.time.imex (INFO) | time: 3.570000e+00\r"
     ]
    },
    {
     "name": "stderr",
     "output_type": "stream",
     "text": [
      "dream.scalar_transport.time.imex (INFO) | time: 3.580000e+00\r"
     ]
    },
    {
     "name": "stderr",
     "output_type": "stream",
     "text": [
      "dream.scalar_transport.time.imex (INFO) | time: 3.590000e+00\r"
     ]
    },
    {
     "name": "stderr",
     "output_type": "stream",
     "text": [
      "dream.scalar_transport.time.imex (INFO) | time: 3.600000e+00\r"
     ]
    },
    {
     "name": "stderr",
     "output_type": "stream",
     "text": [
      "dream.scalar_transport.time.imex (INFO) | time: 3.610000e+00\r"
     ]
    },
    {
     "name": "stderr",
     "output_type": "stream",
     "text": [
      "dream.scalar_transport.time.imex (INFO) | time: 3.620000e+00\r"
     ]
    },
    {
     "name": "stderr",
     "output_type": "stream",
     "text": [
      "dream.scalar_transport.time.imex (INFO) | time: 3.630000e+00\r"
     ]
    },
    {
     "name": "stderr",
     "output_type": "stream",
     "text": [
      "dream.scalar_transport.time.imex (INFO) | time: 3.640000e+00\r"
     ]
    },
    {
     "name": "stderr",
     "output_type": "stream",
     "text": [
      "dream.scalar_transport.time.imex (INFO) | time: 3.650000e+00\r"
     ]
    },
    {
     "name": "stderr",
     "output_type": "stream",
     "text": [
      "dream.scalar_transport.time.imex (INFO) | time: 3.660000e+00\r"
     ]
    },
    {
     "name": "stderr",
     "output_type": "stream",
     "text": [
      "dream.scalar_transport.time.imex (INFO) | time: 3.670000e+00\r"
     ]
    },
    {
     "name": "stderr",
     "output_type": "stream",
     "text": [
      "dream.scalar_transport.time.imex (INFO) | time: 3.680000e+00\r"
     ]
    },
    {
     "name": "stderr",
     "output_type": "stream",
     "text": [
      "dream.scalar_transport.time.imex (INFO) | time: 3.690000e+00\r"
     ]
    },
    {
     "name": "stderr",
     "output_type": "stream",
     "text": [
      "dream.scalar_transport.time.imex (INFO) | time: 3.700000e+00\r"
     ]
    },
    {
     "name": "stderr",
     "output_type": "stream",
     "text": [
      "dream.scalar_transport.time.imex (INFO) | time: 3.710000e+00\r"
     ]
    },
    {
     "name": "stderr",
     "output_type": "stream",
     "text": [
      "dream.scalar_transport.time.imex (INFO) | time: 3.720000e+00\r"
     ]
    },
    {
     "name": "stderr",
     "output_type": "stream",
     "text": [
      "dream.scalar_transport.time.imex (INFO) | time: 3.730000e+00\r"
     ]
    },
    {
     "name": "stderr",
     "output_type": "stream",
     "text": [
      "dream.scalar_transport.time.imex (INFO) | time: 3.740000e+00\r"
     ]
    },
    {
     "name": "stderr",
     "output_type": "stream",
     "text": [
      "dream.scalar_transport.time.imex (INFO) | time: 3.750000e+00\r"
     ]
    },
    {
     "name": "stderr",
     "output_type": "stream",
     "text": [
      "dream.scalar_transport.time.imex (INFO) | time: 3.760000e+00\r"
     ]
    },
    {
     "name": "stderr",
     "output_type": "stream",
     "text": [
      "dream.scalar_transport.time.imex (INFO) | time: 3.770000e+00\r"
     ]
    },
    {
     "name": "stderr",
     "output_type": "stream",
     "text": [
      "dream.scalar_transport.time.imex (INFO) | time: 3.780000e+00\r"
     ]
    },
    {
     "name": "stderr",
     "output_type": "stream",
     "text": [
      "dream.scalar_transport.time.imex (INFO) | time: 3.790000e+00\r"
     ]
    },
    {
     "name": "stderr",
     "output_type": "stream",
     "text": [
      "dream.scalar_transport.time.imex (INFO) | time: 3.800000e+00\r"
     ]
    },
    {
     "name": "stderr",
     "output_type": "stream",
     "text": [
      "dream.scalar_transport.time.imex (INFO) | time: 3.810000e+00\r"
     ]
    },
    {
     "name": "stderr",
     "output_type": "stream",
     "text": [
      "dream.scalar_transport.time.imex (INFO) | time: 3.820000e+00\r"
     ]
    },
    {
     "name": "stderr",
     "output_type": "stream",
     "text": [
      "dream.scalar_transport.time.imex (INFO) | time: 3.830000e+00\r"
     ]
    },
    {
     "name": "stderr",
     "output_type": "stream",
     "text": [
      "dream.scalar_transport.time.imex (INFO) | time: 3.840000e+00\r"
     ]
    },
    {
     "name": "stderr",
     "output_type": "stream",
     "text": [
      "dream.scalar_transport.time.imex (INFO) | time: 3.850000e+00\r"
     ]
    },
    {
     "name": "stderr",
     "output_type": "stream",
     "text": [
      "dream.scalar_transport.time.imex (INFO) | time: 3.860000e+00\r"
     ]
    },
    {
     "name": "stderr",
     "output_type": "stream",
     "text": [
      "dream.scalar_transport.time.imex (INFO) | time: 3.870000e+00\r"
     ]
    },
    {
     "name": "stderr",
     "output_type": "stream",
     "text": [
      "dream.scalar_transport.time.imex (INFO) | time: 3.880000e+00\r"
     ]
    },
    {
     "name": "stderr",
     "output_type": "stream",
     "text": [
      "dream.scalar_transport.time.imex (INFO) | time: 3.890000e+00\r"
     ]
    },
    {
     "name": "stderr",
     "output_type": "stream",
     "text": [
      "dream.scalar_transport.time.imex (INFO) | time: 3.900000e+00\r"
     ]
    },
    {
     "name": "stderr",
     "output_type": "stream",
     "text": [
      "dream.scalar_transport.time.imex (INFO) | time: 3.910000e+00\r"
     ]
    },
    {
     "name": "stderr",
     "output_type": "stream",
     "text": [
      "dream.scalar_transport.time.imex (INFO) | time: 3.920000e+00\r"
     ]
    },
    {
     "name": "stderr",
     "output_type": "stream",
     "text": [
      "dream.scalar_transport.time.imex (INFO) | time: 3.930000e+00\r"
     ]
    },
    {
     "name": "stderr",
     "output_type": "stream",
     "text": [
      "dream.scalar_transport.time.imex (INFO) | time: 3.940000e+00\r"
     ]
    },
    {
     "name": "stderr",
     "output_type": "stream",
     "text": [
      "dream.scalar_transport.time.imex (INFO) | time: 3.950000e+00\r"
     ]
    },
    {
     "name": "stderr",
     "output_type": "stream",
     "text": [
      "dream.scalar_transport.time.imex (INFO) | time: 3.960000e+00\r"
     ]
    },
    {
     "name": "stderr",
     "output_type": "stream",
     "text": [
      "dream.scalar_transport.time.imex (INFO) | time: 3.970000e+00\r"
     ]
    },
    {
     "name": "stderr",
     "output_type": "stream",
     "text": [
      "dream.scalar_transport.time.imex (INFO) | time: 3.980000e+00\r"
     ]
    },
    {
     "name": "stderr",
     "output_type": "stream",
     "text": [
      "dream.scalar_transport.time.imex (INFO) | time: 3.990000e+00\r"
     ]
    },
    {
     "name": "stderr",
     "output_type": "stream",
     "text": [
      "dream.scalar_transport.time.imex (INFO) | time: 4.000000e+00\r"
     ]
    },
    {
     "name": "stderr",
     "output_type": "stream",
     "text": [
      "dream.scalar_transport.time.imex (INFO) | time: 4.010000e+00\r"
     ]
    },
    {
     "name": "stderr",
     "output_type": "stream",
     "text": [
      "dream.scalar_transport.time.imex (INFO) | time: 4.020000e+00\r"
     ]
    },
    {
     "name": "stderr",
     "output_type": "stream",
     "text": [
      "dream.scalar_transport.time.imex (INFO) | time: 4.030000e+00\r"
     ]
    },
    {
     "name": "stderr",
     "output_type": "stream",
     "text": [
      "dream.scalar_transport.time.imex (INFO) | time: 4.040000e+00\r"
     ]
    },
    {
     "name": "stderr",
     "output_type": "stream",
     "text": [
      "dream.scalar_transport.time.imex (INFO) | time: 4.050000e+00\r"
     ]
    },
    {
     "name": "stderr",
     "output_type": "stream",
     "text": [
      "dream.scalar_transport.time.imex (INFO) | time: 4.060000e+00\r"
     ]
    },
    {
     "name": "stderr",
     "output_type": "stream",
     "text": [
      "dream.scalar_transport.time.imex (INFO) | time: 4.070000e+00\r"
     ]
    },
    {
     "name": "stderr",
     "output_type": "stream",
     "text": [
      "dream.scalar_transport.time.imex (INFO) | time: 4.080000e+00\r"
     ]
    },
    {
     "name": "stderr",
     "output_type": "stream",
     "text": [
      "dream.scalar_transport.time.imex (INFO) | time: 4.090000e+00\r"
     ]
    },
    {
     "name": "stderr",
     "output_type": "stream",
     "text": [
      "dream.scalar_transport.time.imex (INFO) | time: 4.100000e+00\r"
     ]
    },
    {
     "name": "stderr",
     "output_type": "stream",
     "text": [
      "dream.scalar_transport.time.imex (INFO) | time: 4.110000e+00\r"
     ]
    },
    {
     "name": "stderr",
     "output_type": "stream",
     "text": [
      "dream.scalar_transport.time.imex (INFO) | time: 4.120000e+00\r"
     ]
    },
    {
     "name": "stderr",
     "output_type": "stream",
     "text": [
      "dream.scalar_transport.time.imex (INFO) | time: 4.130000e+00\r"
     ]
    },
    {
     "name": "stderr",
     "output_type": "stream",
     "text": [
      "dream.scalar_transport.time.imex (INFO) | time: 4.140000e+00\r"
     ]
    },
    {
     "name": "stderr",
     "output_type": "stream",
     "text": [
      "dream.scalar_transport.time.imex (INFO) | time: 4.150000e+00\r"
     ]
    },
    {
     "name": "stderr",
     "output_type": "stream",
     "text": [
      "dream.scalar_transport.time.imex (INFO) | time: 4.160000e+00\r"
     ]
    },
    {
     "name": "stderr",
     "output_type": "stream",
     "text": [
      "dream.scalar_transport.time.imex (INFO) | time: 4.170000e+00\r"
     ]
    },
    {
     "name": "stderr",
     "output_type": "stream",
     "text": [
      "dream.scalar_transport.time.imex (INFO) | time: 4.180000e+00\r"
     ]
    },
    {
     "name": "stderr",
     "output_type": "stream",
     "text": [
      "dream.scalar_transport.time.imex (INFO) | time: 4.190000e+00\r"
     ]
    },
    {
     "name": "stderr",
     "output_type": "stream",
     "text": [
      "dream.scalar_transport.time.imex (INFO) | time: 4.200000e+00\r"
     ]
    },
    {
     "name": "stderr",
     "output_type": "stream",
     "text": [
      "dream.scalar_transport.time.imex (INFO) | time: 4.210000e+00\r"
     ]
    },
    {
     "name": "stderr",
     "output_type": "stream",
     "text": [
      "dream.scalar_transport.time.imex (INFO) | time: 4.220000e+00\r"
     ]
    },
    {
     "name": "stderr",
     "output_type": "stream",
     "text": [
      "dream.scalar_transport.time.imex (INFO) | time: 4.230000e+00\r"
     ]
    },
    {
     "name": "stderr",
     "output_type": "stream",
     "text": [
      "dream.scalar_transport.time.imex (INFO) | time: 4.240000e+00\r"
     ]
    },
    {
     "name": "stderr",
     "output_type": "stream",
     "text": [
      "dream.scalar_transport.time.imex (INFO) | time: 4.250000e+00\r"
     ]
    },
    {
     "name": "stderr",
     "output_type": "stream",
     "text": [
      "dream.scalar_transport.time.imex (INFO) | time: 4.260000e+00\r"
     ]
    },
    {
     "name": "stderr",
     "output_type": "stream",
     "text": [
      "dream.scalar_transport.time.imex (INFO) | time: 4.270000e+00\r"
     ]
    },
    {
     "name": "stderr",
     "output_type": "stream",
     "text": [
      "dream.scalar_transport.time.imex (INFO) | time: 4.280000e+00\r"
     ]
    },
    {
     "name": "stderr",
     "output_type": "stream",
     "text": [
      "dream.scalar_transport.time.imex (INFO) | time: 4.290000e+00\r"
     ]
    },
    {
     "name": "stderr",
     "output_type": "stream",
     "text": [
      "dream.scalar_transport.time.imex (INFO) | time: 4.300000e+00\r"
     ]
    },
    {
     "name": "stderr",
     "output_type": "stream",
     "text": [
      "dream.scalar_transport.time.imex (INFO) | time: 4.310000e+00\r"
     ]
    },
    {
     "name": "stderr",
     "output_type": "stream",
     "text": [
      "dream.scalar_transport.time.imex (INFO) | time: 4.320000e+00\r"
     ]
    },
    {
     "name": "stderr",
     "output_type": "stream",
     "text": [
      "dream.scalar_transport.time.imex (INFO) | time: 4.330000e+00\r"
     ]
    },
    {
     "name": "stderr",
     "output_type": "stream",
     "text": [
      "dream.scalar_transport.time.imex (INFO) | time: 4.340000e+00\r"
     ]
    },
    {
     "name": "stderr",
     "output_type": "stream",
     "text": [
      "dream.scalar_transport.time.imex (INFO) | time: 4.350000e+00\r"
     ]
    },
    {
     "name": "stderr",
     "output_type": "stream",
     "text": [
      "dream.scalar_transport.time.imex (INFO) | time: 4.360000e+00\r"
     ]
    },
    {
     "name": "stderr",
     "output_type": "stream",
     "text": [
      "dream.scalar_transport.time.imex (INFO) | time: 4.370000e+00\r"
     ]
    },
    {
     "name": "stderr",
     "output_type": "stream",
     "text": [
      "dream.scalar_transport.time.imex (INFO) | time: 4.380000e+00\r"
     ]
    },
    {
     "name": "stderr",
     "output_type": "stream",
     "text": [
      "dream.scalar_transport.time.imex (INFO) | time: 4.390000e+00\r"
     ]
    },
    {
     "name": "stderr",
     "output_type": "stream",
     "text": [
      "dream.scalar_transport.time.imex (INFO) | time: 4.400000e+00\r"
     ]
    },
    {
     "name": "stderr",
     "output_type": "stream",
     "text": [
      "dream.scalar_transport.time.imex (INFO) | time: 4.410000e+00\r"
     ]
    },
    {
     "name": "stderr",
     "output_type": "stream",
     "text": [
      "dream.scalar_transport.time.imex (INFO) | time: 4.420000e+00\r"
     ]
    },
    {
     "name": "stderr",
     "output_type": "stream",
     "text": [
      "dream.scalar_transport.time.imex (INFO) | time: 4.430000e+00\r"
     ]
    },
    {
     "name": "stderr",
     "output_type": "stream",
     "text": [
      "dream.scalar_transport.time.imex (INFO) | time: 4.440000e+00\r"
     ]
    },
    {
     "name": "stderr",
     "output_type": "stream",
     "text": [
      "dream.scalar_transport.time.imex (INFO) | time: 4.450000e+00\r"
     ]
    },
    {
     "name": "stderr",
     "output_type": "stream",
     "text": [
      "dream.scalar_transport.time.imex (INFO) | time: 4.460000e+00\r"
     ]
    },
    {
     "name": "stderr",
     "output_type": "stream",
     "text": [
      "dream.scalar_transport.time.imex (INFO) | time: 4.470000e+00\r"
     ]
    },
    {
     "name": "stderr",
     "output_type": "stream",
     "text": [
      "dream.scalar_transport.time.imex (INFO) | time: 4.480000e+00\r"
     ]
    },
    {
     "name": "stderr",
     "output_type": "stream",
     "text": [
      "dream.scalar_transport.time.imex (INFO) | time: 4.490000e+00\r"
     ]
    },
    {
     "name": "stderr",
     "output_type": "stream",
     "text": [
      "dream.scalar_transport.time.imex (INFO) | time: 4.500000e+00\r"
     ]
    },
    {
     "name": "stderr",
     "output_type": "stream",
     "text": [
      "dream.scalar_transport.time.imex (INFO) | time: 4.510000e+00\r"
     ]
    },
    {
     "name": "stderr",
     "output_type": "stream",
     "text": [
      "dream.scalar_transport.time.imex (INFO) | time: 4.520000e+00\r"
     ]
    },
    {
     "name": "stderr",
     "output_type": "stream",
     "text": [
      "dream.scalar_transport.time.imex (INFO) | time: 4.530000e+00\r"
     ]
    },
    {
     "name": "stderr",
     "output_type": "stream",
     "text": [
      "dream.scalar_transport.time.imex (INFO) | time: 4.540000e+00\r"
     ]
    },
    {
     "name": "stderr",
     "output_type": "stream",
     "text": [
      "dream.scalar_transport.time.imex (INFO) | time: 4.550000e+00\r"
     ]
    },
    {
     "name": "stderr",
     "output_type": "stream",
     "text": [
      "dream.scalar_transport.time.imex (INFO) | time: 4.560000e+00\r"
     ]
    },
    {
     "name": "stderr",
     "output_type": "stream",
     "text": [
      "dream.scalar_transport.time.imex (INFO) | time: 4.570000e+00\r"
     ]
    },
    {
     "name": "stderr",
     "output_type": "stream",
     "text": [
      "dream.scalar_transport.time.imex (INFO) | time: 4.580000e+00\r"
     ]
    },
    {
     "name": "stderr",
     "output_type": "stream",
     "text": [
      "dream.scalar_transport.time.imex (INFO) | time: 4.590000e+00\r"
     ]
    },
    {
     "name": "stderr",
     "output_type": "stream",
     "text": [
      "dream.scalar_transport.time.imex (INFO) | time: 4.600000e+00\r"
     ]
    },
    {
     "name": "stderr",
     "output_type": "stream",
     "text": [
      "dream.scalar_transport.time.imex (INFO) | time: 4.610000e+00\r"
     ]
    },
    {
     "name": "stderr",
     "output_type": "stream",
     "text": [
      "dream.scalar_transport.time.imex (INFO) | time: 4.620000e+00\r"
     ]
    },
    {
     "name": "stderr",
     "output_type": "stream",
     "text": [
      "dream.scalar_transport.time.imex (INFO) | time: 4.630000e+00\r"
     ]
    },
    {
     "name": "stderr",
     "output_type": "stream",
     "text": [
      "dream.scalar_transport.time.imex (INFO) | time: 4.640000e+00\r"
     ]
    },
    {
     "name": "stderr",
     "output_type": "stream",
     "text": [
      "dream.scalar_transport.time.imex (INFO) | time: 4.650000e+00\r"
     ]
    },
    {
     "name": "stderr",
     "output_type": "stream",
     "text": [
      "dream.scalar_transport.time.imex (INFO) | time: 4.660000e+00\r"
     ]
    },
    {
     "name": "stderr",
     "output_type": "stream",
     "text": [
      "dream.scalar_transport.time.imex (INFO) | time: 4.670000e+00\r"
     ]
    },
    {
     "name": "stderr",
     "output_type": "stream",
     "text": [
      "dream.scalar_transport.time.imex (INFO) | time: 4.680000e+00\r"
     ]
    },
    {
     "name": "stderr",
     "output_type": "stream",
     "text": [
      "dream.scalar_transport.time.imex (INFO) | time: 4.690000e+00\r"
     ]
    },
    {
     "name": "stderr",
     "output_type": "stream",
     "text": [
      "dream.scalar_transport.time.imex (INFO) | time: 4.700000e+00\r"
     ]
    },
    {
     "name": "stderr",
     "output_type": "stream",
     "text": [
      "dream.scalar_transport.time.imex (INFO) | time: 4.710000e+00\r"
     ]
    },
    {
     "name": "stderr",
     "output_type": "stream",
     "text": [
      "dream.scalar_transport.time.imex (INFO) | time: 4.720000e+00\r"
     ]
    },
    {
     "name": "stderr",
     "output_type": "stream",
     "text": [
      "dream.scalar_transport.time.imex (INFO) | time: 4.730000e+00\r"
     ]
    },
    {
     "name": "stderr",
     "output_type": "stream",
     "text": [
      "dream.scalar_transport.time.imex (INFO) | time: 4.740000e+00\r"
     ]
    },
    {
     "name": "stderr",
     "output_type": "stream",
     "text": [
      "dream.scalar_transport.time.imex (INFO) | time: 4.750000e+00\r"
     ]
    },
    {
     "name": "stderr",
     "output_type": "stream",
     "text": [
      "dream.scalar_transport.time.imex (INFO) | time: 4.760000e+00\r"
     ]
    },
    {
     "name": "stderr",
     "output_type": "stream",
     "text": [
      "dream.scalar_transport.time.imex (INFO) | time: 4.770000e+00\r"
     ]
    },
    {
     "name": "stderr",
     "output_type": "stream",
     "text": [
      "dream.scalar_transport.time.imex (INFO) | time: 4.780000e+00\r"
     ]
    },
    {
     "name": "stderr",
     "output_type": "stream",
     "text": [
      "dream.scalar_transport.time.imex (INFO) | time: 4.790000e+00\r"
     ]
    },
    {
     "name": "stderr",
     "output_type": "stream",
     "text": [
      "dream.scalar_transport.time.imex (INFO) | time: 4.800000e+00\r"
     ]
    },
    {
     "name": "stderr",
     "output_type": "stream",
     "text": [
      "dream.scalar_transport.time.imex (INFO) | time: 4.810000e+00\r"
     ]
    },
    {
     "name": "stderr",
     "output_type": "stream",
     "text": [
      "dream.scalar_transport.time.imex (INFO) | time: 4.820000e+00\r"
     ]
    },
    {
     "name": "stderr",
     "output_type": "stream",
     "text": [
      "dream.scalar_transport.time.imex (INFO) | time: 4.830000e+00\r"
     ]
    },
    {
     "name": "stderr",
     "output_type": "stream",
     "text": [
      "dream.scalar_transport.time.imex (INFO) | time: 4.840000e+00\r"
     ]
    },
    {
     "name": "stderr",
     "output_type": "stream",
     "text": [
      "dream.scalar_transport.time.imex (INFO) | time: 4.850000e+00\r"
     ]
    },
    {
     "name": "stderr",
     "output_type": "stream",
     "text": [
      "dream.scalar_transport.time.imex (INFO) | time: 4.860000e+00\r"
     ]
    },
    {
     "name": "stderr",
     "output_type": "stream",
     "text": [
      "dream.scalar_transport.time.imex (INFO) | time: 4.870000e+00\r"
     ]
    },
    {
     "name": "stderr",
     "output_type": "stream",
     "text": [
      "dream.scalar_transport.time.imex (INFO) | time: 4.880000e+00\r"
     ]
    },
    {
     "name": "stderr",
     "output_type": "stream",
     "text": [
      "dream.scalar_transport.time.imex (INFO) | time: 4.890000e+00\r"
     ]
    },
    {
     "name": "stderr",
     "output_type": "stream",
     "text": [
      "dream.scalar_transport.time.imex (INFO) | time: 4.900000e+00\r"
     ]
    },
    {
     "name": "stderr",
     "output_type": "stream",
     "text": [
      "dream.scalar_transport.time.imex (INFO) | time: 4.910000e+00\r"
     ]
    },
    {
     "name": "stderr",
     "output_type": "stream",
     "text": [
      "dream.scalar_transport.time.imex (INFO) | time: 4.920000e+00\r"
     ]
    },
    {
     "name": "stderr",
     "output_type": "stream",
     "text": [
      "dream.scalar_transport.time.imex (INFO) | time: 4.930000e+00\r"
     ]
    },
    {
     "name": "stderr",
     "output_type": "stream",
     "text": [
      "dream.scalar_transport.time.imex (INFO) | time: 4.940000e+00\r"
     ]
    },
    {
     "name": "stderr",
     "output_type": "stream",
     "text": [
      "dream.scalar_transport.time.imex (INFO) | time: 4.950000e+00\r"
     ]
    },
    {
     "name": "stderr",
     "output_type": "stream",
     "text": [
      "dream.scalar_transport.time.imex (INFO) | time: 4.960000e+00\r"
     ]
    },
    {
     "name": "stderr",
     "output_type": "stream",
     "text": [
      "dream.scalar_transport.time.imex (INFO) | time: 4.970000e+00\r"
     ]
    },
    {
     "name": "stderr",
     "output_type": "stream",
     "text": [
      "dream.scalar_transport.time.imex (INFO) | time: 4.980000e+00\r"
     ]
    },
    {
     "name": "stderr",
     "output_type": "stream",
     "text": [
      "dream.scalar_transport.time.imex (INFO) | time: 4.990000e+00\r"
     ]
    },
    {
     "name": "stderr",
     "output_type": "stream",
     "text": [
      "dream.scalar_transport.time.imex (INFO) | time: 5.000000e+00\r"
     ]
    },
    {
     "name": "stderr",
     "output_type": "stream",
     "text": [
      "dream.scalar_transport.time.imex (INFO) | time: 5.010000e+00\r"
     ]
    },
    {
     "name": "stderr",
     "output_type": "stream",
     "text": [
      "dream.scalar_transport.time.imex (INFO) | time: 5.020000e+00\r"
     ]
    },
    {
     "name": "stderr",
     "output_type": "stream",
     "text": [
      "dream.scalar_transport.time.imex (INFO) | time: 5.030000e+00\r"
     ]
    },
    {
     "name": "stderr",
     "output_type": "stream",
     "text": [
      "dream.scalar_transport.time.imex (INFO) | time: 5.040000e+00\r"
     ]
    },
    {
     "name": "stderr",
     "output_type": "stream",
     "text": [
      "dream.scalar_transport.time.imex (INFO) | time: 5.050000e+00\r"
     ]
    },
    {
     "name": "stderr",
     "output_type": "stream",
     "text": [
      "dream.scalar_transport.time.imex (INFO) | time: 5.060000e+00\r"
     ]
    },
    {
     "name": "stderr",
     "output_type": "stream",
     "text": [
      "dream.scalar_transport.time.imex (INFO) | time: 5.070000e+00\r"
     ]
    },
    {
     "name": "stderr",
     "output_type": "stream",
     "text": [
      "dream.scalar_transport.time.imex (INFO) | time: 5.080000e+00\r"
     ]
    },
    {
     "name": "stderr",
     "output_type": "stream",
     "text": [
      "dream.scalar_transport.time.imex (INFO) | time: 5.090000e+00\r"
     ]
    },
    {
     "name": "stderr",
     "output_type": "stream",
     "text": [
      "dream.scalar_transport.time.imex (INFO) | time: 5.100000e+00\r"
     ]
    },
    {
     "name": "stderr",
     "output_type": "stream",
     "text": [
      "dream.scalar_transport.time.imex (INFO) | time: 5.110000e+00\r"
     ]
    },
    {
     "name": "stderr",
     "output_type": "stream",
     "text": [
      "dream.scalar_transport.time.imex (INFO) | time: 5.120000e+00\r"
     ]
    },
    {
     "name": "stderr",
     "output_type": "stream",
     "text": [
      "dream.scalar_transport.time.imex (INFO) | time: 5.130000e+00\r"
     ]
    },
    {
     "name": "stderr",
     "output_type": "stream",
     "text": [
      "dream.scalar_transport.time.imex (INFO) | time: 5.140000e+00\r"
     ]
    },
    {
     "name": "stderr",
     "output_type": "stream",
     "text": [
      "dream.scalar_transport.time.imex (INFO) | time: 5.150000e+00\r"
     ]
    },
    {
     "name": "stderr",
     "output_type": "stream",
     "text": [
      "dream.scalar_transport.time.imex (INFO) | time: 5.160000e+00\r"
     ]
    },
    {
     "name": "stderr",
     "output_type": "stream",
     "text": [
      "dream.scalar_transport.time.imex (INFO) | time: 5.170000e+00\r"
     ]
    },
    {
     "name": "stderr",
     "output_type": "stream",
     "text": [
      "dream.scalar_transport.time.imex (INFO) | time: 5.180000e+00\r"
     ]
    },
    {
     "name": "stderr",
     "output_type": "stream",
     "text": [
      "dream.scalar_transport.time.imex (INFO) | time: 5.190000e+00\r"
     ]
    },
    {
     "name": "stderr",
     "output_type": "stream",
     "text": [
      "dream.scalar_transport.time.imex (INFO) | time: 5.200000e+00\r"
     ]
    },
    {
     "name": "stderr",
     "output_type": "stream",
     "text": [
      "dream.scalar_transport.time.imex (INFO) | time: 5.210000e+00\r"
     ]
    },
    {
     "name": "stderr",
     "output_type": "stream",
     "text": [
      "dream.scalar_transport.time.imex (INFO) | time: 5.220000e+00\r"
     ]
    },
    {
     "name": "stderr",
     "output_type": "stream",
     "text": [
      "dream.scalar_transport.time.imex (INFO) | time: 5.230000e+00\r"
     ]
    },
    {
     "name": "stderr",
     "output_type": "stream",
     "text": [
      "dream.scalar_transport.time.imex (INFO) | time: 5.240000e+00\r"
     ]
    },
    {
     "name": "stderr",
     "output_type": "stream",
     "text": [
      "dream.scalar_transport.time.imex (INFO) | time: 5.250000e+00\r"
     ]
    },
    {
     "name": "stderr",
     "output_type": "stream",
     "text": [
      "dream.scalar_transport.time.imex (INFO) | time: 5.260000e+00\r"
     ]
    },
    {
     "name": "stderr",
     "output_type": "stream",
     "text": [
      "dream.scalar_transport.time.imex (INFO) | time: 5.270000e+00\r"
     ]
    },
    {
     "name": "stderr",
     "output_type": "stream",
     "text": [
      "dream.scalar_transport.time.imex (INFO) | time: 5.280000e+00\r"
     ]
    },
    {
     "name": "stderr",
     "output_type": "stream",
     "text": [
      "dream.scalar_transport.time.imex (INFO) | time: 5.290000e+00\r"
     ]
    },
    {
     "name": "stderr",
     "output_type": "stream",
     "text": [
      "dream.scalar_transport.time.imex (INFO) | time: 5.300000e+00\r"
     ]
    },
    {
     "name": "stderr",
     "output_type": "stream",
     "text": [
      "dream.scalar_transport.time.imex (INFO) | time: 5.310000e+00\r"
     ]
    },
    {
     "name": "stderr",
     "output_type": "stream",
     "text": [
      "dream.scalar_transport.time.imex (INFO) | time: 5.320000e+00\r"
     ]
    },
    {
     "name": "stderr",
     "output_type": "stream",
     "text": [
      "dream.scalar_transport.time.imex (INFO) | time: 5.330000e+00\r"
     ]
    },
    {
     "name": "stderr",
     "output_type": "stream",
     "text": [
      "dream.scalar_transport.time.imex (INFO) | time: 5.340000e+00\r"
     ]
    },
    {
     "name": "stderr",
     "output_type": "stream",
     "text": [
      "dream.scalar_transport.time.imex (INFO) | time: 5.350000e+00\r"
     ]
    },
    {
     "name": "stderr",
     "output_type": "stream",
     "text": [
      "dream.scalar_transport.time.imex (INFO) | time: 5.360000e+00\r"
     ]
    },
    {
     "name": "stderr",
     "output_type": "stream",
     "text": [
      "dream.scalar_transport.time.imex (INFO) | time: 5.370000e+00\r"
     ]
    },
    {
     "name": "stderr",
     "output_type": "stream",
     "text": [
      "dream.scalar_transport.time.imex (INFO) | time: 5.380000e+00\r"
     ]
    },
    {
     "name": "stderr",
     "output_type": "stream",
     "text": [
      "dream.scalar_transport.time.imex (INFO) | time: 5.390000e+00\r"
     ]
    },
    {
     "name": "stderr",
     "output_type": "stream",
     "text": [
      "dream.scalar_transport.time.imex (INFO) | time: 5.400000e+00\r"
     ]
    },
    {
     "name": "stderr",
     "output_type": "stream",
     "text": [
      "dream.scalar_transport.time.imex (INFO) | time: 5.410000e+00\r"
     ]
    },
    {
     "name": "stderr",
     "output_type": "stream",
     "text": [
      "dream.scalar_transport.time.imex (INFO) | time: 5.420000e+00\r"
     ]
    },
    {
     "name": "stderr",
     "output_type": "stream",
     "text": [
      "dream.scalar_transport.time.imex (INFO) | time: 5.430000e+00\r"
     ]
    },
    {
     "name": "stderr",
     "output_type": "stream",
     "text": [
      "dream.scalar_transport.time.imex (INFO) | time: 5.440000e+00\r"
     ]
    },
    {
     "name": "stderr",
     "output_type": "stream",
     "text": [
      "dream.scalar_transport.time.imex (INFO) | time: 5.450000e+00\r"
     ]
    },
    {
     "name": "stderr",
     "output_type": "stream",
     "text": [
      "dream.scalar_transport.time.imex (INFO) | time: 5.460000e+00\r"
     ]
    },
    {
     "name": "stderr",
     "output_type": "stream",
     "text": [
      "dream.scalar_transport.time.imex (INFO) | time: 5.470000e+00\r"
     ]
    },
    {
     "name": "stderr",
     "output_type": "stream",
     "text": [
      "dream.scalar_transport.time.imex (INFO) | time: 5.480000e+00\r"
     ]
    },
    {
     "name": "stderr",
     "output_type": "stream",
     "text": [
      "dream.scalar_transport.time.imex (INFO) | time: 5.490000e+00\r"
     ]
    },
    {
     "name": "stderr",
     "output_type": "stream",
     "text": [
      "dream.scalar_transport.time.imex (INFO) | time: 5.500000e+00\r"
     ]
    },
    {
     "name": "stderr",
     "output_type": "stream",
     "text": [
      "dream.scalar_transport.time.imex (INFO) | time: 5.510000e+00\r"
     ]
    },
    {
     "name": "stderr",
     "output_type": "stream",
     "text": [
      "dream.scalar_transport.time.imex (INFO) | time: 5.520000e+00\r"
     ]
    },
    {
     "name": "stderr",
     "output_type": "stream",
     "text": [
      "dream.scalar_transport.time.imex (INFO) | time: 5.530000e+00\r"
     ]
    },
    {
     "name": "stderr",
     "output_type": "stream",
     "text": [
      "dream.scalar_transport.time.imex (INFO) | time: 5.540000e+00\r"
     ]
    },
    {
     "name": "stderr",
     "output_type": "stream",
     "text": [
      "dream.scalar_transport.time.imex (INFO) | time: 5.550000e+00\r"
     ]
    },
    {
     "name": "stderr",
     "output_type": "stream",
     "text": [
      "dream.scalar_transport.time.imex (INFO) | time: 5.560000e+00\r"
     ]
    },
    {
     "name": "stderr",
     "output_type": "stream",
     "text": [
      "dream.scalar_transport.time.imex (INFO) | time: 5.570000e+00\r"
     ]
    },
    {
     "name": "stderr",
     "output_type": "stream",
     "text": [
      "dream.scalar_transport.time.imex (INFO) | time: 5.580000e+00\r"
     ]
    },
    {
     "name": "stderr",
     "output_type": "stream",
     "text": [
      "dream.scalar_transport.time.imex (INFO) | time: 5.590000e+00\r"
     ]
    },
    {
     "name": "stderr",
     "output_type": "stream",
     "text": [
      "dream.scalar_transport.time.imex (INFO) | time: 5.600000e+00\r"
     ]
    },
    {
     "name": "stderr",
     "output_type": "stream",
     "text": [
      "dream.scalar_transport.time.imex (INFO) | time: 5.610000e+00\r"
     ]
    },
    {
     "name": "stderr",
     "output_type": "stream",
     "text": [
      "dream.scalar_transport.time.imex (INFO) | time: 5.620000e+00\r"
     ]
    },
    {
     "name": "stderr",
     "output_type": "stream",
     "text": [
      "dream.scalar_transport.time.imex (INFO) | time: 5.630000e+00\r"
     ]
    },
    {
     "name": "stderr",
     "output_type": "stream",
     "text": [
      "dream.scalar_transport.time.imex (INFO) | time: 5.640000e+00\r"
     ]
    },
    {
     "name": "stderr",
     "output_type": "stream",
     "text": [
      "dream.scalar_transport.time.imex (INFO) | time: 5.650000e+00\r"
     ]
    },
    {
     "name": "stderr",
     "output_type": "stream",
     "text": [
      "dream.scalar_transport.time.imex (INFO) | time: 5.660000e+00\r"
     ]
    },
    {
     "name": "stderr",
     "output_type": "stream",
     "text": [
      "dream.scalar_transport.time.imex (INFO) | time: 5.670000e+00\r"
     ]
    },
    {
     "name": "stderr",
     "output_type": "stream",
     "text": [
      "dream.scalar_transport.time.imex (INFO) | time: 5.680000e+00\r"
     ]
    },
    {
     "name": "stderr",
     "output_type": "stream",
     "text": [
      "dream.scalar_transport.time.imex (INFO) | time: 5.690000e+00\r"
     ]
    },
    {
     "name": "stderr",
     "output_type": "stream",
     "text": [
      "dream.scalar_transport.time.imex (INFO) | time: 5.700000e+00\r"
     ]
    },
    {
     "name": "stderr",
     "output_type": "stream",
     "text": [
      "dream.scalar_transport.time.imex (INFO) | time: 5.710000e+00\r"
     ]
    },
    {
     "name": "stderr",
     "output_type": "stream",
     "text": [
      "dream.scalar_transport.time.imex (INFO) | time: 5.720000e+00\r"
     ]
    },
    {
     "name": "stderr",
     "output_type": "stream",
     "text": [
      "dream.scalar_transport.time.imex (INFO) | time: 5.730000e+00\r"
     ]
    },
    {
     "name": "stderr",
     "output_type": "stream",
     "text": [
      "dream.scalar_transport.time.imex (INFO) | time: 5.740000e+00\r"
     ]
    },
    {
     "name": "stderr",
     "output_type": "stream",
     "text": [
      "dream.scalar_transport.time.imex (INFO) | time: 5.750000e+00\r"
     ]
    },
    {
     "name": "stderr",
     "output_type": "stream",
     "text": [
      "dream.scalar_transport.time.imex (INFO) | time: 5.760000e+00\r"
     ]
    },
    {
     "name": "stderr",
     "output_type": "stream",
     "text": [
      "dream.scalar_transport.time.imex (INFO) | time: 5.770000e+00\r"
     ]
    },
    {
     "name": "stderr",
     "output_type": "stream",
     "text": [
      "dream.scalar_transport.time.imex (INFO) | time: 5.780000e+00\r"
     ]
    },
    {
     "name": "stderr",
     "output_type": "stream",
     "text": [
      "dream.scalar_transport.time.imex (INFO) | time: 5.790000e+00\r"
     ]
    },
    {
     "name": "stderr",
     "output_type": "stream",
     "text": [
      "dream.scalar_transport.time.imex (INFO) | time: 5.800000e+00\r"
     ]
    },
    {
     "name": "stderr",
     "output_type": "stream",
     "text": [
      "dream.scalar_transport.time.imex (INFO) | time: 5.810000e+00\r"
     ]
    },
    {
     "name": "stderr",
     "output_type": "stream",
     "text": [
      "dream.scalar_transport.time.imex (INFO) | time: 5.820000e+00\r"
     ]
    },
    {
     "name": "stderr",
     "output_type": "stream",
     "text": [
      "dream.scalar_transport.time.imex (INFO) | time: 5.830000e+00\r"
     ]
    },
    {
     "name": "stderr",
     "output_type": "stream",
     "text": [
      "dream.scalar_transport.time.imex (INFO) | time: 5.840000e+00\r"
     ]
    },
    {
     "name": "stderr",
     "output_type": "stream",
     "text": [
      "dream.scalar_transport.time.imex (INFO) | time: 5.850000e+00\r"
     ]
    },
    {
     "name": "stderr",
     "output_type": "stream",
     "text": [
      "dream.scalar_transport.time.imex (INFO) | time: 5.860000e+00\r"
     ]
    },
    {
     "name": "stderr",
     "output_type": "stream",
     "text": [
      "dream.scalar_transport.time.imex (INFO) | time: 5.870000e+00\r"
     ]
    },
    {
     "name": "stderr",
     "output_type": "stream",
     "text": [
      "dream.scalar_transport.time.imex (INFO) | time: 5.880000e+00\r"
     ]
    },
    {
     "name": "stderr",
     "output_type": "stream",
     "text": [
      "dream.scalar_transport.time.imex (INFO) | time: 5.890000e+00\r"
     ]
    },
    {
     "name": "stderr",
     "output_type": "stream",
     "text": [
      "dream.scalar_transport.time.imex (INFO) | time: 5.900000e+00\r"
     ]
    },
    {
     "name": "stderr",
     "output_type": "stream",
     "text": [
      "dream.scalar_transport.time.imex (INFO) | time: 5.910000e+00\r"
     ]
    },
    {
     "name": "stderr",
     "output_type": "stream",
     "text": [
      "dream.scalar_transport.time.imex (INFO) | time: 5.920000e+00\r"
     ]
    },
    {
     "name": "stderr",
     "output_type": "stream",
     "text": [
      "dream.scalar_transport.time.imex (INFO) | time: 5.930000e+00\r"
     ]
    },
    {
     "name": "stderr",
     "output_type": "stream",
     "text": [
      "dream.scalar_transport.time.imex (INFO) | time: 5.940000e+00\r"
     ]
    },
    {
     "name": "stderr",
     "output_type": "stream",
     "text": [
      "dream.scalar_transport.time.imex (INFO) | time: 5.950000e+00\r"
     ]
    },
    {
     "name": "stderr",
     "output_type": "stream",
     "text": [
      "dream.scalar_transport.time.imex (INFO) | time: 5.960000e+00\r"
     ]
    },
    {
     "name": "stderr",
     "output_type": "stream",
     "text": [
      "dream.scalar_transport.time.imex (INFO) | time: 5.970000e+00\r"
     ]
    },
    {
     "name": "stderr",
     "output_type": "stream",
     "text": [
      "dream.scalar_transport.time.imex (INFO) | time: 5.980000e+00\r"
     ]
    },
    {
     "name": "stderr",
     "output_type": "stream",
     "text": [
      "dream.scalar_transport.time.imex (INFO) | time: 5.990000e+00\r"
     ]
    },
    {
     "name": "stderr",
     "output_type": "stream",
     "text": [
      "dream.scalar_transport.time.imex (INFO) | time: 6.000000e+00\r"
     ]
    },
    {
     "name": "stderr",
     "output_type": "stream",
     "text": [
      "dream.scalar_transport.time.imex (INFO) | time: 6.010000e+00\r"
     ]
    },
    {
     "name": "stderr",
     "output_type": "stream",
     "text": [
      "dream.scalar_transport.time.imex (INFO) | time: 6.020000e+00\r"
     ]
    },
    {
     "name": "stderr",
     "output_type": "stream",
     "text": [
      "dream.scalar_transport.time.imex (INFO) | time: 6.030000e+00\r"
     ]
    },
    {
     "name": "stderr",
     "output_type": "stream",
     "text": [
      "dream.scalar_transport.time.imex (INFO) | time: 6.040000e+00\r"
     ]
    },
    {
     "name": "stderr",
     "output_type": "stream",
     "text": [
      "dream.scalar_transport.time.imex (INFO) | time: 6.050000e+00\r"
     ]
    },
    {
     "name": "stderr",
     "output_type": "stream",
     "text": [
      "dream.scalar_transport.time.imex (INFO) | time: 6.060000e+00\r"
     ]
    },
    {
     "name": "stderr",
     "output_type": "stream",
     "text": [
      "dream.scalar_transport.time.imex (INFO) | time: 6.070000e+00\r"
     ]
    },
    {
     "name": "stderr",
     "output_type": "stream",
     "text": [
      "dream.scalar_transport.time.imex (INFO) | time: 6.080000e+00\r"
     ]
    },
    {
     "name": "stderr",
     "output_type": "stream",
     "text": [
      "dream.scalar_transport.time.imex (INFO) | time: 6.090000e+00\r"
     ]
    },
    {
     "name": "stderr",
     "output_type": "stream",
     "text": [
      "dream.scalar_transport.time.imex (INFO) | time: 6.100000e+00\r"
     ]
    },
    {
     "name": "stderr",
     "output_type": "stream",
     "text": [
      "dream.scalar_transport.time.imex (INFO) | time: 6.110000e+00\r"
     ]
    },
    {
     "name": "stderr",
     "output_type": "stream",
     "text": [
      "dream.scalar_transport.time.imex (INFO) | time: 6.120000e+00\r"
     ]
    },
    {
     "name": "stderr",
     "output_type": "stream",
     "text": [
      "dream.scalar_transport.time.imex (INFO) | time: 6.130000e+00\r"
     ]
    },
    {
     "name": "stderr",
     "output_type": "stream",
     "text": [
      "dream.scalar_transport.time.imex (INFO) | time: 6.140000e+00\r"
     ]
    },
    {
     "name": "stderr",
     "output_type": "stream",
     "text": [
      "dream.scalar_transport.time.imex (INFO) | time: 6.150000e+00\r"
     ]
    },
    {
     "name": "stderr",
     "output_type": "stream",
     "text": [
      "dream.scalar_transport.time.imex (INFO) | time: 6.160000e+00\r"
     ]
    },
    {
     "name": "stderr",
     "output_type": "stream",
     "text": [
      "dream.scalar_transport.time.imex (INFO) | time: 6.170000e+00\r"
     ]
    },
    {
     "name": "stderr",
     "output_type": "stream",
     "text": [
      "dream.scalar_transport.time.imex (INFO) | time: 6.180000e+00\r"
     ]
    },
    {
     "name": "stderr",
     "output_type": "stream",
     "text": [
      "dream.scalar_transport.time.imex (INFO) | time: 6.190000e+00\r"
     ]
    },
    {
     "name": "stderr",
     "output_type": "stream",
     "text": [
      "dream.scalar_transport.time.imex (INFO) | time: 6.200000e+00\r"
     ]
    },
    {
     "name": "stderr",
     "output_type": "stream",
     "text": [
      "dream.scalar_transport.time.imex (INFO) | time: 6.210000e+00\r"
     ]
    },
    {
     "name": "stderr",
     "output_type": "stream",
     "text": [
      "dream.scalar_transport.time.imex (INFO) | time: 6.220000e+00\r"
     ]
    },
    {
     "name": "stderr",
     "output_type": "stream",
     "text": [
      "dream.scalar_transport.time.imex (INFO) | time: 6.230000e+00\r"
     ]
    },
    {
     "name": "stderr",
     "output_type": "stream",
     "text": [
      "dream.scalar_transport.time.imex (INFO) | time: 6.240000e+00\r"
     ]
    },
    {
     "name": "stderr",
     "output_type": "stream",
     "text": [
      "dream.scalar_transport.time.imex (INFO) | time: 6.250000e+00\r"
     ]
    },
    {
     "name": "stderr",
     "output_type": "stream",
     "text": [
      "dream.scalar_transport.time.imex (INFO) | time: 6.260000e+00\r"
     ]
    },
    {
     "name": "stderr",
     "output_type": "stream",
     "text": [
      "dream.scalar_transport.time.imex (INFO) | time: 6.270000e+00\r"
     ]
    },
    {
     "name": "stderr",
     "output_type": "stream",
     "text": [
      "dream.scalar_transport.time.imex (INFO) | time: 6.280000e+00\r"
     ]
    },
    {
     "name": "stderr",
     "output_type": "stream",
     "text": [
      "dream.scalar_transport.time.imex (INFO) | time: 6.290000e+00\r"
     ]
    },
    {
     "name": "stderr",
     "output_type": "stream",
     "text": [
      "dream.scalar_transport.time.imex (INFO) | time: 6.300000e+00\r"
     ]
    },
    {
     "name": "stderr",
     "output_type": "stream",
     "text": [
      "dream.scalar_transport.time.imex (INFO) | time: 6.310000e+00\r"
     ]
    },
    {
     "name": "stderr",
     "output_type": "stream",
     "text": [
      "dream.scalar_transport.time.imex (INFO) | time: 6.320000e+00\r"
     ]
    },
    {
     "name": "stderr",
     "output_type": "stream",
     "text": [
      "dream.scalar_transport.time.imex (INFO) | time: 6.330000e+00\r"
     ]
    },
    {
     "name": "stderr",
     "output_type": "stream",
     "text": [
      "dream.scalar_transport.time.imex (INFO) | time: 6.340000e+00\r"
     ]
    },
    {
     "name": "stderr",
     "output_type": "stream",
     "text": [
      "dream.scalar_transport.time.imex (INFO) | time: 6.350000e+00\r"
     ]
    },
    {
     "name": "stderr",
     "output_type": "stream",
     "text": [
      "dream.scalar_transport.time.imex (INFO) | time: 6.360000e+00\r"
     ]
    },
    {
     "name": "stderr",
     "output_type": "stream",
     "text": [
      "dream.scalar_transport.time.imex (INFO) | time: 6.370000e+00\r"
     ]
    },
    {
     "name": "stderr",
     "output_type": "stream",
     "text": [
      "dream.scalar_transport.time.imex (INFO) | time: 6.380000e+00\r"
     ]
    },
    {
     "name": "stderr",
     "output_type": "stream",
     "text": [
      "dream.scalar_transport.time.imex (INFO) | time: 6.390000e+00\r"
     ]
    },
    {
     "name": "stderr",
     "output_type": "stream",
     "text": [
      "dream.scalar_transport.time.imex (INFO) | time: 6.400000e+00\r"
     ]
    },
    {
     "name": "stderr",
     "output_type": "stream",
     "text": [
      "dream.scalar_transport.time.imex (INFO) | time: 6.410000e+00\r"
     ]
    },
    {
     "name": "stderr",
     "output_type": "stream",
     "text": [
      "dream.scalar_transport.time.imex (INFO) | time: 6.420000e+00\r"
     ]
    },
    {
     "name": "stderr",
     "output_type": "stream",
     "text": [
      "dream.scalar_transport.time.imex (INFO) | time: 6.430000e+00\r"
     ]
    },
    {
     "name": "stderr",
     "output_type": "stream",
     "text": [
      "dream.scalar_transport.time.imex (INFO) | time: 6.440000e+00\r"
     ]
    },
    {
     "name": "stderr",
     "output_type": "stream",
     "text": [
      "dream.scalar_transport.time.imex (INFO) | time: 6.450000e+00\r"
     ]
    },
    {
     "name": "stderr",
     "output_type": "stream",
     "text": [
      "dream.scalar_transport.time.imex (INFO) | time: 6.460000e+00\r"
     ]
    },
    {
     "name": "stderr",
     "output_type": "stream",
     "text": [
      "dream.scalar_transport.time.imex (INFO) | time: 6.470000e+00\r"
     ]
    },
    {
     "name": "stderr",
     "output_type": "stream",
     "text": [
      "dream.scalar_transport.time.imex (INFO) | time: 6.480000e+00\r"
     ]
    },
    {
     "name": "stderr",
     "output_type": "stream",
     "text": [
      "dream.scalar_transport.time.imex (INFO) | time: 6.490000e+00\r"
     ]
    },
    {
     "name": "stderr",
     "output_type": "stream",
     "text": [
      "dream.scalar_transport.time.imex (INFO) | time: 6.500000e+00\r"
     ]
    },
    {
     "name": "stderr",
     "output_type": "stream",
     "text": [
      "dream.scalar_transport.time.imex (INFO) | time: 6.510000e+00\r"
     ]
    },
    {
     "name": "stderr",
     "output_type": "stream",
     "text": [
      "dream.scalar_transport.time.imex (INFO) | time: 6.520000e+00\r"
     ]
    },
    {
     "name": "stderr",
     "output_type": "stream",
     "text": [
      "dream.scalar_transport.time.imex (INFO) | time: 6.530000e+00\r"
     ]
    },
    {
     "name": "stderr",
     "output_type": "stream",
     "text": [
      "dream.scalar_transport.time.imex (INFO) | time: 6.540000e+00\r"
     ]
    },
    {
     "name": "stderr",
     "output_type": "stream",
     "text": [
      "dream.scalar_transport.time.imex (INFO) | time: 6.550000e+00\r"
     ]
    },
    {
     "name": "stderr",
     "output_type": "stream",
     "text": [
      "dream.scalar_transport.time.imex (INFO) | time: 6.560000e+00\r"
     ]
    },
    {
     "name": "stderr",
     "output_type": "stream",
     "text": [
      "dream.scalar_transport.time.imex (INFO) | time: 6.570000e+00\r"
     ]
    },
    {
     "name": "stderr",
     "output_type": "stream",
     "text": [
      "dream.scalar_transport.time.imex (INFO) | time: 6.580000e+00\r"
     ]
    },
    {
     "name": "stderr",
     "output_type": "stream",
     "text": [
      "dream.scalar_transport.time.imex (INFO) | time: 6.590000e+00\r"
     ]
    },
    {
     "name": "stderr",
     "output_type": "stream",
     "text": [
      "dream.scalar_transport.time.imex (INFO) | time: 6.600000e+00\r"
     ]
    },
    {
     "name": "stderr",
     "output_type": "stream",
     "text": [
      "dream.scalar_transport.time.imex (INFO) | time: 6.610000e+00\r"
     ]
    },
    {
     "name": "stderr",
     "output_type": "stream",
     "text": [
      "dream.scalar_transport.time.imex (INFO) | time: 6.620000e+00\r"
     ]
    },
    {
     "name": "stderr",
     "output_type": "stream",
     "text": [
      "dream.scalar_transport.time.imex (INFO) | time: 6.630000e+00\r"
     ]
    },
    {
     "name": "stderr",
     "output_type": "stream",
     "text": [
      "dream.scalar_transport.time.imex (INFO) | time: 6.640000e+00\r"
     ]
    },
    {
     "name": "stderr",
     "output_type": "stream",
     "text": [
      "dream.scalar_transport.time.imex (INFO) | time: 6.650000e+00\r"
     ]
    },
    {
     "name": "stderr",
     "output_type": "stream",
     "text": [
      "dream.scalar_transport.time.imex (INFO) | time: 6.660000e+00\r"
     ]
    },
    {
     "name": "stderr",
     "output_type": "stream",
     "text": [
      "dream.scalar_transport.time.imex (INFO) | time: 6.670000e+00\r"
     ]
    },
    {
     "name": "stderr",
     "output_type": "stream",
     "text": [
      "dream.scalar_transport.time.imex (INFO) | time: 6.680000e+00\r"
     ]
    },
    {
     "name": "stderr",
     "output_type": "stream",
     "text": [
      "dream.scalar_transport.time.imex (INFO) | time: 6.690000e+00\r"
     ]
    },
    {
     "name": "stderr",
     "output_type": "stream",
     "text": [
      "dream.scalar_transport.time.imex (INFO) | time: 6.700000e+00\r"
     ]
    },
    {
     "name": "stderr",
     "output_type": "stream",
     "text": [
      "dream.scalar_transport.time.imex (INFO) | time: 6.710000e+00\r"
     ]
    },
    {
     "name": "stderr",
     "output_type": "stream",
     "text": [
      "dream.scalar_transport.time.imex (INFO) | time: 6.720000e+00\r"
     ]
    },
    {
     "name": "stderr",
     "output_type": "stream",
     "text": [
      "dream.scalar_transport.time.imex (INFO) | time: 6.730000e+00\r"
     ]
    },
    {
     "name": "stderr",
     "output_type": "stream",
     "text": [
      "dream.scalar_transport.time.imex (INFO) | time: 6.740000e+00\r"
     ]
    },
    {
     "name": "stderr",
     "output_type": "stream",
     "text": [
      "dream.scalar_transport.time.imex (INFO) | time: 6.750000e+00\r"
     ]
    },
    {
     "name": "stderr",
     "output_type": "stream",
     "text": [
      "dream.scalar_transport.time.imex (INFO) | time: 6.760000e+00\r"
     ]
    },
    {
     "name": "stderr",
     "output_type": "stream",
     "text": [
      "dream.scalar_transport.time.imex (INFO) | time: 6.770000e+00\r"
     ]
    },
    {
     "name": "stderr",
     "output_type": "stream",
     "text": [
      "dream.scalar_transport.time.imex (INFO) | time: 6.780000e+00\r"
     ]
    },
    {
     "name": "stderr",
     "output_type": "stream",
     "text": [
      "dream.scalar_transport.time.imex (INFO) | time: 6.790000e+00\r"
     ]
    },
    {
     "name": "stderr",
     "output_type": "stream",
     "text": [
      "dream.scalar_transport.time.imex (INFO) | time: 6.800000e+00\r"
     ]
    },
    {
     "name": "stderr",
     "output_type": "stream",
     "text": [
      "dream.scalar_transport.time.imex (INFO) | time: 6.810000e+00\r"
     ]
    },
    {
     "name": "stderr",
     "output_type": "stream",
     "text": [
      "dream.scalar_transport.time.imex (INFO) | time: 6.820000e+00\r"
     ]
    },
    {
     "name": "stderr",
     "output_type": "stream",
     "text": [
      "dream.scalar_transport.time.imex (INFO) | time: 6.830000e+00\r"
     ]
    },
    {
     "name": "stderr",
     "output_type": "stream",
     "text": [
      "dream.scalar_transport.time.imex (INFO) | time: 6.840000e+00\r"
     ]
    },
    {
     "name": "stderr",
     "output_type": "stream",
     "text": [
      "dream.scalar_transport.time.imex (INFO) | time: 6.850000e+00\r"
     ]
    },
    {
     "name": "stderr",
     "output_type": "stream",
     "text": [
      "dream.scalar_transport.time.imex (INFO) | time: 6.860000e+00\r"
     ]
    },
    {
     "name": "stderr",
     "output_type": "stream",
     "text": [
      "dream.scalar_transport.time.imex (INFO) | time: 6.870000e+00\r"
     ]
    },
    {
     "name": "stderr",
     "output_type": "stream",
     "text": [
      "dream.scalar_transport.time.imex (INFO) | time: 6.880000e+00\r"
     ]
    },
    {
     "name": "stderr",
     "output_type": "stream",
     "text": [
      "dream.scalar_transport.time.imex (INFO) | time: 6.890000e+00\r"
     ]
    },
    {
     "name": "stderr",
     "output_type": "stream",
     "text": [
      "dream.scalar_transport.time.imex (INFO) | time: 6.900000e+00\r"
     ]
    },
    {
     "name": "stderr",
     "output_type": "stream",
     "text": [
      "dream.scalar_transport.time.imex (INFO) | time: 6.910000e+00\r"
     ]
    },
    {
     "name": "stderr",
     "output_type": "stream",
     "text": [
      "dream.scalar_transport.time.imex (INFO) | time: 6.920000e+00\r"
     ]
    },
    {
     "name": "stderr",
     "output_type": "stream",
     "text": [
      "dream.scalar_transport.time.imex (INFO) | time: 6.930000e+00\r"
     ]
    },
    {
     "name": "stderr",
     "output_type": "stream",
     "text": [
      "dream.scalar_transport.time.imex (INFO) | time: 6.940000e+00\r"
     ]
    },
    {
     "name": "stderr",
     "output_type": "stream",
     "text": [
      "dream.scalar_transport.time.imex (INFO) | time: 6.950000e+00\r"
     ]
    },
    {
     "name": "stderr",
     "output_type": "stream",
     "text": [
      "dream.scalar_transport.time.imex (INFO) | time: 6.960000e+00\r"
     ]
    },
    {
     "name": "stderr",
     "output_type": "stream",
     "text": [
      "dream.scalar_transport.time.imex (INFO) | time: 6.970000e+00\r"
     ]
    },
    {
     "name": "stderr",
     "output_type": "stream",
     "text": [
      "dream.scalar_transport.time.imex (INFO) | time: 6.980000e+00\r"
     ]
    },
    {
     "name": "stderr",
     "output_type": "stream",
     "text": [
      "dream.scalar_transport.time.imex (INFO) | time: 6.990000e+00\r"
     ]
    },
    {
     "name": "stderr",
     "output_type": "stream",
     "text": [
      "dream.scalar_transport.time.imex (INFO) | time: 7.000000e+00\r"
     ]
    },
    {
     "name": "stderr",
     "output_type": "stream",
     "text": [
      "dream.scalar_transport.time.imex (INFO) | time: 7.010000e+00\r"
     ]
    },
    {
     "name": "stderr",
     "output_type": "stream",
     "text": [
      "dream.scalar_transport.time.imex (INFO) | time: 7.020000e+00\r"
     ]
    },
    {
     "name": "stderr",
     "output_type": "stream",
     "text": [
      "dream.scalar_transport.time.imex (INFO) | time: 7.030000e+00\r"
     ]
    },
    {
     "name": "stderr",
     "output_type": "stream",
     "text": [
      "dream.scalar_transport.time.imex (INFO) | time: 7.040000e+00\r"
     ]
    },
    {
     "name": "stderr",
     "output_type": "stream",
     "text": [
      "dream.scalar_transport.time.imex (INFO) | time: 7.050000e+00\r"
     ]
    },
    {
     "name": "stderr",
     "output_type": "stream",
     "text": [
      "dream.scalar_transport.time.imex (INFO) | time: 7.060000e+00\r"
     ]
    },
    {
     "name": "stderr",
     "output_type": "stream",
     "text": [
      "dream.scalar_transport.time.imex (INFO) | time: 7.070000e+00\r"
     ]
    },
    {
     "name": "stderr",
     "output_type": "stream",
     "text": [
      "dream.scalar_transport.time.imex (INFO) | time: 7.080000e+00\r"
     ]
    },
    {
     "name": "stderr",
     "output_type": "stream",
     "text": [
      "dream.scalar_transport.time.imex (INFO) | time: 7.090000e+00\r"
     ]
    },
    {
     "name": "stderr",
     "output_type": "stream",
     "text": [
      "dream.scalar_transport.time.imex (INFO) | time: 7.100000e+00\r"
     ]
    },
    {
     "name": "stderr",
     "output_type": "stream",
     "text": [
      "dream.scalar_transport.time.imex (INFO) | time: 7.110000e+00\r"
     ]
    },
    {
     "name": "stderr",
     "output_type": "stream",
     "text": [
      "dream.scalar_transport.time.imex (INFO) | time: 7.120000e+00\r"
     ]
    },
    {
     "name": "stderr",
     "output_type": "stream",
     "text": [
      "dream.scalar_transport.time.imex (INFO) | time: 7.130000e+00\r"
     ]
    },
    {
     "name": "stderr",
     "output_type": "stream",
     "text": [
      "dream.scalar_transport.time.imex (INFO) | time: 7.140000e+00\r"
     ]
    },
    {
     "name": "stderr",
     "output_type": "stream",
     "text": [
      "dream.scalar_transport.time.imex (INFO) | time: 7.150000e+00\r"
     ]
    },
    {
     "name": "stderr",
     "output_type": "stream",
     "text": [
      "dream.scalar_transport.time.imex (INFO) | time: 7.160000e+00\r"
     ]
    },
    {
     "name": "stderr",
     "output_type": "stream",
     "text": [
      "dream.scalar_transport.time.imex (INFO) | time: 7.170000e+00\r"
     ]
    },
    {
     "name": "stderr",
     "output_type": "stream",
     "text": [
      "dream.scalar_transport.time.imex (INFO) | time: 7.180000e+00\r"
     ]
    },
    {
     "name": "stderr",
     "output_type": "stream",
     "text": [
      "dream.scalar_transport.time.imex (INFO) | time: 7.190000e+00\r"
     ]
    },
    {
     "name": "stderr",
     "output_type": "stream",
     "text": [
      "dream.scalar_transport.time.imex (INFO) | time: 7.200000e+00\r"
     ]
    },
    {
     "name": "stderr",
     "output_type": "stream",
     "text": [
      "dream.scalar_transport.time.imex (INFO) | time: 7.210000e+00\r"
     ]
    },
    {
     "name": "stderr",
     "output_type": "stream",
     "text": [
      "dream.scalar_transport.time.imex (INFO) | time: 7.220000e+00\r"
     ]
    },
    {
     "name": "stderr",
     "output_type": "stream",
     "text": [
      "dream.scalar_transport.time.imex (INFO) | time: 7.230000e+00\r"
     ]
    },
    {
     "name": "stderr",
     "output_type": "stream",
     "text": [
      "dream.scalar_transport.time.imex (INFO) | time: 7.240000e+00\r"
     ]
    },
    {
     "name": "stderr",
     "output_type": "stream",
     "text": [
      "dream.scalar_transport.time.imex (INFO) | time: 7.250000e+00\r"
     ]
    },
    {
     "name": "stderr",
     "output_type": "stream",
     "text": [
      "dream.scalar_transport.time.imex (INFO) | time: 7.260000e+00\r"
     ]
    },
    {
     "name": "stderr",
     "output_type": "stream",
     "text": [
      "dream.scalar_transport.time.imex (INFO) | time: 7.270000e+00\r"
     ]
    },
    {
     "name": "stderr",
     "output_type": "stream",
     "text": [
      "dream.scalar_transport.time.imex (INFO) | time: 7.280000e+00\r"
     ]
    },
    {
     "name": "stderr",
     "output_type": "stream",
     "text": [
      "dream.scalar_transport.time.imex (INFO) | time: 7.290000e+00\r"
     ]
    },
    {
     "name": "stderr",
     "output_type": "stream",
     "text": [
      "dream.scalar_transport.time.imex (INFO) | time: 7.300000e+00\r"
     ]
    },
    {
     "name": "stderr",
     "output_type": "stream",
     "text": [
      "dream.scalar_transport.time.imex (INFO) | time: 7.310000e+00\r"
     ]
    },
    {
     "name": "stderr",
     "output_type": "stream",
     "text": [
      "dream.scalar_transport.time.imex (INFO) | time: 7.320000e+00\r"
     ]
    },
    {
     "name": "stderr",
     "output_type": "stream",
     "text": [
      "dream.scalar_transport.time.imex (INFO) | time: 7.330000e+00\r"
     ]
    },
    {
     "name": "stderr",
     "output_type": "stream",
     "text": [
      "dream.scalar_transport.time.imex (INFO) | time: 7.340000e+00\r"
     ]
    },
    {
     "name": "stderr",
     "output_type": "stream",
     "text": [
      "dream.scalar_transport.time.imex (INFO) | time: 7.350000e+00\r"
     ]
    },
    {
     "name": "stderr",
     "output_type": "stream",
     "text": [
      "dream.scalar_transport.time.imex (INFO) | time: 7.360000e+00\r"
     ]
    },
    {
     "name": "stderr",
     "output_type": "stream",
     "text": [
      "dream.scalar_transport.time.imex (INFO) | time: 7.370000e+00\r"
     ]
    },
    {
     "name": "stderr",
     "output_type": "stream",
     "text": [
      "dream.scalar_transport.time.imex (INFO) | time: 7.380000e+00\r"
     ]
    },
    {
     "name": "stderr",
     "output_type": "stream",
     "text": [
      "dream.scalar_transport.time.imex (INFO) | time: 7.390000e+00\r"
     ]
    },
    {
     "name": "stderr",
     "output_type": "stream",
     "text": [
      "dream.scalar_transport.time.imex (INFO) | time: 7.400000e+00\r"
     ]
    },
    {
     "name": "stderr",
     "output_type": "stream",
     "text": [
      "dream.scalar_transport.time.imex (INFO) | time: 7.410000e+00\r"
     ]
    },
    {
     "name": "stderr",
     "output_type": "stream",
     "text": [
      "dream.scalar_transport.time.imex (INFO) | time: 7.420000e+00\r"
     ]
    },
    {
     "name": "stderr",
     "output_type": "stream",
     "text": [
      "dream.scalar_transport.time.imex (INFO) | time: 7.430000e+00\r"
     ]
    },
    {
     "name": "stderr",
     "output_type": "stream",
     "text": [
      "dream.scalar_transport.time.imex (INFO) | time: 7.440000e+00\r"
     ]
    },
    {
     "name": "stderr",
     "output_type": "stream",
     "text": [
      "dream.scalar_transport.time.imex (INFO) | time: 7.450000e+00\r"
     ]
    },
    {
     "name": "stderr",
     "output_type": "stream",
     "text": [
      "dream.scalar_transport.time.imex (INFO) | time: 7.460000e+00\r"
     ]
    },
    {
     "name": "stderr",
     "output_type": "stream",
     "text": [
      "dream.scalar_transport.time.imex (INFO) | time: 7.470000e+00\r"
     ]
    },
    {
     "name": "stderr",
     "output_type": "stream",
     "text": [
      "dream.scalar_transport.time.imex (INFO) | time: 7.480000e+00\r"
     ]
    },
    {
     "name": "stderr",
     "output_type": "stream",
     "text": [
      "dream.scalar_transport.time.imex (INFO) | time: 7.490000e+00\r"
     ]
    },
    {
     "name": "stderr",
     "output_type": "stream",
     "text": [
      "dream.scalar_transport.time.imex (INFO) | time: 7.500000e+00\r"
     ]
    },
    {
     "name": "stderr",
     "output_type": "stream",
     "text": [
      "dream.scalar_transport.time.imex (INFO) | time: 7.510000e+00\r"
     ]
    },
    {
     "name": "stderr",
     "output_type": "stream",
     "text": [
      "dream.scalar_transport.time.imex (INFO) | time: 7.520000e+00\r"
     ]
    },
    {
     "name": "stderr",
     "output_type": "stream",
     "text": [
      "dream.scalar_transport.time.imex (INFO) | time: 7.530000e+00\r"
     ]
    },
    {
     "name": "stderr",
     "output_type": "stream",
     "text": [
      "dream.scalar_transport.time.imex (INFO) | time: 7.540000e+00\r"
     ]
    },
    {
     "name": "stderr",
     "output_type": "stream",
     "text": [
      "dream.scalar_transport.time.imex (INFO) | time: 7.550000e+00\r"
     ]
    },
    {
     "name": "stderr",
     "output_type": "stream",
     "text": [
      "dream.scalar_transport.time.imex (INFO) | time: 7.560000e+00\r"
     ]
    },
    {
     "name": "stderr",
     "output_type": "stream",
     "text": [
      "dream.scalar_transport.time.imex (INFO) | time: 7.570000e+00\r"
     ]
    },
    {
     "name": "stderr",
     "output_type": "stream",
     "text": [
      "dream.scalar_transport.time.imex (INFO) | time: 7.580000e+00\r"
     ]
    },
    {
     "name": "stderr",
     "output_type": "stream",
     "text": [
      "dream.scalar_transport.time.imex (INFO) | time: 7.590000e+00\r"
     ]
    },
    {
     "name": "stderr",
     "output_type": "stream",
     "text": [
      "dream.scalar_transport.time.imex (INFO) | time: 7.600000e+00\r"
     ]
    },
    {
     "name": "stderr",
     "output_type": "stream",
     "text": [
      "dream.scalar_transport.time.imex (INFO) | time: 7.610000e+00\r"
     ]
    },
    {
     "name": "stderr",
     "output_type": "stream",
     "text": [
      "dream.scalar_transport.time.imex (INFO) | time: 7.620000e+00\r"
     ]
    },
    {
     "name": "stderr",
     "output_type": "stream",
     "text": [
      "dream.scalar_transport.time.imex (INFO) | time: 7.630000e+00\r"
     ]
    },
    {
     "name": "stderr",
     "output_type": "stream",
     "text": [
      "dream.scalar_transport.time.imex (INFO) | time: 7.640000e+00\r"
     ]
    },
    {
     "name": "stderr",
     "output_type": "stream",
     "text": [
      "dream.scalar_transport.time.imex (INFO) | time: 7.650000e+00\r"
     ]
    },
    {
     "name": "stderr",
     "output_type": "stream",
     "text": [
      "dream.scalar_transport.time.imex (INFO) | time: 7.660000e+00\r"
     ]
    },
    {
     "name": "stderr",
     "output_type": "stream",
     "text": [
      "dream.scalar_transport.time.imex (INFO) | time: 7.670000e+00\r"
     ]
    },
    {
     "name": "stderr",
     "output_type": "stream",
     "text": [
      "dream.scalar_transport.time.imex (INFO) | time: 7.680000e+00\r"
     ]
    },
    {
     "name": "stderr",
     "output_type": "stream",
     "text": [
      "dream.scalar_transport.time.imex (INFO) | time: 7.690000e+00\r"
     ]
    },
    {
     "name": "stderr",
     "output_type": "stream",
     "text": [
      "dream.scalar_transport.time.imex (INFO) | time: 7.700000e+00\r"
     ]
    },
    {
     "name": "stderr",
     "output_type": "stream",
     "text": [
      "dream.scalar_transport.time.imex (INFO) | time: 7.710000e+00\r"
     ]
    },
    {
     "name": "stderr",
     "output_type": "stream",
     "text": [
      "dream.scalar_transport.time.imex (INFO) | time: 7.720000e+00\r"
     ]
    },
    {
     "name": "stderr",
     "output_type": "stream",
     "text": [
      "dream.scalar_transport.time.imex (INFO) | time: 7.730000e+00\r"
     ]
    },
    {
     "name": "stderr",
     "output_type": "stream",
     "text": [
      "dream.scalar_transport.time.imex (INFO) | time: 7.740000e+00\r"
     ]
    },
    {
     "name": "stderr",
     "output_type": "stream",
     "text": [
      "dream.scalar_transport.time.imex (INFO) | time: 7.750000e+00\r"
     ]
    },
    {
     "name": "stderr",
     "output_type": "stream",
     "text": [
      "dream.scalar_transport.time.imex (INFO) | time: 7.760000e+00\r"
     ]
    },
    {
     "name": "stderr",
     "output_type": "stream",
     "text": [
      "dream.scalar_transport.time.imex (INFO) | time: 7.770000e+00\r"
     ]
    },
    {
     "name": "stderr",
     "output_type": "stream",
     "text": [
      "dream.scalar_transport.time.imex (INFO) | time: 7.780000e+00\r"
     ]
    },
    {
     "name": "stderr",
     "output_type": "stream",
     "text": [
      "dream.scalar_transport.time.imex (INFO) | time: 7.790000e+00\r"
     ]
    },
    {
     "name": "stderr",
     "output_type": "stream",
     "text": [
      "dream.scalar_transport.time.imex (INFO) | time: 7.800000e+00\r"
     ]
    },
    {
     "name": "stderr",
     "output_type": "stream",
     "text": [
      "dream.scalar_transport.time.imex (INFO) | time: 7.810000e+00\r"
     ]
    },
    {
     "name": "stderr",
     "output_type": "stream",
     "text": [
      "dream.scalar_transport.time.imex (INFO) | time: 7.820000e+00\r"
     ]
    },
    {
     "name": "stderr",
     "output_type": "stream",
     "text": [
      "dream.scalar_transport.time.imex (INFO) | time: 7.830000e+00\r"
     ]
    },
    {
     "name": "stderr",
     "output_type": "stream",
     "text": [
      "dream.scalar_transport.time.imex (INFO) | time: 7.840000e+00\r"
     ]
    },
    {
     "name": "stderr",
     "output_type": "stream",
     "text": [
      "dream.scalar_transport.time.imex (INFO) | time: 7.850000e+00\r"
     ]
    },
    {
     "data": {
      "image/png": "[encoded data removed]",
      "text/plain": [
       "<Figure size 1500x600 with 1 Axes>"
      ]
     },
     "metadata": {},
     "output_type": "display_data"
    },
    {
     "data": {
      "image/png": "[encoded data removed]",
      "text/plain": [
       "<Figure size 1500x600 with 1 Axes>"
      ]
     },
     "metadata": {},
     "output_type": "display_data"
    }
   ],
   "source": [
    "# Run simulation(s).\n",
    "routines = [implicit_euler_hdg,\n",
    "                      bdf2_hdg,\n",
    "                   sdirk22_hdg,\n",
    "                   sdirk33_hdg]\n",
    "# Figure 1: Linear plot of the relative error in the variance.\n",
    "fig1, ax1 = setup_fig(\"Time\", r\"$s^2_h / s^2_e - 1$\", \"Time Evolution of Relative Variance Error\")\n",
    "\n",
    "# Figure 2: logaraithmic plot of the relative error in the L2-norm.\n",
    "fig2, ax2 = setup_fig(\"Time\", r\"$\\| u_e - u_h \\|$\", r\"Time Evolution of Relative L2-norm $\\| u_e - u_h \\|$\")\n",
    "\n",
    "# Run each simulation.\n",
    "for routine in routines:\n",
    "    print(f\"Running {routine.label}...\")\n",
    "    data = routine(draw_solution=True)\n",
    "    style = get_plot_style(routine.label, method_colors)\n",
    "\n",
    "    ax1.plot(data[:, 0], data[:, 1], **style)\n",
    "    ax2.semilogy(data[:, 0], data[:, 2], **style)\n",
    "\n",
    "# Add IMEX-RK for DG only.\n",
    "data = imex_rk_ars443_dg()\n",
    "ax1.plot(data[:, 0], data[:, 1], label=imex_rk_ars443_dg.label, linestyle='--', color='k')\n",
    "ax2.semilogy(data[:, 0], data[:, 2], label=imex_rk_ars443_dg.label, linestyle='--', color='k')\n",
    "\n",
    "# Final touches.\n",
    "ax1.legend(frameon=False)\n",
    "ax2.legend(loc=\"upper right\", frameon=False)\n",
    "fig1.tight_layout()\n",
    "fig2.tight_layout()\n",
    "plt.show()"
   ]
  },
  {
   "cell_type": "code",
   "execution_count": null,
   "id": "e6b03461",
   "metadata": {},
   "outputs": [],
   "source": []
  }
 ],
 "metadata": {
  "kernelspec": {
   "display_name": "ngspy",
   "language": "python",
   "name": "python3"
  },
  "language_info": {
   "codemirror_mode": {
    "name": "ipython",
    "version": 3
   },
   "file_extension": ".py",
   "mimetype": "text/x-python",
   "name": "python",
   "nbconvert_exporter": "python",
   "pygments_lexer": "ipython3",
   "version": "3.12.3"
  },
  "widgets": {
   "application/vnd.jupyter.widget-state+json": {
    "state": {
     "0aac6d2bb6994837ab44353a68ad8971": {
      "model_module": "webgui_jupyter_widgets",
      "model_module_version": "0.2.31",
      "model_name": "WebguiModel",
      "state": {
       "_dom_classes": [],
       "_model_module": "webgui_jupyter_widgets",
       "_model_module_version": "0.2.31",
       "_model_name": "WebguiModel",
       "_view_count": null,
       "_view_module": "webgui_jupyter_widgets",
       "_view_module_version": "0.2.31",
       "_view_name": "WebguiDocuView",
       "layout": "IPY_MODEL_29ffa2ffaf7546e597ba68d7ee5a19d4",
       "tabbable": null,
       "tooltip": null,
       "value": {
        "preview": "preview_4.png",
        "render_data": "render_data_4.json"
       }
      }
     },
     "22c68812feb24c519ec562e4e2ae01aa": {
      "model_module": "@jupyter-widgets/base",
      "model_module_version": "2.0.0",
      "model_name": "LayoutModel",
      "state": {
       "_model_module": "@jupyter-widgets/base",
       "_model_module_version": "2.0.0",
       "_model_name": "LayoutModel",
       "_view_count": null,
       "_view_module": "@jupyter-widgets/base",
       "_view_module_version": "2.0.0",
       "_view_name": "LayoutView",
       "align_content": null,
       "align_items": null,
       "align_self": null,
       "border_bottom": null,
       "border_left": null,
       "border_right": null,
       "border_top": null,
       "bottom": null,
       "display": null,
       "flex": null,
       "flex_flow": null,
       "grid_area": null,
       "grid_auto_columns": null,
       "grid_auto_flow": null,
       "grid_auto_rows": null,
       "grid_column": null,
       "grid_gap": null,
       "grid_row": null,
       "grid_template_areas": null,
       "grid_template_columns": null,
       "grid_template_rows": null,
       "height": null,
       "justify_content": null,
       "justify_items": null,
       "left": null,
       "margin": null,
       "max_height": null,
       "max_width": null,
       "min_height": null,
       "min_width": null,
       "object_fit": null,
       "object_position": null,
       "order": null,
       "overflow": null,
       "padding": null,
       "right": null,
       "top": null,
       "visibility": null,
       "width": null
      }
     },
     "29ffa2ffaf7546e597ba68d7ee5a19d4": {
      "model_module": "@jupyter-widgets/base",
      "model_module_version": "2.0.0",
      "model_name": "LayoutModel",
      "state": {
       "_model_module": "@jupyter-widgets/base",
       "_model_module_version": "2.0.0",
       "_model_name": "LayoutModel",
       "_view_count": null,
       "_view_module": "@jupyter-widgets/base",
       "_view_module_version": "2.0.0",
       "_view_name": "LayoutView",
       "align_content": null,
       "align_items": null,
       "align_self": null,
       "border_bottom": null,
       "border_left": null,
       "border_right": null,
       "border_top": null,
       "bottom": null,
       "display": null,
       "flex": null,
       "flex_flow": null,
       "grid_area": null,
       "grid_auto_columns": null,
       "grid_auto_flow": null,
       "grid_auto_rows": null,
       "grid_column": null,
       "grid_gap": null,
       "grid_row": null,
       "grid_template_areas": null,
       "grid_template_columns": null,
       "grid_template_rows": null,
       "height": null,
       "justify_content": null,
       "justify_items": null,
       "left": null,
       "margin": null,
       "max_height": null,
       "max_width": null,
       "min_height": null,
       "min_width": null,
       "object_fit": null,
       "object_position": null,
       "order": null,
       "overflow": null,
       "padding": null,
       "right": null,
       "top": null,
       "visibility": null,
       "width": null
      }
     },
     "3f23a4d62af942eea51ba8f4432b1641": {
      "model_module": "webgui_jupyter_widgets",
      "model_module_version": "0.2.31",
      "model_name": "WebguiModel",
      "state": {
       "_dom_classes": [],
       "_model_module": "webgui_jupyter_widgets",
       "_model_module_version": "0.2.31",
       "_model_name": "WebguiModel",
       "_view_count": null,
       "_view_module": "webgui_jupyter_widgets",
       "_view_module_version": "0.2.31",
       "_view_name": "WebguiDocuView",
       "layout": "IPY_MODEL_22c68812feb24c519ec562e4e2ae01aa",
       "tabbable": null,
       "tooltip": null,
       "value": {
        "preview": "preview_3.png",
        "render_data": "render_data_3.json"
       }
      }
     },
     "4aff0d20b27b418dadd4abbad6b8354d": {
      "model_module": "webgui_jupyter_widgets",
      "model_module_version": "0.2.31",
      "model_name": "WebguiModel",
      "state": {
       "_dom_classes": [],
       "_model_module": "webgui_jupyter_widgets",
       "_model_module_version": "0.2.31",
       "_model_name": "WebguiModel",
       "_view_count": null,
       "_view_module": "webgui_jupyter_widgets",
       "_view_module_version": "0.2.31",
       "_view_name": "WebguiDocuView",
       "layout": "IPY_MODEL_c5b34ac2102548cb950972b7956d2b93",
       "tabbable": null,
       "tooltip": null,
       "value": {
        "preview": "preview_5.png",
        "render_data": "render_data_5.json"
       }
      }
     },
     "61c064714dec457aa432fb2384b79e00": {
      "model_module": "webgui_jupyter_widgets",
      "model_module_version": "0.2.31",
      "model_name": "WebguiModel",
      "state": {
       "_dom_classes": [],
       "_model_module": "webgui_jupyter_widgets",
       "_model_module_version": "0.2.31",
       "_model_name": "WebguiModel",
       "_view_count": null,
       "_view_module": "webgui_jupyter_widgets",
       "_view_module_version": "0.2.31",
       "_view_name": "WebguiDocuView",
       "layout": "IPY_MODEL_7c44b4e7c73f482ab4b271cef29a4bfa",
       "tabbable": null,
       "tooltip": null,
       "value": {
        "preview": "preview_2.png",
        "render_data": "render_data_2.json"
       }
      }
     },
     "7c44b4e7c73f482ab4b271cef29a4bfa": {
      "model_module": "@jupyter-widgets/base",
      "model_module_version": "2.0.0",
      "model_name": "LayoutModel",
      "state": {
       "_model_module": "@jupyter-widgets/base",
       "_model_module_version": "2.0.0",
       "_model_name": "LayoutModel",
       "_view_count": null,
       "_view_module": "@jupyter-widgets/base",
       "_view_module_version": "2.0.0",
       "_view_name": "LayoutView",
       "align_content": null,
       "align_items": null,
       "align_self": null,
       "border_bottom": null,
       "border_left": null,
       "border_right": null,
       "border_top": null,
       "bottom": null,
       "display": null,
       "flex": null,
       "flex_flow": null,
       "grid_area": null,
       "grid_auto_columns": null,
       "grid_auto_flow": null,
       "grid_auto_rows": null,
       "grid_column": null,
       "grid_gap": null,
       "grid_row": null,
       "grid_template_areas": null,
       "grid_template_columns": null,
       "grid_template_rows": null,
       "height": null,
       "justify_content": null,
       "justify_items": null,
       "left": null,
       "margin": null,
       "max_height": null,
       "max_width": null,
       "min_height": null,
       "min_width": null,
       "object_fit": null,
       "object_position": null,
       "order": null,
       "overflow": null,
       "padding": null,
       "right": null,
       "top": null,
       "visibility": null,
       "width": null
      }
     },
     "c5b34ac2102548cb950972b7956d2b93": {
      "model_module": "@jupyter-widgets/base",
      "model_module_version": "2.0.0",
      "model_name": "LayoutModel",
      "state": {
       "_model_module": "@jupyter-widgets/base",
       "_model_module_version": "2.0.0",
       "_model_name": "LayoutModel",
       "_view_count": null,
       "_view_module": "@jupyter-widgets/base",
       "_view_module_version": "2.0.0",
       "_view_name": "LayoutView",
       "align_content": null,
       "align_items": null,
       "align_self": null,
       "border_bottom": null,
       "border_left": null,
       "border_right": null,
       "border_top": null,
       "bottom": null,
       "display": null,
       "flex": null,
       "flex_flow": null,
       "grid_area": null,
       "grid_auto_columns": null,
       "grid_auto_flow": null,
       "grid_auto_rows": null,
       "grid_column": null,
       "grid_gap": null,
       "grid_row": null,
       "grid_template_areas": null,
       "grid_template_columns": null,
       "grid_template_rows": null,
       "height": null,
       "justify_content": null,
       "justify_items": null,
       "left": null,
       "margin": null,
       "max_height": null,
       "max_width": null,
       "min_height": null,
       "min_width": null,
       "object_fit": null,
       "object_position": null,
       "order": null,
       "overflow": null,
       "padding": null,
       "right": null,
       "top": null,
       "visibility": null,
       "width": null
      }
     }
    },
    "version_major": 2,
    "version_minor": 0
   }
  }
 },
 "nbformat": 4,
 "nbformat_minor": 5
}
