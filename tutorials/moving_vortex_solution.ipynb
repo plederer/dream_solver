{
 "cells": [
  {
   "cell_type": "markdown",
   "id": "62470326",
   "metadata": {},
   "source": [
    "## Tutorial: Moving vortex in inviscid flow\n",
    "\n",
    "We investigate the non-reflecting behaviour of various outflow boundary conditions for the motion of a vortex with radius $R$ and strength $\\alpha$ in an inviscid flow. The vortex is superimposed on a subsonic ($\\operatorname{Ma}_\\infty < 1$) baseflow $\\bm{u}_\\infty$ and is given by\n",
    "```math\n",
    "    \\begin{align*}\n",
    "    \\psi &= \\frac{\\alpha R}{\\operatorname{Ma}_\\infty}  e^{\\frac{1 - (r/R)^2}{2}}, &\n",
    "    \\bm{u} &= \\bm{u}_\\infty + \\operatorname{curl}(\\psi), \\\\\n",
    "    \\rho &= \\rho_\\infty \\left(1 - \\frac{\\gamma- 1}{2} \\alpha^2 e^{1 - (r/R)^2}\\right)^{\\frac{1}{\\gamma - 1}}, &\n",
    "    p &= p_\\infty \\left(1 - \\frac{\\gamma- 1}{2} \\alpha^2 e^{1 - (r/R)^2}\\right)^{\\frac{\\gamma}{\\gamma - 1}}.\n",
    "    \\end{align*}\n",
    "```"
   ]
  },
  {
   "cell_type": "code",
   "execution_count": 10,
   "id": "5d05f1c3",
   "metadata": {},
   "outputs": [],
   "source": [
    "import ngsolve as ngs\n",
    "from netgen import occ\n",
    "from ngsolve.webgui import Draw\n",
    "\n",
    "# Import necessary modules\n",
    "from dream.compressible import CompressibleFlowSolver, Initial, flowfields, FarField, Outflow, GRCBC\n",
    "from dream.io import DomainL2Sensor\n",
    "\n",
    "ngs.ngsglobals.msg_level = 0\n",
    "ngs.SetNumThreads(4)"
   ]
  },
  {
   "cell_type": "code",
   "execution_count": 11,
   "id": "fce99566",
   "metadata": {},
   "outputs": [
    {
     "data": {
      "application/vnd.jupyter.widget-view+json": {
       "model_id": "100269b8bb9a410dac442cb3a80b3542",
       "version_major": 2,
       "version_minor": 0
      },
      "text/plain": [
       "WebGuiWidget(layout=Layout(height='500px', width='100%'), value={'gui_settings': {}, 'ngsolve_version': '6.2.2…"
      ]
     },
     "metadata": {},
     "output_type": "display_data"
    },
    {
     "data": {
      "text/plain": [
       "BaseWebGuiScene"
      ]
     },
     "execution_count": 11,
     "metadata": {},
     "output_type": "execute_result"
    }
   ],
   "source": [
    "# Create mesh\n",
    "face = occ.WorkPlane().RectangleC(1, 1).Face()\n",
    "for bc, edge in zip(['bottom', 'right', 'top', 'left'], face.edges):\n",
    "    edge.name = bc\n",
    "face.name = \"air\"\n",
    "mesh = ngs.Mesh(occ.OCCGeometry(face, dim=2).GenerateMesh(maxh=0.15))\n",
    "\n",
    "Draw(mesh)"
   ]
  },
  {
   "cell_type": "code",
   "execution_count": 12,
   "id": "38ade728",
   "metadata": {},
   "outputs": [],
   "source": [
    "# Set configuration\n",
    "cfg = CompressibleFlowSolver(mesh)\n",
    "cfg.time = \"transient\"\n",
    "cfg.time.timer.step = 0.01\n",
    "cfg.time.timer.interval = (0, 1)\n",
    "\n",
    "cfg.fem = \"conservative\"\n",
    "cfg.fem.order = 4\n",
    "cfg.fem.method = \"hdg\"\n",
    "cfg.fem.mixed_method = \"inactive\"\n",
    "cfg.fem.scheme = \"bdf2\"\n",
    "\n",
    "cfg.mach_number = 0.3  # TODO: Use various value for the mach number\n",
    "cfg.equation_of_state = \"ideal\"\n",
    "cfg.equation_of_state.heat_capacity_ratio = 1.4\n",
    "cfg.riemann_solver = 'upwind'\n",
    "cfg.dynamic_viscosity = \"inviscid\"\n",
    "cfg.scaling = \"aerodynamic\"\n",
    "\n",
    "# cfg.nonlinear_solver = \"pardiso\"\n",
    "cfg.nonlinear_solver.method = \"newton\"\n",
    "cfg.nonlinear_solver.convergence_criterion = 1e-8\n",
    "\n",
    "cfg.optimizations.static_condensation = True\n",
    "\n",
    "cfg.io.log.to_terminal = True\n",
    "cfg.io.sensor.enable = True"
   ]
  },
  {
   "cell_type": "code",
   "execution_count": 13,
   "id": "d152ea51",
   "metadata": {},
   "outputs": [
    {
     "data": {
      "application/vnd.jupyter.widget-view+json": {
       "model_id": "63f02787222d4dbeb0da7d2808d69508",
       "version_major": 2,
       "version_minor": 0
      },
      "text/plain": [
       "WebGuiWidget(layout=Layout(height='500px', width='100%'), value={'gui_settings': {}, 'ngsolve_version': '6.2.2…"
      ]
     },
     "metadata": {},
     "output_type": "display_data"
    },
    {
     "data": {
      "text/plain": [
       "BaseWebGuiScene"
      ]
     },
     "execution_count": 13,
     "metadata": {},
     "output_type": "execute_result"
    }
   ],
   "source": [
    "# Setup boundary and initial fields\n",
    "Uinf = cfg.get_farfield_fields((1, 0))\n",
    "\n",
    "R = 0.1  # Vortex radius\n",
    "ALPHA = 0.03  # Vortex strength\n",
    "\n",
    "\n",
    "def get_exact_solution_fields(x, y) -> flowfields:\n",
    "    r = ngs.sqrt(x**2 + y**2)\n",
    "    G = cfg.equation_of_state.heat_capacity_ratio\n",
    "    PSI = ALPHA/cfg.mach_number * R * ngs.exp((1 - (r/R)**2)/2)\n",
    "\n",
    "    U = flowfields()\n",
    "    U.u = Uinf.u + ngs.CF((PSI.Diff(ngs.y), -PSI.Diff(ngs.x)))\n",
    "    U.p = Uinf.p * (1 - (G - 1)/2 * ALPHA**2 * ngs.exp(1 - (r/R)**2))**(G/(G - 1))\n",
    "    U.rho = Uinf.rho * (1 - (G - 1)/2 * ALPHA**2 * ngs.exp(1 - (r/R)**2))**(1/(G - 1))\n",
    "\n",
    "    return U\n",
    "\n",
    "\n",
    "t = cfg.time.timer.t\n",
    "Ue = get_exact_solution_fields(ngs.x - Uinf.u[0] * t, ngs.y - Uinf.u[1] * t)\n",
    "cfg.dcs['air'] = Initial(Ue)\n",
    "\n",
    "# Draw perturbation velocity\n",
    "Draw(Ue.u - Uinf.u, mesh, \"u\")"
   ]
  },
  {
   "cell_type": "code",
   "execution_count": 14,
   "id": "1df39ccd",
   "metadata": {},
   "outputs": [],
   "source": [
    "# Define a decorator for the moving vortex routine\n",
    "def moving_vortex_routine(func):\n",
    "\n",
    "    def wrapper(*args, **kwargs):\n",
    "\n",
    "        cfg.time.timer.reset()\n",
    "        cfg.io.sensor.list.clear()\n",
    "\n",
    "        # Set logging paths\n",
    "        cfg.io.path = func.__name__\n",
    "\n",
    "        # Clear previous boundary conditions and set new ones\n",
    "        cfg.bcs.clear()\n",
    "        cfg.bcs['top|bottom|left'] = FarField(Uinf)\n",
    "        func(*args, **kwargs)\n",
    "\n",
    "        # Initialize and solve the configuration\n",
    "        cfg.initialize()\n",
    "\n",
    "        # Plot pressure fluctuations\n",
    "        Uh = cfg.get_solution_fields()\n",
    "        cfg.io.draw({\"p'\": (Uh.p - Uinf.p)/Uinf.p}, min=-2e-5, max=2e-5)\n",
    "\n",
    "        l2_fields = flowfields()\n",
    "        l2_fields.rho = Ue.rho - Uh.rho\n",
    "        l2_fields.p = Ue.p - Uh.p\n",
    "        l2_fields.u = Ue.u - Uh.u\n",
    "\n",
    "        l2 = DomainL2Sensor(l2_fields, mesh, \"air\", \"l2\")\n",
    "        cfg.io.sensor.add(l2)\n",
    "\n",
    "        with ngs.TaskManager():\n",
    "            cfg.solve()\n",
    "\n",
    "    return wrapper"
   ]
  },
  {
   "cell_type": "code",
   "execution_count": 15,
   "id": "b43ecec5",
   "metadata": {},
   "outputs": [
    {
     "data": {
      "application/vnd.jupyter.widget-view+json": {
       "model_id": "c3932454b5404b2198cbbeac913ce44e",
       "version_major": 2,
       "version_minor": 0
      },
      "text/plain": [
       "WebGuiWidget(layout=Layout(height='500px', width='100%'), value={'gui_settings': {}, 'ngsolve_version': '6.2.2…"
      ]
     },
     "metadata": {},
     "output_type": "display_data"
    },
    {
     "name": "stderr",
     "output_type": "stream",
     "text": [
      "dream.solver    (INFO) | residual: 4.557044e-17 | iteration: 1 | t: 1.09\r"
     ]
    }
   ],
   "source": [
    "@moving_vortex_routine\n",
    "def farfield():\n",
    "    cfg.bcs['right'] = FarField(Uinf)\n",
    "farfield()"
   ]
  },
  {
   "cell_type": "code",
   "execution_count": 16,
   "id": "f69631f0",
   "metadata": {},
   "outputs": [
    {
     "data": {
      "application/vnd.jupyter.widget-view+json": {
       "model_id": "c7e5e01d61ad41c08fcbbf3edaa34103",
       "version_major": 2,
       "version_minor": 0
      },
      "text/plain": [
       "WebGuiWidget(layout=Layout(height='500px', width='100%'), value={'gui_settings': {}, 'ngsolve_version': '6.2.2…"
      ]
     },
     "metadata": {},
     "output_type": "display_data"
    },
    {
     "name": "stderr",
     "output_type": "stream",
     "text": [
      "dream.solver    (INFO) | residual: 2.541231e-09 | iteration: 1 | t: 1.09\r"
     ]
    }
   ],
   "source": [
    "@moving_vortex_routine\n",
    "def outflow():\n",
    "    cfg.bcs['right'] = Outflow(pressure=Uinf.p)\n",
    "outflow()"
   ]
  },
  {
   "cell_type": "code",
   "execution_count": 17,
   "id": "c549837c",
   "metadata": {},
   "outputs": [
    {
     "data": {
      "application/vnd.jupyter.widget-view+json": {
       "model_id": "7505ca8ae2564e50a4fe45bfbb9e3cc1",
       "version_major": 2,
       "version_minor": 0
      },
      "text/plain": [
       "WebGuiWidget(layout=Layout(height='500px', width='100%'), value={'gui_settings': {}, 'ngsolve_version': '6.2.2…"
      ]
     },
     "metadata": {},
     "output_type": "display_data"
    },
    {
     "name": "stderr",
     "output_type": "stream",
     "text": [
      "dream.solver    (INFO) | residual: 1.056451e-10 | iteration: 1 | t: 1.09\r"
     ]
    }
   ],
   "source": [
    "@moving_vortex_routine\n",
    "def grcbc():\n",
    "    cfg.bcs['right'] = GRCBC(Uinf, \"outflow\", relaxation_factor=0.01, tangential_relaxation=cfg.mach_number)\n",
    "grcbc()"
   ]
  },
  {
   "cell_type": "code",
   "execution_count": 18,
   "id": "fb6de890",
   "metadata": {},
   "outputs": [
    {
     "data": {
      "image/png": "[encoded data removed]",
      "text/plain": [
       "<Figure size 1000x600 with 1 Axes>"
      ]
     },
     "metadata": {},
     "output_type": "display_data"
    }
   ],
   "source": [
    "# Postprocessing: Plot sensor data\n",
    "import matplotlib.pyplot as plt\n",
    "import numpy as np\n",
    "%matplotlib inline\n",
    "\n",
    "fig, ax = plt.subplots(figsize=(10, 6))\n",
    "for folder in [\"farfield\", \"outflow\", \"grcbc\"]:\n",
    "\n",
    "    cfg.io.path = folder\n",
    "    t, data = cfg.io.sensor.load_csv_as_dict(\"l2\")\n",
    "    ax.semilogy(np.array(t, dtype=float), data[('air', 'pressure', 'L2')], label=folder)\n",
    "\n",
    "ax.legend();\n",
    "ax.grid();\n",
    "ax.set_xlabel(r\"$t$\");\n",
    "ax.set_ylabel(r\"$\\| p_h - p_e \\|$\");"
   ]
  },
  {
   "cell_type": "code",
   "execution_count": null,
   "id": "e9cdd7da",
   "metadata": {},
   "outputs": [],
   "source": []
  }
 ],
 "metadata": {
  "kernelspec": {
   "display_name": "ngspy",
   "language": "python",
   "name": "python3"
  },
  "language_info": {
   "codemirror_mode": {
    "name": "ipython",
    "version": 3
   },
   "file_extension": ".py",
   "mimetype": "text/x-python",
   "name": "python",
   "nbconvert_exporter": "python",
   "pygments_lexer": "ipython3",
   "version": "3.12.3"
  }
 },
 "nbformat": 4,
 "nbformat_minor": 5
}
