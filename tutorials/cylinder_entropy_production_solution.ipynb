{
 "cells": [
  {
   "cell_type": "markdown",
   "id": "62470326",
   "metadata": {},
   "source": [
    "## Tutorial: Cylinder entropy production for different Riemann solvers\n",
    "\n",
    "We investigate the entropy production on a cylinder surface for different Riemann solvers in a subsonic compressible flow simulation."
   ]
  },
  {
   "cell_type": "code",
   "execution_count": null,
   "id": "5d05f1c3",
   "metadata": {},
   "outputs": [],
   "source": [
    "import ngsolve as ngs\n",
    "from ngsolve.webgui import Draw\n",
    "\n",
    "# Import necessary modules\n",
    "from dream.compressible import CompressibleFlowSolver, Initial, FarField, InviscidWall\n",
    "from dream.mesh import get_cylinder_omesh\n",
    "\n",
    "ngs.ngsglobals.msg_level = 0\n",
    "ngs.SetNumThreads(4)"
   ]
  },
  {
   "cell_type": "code",
   "execution_count": null,
   "id": "fce99566",
   "metadata": {},
   "outputs": [],
   "source": [
    "# Create mesh\n",
    "mesh = get_cylinder_omesh(1, 8, 32, 16, 1.2)\n",
    "Draw(mesh)"
   ]
  },
  {
   "cell_type": "code",
   "execution_count": null,
   "id": "38ade728",
   "metadata": {},
   "outputs": [],
   "source": [
    "# Set configuration\n",
    "cfg = CompressibleFlowSolver(mesh)\n",
    "cfg.time = \"pseudo_time_stepping\"\n",
    "\n",
    "cfg.fem = \"conservative\"\n",
    "cfg.fem.order = 2\n",
    "cfg.fem.method = \"hdg\"\n",
    "cfg.fem.mixed_method = \"inactive\"\n",
    "cfg.fem.scheme = \"implicit_euler\"\n",
    "\n",
    "cfg.mach_number = 0.3\n",
    "cfg.equation_of_state = \"ideal\"\n",
    "cfg.equation_of_state.heat_capacity_ratio = 1.4\n",
    "cfg.dynamic_viscosity = \"inviscid\"\n",
    "cfg.scaling = \"aerodynamic\"\n",
    "\n",
    "cfg.nonlinear_solver = \"pardiso\"\n",
    "cfg.nonlinear_solver.method = \"newton\"\n",
    "cfg.nonlinear_solver.convergence_criterion = 1e-12\n",
    "cfg.nonlinear_solver.max_iterations = 300\n",
    "\n",
    "cfg.optimizations.static_condensation = True\n",
    "\n",
    "cfg.io.log.to_terminal = True\n",
    "\n",
    "mesh.Curve(cfg.fem.order)"
   ]
  },
  {
   "cell_type": "code",
   "execution_count": null,
   "id": "d152ea51",
   "metadata": {},
   "outputs": [],
   "source": [
    "# Setup boundary and initial fields\n",
    "cfg.bcs.clear()\n",
    "cfg.dcs.clear()\n",
    "\n",
    "Uinf = cfg.get_farfield_fields((1, 0))\n",
    "\n",
    "cfg.bcs['cylinder'] = InviscidWall()\n",
    "cfg.bcs['right|left'] = FarField(Uinf)\n",
    "cfg.dcs['default'] = Initial(Uinf)"
   ]
  },
  {
   "cell_type": "code",
   "execution_count": null,
   "id": "1df39ccd",
   "metadata": {},
   "outputs": [],
   "source": [
    "# Define a decorator for the moving vortex routine\n",
    "def cylinder_entropy_production_routine(func):\n",
    "\n",
    "    def wrapper(*args, **kwargs):\n",
    "        cfg.io.sensor.list.clear()\n",
    "\n",
    "        cfg.time.timer.interval = (0, 100)\n",
    "        cfg.time.timer.step = 0.1\n",
    "        cfg.time.max_time_step = 10\n",
    "        cfg.time.increment_at = 10\n",
    "        cfg.time.increment_factor = 10\n",
    "\n",
    "        # Set logging paths\n",
    "        cfg.io.path = func.__name__\n",
    "\n",
    "        func(*args, **kwargs)\n",
    "\n",
    "        # Initialize and solve the configuration\n",
    "        cfg.initialize()\n",
    "\n",
    "        # Plot pressure fluctuations\n",
    "        Uh = cfg.get_solution_fields()\n",
    "\n",
    "        s_h = cfg.specific_entropy(Uh)\n",
    "        s_inf = cfg.specific_entropy(Uinf)\n",
    "        s_rel = s_h/s_inf - 1\n",
    "\n",
    "        cfg.io.draw({'s_rel': ngs.IfPos(s_rel, s_rel, -s_rel)}, min=0, max=5e-4)\n",
    "\n",
    "        with ngs.TaskManager():\n",
    "            cfg.solve()\n",
    "\n",
    "    return wrapper"
   ]
  },
  {
   "cell_type": "code",
   "execution_count": null,
   "id": "b43ecec5",
   "metadata": {},
   "outputs": [],
   "source": [
    "@cylinder_entropy_production_routine\n",
    "def lax_friedrich():\n",
    "    cfg.riemann_solver = \"lax_friedrich\"\n",
    "lax_friedrich()"
   ]
  },
  {
   "cell_type": "code",
   "execution_count": null,
   "id": "f69631f0",
   "metadata": {},
   "outputs": [],
   "source": [
    "@cylinder_entropy_production_routine\n",
    "def hll():\n",
    "    cfg.riemann_solver = \"hll\"\n",
    "hll()\n"
   ]
  },
  {
   "cell_type": "code",
   "execution_count": null,
   "id": "c549837c",
   "metadata": {},
   "outputs": [],
   "source": [
    "@cylinder_entropy_production_routine\n",
    "def hllem():\n",
    "    cfg.riemann_solver = \"hllem\"\n",
    "hllem()"
   ]
  },
  {
   "cell_type": "code",
   "execution_count": null,
   "id": "df931bdd",
   "metadata": {},
   "outputs": [],
   "source": [
    "@cylinder_entropy_production_routine\n",
    "def roe():\n",
    "    cfg.riemann_solver = \"roe\"\n",
    "roe()"
   ]
  },
  {
   "cell_type": "code",
   "execution_count": null,
   "id": "79371e76",
   "metadata": {},
   "outputs": [],
   "source": [
    "@cylinder_entropy_production_routine\n",
    "def upwind():\n",
    "    cfg.riemann_solver = \"upwind\"\n",
    "upwind()"
   ]
  }
 ],
 "metadata": {
  "kernelspec": {
   "display_name": "ngspy",
   "language": "python",
   "name": "python3"
  },
  "language_info": {
   "codemirror_mode": {
    "name": "ipython",
    "version": 3
   },
   "file_extension": ".py",
   "mimetype": "text/x-python",
   "name": "python",
   "nbconvert_exporter": "python",
   "pygments_lexer": "ipython3",
   "version": "3.12.3"
  }
 },
 "nbformat": 4,
 "nbformat_minor": 5
}
