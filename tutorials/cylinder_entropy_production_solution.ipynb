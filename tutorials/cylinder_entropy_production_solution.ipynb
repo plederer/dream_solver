{
 "cells": [
  {
   "cell_type": "markdown",
   "id": "62470326",
   "metadata": {},
   "source": [
    "## Tutorial: Cylinder entropy production for different Riemann solvers\n",
    "\n",
    "We investigate the entropy production on a cylinder surface for different Riemann solvers in a subsonic compressible flow simulation."
   ]
  },
  {
   "cell_type": "code",
   "execution_count": 1,
   "id": "5d05f1c3",
   "metadata": {},
   "outputs": [],
   "source": [
    "import ngsolve as ngs\n",
    "from ngsolve.webgui import Draw\n",
    "\n",
    "# Import necessary modules\n",
    "from dream.compressible import CompressibleFlowSolver, Initial, FarField, InviscidWall\n",
    "from dream.mesh import get_cylinder_omesh\n",
    "\n",
    "ngs.ngsglobals.msg_level = 0\n",
    "ngs.SetNumThreads(4)"
   ]
  },
  {
   "cell_type": "code",
   "execution_count": 2,
   "id": "fce99566",
   "metadata": {},
   "outputs": [
    {
     "data": {
      "application/vnd.jupyter.widget-view+json": {
       "model_id": "3431b58afea148909c9fa1f7eb20ce80",
       "version_major": 2,
       "version_minor": 0
      },
      "text/plain": [
       "WebGuiWidget(layout=Layout(height='500px', width='100%'), value={'gui_settings': {}, 'ngsolve_version': '6.2.2…"
      ]
     },
     "metadata": {},
     "output_type": "display_data"
    },
    {
     "data": {
      "text/plain": [
       "BaseWebGuiScene"
      ]
     },
     "execution_count": 2,
     "metadata": {},
     "output_type": "execute_result"
    }
   ],
   "source": [
    "# Create mesh\n",
    "mesh = get_cylinder_omesh(1, 8, 32, 16, 1.2)\n",
    "Draw(mesh)"
   ]
  },
  {
   "cell_type": "code",
   "execution_count": 3,
   "id": "38ade728",
   "metadata": {},
   "outputs": [
    {
     "data": {
      "text/plain": [
       "<ngsolve.comp.Mesh at 0x77268918b470>"
      ]
     },
     "execution_count": 3,
     "metadata": {},
     "output_type": "execute_result"
    }
   ],
   "source": [
    "# Set configuration\n",
    "cfg = CompressibleFlowSolver(mesh)\n",
    "cfg.time = \"pseudo_time_stepping\"\n",
    "\n",
    "cfg.fem = \"conservative\"\n",
    "cfg.fem.order = 2\n",
    "cfg.fem.method = \"hdg\"\n",
    "cfg.fem.mixed_method = \"inactive\"\n",
    "cfg.fem.scheme = \"implicit_euler\"\n",
    "\n",
    "cfg.mach_number = 0.3\n",
    "cfg.equation_of_state = \"ideal\"\n",
    "cfg.equation_of_state.heat_capacity_ratio = 1.4\n",
    "cfg.dynamic_viscosity = \"inviscid\"\n",
    "cfg.scaling = \"aerodynamic\"\n",
    "\n",
    "cfg.nonlinear_solver = \"pardiso\"\n",
    "cfg.nonlinear_solver.method = \"newton\"\n",
    "cfg.nonlinear_solver.convergence_criterion = 1e-12\n",
    "cfg.nonlinear_solver.max_iterations = 300\n",
    "\n",
    "cfg.optimizations.static_condensation = True\n",
    "\n",
    "cfg.io.log.to_terminal = True\n",
    "\n",
    "mesh.Curve(cfg.fem.order)"
   ]
  },
  {
   "cell_type": "code",
   "execution_count": 4,
   "id": "d152ea51",
   "metadata": {},
   "outputs": [],
   "source": [
    "# Setup boundary and initial fields\n",
    "cfg.bcs.clear()\n",
    "cfg.dcs.clear()\n",
    "\n",
    "Uinf = cfg.get_farfield_fields((1, 0))\n",
    "\n",
    "cfg.bcs['cylinder'] = InviscidWall()\n",
    "cfg.bcs['right|left'] = FarField(Uinf)\n",
    "cfg.dcs['default'] = Initial(Uinf)"
   ]
  },
  {
   "cell_type": "code",
   "execution_count": 5,
   "id": "1df39ccd",
   "metadata": {},
   "outputs": [],
   "source": [
    "# Define a decorator for the moving vortex routine\n",
    "def cylinder_entropy_production_routine(func):\n",
    "\n",
    "    def wrapper(*args, **kwargs):\n",
    "        cfg.io.sensor.list.clear()\n",
    "\n",
    "        cfg.time.timer.interval = (0, 100)\n",
    "        cfg.time.timer.step = 0.1\n",
    "        cfg.time.max_time_step = 10\n",
    "        cfg.time.increment_at = 10\n",
    "        cfg.time.increment_factor = 10\n",
    "\n",
    "        # Set logging paths\n",
    "        cfg.io.path = func.__name__\n",
    "\n",
    "        func(*args, **kwargs)\n",
    "\n",
    "        # Initialize and solve the configuration\n",
    "        cfg.initialize()\n",
    "\n",
    "        # Plot pressure fluctuations\n",
    "        Uh = cfg.get_solution_fields()\n",
    "\n",
    "        s_h = cfg.specific_entropy(Uh)\n",
    "        s_inf = cfg.specific_entropy(Uinf)\n",
    "        s_rel = s_h/s_inf - 1\n",
    "\n",
    "        cfg.io.draw({'s_rel': ngs.IfPos(s_rel, s_rel, -s_rel), 'M': cfg.get_local_mach_number(Uh)})\n",
    "\n",
    "        with ngs.TaskManager():\n",
    "            cfg.solve()\n",
    "\n",
    "    return wrapper"
   ]
  },
  {
   "cell_type": "code",
   "execution_count": 6,
   "id": "b43ecec5",
   "metadata": {},
   "outputs": [
    {
     "data": {
      "application/vnd.jupyter.widget-view+json": {
       "model_id": "a76be7b9372c431d9b56b83abe77111a",
       "version_major": 2,
       "version_minor": 0
      },
      "text/plain": [
       "WebGuiWidget(layout=Layout(height='500px', width='100%'), value={'gui_settings': {}, 'ngsolve_version': '6.2.2…"
      ]
     },
     "metadata": {},
     "output_type": "display_data"
    },
    {
     "data": {
      "application/vnd.jupyter.widget-view+json": {
       "model_id": "ae50823eaa2b4d55afc8255d8c63241a",
       "version_major": 2,
       "version_minor": 0
      },
      "text/plain": [
       "WebGuiWidget(layout=Layout(height='500px', width='100%'), value={'gui_settings': {}, 'ngsolve_version': '6.2.2…"
      ]
     },
     "metadata": {},
     "output_type": "display_data"
    },
    {
     "name": "stderr",
     "output_type": "stream",
     "text": [
      "dream.solver    (INFO) | residual: 8.410121e-13 | iteration: 27 time step 𝚫t = 1.0\r"
     ]
    }
   ],
   "source": [
    "@cylinder_entropy_production_routine\n",
    "def lax_friedrich():\n",
    "    cfg.riemann_solver = \"lax_friedrich\"\n",
    "lax_friedrich()"
   ]
  },
  {
   "cell_type": "code",
   "execution_count": 7,
   "id": "f69631f0",
   "metadata": {},
   "outputs": [
    {
     "data": {
      "application/vnd.jupyter.widget-view+json": {
       "model_id": "1ba52a54a40942d9bc39b6c35c1dbe99",
       "version_major": 2,
       "version_minor": 0
      },
      "text/plain": [
       "WebGuiWidget(layout=Layout(height='500px', width='100%'), value={'gui_settings': {}, 'ngsolve_version': '6.2.2…"
      ]
     },
     "metadata": {},
     "output_type": "display_data"
    },
    {
     "data": {
      "application/vnd.jupyter.widget-view+json": {
       "model_id": "d97866603bd8405f85d40b1231e2b0dc",
       "version_major": 2,
       "version_minor": 0
      },
      "text/plain": [
       "WebGuiWidget(layout=Layout(height='500px', width='100%'), value={'gui_settings': {}, 'ngsolve_version': '6.2.2…"
      ]
     },
     "metadata": {},
     "output_type": "display_data"
    },
    {
     "name": "stderr",
     "output_type": "stream",
     "text": [
      "dream.solver    (INFO) | residual: 8.772724e-13 | iteration: 27 time step 𝚫t = 1.0\r"
     ]
    }
   ],
   "source": [
    "@cylinder_entropy_production_routine\n",
    "def hll():\n",
    "    cfg.riemann_solver = \"hll\"\n",
    "hll()\n"
   ]
  },
  {
   "cell_type": "code",
   "execution_count": 8,
   "id": "c549837c",
   "metadata": {},
   "outputs": [
    {
     "data": {
      "application/vnd.jupyter.widget-view+json": {
       "model_id": "aad0a2eacc2a49f88e42b33fafe76fcc",
       "version_major": 2,
       "version_minor": 0
      },
      "text/plain": [
       "WebGuiWidget(layout=Layout(height='500px', width='100%'), value={'gui_settings': {}, 'ngsolve_version': '6.2.2…"
      ]
     },
     "metadata": {},
     "output_type": "display_data"
    },
    {
     "data": {
      "application/vnd.jupyter.widget-view+json": {
       "model_id": "55b383b91c784819971ef8cfffe1efcb",
       "version_major": 2,
       "version_minor": 0
      },
      "text/plain": [
       "WebGuiWidget(layout=Layout(height='500px', width='100%'), value={'gui_settings': {}, 'ngsolve_version': '6.2.2…"
      ]
     },
     "metadata": {},
     "output_type": "display_data"
    },
    {
     "name": "stderr",
     "output_type": "stream",
     "text": [
      "dream.solver    (INFO) | residual: 9.246125e-13 | iteration: 27 time step 𝚫t = 1.0\r"
     ]
    }
   ],
   "source": [
    "@cylinder_entropy_production_routine\n",
    "def hllem():\n",
    "    cfg.riemann_solver = \"hllem\"\n",
    "hllem()"
   ]
  },
  {
   "cell_type": "code",
   "execution_count": 9,
   "id": "df931bdd",
   "metadata": {},
   "outputs": [
    {
     "data": {
      "application/vnd.jupyter.widget-view+json": {
       "model_id": "3fa4cb45a9214928889d8a7f93fabbd7",
       "version_major": 2,
       "version_minor": 0
      },
      "text/plain": [
       "WebGuiWidget(layout=Layout(height='500px', width='100%'), value={'gui_settings': {}, 'ngsolve_version': '6.2.2…"
      ]
     },
     "metadata": {},
     "output_type": "display_data"
    },
    {
     "data": {
      "application/vnd.jupyter.widget-view+json": {
       "model_id": "af7bf324e6e14ad8bbd85cbc5d61362f",
       "version_major": 2,
       "version_minor": 0
      },
      "text/plain": [
       "WebGuiWidget(layout=Layout(height='500px', width='100%'), value={'gui_settings': {}, 'ngsolve_version': '6.2.2…"
      ]
     },
     "metadata": {},
     "output_type": "display_data"
    },
    {
     "name": "stderr",
     "output_type": "stream",
     "text": [
      "dream.solver    (INFO) | residual: 8.771609e-13 | iteration: 27 time step 𝚫t = 1.0\r"
     ]
    }
   ],
   "source": [
    "@cylinder_entropy_production_routine\n",
    "def roe():\n",
    "    cfg.riemann_solver = \"roe\"\n",
    "roe()"
   ]
  },
  {
   "cell_type": "code",
   "execution_count": 10,
   "id": "79371e76",
   "metadata": {},
   "outputs": [
    {
     "data": {
      "application/vnd.jupyter.widget-view+json": {
       "model_id": "f2b023e3303f42c589333467ecb8c67b",
       "version_major": 2,
       "version_minor": 0
      },
      "text/plain": [
       "WebGuiWidget(layout=Layout(height='500px', width='100%'), value={'gui_settings': {}, 'ngsolve_version': '6.2.2…"
      ]
     },
     "metadata": {},
     "output_type": "display_data"
    },
    {
     "data": {
      "application/vnd.jupyter.widget-view+json": {
       "model_id": "5a3049d5dacb420694fc3601a7d91550",
       "version_major": 2,
       "version_minor": 0
      },
      "text/plain": [
       "WebGuiWidget(layout=Layout(height='500px', width='100%'), value={'gui_settings': {}, 'ngsolve_version': '6.2.2…"
      ]
     },
     "metadata": {},
     "output_type": "display_data"
    },
    {
     "name": "stderr",
     "output_type": "stream",
     "text": [
      "dream.solver    (INFO) | residual: 4.919218e-14 | iteration: 28 time step 𝚫t = 1.0\r"
     ]
    }
   ],
   "source": [
    "@cylinder_entropy_production_routine\n",
    "def upwind():\n",
    "    cfg.riemann_solver = \"upwind\"\n",
    "upwind()"
   ]
  }
 ],
 "metadata": {
  "kernelspec": {
   "display_name": "ngspy",
   "language": "python",
   "name": "python3"
  },
  "language_info": {
   "codemirror_mode": {
    "name": "ipython",
    "version": 3
   },
   "file_extension": ".py",
   "mimetype": "text/x-python",
   "name": "python",
   "nbconvert_exporter": "python",
   "pygments_lexer": "ipython3",
   "version": "3.12.3"
  }
 },
 "nbformat": 4,
 "nbformat_minor": 5
}
