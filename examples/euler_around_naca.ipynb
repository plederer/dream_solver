{
 "cells": [
  {
   "cell_type": "markdown",
   "id": "494717cd",
   "metadata": {},
   "source": [
    "## Flow around NACA 0012 airfoil"
   ]
  },
  {
   "cell_type": "code",
   "execution_count": null,
   "id": "fa492a0d",
   "metadata": {},
   "outputs": [],
   "source": [
    "# Import modules\n",
    "import numpy as np\n",
    "import ngsolve as ngs\n",
    "import netgen.occ as occ\n",
    "from ngsolve.webgui import Draw\n",
    "from dream.mesh import get_2d_naca_occ_profile\n",
    "from dream.compressible import CompressibleFlowSolver, FarField, InviscidWall, Initial\n",
    "from dream.io import PointSensor, BoundarySensor"
   ]
  },
  {
   "cell_type": "code",
   "execution_count": null,
   "id": "bfa88091",
   "metadata": {},
   "outputs": [],
   "source": [
    "# Create Geometry\n",
    "AoA = 0\n",
    "LE = (-0.5, 0)\n",
    "\n",
    "air = occ.WorkPlane().Circle(0, 0, 2).Face()\n",
    "for edge in air.edges:\n",
    "    edge.name = \"farfield\"\n",
    "airfoil = get_2d_naca_occ_profile('0012', AoA, LE=LE, n=200)\n",
    "for edge in airfoil.edges:\n",
    "    edge.name = \"airfoil\"\n",
    "    edge.maxh = 0.025\n",
    "\n",
    "air -= airfoil\n",
    "air.faces[0].name = \"air\"\n",
    "\n",
    "geo = occ.OCCGeometry(air, dim=2)\n",
    "mesh = ngs.Mesh(geo.GenerateMesh(maxh=0.5, grading=0.2))\n",
    "mesh.Curve(3)\n",
    "Draw(mesh)\n",
    "\n",
    "print(mesh.GetBoundaries())\n",
    "print(mesh.GetMaterials())"
   ]
  },
  {
   "cell_type": "code",
   "execution_count": null,
   "id": "977e8184",
   "metadata": {},
   "outputs": [],
   "source": [
    "cfg = CompressibleFlowSolver(mesh)\n",
    "list(cfg.CONFIG)"
   ]
  },
  {
   "cell_type": "code",
   "execution_count": null,
   "id": "c17d21a7",
   "metadata": {},
   "outputs": [],
   "source": [
    "# Set configuration\n",
    "cfg.mach_number = 0.1\n",
    "cfg.equation_of_state = \"ideal\"\n",
    "cfg.dynamic_viscosity = \"inviscid\"\n",
    "cfg.scaling = \"aerodynamic\"\n",
    "cfg.riemann_solver = \"lax_friedrich\"\n",
    "cfg.optimizations.static_condensation = True\n",
    "\n",
    "cfg.time = \"pseudo_time_stepping\"\n",
    "\n",
    "cfg.fem = \"conservative\"\n",
    "cfg.fem.order = 3\n",
    "cfg.fem.method = \"hdg\"\n",
    "cfg.fem.scheme = \"implicit_euler\"\n",
    "\n",
    "# Curve mesh\n",
    "mesh.Curve(cfg.fem.order)\n",
    "\n",
    "# Get farfield state\n",
    "Uinf = cfg.get_farfield_fields(direction=(1, 0))\n",
    "\n",
    "# Set boundary conditions\n",
    "cfg.bcs['farfield'] = FarField(fields=Uinf)\n",
    "cfg.bcs['airfoil'] = InviscidWall()\n",
    "cfg.dcs['air'] = Initial(fields=Uinf)"
   ]
  },
  {
   "cell_type": "code",
   "execution_count": null,
   "id": "d71a583f",
   "metadata": {},
   "outputs": [],
   "source": [
    "ngs.SetNumThreads(4)\n",
    "\n",
    "cfg.time.timer.step = 0.001\n",
    "cfg.time.max_time_step = 10\n",
    "cfg.time.increment_at = 10\n",
    "cfg.time.increment_factor = 10\n",
    "\n",
    "cfg.nonlinear_solver.max_iterations = 300\n",
    "cfg.nonlinear_solver.convergence_criterion = 1e-12\n",
    "\n",
    "cfg.initialize()\n",
    "with ngs.TaskManager():\n",
    "    cfg.solve()\n",
    "\n",
    "Uh = cfg.get_solution_fields()\n",
    "cfg.io.draw({\"M\": cfg.get_local_mach_number(Uh)})\n"
   ]
  },
  {
   "cell_type": "code",
   "execution_count": null,
   "id": "94c9dc93",
   "metadata": {},
   "outputs": [],
   "source": [
    "cp = PointSensor.from_boundary({'c_p': cfg.pressure_coefficient(Uh, Uinf)}, mesh, 'airfoil')\n",
    "cp_ = cp.measure_as_dict()\n",
    "\n",
    "\n",
    "C = BoundarySensor({\"c_l\": cfg.lift_coefficient(Uh, None, Uinf, (0, 1)), \"c_d\": cfg.drag_coefficient(Uh, None, Uinf, (1, 0))}, mesh, 'airfoil')\n",
    "C_ = C.measure_as_dict()\n",
    "C_"
   ]
  },
  {
   "cell_type": "code",
   "execution_count": null,
   "id": "48175cdf",
   "metadata": {},
   "outputs": [],
   "source": [
    "import matplotlib.pyplot as plt\n",
    "x_ = np.array(list(cp_.keys()))\n",
    "x_ = np.cos(np.deg2rad(AoA)) * (x_[:, 0] - LE[0]) - np.sin(np.deg2rad(AoA)) * (x_[:, 1] - LE[1])\n",
    "values = np.array(list(cp_.values())).flatten()\n",
    "\n",
    "fig, ax = plt.subplots()\n",
    "ax.plot(x_, values, 'o')\n",
    "ax.set_xlabel(r\"$x$\")\n",
    "ax.set_ylabel(r\"$c_p$\")\n",
    "ax.set_title(\"Pressure coefficient over chord length\")"
   ]
  }
 ],
 "metadata": {
  "kernelspec": {
   "display_name": "ngspy",
   "language": "python",
   "name": "python3"
  },
  "language_info": {
   "codemirror_mode": {
    "name": "ipython",
    "version": 3
   },
   "file_extension": ".py",
   "mimetype": "text/x-python",
   "name": "python",
   "nbconvert_exporter": "python",
   "pygments_lexer": "ipython3",
   "version": "3.12.3"
  }
 },
 "nbformat": 4,
 "nbformat_minor": 5
}
