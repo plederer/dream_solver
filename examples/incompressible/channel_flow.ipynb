{
 "cells": [
  {
   "cell_type": "code",
   "execution_count": null,
   "id": "222faab0",
   "metadata": {},
   "outputs": [],
   "source": [
    "import ngsolve as ngs\n",
    "from ngsolve.webgui import Draw\n",
    "import netgen.occ as occ\n",
    "\n",
    "from dream.incompressible import IncompressibleSolver, flowfields, Force\n",
    "import dream.bla as bla\n",
    "\n",
    "# Channel flow\n",
    "H = 2.0\n",
    "\n",
    "face = occ.WorkPlane().RectangleC(3, H).Face()\n",
    "for edge, name in zip(face.edges, [\"bottom\", \"right\", \"top\", \"left\"]):\n",
    "    edge.name = name\n",
    "face.edges[1].Identify(face.edges[3], \"periodic\", occ.IdentificationType.PERIODIC)\n",
    "face.name = \"channel\"\n",
    "geo = occ.OCCGeometry(face, dim=2)\n",
    "mesh = ngs.Mesh(geo.GenerateMesh(maxh=0.1))\n",
    "Draw(mesh)"
   ]
  },
  {
   "cell_type": "code",
   "execution_count": null,
   "id": "da026965",
   "metadata": {},
   "outputs": [],
   "source": [
    "# Set up the solver configuration\n",
    "cfg = IncompressibleSolver(mesh)\n",
    "cfg.time = \"stationary\"\n",
    "cfg.reynolds_number = 1\n",
    "cfg.dynamic_viscosity = \"constant\"\n",
    "\n",
    "cfg.fem = \"taylor-hood\"\n",
    "cfg.fem.order = 2\n",
    "cfg.fem.scheme = \"direct\"\n",
    "\n",
    "cfg.nonlinear_solver.damping_factor = 1\n",
    "cfg.nonlinear_solver.max_iterations = 100"
   ]
  },
  {
   "cell_type": "code",
   "execution_count": null,
   "id": "07f4f3e8",
   "metadata": {},
   "outputs": [],
   "source": [
    "PRESSURE_DROP = 2.0\n",
    "\n",
    "cfg.bcs.clear()\n",
    "cfg.dcs.clear()\n",
    "cfg.bcs['left|right'] = \"periodic\"\n",
    "cfg.bcs['top|bottom'] = \"wall\"\n",
    "cfg.dcs['channel'] = Force((PRESSURE_DROP, 0))"
   ]
  },
  {
   "cell_type": "code",
   "execution_count": null,
   "id": "715d1292",
   "metadata": {},
   "outputs": [],
   "source": [
    "# Initialize the finite element spaces, trial and test functions, gridfunctions, and boundary conditions\n",
    "cfg.initialize()\n",
    "\n",
    "Uh = cfg.get_solution_fields('velocity', default_fields=False)\n",
    "cfg.io.draw(Uh)\n",
    "\n",
    "# Solve solution\n",
    "cfg.solve()\n",
    "\n",
    "cfg.io.undraw()"
   ]
  },
  {
   "cell_type": "code",
   "execution_count": null,
   "id": "0b6f93ba",
   "metadata": {},
   "outputs": [],
   "source": [
    "# Change the viscosity model to power-law fluid\n",
    "cfg.dynamic_viscosity = \"powerlaw\"\n",
    "cfg.dynamic_viscosity.powerlaw_exponent = 1.6\n",
    "\n",
    "\n",
    "# Exact solution for the power-law fluid\n",
    "r = cfg.dynamic_viscosity.powerlaw_exponent\n",
    "dP = PRESSURE_DROP\n",
    "\n",
    "ue = flowfields()\n",
    "ue.u = ((r-1)/r * (dP)**(1/(r-1)) * (H/2)**(r/(r-1)) * (1 - (2*bla.abs(ngs.y)/H)**(r/(r-1))), 0)\n",
    "ue.p = 0\n",
    "\n",
    "Draw(ue.u, mesh, \"exact_velocity\")"
   ]
  },
  {
   "cell_type": "code",
   "execution_count": null,
   "id": "2945c546",
   "metadata": {},
   "outputs": [],
   "source": [
    "cfg.fem.initialize_symbolic_forms()\n",
    "\n",
    "\n",
    "\n",
    "cfg.io.draw(Uh)\n",
    "\n",
    "# Solve the system\n",
    "cfg.solve()\n",
    "\n",
    "cfg.io.undraw()"
   ]
  },
  {
   "cell_type": "code",
   "execution_count": null,
   "id": "514be4d0",
   "metadata": {},
   "outputs": [],
   "source": [
    "# Change the viscosity model to power-law fluid\n",
    "cfg.dynamic_viscosity = \"bingham\"\n",
    "cfg.dynamic_viscosity.yield_stress = 0.5\n",
    "cfg.dynamic_viscosity.kappa = 1e-2\n",
    "\n",
    "\n",
    "cfg.fem.initialize_symbolic_forms()\n",
    "\n",
    "\n",
    "cfg.io.draw(Uh)\n",
    "\n",
    "# Solve the system\n",
    "cfg.solve()\n",
    "\n",
    "cfg.io.undraw()"
   ]
  }
 ],
 "metadata": {
  "kernelspec": {
   "display_name": "ngspy",
   "language": "python",
   "name": "python3"
  },
  "language_info": {
   "codemirror_mode": {
    "name": "ipython",
    "version": 3
   },
   "file_extension": ".py",
   "mimetype": "text/x-python",
   "name": "python",
   "nbconvert_exporter": "python",
   "pygments_lexer": "ipython3",
   "version": "3.12.3"
  }
 },
 "nbformat": 4,
 "nbformat_minor": 5
}
