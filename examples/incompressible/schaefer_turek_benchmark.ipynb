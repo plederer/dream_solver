{
 "cells": [
  {
   "cell_type": "code",
   "execution_count": null,
   "id": "222faab0",
   "metadata": {},
   "outputs": [],
   "source": [
    "import ngsolve as ngs\n",
    "from ngsolve.webgui import Draw\n",
    "import netgen.occ as occ\n",
    "\n",
    "from dream.incompressible import IncompressibleSolver, flowfields, Inflow\n",
    "import dream.bla as bla\n",
    "\n",
    "shape = occ.Rectangle(20, 4.1).Circle(2, 2, 0.5).Reverse().Face()\n",
    "shape.edges.name = \"cyl\"\n",
    "shape.edges.Min(occ.X).name = \"inlet\"\n",
    "shape.edges.Max(occ.X).name = \"outlet\"\n",
    "shape.edges.Min(occ.Y).name = \"wall\"\n",
    "shape.edges.Max(occ.Y).name = \"wall\"\n",
    "mesh = ngs.Mesh(occ.OCCGeometry(shape, dim=2).GenerateMesh(maxh=0.7))\n",
    "Draw(mesh)"
   ]
  },
  {
   "cell_type": "code",
   "execution_count": null,
   "id": "da026965",
   "metadata": {},
   "outputs": [],
   "source": [
    "# Set up the solver configuration\n",
    "cfg = IncompressibleSolver(mesh)\n",
    "cfg.fem = \"taylor-hood\"\n",
    "# cfg.fem = \"hdivhdg\"\n",
    "cfg.time = \"stationary\"\n",
    "\n",
    "cfg.fem.order = 3\n",
    "cfg.fem.scheme = \"direct\"\n",
    "cfg.convection = False\n",
    "\n",
    "cfg.reynolds_number = 100\n",
    "cfg.dynamic_viscosity = \"constant\"\n",
    "\n",
    "mesh.Curve(cfg.fem.order)"
   ]
  },
  {
   "cell_type": "code",
   "execution_count": null,
   "id": "07f4f3e8",
   "metadata": {},
   "outputs": [],
   "source": [
    "cfg.bcs.clear()\n",
    "cfg.dcs.clear()\n",
    "\n",
    "# Set up the boundary conditions\n",
    "cfg.bcs['inlet'] = Inflow(velocity=(1.5*4*ngs.y*(4.1-ngs.y)/(4.1*4.1), 0))  # flowfields(velocity=(1, 0)))\n",
    "cfg.bcs['wall|cyl'] = \"wall\"\n",
    "cfg.bcs['outlet'] = \"outflow\""
   ]
  },
  {
   "cell_type": "code",
   "execution_count": null,
   "id": "715d1292",
   "metadata": {},
   "outputs": [],
   "source": [
    "# Initialize the finite element spaces, trial and test functions, gridfunctions, and boundary conditions\n",
    "cfg.initialize()\n",
    "\n",
    "Uh = cfg.get_solution_fields('velocity', default_fields=False)\n",
    "\n",
    "cfg.io.draw(Uh)\n",
    "with ngs.TaskManager():\n",
    "    cfg.solve()\n",
    "cfg.io.undraw()"
   ]
  },
  {
   "cell_type": "code",
   "execution_count": null,
   "id": "0b6f93ba",
   "metadata": {},
   "outputs": [],
   "source": [
    "cfg.time = \"transient\"\n",
    "cfg.fem.scheme = \"imex\"\n",
    "cfg.time.timer.interval = (0, 100)\n",
    "cfg.time.timer.step = 0.01\n",
    "cfg.convection = True\n",
    "\n",
    "cfg.fem.initialize_time_scheme_gridfunctions()\n",
    "cfg.fem.initialize_symbolic_forms()\n",
    "\n",
    "cfg.io.draw(Uh)\n",
    "with ngs.TaskManager():\n",
    "    cfg.solve()\n",
    "cfg.io.undraw()\n"
   ]
  }
 ],
 "metadata": {
  "kernelspec": {
   "display_name": "ngspy",
   "language": "python",
   "name": "python3"
  },
  "language_info": {
   "codemirror_mode": {
    "name": "ipython",
    "version": 3
   },
   "file_extension": ".py",
   "mimetype": "text/x-python",
   "name": "python",
   "nbconvert_exporter": "python",
   "pygments_lexer": "ipython3",
   "version": "3.12.3"
  }
 },
 "nbformat": 4,
 "nbformat_minor": 5
}
