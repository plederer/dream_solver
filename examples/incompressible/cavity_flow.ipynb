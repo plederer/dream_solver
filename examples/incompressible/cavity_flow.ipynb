{
 "cells": [
  {
   "cell_type": "code",
   "execution_count": null,
   "id": "222faab0",
   "metadata": {},
   "outputs": [],
   "source": [
    "# %%\n",
    "from ngsolve import *\n",
    "from dream.incompressible import IncompressibleSolver, Inflow\n",
    "from ngsolve.webgui import Draw\n",
    "\n",
    "mesh = Mesh(unit_square.GenerateMesh(maxh=0.1))\n",
    "Draw(mesh)"
   ]
  },
  {
   "cell_type": "code",
   "execution_count": null,
   "id": "8618a019",
   "metadata": {},
   "outputs": [],
   "source": [
    "# Set up the solver configuration\n",
    "cfg = IncompressibleSolver(mesh)\n",
    "cfg.time = \"stationary\"\n",
    "\n",
    "cfg.fem = \"taylor-hood\"\n",
    "# cfg.fem = \"hdivhdg\"\n",
    "\n",
    "cfg.fem.scheme = \"direct\"\n",
    "cfg.fem.order = 4\n",
    "\n",
    "cfg.dynamic_viscosity = \"constant\"\n",
    "cfg.convection = False"
   ]
  },
  {
   "cell_type": "code",
   "execution_count": null,
   "id": "07f4f3e8",
   "metadata": {},
   "outputs": [],
   "source": [
    "cfg.bcs.clear()\n",
    "cfg.bcs['top'] = Inflow(velocity=(x**2*(1-x)**2, 0))  # flowfields(velocity=(1, 0)))\n",
    "cfg.bcs['right|left|bottom'] = \"wall\""
   ]
  },
  {
   "cell_type": "code",
   "execution_count": null,
   "id": "715d1292",
   "metadata": {},
   "outputs": [],
   "source": [
    "# Initialize the finite element spaces, trial and test functions, gridfunctions, and boundary conditions\n",
    "cfg.initialize()\n",
    "\n",
    "\n",
    "Uh = cfg.get_solution_fields()\n",
    "cfg.io.draw(Uh)\n",
    "\n",
    "# Solve solution\n",
    "cfg.solve()\n",
    "\n",
    "cfg.io.undraw()"
   ]
  },
  {
   "cell_type": "code",
   "execution_count": null,
   "id": "0b6f93ba",
   "metadata": {},
   "outputs": [],
   "source": [
    "cfg.convection = True\n",
    "cfg.reynolds_number = 1000\n",
    "\n",
    "cfg.fem.initialize_symbolic_forms()\n",
    "\n",
    "cfg.io.draw(Uh)\n",
    "cfg.solve()\n",
    "cfg.io.undraw()\n"
   ]
  }
 ],
 "metadata": {
  "kernelspec": {
   "display_name": "ngspy",
   "language": "python",
   "name": "python3"
  },
  "language_info": {
   "codemirror_mode": {
    "name": "ipython",
    "version": 3
   },
   "file_extension": ".py",
   "mimetype": "text/x-python",
   "name": "python",
   "nbconvert_exporter": "python",
   "pygments_lexer": "ipython3",
   "version": "3.12.3"
  }
 },
 "nbformat": 4,
 "nbformat_minor": 5
}
